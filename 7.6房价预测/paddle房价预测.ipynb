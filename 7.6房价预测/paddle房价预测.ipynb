{
 "cells": [
  {
   "cell_type": "code",
   "execution_count": 78,
   "metadata": {
    "collapsed": false
   },
   "outputs": [
    {
     "name": "stdout",
     "output_type": "stream",
     "text": [
      "data269\r\n"
     ]
    }
   ],
   "source": [
    "# 查看当前挂载的数据集目录, 该目录下的变更重启环境后会自动还原\n",
    "# View dataset directory. \n",
    "# This directory will be recovered automatically after resetting environment. \n",
    "!ls /home/aistudio/data"
   ]
  },
  {
   "cell_type": "code",
   "execution_count": 79,
   "metadata": {
    "collapsed": false
   },
   "outputs": [],
   "source": [
    "# 查看工作区文件, 该目录下的变更将会持久保存. 请及时清理不必要的文件, 避免加载过慢.\n",
    "# View personal work directory. \n",
    "# All changes under this directory will be kept even after reset. \n",
    "# Please clean unnecessary files in time to speed up environment loading. \n",
    "!ls /home/aistudio/work"
   ]
  },
  {
   "cell_type": "code",
   "execution_count": 80,
   "metadata": {
    "collapsed": false
   },
   "outputs": [],
   "source": [
    "# 同时添加如下代码, 这样每次环境(kernel)启动的时候只要运行下方代码即可: \n",
    "# Also add the following code, \n",
    "# so that every time the environment (kernel) starts, \n",
    "# just run the following code: \n",
    "import sys \n",
    "sys.path.append('/home/aistudio/房价预测')"
   ]
  },
  {
   "cell_type": "code",
   "execution_count": 81,
   "metadata": {
    "collapsed": false
   },
   "outputs": [],
   "source": [
    "#加载飞桨、Numpy和相关类库\r\n",
    "import paddle\r\n",
    "from paddle.nn import Linear\r\n",
    "import paddle.nn.functional as F\r\n",
    "import numpy as np\r\n",
    "import os\r\n",
    "import random\r\n",
    "import matplotlib.pyplot as plt"
   ]
  },
  {
   "cell_type": "markdown",
   "metadata": {
    "collapsed": false
   },
   "source": [
    "请点击[此处](https://ai.baidu.com/docs#/AIStudio_Project_Notebook/a38e5576)查看本环境基本用法.  <br>\n",
    "Please click [here ](https://ai.baidu.com/docs#/AIStudio_Project_Notebook/a38e5576) for more detailed instructions. "
   ]
  },
  {
   "cell_type": "code",
   "execution_count": 82,
   "metadata": {
    "collapsed": false
   },
   "outputs": [
    {
     "name": "stdout",
     "output_type": "stream",
     "text": [
      "[[ 0.0307664  -0.00447417]\n",
      " [-0.15769924 -0.08734402]\n",
      " [-0.02947007 -0.09290576]\n",
      " ...\n",
      " [ 0.28860083  0.29641572]\n",
      " [-0.02709311  0.19074275]\n",
      " [ 0.02501169 -0.0206032 ]]\n"
     ]
    }
   ],
   "source": [
    "def load_data():\r\n",
    "    # 读入训练数据\r\n",
    "    datafile = '房价预测/data/data.txt'\r\n",
    "    data = np.loadtxt(datafile,delimiter=',',dtype=np.float32)\r\n",
    "    x,y=data[:,0],data[:,1]\r\n",
    "\r\n",
    "    # 将原数据集拆分成训练集和测试集\r\n",
    "    # 这里使用80%的数据做训练，20%的数据做测试\r\n",
    "    # 测试集和训练集必须是没有交集的\r\n",
    "    ratio = 0.8\r\n",
    "    offset = int(data.shape[0] * ratio)\r\n",
    "    training_data = data[:offset]\r\n",
    "\r\n",
    "    # 计算train数据集的最大值，最小值，平均值\r\n",
    "    maximums, minimums, avgs = training_data.max(axis=0), training_data.min(axis=0), training_data.sum(axis=0) / training_data.shape[0]\r\n",
    "\r\n",
    "    # 记录数据的归一化参数，在预测时对数据做归一化\r\n",
    "    global max_values\r\n",
    "    global min_values\r\n",
    "    global avg_values\r\n",
    "    max_values = maximums\r\n",
    "    min_values = minimums\r\n",
    "    avg_values = avgs\r\n",
    "\r\n",
    "    # 对数据进行归一化处理\r\n",
    "    for i in range(2):\r\n",
    "        data[:, i] = (data[:, i] - avgs[i]) / (maximums[i] - minimums[i])\r\n",
    "\r\n",
    "    # 训练集和测试集的划分比例\r\n",
    "    training_data = data[:offset]\r\n",
    "    test_data = data[offset:]\r\n",
    "    return training_data, test_data\r\n",
    "training_data,test_data=load_data()\r\n",
    "print(training_data)"
   ]
  },
  {
   "cell_type": "code",
   "execution_count": 83,
   "metadata": {
    "collapsed": false
   },
   "outputs": [],
   "source": [
    "class Regressor(paddle.nn.Layer):\r\n",
    "\r\n",
    "    # self代表类的实例自身\r\n",
    "    def __init__(self):\r\n",
    "        # 初始化父类中的一些参数\r\n",
    "        super(Regressor, self).__init__()\r\n",
    "        \r\n",
    "        # 定义一层全连接层，输入维度是1，输出维度是1\r\n",
    "        self.fc = Linear(in_features=1, out_features=1)\r\n",
    "    \r\n",
    "    # 网络的前向计算\r\n",
    "    def forward(self, inputs):\r\n",
    "        x = self.fc(inputs)\r\n",
    "        return x"
   ]
  },
  {
   "cell_type": "code",
   "execution_count": 84,
   "metadata": {
    "collapsed": false
   },
   "outputs": [],
   "source": [
    "# 声明定义好的线性回归模型\r\n",
    "model = Regressor()\r\n",
    "# 开启模型训练模式\r\n",
    "model.train()\r\n",
    "# 加载数据\r\n",
    "training_data, test_data = load_data()\r\n",
    "# 定义优化算法，使用随机梯度下降SGD\r\n",
    "# 学习率设置为0.01\r\n",
    "opt = paddle.optimizer.SGD(learning_rate=0.01, parameters=model.parameters())"
   ]
  },
  {
   "cell_type": "code",
   "execution_count": 91,
   "metadata": {
    "collapsed": false
   },
   "outputs": [
    {
     "name": "stdout",
     "output_type": "stream",
     "text": [
      "epoch: 0, iter: 0, loss is: [0.0072031]\n",
      "epoch: 0, iter: 20, loss is: [0.00558842]\n",
      "epoch: 0, iter: 40, loss is: [0.00358086]\n",
      "epoch: 0, iter: 60, loss is: [0.00634183]\n",
      "epoch: 1, iter: 0, loss is: [0.01599764]\n",
      "epoch: 1, iter: 20, loss is: [0.01044167]\n",
      "epoch: 1, iter: 40, loss is: [0.00613861]\n",
      "epoch: 1, iter: 60, loss is: [0.00264743]\n",
      "epoch: 2, iter: 0, loss is: [0.00483052]\n",
      "epoch: 2, iter: 20, loss is: [0.02642795]\n",
      "epoch: 2, iter: 40, loss is: [0.00342921]\n",
      "epoch: 2, iter: 60, loss is: [0.00501745]\n",
      "epoch: 3, iter: 0, loss is: [0.00243655]\n",
      "epoch: 3, iter: 20, loss is: [0.01108268]\n",
      "epoch: 3, iter: 40, loss is: [0.00482725]\n",
      "epoch: 3, iter: 60, loss is: [0.00542485]\n",
      "epoch: 4, iter: 0, loss is: [0.00321724]\n",
      "epoch: 4, iter: 20, loss is: [0.01176577]\n",
      "epoch: 4, iter: 40, loss is: [0.01239596]\n",
      "epoch: 4, iter: 60, loss is: [0.02354653]\n",
      "epoch: 5, iter: 0, loss is: [0.00696696]\n",
      "epoch: 5, iter: 20, loss is: [0.00900701]\n",
      "epoch: 5, iter: 40, loss is: [0.00649954]\n",
      "epoch: 5, iter: 60, loss is: [0.00819044]\n",
      "epoch: 6, iter: 0, loss is: [0.00675841]\n",
      "epoch: 6, iter: 20, loss is: [0.00876485]\n",
      "epoch: 6, iter: 40, loss is: [0.01143968]\n",
      "epoch: 6, iter: 60, loss is: [0.00653274]\n",
      "epoch: 7, iter: 0, loss is: [0.00741387]\n",
      "epoch: 7, iter: 20, loss is: [0.01640673]\n",
      "epoch: 7, iter: 40, loss is: [0.00490888]\n",
      "epoch: 7, iter: 60, loss is: [0.02363744]\n",
      "epoch: 8, iter: 0, loss is: [0.00947916]\n",
      "epoch: 8, iter: 20, loss is: [0.00517238]\n",
      "epoch: 8, iter: 40, loss is: [0.00964053]\n",
      "epoch: 8, iter: 60, loss is: [0.00799291]\n",
      "epoch: 9, iter: 0, loss is: [0.00328919]\n",
      "epoch: 9, iter: 20, loss is: [0.00512252]\n",
      "epoch: 9, iter: 40, loss is: [0.00485192]\n",
      "epoch: 9, iter: 60, loss is: [0.00470666]\n",
      "700\n"
     ]
    }
   ],
   "source": [
    "EPOCH_NUM = 10   # 设置外层循环次数\r\n",
    "BATCH_SIZE = 10  # 设置batch大小\r\n",
    "Loss=[]\r\n",
    "# 定义外层循环\r\n",
    "for epoch_id in range(EPOCH_NUM):\r\n",
    "    # 在每轮迭代开始之前，将训练数据的顺序随机的打乱\r\n",
    "    np.random.shuffle(training_data)\r\n",
    "    # 将训练数据进行拆分，每个batch包含10条数据\r\n",
    "    mini_batches = [training_data[k:k+BATCH_SIZE] for k in range(0, len(training_data), BATCH_SIZE)]\r\n",
    "    # 定义内层循环\r\n",
    "    for iter_id, mini_batch in enumerate(mini_batches):\r\n",
    "        x = np.array(mini_batch[:, :-1]) # 获得当前批次训练数据\r\n",
    "        y = np.array(mini_batch[:, -1:]) # 获得当前批次训练标签（真实房价）\r\n",
    "        # 将numpy数据转为飞桨动态图tensor形式\r\n",
    "        house_features = paddle.to_tensor(x)\r\n",
    "        prices = paddle.to_tensor(y)\r\n",
    "        \r\n",
    "        # 前向计算\r\n",
    "        predicts = model(house_features)\r\n",
    "        \r\n",
    "        # 计算损失\r\n",
    "        loss = F.square_error_cost(predicts, label=prices)\r\n",
    "        avg_loss = paddle.mean(loss)\r\n",
    "        Loss.append(avg_loss)\r\n",
    "        if iter_id%20==0:\r\n",
    "            print(\"epoch: {}, iter: {}, loss is: {}\".format(epoch_id, iter_id, avg_loss.numpy()))\r\n",
    "        \r\n",
    "        # 反向传播\r\n",
    "        avg_loss.backward()\r\n",
    "        # 最小化loss,更新参数\r\n",
    "        opt.step()\r\n",
    "        # 清除梯度\r\n",
    "        opt.clear_grad()\r\n",
    "print(len(Loss))"
   ]
  },
  {
   "cell_type": "code",
   "execution_count": 96,
   "metadata": {
    "collapsed": false
   },
   "outputs": [
    {
     "data": {
      "image/png": "[encoded data removed]",
      "text/plain": [
       "<Figure size 432x288 with 1 Axes>"
      ]
     },
     "metadata": {},
     "output_type": "display_data"
    }
   ],
   "source": [
    "#绘制损失变化函数曲线\r\n",
    "def plot_gradient_descent(Loss):\r\n",
    "    m=len(Loss)\r\n",
    "    Loss=np.array(Loss)\r\n",
    "    Loss=Loss.reshape((m,))\r\n",
    "    x=[]\r\n",
    "    y=[]\r\n",
    "    for i in range(m):\r\n",
    "        if(i%20==0):\r\n",
    "            x.append(i)\r\n",
    "            y.append(Loss[i])\r\n",
    "    plt.figure()\r\n",
    "    plt.plot(x,y)\r\n",
    "    plt.xlabel('iterations')\r\n",
    "    plt.ylabel('cost')\r\n",
    "\r\n",
    "#画图\r\n",
    "plot_gradient_descent(Loss)\r\n",
    "plt.show()"
   ]
  },
  {
   "cell_type": "code",
   "execution_count": 97,
   "metadata": {
    "collapsed": false
   },
   "outputs": [],
   "source": [
    "def load_one_example():\r\n",
    "    # 从上边已加载的测试集中，随机选择一条作为测试数据\r\n",
    "    idx = np.random.randint(0, test_data.shape[0])\r\n",
    "    idx = -10\r\n",
    "    one_data, label = test_data[idx, :-1], test_data[idx, -1]\r\n",
    "    # 修改该条数据shape为[1,13]\r\n",
    "    one_data =  one_data.reshape([1,-1])\r\n",
    "\r\n",
    "    return one_data, label"
   ]
  },
  {
   "cell_type": "code",
   "execution_count": 98,
   "metadata": {
    "collapsed": false
   },
   "outputs": [
    {
     "name": "stdout",
     "output_type": "stream",
     "text": [
      "模型保存成功，模型参数保存在LR_model.pdparams中\n"
     ]
    }
   ],
   "source": [
    "# 保存模型参数，文件名为LR_model.pdparams\r\n",
    "paddle.save(model.state_dict(), '房价预测/LR_model.pdparams')\r\n",
    "print(\"模型保存成功，模型参数保存在LR_model.pdparams中\")"
   ]
  },
  {
   "cell_type": "code",
   "execution_count": 99,
   "metadata": {
    "collapsed": false
   },
   "outputs": [
    {
     "name": "stdout",
     "output_type": "stream",
     "text": [
      "Inference result is [[1016.65955]], the corresponding label is 850.0\n"
     ]
    }
   ],
   "source": [
    "#参数为保存模型参数的文件地址\r\n",
    "model_dict = paddle.load('房价预测/LR_model.pdparams')\r\n",
    "model.load_dict(model_dict)\r\n",
    "model.eval()\r\n",
    "\r\n",
    "# 参数为数据集的文件地址\r\n",
    "one_data, label = load_one_example()\r\n",
    "# 将数据转为动态图的variable格式 \r\n",
    "one_data = paddle.to_tensor(one_data)\r\n",
    "predict = model(one_data)\r\n",
    "\r\n",
    "# 对结果做反归一化处理\r\n",
    "predict = predict * (max_values[-1] - min_values[-1]) + avg_values[-1]\r\n",
    "# 对label数据做反归一化处理\r\n",
    "label = label * (max_values[-1] - min_values[-1]) + avg_values[-1]\r\n",
    "\r\n",
    "print(\"Inference result is {}, the corresponding label is {}\".format(predict.numpy(), label))"
   ]
  }
 ],
 "metadata": {
  "kernelspec": {
   "display_name": "PaddlePaddle 2.1.0 (Python 3.5)",
   "language": "python",
   "name": "py35-paddle1.2.0"
  },
  "language_info": {
   "codemirror_mode": {
    "name": "ipython",
    "version": 3
   },
   "file_extension": ".py",
   "mimetype": "text/x-python",
   "name": "python",
   "nbconvert_exporter": "python",
   "pygments_lexer": "ipython3",
   "version": "3.7.4"
  }
 },
 "nbformat": 4,
 "nbformat_minor": 1
}
