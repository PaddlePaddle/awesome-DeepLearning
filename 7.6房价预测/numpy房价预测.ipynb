{
 "cells": [
  {
   "cell_type": "code",
   "execution_count": 2,
   "metadata": {
    "collapsed": false
   },
   "outputs": [
    {
     "name": "stdout",
     "output_type": "stream",
     "text": [
      "data269\r\n"
     ]
    }
   ],
   "source": [
    "# 查看当前挂载的数据集目录, 该目录下的变更重启环境后会自动还原\n",
    "# View dataset directory. \n",
    "# This directory will be recovered automatically after resetting environment. \n",
    "!ls /home/aistudio/data"
   ]
  },
  {
   "cell_type": "code",
   "execution_count": 3,
   "metadata": {
    "collapsed": false
   },
   "outputs": [],
   "source": [
    "# 查看工作区文件, 该目录下的变更将会持久保存. 请及时清理不必要的文件, 避免加载过慢.\n",
    "# View personal work directory. \n",
    "# All changes under this directory will be kept even after reset. \n",
    "# Please clean unnecessary files in time to speed up environment loading. \n",
    "!ls /home/aistudio/work"
   ]
  },
  {
   "cell_type": "code",
   "execution_count": 4,
   "metadata": {
    "collapsed": false
   },
   "outputs": [],
   "source": [
    "# 同时添加如下代码, 这样每次环境(kernel)启动的时候只要运行下方代码即可: \n",
    "# Also add the following code, \n",
    "# so that every time the environment (kernel) starts, \n",
    "# just run the following code: \n",
    "import sys \n",
    "sys.path.append('/home/aistudio/房价预测')"
   ]
  },
  {
   "cell_type": "code",
   "execution_count": 5,
   "metadata": {
    "collapsed": false
   },
   "outputs": [
    {
     "name": "stdout",
     "output_type": "stream",
     "text": [
      "[[0.049435 0.2995  ]\n",
      " [0.03437  0.225   ]\n",
      " [0.04462  0.22    ]\n",
      " ...\n",
      " [0.0445   0.3675  ]\n",
      " [0.029765 0.18    ]\n",
      " [0.0485   0.3     ]]\n",
      "[ 199.96 2000.  ]\n"
     ]
    }
   ],
   "source": [
    "# 导入需要用到的package\r\n",
    "import numpy as np\r\n",
    "import json\r\n",
    "import matplotlib.pyplot as plt\r\n",
    "\r\n",
    "# 读入训练数据\r\n",
    "datafile = '房价预测/data/data.txt'\r\n",
    "data = np.loadtxt(datafile,delimiter=',')\r\n",
    "x,y=data[:,0],data[:,1]\r\n",
    "\r\n",
    "#数据归一化\r\n",
    "normdata=np.zeros((len(x),2))\r\n",
    "maximum,minimum=data.max(axis=0),data.min(axis=0)\r\n",
    "for i in range(2):\r\n",
    "    normdata[:, i] = data[:, i]/2000\r\n",
    "print(normdata)\r\n",
    "print(maximum)"
   ]
  },
  {
   "cell_type": "code",
   "execution_count": 6,
   "metadata": {
    "collapsed": false
   },
   "outputs": [
    {
     "data": {
      "image/png": "[encoded data removed]",
      "text/plain": [
       "<Figure size 432x288 with 1 Axes>"
      ]
     },
     "metadata": {},
     "output_type": "display_data"
    }
   ],
   "source": [
    "def plot_data(x, y):\r\n",
    "    \"\"\"绘制给定数据x与y的图像\"\"\"\r\n",
    "    plt.figure()\r\n",
    "    # 绘制x与y的图像\r\n",
    "    # 使用 matplotlib.pyplt 的命令 plot, xlabel, ylabel 等。\r\n",
    "    # 提示：可以使用 'ro' 选项使数据点显示为红色的 \"o\"，\r\n",
    "    #       使用 \"markersize=4, markeredgewidth=1\" 使标记更大\r\n",
    "\r\n",
    "    # 给制数据\r\n",
    "    for i in range(len(x)):\r\n",
    "        plt.plot(x[i],y[i],'ro',markersize=4,markeredgewidth=1)\r\n",
    "    # 设置y轴标题为 'House Price'\r\n",
    "    plt.ylabel('House Price')\r\n",
    "    # 设置x轴标题为 'House Area'\r\n",
    "    plt.xlabel('House Area')\r\n",
    "    # =========================================================\r\n",
    "    plt.show()\r\n",
    "    \r\n",
    "\r\n",
    "# 绘图\r\n",
    "plot_data(x, y)\r\n",
    "plt.show()"
   ]
  },
  {
   "cell_type": "code",
   "execution_count": 12,
   "metadata": {
    "collapsed": false
   },
   "outputs": [],
   "source": [
    "# Add a column of ones to x\r\n",
    "m = len(y)\r\n",
    "#得到归一化后的X和Y进行梯度下降\r\n",
    "X = np.ones((m, 2))\r\n",
    "Y=np.zeros((m,1))\r\n",
    "X[:, 1] = normdata[:, 0]\r\n",
    "Y[:,0]=normdata[:,1]\r\n",
    "\r\n",
    "#未归一化的x1和y计算损失\r\n",
    "x1 = np.ones((m, 2))\r\n",
    "x1[:, 1] = data[:, 0]\r\n",
    "\r\n",
    "# initialize fitting parameters\r\n",
    "theta = np.zeros((2, 1))\r\n",
    "\r\n",
    "# Some gradient descent settings\r\n",
    "iterations = 20000\r\n",
    "alpha = 0.8"
   ]
  },
  {
   "cell_type": "code",
   "execution_count": 8,
   "metadata": {
    "collapsed": false
   },
   "outputs": [
    {
     "name": "stdout",
     "output_type": "stream",
     "text": [
      "[224056.24252874]\n"
     ]
    }
   ],
   "source": [
    "def compute_cost(x1, y, theta):\r\n",
    "    \"\"\"计算线性回归的代价。\"\"\"\r\n",
    "    m = len(y)\r\n",
    "    J = 0.0\r\n",
    "\r\n",
    "    # 计算给定 theta 参数下线性回归的代价\r\n",
    "    ypredict=np.dot(x1,theta)\r\n",
    "    for i in range(m):\r\n",
    "        J=J+np.square(ypredict[i]-y[i])\r\n",
    "    J=J/(2*m)\r\n",
    "    return J\r\n",
    "\r\n",
    "# compute and display initial cost\r\n",
    "J0 = compute_cost(x1, y, theta)\r\n",
    "print(J0)"
   ]
  },
  {
   "cell_type": "code",
   "execution_count": 13,
   "metadata": {
    "collapsed": false
   },
   "outputs": [
    {
     "name": "stdout",
     "output_type": "stream",
     "text": [
      "[[-0.02574864]\n",
      " [ 6.97082121]]\n",
      "[223056.71268745 222778.58865779 222643.23618035 ...  13117.41567188\n",
      "  13117.50864796  13117.60160753]\n"
     ]
    }
   ],
   "source": [
    "def gradient_descent(X, Y, theta, alpha, num_iters,x1,y):\r\n",
    "    \"\"\"执行梯度下降算法来学习参数 theta。\"\"\"\r\n",
    "    m = len(Y)\r\n",
    "    J_history = np.zeros((num_iters,))\r\n",
    "\r\n",
    "    for iter in range(num_iters):\r\n",
    "        # 计算给定 theta 参数下线性回归的梯度，实现梯度下降算法\r\n",
    "        # =========================================================\r\n",
    "        # 将各次迭代后的代价进行记录\r\n",
    "        y1=np.dot(X,theta)\r\n",
    "        g=np.zeros((2,1))\r\n",
    "        g1=0\r\n",
    "        g2=0\r\n",
    "        for i in range(m):\r\n",
    "            g1=g1+(y1[i]-Y[i])\r\n",
    "            g2=g2+(y1[i]-Y[i])*X[i][1]\r\n",
    "        g[0][0]=g1/m\r\n",
    "        g[1][0]=g2/m\r\n",
    "        theta=theta-alpha*g\r\n",
    "        J_history[iter] = compute_cost(x1, y, theta)\r\n",
    "\r\n",
    "    return theta, J_history\r\n",
    "\r\n",
    "# run gradient descent\r\n",
    "theta_final, J_history = gradient_descent(X, Y, theta,alpha, iterations,x1,y)\r\n",
    "print(theta_final)\r\n",
    "print(J_history)"
   ]
  },
  {
   "cell_type": "code",
   "execution_count": 14,
   "metadata": {
    "collapsed": false
   },
   "outputs": [
    {
     "data": {
      "image/png": "[encoded data removed]",
      "text/plain": [
       "<Figure size 432x288 with 1 Axes>"
      ]
     },
     "metadata": {},
     "output_type": "display_data"
    }
   ],
   "source": [
    "def plot_data(x, y,theta_final):\r\n",
    "    \"\"\"绘制给定数据x与y的图像\"\"\"\r\n",
    "    plt.figure()\r\n",
    "    # 绘制x与y的图像\r\n",
    "    # 给制数据\r\n",
    "    for i in range(len(x)):\r\n",
    "        plt.plot(x[i],y[i],'ro',markersize=4,markeredgewidth=1)\r\n",
    "\r\n",
    "    #绘制训练后的拟合直线\r\n",
    "    x1=np.arange(0,200,0.01)\r\n",
    "    y1=theta_final[0]+theta_final[1]*x1\r\n",
    "    plt.plot(x1,y1)\r\n",
    "    \r\n",
    "    # 设置y轴标题为 'House Price'\r\n",
    "    plt.ylabel('House Price')\r\n",
    "    # 设置x轴标题为 'House Area'\r\n",
    "    plt.xlabel('House Area')\r\n",
    "    # =========================================================\r\n",
    "    plt.show()\r\n",
    "    \r\n",
    "\r\n",
    "# 绘图\r\n",
    "plot_data(x, y,theta_final)\r\n",
    "plt.show()"
   ]
  },
  {
   "cell_type": "code",
   "execution_count": 15,
   "metadata": {
    "collapsed": false
   },
   "outputs": [
    {
     "data": {
      "image/png": "[encoded data removed]",
      "text/plain": [
       "<Figure size 432x288 with 1 Axes>"
      ]
     },
     "metadata": {},
     "output_type": "display_data"
    }
   ],
   "source": [
    "#绘制损失变化函数曲线\r\n",
    "def plot_gradient_descent(J_history,iterations):\r\n",
    "    plt.figure()\r\n",
    "    x=[]\r\n",
    "    y=[]\r\n",
    "    for i in range(iterations):\r\n",
    "        if(i%100==0):\r\n",
    "            x.append(i)\r\n",
    "            y.append(J_history[i])\r\n",
    "    plt.plot(x,y)\r\n",
    "    plt.xlabel('iterations(per hundreds)')\r\n",
    "    plt.ylabel('cost')\r\n",
    "\r\n",
    "#画图\r\n",
    "plot_gradient_descent(J_history,iterations)\r\n",
    "plt.show()"
   ]
  }
 ],
 "metadata": {
  "kernelspec": {
   "display_name": "PaddlePaddle 2.1.0 (Python 3.5)",
   "language": "python",
   "name": "py35-paddle1.2.0"
  },
  "language_info": {
   "codemirror_mode": {
    "name": "ipython",
    "version": 3
   },
   "file_extension": ".py",
   "mimetype": "text/x-python",
   "name": "python",
   "nbconvert_exporter": "python",
   "pygments_lexer": "ipython3",
   "version": "3.7.4"
  }
 },
 "nbformat": 4,
 "nbformat_minor": 1
}
