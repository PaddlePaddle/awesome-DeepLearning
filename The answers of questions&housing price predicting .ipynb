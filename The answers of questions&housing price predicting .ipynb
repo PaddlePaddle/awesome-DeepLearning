{
 "cells": [
  {
   "cell_type": "markdown",
   "metadata": {
    "collapsed": false
   },
   "source": [
    "## 深度学习发展历史\n",
    "### 一．深度学习的起源阶段 ：\n",
    "\n",
    "1943年，心理学家麦卡洛克和数学逻辑学家皮兹发表论文《神经活动中内在思想的逻辑演算》，提出了MP模型。MP模型是模仿神经元的结构和工作原理，构成出的一个基于神经网络的数学模型，本质上是一种“模拟人类大脑”的神经元模型。MP模型作为人工神经网络的起源，开创了人工神经网络的新时代，也奠定了神经网络模型的基础。\n",
    "（MP神经元模型）\n",
    "1949年，加拿大著名心理学家唐纳德·赫布在《行为的组织》中提出了一种基于无监督学习的规则——海布学习规则(Hebb Rule)。海布规则模仿人类认知世界的过程建立一种“网络模型”，该网络模型针对训练集进行大量的训练并提取训练集的统计特征，然后按照样本的相似程度进行分类，把相互之间联系密切的样本分为一类，这样就把样本分成了若干类。海布学习规则与“条件反射”机理一致，为以后的神经网络学习算法奠定了基础，具有重大的历史意义。\n",
    "20世纪50年代末，在MP模型和海布学习规则的研究基础上，美国科学家罗森布拉特发现了一种类似于人类学习过程的学习算法——感知机学习。并于1958年，正式提出了由两层神经元组成的神经网络，称之为“感知器”。感知器本质上是一种线性模型，可以对输入的训练集数据进行二分类，且能够在训练集中自动更新权值。感知器的提出吸引了大量科学家对人工神经网络研究的兴趣，对神经网络的发展具有里程碑式的意义。\n",
    " 单层感知器模型：顾名思义就是模仿人类的神经元学习，通过输入测试样本的数据，对建立的神经元模型不断修正，使得模型更加精确。\n",
    "理解：帮助决策，通过对相关因素的权重的确定，加以输入数据，将结果以计算机进行运算和判断，于是得到一个结果。通过输出结果进行对权重的不断调整，从而修正模型，达到“学习”的目的。\n",
    "但随着研究的深入，在1969年，“AI之父”马文·明斯基和LOGO语言的创始人西蒙·派珀特共同编写了一本书籍《感知器》，在书中他们证明了单层感知器无法解决线性不可分问题（例如：异或问题）。由于这个致命的缺陷以及没有及时推广感知器到多层神经网络中，在20世纪70年代，人工神经网络进入了第一个寒冬期，人们对神经网络的研究也停滞了将近20年。\n",
    "\n",
    "### 二．深度学习发展阶段：\n",
    "\n",
    "1982年，著名物理学家约翰·霍普菲尔德发明了Hopfield神经网络。Hopfield神经网络是一种结合存储系统和二元系统的循环神经网络。Hopfield网络也可以模拟人类的记忆，根据激活函数的选取不同，有连续型和离散型两种类型，分别用于优化计算和联想记忆。“The hippocampal system may be used to guide sequential decision-making by co-representing environment states with the returns achieved from the various possible actions。”但由于容易陷入局部最小值的缺陷，该算法并未在当时引起很大的轰动。\n",
    "直到1986年，深度学习之父杰弗里·辛顿提出了一种适用于多层感知器的反向传播算法——BP算法。BP算法在传统神经网络正向传播的基础上，增加了误差的反向传播过程。反向传播过程不断地调整神经元之间的权值和阈值，直到输出的误差达到减小到允许的范围之内，或达到预先设定的训练次数为止。“Back-propagation is very popular neural network learning algorithm because it is conceptually simple, computationally efficient, and because it often works.”BP算法完美的解决了非线性分类问题，让人工神经网络再次的引起了人们广泛的关注。\n",
    " 理解：权值和阈值不断调整的过程，就是网络的学习与训练过程，经过信号正向传播与误差反向传播，权值和阈值的调整反复进行，一直进行到预先设定的学习训练次数，或输出误差减小到允许的程度。\n",
    "\n",
    "但是由于八十年代计算机的硬件水平有限，如：运算能力跟不上，这就导致当神经网络的规模增大时，再使用BP算法会出现“梯度消失”的问题。这使得BP算法的发展受到了很大的限制。再加上90年代中期，以SVM为代表的其它浅层机器学习算法被提出，并在分类、回归问题上均取得了很好的效果，其原理又明显不同于神经网络模型，所以人工神经网络的发展再次进入了瓶颈期。\n",
    "\n",
    "\n",
    "### 三．深度学习的爆发阶段：\n",
    "\n",
    "2006年，杰弗里·辛顿以及他的学生鲁斯兰·萨拉赫丁诺夫正式提出了深度学习的概念。他们在世界顶级学术期刊《科学》发表的一篇文章中详细的给出了“梯度消失”问题的解决方案——通过无监督的学习方法逐层训练算法，再使用有监督的反向传播算法进行调优。该深度学习方法的提出，立即在学术圈引起了巨大的反响，以斯坦福大学、多伦多大学为代表的众多世界知名高校纷纷投入巨大的人力、财力进行深度学习领域的相关研究。而后又在迅速蔓延到工业界中。“Supervised learning algorithms are roughly speaking,learning algorithms that learn to associate some input with some output, given a training set of examples of inputs  x,and outputs  y.In many cases the outputs  y may be difficult to collect automatically and must be provided by a huma “supervisor,” but the term still applies even when the training set targets were collected automatically.”"
   ]
  },
  {
   "cell_type": "markdown",
   "metadata": {
    "collapsed": false
   },
   "source": [
    "## 人工智能，机器学习 ，深度学习的区别和联系\n",
    "人工智能（Artificial Intelligence）人工智能是研究、开发用于模拟、延伸和扩展人的智能的理论、方法、技术及应用系统的一门技术科学。“人工智能”是“一门技术科学”，它研究与开发的对象是“理论、技术及应用系统”，研究的目的是为了“模拟、延伸和扩展人的智能”。人工智能在50年代就提出了。\n",
    "\n",
    "机器学习   随着人对计算机科学的期望越来越高，要求它解决的问题越来越复杂，已经远远不能满足人们的诉求了。于是有人提出了一个新的思路——能否不为难研究者，让机器自己去学习呢？机器学习就是用算法解析数据，不断学习，对世界中发生的事做出判断和预测的一项技术。研究人员不会亲手编写软件、确定特殊指令集、然后让程序完成特殊任务；相反，研究人员会用大量数据和算法“训练”机器，让机器学会如何执行任务。这里有三个重要的信息：**1、“机器学习”是“模拟、延伸和扩展人的智能”的一条路径，所以是人工智能的一个子集；2、“机器学习”是要基于大量数据的，也就是说它的“智能”是用大量数据喂出来的；3、正是因为要处理海量数据，所以大数据技术尤为重要；“机器学习”只是大数据技术上的一个应用。常用的10大机器学习算法有：决策树、随机森林、逻辑回归、SVM、朴素贝叶斯、K最近邻算法、K均值算法、Adaboost算法、神经网络、马尔科夫。**\n",
    "\n",
    "深度学习  相较而言，深度学习是一个比较新的概念，严格地说是2006年提出的。深度学习是用于建立、模拟人脑进行分析学习的神经网络，并模仿人脑的机制来解释数据的一种机器学习技术。它的基本特点，是**试图模仿大脑的神经元之间传递，处理信息的模式**。最显著的应用是计算机视觉和自然语言处理(NLP)领域。显然，“深度学习”是与机器学习中的“神经网络”是强相关，“神经网络”也是其主要的算法和手段；或者我们可以将“深度学习”称之为“改良版的神经网络”算法。深度学习又分为卷积神经网络（Convolutional neural networks，简称CNN）和深度置信网（Deep Belief Nets，简称DBN）。其主要的思想就是模拟人的神经元，每个神经元接受到信息，处理完后传递给与之相邻的所有神经元即可。\n",
    "\n",
    "简而言之，三者关系可按照：人工智能，机器学习 ，深度学习的顺序依次包含关系来描述"
   ]
  },
  {
   "cell_type": "markdown",
   "metadata": {
    "collapsed": false
   },
   "source": [
    "## 神经元，单层感知器与多层感知器\n",
    "\n",
    "### 神经元\n",
    "即神经元细胞，是神经系统最基本的结构和功能单位。分为细胞体和突起两部分。细胞体由细胞核、细胞膜、细胞质组成，具有联络和整合输入信息并传出信息的作用。突起有树突和轴突两种。树突短而分枝多，直接由细胞体扩张突出，形成树枝状，其作用是接受其他神经元轴突传来的冲动并传给细胞体。轴突长而分枝少，为粗细均匀的细长突起，常起于轴丘，其作用是接受外来刺激，再由细胞体传出。\n",
    "\n",
    "![](https://ai-studio-static-online.cdn.bcebos.com/5b0f092a75844097912d819ddf024f5b8bbbde62f7094c1c89250e34c4081628)\n",
    "\n",
    "### 感知器\n",
    "\n",
    "感知器是人工神经网络中的一种典型结构， 它的主要的特点是结构简单，对所能解决的问题 存在着收敛算法，并能从数学上严格证明，从而对神经网络研究起了重要的推动作用。\n",
    "感知器，也可翻译为感知机，是Frank Rosenblatt在1957年就职于Cornell航空实验室(Cornell Aeronautical Laboratory)时所发明的一种人工神经网络。它可以被视为一种最简单形式的前馈式人工神经网络，是一种二元线性分类器。\n",
    "\n",
    "Frank Rosenblatt给出了相应的感知器学习算法，常用的有感知机学习、最小二乘法和梯度下降法。譬如，感知机利用梯度下降法对损失函数进行极小化，求出可将训练数据进行线性划分的分离超平面，从而求得感知器模型。\n",
    "\n",
    "感知器是生物神经细胞的简单抽象，神经细胞结构大致可分为：树突、突触、细胞体及轴突。单个神经细胞可被视为一种只有两种状态的机器——激动时为‘是’，而未激动时为‘否’。神经细胞的状态取决于从其它的神经细胞收到的输入信号量，及突触的强度（抑制或加强）。当信号量总和超过了某个阈值时，细胞体就会激动，产生电脉冲。电脉冲沿着轴突并通过突触传递到其它神经元。为了模拟神经细胞行为，与之对应的感知机基础概念被提出，如权量（突触）、偏置（阈值）及激活函数（细胞体）。\n",
    "在人工神经网络领域中，感知器也被指为单层的人工神经网络，以区别于较复杂的多层感知器（Multilayer Perceptron）。 作为一种线性分类器，（单层）感知器可说是最简单的前向人工神经网络形式。尽管结构简单，感知器能够学习并解决相当复杂的问题。感知器主要的本质缺陷是它不能处理线性不可分问题。\n",
    "\n",
    "感知器使用特征向量来表示的前馈式人工神经网络，它是一种二元分类器，把矩阵上的输入（实数值向量）映射到输出值上（一个二元的值）。\n",
    " W是实数的表式权重的向量， Wx是点积,b是偏置，一个不依赖于任何输入值的常数。偏置可以认为是激励函数的偏移量，或者神经元一个基础活跃等级\n",
    " f（x）(0 或 1)用于对输入数据进行分类，看它是肯定的还是否定的，这属于二元分类问题。如果是偏置负的，那么加权后的输入必须产生一个肯定的值并且大于，这样才能令分类神经元大于阈值0。从空间上看，偏置改变了决策边界的位置。\n",
    "由于输入直接经过权重关系转换为输出，所以感知机可以被视为最简单形式的前馈式人工神经网络。\n",
    "\n",
    "![](https://ai-studio-static-online.cdn.bcebos.com/d887fc2dddf2420d8191b95e7801c35ed44f3c8aede74acd85552393eced32d4)\n",
    "\n",
    "\n",
    " 多层感知机（MLP，Multilayer Perceptron）也叫人工神经网络（ANN，Artificial Neural Network），除了输入输出层，它中间可以有多个隐层，最简单的MLP只含一个隐层，即三层的结构，如下图：\n",
    " \n",
    "![](https://ai-studio-static-online.cdn.bcebos.com/21c8cde915ee4a8da866a065c6e67bf4e8a04c99b617426ea1006ae3aa0bb15c)\n",
    " "
   ]
  },
  {
   "cell_type": "markdown",
   "metadata": {
    "collapsed": false
   },
   "source": [
    "## 前向传播和反向传播\n",
    "\n",
    "### 前向传播：各层神经元节点值和参数值的乘积和经过激励函数赋给下一层神经元节点的过程。\n",
    "![](https://ai-studio-static-online.cdn.bcebos.com/08666e9ab28146588a02a721999f3ef57bd3204aadd04eb49e982f8d3a3afa5d)\n",
    "\n",
    "### 反向传播：预测值和真实值之间的误差，基于连续偏导的规则（链式法则）从后层神经元向前层神经元递进并更改参数值的过程。\n",
    "\n",
    "\n",
    "![](https://ai-studio-static-online.cdn.bcebos.com/c6b9c602eae24f108a22c064355be396162ab1f772e444f89fa8a8ebce91b434)\n",
    "\n"
   ]
  },
  {
   "cell_type": "markdown",
   "metadata": {
    "collapsed": false
   },
   "source": [
    "## 使用numpy构建两层全连接神经网络完成波士顿房价预测\n"
   ]
  },
  {
   "cell_type": "code",
   "execution_count": null,
   "metadata": {
    "collapsed": false
   },
   "outputs": [],
   "source": [
    "import numpy as np\r\n",
    "import matplotlib.pyplot as plt"
   ]
  },
  {
   "cell_type": "code",
   "execution_count": null,
   "metadata": {
    "collapsed": false
   },
   "outputs": [],
   "source": [
    "def load_data():\r\n",
    "    # 从文件导入数据\r\n",
    "    datafile = './work/housing.data'\r\n",
    "    data = np.fromfile(datafile, sep=' ')\r\n",
    "\r\n",
    "    # 每条数据包括14项，其中前面13项是影响因素，第14项是相应的房屋价格中位数\r\n",
    "    feature_names = [ 'CRIM', 'ZN', 'INDUS', 'CHAS', 'NOX', 'RM', 'AGE', \\\r\n",
    "                      'DIS', 'RAD', 'TAX', 'PTRATIO', 'B', 'LSTAT', 'MEDV' ]\r\n",
    "    feature_num = len(feature_names)\r\n",
    "\r\n",
    "    # 将原始数据进行Reshape，变成[N, 14]这样的形状\r\n",
    "    data = data.reshape([data.shape[0] // feature_num, feature_num])\r\n",
    "\r\n",
    "    # 将原数据集拆分成训练集和测试集\r\n",
    "    # 这里使用80%的数据做训练，20%的数据做测试\r\n",
    "    # 测试集和训练集必须是没有交集的\r\n",
    "    ratio = 0.8\r\n",
    "    offset = int(data.shape[0] * ratio)\r\n",
    "    training_data = data[:offset]\r\n",
    "\r\n",
    "    # 计算训练集的最大值，最小值，平均值，axis=0即按行计算，寻找样本集中每一列特征的最值|按行求和\r\n",
    "    maximums, minimums, avgs = training_data.max(axis=0), training_data.min(axis=0), \\\r\n",
    "                                 training_data.sum(axis=0) / training_data.shape[0]\r\n",
    "\r\n",
    "    # 对数据进行归一化处理\r\n",
    "    for i in range(feature_num):\r\n",
    "        #print(maximums[i], minimums[i], avgs[i])\r\n",
    "        #在这里是一列一列依次计算\r\n",
    "        data[:, i] = (data[:, i] - minimums[i]) / (maximums[i] - minimums[i])\r\n",
    "\r\n",
    "    # 训练集和测试集的划分比例\r\n",
    "    training_data = data[:offset]\r\n",
    "    test_data = data[offset:]\r\n",
    "    return training_data, test_data"
   ]
  },
  {
   "cell_type": "markdown",
   "metadata": {
    "collapsed": false
   },
   "source": [
    "### 公式一览\n",
    "![](https://ai-studio-static-online.cdn.bcebos.com/b2ccb3ac98a44957936245f11b07ade2309603948c134159aef6853a2ac76e7d)\n",
    "\n"
   ]
  },
  {
   "cell_type": "code",
   "execution_count": null,
   "metadata": {
    "collapsed": false
   },
   "outputs": [
    {
     "data": {
      "image/png": "[encoded data removed]",
      "text/plain": [
       "<Figure size 432x288 with 1 Axes>"
      ]
     },
     "metadata": {},
     "output_type": "display_data"
    },
    {
     "name": "stdout",
     "output_type": "stream",
     "text": [
      "w1 = [[ 1.76404926  0.40015721  0.97777417  2.24219591  1.86746571 -0.97731158\n",
      "   0.95005016 -0.15346005 -0.103369    0.40208633  0.14396145  1.45673282\n",
      "   0.75912513  0.12146509  0.44382765  0.32883265  1.49499232 -0.20520242\n",
      "   0.31175192 -0.86376915]\n",
      " [-2.55298982  0.6536186   0.85697306 -0.7363248   2.2351564  -1.45499324\n",
      "   0.04565298 -0.19571974  1.50585833  1.43196889  0.14580526  0.38814227\n",
      "  -0.88778575 -1.98310829 -0.34791215  0.13476486  1.23339284  1.20237985\n",
      "  -0.39369912 -0.3446079 ]\n",
      " [-1.04868886 -1.42001794 -1.70908915  1.95628799 -0.51485175 -0.43918324\n",
      "  -1.25382378  0.76160282 -1.61998633 -0.28027305 -0.89835816  0.39807618\n",
      "  -0.51999921 -1.1869419  -0.02886313  0.38961162  0.06544387  0.30174861\n",
      "  -0.64922203 -0.43691421]\n",
      " [-0.67246045 -0.35955316 -0.81314628 -1.72623211  0.17502904 -0.40221119\n",
      "  -1.63019835  0.45801605 -0.90821543  0.0311539   0.72451443  0.13441201\n",
      "   1.13142924 -1.23482582  0.40144457 -0.69661402 -0.86911626 -0.57906021\n",
      "  -0.3150473   0.03226679]\n",
      " [-1.16530255  0.90082649  0.46319072 -1.52861162  1.48359974  1.89433392\n",
      "   1.17730486 -0.19702041 -1.08020469  0.98378769 -0.40586056  1.23827951\n",
      "   0.19928583  0.96496654  0.35546932  0.66593169  0.01341457  1.78498699\n",
      "   0.11338572  0.32310288]\n",
      " [ 1.88241057 -1.34775906 -1.27603703  0.97760362 -1.20112835  1.941094\n",
      "  -0.41419394 -0.76853026  1.88677393  1.39059171  1.85543749  0.92038619\n",
      "  -0.86729426  1.89404363 -0.26844873  0.74919166  0.94476783 -0.15540587\n",
      "   0.59305496  0.82344813]\n",
      " [ 0.37579745 -1.09940079  0.29301759  1.33627767 -0.70757354 -0.15225349\n",
      "  -0.43660065  1.82178434  0.64805317  0.29407895 -0.77629702  0.55740755\n",
      "  -0.68640365  0.0129298  -0.6365824   0.61034845  0.57385211 -0.20924974\n",
      "   0.37010379 -1.21975551]\n",
      " [-1.49140293  0.4393917   0.16076707  0.63672603  2.35736717  0.94376542\n",
      "  -0.91293966  1.10955883 -1.33647104 -0.49359253 -0.07482738  1.71492972\n",
      "  -0.74555688 -0.82787045 -0.09850277 -0.68320078  1.12205802 -1.07998405\n",
      "  -1.15716688 -0.47189685]\n",
      " [-0.49818518  1.92953205  0.94534272  0.09650218 -1.23023474  0.84364412\n",
      "  -1.00053413 -1.56201058  1.18050987  0.2450544   0.91695763  0.33722915\n",
      "   0.84436572 -0.65541555 -1.03439885  0.64020366 -0.79808253 -0.68983853\n",
      "  -0.46807799 -0.0638233 ]\n",
      " [-0.35417021 -1.37495129 -0.64895103 -2.21258767  0.61237157 -1.6030691\n",
      "  -1.10502451  0.03057596 -0.75251353  1.4542496  -1.29662573  0.2886274\n",
      "  -0.05191249 -1.17464129  0.52287213 -0.2231524   0.77695756  0.82297576\n",
      "   2.14682417  1.23664831]\n",
      " [-0.3696072  -0.23937918  1.09147777  0.6602921   0.6206981  -1.61810764\n",
      "  -0.02474125 -0.75723614  0.26006144 -0.18082692  0.90097528  0.32559521\n",
      "   0.77609245 -0.47092807 -0.94464667 -0.45962197 -0.02422256  0.37878815\n",
      "   2.23718507 -0.13317613]\n",
      " [-0.95671512 -0.34598178 -0.47449862  0.49364684 -1.58367219  0.05989414\n",
      "   0.1546676   0.19704809 -0.64887815 -0.38627546 -1.43963663 -0.47323359\n",
      "  -0.55422716  0.3956191  -1.15622978  0.69315592  1.48681349 -2.07019663\n",
      "   0.38964371  0.51409687]\n",
      " [-0.6374964  -0.39727181 -0.13585071 -0.293633   -0.31475207 -1.67662765\n",
      "   1.15116588  1.06833092 -0.81963988 -1.51287243  0.51963565 -0.5686151\n",
      "   0.13633763 -0.32354258  0.69120977  0.66804823 -0.72687086 -1.3837875\n",
      "  -1.59349069  0.55863216]]\n",
      " w2 = [[ 0.37077724]\n",
      " [ 0.19705428]\n",
      " [ 0.4532618 ]\n",
      " [-0.11044506]\n",
      " [ 0.73861453]\n",
      " [ 0.01765244]\n",
      " [ 0.51863292]\n",
      " [ 0.17766409]\n",
      " [ 0.49345269]\n",
      " [ 0.57719526]\n",
      " [ 0.63985012]\n",
      " [-0.34625193]\n",
      " [ 0.41595523]\n",
      " [ 0.46205598]\n",
      " [ 0.5359593 ]\n",
      " [ 0.2934862 ]\n",
      " [-0.21856009]\n",
      " [ 0.12332628]\n",
      " [-0.00925399]\n",
      " [ 0.78613239]]\n"
     ]
    }
   ],
   "source": [
    "class Network(object):\r\n",
    "    def __init__(self, num_of_weights):\r\n",
    "        # 随机产生w的初始值\r\n",
    "        # 为了保持程序每次运行结果的一致性，此处设置固定的随机数种子\r\n",
    "        #两层全连接层——————13*20*1\r\n",
    "        np.random.seed(0)       \r\n",
    "        self.n_hidden = 20\r\n",
    "        self.w1 = np.random.randn(num_of_weights,self.n_hidden)  # 设置随机的权重\r\n",
    "        self.b1 = np.zeros(self.n_hidden)  # 这里偏置为0\r\n",
    "        self.w2 = np.random.rand(self.n_hidden,1)  # 这里因为输出只有一个模型，所以输出维度为1\r\n",
    "        self.b2 = np.zeros(1)\r\n",
    "                   \r\n",
    "    def Relu(self,x):\r\n",
    "        return np.where(x < 0,0,x)\r\n",
    "    \r\n",
    "    def MSE_loss(self, y,y_pred):\r\n",
    "        return np.mean(np.square(y_pred - y))\r\n",
    "        \r\n",
    "    def Linear(self,x,w,b):\r\n",
    "        z = x.dot(w) + b\r\n",
    "        return z\r\n",
    "    \r\n",
    "    def back_gradient(self, y_pred, y,s1,a1):\r\n",
    "        #a1=w1x1+b1,s1=relu(a1),y_pred=w2s1+b2\r\n",
    "        grad_y_pred = 2.0 * (y_pred - y)\r\n",
    "        grad_w2 = s1.T.dot(grad_y_pred)\r\n",
    "        grad_s1 = grad_y_pred.dot(self.w2.T)\r\n",
    "        grad_s1[a1 < 0] = 0\r\n",
    "        grad_w1 = x.T.dot(grad_s1) \r\n",
    "        #这里没有管b1和b2\r\n",
    "        return grad_w1, grad_w2\r\n",
    "    \r\n",
    "    def update(self, grad_w1,grad_w2,learning_rate):\r\n",
    "        self.w1 -= learning_rate * grad_w1\r\n",
    "        self.w2 -= learning_rate * grad_w2      \r\n",
    "            \r\n",
    "    def train(self, x, y, iterations, learning_rate):\r\n",
    "        losses = []  # 记录每次迭代损失值\r\n",
    "        for t in range(num_iterations):\r\n",
    "            # 前向传播\r\n",
    "            a1 = self.Linear(x,self.w1,self.b1)\r\n",
    "            s1 = self.Relu(a1)\r\n",
    "            y_pred = self.Linear(s1,self.w2,self.b2)\r\n",
    "            # 计算损失函数\r\n",
    "            loss = self.MSE_loss(y,y_pred)\r\n",
    "            losses.append(loss)\r\n",
    "            # 反向传播\r\n",
    "            grad_w1,grad_w2 = self.back_gradient(y_pred, y,s1,a1)\r\n",
    "            # 权重更新\r\n",
    "            self.update(grad_w1,grad_w2,learning_rate)          \r\n",
    "        return losses\r\n",
    "        \r\n",
    "# 获取数据\r\n",
    "train_data, test_data = load_data()\r\n",
    "x = train_data[:, :-1]\r\n",
    "y = train_data[:, -1:]\r\n",
    "\r\n",
    "# 创建网络\r\n",
    "net = Network(13)\r\n",
    "num_iterations=500\r\n",
    "# 启动训练\r\n",
    "losses = net.train(x,y, iterations = num_iterations, learning_rate = 1e-6)\r\n",
    "\r\n",
    "# 画出损失函数的变化趋势    \r\n",
    "plot_x = np.arange(num_iterations)\r\n",
    "plot_y = np.array(losses)\r\n",
    "plt.rcParams['font.sans-serif'] = ['SimHei']\r\n",
    "plt.plot(plot_x, plot_y)\r\n",
    "plt.xlabel('iteration')\r\n",
    "plt.ylabel('cost')\r\n",
    "plt.show()\r\n",
    "print('w1 = {}\\n w2 = {}'.format(net.w1,net.w2))"
   ]
  },
  {
   "cell_type": "code",
   "execution_count": null,
   "metadata": {
    "collapsed": false
   },
   "outputs": [],
   "source": []
  },
  {
   "cell_type": "markdown",
   "metadata": {
    "collapsed": false
   },
   "source": [
    "# 使用paddle构建两层全连接神经网络完成波士顿房价预测"
   ]
  },
  {
   "cell_type": "code",
   "execution_count": 16,
   "metadata": {
    "collapsed": false
   },
   "outputs": [],
   "source": [
    "\r\n",
    "#加载飞桨、Numpy和相关类库\r\n",
    "import paddle\r\n",
    "from paddle.nn import Linear\r\n",
    "import paddle.nn.functional as F\r\n",
    "import numpy as np\r\n",
    "import os\r\n",
    "import random"
   ]
  },
  {
   "cell_type": "code",
   "execution_count": 28,
   "metadata": {
    "collapsed": false
   },
   "outputs": [],
   "source": [
    "def load_data():\r\n",
    "    # 从文件导入数据\r\n",
    "    datafile = './work/housing.data'\r\n",
    "    data = np.fromfile(datafile, sep=' ', dtype=np.float32)\r\n",
    "\r\n",
    "    # 每条数据包括14项，其中前面13项是影响因素，第14项是相应的房屋价格中位数\r\n",
    "    feature_names = [ 'CRIM', 'ZN', 'INDUS', 'CHAS', 'NOX', 'RM', 'AGE', \\\r\n",
    "                      'DIS', 'RAD', 'TAX', 'PTRATIO', 'B', 'LSTAT', 'MEDV' ]\r\n",
    "    feature_num = len(feature_names)\r\n",
    "\r\n",
    "    # 将原始数据进行Reshape，变成[N, 14]这样的形状\r\n",
    "    data = data.reshape([data.shape[0] // feature_num, feature_num])\r\n",
    "\r\n",
    "    # 将原数据集拆分成训练集和测试集\r\n",
    "    # 这里使用80%的数据做训练，20%的数据做测试\r\n",
    "    # 测试集和训练集必须是没有交集的\r\n",
    "    ratio = 0.8\r\n",
    "    offset = int(data.shape[0] * ratio)\r\n",
    "    training_data = data[:offset]\r\n",
    "\r\n",
    "    # 计算train数据集的最大值，最小值，平均值\r\n",
    "    maximums, minimums, avgs = training_data.max(axis=0), training_data.min(axis=0), \\\r\n",
    "                                 training_data.sum(axis=0) / training_data.shape[0]\r\n",
    "    \r\n",
    "    # 记录数据的归一化参数，在预测时对数据做归一化\r\n",
    "    global max_values\r\n",
    "    global min_values\r\n",
    "    global avg_values\r\n",
    "    max_values = maximums\r\n",
    "    min_values = minimums\r\n",
    "    avg_values = avgs\r\n",
    "\r\n",
    "    # 对数据进行归一化处理\r\n",
    "    for i in range(feature_num):\r\n",
    "        data[:, i] = (data[:, i] - avgs[i]) / (maximums[i] - minimums[i])\r\n",
    "\r\n",
    "    # 训练集和测试集的划分比例\r\n",
    "    training_data = data[:offset]\r\n",
    "    test_data = data[offset:]\r\n",
    "    return training_data, test_data"
   ]
  },
  {
   "cell_type": "code",
   "execution_count": null,
   "metadata": {
    "collapsed": false
   },
   "outputs": [],
   "source": []
  },
  {
   "cell_type": "code",
   "execution_count": 46,
   "metadata": {
    "collapsed": false
   },
   "outputs": [],
   "source": [
    "class Regressor(paddle.nn.Layer):\r\n",
    "\r\n",
    "    # self代表类的实例自身\r\n",
    "    def __init__(self):\r\n",
    "        # 初始化父类中的一些参数\r\n",
    "        super(Regressor, self).__init__()\r\n",
    "        \r\n",
    "        # 定义一层全连接层，输入维度是13，输出维度是1\r\n",
    "        self.fc1 = Linear(in_features=13, out_features=20)\r\n",
    "        self.fc2 = Linear(in_features=20, out_features=1)\r\n",
    "    \r\n",
    "    # 网络的前向计算\r\n",
    "    def forward(self, inputs):\r\n",
    "        relu = paddle.nn.ReLU()#不这样引用relu会报错\r\n",
    "        #p_outputs1 = self.fc1(inputs)\r\n",
    "        p_outputs1 = relu(self.fc1(inputs))\r\n",
    "        p_outputs2 =self.fc2(p_outputs1)\r\n",
    "        return p_outputs2\r\n",
    "\r\n"
   ]
  },
  {
   "cell_type": "code",
   "execution_count": 47,
   "metadata": {
    "collapsed": false
   },
   "outputs": [],
   "source": [
    "# 声明定义好的线性回归模型\r\n",
    "model = Regressor()\r\n",
    "# 开启模型训练模式\r\n",
    "model.train()\r\n",
    "# 加载数据\r\n",
    "training_data, test_data = load_data()\r\n",
    "# 定义优化算法，使用随机梯度下降SGD\r\n",
    "# 学习率设置为0.01\r\n",
    "opt = paddle.optimizer.SGD(learning_rate=0.01, parameters=model.parameters())"
   ]
  },
  {
   "cell_type": "markdown",
   "metadata": {
    "collapsed": false
   },
   "source": []
  },
  {
   "cell_type": "code",
   "execution_count": 48,
   "metadata": {
    "collapsed": false
   },
   "outputs": [
    {
     "name": "stdout",
     "output_type": "stream",
     "text": [
      "epoch: 0, iter: 0, loss is: [0.05290957]\n",
      "epoch: 0, iter: 20, loss is: [0.04694175]\n",
      "epoch: 0, iter: 40, loss is: [0.04420726]\n",
      "epoch: 1, iter: 0, loss is: [0.07744525]\n",
      "epoch: 1, iter: 20, loss is: [0.07963973]\n",
      "epoch: 1, iter: 40, loss is: [0.04841661]\n",
      "epoch: 2, iter: 0, loss is: [0.05320825]\n",
      "epoch: 2, iter: 20, loss is: [0.05033255]\n",
      "epoch: 2, iter: 40, loss is: [0.05057155]\n",
      "epoch: 3, iter: 0, loss is: [0.04905317]\n",
      "epoch: 3, iter: 20, loss is: [0.01302124]\n",
      "epoch: 3, iter: 40, loss is: [0.02916229]\n",
      "epoch: 4, iter: 0, loss is: [0.0681294]\n",
      "epoch: 4, iter: 20, loss is: [0.0185044]\n",
      "epoch: 4, iter: 40, loss is: [0.01936808]\n",
      "epoch: 5, iter: 0, loss is: [0.04286348]\n",
      "epoch: 5, iter: 20, loss is: [0.04505692]\n",
      "epoch: 5, iter: 40, loss is: [0.07543676]\n",
      "epoch: 6, iter: 0, loss is: [0.09229986]\n",
      "epoch: 6, iter: 20, loss is: [0.05879476]\n",
      "epoch: 6, iter: 40, loss is: [0.05445974]\n",
      "epoch: 7, iter: 0, loss is: [0.08355162]\n",
      "epoch: 7, iter: 20, loss is: [0.07340536]\n",
      "epoch: 7, iter: 40, loss is: [0.01166243]\n",
      "epoch: 8, iter: 0, loss is: [0.05679017]\n",
      "epoch: 8, iter: 20, loss is: [0.06093408]\n",
      "epoch: 8, iter: 40, loss is: [0.01174865]\n",
      "epoch: 9, iter: 0, loss is: [0.02850226]\n",
      "epoch: 9, iter: 20, loss is: [0.04901675]\n",
      "epoch: 9, iter: 40, loss is: [0.08093474]\n",
      "epoch: 10, iter: 0, loss is: [0.05722241]\n",
      "epoch: 10, iter: 20, loss is: [0.0405925]\n",
      "epoch: 10, iter: 40, loss is: [0.14787206]\n",
      "epoch: 11, iter: 0, loss is: [0.08156053]\n",
      "epoch: 11, iter: 20, loss is: [0.07952468]\n",
      "epoch: 11, iter: 40, loss is: [0.05231327]\n",
      "epoch: 12, iter: 0, loss is: [0.04135131]\n",
      "epoch: 12, iter: 20, loss is: [0.05031028]\n",
      "epoch: 12, iter: 40, loss is: [0.0363756]\n",
      "epoch: 13, iter: 0, loss is: [0.06184435]\n",
      "epoch: 13, iter: 20, loss is: [0.03870766]\n",
      "epoch: 13, iter: 40, loss is: [0.06358144]\n",
      "epoch: 14, iter: 0, loss is: [0.04710043]\n",
      "epoch: 14, iter: 20, loss is: [0.04557175]\n",
      "epoch: 14, iter: 40, loss is: [0.12146511]\n",
      "epoch: 15, iter: 0, loss is: [0.03264888]\n",
      "epoch: 15, iter: 20, loss is: [0.09240008]\n",
      "epoch: 15, iter: 40, loss is: [0.05104254]\n",
      "epoch: 16, iter: 0, loss is: [0.03402614]\n",
      "epoch: 16, iter: 20, loss is: [0.08590565]\n",
      "epoch: 16, iter: 40, loss is: [0.02008429]\n",
      "epoch: 17, iter: 0, loss is: [0.06705829]\n",
      "epoch: 17, iter: 20, loss is: [0.05485194]\n",
      "epoch: 17, iter: 40, loss is: [0.01457836]\n",
      "epoch: 18, iter: 0, loss is: [0.08177909]\n",
      "epoch: 18, iter: 20, loss is: [0.06262194]\n",
      "epoch: 18, iter: 40, loss is: [0.05832044]\n",
      "epoch: 19, iter: 0, loss is: [0.0646943]\n",
      "epoch: 19, iter: 20, loss is: [0.05512081]\n",
      "epoch: 19, iter: 40, loss is: [0.06618061]\n"
     ]
    }
   ],
   "source": [
    "EPOCH_NUM = 20   # 设置外层循环次数\r\n",
    "BATCH_SIZE = 10  # 设置batch大小\r\n",
    "pd_losses=[]\r\n",
    "# 定义外层循环\r\n",
    "for epoch_id in range(EPOCH_NUM):\r\n",
    "    # 在每轮迭代开始之前，将训练数据的顺序随机的打乱\r\n",
    "    np.random.shuffle(training_data)\r\n",
    "    # 将训练数据进行拆分，每个batch包含10条数据\r\n",
    "    mini_batches = [training_data[k:k+BATCH_SIZE] for k in range(0, len(training_data), BATCH_SIZE)]\r\n",
    "    # 定义内层循环\r\n",
    "    for iter_id, mini_batch in enumerate(mini_batches):\r\n",
    "        x = np.array(mini_batch[:, :-1]) # 获得当前批次训练数据\r\n",
    "        y = np.array(mini_batch[:, -1:]) # 获得当前批次训练标签（真实房价）\r\n",
    "        # 将numpy数据转为飞桨动态图tensor形式\r\n",
    "        house_features = paddle.to_tensor(x)\r\n",
    "        prices = paddle.to_tensor(y)\r\n",
    "        \r\n",
    "        # 前向计算\r\n",
    "        predicts = model(house_features)\r\n",
    "        #print (predicts)\r\n",
    "        # 计算损失\r\n",
    "        loss = F.square_error_cost(paddle.to_tensor(predicts), label=prices)\r\n",
    "        avg_loss = paddle.mean(loss)\r\n",
    "        \r\n",
    "        if iter_id%20==0:\r\n",
    "            print(\"epoch: {}, iter: {}, loss is: {}\".format(epoch_id, iter_id, avg_loss.numpy()))\r\n",
    "            pd_losses.append(avg_loss.numpy())\r\n",
    "        \r\n",
    "        # 反向传播\r\n",
    "        avg_loss.backward()\r\n",
    "        # 最小化loss,更新参数\r\n",
    "        opt.step()\r\n",
    "        # 清除梯度\r\n",
    "        opt.clear_grad()"
   ]
  },
  {
   "cell_type": "code",
   "execution_count": 41,
   "metadata": {
    "collapsed": false
   },
   "outputs": [
    {
     "data": {
      "text/plain": [
       "820"
      ]
     },
     "execution_count": 41,
     "metadata": {},
     "output_type": "execute_result"
    }
   ],
   "source": [
    "len(pd_losses)"
   ]
  },
  {
   "cell_type": "code",
   "execution_count": 49,
   "metadata": {
    "collapsed": false
   },
   "outputs": [
    {
     "data": {
      "image/png": "[encoded data removed]",
      "text/plain": [
       "<Figure size 432x288 with 1 Axes>"
      ]
     },
     "metadata": {},
     "output_type": "display_data"
    }
   ],
   "source": [
    "import numpy as np\r\n",
    "import matplotlib.pyplot as plt\r\n",
    "# 画出损失函数的变化趋势    \r\n",
    "plot_px = np.arange(len(pd_losses))\r\n",
    "plot_py = np.array(pd_losses)\r\n",
    "plt.rcParams['font.sans-serif'] = ['SimHei']\r\n",
    "plt.plot(plot_px, plot_py)\r\n",
    "plt.xlabel('iteration')\r\n",
    "plt.ylabel('cost')\r\n",
    "plt.show()\r\n"
   ]
  }
 ],
 "metadata": {
  "kernelspec": {
   "display_name": "PaddlePaddle 2.1.0 (Python 3.5)",
   "language": "python",
   "name": "py35-paddle1.2.0"
  },
  "language_info": {
   "codemirror_mode": {
    "name": "ipython",
    "version": 3
   },
   "file_extension": ".py",
   "mimetype": "text/x-python",
   "name": "python",
   "nbconvert_exporter": "python",
   "pygments_lexer": "ipython3",
   "version": "3.7.4"
  }
 },
 "nbformat": 4,
 "nbformat_minor": 1
}
