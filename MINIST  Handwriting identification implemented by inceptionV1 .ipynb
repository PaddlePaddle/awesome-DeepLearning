{
 "cells": [
  {
   "cell_type": "markdown",
   "metadata": {
    "collapsed": false
   },
   "source": [
    "# InceptionV1 完成MNIST手写体识别\n",
    "\n"
   ]
  },
  {
   "cell_type": "code",
   "execution_count": null,
   "metadata": {
    "collapsed": false
   },
   "outputs": [
    {
     "name": "stderr",
     "output_type": "stream",
     "text": [
      "/opt/conda/envs/python35-paddle120-env/lib/python3.7/site-packages/matplotlib/__init__.py:107: DeprecationWarning: Using or importing the ABCs from 'collections' instead of from 'collections.abc' is deprecated, and in 3.8 it will stop working\n",
      "  from collections import MutableMapping\n",
      "/opt/conda/envs/python35-paddle120-env/lib/python3.7/site-packages/matplotlib/rcsetup.py:20: DeprecationWarning: Using or importing the ABCs from 'collections' instead of from 'collections.abc' is deprecated, and in 3.8 it will stop working\n",
      "  from collections import Iterable, Mapping\n",
      "/opt/conda/envs/python35-paddle120-env/lib/python3.7/site-packages/matplotlib/colors.py:53: DeprecationWarning: Using or importing the ABCs from 'collections' instead of from 'collections.abc' is deprecated, and in 3.8 it will stop working\n",
      "  from collections import Sized\n"
     ]
    }
   ],
   "source": [
    "#加载飞桨和相关类库\r\n",
    "import paddle\r\n",
    "from paddle.nn import Linear\r\n",
    "import paddle.nn.functional as F\r\n",
    "import os\r\n",
    "import numpy as np\r\n",
    "import matplotlib.pyplot as plt"
   ]
  },
  {
   "cell_type": "code",
   "execution_count": null,
   "metadata": {
    "collapsed": false
   },
   "outputs": [
    {
     "name": "stderr",
     "output_type": "stream",
     "text": [
      "Cache file /home/aistudio/.cache/paddle/dataset/mnist/train-images-idx3-ubyte.gz not found, downloading https://dataset.bj.bcebos.com/mnist/train-images-idx3-ubyte.gz \n",
      "Begin to download\n",
      "\n",
      "Download finished\n",
      "Cache file /home/aistudio/.cache/paddle/dataset/mnist/train-labels-idx1-ubyte.gz not found, downloading https://dataset.bj.bcebos.com/mnist/train-labels-idx1-ubyte.gz \n",
      "Begin to download\n",
      "........\n",
      "Download finished\n"
     ]
    }
   ],
   "source": [
    "# 设置数据读取器，API自动读取MNIST数据训练集\n",
    "train_dataset = paddle.vision.datasets.MNIST(mode='train')"
   ]
  },
  {
   "cell_type": "code",
   "execution_count": null,
   "metadata": {
    "collapsed": false
   },
   "outputs": [
    {
     "name": "stderr",
     "output_type": "stream",
     "text": [
      "/opt/conda/envs/python35-paddle120-env/lib/python3.7/site-packages/matplotlib/cbook/__init__.py:2349: DeprecationWarning: Using or importing the ABCs from 'collections' instead of from 'collections.abc' is deprecated, and in 3.8 it will stop working\n",
      "  if isinstance(obj, collections.Iterator):\n",
      "/opt/conda/envs/python35-paddle120-env/lib/python3.7/site-packages/matplotlib/cbook/__init__.py:2366: DeprecationWarning: Using or importing the ABCs from 'collections' instead of from 'collections.abc' is deprecated, and in 3.8 it will stop working\n",
      "  return list(data) if isinstance(data, collections.MappingView) else data\n",
      "/opt/conda/envs/python35-paddle120-env/lib/python3.7/site-packages/numpy/lib/type_check.py:546: DeprecationWarning: np.asscalar(a) is deprecated since NumPy v1.16, use a.item() instead\n",
      "  'a.item() instead', DeprecationWarning, stacklevel=1)\n"
     ]
    },
    {
     "data": {
      "text/plain": [
       "<Figure size 432x288 with 0 Axes>"
      ]
     },
     "metadata": {},
     "output_type": "display_data"
    },
    {
     "data": {
      "image/png": "[encoded data removed]",
      "text/plain": [
       "<Figure size 144x144 with 1 Axes>"
      ]
     },
     "metadata": {},
     "output_type": "display_data"
    },
    {
     "name": "stdout",
     "output_type": "stream",
     "text": [
      "图像数据形状和对应数据为: (28, 28)\n",
      "图像标签形状和对应数据为: (1,) [5]\n",
      "\n",
      "打印第一个batch的第一个图像，对应标签数字为[5]\n"
     ]
    }
   ],
   "source": [
    "train_data0 = np.array(train_dataset[0][0])\n",
    "train_label_0 = np.array(train_dataset[0][1])\n",
    "\n",
    "# 显示第一batch的第一个图像\n",
    "import matplotlib.pyplot as plt\n",
    "plt.figure(\"Image\") # 图像窗口名称\n",
    "plt.figure(figsize=(2,2))\n",
    "plt.imshow(train_data0, cmap=plt.cm.binary)\n",
    "plt.axis('on') # 关掉坐标轴为 off\n",
    "plt.title('image') # 图像题目\n",
    "plt.show()\n",
    "\n",
    "print(\"图像数据形状和对应数据为:\", train_data0.shape)\n",
    "print(\"图像标签形状和对应数据为:\", train_label_0.shape, train_label_0)\n",
    "print(\"\\n打印第一个batch的第一个图像，对应标签数字为{}\".format(train_label_0))"
   ]
  },
  {
   "cell_type": "code",
   "execution_count": null,
   "metadata": {
    "collapsed": false
   },
   "outputs": [
    {
     "data": {
      "image/png": "[encoded data removed]",
      "text/plain": [
       "<PIL.Image.Image image mode=L size=28x28 at 0x7FC5ADCCA0D0>"
      ]
     },
     "execution_count": null,
     "metadata": {},
     "output_type": "execute_result"
    }
   ],
   "source": [
    "#train_data0\r\n",
    "#paddle.to_tensor(train_data0)\r\n",
    "train_dataset[0][0]"
   ]
  },
  {
   "cell_type": "code",
   "execution_count": null,
   "metadata": {
    "collapsed": false
   },
   "outputs": [
    {
     "data": {
      "text/plain": [
       "\"testdata =[]\\nfor i in range(16):\\n    testdata.append(train_dataset[i][0])    \\n#np.array(testdata)\\n#paddle.to_tensor(testdata)\\nnorm_img(testdata)#  .astype('float32')\""
      ]
     },
     "execution_count": null,
     "metadata": {},
     "output_type": "execute_result"
    }
   ],
   "source": [
    "\"\"\"testdata =[]\r\n",
    "for i in range(16):\r\n",
    "    testdata.append(train_dataset[i][0])    \r\n",
    "#np.array(testdata)\r\n",
    "#paddle.to_tensor(testdata)\r\n",
    "norm_img(testdata)#  .astype('float32')\"\"\""
   ]
  },
  {
   "cell_type": "markdown",
   "metadata": {
    "collapsed": false
   },
   "source": [
    "##  基本介绍\n",
    "GoogLeNet是google推出的基于Inception模块的深度神经网络模型，在2014年的ImageNet竞赛中夺得了冠军，可以说Inception模块是这个网络的主要创新点，以下对该模块进行进一步叙述。\n",
    "\n",
    "一般来说，提升网络性能最直接的办法就是增加网络深度和宽度，但一味地增加，会带来诸多问题：\n",
    "\n",
    "1）参数太多，如果训练数据集有限，很容易产生过拟合；\n",
    "\n",
    "2）网络越大、参数越多，计算复杂度越大，难以应用；\n",
    "\n",
    "3）网络越深，容易出现梯度弥散问题（梯度越往后穿越容易消失），难以优化模型。\n",
    "\n",
    "希望在增加网络深度和宽度的同时减少参数，为了减少参数，自然就想到将全连接变成稀疏连接。但是在实现上，全连接变成稀疏连接后实际计算量并不会有质的提升，因为大部分硬件是针对密集矩阵计算优化的，稀疏矩阵虽然数据量少，但是计算所消耗的时间却很难减少。\n",
    "\n",
    "Inception就是把多个卷积或池化操作，放在一起组装成一个网络模块，设计神经网络时以模块为单位去组装整个网络结构。一个Inception模块中并列提供多种卷积核的操作，网络在训练的过程中通过调节参数自己去选择使用，同时，由于网络中都需要池化操作，所以此处也把池化层并列加入网络中。\n",
    "\n",
    "\n",
    "\n",
    "### 本代码中使用的inception结构：\n",
    "\n",
    "![](https://ai-studio-static-online.cdn.bcebos.com/2b297613493840f6923b7a49d836dbf25b78d22dbeea4192b73d302f29d6553a)\n",
    "\n"
   ]
  },
  {
   "cell_type": "code",
   "execution_count": null,
   "metadata": {
    "collapsed": false
   },
   "outputs": [],
   "source": [
    "# 导入需要的包\r\n",
    "import paddle\r\n",
    "import paddle.fluid as fluid\r\n",
    "import numpy as np\r\n",
    "#from paddle.fluid.dygraph import Conv2D, Pool2D, Linear, Dropout, BatchNorm\r\n",
    "\r\n",
    "class InceptionA(fluid.dygraph.Layer):\r\n",
    "    def __init__(self,  in_channels):\r\n",
    "        super(InceptionA, self).__init__()\r\n",
    "        self.branch3x3_1 = paddle.nn.Conv2D(in_channels, 16, kernel_size=1)\r\n",
    "        self.branch3x3_2 = paddle.nn.Conv2D(16, 24, kernel_size=3, padding=1)\r\n",
    "        self.branch3x3_3 = paddle.nn.Conv2D(24, 24, kernel_size=3, padding=1)\r\n",
    "\r\n",
    "        self.branch5x5_1 = paddle.nn.Conv2D(in_channels, 16, kernel_size=1)\r\n",
    "        self.branch5x5_2 = paddle.nn.Conv2D(16, 24, kernel_size=5, padding=2)\r\n",
    "\r\n",
    "        self.branch1x1 = paddle.nn.Conv2D(in_channels, 16, kernel_size=1)\r\n",
    "        self.branch_pool = paddle.nn.Conv2D(in_channels, 24, kernel_size=1)\r\n",
    "\r\n",
    "    def forward(self, x):\r\n",
    "        branch3x3 = self.branch3x3_1(x)\r\n",
    "        branch3x3 = self.branch3x3_2(branch3x3)\r\n",
    "        branch3x3 = self.branch3x3_3(branch3x3)\r\n",
    "\r\n",
    "        branch5x5 = self.branch5x5_1(x)\r\n",
    "        branch5x5 = self.branch5x5_2(branch5x5)\r\n",
    "\r\n",
    "        branch1x1 = self.branch1x1(x)\r\n",
    "\r\n",
    "        branch_pool = F.avg_pool2d(x, kernel_size=3, stride=1, padding=1)\r\n",
    "        branch_pool = self.branch_pool(branch_pool)\r\n",
    "\r\n",
    "        outputs = [branch1x1, branch5x5, branch3x3, branch_pool]\r\n",
    "        return fluid.layers.concat(outputs,axis=1)#24+24+16+24=88个通道"
   ]
  },
  {
   "cell_type": "markdown",
   "metadata": {
    "collapsed": false
   },
   "source": [
    "### 网络总框架\n",
    "![](https://ai-studio-static-online.cdn.bcebos.com/a5977373fcf142fcb9ce1bf931c96f2aa2156deed4074c8c83c43efc6509b990)\n"
   ]
  },
  {
   "cell_type": "code",
   "execution_count": null,
   "metadata": {
    "collapsed": false
   },
   "outputs": [],
   "source": [
    "\r\n",
    "# 定义mnist数据识别网络结构\r\n",
    "class MNIST(paddle.nn.Layer):\r\n",
    "    def __init__(self):\r\n",
    "        super(MNIST, self).__init__()\r\n",
    "        \r\n",
    "        # 定义一层全连接层，输出维度是1\r\n",
    "        self.conv1 = paddle.nn.Conv2D(1,10,kernel_size=5)\r\n",
    "        self.conv2 = paddle.nn.Conv2D(88, 20, kernel_size=5)\r\n",
    "\r\n",
    "        self.incep1=InceptionA(in_channels=10)\r\n",
    "        self.incep2=InceptionA(in_channels=20)\r\n",
    "        self.mp=paddle.nn.MaxPool2D(2)\r\n",
    "        self.fc=paddle.nn.Linear(1408,10)\r\n",
    "\r\n",
    "        \r\n",
    "    # 定义网络结构的前向计算过程\r\n",
    "    def forward(self, inputs):\r\n",
    "        outputs = F.relu(self.mp(self.conv1(inputs)))\r\n",
    "        outputs=self.incep1(outputs)\r\n",
    "        outputs= F.relu(self.mp(self.conv2(outputs)))\r\n",
    "        outputs=self.incep2(outputs)\r\n",
    "        outputs=paddle.flatten(outputs,start_axis=1,stop_axis=3)\r\n",
    "        outputs=self.fc(outputs)\r\n",
    "        return outputs"
   ]
  },
  {
   "cell_type": "code",
   "execution_count": 104,
   "metadata": {
    "collapsed": false
   },
   "outputs": [],
   "source": [
    "# 声明网络结构\r\n",
    "model = MNIST()\r\n",
    "\r\n",
    "def train(model):\r\n",
    "    # 启动训练模式\r\n",
    "    model.train()\r\n",
    "    # 加载训练集 batch_size 设为 16\r\n",
    "    train_loader = paddle.io.DataLoader(paddle.vision.datasets.MNIST(mode='train'), \r\n",
    "                                        batch_size=16, \r\n",
    "                                        shuffle=True)\r\n",
    "    # 定义优化器，使用随机梯度下降SGD优化器，学习率设置为0.001\r\n",
    "    opt = paddle.optimizer.SGD(learning_rate=0.001, parameters=model.parameters())"
   ]
  },
  {
   "cell_type": "code",
   "execution_count": 107,
   "metadata": {
    "collapsed": false
   },
   "outputs": [],
   "source": [
    "# 图像归一化函数，将数据范围为[0, 255]的图像归一化到[0, 1]\r\n",
    "def norm_img(img):\r\n",
    "    # 验证传入数据格式是否正确，img的shape为[batch_size, 28, 28]\r\n",
    "    assert len(img.shape) == 3\r\n",
    "    batch_size, img_h, img_w = img.shape[0], img.shape[1], img.shape[2]\r\n",
    "    # 归一化图像数据\r\n",
    "    img = img/256\r\n",
    "    # 将图像形式reshape为[batch_size, 784]\r\n",
    "    #img = paddle.reshape(img, [batch_size, img_h*img_w])\r\n",
    "    \r\n",
    "    return img"
   ]
  },
  {
   "cell_type": "code",
   "execution_count": 111,
   "metadata": {
    "collapsed": false
   },
   "outputs": [
    {
     "name": "stdout",
     "output_type": "stream",
     "text": [
      "epoch_id: 0, batch_id: 0, loss is: [4.7997727]\n",
      "epoch_id: 0, batch_id: 1000, loss is: [0.4053402]\n",
      "epoch_id: 0, batch_id: 2000, loss is: [0.26519322]\n",
      "epoch_id: 0, batch_id: 3000, loss is: [0.382811]\n",
      "epoch_id: 1, batch_id: 0, loss is: [0.1918052]\n",
      "epoch_id: 1, batch_id: 1000, loss is: [0.09023406]\n",
      "epoch_id: 1, batch_id: 2000, loss is: [0.12096533]\n",
      "epoch_id: 1, batch_id: 3000, loss is: [0.03642173]\n",
      "epoch_id: 2, batch_id: 0, loss is: [0.11067546]\n",
      "epoch_id: 2, batch_id: 1000, loss is: [0.01051531]\n",
      "epoch_id: 2, batch_id: 2000, loss is: [0.24618137]\n",
      "epoch_id: 2, batch_id: 3000, loss is: [0.02256395]\n",
      "epoch_id: 3, batch_id: 0, loss is: [0.1867812]\n",
      "epoch_id: 3, batch_id: 1000, loss is: [0.0022611]\n",
      "epoch_id: 3, batch_id: 2000, loss is: [0.02227082]\n",
      "epoch_id: 3, batch_id: 3000, loss is: [0.14495209]\n",
      "epoch_id: 4, batch_id: 0, loss is: [0.00167645]\n",
      "epoch_id: 4, batch_id: 1000, loss is: [0.00220581]\n",
      "epoch_id: 4, batch_id: 2000, loss is: [0.08720379]\n",
      "epoch_id: 4, batch_id: 3000, loss is: [0.03937264]\n"
     ]
    }
   ],
   "source": [
    "import paddle\r\n",
    "# 确保从paddle.vision.datasets.MNIST中加载的图像数据是np.ndarray类型\r\n",
    "paddle.vision.set_image_backend('cv2')\r\n",
    "\r\n",
    "def train(model):\r\n",
    "    model.train()\r\n",
    "    # 加载训练集 batch_size 设为 16\r\n",
    "    train_loader = paddle.io.DataLoader(paddle.vision.datasets.MNIST(mode='train'), \r\n",
    "                                        batch_size=16, \r\n",
    "                                        shuffle=True)\r\n",
    "    opt = paddle.optimizer.SGD(learning_rate=0.001, parameters=model.parameters())\r\n",
    "    EPOCH_NUM = 5\r\n",
    "    for epoch in range(EPOCH_NUM):\r\n",
    "        for batch_id, data in enumerate(train_loader()):\r\n",
    "            images = np.reshape(norm_img(data[0]).astype('float32'),(16,1,28,28))\r\n",
    "            #print(images.shape)#--------16*28*28\r\n",
    "            images=paddle.to_tensor(images)\r\n",
    "            labels = data[1].astype('float32')\r\n",
    "            labels=paddle.to_tensor(labels,'int64')\r\n",
    "            \r\n",
    "            #前向计算的过程\r\n",
    "            predicts = model(images)\r\n",
    "            \r\n",
    "            # 计算损失\r\n",
    "            loss = F.cross_entropy(predicts, labels)\r\n",
    "            \r\n",
    "            avg_loss = paddle.mean(loss)\r\n",
    "            \r\n",
    "            #每训练了1000批次的数据，打印下当前Loss的情况\r\n",
    "            if batch_id % 1000 == 0:\r\n",
    "                print(\"epoch_id: {}, batch_id: {}, loss is: {}\".format(epoch, batch_id, avg_loss.numpy()))\r\n",
    "            \r\n",
    "            #后向传播，更新参数的过程\r\n",
    "            avg_loss.backward()\r\n",
    "            opt.step()\r\n",
    "            opt.clear_grad()\r\n",
    "            \r\n",
    "train(model)\r\n",
    "paddle.save(model.state_dict(), './mnist.pdparams')"
   ]
  },
  {
   "cell_type": "code",
   "execution_count": 125,
   "metadata": {
    "collapsed": false
   },
   "outputs": [
    {
     "name": "stdout",
     "output_type": "stream",
     "text": [
      "The accuracy tested in randomly elected samples ：[0.9375]\n"
     ]
    }
   ],
   "source": [
    "from paddle.metric import Accuracy\r\n",
    "test_dataset = paddle.vision.datasets.MNIST(mode='test')\r\n",
    "#随机抽取图片进行测试\r\n",
    "def random_test(model,num=16):\r\n",
    "    test_loader = paddle.io.DataLoader(test_dataset, places=paddle.CPUPlace(), batch_size=16,shuffle=True)\r\n",
    "    for test_batch_id, test_data in enumerate(test_loader()):\r\n",
    "        x_data = np.reshape(norm_img(test_data[0]).astype('float32'),(16,1,28,28))\r\n",
    "        x_data=paddle.to_tensor(x_data)\r\n",
    "        label = paddle.to_tensor(test_data[1],'int64')\r\n",
    "    predicts = model(x_data)\r\n",
    "    #返回正确率\r\n",
    "    acc = paddle.metric.accuracy(predicts, label)\r\n",
    "    print(\"The accuracy tested in randomly elected samples ：{}\".format(acc.numpy()))\r\n",
    "\r\n",
    "random_test(model,num=16)"
   ]
  },
  {
   "cell_type": "markdown",
   "metadata": {
    "collapsed": false
   },
   "source": [
    "##  代码问题检查1：模型输出全是NaN（已解决）\n",
    "\n",
    "原因：此前定义的预处理函数得到数据是[-1,1]的区间，这样导致网络运行中某些带log的激活函数会出现NaN值，然后一直传到最后一层无法解决\n",
    "\n",
    "解决方案：预处理到[0,1]区间"
   ]
  },
  {
   "cell_type": "code",
   "execution_count": 108,
   "metadata": {
    "collapsed": false
   },
   "outputs": [
    {
     "name": "stdout",
     "output_type": "stream",
     "text": [
      "[[[[0. 0. 0. ... 0. 0. 0.]\n",
      "   [0. 0. 0. ... 0. 0. 0.]\n",
      "   [0. 0. 0. ... 0. 0. 0.]\n",
      "   ...\n",
      "   [0. 0. 0. ... 0. 0. 0.]\n",
      "   [0. 0. 0. ... 0. 0. 0.]\n",
      "   [0. 0. 0. ... 0. 0. 0.]]]\n",
      "\n",
      "\n",
      " [[[0. 0. 0. ... 0. 0. 0.]\n",
      "   [0. 0. 0. ... 0. 0. 0.]\n",
      "   [0. 0. 0. ... 0. 0. 0.]\n",
      "   ...\n",
      "   [0. 0. 0. ... 0. 0. 0.]\n",
      "   [0. 0. 0. ... 0. 0. 0.]\n",
      "   [0. 0. 0. ... 0. 0. 0.]]]\n",
      "\n",
      "\n",
      " [[[0. 0. 0. ... 0. 0. 0.]\n",
      "   [0. 0. 0. ... 0. 0. 0.]\n",
      "   [0. 0. 0. ... 0. 0. 0.]\n",
      "   ...\n",
      "   [0. 0. 0. ... 0. 0. 0.]\n",
      "   [0. 0. 0. ... 0. 0. 0.]\n",
      "   [0. 0. 0. ... 0. 0. 0.]]]\n",
      "\n",
      "\n",
      " ...\n",
      "\n",
      "\n",
      " [[[0. 0. 0. ... 0. 0. 0.]\n",
      "   [0. 0. 0. ... 0. 0. 0.]\n",
      "   [0. 0. 0. ... 0. 0. 0.]\n",
      "   ...\n",
      "   [0. 0. 0. ... 0. 0. 0.]\n",
      "   [0. 0. 0. ... 0. 0. 0.]\n",
      "   [0. 0. 0. ... 0. 0. 0.]]]\n",
      "\n",
      "\n",
      " [[[0. 0. 0. ... 0. 0. 0.]\n",
      "   [0. 0. 0. ... 0. 0. 0.]\n",
      "   [0. 0. 0. ... 0. 0. 0.]\n",
      "   ...\n",
      "   [0. 0. 0. ... 0. 0. 0.]\n",
      "   [0. 0. 0. ... 0. 0. 0.]\n",
      "   [0. 0. 0. ... 0. 0. 0.]]]\n",
      "\n",
      "\n",
      " [[[0. 0. 0. ... 0. 0. 0.]\n",
      "   [0. 0. 0. ... 0. 0. 0.]\n",
      "   [0. 0. 0. ... 0. 0. 0.]\n",
      "   ...\n",
      "   [0. 0. 0. ... 0. 0. 0.]\n",
      "   [0. 0. 0. ... 0. 0. 0.]\n",
      "   [0. 0. 0. ... 0. 0. 0.]]]]\n"
     ]
    }
   ],
   "source": [
    "train_loader = paddle.io.DataLoader(paddle.vision.datasets.MNIST(mode='train'), \r\n",
    "                                        batch_size=16, \r\n",
    "                                        shuffle=True)\r\n",
    "opt = paddle.optimizer.SGD(learning_rate=0.001, parameters=model.parameters())\r\n",
    "i=0\r\n",
    "for batch_id, data in enumerate(train_loader()):\r\n",
    "    images = np.reshape(norm_img(data[0]).astype('float32'),(16,1,28,28))\r\n",
    "    if i==0:\r\n",
    "        a=images\r\n",
    "        print(images)\r\n",
    "        i+=1\r\n"
   ]
  },
  {
   "cell_type": "code",
   "execution_count": 110,
   "metadata": {
    "collapsed": false
   },
   "outputs": [
    {
     "data": {
      "text/plain": [
       "Tensor(shape=[1, 28, 28], dtype=float32, place=CPUPlace, stop_gradient=True,\n",
       "       [[[0., 0., 0., 0., 0., 0., 0., 0., 0., 0., 0., 0., 0., 0., 0., 0., 0., 0., 0., 0., 0., 0., 0., 0., 0., 0., 0., 0.],\n",
       "         [0., 0., 0., 0., 0., 0., 0., 0., 0., 0., 0., 0., 0., 0., 0., 0., 0., 0., 0., 0., 0., 0., 0., 0., 0., 0., 0., 0.],\n",
       "         [0., 0., 0., 0., 0., 0., 0., 0., 0., 0., 0., 0., 0., 0., 0., 0., 0., 0., 0., 0., 0., 0., 0., 0., 0., 0., 0., 0.],\n",
       "         [0., 0., 0., 0., 0., 0., 0., 0., 0., 0., 0., 0., 0., 0., 0., 0., 0., 0., 0., 0., 0., 0., 0., 0., 0., 0., 0., 0.],\n",
       "         [0., 0., 0., 0., 0., 0., 0., 0., 0., 0., 0., 0., 0., 0.42968750, 0.53906250, 0., 0., 0., 0., 0., 0., 0., 0., 0., 0., 0., 0., 0.],\n",
       "         [0., 0., 0., 0., 0., 0., 0., 0., 0., 0., 0., 0., 0., 0.42968750, 0.98828125, 0., 0., 0., 0., 0., 0., 0., 0., 0., 0., 0., 0., 0.],\n",
       "         [0., 0., 0., 0., 0., 0., 0., 0., 0., 0., 0., 0., 0., 0.42968750, 0.98828125, 0.07031250, 0., 0., 0., 0., 0., 0., 0., 0., 0., 0., 0., 0.],\n",
       "         [0., 0., 0., 0., 0., 0., 0., 0., 0., 0., 0., 0., 0., 0.42968750, 0.98828125, 0.47656250, 0., 0., 0., 0., 0., 0., 0., 0., 0., 0., 0., 0.],\n",
       "         [0., 0., 0., 0., 0., 0., 0., 0., 0., 0., 0., 0., 0., 0.42968750, 0.98828125, 0.58593750, 0., 0., 0., 0., 0., 0., 0., 0., 0., 0., 0., 0.],\n",
       "         [0., 0., 0., 0., 0., 0., 0., 0., 0., 0., 0., 0., 0., 0.42968750, 0.98828125, 0.94531250, 0., 0., 0., 0., 0., 0., 0., 0., 0., 0., 0., 0.],\n",
       "         [0., 0., 0., 0., 0., 0., 0., 0., 0., 0., 0., 0., 0., 0.42968750, 0.98828125, 0.94531250, 0., 0., 0., 0., 0., 0., 0., 0., 0., 0., 0., 0.],\n",
       "         [0., 0., 0., 0., 0., 0., 0., 0., 0., 0., 0., 0., 0., 0.42968750, 0.98828125, 0.76562500, 0., 0., 0., 0., 0., 0., 0., 0., 0., 0., 0., 0.],\n",
       "         [0., 0., 0., 0., 0., 0., 0., 0., 0., 0., 0., 0., 0., 0.42968750, 0.98828125, 0.47656250, 0., 0., 0., 0., 0., 0., 0., 0., 0., 0., 0., 0.],\n",
       "         [0., 0., 0., 0., 0., 0., 0., 0., 0., 0., 0., 0., 0., 0.42968750, 0.98828125, 0.47656250, 0., 0., 0., 0., 0., 0., 0., 0., 0., 0., 0., 0.],\n",
       "         [0., 0., 0., 0., 0., 0., 0., 0., 0., 0., 0., 0., 0., 0.45312500, 0.99609375, 0.48046875, 0., 0., 0., 0., 0., 0., 0., 0., 0., 0., 0., 0.],\n",
       "         [0., 0., 0., 0., 0., 0., 0., 0., 0., 0., 0., 0., 0., 0.89843750, 0.98828125, 0.47656250, 0., 0., 0., 0., 0., 0., 0., 0., 0., 0., 0., 0.],\n",
       "         [0., 0., 0., 0., 0., 0., 0., 0., 0., 0., 0., 0., 0., 0.89843750, 0.98828125, 0.47656250, 0., 0., 0., 0., 0., 0., 0., 0., 0., 0., 0., 0.],\n",
       "         [0., 0., 0., 0., 0., 0., 0., 0., 0., 0., 0., 0., 0., 0.89843750, 0.98828125, 0.47656250, 0., 0., 0., 0., 0., 0., 0., 0., 0., 0., 0., 0.],\n",
       "         [0., 0., 0., 0., 0., 0., 0., 0., 0., 0., 0., 0., 0., 0.89843750, 0.98828125, 0.47656250, 0., 0., 0., 0., 0., 0., 0., 0., 0., 0., 0., 0.],\n",
       "         [0., 0., 0., 0., 0., 0., 0., 0., 0., 0., 0., 0., 0., 0.89843750, 0.98828125, 0.47656250, 0., 0., 0., 0., 0., 0., 0., 0., 0., 0., 0., 0.],\n",
       "         [0., 0., 0., 0., 0., 0., 0., 0., 0., 0., 0., 0., 0., 0.74218750, 0.98828125, 0.47656250, 0., 0., 0., 0., 0., 0., 0., 0., 0., 0., 0., 0.],\n",
       "         [0., 0., 0., 0., 0., 0., 0., 0., 0., 0., 0., 0., 0., 0.42968750, 0.98828125, 0.65234375, 0., 0., 0., 0., 0., 0., 0., 0., 0., 0., 0., 0.],\n",
       "         [0., 0., 0., 0., 0., 0., 0., 0., 0., 0., 0., 0., 0., 0.24609375, 0.97265625, 0.94531250, 0., 0., 0., 0., 0., 0., 0., 0., 0., 0., 0., 0.],\n",
       "         [0., 0., 0., 0., 0., 0., 0., 0., 0., 0., 0., 0., 0., 0., 0.71875000, 0.99218750, 0.40625000, 0., 0., 0., 0., 0., 0., 0., 0., 0., 0., 0.],\n",
       "         [0., 0., 0., 0., 0., 0., 0., 0., 0., 0., 0., 0., 0., 0., 0., 0., 0., 0., 0., 0., 0., 0., 0., 0., 0., 0., 0., 0.],\n",
       "         [0., 0., 0., 0., 0., 0., 0., 0., 0., 0., 0., 0., 0., 0., 0., 0., 0., 0., 0., 0., 0., 0., 0., 0., 0., 0., 0., 0.],\n",
       "         [0., 0., 0., 0., 0., 0., 0., 0., 0., 0., 0., 0., 0., 0., 0., 0., 0., 0., 0., 0., 0., 0., 0., 0., 0., 0., 0., 0.],\n",
       "         [0., 0., 0., 0., 0., 0., 0., 0., 0., 0., 0., 0., 0., 0., 0., 0., 0., 0., 0., 0., 0., 0., 0., 0., 0., 0., 0., 0.]]])"
      ]
     },
     "execution_count": 110,
     "metadata": {},
     "output_type": "execute_result"
    }
   ],
   "source": [
    "a[0]#.shape"
   ]
  },
  {
   "cell_type": "code",
   "execution_count": 109,
   "metadata": {
    "collapsed": false
   },
   "outputs": [
    {
     "data": {
      "text/plain": [
       "Tensor(shape=[16, 10], dtype=float32, place=CPUPlace, stop_gradient=False,\n",
       "       [[-0.39523733,  3.41638637, -2.70534849, -1.11444354,  0.91966367, -1.69769311, -1.20253968,  2.70562840, -1.89981616, -3.48688102],\n",
       "        [ 0.52577829,  3.03583860,  1.55180597, -0.72082984, -1.79878044, -1.69482934, -1.20909858,  0.90282774, -1.43854737, -5.05113792],\n",
       "        [ 1.32831538,  2.36602139,  0.51262408, -5.03250408,  0.00135395, -3.70850515, -4.11026287,  2.40073538, -4.60143089, -2.15255690],\n",
       "        [ 1.24987125,  3.02824640,  2.32806635, -2.71725845, -0.19910458, -2.27741385, -1.64682758,  2.87785959, -3.22902203, -3.45862150],\n",
       "        [-0.21479344,  3.73526430,  0.54694021, -2.19537902, -0.24378988, -2.91674089, -4.06910038,  2.70708418, -0.89984977, -5.77924395],\n",
       "        [ 1.54220784,  5.30298328,  0.19954586, -3.38169408, -1.28786123, -3.83764124, -3.72705746,  6.18313599, -3.85934544, -5.79714584],\n",
       "        [ 1.52260482,  3.28806782,  0.67446625, -1.10527766, -3.02747083,  1.44632399,  1.15684330,  2.51694918, -2.97046638, -0.32543698],\n",
       "        [-0.71164799,  4.84101582,  0.29133999,  0.17187455, -1.35847211,  1.84192932, -1.99053776,  3.68636656, -3.42597151, -2.96125650],\n",
       "        [-0.42855036,  3.24428153,  0.67230731, -3.62612724,  1.23075581, -1.46641588,  0.19912890,  2.31662703, -1.88226557, -4.36123323],\n",
       "        [ 0.36905324,  1.97346735,  0.30787194, -3.63271546,  1.38980258, -4.05940151, -0.93685699,  2.92378902, -1.93398118, -7.06782055],\n",
       "        [-2.15364313,  2.45262766,  2.19654942, -1.30116773, -2.20909834, -3.19160795, -4.31928253,  1.47825634, -5.71664381, -1.17355382],\n",
       "        [ 2.68111563,  5.01678658,  1.16056991, -2.23788977, -2.73042727, -3.24969959, -0.76504624,  5.08863163, -3.08843446, -4.28117514],\n",
       "        [ 0.27558959,  2.38451290,  2.11450624, -2.79644132,  1.18214297, -4.29896593, -3.97597671,  0.80592215, -2.06172943, -3.72676778],\n",
       "        [ 0.35642040,  2.58290839, -1.02463984, -2.66922951, -1.47345567, -0.54725456, -0.74636614,  2.55169845, -6.07171631, -2.46464181],\n",
       "        [ 1.44390035,  6.21430922, -0.02407157, -1.49283445, -1.53412199, -1.69240594,  1.44298220,  0.86487788, -5.52873373, -2.39912367],\n",
       "        [ 0.11325240,  2.96207190, -0.40162849, -2.21256900,  2.21356750, -2.47967005, -3.04155755,  0.79328358, -3.24989653, -2.81193018]])"
      ]
     },
     "execution_count": 109,
     "metadata": {},
     "output_type": "execute_result"
    }
   ],
   "source": [
    "a=paddle.to_tensor(a)\r\n",
    "#labels = data[1].astype('float32')\r\n",
    "#labels=paddle.to_tensor(labels,'int64')\r\n",
    "\r\n",
    "model(a)"
   ]
  }
 ],
 "metadata": {
  "kernelspec": {
   "display_name": "PaddlePaddle 2.1.0 (Python 3.5)",
   "language": "python",
   "name": "py35-paddle1.2.0"
  },
  "language_info": {
   "codemirror_mode": {
    "name": "ipython",
    "version": 3
   },
   "file_extension": ".py",
   "mimetype": "text/x-python",
   "name": "python",
   "nbconvert_exporter": "python",
   "pygments_lexer": "ipython3",
   "version": "3.7.4"
  }
 },
 "nbformat": 4,
 "nbformat_minor": 1
}
