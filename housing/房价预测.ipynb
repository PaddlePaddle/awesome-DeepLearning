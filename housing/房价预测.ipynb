{
 "cells": [
  {
   "cell_type": "markdown",
   "metadata": {
    "collapsed": false
   },
   "source": [
    "Python + numpy实现模型"
   ]
  },
  {
   "cell_type": "code",
   "execution_count": 173,
   "metadata": {
    "collapsed": false
   },
   "outputs": [
    {
     "name": "stdout",
     "output_type": "stream",
     "text": [
      "data49217  data64\r\n"
     ]
    }
   ],
   "source": [
    "# 查看当前挂载的数据集目录, 该目录下的变更重启环境后会自动还原\n",
    "# View dataset directory. \n",
    "# This directory will be recovered automatically after resetting environment. \n",
    "!ls /home/aistudio/data"
   ]
  },
  {
   "cell_type": "code",
   "execution_count": 174,
   "metadata": {
    "collapsed": false
   },
   "outputs": [],
   "source": [
    "# 查看工作区文件, 该目录下的变更将会持久保存. 请及时清理不必要的文件, 避免加载过慢.\n",
    "# View personal work directory. \n",
    "# All changes under this directory will be kept even after reset. \n",
    "# Please clean unnecessary files in time to speed up environment loading. \n",
    "!ls /home/aistudio/work"
   ]
  },
  {
   "cell_type": "code",
   "execution_count": 175,
   "metadata": {
    "collapsed": false
   },
   "outputs": [
    {
     "name": "stdout",
     "output_type": "stream",
     "text": [
      "mkdir: cannot create directory ‘/home/aistudio/external-libraries’: File exists\n",
      "Looking in indexes: https://mirror.baidu.com/pypi/simple/\n",
      "Collecting beautifulsoup4\n",
      "\u001b[?25l  Downloading https://mirror.baidu.com/pypi/packages/d1/41/e6495bd7d3781cee623ce23ea6ac73282a373088fcd0ddc809a047b18eae/beautifulsoup4-4.9.3-py3-none-any.whl (115kB)\n",
      "\u001b[K     |████████████████████████████████| 122kB 19.5MB/s eta 0:00:01\n",
      "\u001b[?25hCollecting soupsieve>1.2; python_version >= \"3.0\" (from beautifulsoup4)\n",
      "  Downloading https://mirror.baidu.com/pypi/packages/36/69/d82d04022f02733bf9a72bc3b96332d360c0c5307096d76f6bb7489f7e57/soupsieve-2.2.1-py3-none-any.whl\n",
      "Installing collected packages: soupsieve, beautifulsoup4\n",
      "Successfully installed beautifulsoup4-4.9.3 soupsieve-2.2.1\n",
      "\u001b[33mWARNING: Target directory /home/aistudio/external-libraries/bs4 already exists. Specify --upgrade to force replacement.\u001b[0m\n",
      "\u001b[33mWARNING: Target directory /home/aistudio/external-libraries/soupsieve already exists. Specify --upgrade to force replacement.\u001b[0m\n",
      "\u001b[33mWARNING: Target directory /home/aistudio/external-libraries/beautifulsoup4-4.9.3.dist-info already exists. Specify --upgrade to force replacement.\u001b[0m\n",
      "\u001b[33mWARNING: Target directory /home/aistudio/external-libraries/soupsieve-2.2.1.dist-info already exists. Specify --upgrade to force replacement.\u001b[0m\n"
     ]
    }
   ],
   "source": [
    "# 如果需要进行持久化安装, 需要使用持久化路径, 如下方代码示例:\n",
    "# If a persistence installation is required, \n",
    "# you need to use the persistence path as the following: \n",
    "!mkdir /home/aistudio/external-libraries\n",
    "!pip install beautifulsoup4 -t /home/aistudio/external-libraries"
   ]
  },
  {
   "cell_type": "code",
   "execution_count": 176,
   "metadata": {
    "collapsed": false
   },
   "outputs": [],
   "source": [
    "# 同时添加如下代码, 这样每次环境(kernel)启动的时候只要运行下方代码即可: \n",
    "# Also add the following code, \n",
    "# so that every time the environment (kernel) starts, \n",
    "# just run the following code: \n",
    "import sys \n",
    "sys.path.append('/home/aistudio/external-libraries')"
   ]
  },
  {
   "cell_type": "markdown",
   "metadata": {
    "collapsed": false
   },
   "source": [
    "请点击[此处](https://ai.baidu.com/docs#/AIStudio_Project_Notebook/a38e5576)查看本环境基本用法.  <br>\n",
    "Please click [here ](https://ai.baidu.com/docs#/AIStudio_Project_Notebook/a38e5576) for more detailed instructions. "
   ]
  },
  {
   "cell_type": "code",
   "execution_count": 177,
   "metadata": {
    "collapsed": false
   },
   "outputs": [],
   "source": [
    "import numpy as np\r\n",
    "import json\r\n",
    "import matplotlib.pyplot as plt\r\n",
    "from mpl_toolkits.mplot3d import Axes3D"
   ]
  },
  {
   "cell_type": "code",
   "execution_count": 178,
   "metadata": {
    "collapsed": false
   },
   "outputs": [],
   "source": [
    "def load_data():\r\n",
    "    # 从文件导入数据\r\n",
    "    datafile = '/home/aistudio/data/data49217/housing.data'\r\n",
    "    data = np.fromfile(datafile, sep=' ')\r\n",
    "\r\n",
    "    # 每条数据包括14项，其中前面13项是影响因素，第14项是相应的房屋价格中位数\r\n",
    "    feature_names = [ 'CRIM', 'ZN', 'INDUS', 'CHAS', 'NOX', 'RM', 'AGE', \\\r\n",
    "                      'DIS', 'RAD', 'TAX', 'PTRATIO', 'B', 'LSTAT', 'MEDV' ]\r\n",
    "    feature_num = len(feature_names)\r\n",
    "\r\n",
    "    # 将原始数据进行Reshape，变成[N, 14]这样的形状\r\n",
    "    data = data.reshape([data.shape[0] // feature_num, feature_num])\r\n",
    "\r\n",
    "    # 将原数据集拆分成训练集和测试集\r\n",
    "    # 这里使用80%的数据做训练，20%的数据做测试\r\n",
    "    # 测试集和训练集必须是没有交集的\r\n",
    "    ratio = 0.8\r\n",
    "    offset = int(data.shape[0] * ratio)\r\n",
    "    training_data = data[:offset]\r\n",
    "\r\n",
    "    # 计算训练集的最大值，最小值，平均值\r\n",
    "    maximums, minimums, avgs = training_data.max(axis=0), training_data.min(axis=0), \\\r\n",
    "                                 training_data.sum(axis=0) / training_data.shape[0]\r\n",
    "\r\n",
    "    # 对数据进行归一化处理\r\n",
    "    for i in range(feature_num):\r\n",
    "        #print(maximums[i], minimums[i], avgs[i])\r\n",
    "        data[:, i] = (data[:, i] - minimums[i]) / (maximums[i] - minimums[i])\r\n",
    "\r\n",
    "    # 训练集和测试集的划分比例\r\n",
    "    training_data = data[:offset]\r\n",
    "    test_data = data[offset:]\r\n",
    "    return training_data, test_data"
   ]
  },
  {
   "cell_type": "code",
   "execution_count": 179,
   "metadata": {
    "collapsed": false
   },
   "outputs": [],
   "source": [
    "training_data, test_data = load_data()\r\n",
    "x = training_data[:, :-1]\r\n",
    "y = training_data[:, -1:]"
   ]
  },
  {
   "cell_type": "code",
   "execution_count": 180,
   "metadata": {
    "collapsed": false
   },
   "outputs": [],
   "source": [
    "class Network(object):\r\n",
    "    def __init__(self, num_of_weights):\r\n",
    "        # 随机产生w的初始值\r\n",
    "        # 为了保持程序每次运行结果的一致性，此处设置固定的随机数种子\r\n",
    "        #np.random.seed(0)\r\n",
    "        self.w = np.random.randn(num_of_weights, 1)\r\n",
    "        self.b = 0.\r\n",
    "        \r\n",
    "    def forward(self, x):\r\n",
    "        z = np.dot(x, self.w) + self.b\r\n",
    "        return z\r\n",
    "    \r\n",
    "    def loss(self, z, y):\r\n",
    "        error = z - y\r\n",
    "        num_samples = error.shape[0]\r\n",
    "        cost = error * error\r\n",
    "        cost = np.sum(cost) / num_samples\r\n",
    "        return cost\r\n",
    "    \r\n",
    "    def gradient(self, x, y):\r\n",
    "        z = self.forward(x)\r\n",
    "        N = x.shape[0]\r\n",
    "        gradient_w = 1. / N * np.sum((z-y) * x, axis=0)\r\n",
    "        gradient_w = gradient_w[:, np.newaxis]\r\n",
    "        gradient_b = 1. / N * np.sum(z-y)\r\n",
    "        return gradient_w, gradient_b\r\n",
    "    \r\n",
    "    def update(self, gradient_w, gradient_b, eta = 0.01):\r\n",
    "        self.w = self.w - eta * gradient_w\r\n",
    "        self.b = self.b - eta * gradient_b\r\n",
    "            \r\n",
    "                \r\n",
    "    def train(self, training_data, num_epochs, batch_size=10, eta=0.01):\r\n",
    "        n = len(training_data)\r\n",
    "        losses = []\r\n",
    "        for epoch_id in range(num_epochs):\r\n",
    "            # 在每轮迭代开始之前，将训练数据的顺序随机打乱\r\n",
    "            # 然后再按每次取batch_size条数据的方式取出\r\n",
    "            np.random.shuffle(training_data)\r\n",
    "            # 将训练数据进行拆分，每个mini_batch包含batch_size条的数据\r\n",
    "            mini_batches = [training_data[k:k+batch_size] for k in range(0, n, batch_size)]\r\n",
    "            for iter_id, mini_batch in enumerate(mini_batches):\r\n",
    "                #print(self.w.shape)\r\n",
    "                #print(self.b)\r\n",
    "                x = mini_batch[:, :-1]\r\n",
    "                y = mini_batch[:, -1:]\r\n",
    "                a = self.forward(x)\r\n",
    "                loss = self.loss(a, y)\r\n",
    "                gradient_w, gradient_b = self.gradient(x, y)\r\n",
    "                self.update(gradient_w, gradient_b, eta)\r\n",
    "                losses.append(loss)\r\n",
    "                print('Epoch {:3d} / iter {:3d}, loss = {:.4f}'.\r\n",
    "                                 format(epoch_id, iter_id, loss))\r\n",
    "        \r\n",
    "        return losses"
   ]
  },
  {
   "cell_type": "code",
   "execution_count": 181,
   "metadata": {
    "collapsed": false
   },
   "outputs": [],
   "source": [
    "# 获取数据\r\n",
    "train_data, test_data = load_data()\r\n",
    "x_train = train_data[:, :-1]\r\n",
    "y_train = train_data[:, -1:]\r\n",
    "x_test = test_data[:, :-1]\r\n",
    "y_test = test_data[:, -1:]"
   ]
  },
  {
   "cell_type": "code",
   "execution_count": 182,
   "metadata": {
    "collapsed": false
   },
   "outputs": [],
   "source": [
    "# 创建网络\r\n",
    "net = Network(13)"
   ]
  },
  {
   "cell_type": "code",
   "execution_count": 183,
   "metadata": {
    "collapsed": false
   },
   "outputs": [
    {
     "name": "stdout",
     "output_type": "stream",
     "text": [
      "Epoch   0 / iter   0, loss = 1.7729\n",
      "Epoch   0 / iter   1, loss = 0.9943\n",
      "Epoch   0 / iter   2, loss = 0.6020\n",
      "Epoch   0 / iter   3, loss = 0.3522\n",
      "Epoch   0 / iter   4, loss = 0.2023\n",
      "Epoch   1 / iter   0, loss = 0.3149\n",
      "Epoch   1 / iter   1, loss = 0.3655\n",
      "Epoch   1 / iter   2, loss = 0.3521\n",
      "Epoch   1 / iter   3, loss = 0.4300\n",
      "Epoch   1 / iter   4, loss = 0.3956\n",
      "Epoch   2 / iter   0, loss = 0.3531\n",
      "Epoch   2 / iter   1, loss = 0.4585\n",
      "Epoch   2 / iter   2, loss = 0.2286\n",
      "Epoch   2 / iter   3, loss = 0.2584\n",
      "Epoch   2 / iter   4, loss = 0.6880\n",
      "Epoch   3 / iter   0, loss = 0.3030\n",
      "Epoch   3 / iter   1, loss = 0.3476\n",
      "Epoch   3 / iter   2, loss = 0.3002\n",
      "Epoch   3 / iter   3, loss = 0.2667\n",
      "Epoch   3 / iter   4, loss = 0.3141\n",
      "Epoch   4 / iter   0, loss = 0.2708\n",
      "Epoch   4 / iter   1, loss = 0.2440\n",
      "Epoch   4 / iter   2, loss = 0.2904\n",
      "Epoch   4 / iter   3, loss = 0.3238\n",
      "Epoch   4 / iter   4, loss = 0.2590\n",
      "Epoch   5 / iter   0, loss = 0.2723\n",
      "Epoch   5 / iter   1, loss = 0.2499\n",
      "Epoch   5 / iter   2, loss = 0.3089\n",
      "Epoch   5 / iter   3, loss = 0.2408\n",
      "Epoch   5 / iter   4, loss = 0.0738\n",
      "Epoch   6 / iter   0, loss = 0.2488\n",
      "Epoch   6 / iter   1, loss = 0.2276\n",
      "Epoch   6 / iter   2, loss = 0.2751\n",
      "Epoch   6 / iter   3, loss = 0.2257\n",
      "Epoch   6 / iter   4, loss = 0.4135\n",
      "Epoch   7 / iter   0, loss = 0.2674\n",
      "Epoch   7 / iter   1, loss = 0.2607\n",
      "Epoch   7 / iter   2, loss = 0.2143\n",
      "Epoch   7 / iter   3, loss = 0.2113\n",
      "Epoch   7 / iter   4, loss = 0.3167\n",
      "Epoch   8 / iter   0, loss = 0.2341\n",
      "Epoch   8 / iter   1, loss = 0.2026\n",
      "Epoch   8 / iter   2, loss = 0.2591\n",
      "Epoch   8 / iter   3, loss = 0.1800\n",
      "Epoch   8 / iter   4, loss = 0.0730\n",
      "Epoch   9 / iter   0, loss = 0.2192\n",
      "Epoch   9 / iter   1, loss = 0.1935\n",
      "Epoch   9 / iter   2, loss = 0.1953\n",
      "Epoch   9 / iter   3, loss = 0.2082\n",
      "Epoch   9 / iter   4, loss = 0.1912\n",
      "Epoch  10 / iter   0, loss = 0.1952\n",
      "Epoch  10 / iter   1, loss = 0.2099\n",
      "Epoch  10 / iter   2, loss = 0.2042\n",
      "Epoch  10 / iter   3, loss = 0.1701\n",
      "Epoch  10 / iter   4, loss = 0.0993\n",
      "Epoch  11 / iter   0, loss = 0.1995\n",
      "Epoch  11 / iter   1, loss = 0.1716\n",
      "Epoch  11 / iter   2, loss = 0.2207\n",
      "Epoch  11 / iter   3, loss = 0.1515\n",
      "Epoch  11 / iter   4, loss = 0.0327\n",
      "Epoch  12 / iter   0, loss = 0.1756\n",
      "Epoch  12 / iter   1, loss = 0.2110\n",
      "Epoch  12 / iter   2, loss = 0.1400\n",
      "Epoch  12 / iter   3, loss = 0.1674\n",
      "Epoch  12 / iter   4, loss = 0.2856\n",
      "Epoch  13 / iter   0, loss = 0.1751\n",
      "Epoch  13 / iter   1, loss = 0.1753\n",
      "Epoch  13 / iter   2, loss = 0.1848\n",
      "Epoch  13 / iter   3, loss = 0.1246\n",
      "Epoch  13 / iter   4, loss = 0.2689\n",
      "Epoch  14 / iter   0, loss = 0.1929\n",
      "Epoch  14 / iter   1, loss = 0.1585\n",
      "Epoch  14 / iter   2, loss = 0.1723\n",
      "Epoch  14 / iter   3, loss = 0.1637\n",
      "Epoch  14 / iter   4, loss = 0.1401\n",
      "Epoch  15 / iter   0, loss = 0.1720\n",
      "Epoch  15 / iter   1, loss = 0.1743\n",
      "Epoch  15 / iter   2, loss = 0.1034\n",
      "Epoch  15 / iter   3, loss = 0.1504\n",
      "Epoch  15 / iter   4, loss = 0.3681\n",
      "Epoch  16 / iter   0, loss = 0.1304\n",
      "Epoch  16 / iter   1, loss = 0.1636\n",
      "Epoch  16 / iter   2, loss = 0.1654\n",
      "Epoch  16 / iter   3, loss = 0.1163\n",
      "Epoch  16 / iter   4, loss = 0.1888\n",
      "Epoch  17 / iter   0, loss = 0.1478\n",
      "Epoch  17 / iter   1, loss = 0.1108\n",
      "Epoch  17 / iter   2, loss = 0.1064\n",
      "Epoch  17 / iter   3, loss = 0.1766\n",
      "Epoch  17 / iter   4, loss = 0.0726\n",
      "Epoch  18 / iter   0, loss = 0.1816\n",
      "Epoch  18 / iter   1, loss = 0.1146\n",
      "Epoch  18 / iter   2, loss = 0.1175\n",
      "Epoch  18 / iter   3, loss = 0.1087\n",
      "Epoch  18 / iter   4, loss = 0.1143\n",
      "Epoch  19 / iter   0, loss = 0.1192\n",
      "Epoch  19 / iter   1, loss = 0.1251\n",
      "Epoch  19 / iter   2, loss = 0.1276\n",
      "Epoch  19 / iter   3, loss = 0.1376\n",
      "Epoch  19 / iter   4, loss = 0.0604\n",
      "Epoch  20 / iter   0, loss = 0.1491\n",
      "Epoch  20 / iter   1, loss = 0.1245\n",
      "Epoch  20 / iter   2, loss = 0.1085\n",
      "Epoch  20 / iter   3, loss = 0.0934\n",
      "Epoch  20 / iter   4, loss = 0.2861\n",
      "Epoch  21 / iter   0, loss = 0.1147\n",
      "Epoch  21 / iter   1, loss = 0.1419\n",
      "Epoch  21 / iter   2, loss = 0.1035\n",
      "Epoch  21 / iter   3, loss = 0.1155\n",
      "Epoch  21 / iter   4, loss = 0.1174\n",
      "Epoch  22 / iter   0, loss = 0.1198\n",
      "Epoch  22 / iter   1, loss = 0.0961\n",
      "Epoch  22 / iter   2, loss = 0.1241\n",
      "Epoch  22 / iter   3, loss = 0.0952\n",
      "Epoch  22 / iter   4, loss = 0.0554\n",
      "Epoch  23 / iter   0, loss = 0.1255\n",
      "Epoch  23 / iter   1, loss = 0.0877\n",
      "Epoch  23 / iter   2, loss = 0.1079\n",
      "Epoch  23 / iter   3, loss = 0.1108\n",
      "Epoch  23 / iter   4, loss = 0.0258\n",
      "Epoch  24 / iter   0, loss = 0.1166\n",
      "Epoch  24 / iter   1, loss = 0.0854\n",
      "Epoch  24 / iter   2, loss = 0.0878\n",
      "Epoch  24 / iter   3, loss = 0.1243\n",
      "Epoch  24 / iter   4, loss = 0.0540\n",
      "Epoch  25 / iter   0, loss = 0.1010\n",
      "Epoch  25 / iter   1, loss = 0.0848\n",
      "Epoch  25 / iter   2, loss = 0.1113\n",
      "Epoch  25 / iter   3, loss = 0.0983\n",
      "Epoch  25 / iter   4, loss = 0.1571\n",
      "Epoch  26 / iter   0, loss = 0.0968\n",
      "Epoch  26 / iter   1, loss = 0.0958\n",
      "Epoch  26 / iter   2, loss = 0.0994\n",
      "Epoch  26 / iter   3, loss = 0.0881\n",
      "Epoch  26 / iter   4, loss = 0.0795\n",
      "Epoch  27 / iter   0, loss = 0.0887\n",
      "Epoch  27 / iter   1, loss = 0.0983\n",
      "Epoch  27 / iter   2, loss = 0.0850\n",
      "Epoch  27 / iter   3, loss = 0.0937\n",
      "Epoch  27 / iter   4, loss = 0.0522\n",
      "Epoch  28 / iter   0, loss = 0.0909\n",
      "Epoch  28 / iter   1, loss = 0.0968\n",
      "Epoch  28 / iter   2, loss = 0.0908\n",
      "Epoch  28 / iter   3, loss = 0.0721\n",
      "Epoch  28 / iter   4, loss = 0.1403\n",
      "Epoch  29 / iter   0, loss = 0.0740\n",
      "Epoch  29 / iter   1, loss = 0.0905\n",
      "Epoch  29 / iter   2, loss = 0.0847\n",
      "Epoch  29 / iter   3, loss = 0.0918\n",
      "Epoch  29 / iter   4, loss = 0.0218\n",
      "Epoch  30 / iter   0, loss = 0.0959\n",
      "Epoch  30 / iter   1, loss = 0.0914\n",
      "Epoch  30 / iter   2, loss = 0.0914\n",
      "Epoch  30 / iter   3, loss = 0.0553\n",
      "Epoch  30 / iter   4, loss = 0.0340\n",
      "Epoch  31 / iter   0, loss = 0.0912\n",
      "Epoch  31 / iter   1, loss = 0.0736\n",
      "Epoch  31 / iter   2, loss = 0.0986\n",
      "Epoch  31 / iter   3, loss = 0.0610\n",
      "Epoch  31 / iter   4, loss = 0.0813\n",
      "Epoch  32 / iter   0, loss = 0.0911\n",
      "Epoch  32 / iter   1, loss = 0.0711\n",
      "Epoch  32 / iter   2, loss = 0.0868\n",
      "Epoch  32 / iter   3, loss = 0.0661\n",
      "Epoch  32 / iter   4, loss = 0.0326\n",
      "Epoch  33 / iter   0, loss = 0.0889\n",
      "Epoch  33 / iter   1, loss = 0.0953\n",
      "Epoch  33 / iter   2, loss = 0.0618\n",
      "Epoch  33 / iter   3, loss = 0.0660\n",
      "Epoch  33 / iter   4, loss = 0.0412\n",
      "Epoch  34 / iter   0, loss = 0.0824\n",
      "Epoch  34 / iter   1, loss = 0.0564\n",
      "Epoch  34 / iter   2, loss = 0.0585\n",
      "Epoch  34 / iter   3, loss = 0.1095\n",
      "Epoch  34 / iter   4, loss = 0.0270\n",
      "Epoch  35 / iter   0, loss = 0.0680\n",
      "Epoch  35 / iter   1, loss = 0.0598\n",
      "Epoch  35 / iter   2, loss = 0.0855\n",
      "Epoch  35 / iter   3, loss = 0.0784\n",
      "Epoch  35 / iter   4, loss = 0.0644\n",
      "Epoch  36 / iter   0, loss = 0.0739\n",
      "Epoch  36 / iter   1, loss = 0.0885\n",
      "Epoch  36 / iter   2, loss = 0.0547\n",
      "Epoch  36 / iter   3, loss = 0.0697\n",
      "Epoch  36 / iter   4, loss = 0.0640\n",
      "Epoch  37 / iter   0, loss = 0.0522\n",
      "Epoch  37 / iter   1, loss = 0.0665\n",
      "Epoch  37 / iter   2, loss = 0.0773\n",
      "Epoch  37 / iter   3, loss = 0.0840\n",
      "Epoch  37 / iter   4, loss = 0.0354\n",
      "Epoch  38 / iter   0, loss = 0.0693\n",
      "Epoch  38 / iter   1, loss = 0.0534\n",
      "Epoch  38 / iter   2, loss = 0.0666\n",
      "Epoch  38 / iter   3, loss = 0.0813\n",
      "Epoch  38 / iter   4, loss = 0.1190\n",
      "Epoch  39 / iter   0, loss = 0.0651\n",
      "Epoch  39 / iter   1, loss = 0.0747\n",
      "Epoch  39 / iter   2, loss = 0.0548\n",
      "Epoch  39 / iter   3, loss = 0.0790\n",
      "Epoch  39 / iter   4, loss = 0.0474\n",
      "Epoch  40 / iter   0, loss = 0.0521\n",
      "Epoch  40 / iter   1, loss = 0.0844\n",
      "Epoch  40 / iter   2, loss = 0.0646\n",
      "Epoch  40 / iter   3, loss = 0.0625\n",
      "Epoch  40 / iter   4, loss = 0.0363\n",
      "Epoch  41 / iter   0, loss = 0.0490\n",
      "Epoch  41 / iter   1, loss = 0.0776\n",
      "Epoch  41 / iter   2, loss = 0.0642\n",
      "Epoch  41 / iter   3, loss = 0.0682\n",
      "Epoch  41 / iter   4, loss = 0.0388\n",
      "Epoch  42 / iter   0, loss = 0.0582\n",
      "Epoch  42 / iter   1, loss = 0.0597\n",
      "Epoch  42 / iter   2, loss = 0.0699\n",
      "Epoch  42 / iter   3, loss = 0.0633\n",
      "Epoch  42 / iter   4, loss = 0.0625\n",
      "Epoch  43 / iter   0, loss = 0.0513\n",
      "Epoch  43 / iter   1, loss = 0.0738\n",
      "Epoch  43 / iter   2, loss = 0.0419\n",
      "Epoch  43 / iter   3, loss = 0.0808\n",
      "Epoch  43 / iter   4, loss = 0.0117\n",
      "Epoch  44 / iter   0, loss = 0.0598\n",
      "Epoch  44 / iter   1, loss = 0.0530\n",
      "Epoch  44 / iter   2, loss = 0.0594\n",
      "Epoch  44 / iter   3, loss = 0.0703\n",
      "Epoch  44 / iter   4, loss = 0.0162\n",
      "Epoch  45 / iter   0, loss = 0.0561\n",
      "Epoch  45 / iter   1, loss = 0.0585\n",
      "Epoch  45 / iter   2, loss = 0.0551\n",
      "Epoch  45 / iter   3, loss = 0.0684\n",
      "Epoch  45 / iter   4, loss = 0.0314\n",
      "Epoch  46 / iter   0, loss = 0.0810\n",
      "Epoch  46 / iter   1, loss = 0.0484\n",
      "Epoch  46 / iter   2, loss = 0.0466\n",
      "Epoch  46 / iter   3, loss = 0.0601\n",
      "Epoch  46 / iter   4, loss = 0.0221\n",
      "Epoch  47 / iter   0, loss = 0.0514\n",
      "Epoch  47 / iter   1, loss = 0.0597\n",
      "Epoch  47 / iter   2, loss = 0.0653\n",
      "Epoch  47 / iter   3, loss = 0.0549\n",
      "Epoch  47 / iter   4, loss = 0.0512\n",
      "Epoch  48 / iter   0, loss = 0.0748\n",
      "Epoch  48 / iter   1, loss = 0.0661\n",
      "Epoch  48 / iter   2, loss = 0.0390\n",
      "Epoch  48 / iter   3, loss = 0.0476\n",
      "Epoch  48 / iter   4, loss = 0.0437\n",
      "Epoch  49 / iter   0, loss = 0.0613\n",
      "Epoch  49 / iter   1, loss = 0.0529\n",
      "Epoch  49 / iter   2, loss = 0.0532\n",
      "Epoch  49 / iter   3, loss = 0.0579\n",
      "Epoch  49 / iter   4, loss = 0.0036\n"
     ]
    }
   ],
   "source": [
    "# 启动训练\r\n",
    "losses = net.train(train_data, num_epochs=50, batch_size=100, eta=0.1)"
   ]
  },
  {
   "cell_type": "code",
   "execution_count": 184,
   "metadata": {
    "collapsed": false
   },
   "outputs": [
    {
     "data": {
      "image/png": "[encoded data removed]",
      "text/plain": [
       "<Figure size 432x288 with 1 Axes>"
      ]
     },
     "metadata": {},
     "output_type": "display_data"
    }
   ],
   "source": [
    "# 画出损失函数的变化趋势\r\n",
    "plot_x = np.arange(len(losses))\r\n",
    "plot_y = np.array(losses)\r\n",
    "plt.plot(plot_x, plot_y)\r\n",
    "plt.show()"
   ]
  },
  {
   "cell_type": "code",
   "execution_count": 185,
   "metadata": {
    "collapsed": false
   },
   "outputs": [
    {
     "data": {
      "image/png": "[encoded data removed]",
      "text/plain": [
       "<Figure size 432x288 with 1 Axes>"
      ]
     },
     "metadata": {},
     "output_type": "display_data"
    }
   ],
   "source": [
    "#画出真实值和预测值的曲线\r\n",
    "t = np.arange(len(x_test))\r\n",
    "y_predict = net.forward(x_test)\r\n",
    "plt.plot(t,y_test,'r',label= 'test')\r\n",
    "plt.plot(t,y_predict,'g',label= 'predict')\r\n",
    "plt.legend()\r\n",
    "plt.show()"
   ]
  },
  {
   "cell_type": "code",
   "execution_count": 186,
   "metadata": {
    "collapsed": false
   },
   "outputs": [],
   "source": [
    "#加载飞桨、Numpy和相关类库\r\n",
    "import paddle\r\n",
    "from paddle.nn import Linear\r\n",
    "import paddle.nn.functional as F\r\n",
    "import numpy as np\r\n",
    "import os\r\n",
    "import random"
   ]
  },
  {
   "cell_type": "code",
   "execution_count": 187,
   "metadata": {
    "collapsed": false
   },
   "outputs": [],
   "source": [
    "def load_data():\r\n",
    "    # 从文件导入数据\r\n",
    "    datafile = '/home/aistudio/data/data49217/housing.data'\r\n",
    "    data = np.fromfile(datafile, sep=' ', dtype=np.float32)\r\n",
    "\r\n",
    "    # 每条数据包括14项，其中前面13项是影响因素，第14项是相应的房屋价格中位数\r\n",
    "    feature_names = [ 'CRIM', 'ZN', 'INDUS', 'CHAS', 'NOX', 'RM', 'AGE', \\\r\n",
    "                      'DIS', 'RAD', 'TAX', 'PTRATIO', 'B', 'LSTAT', 'MEDV' ]\r\n",
    "    feature_num = len(feature_names)\r\n",
    "\r\n",
    "    # 将原始数据进行Reshape，变成[N, 14]这样的形状\r\n",
    "    data = data.reshape([data.shape[0] // feature_num, feature_num])\r\n",
    "\r\n",
    "    # 将原数据集拆分成训练集和测试集\r\n",
    "    # 这里使用80%的数据做训练，20%的数据做测试\r\n",
    "    # 测试集和训练集必须是没有交集的\r\n",
    "    ratio = 0.8\r\n",
    "    offset = int(data.shape[0] * ratio)\r\n",
    "    training_data = data[:offset]\r\n",
    "\r\n",
    "    # 计算train数据集的最大值，最小值，平均值\r\n",
    "    maximums, minimums, avgs = training_data.max(axis=0), training_data.min(axis=0), \\\r\n",
    "                                 training_data.sum(axis=0) / training_data.shape[0]\r\n",
    "    \r\n",
    "    # 记录数据的归一化参数，在预测时对数据做归一化\r\n",
    "    global max_values\r\n",
    "    global min_values\r\n",
    "    global avg_values\r\n",
    "    max_values = maximums\r\n",
    "    min_values = minimums\r\n",
    "    avg_values = avgs\r\n",
    "\r\n",
    "    # 对数据进行归一化处理\r\n",
    "    for i in range(feature_num):\r\n",
    "        data[:, i] = (data[:, i] - avgs[i]) / (maximums[i] - minimums[i])\r\n",
    "\r\n",
    "    # 训练集和测试集的划分比例\r\n",
    "    training_data = data[:offset]\r\n",
    "    test_data = data[offset:]\r\n",
    "    return training_data, test_data"
   ]
  },
  {
   "cell_type": "code",
   "execution_count": 188,
   "metadata": {
    "collapsed": false
   },
   "outputs": [],
   "source": [
    "class Regressor(paddle.nn.Layer):\r\n",
    "\r\n",
    "    # self代表类的实例自身\r\n",
    "    def __init__(self):\r\n",
    "        # 初始化父类中的一些参数\r\n",
    "        super(Regressor, self).__init__()\r\n",
    "        \r\n",
    "        # 定义一层全连接层，输入维度是13，输出维度是1\r\n",
    "        self.fc = Linear(in_features=13, out_features=1)\r\n",
    "    \r\n",
    "    # 网络的前向计算\r\n",
    "    def forward(self, inputs):\r\n",
    "        x = self.fc(inputs)\r\n",
    "        return x"
   ]
  },
  {
   "cell_type": "code",
   "execution_count": 189,
   "metadata": {
    "collapsed": false
   },
   "outputs": [],
   "source": [
    "# 声明定义好的线性回归模型\r\n",
    "model = Regressor()\r\n",
    "# 开启模型训练模式\r\n",
    "model.train()\r\n",
    "# 加载数据\r\n",
    "training_data, test_data = load_data()\r\n",
    "# 定义优化算法，使用随机梯度下降SGD\r\n",
    "# 学习率设置为0.01\r\n",
    "opt = paddle.optimizer.SGD(learning_rate=0.01, parameters=model.parameters())\r\n"
   ]
  },
  {
   "cell_type": "code",
   "execution_count": 190,
   "metadata": {
    "collapsed": false
   },
   "outputs": [
    {
     "name": "stdout",
     "output_type": "stream",
     "text": [
      "epoch: 0, iter: 0, loss is: [0.136552]\n",
      "epoch: 0, iter: 20, loss is: [0.08623151]\n",
      "epoch: 0, iter: 40, loss is: [0.40314192]\n",
      "epoch: 1, iter: 0, loss is: [0.04426612]\n",
      "epoch: 1, iter: 20, loss is: [0.16992335]\n",
      "epoch: 1, iter: 40, loss is: [0.06998558]\n",
      "epoch: 2, iter: 0, loss is: [0.03427515]\n",
      "epoch: 2, iter: 20, loss is: [0.10638505]\n",
      "epoch: 2, iter: 40, loss is: [0.00719206]\n",
      "epoch: 3, iter: 0, loss is: [0.06770986]\n",
      "epoch: 3, iter: 20, loss is: [0.0405423]\n",
      "epoch: 3, iter: 40, loss is: [0.02521848]\n",
      "epoch: 4, iter: 0, loss is: [0.08114425]\n",
      "epoch: 4, iter: 20, loss is: [0.05919357]\n",
      "epoch: 4, iter: 40, loss is: [0.01536326]\n",
      "epoch: 5, iter: 0, loss is: [0.07074254]\n",
      "epoch: 5, iter: 20, loss is: [0.04617733]\n",
      "epoch: 5, iter: 40, loss is: [0.05307287]\n",
      "epoch: 6, iter: 0, loss is: [0.06220507]\n",
      "epoch: 6, iter: 20, loss is: [0.04059447]\n",
      "epoch: 6, iter: 40, loss is: [0.03766714]\n",
      "epoch: 7, iter: 0, loss is: [0.0384611]\n",
      "epoch: 7, iter: 20, loss is: [0.04463588]\n",
      "epoch: 7, iter: 40, loss is: [0.04470121]\n",
      "epoch: 8, iter: 0, loss is: [0.02348981]\n",
      "epoch: 8, iter: 20, loss is: [0.03044719]\n",
      "epoch: 8, iter: 40, loss is: [0.03212074]\n",
      "epoch: 9, iter: 0, loss is: [0.05471023]\n",
      "epoch: 9, iter: 20, loss is: [0.06670326]\n",
      "epoch: 9, iter: 40, loss is: [0.01512656]\n"
     ]
    }
   ],
   "source": [
    "EPOCH_NUM = 10   # 设置外层循环次数\r\n",
    "BATCH_SIZE = 10  # 设置batch大小\r\n",
    "\r\n",
    "# 定义外层循环\r\n",
    "losses = []\r\n",
    "for epoch_id in range(EPOCH_NUM):\r\n",
    "    # 在每轮迭代开始之前，将训练数据的顺序随机的打乱\r\n",
    "    np.random.shuffle(training_data)\r\n",
    "    # 将训练数据进行拆分，每个batch包含10条数据\r\n",
    "    mini_batches = [training_data[k:k+BATCH_SIZE] for k in range(0, len(training_data), BATCH_SIZE)]\r\n",
    "    # 定义内层循环\r\n",
    "    for iter_id, mini_batch in enumerate(mini_batches):\r\n",
    "        x = np.array(mini_batch[:, :-1]) # 获得当前批次训练数据\r\n",
    "        y = np.array(mini_batch[:, -1:]) # 获得当前批次训练标签（真实房价）\r\n",
    "        # 将numpy数据转为飞桨动态图tensor形式\r\n",
    "        house_features = paddle.to_tensor(x)\r\n",
    "        prices = paddle.to_tensor(y)\r\n",
    "        \r\n",
    "        # 前向计算\r\n",
    "        predicts = model(house_features)\r\n",
    "        \r\n",
    "        # 计算损失\r\n",
    "        loss = F.square_error_cost(predicts, label=prices)\r\n",
    "        losses.append(loss)\r\n",
    "        avg_loss = paddle.mean(loss)\r\n",
    "        if iter_id%20==0:\r\n",
    "            print(\"epoch: {}, iter: {}, loss is: {}\".format(epoch_id, iter_id, avg_loss.numpy()))\r\n",
    "        \r\n",
    "        # 反向传播\r\n",
    "        avg_loss.backward()\r\n",
    "        # 最小化loss,更新参数\r\n",
    "        opt.step()\r\n",
    "        # 清除梯度\r\n",
    "        opt.clear_grad()"
   ]
  },
  {
   "cell_type": "code",
   "execution_count": 191,
   "metadata": {
    "collapsed": false
   },
   "outputs": [
    {
     "name": "stdout",
     "output_type": "stream",
     "text": [
      "模型保存成功，模型参数保存在LR_model.pdparams中\n"
     ]
    }
   ],
   "source": [
    "# 保存模型参数，文件名为LR_model.pdparams\r\n",
    "paddle.save(model.state_dict(), 'LR_model.pdparams')\r\n",
    "print(\"模型保存成功，模型参数保存在LR_model.pdparams中\")"
   ]
  },
  {
   "cell_type": "code",
   "execution_count": 192,
   "metadata": {
    "collapsed": false
   },
   "outputs": [],
   "source": [
    "def load_one_example():\r\n",
    "    # 从上边已加载的测试集中，随机选择一条作为测试数据\r\n",
    "    idx = np.random.randint(0, test_data.shape[0])\r\n",
    "    idx = -10\r\n",
    "    one_data, label = test_data[idx, :-1], test_data[idx, -1]\r\n",
    "    # 修改该条数据shape为[1,13]\r\n",
    "    one_data =  one_data.reshape([1,-1])\r\n",
    "\r\n",
    "    return one_data, label"
   ]
  },
  {
   "cell_type": "code",
   "execution_count": 193,
   "metadata": {
    "collapsed": false
   },
   "outputs": [
    {
     "name": "stdout",
     "output_type": "stream",
     "text": [
      "Inference result is [[18.948505]], the corresponding label is 19.700000762939453\n"
     ]
    }
   ],
   "source": [
    "# 参数为保存模型参数的文件地址\r\n",
    "model_dict = paddle.load('LR_model.pdparams')\r\n",
    "model.load_dict(model_dict)\r\n",
    "model.eval()\r\n",
    "\r\n",
    "# 参数为数据集的文件地址\r\n",
    "one_data, label = load_one_example()\r\n",
    "# 将数据转为动态图的variable格式 \r\n",
    "one_data = paddle.to_tensor(one_data)\r\n",
    "predict = model(one_data)\r\n",
    "# 对结果做反归一化处理\r\n",
    "predict = predict * (max_values[-1] - min_values[-1]) + avg_values[-1]\r\n",
    "# 对label数据做反归一化处理\r\n",
    "label = label * (max_values[-1] - min_values[-1]) + avg_values[-1]\r\n",
    "\r\n",
    "print(\"Inference result is {}, the corresponding label is {}\".format(predict.numpy(), label))\r\n"
   ]
  }
 ],
 "metadata": {
  "kernelspec": {
   "display_name": "PaddlePaddle 2.1.0 (Python 3.5)",
   "language": "python",
   "name": "py35-paddle1.2.0"
  },
  "language_info": {
   "codemirror_mode": {
    "name": "ipython",
    "version": 3
   },
   "file_extension": ".py",
   "mimetype": "text/x-python",
   "name": "python",
   "nbconvert_exporter": "python",
   "pygments_lexer": "ipython3",
   "version": "3.7.4"
  }
 },
 "nbformat": 4,
 "nbformat_minor": 1
}
