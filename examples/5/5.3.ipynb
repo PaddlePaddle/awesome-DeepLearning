{
 "cells": [
  {
   "cell_type": "markdown",
   "metadata": {
    "collapsed": false
   },
   "source": [
    "## 注意\n",
    "\n",
    "本项目代码包含多个文件, Fork并使用GPU环境来运行后, 才能看到项目完整代码, 并正确运行:\n",
    "\n",
    "<img src=\"https://ai-studio-static-online.cdn.bcebos.com/767f625548714f03b105b6ccb3aa78df9080e38d329e445380f505ddec6c7042\" width=\"40%\" height=\"40%\">\n",
    "\n",
    "<br>\n",
    "\n",
    "<br>\n",
    "\n",
    "并请检查相关参数设置, 例如use_gpu, fluid.CUDAPlace(0)等处是否设置正确. "
   ]
  },
  {
   "cell_type": "markdown",
   "metadata": {
    "collapsed": false
   },
   "source": [
    "\n",
    "\n",
    "# 语言模型\n",
    "\n",
    "# 简介\n",
    "\n",
    "## 1. 任务说明\n",
    "本文主要介绍基于lstm的语言的模型的实现，给定一个输入词序列（中文分词、英文tokenize），计算其ppl（语言模型困惑度，用户表示句子的流利程度），基于循环神经网络语言模型的介绍可以[参阅论文](https://arxiv.org/abs/1409.2329)。相对于传统的方法，基于循环神经网络的方法能够更好的解决稀疏词的问题。\n",
    "\n",
    "## 2. 效果说明\n",
    "在small meidum large三个不同配置情况的ppl对比：\n",
    "\n",
    "|  small config  |    train    |   valid    |    test      |\n",
    "| :------------- | :---------: | :--------: | :----------: |\n",
    "|     paddle     |    40.962   |  118.111   |   112.617    |\n",
    "|   tensorflow   |    40.492   |  118.329   |   113.788    |\n",
    "\n",
    "|  medium config |    train    |   valid    |    test      |\n",
    "| :------------- | :---------: | :--------: | :----------: |\n",
    "|     paddle     |    45.620   |  87.398    |    83.682    |\n",
    "|   tensorflow   |    45.594   |  87.363    |    84.015    |\n",
    "\n",
    "|  large config  |    train    |   valid    |    test      |\n",
    "| :------------- | :---------: | :--------: | :----------: |\n",
    "|     paddle     |    37.221   |  82.358    |    78.137    |\n",
    "|   tensorflow   |    38.342   |  82.311    |    78.121    |\n",
    "\n",
    "## 3. 数据集\n",
    "此任务的数据集合是采用ptb dataset，下载地址为: http://www.fit.vutbr.cz/~imikolov/rnnlm/simple-examples.tgz\n",
    "\n",
    "\n",
    "# 快速开始\n",
    "\n",
    "## 1. 开始第一次模型调用\n",
    "\n",
    "\n",
    "### 训练或fine-tune\n",
    "任务训练启动命令如下：\n",
    "```\n",
    "!python train.py --use_gpu True --data_path data/data11325/simple-examples/data --model_type small --rnn_model basic_lstm\n",
    "```\n",
    "- 需要指定数据的目录，默认训练文件名为 ptb.train.txt，可用--train_file指定；默认验证文件名为 ptb.valid.txt，可用--eval_file指定；默认测试文件名为 ptb.test.txt，可用--test_file指定\n",
    "- 模型的大小(默认为small，用户可以选择medium， 或者large)\n",
    "- 模型的类型（默认为static，可选项static|padding|cudnn|basic_lstm）\n",
    "- batch大小默认和模型大小有关，可以通过--batch_size指定\n",
    "- 训练轮数默认和模型大小有关，可以通过--max_epoch指定\n",
    "- 默认将模型保存在当前目录的models目录下\n",
    "\n",
    "# 进阶使用\n",
    "## 1. 任务定义与建模\n",
    "此任务目的是给定一个输入的词序列，预测下一个词出现的概率。\n",
    "\n",
    "## 2. 模型原理介绍\n",
    "此任务采用了序列任务常用的rnn网络，实现了一个两层的lstm网络，然后lstm的结果去预测下一个词出现的概率。计算的每一个概率和实际下一个词的交叉熵，然后求和，做e的次幂，得到困惑度ppl。当前计算方式和句子的长度有关，仍需要继续优化。\n",
    "\n",
    "由于数据的特殊性，每一个batch的last hidden和last cell会被作为下一个batch 的init hidden 和 init cell，数据的特殊性下节会介绍。\n",
    "\n",
    "\n",
    "## 3. 数据格式说明\n",
    "此任务的数据格式比较简单，每一行为一个已经分好词（英文的tokenize）的词序列。\n",
    "\n",
    "目前的句子示例如下图所示:\n",
    "```\n",
    "aer banknote berlitz calloway centrust cluett fromstein gitano guterman hydro-quebec ipo kia memotec mlx nahb punts rake regatta rubens sim snack-food ssangyong swapo wachter\n",
    "pierre <unk> N years old will join the board as a nonexecutive director nov. N\n",
    "mr. <unk> is chairman of <unk> n.v. the dutch publishing group\n",
    "```\n",
    "特殊说明：ptb的数据比较特殊，ptb的数据来源于一些文章，相邻的句子可能来源于一个段落或者相邻的段落，ptb 数据不能做shuffle\n",
    "\n",
    "\n",
    "\n",
    "## 4. 目录结构\n",
    "\n",
    "```text\n",
    ".\n",
    "├── train.py             # 训练代码\n",
    "├── reader.py            # 数据读取\n",
    "├── args.py              # 参数读取\n",
    "├── config.py              # 训练配置\n",
    "├── data                # 数据下载\n",
    "├── language_model.py  \t\t  # 模型定义文件\n",
    "```\n",
    "\n",
    "## 5. 如何组建自己的模型\n",
    "+ **自定义数据：** 关于数据，如果可以把自己的数据先进行分词（或者tokenize），然后放入到data目录下，并修改reader.py中文件的名称，如果句子之间没有关联，用户可以将`train.py`中更新的代码注释掉。\n",
    "    ```\n",
    "    init_hidden = np.array(fetch_outs[1])\n",
    "    init_cell = np.array(fetch_outs[2])\n",
    "    ```\n",
    "\n",
    "+ **网络结构更改：** 网络只实现了基于lstm的语言模型，用户可以自己的需求更换为gru或者self等网络结构，这些实现都是在language_model.py 中定义"
   ]
  },
  {
   "cell_type": "code",
   "execution_count": 1,
   "metadata": {
    "collapsed": false
   },
   "outputs": [],
   "source": [
    "# 解压数据集\r\n",
    "!cd data/data11325 && unzip -qo simple-examples.zip"
   ]
  },
  {
   "cell_type": "code",
   "execution_count": 2,
   "metadata": {
    "collapsed": false
   },
   "outputs": [
    {
     "name": "stdout",
     "output_type": "stream",
     "text": [
      "training\n",
      "2021-07-23 14:31:09,299-INFO: Running with args : Namespace(batch_size=0, data_path='data/data11325/simple-examples/data', enable_ce=False, eval_file='ptb.valid.txt', max_epoch=3, model_type='small', para_init=False, parallel=True, profile=False, rnn_model='basic_lstm', save_freeze_dir='freeze', save_model_dir='models', test_file='ptb.test.txt', train_file='ptb.train.txt', use_gpu=True, use_py_reader=False)\n",
      "2021-07-23 14:31:09,299 - [118] [line:278] - INFO: Running with args : Namespace(batch_size=0, data_path='data/data11325/simple-examples/data', enable_ce=False, eval_file='ptb.valid.txt', max_epoch=3, model_type='small', para_init=False, parallel=True, profile=False, rnn_model='basic_lstm', save_freeze_dir='freeze', save_model_dir='models', test_file='ptb.test.txt', train_file='ptb.train.txt', use_gpu=True, use_py_reader=False)\n",
      "2021-07-23 14:31:09,299-WARNING: paddle.fluid.layers.py_reader() may be deprecated in the near future. Please use paddle.fluid.io.DataLoader.from_generator() instead.\n",
      "2021-07-23 14:31:09,299 - [118] [line:712] - WARNING: paddle.fluid.layers.py_reader() may be deprecated in the near future. Please use paddle.fluid.io.DataLoader.from_generator() instead.\n",
      "/opt/conda/envs/python35-paddle120-env/lib/python3.7/site-packages/paddle/fluid/clip.py:779: UserWarning: Caution! 'set_gradient_clip' is not recommended and may be deprecated in future! We recommend a new strategy: set 'grad_clip' when initializing the 'optimizer'. This method can reduce the mistakes, please refer to documention of 'optimizer'.\n",
      "  warnings.warn(\"Caution! 'set_gradient_clip' is not recommended \"\n",
      "W0723 14:31:09.434087   118 device_context.cc:252] Please NOTE: device: 0, CUDA Capability: 70, Driver API Version: 10.1, Runtime API Version: 9.0\n",
      "W0723 14:31:09.439827   118 device_context.cc:260] device: 0, cuDNN Version: 7.6.\n",
      "2021-07-23 14:31:12,851-INFO: begin to load data\n",
      "2021-07-23 14:31:12,851 - [118] [line:318] - INFO: begin to load data\n",
      "2021-07-23 14:31:12,985-INFO: vocab word num 10000\n",
      "2021-07-23 14:31:12,985 - [118] [line:38] - INFO: vocab word num 10000\n",
      "2021-07-23 14:31:13,235-INFO: finished load data\n",
      "2021-07-23 14:31:13,235 - [118] [line:327] - INFO: finished load data\n",
      "W0723 14:31:13.298563   118 fuse_optimizer_op_pass.cc:191] Find sgd operators : 7, and 7 for dense gradients. To make the speed faster, those optimization are fused during training.\n",
      "2021-07-23 14:31:20,484-INFO: -- Epoch:[0]; Batch:[232]; Time: 0.03039 s; ppl: 866.45282, lr: 1.00000\n",
      "2021-07-23 14:31:20,484 - [118] [line:230] - INFO: -- Epoch:[0]; Batch:[232]; Time: 0.03039 s; ppl: 866.45282, lr: 1.00000\n",
      "2021-07-23 14:31:27,397-INFO: -- Epoch:[0]; Batch:[464]; Time: 0.03115 s; ppl: 630.60583, lr: 1.00000\n",
      "2021-07-23 14:31:27,397 - [118] [line:230] - INFO: -- Epoch:[0]; Batch:[464]; Time: 0.03115 s; ppl: 630.60583, lr: 1.00000\n"
     ]
    }
   ],
   "source": [
    "# 运行训练，使用GPU，并且使用小模型\r\n",
    "# 训练轮数也限制到3轮，以避免日志过多\r\n",
    "# 最终可以通过提高训练轮数达到比较好的效果\r\n",
    "!echo \"training\"\r\n",
    "!python train.py --use_gpu True --data_path data/data11325/simple-examples/data --model_type small --rnn_model basic_lstm --max_epoch=3"
   ]
  },
  {
   "cell_type": "code",
   "execution_count": 12,
   "metadata": {
    "collapsed": false
   },
   "outputs": [],
   "source": [
    "# 加模型进行预测\n",
    "!python infer.py --rnn_model basic_lstm"
   ]
  },
  {
   "cell_type": "code",
   "execution_count": null,
   "metadata": {
    "collapsed": false
   },
   "outputs": [],
   "source": []
  }
 ],
 "metadata": {
  "kernelspec": {
   "display_name": "PaddlePaddle 1.8.0 (Python 3.5)",
   "language": "python",
   "name": "py35-paddle1.2.0"
  },
  "language_info": {
   "codemirror_mode": {
    "name": "ipython",
    "version": 3
   },
   "file_extension": ".py",
   "mimetype": "text/x-python",
   "name": "python",
   "nbconvert_exporter": "python",
   "pygments_lexer": "ipython3",
   "version": "3.7.4"
  }
 },
 "nbformat": 4,
 "nbformat_minor": 1
}
