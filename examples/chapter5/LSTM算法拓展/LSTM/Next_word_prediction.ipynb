{
 "cells": [
  {
   "cell_type": "markdown",
   "metadata": {
    "collapsed": false
   },
   "source": [
    "# 数据预处理"
   ]
  },
  {
   "cell_type": "code",
   "execution_count": 93,
   "metadata": {
    "collapsed": false
   },
   "outputs": [],
   "source": [
    "import re\n",
    "import nltk\n",
    "# nltk.download('punkt')\n",
    "import paddle\n",
    "import numpy as np\n",
    "from sklearn import preprocessing  \n",
    "from nltk.tokenize import word_tokenize"
   ]
  },
  {
   "cell_type": "code",
   "execution_count": 94,
   "metadata": {
    "collapsed": false
   },
   "outputs": [],
   "source": [
    "corpus=open(\"./data/data101239/corpus.txt\").read()"
   ]
  },
  {
   "cell_type": "code",
   "execution_count": 95,
   "metadata": {
    "collapsed": false
   },
   "outputs": [
    {
     "data": {
      "text/plain": [
       "'Next Word Prediction is also called Language Modeling. It is the task of predicting what word comes next. It is one of the fundamental tasks of NLP and has many applications. You might be using it daily when you write texts or emails without realizing it.'"
      ]
     },
     "execution_count": 95,
     "metadata": {},
     "output_type": "execute_result"
    }
   ],
   "source": [
    "corpus"
   ]
  },
  {
   "cell_type": "code",
   "execution_count": 96,
   "metadata": {
    "collapsed": false
   },
   "outputs": [
    {
     "data": {
      "text/plain": [
       "['next',\n",
       " 'word',\n",
       " 'prediction',\n",
       " 'is',\n",
       " 'also',\n",
       " 'called',\n",
       " 'language',\n",
       " 'modeling',\n",
       " 'it',\n",
       " 'is',\n",
       " 'the',\n",
       " 'task',\n",
       " 'of',\n",
       " 'predicting',\n",
       " 'what',\n",
       " 'word',\n",
       " 'comes',\n",
       " 'next',\n",
       " 'it',\n",
       " 'is',\n",
       " 'one',\n",
       " 'of',\n",
       " 'the',\n",
       " 'fundamental',\n",
       " 'tasks',\n",
       " 'of',\n",
       " 'nlp',\n",
       " 'and',\n",
       " 'has',\n",
       " 'many',\n",
       " 'applications',\n",
       " 'you',\n",
       " 'might',\n",
       " 'be',\n",
       " 'using',\n",
       " 'it',\n",
       " 'daily',\n",
       " 'when',\n",
       " 'you',\n",
       " 'write',\n",
       " 'texts',\n",
       " 'or',\n",
       " 'emails',\n",
       " 'without',\n",
       " 'realizing',\n",
       " 'it']"
      ]
     },
     "execution_count": 96,
     "metadata": {},
     "output_type": "execute_result"
    }
   ],
   "source": [
    "# 将字母全部转为小写，并按照\n",
    "def preprocess(corpus):\n",
    "    corpus = corpus.strip().lower()\n",
    "    corpus=re.sub('[^a-z0-9]+',' ', corpus)\n",
    "    corpus = word_tokenize(corpus)\n",
    "    return corpus\n",
    "\n",
    "corpus = preprocess(corpus)\n",
    "corpus"
   ]
  },
  {
   "cell_type": "code",
   "execution_count": 97,
   "metadata": {
    "collapsed": false
   },
   "outputs": [],
   "source": [
    "def build_dict(corpus):\n",
    "    word_freq = dict()\n",
    "    for word in corpus:\n",
    "        if word not in word_freq:\n",
    "            word_freq[word] = 0\n",
    "        word_freq[word] += 1\n",
    "\n",
    "    word_freq = sorted(word_freq.items(), key = lambda x:x[1], reverse = True)\n",
    "\n",
    "    #构造3个不同的词典，分别存储，\n",
    "    #每个词到id的映射关系：word2id_dict\n",
    "    #每个id出现的频率：word2id_freq\n",
    "    #每个id到词典映射关系：id2word_dict\n",
    "    word2id_dict = dict()\n",
    "    word2id_freq = dict()\n",
    "    id2word_dict = dict()\n",
    "\n",
    "    #按照频率，从高到低，开始遍历每个单词，并为这个单词构造id\n",
    "    for word, freq in word_freq:\n",
    "        curr_id = len(word2id_dict)\n",
    "        word2id_dict[word] = curr_id\n",
    "        word2id_freq[word2id_dict[word]] = freq\n",
    "        id2word_dict[curr_id] = word\n",
    "\n",
    "    return word2id_freq, word2id_dict, id2word_dict\n",
    "\n",
    "word2id_freq, word2id_dict, id2word_dict = build_dict(corpus)"
   ]
  },
  {
   "cell_type": "code",
   "execution_count": 98,
   "metadata": {
    "collapsed": false
   },
   "outputs": [
    {
     "data": {
      "text/plain": [
       "{0: 4,\n",
       " 1: 3,\n",
       " 2: 3,\n",
       " 3: 2,\n",
       " 4: 2,\n",
       " 5: 2,\n",
       " 6: 2,\n",
       " 7: 1,\n",
       " 8: 1,\n",
       " 9: 1,\n",
       " 10: 1,\n",
       " 11: 1,\n",
       " 12: 1,\n",
       " 13: 1,\n",
       " 14: 1,\n",
       " 15: 1,\n",
       " 16: 1,\n",
       " 17: 1,\n",
       " 18: 1,\n",
       " 19: 1,\n",
       " 20: 1,\n",
       " 21: 1,\n",
       " 22: 1,\n",
       " 23: 1,\n",
       " 24: 1,\n",
       " 25: 1,\n",
       " 26: 1,\n",
       " 27: 1,\n",
       " 28: 1,\n",
       " 29: 1,\n",
       " 30: 1,\n",
       " 31: 1,\n",
       " 32: 1,\n",
       " 33: 1,\n",
       " 34: 1}"
      ]
     },
     "execution_count": 98,
     "metadata": {},
     "output_type": "execute_result"
    }
   ],
   "source": [
    "word2id_freq"
   ]
  },
  {
   "cell_type": "code",
   "execution_count": 99,
   "metadata": {
    "collapsed": false
   },
   "outputs": [
    {
     "data": {
      "text/plain": [
       "[3,\n",
       " 4,\n",
       " 7,\n",
       " 1,\n",
       " 8,\n",
       " 9,\n",
       " 10,\n",
       " 11,\n",
       " 0,\n",
       " 1,\n",
       " 5,\n",
       " 12,\n",
       " 2,\n",
       " 13,\n",
       " 14,\n",
       " 4,\n",
       " 15,\n",
       " 3,\n",
       " 0,\n",
       " 1,\n",
       " 16,\n",
       " 2,\n",
       " 5,\n",
       " 17,\n",
       " 18,\n",
       " 2,\n",
       " 19,\n",
       " 20,\n",
       " 21,\n",
       " 22,\n",
       " 23,\n",
       " 6,\n",
       " 24,\n",
       " 25,\n",
       " 26,\n",
       " 0,\n",
       " 27,\n",
       " 28,\n",
       " 6,\n",
       " 29,\n",
       " 30,\n",
       " 31,\n",
       " 32,\n",
       " 33,\n",
       " 34,\n",
       " 0]"
      ]
     },
     "execution_count": 99,
     "metadata": {},
     "output_type": "execute_result"
    }
   ],
   "source": [
    "#将语料库中的单词装换为对应的id\n",
    "def convert_corpus_to_id(corpus, word2id_dict):\n",
    "    corpus = [word2id_dict[word] for word in corpus]\n",
    "    return corpus\n",
    "\n",
    "corpus = convert_corpus_to_id(corpus, word2id_dict)\n",
    "corpus"
   ]
  },
  {
   "cell_type": "code",
   "execution_count": 100,
   "metadata": {
    "collapsed": false
   },
   "outputs": [],
   "source": [
    "#length of the sequence to train\n",
    "train_len = 3"
   ]
  },
  {
   "cell_type": "code",
   "execution_count": 101,
   "metadata": {
    "collapsed": false
   },
   "outputs": [
    {
     "data": {
      "text/plain": [
       "[[3, 4, 7],\n",
       " [4, 7, 1],\n",
       " [7, 1, 8],\n",
       " [1, 8, 9],\n",
       " [8, 9, 10],\n",
       " [9, 10, 11],\n",
       " [10, 11, 0],\n",
       " [11, 0, 1],\n",
       " [0, 1, 5],\n",
       " [1, 5, 12],\n",
       " [5, 12, 2],\n",
       " [12, 2, 13],\n",
       " [2, 13, 14],\n",
       " [13, 14, 4],\n",
       " [14, 4, 15],\n",
       " [4, 15, 3],\n",
       " [15, 3, 0],\n",
       " [3, 0, 1],\n",
       " [0, 1, 16],\n",
       " [1, 16, 2],\n",
       " [16, 2, 5],\n",
       " [2, 5, 17],\n",
       " [5, 17, 18],\n",
       " [17, 18, 2],\n",
       " [18, 2, 19],\n",
       " [2, 19, 20],\n",
       " [19, 20, 21],\n",
       " [20, 21, 22],\n",
       " [21, 22, 23],\n",
       " [22, 23, 6],\n",
       " [23, 6, 24],\n",
       " [6, 24, 25],\n",
       " [24, 25, 26],\n",
       " [25, 26, 0],\n",
       " [26, 0, 27],\n",
       " [0, 27, 28],\n",
       " [27, 28, 6],\n",
       " [28, 6, 29],\n",
       " [6, 29, 30],\n",
       " [29, 30, 31],\n",
       " [30, 31, 32],\n",
       " [31, 32, 33],\n",
       " [32, 33, 34],\n",
       " [33, 34, 0]]"
      ]
     },
     "execution_count": 101,
     "metadata": {},
     "output_type": "execute_result"
    }
   ],
   "source": [
    "text_sequences = []\n",
    "for i in range(train_len,len(corpus)+1):\n",
    "  seq = corpus[i-train_len:i]\n",
    "  text_sequences.append(seq)\n",
    "\n",
    "text_sequences"
   ]
  },
  {
   "cell_type": "code",
   "execution_count": 102,
   "metadata": {
    "collapsed": false
   },
   "outputs": [],
   "source": [
    "sequences=np.asarray(text_sequences)"
   ]
  },
  {
   "cell_type": "code",
   "execution_count": 103,
   "metadata": {
    "collapsed": false
   },
   "outputs": [
    {
     "data": {
      "text/plain": [
       "36"
      ]
     },
     "execution_count": 103,
     "metadata": {},
     "output_type": "execute_result"
    }
   ],
   "source": [
    "#vocabulary size\n",
    "vocabulary_size = len(word2id_dict)+1\n",
    "vocabulary_size"
   ]
  },
  {
   "cell_type": "code",
   "execution_count": 104,
   "metadata": {
    "collapsed": false
   },
   "outputs": [
    {
     "data": {
      "text/plain": [
       "array([[ 3,  4],\n",
       "       [ 4,  7],\n",
       "       [ 7,  1],\n",
       "       [ 1,  8],\n",
       "       [ 8,  9],\n",
       "       [ 9, 10],\n",
       "       [10, 11],\n",
       "       [11,  0],\n",
       "       [ 0,  1],\n",
       "       [ 1,  5],\n",
       "       [ 5, 12],\n",
       "       [12,  2],\n",
       "       [ 2, 13],\n",
       "       [13, 14],\n",
       "       [14,  4],\n",
       "       [ 4, 15],\n",
       "       [15,  3],\n",
       "       [ 3,  0],\n",
       "       [ 0,  1],\n",
       "       [ 1, 16],\n",
       "       [16,  2],\n",
       "       [ 2,  5],\n",
       "       [ 5, 17],\n",
       "       [17, 18],\n",
       "       [18,  2],\n",
       "       [ 2, 19],\n",
       "       [19, 20],\n",
       "       [20, 21],\n",
       "       [21, 22],\n",
       "       [22, 23],\n",
       "       [23,  6],\n",
       "       [ 6, 24],\n",
       "       [24, 25],\n",
       "       [25, 26],\n",
       "       [26,  0],\n",
       "       [ 0, 27],\n",
       "       [27, 28],\n",
       "       [28,  6],\n",
       "       [ 6, 29],\n",
       "       [29, 30],\n",
       "       [30, 31],\n",
       "       [31, 32],\n",
       "       [32, 33],\n",
       "       [33, 34]])"
      ]
     },
     "execution_count": 104,
     "metadata": {},
     "output_type": "execute_result"
    }
   ],
   "source": [
    "#trainX\n",
    "train_inputs=sequences[:,:-1]\n",
    "train_inputs"
   ]
  },
  {
   "cell_type": "code",
   "execution_count": 105,
   "metadata": {
    "collapsed": false
   },
   "outputs": [
    {
     "data": {
      "text/plain": [
       "2"
      ]
     },
     "execution_count": 105,
     "metadata": {},
     "output_type": "execute_result"
    }
   ],
   "source": [
    "#input sequence length \n",
    "seq_length=train_inputs.shape[1]\n",
    "seq_length"
   ]
  },
  {
   "cell_type": "code",
   "execution_count": 106,
   "metadata": {
    "collapsed": false
   },
   "outputs": [
    {
     "data": {
      "text/plain": [
       "array([ 7,  1,  8,  9, 10, 11,  0,  1,  5, 12,  2, 13, 14,  4, 15,  3,  0,\n",
       "        1, 16,  2,  5, 17, 18,  2, 19, 20, 21, 22, 23,  6, 24, 25, 26,  0,\n",
       "       27, 28,  6, 29, 30, 31, 32, 33, 34,  0])"
      ]
     },
     "execution_count": 106,
     "metadata": {},
     "output_type": "execute_result"
    }
   ],
   "source": [
    "#trainY\n",
    "train_targets=sequences[:,-1]\n",
    "train_targets"
   ]
  },
  {
   "cell_type": "code",
   "execution_count": 107,
   "metadata": {
    "collapsed": false
   },
   "outputs": [
    {
     "data": {
      "text/plain": [
       "array([[0., 0., 0., ..., 0., 0., 0.],\n",
       "       [0., 1., 0., ..., 0., 0., 0.],\n",
       "       [0., 0., 0., ..., 0., 0., 0.],\n",
       "       ...,\n",
       "       [0., 0., 0., ..., 1., 0., 0.],\n",
       "       [0., 0., 0., ..., 0., 1., 0.],\n",
       "       [1., 0., 0., ..., 0., 0., 0.]])"
      ]
     },
     "execution_count": 107,
     "metadata": {},
     "output_type": "execute_result"
    }
   ],
   "source": [
    "one_hot_label = np.zeros(shape=(train_targets.shape[0],vocabulary_size)) #生成全0矩阵\n",
    "one_hot_label[np.arange(0,train_targets.shape[0]),train_targets] = 1 #相应标签位置置1\n",
    "one_hot_label"
   ]
  },
  {
   "cell_type": "markdown",
   "metadata": {
    "collapsed": false
   },
   "source": [
    "# 构建模型"
   ]
  },
  {
   "cell_type": "code",
   "execution_count": 108,
   "metadata": {
    "collapsed": false
   },
   "outputs": [],
   "source": [
    "import paddle.nn as nn\n",
    "import paddle.fluid as fluid"
   ]
  },
  {
   "cell_type": "code",
   "execution_count": 109,
   "metadata": {
    "collapsed": false
   },
   "outputs": [],
   "source": [
    "class myLSTM(nn.Layer):\n",
    "    def __init__(self, vocab_size, embed_size, hidden_size):\n",
    "        super(myLSTM, self).__init__()\n",
    "\n",
    "        # num_embeddings (int) - 嵌入字典的大小， input中的id必须满足 0 =< id < num_embeddings 。 。\n",
    "        # embedding_dim (int) - 每个嵌入向量的维度。\n",
    "        # padding_idx (int|long|None) - padding_idx的配置区间为 [-weight.shape[0], weight.shape[0]，如果配置了padding_idx，那么在训练过程中遇到此id时会被用\n",
    "        # sparse (bool) - 是否使用稀疏更新，在词嵌入权重较大的情况下，使用稀疏更新能够获得更快的训练速度及更小的内存/显存占用。\n",
    "        # weight_attr (ParamAttr|None) - 指定嵌入向量的配置，包括初始化方法，具体用法请参见 ParamAttr ，一般无需设置，默认值为None。\n",
    "        self.embedding = nn.Embedding(vocab_size, embed_size)\n",
    "\n",
    "        # input_size (int) - 输入的大小。\n",
    "        # hidden_size (int) - 隐藏状态大小。\n",
    "        # num_layers (int，可选) - 网络层数。默认为1。\n",
    "        # direction (str，可选) - 网络迭代方向，可设置为forward或bidirect（或bidirectional）。默认为forward。\n",
    "        # time_major (bool，可选) - 指定input的第一个维度是否是time steps。默认为False。\n",
    "        # dropout (float，可选) - dropout概率，指的是出第一层外每层输入时的dropout概率。默认为0。\n",
    "        # weight_ih_attr (ParamAttr，可选) - weight_ih的参数。默认为None。\n",
    "        # weight_hh_attr (ParamAttr，可选) - weight_hh的参数。默认为None。\n",
    "        # bias_ih_attr (ParamAttr，可选) - bias_ih的参数。默认为None。\n",
    "        # bias_hh_attr (ParamAttr，可选) - bias_hh的参数。默认为None。\n",
    "        self.lstm = nn.LSTM(embed_size, hidden_size, num_layers=2)\n",
    "\n",
    "        # in_features (int) – 线性变换层输入单元的数目。\n",
    "        # out_features (int) – 线性变换层输出单元的数目。\n",
    "        # weight_attr (ParamAttr, 可选) – 指定权重参数的属性。默认值为None，表示使用默认的权重参数属性，将权重参数初始化为0。具体用法请参见 ParamAttr 。\n",
    "        # bias_attr (ParamAttr|bool, 可选) – 指定偏置参数的属性。 bias_attr 为bool类型且设置为False时，表示不会为该层添加偏置。 bias_attr 如果设置为True或者None，则表示使用默认的偏置参数属性，将偏置参数初始化为0。具体用法请参见 ParamAttr 。默认值为None。\n",
    "        # name (str，可选) – 具体用法请参见 Name ，一般无需设置，默认值为None。\n",
    "        self.linear = nn.Linear(hidden_size*seq_length, out_features=vocab_size,bias_attr=True)\n",
    "\n",
    "    \n",
    "\n",
    "    def forward(self, input_word):\n",
    "        \n",
    "        emb = self.embedding(input_word)\n",
    "        \n",
    "        output, hidden = self.lstm(emb)\n",
    "\n",
    "        # output = output.view(output.size(0), -1)\n",
    "        output =paddle.reshape(output,(output.shape[0], -1))\n",
    "\n",
    "        \n",
    "        output = self.linear(output)\n",
    "\n",
    "        return output, hidden"
   ]
  },
  {
   "cell_type": "code",
   "execution_count": 110,
   "metadata": {
    "collapsed": false
   },
   "outputs": [],
   "source": [
    "model=myLSTM(vocab_size=vocabulary_size,embed_size=128, hidden_size=256)"
   ]
  },
  {
   "cell_type": "code",
   "execution_count": 111,
   "metadata": {
    "collapsed": false
   },
   "outputs": [
    {
     "data": {
      "text/plain": [
       "myLSTM(\n",
       "  (embedding): Embedding(36, 128, sparse=False)\n",
       "  (lstm): LSTM(128, 256, num_layers=2\n",
       "    (0): RNN(\n",
       "      (cell): LSTMCell(128, 256)\n",
       "    )\n",
       "    (1): RNN(\n",
       "      (cell): LSTMCell(256, 256)\n",
       "    )\n",
       "  )\n",
       "  (linear): Linear(in_features=512, out_features=36, dtype=float32)\n",
       ")"
      ]
     },
     "execution_count": 111,
     "metadata": {},
     "output_type": "execute_result"
    }
   ],
   "source": [
    "model"
   ]
  },
  {
   "cell_type": "code",
   "execution_count": 112,
   "metadata": {
    "collapsed": false
   },
   "outputs": [],
   "source": [
    "#Adam optimizer\n",
    "optimizer= paddle.optimizer.Adam(parameters=model.parameters(), learning_rate=0.07)\n",
    "\n",
    "#loss\n",
    "criterion = nn.BCEWithLogitsLoss()"
   ]
  },
  {
   "cell_type": "code",
   "execution_count": 113,
   "metadata": {
    "collapsed": false
   },
   "outputs": [
    {
     "name": "stdout",
     "output_type": "stream",
     "text": [
      "Epoch :  1 loss :  0.692509114742279 accuracy :  0.06818181818181818\n",
      "Epoch :  2 loss :  0.17023588716983795 accuracy :  0.06818181818181818\n",
      "Epoch :  3 loss :  0.3819776177406311 accuracy :  0.045454545454545456\n",
      "Epoch :  4 loss :  0.4142425060272217 accuracy :  0.045454545454545456\n",
      "Epoch :  5 loss :  0.1554083228111267 accuracy :  0.09090909090909091\n",
      "Epoch :  6 loss :  0.18031537532806396 accuracy :  0.11363636363636363\n",
      "Epoch :  7 loss :  0.16328178346157074 accuracy :  0.11363636363636363\n",
      "Epoch :  8 loss :  0.18777692317962646 accuracy :  0.06818181818181818\n",
      "Epoch :  9 loss :  0.15260837972164154 accuracy :  0.045454545454545456\n",
      "Epoch :  10 loss :  0.17988544702529907 accuracy :  0.06818181818181818\n",
      "Epoch :  11 loss :  0.15880520641803741 accuracy :  0.06818181818181818\n",
      "Epoch :  12 loss :  0.14847642183303833 accuracy :  0.20454545454545456\n",
      "Epoch :  13 loss :  0.13363617658615112 accuracy :  0.18181818181818182\n",
      "Epoch :  14 loss :  0.11957237869501114 accuracy :  0.25\n",
      "Epoch :  15 loss :  0.10516627132892609 accuracy :  0.29545454545454547\n",
      "Epoch :  16 loss :  0.10541236400604248 accuracy :  0.3409090909090909\n",
      "Epoch :  17 loss :  0.0832713171839714 accuracy :  0.36363636363636365\n",
      "Epoch :  18 loss :  0.0801863968372345 accuracy :  0.4318181818181818\n",
      "Epoch :  19 loss :  0.0761004388332367 accuracy :  0.4772727272727273\n",
      "Epoch :  20 loss :  0.06897883117198944 accuracy :  0.5227272727272727\n",
      "Epoch :  21 loss :  0.0634862631559372 accuracy :  0.5227272727272727\n",
      "Epoch :  22 loss :  0.07566407322883606 accuracy :  0.5681818181818182\n",
      "Epoch :  23 loss :  0.05485603213310242 accuracy :  0.6136363636363636\n",
      "Epoch :  24 loss :  0.05496411398053169 accuracy :  0.6590909090909091\n",
      "Epoch :  25 loss :  0.05101034790277481 accuracy :  0.6818181818181818\n",
      "Epoch :  26 loss :  0.05158199369907379 accuracy :  0.7272727272727273\n",
      "Epoch :  27 loss :  0.04806678369641304 accuracy :  0.6818181818181818\n",
      "Epoch :  28 loss :  0.045440882444381714 accuracy :  0.8409090909090909\n",
      "Epoch :  29 loss :  0.037128761410713196 accuracy :  0.8409090909090909\n",
      "Epoch :  30 loss :  0.03453431650996208 accuracy :  0.8181818181818182\n",
      "Epoch :  31 loss :  0.03338203579187393 accuracy :  0.8181818181818182\n",
      "Epoch :  32 loss :  0.030233856290578842 accuracy :  0.9318181818181818\n",
      "Epoch :  33 loss :  0.026612678542733192 accuracy :  0.8636363636363636\n",
      "Epoch :  34 loss :  0.025064263492822647 accuracy :  0.8636363636363636\n",
      "Epoch :  35 loss :  0.023110385984182358 accuracy :  0.9090909090909091\n",
      "Epoch :  36 loss :  0.02080909162759781 accuracy :  0.8863636363636364\n",
      "Epoch :  37 loss :  0.01939777098596096 accuracy :  0.9318181818181818\n",
      "Epoch :  38 loss :  0.017051998525857925 accuracy :  0.9318181818181818\n",
      "Epoch :  39 loss :  0.015370592474937439 accuracy :  0.9318181818181818\n",
      "Epoch :  40 loss :  0.013476387597620487 accuracy :  0.9772727272727273\n",
      "Epoch :  41 loss :  0.012022614479064941 accuracy :  0.9772727272727273\n",
      "Epoch :  42 loss :  0.011046016588807106 accuracy :  0.9772727272727273\n",
      "Epoch :  43 loss :  0.01013419684022665 accuracy :  0.9772727272727273\n",
      "Epoch :  44 loss :  0.008991026319563389 accuracy :  0.9772727272727273\n",
      "Epoch :  45 loss :  0.00822251383215189 accuracy :  0.9772727272727273\n",
      "Epoch :  46 loss :  0.007710884790867567 accuracy :  0.9772727272727273\n",
      "Epoch :  47 loss :  0.006813659332692623 accuracy :  0.9772727272727273\n",
      "Epoch :  48 loss :  0.006866550538688898 accuracy :  0.9772727272727273\n",
      "Epoch :  49 loss :  0.0061632730066776276 accuracy :  0.9772727272727273\n",
      "Epoch :  50 loss :  0.00576390977948904 accuracy :  0.9772727272727273\n"
     ]
    }
   ],
   "source": [
    "#number of epoch\n",
    "no_epoch=50\n",
    "losses=[]\n",
    "accuracy = []\n",
    "\n",
    "with fluid.dygraph.guard(paddle.CUDAPlace(0)):\n",
    "    \n",
    "    for epoch in range(1,no_epoch+1):\n",
    "        model.train()\n",
    "        tr_loss = 0\n",
    "\n",
    "        y_pred, (state_h, state_c) = model(paddle.to_tensor(train_inputs))\n",
    "\n",
    "        loss = criterion(y_pred, paddle.to_tensor(one_hot_label.astype('float32')))\n",
    "        losses.append(loss.numpy().item())\n",
    "\n",
    "        loss.backward()\n",
    "        optimizer.minimize(loss)\n",
    "        model.clear_gradients()\n",
    "\n",
    "        model.eval()\n",
    "\n",
    "        y_pred, (state_h, state_c) = model(paddle.to_tensor(train_inputs))\n",
    "\n",
    "        acc = (np.argmax(y_pred.numpy(),axis=1) == train_targets).sum() / len(train_targets) \n",
    "        accuracy.append(acc)\n",
    "\n",
    "        print(\"Epoch : \",epoch,\"loss : \",loss.numpy().item(), 'accuracy : ',acc)\n"
   ]
  },
  {
   "cell_type": "code",
   "execution_count": 115,
   "metadata": {
    "collapsed": false
   },
   "outputs": [
    {
     "data": {
      "image/png": "[encoded data removed]",
      "text/plain": [
       "<Figure size 432x288 with 1 Axes>"
      ]
     },
     "metadata": {},
     "output_type": "display_data"
    },
    {
     "data": {
      "image/png": "[encoded data removed]",
      "text/plain": [
       "<Figure size 432x288 with 1 Axes>"
      ]
     },
     "metadata": {},
     "output_type": "display_data"
    }
   ],
   "source": [
    "#plotting the loss, loss is decreasing for each epoch\n",
    "import matplotlib.pyplot as plt\n",
    "plt.plot(losses, label='Training loss')\n",
    "plt.legend(loc=\"upper right\")   #显示图中的标签\n",
    "plt.show()\n",
    "\n",
    "plt.plot(accuracy, label='Accuracy')\n",
    "plt.legend(loc=\"upper left\")   #显示图中的标签\n",
    "plt.show()"
   ]
  }
 ],
 "metadata": {
  "kernelspec": {
   "display_name": "PaddlePaddle 2.0.0b0 (Python 3.5)",
   "language": "python",
   "name": "py35-paddle1.2.0"
  },
  "language_info": {
   "codemirror_mode": {
    "name": "ipython",
    "version": 3
   },
   "file_extension": ".py",
   "mimetype": "text/x-python",
   "name": "python",
   "nbconvert_exporter": "python",
   "pygments_lexer": "ipython3",
   "version": "3.7.4"
  }
 },
 "nbformat": 4,
 "nbformat_minor": 1
}
