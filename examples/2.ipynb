{
 "cells": [
  {
   "cell_type": "code",
   "execution_count": 1,
   "metadata": {
    "collapsed": false
   },
   "outputs": [
    {
     "name": "stdout",
     "output_type": "stream",
     "text": [
      "/home/aistudio\r\n"
     ]
    }
   ],
   "source": [
    "!pwd"
   ]
  },
  {
   "cell_type": "code",
   "execution_count": 2,
   "metadata": {
    "collapsed": false
   },
   "outputs": [
    {
     "name": "stderr",
     "output_type": "stream",
     "text": [
      "2021-07-10 09:51:57,085-INFO: font search path ['/opt/conda/envs/python35-paddle120-env/lib/python3.7/site-packages/matplotlib/mpl-data/fonts/ttf', '/opt/conda/envs/python35-paddle120-env/lib/python3.7/site-packages/matplotlib/mpl-data/fonts/afm', '/opt/conda/envs/python35-paddle120-env/lib/python3.7/site-packages/matplotlib/mpl-data/fonts/pdfcorefonts']\n",
      "2021-07-10 09:51:58,048-INFO: generated new fontManager\n"
     ]
    }
   ],
   "source": [
    "import numpy as np\r\n",
    "import paddle\r\n",
    "import paddle.fluid as fluid\r\n",
    "from PIL import Image\r\n",
    "import matplotlib.pyplot as plt\r\n",
    "import os"
   ]
  },
  {
   "cell_type": "code",
   "execution_count": 3,
   "metadata": {
    "collapsed": false
   },
   "outputs": [
    {
     "name": "stderr",
     "output_type": "stream",
     "text": [
      "Cache file /home/aistudio/.cache/paddle/dataset/mnist/train-images-idx3-ubyte.gz not found, downloading https://dataset.bj.bcebos.com/mnist/train-images-idx3-ubyte.gz \n",
      "Begin to download\n",
      "\n",
      "Download finished\n",
      "Cache file /home/aistudio/.cache/paddle/dataset/mnist/train-labels-idx1-ubyte.gz not found, downloading https://dataset.bj.bcebos.com/mnist/train-labels-idx1-ubyte.gz \n",
      "Begin to download\n",
      "........\n",
      "Download finished\n",
      "Cache file /home/aistudio/.cache/paddle/dataset/mnist/t10k-images-idx3-ubyte.gz not found, downloading https://dataset.bj.bcebos.com/mnist/t10k-images-idx3-ubyte.gz \n",
      "Begin to download\n",
      "\n",
      "Download finished\n",
      "Cache file /home/aistudio/.cache/paddle/dataset/mnist/t10k-labels-idx1-ubyte.gz not found, downloading https://dataset.bj.bcebos.com/mnist/t10k-labels-idx1-ubyte.gz \n",
      "Begin to download\n",
      "..\n",
      "Download finished\n"
     ]
    }
   ],
   "source": [
    "BUF_SIZE = 512\r\n",
    "BATCH_SIZE = 128\r\n",
    "\r\n",
    "# 读取官方训练集\r\n",
    "trainData = paddle.dataset.mnist.train()\r\n",
    "# 读取官方测试集\r\n",
    "testData = paddle.dataset.mnist.test()\r\n",
    "\r\n",
    "\r\n",
    "trainReader = paddle.batch(\r\n",
    "    paddle.reader.shuffle(\r\n",
    "        trainData,\r\n",
    "        buf_size = BUF_SIZE\r\n",
    "    ), \r\n",
    "    batch_size = BATCH_SIZE\r\n",
    ")\r\n",
    "\r\n",
    "\r\n",
    "testReader = paddle.batch(\r\n",
    "    paddle.reader.shuffle(\r\n",
    "        testData,\r\n",
    "        buf_size = BUF_SIZE\r\n",
    "    ),\r\n",
    "    batch_size = BATCH_SIZE\r\n",
    ")\r\n",
    "\r\n",
    "# sampleData = next(trainData())\r\n",
    "\r\n",
    "# print(sampleData)"
   ]
  },
  {
   "cell_type": "markdown",
   "metadata": {
    "collapsed": false
   },
   "source": [
    "## Step2 配置网络结构&定义损失和优化函数"
   ]
  },
  {
   "cell_type": "code",
   "execution_count": 4,
   "metadata": {
    "collapsed": false
   },
   "outputs": [],
   "source": [
    "# 网络结构1\r\n",
    "# 使用并定义多层感知器\r\n",
    "def multilayerPerception(img):\r\n",
    "    # 第一个全连接层，激活函数为ReLU\r\n",
    "    layer1 = fluid.layers.fc(input=img, size=1000, act='relu')\r\n",
    "    # 第二个全连接层，激活函数为ReLU\r\n",
    "    layer2 = fluid.layers.fc(input=layer1, size=1000, act='relu')\r\n",
    "    # 全连接输出层，激活函数为softmax，输出大小为10\r\n",
    "    prediction = fluid.layers.fc(input=layer2, size=10, act='softmax')\r\n",
    "\r\n",
    "    return prediction"
   ]
  },
  {
   "cell_type": "code",
   "execution_count": 5,
   "metadata": {
    "collapsed": false
   },
   "outputs": [],
   "source": [
    "# 网络结构2\r\n",
    "# 使用并定义卷积层\r\n",
    "def cnn(img):\r\n",
    "    convPool1 = fluid.nets.simple_img_conv_pool(\r\n",
    "        # 输入图像\r\n",
    "        input=img,\r\n",
    "        # 卷积核大小\r\n",
    "        filter_size=5,\r\n",
    "        # 卷积核数目\r\n",
    "        num_filters=20,\r\n",
    "        # 池化层大小\r\n",
    "        pool_size=2,\r\n",
    "        # 池化层步长\r\n",
    "        pool_stride=2,\r\n",
    "        # 激活类型\r\n",
    "        act='relu'\r\n",
    "    )\r\n",
    "    convPool2 = fluid.nets.simple_img_conv_pool(\r\n",
    "        # 以第一个卷积层为输入\r\n",
    "        input=convPool1,\r\n",
    "        filter_size=5,\r\n",
    "        num_filters=50,\r\n",
    "        pool_size=2,\r\n",
    "        pool_stride=2,\r\n",
    "        act='relu'\r\n",
    "    )\r\n",
    "    convPool3 = fluid.nets.simple_img_conv_pool(\r\n",
    "        # 以第二个卷积层为输入\r\n",
    "        input=convPool2,\r\n",
    "        filter_size=4,\r\n",
    "        num_filters=20,\r\n",
    "        pool_size=2,\r\n",
    "        pool_stride=2,\r\n",
    "        act='relu'\r\n",
    "    )\r\n",
    "\r\n",
    "    # 以softmax为激活函数的全连接输出层\r\n",
    "    # 输出10个数字\r\n",
    "    prediction = fluid.layers.fc(input=convPool3, size=10, act='softmax')\r\n",
    "\r\n",
    "    return prediction"
   ]
  },
  {
   "cell_type": "code",
   "execution_count": 6,
   "metadata": {
    "collapsed": false
   },
   "outputs": [],
   "source": [
    "# 网络结构3\r\n",
    "# 尝试使用VGG模型\r\n",
    "def conv_block(inp, numFilter, groups, dropouts):\r\n",
    "    return fluid.nets.img_conv_group(\r\n",
    "        input=inp,\r\n",
    "        pool_size=2,\r\n",
    "        pool_stride=2,\r\n",
    "        conv_num_filter=[numFilter] * groups,\r\n",
    "        conv_filter_size=3,\r\n",
    "        conv_act='relu',\r\n",
    "        conv_with_batchnorm=True,\r\n",
    "        conv_batchnorm_drop_rate=dropouts,\r\n",
    "        pool_type='max'\r\n",
    "    )\r\n",
    "\r\n",
    "def vgg(input):\r\n",
    "    conv1 = conv_block(input, 64, 2, [0,0])\r\n",
    "    conv2 = conv_block(conv1, 128, 2, [0,0])\r\n",
    "    conv3 = conv_block(conv2, 128, 3, [0,0,0])\r\n",
    "    drop = fluid.layers.dropout(x=conv3, dropout_prob=0.5)\r\n",
    "    fc1 = fluid.layers.fc(input=drop, size=512, act=None)\r\n",
    "    bn = fluid.layers.batch_norm(input=fc1, act='relu')\r\n",
    "    drop2 = fluid.layers.dropout(x=bn, dropout_prob=0.0)\r\n",
    "    fc2 = fluid.layers.fc(input=drop2, size=512, act=None)\r\n",
    "\r\n",
    "    # 全连接输出层，以softmax为激活函数，大小为10\r\n",
    "    prediction = fluid.layers.fc(input=fc2, size=10, act='softmax')\r\n",
    "\r\n",
    "    return prediction"
   ]
  },
  {
   "cell_type": "code",
   "execution_count": 7,
   "metadata": {
    "collapsed": false
   },
   "outputs": [],
   "source": [
    "# 定义输入输出层\r\n",
    "image = fluid.layers.data(name='image', shape=[1, 28, 28], dtype='float32')\r\n",
    "label = fluid.layers.data(name='label', shape=[1], dtype='int64')"
   ]
  },
  {
   "cell_type": "code",
   "execution_count": 8,
   "metadata": {
    "collapsed": false
   },
   "outputs": [],
   "source": [
    "# 调用定义好的网络获取分类器\r\n",
    "# 网络结构1\r\n",
    "#model = multilayerPerception(image)\r\n",
    "\r\n",
    "# 网络结构2\r\n",
    "model = cnn(image)\r\n",
    "\r\n",
    "# 网络结构3\r\n",
    "#model = vgg(image)"
   ]
  },
  {
   "cell_type": "code",
   "execution_count": 9,
   "metadata": {
    "collapsed": false
   },
   "outputs": [],
   "source": [
    "# 获取损失函数\r\n",
    "cost = fluid.layers.cross_entropy(input=model, label=label)\r\n",
    "avgCost = fluid.layers.mean(cost)\r\n",
    "# 获取准确率函数\r\n",
    "acc = fluid.layers.accuracy(input=model, label=label)"
   ]
  },
  {
   "cell_type": "code",
   "execution_count": 10,
   "metadata": {
    "collapsed": false
   },
   "outputs": [],
   "source": [
    "# 定义优化方法\r\n",
    "learnRate = 0.001\r\n",
    "\r\n",
    "# 采用Adam算法进行优化\r\n",
    "myOptimizer = fluid.optimizer.AdamOptimizer(learning_rate=learnRate)\r\n",
    "\r\n",
    "# 采用Adamax算法进行优化\r\n",
    "#myOptimizer = fluid.optimizer.AdamaxOptimizer(learning_rate=learnRate)\r\n",
    "\r\n",
    "# 采用Adagrad算法进行优化\r\n",
    "#myOptimizer = fluid.optimizer.AdagradOptimizer(learning_rate=learnRate)\r\n",
    "\r\n",
    "# 采用DecayedAdagrad算法进行优化\r\n",
    "#myOptimizer = fluid.optimizer.DecayedAdagradOptimizer(learning_rate=learnRate)\r\n",
    "\r\n",
    "# 采用Lamb算法进行优化\r\n",
    "#myOptimizer = fluid.optimizer.LambOptimizer(learning_rate=learnRate)\r\n",
    "\r\n",
    "# 采用SGD算法进行优化\r\n",
    "#myOptimizer = fluid.optimizer.SGDOptimizer(learning_rate=learnRate)\r\n",
    "\r\n",
    "opts = myOptimizer.minimize(avgCost)"
   ]
  },
  {
   "cell_type": "markdown",
   "metadata": {
    "collapsed": false
   },
   "source": [
    "## Step3：模型训练"
   ]
  },
  {
   "cell_type": "code",
   "execution_count": 11,
   "metadata": {
    "collapsed": false
   },
   "outputs": [
    {
     "data": {
      "text/plain": [
       "[]"
      ]
     },
     "execution_count": 11,
     "metadata": {},
     "output_type": "execute_result"
    }
   ],
   "source": [
    "# 定义一个使用CPU的解析器\r\n",
    "# place = fluid.CPUPlace()\r\n",
    "# 定义一个使用GPU的解析器\r\n",
    "place = fluid.CUDAPlace(0)\r\n",
    "\r\n",
    "\r\n",
    "exe = fluid.Executor(place)\r\n",
    "# 参数初始化\r\n",
    "exe.run(fluid.default_startup_program())"
   ]
  },
  {
   "cell_type": "code",
   "execution_count": 12,
   "metadata": {
    "collapsed": false
   },
   "outputs": [],
   "source": [
    "# 定义输入数据维度\r\n",
    "feeder = fluid.DataFeeder(place=place, feed_list=[image, label])"
   ]
  },
  {
   "cell_type": "code",
   "execution_count": 13,
   "metadata": {
    "collapsed": false
   },
   "outputs": [],
   "source": [
    "# 为作图做数据准备\r\n",
    "allTrainIter = 0\r\n",
    "allTrainIters = []\r\n",
    "allTrainCosts = []\r\n",
    "allTrainAccs = []"
   ]
  },
  {
   "cell_type": "code",
   "execution_count": 14,
   "metadata": {
    "collapsed": false
   },
   "outputs": [],
   "source": [
    "# 模型存储地址\r\n",
    "modelSavePath = 'home/aistudio/data/model'"
   ]
  },
  {
   "cell_type": "code",
   "execution_count": 15,
   "metadata": {
    "collapsed": false
   },
   "outputs": [
    {
     "name": "stdout",
     "output_type": "stream",
     "text": [
      "TimeId:0, Batch:0, Cost:3.96166, Acc:0.09375\n",
      "TimeId:0, Batch:100, Cost:0.59726, Acc:0.83594\n",
      "TimeId:0, Batch:200, Cost:0.15452, Acc:0.97656\n",
      "TimeId:0, Batch:300, Cost:0.10643, Acc:0.96094\n",
      "TimeId:0, Batch:400, Cost:0.11246, Acc:0.96875\n",
      "TimeId(Test):0, Cost:0.09966, Acc:0.96855\n",
      "Save Model to home/aistudio/data/model\n",
      "TimeId:1, Batch:0, Cost:0.18001, Acc:0.94531\n",
      "TimeId:1, Batch:100, Cost:0.09471, Acc:0.97656\n",
      "TimeId:1, Batch:200, Cost:0.06143, Acc:0.99219\n",
      "TimeId:1, Batch:300, Cost:0.07911, Acc:0.96875\n",
      "TimeId:1, Batch:400, Cost:0.05236, Acc:0.98438\n",
      "TimeId(Test):1, Cost:0.05347, Acc:0.98457\n",
      "Save Model to home/aistudio/data/model\n",
      "TimeId:2, Batch:0, Cost:0.03906, Acc:0.98438\n",
      "TimeId:2, Batch:100, Cost:0.05559, Acc:0.99219\n",
      "TimeId:2, Batch:200, Cost:0.03103, Acc:0.99219\n",
      "TimeId:2, Batch:300, Cost:0.03359, Acc:0.98438\n",
      "TimeId:2, Batch:400, Cost:0.01030, Acc:1.00000\n",
      "TimeId(Test):2, Cost:0.03623, Acc:0.98981\n",
      "Save Model to home/aistudio/data/model\n",
      "TimeId:3, Batch:0, Cost:0.06116, Acc:0.97656\n",
      "TimeId:3, Batch:100, Cost:0.03425, Acc:0.98438\n",
      "TimeId:3, Batch:200, Cost:0.06952, Acc:0.97656\n",
      "TimeId:3, Batch:300, Cost:0.04166, Acc:0.98438\n",
      "TimeId:3, Batch:400, Cost:0.08283, Acc:0.96875\n",
      "TimeId(Test):3, Cost:0.02829, Acc:0.99041\n",
      "Save Model to home/aistudio/data/model\n",
      "TimeId:4, Batch:0, Cost:0.04119, Acc:0.99219\n",
      "TimeId:4, Batch:100, Cost:0.02534, Acc:0.99219\n",
      "TimeId:4, Batch:200, Cost:0.01320, Acc:1.00000\n",
      "TimeId:4, Batch:300, Cost:0.06237, Acc:0.97656\n",
      "TimeId:4, Batch:400, Cost:0.03508, Acc:0.99219\n",
      "TimeId(Test):4, Cost:0.02328, Acc:0.99298\n",
      "Save Model to home/aistudio/data/model\n"
     ]
    },
    {
     "data": {
      "image/png": "[encoded data removed]",
      "text/plain": [
       "<Figure size 432x288 with 1 Axes>"
      ]
     },
     "metadata": {},
     "output_type": "display_data"
    }
   ],
   "source": [
    "# 开始训练和测试\r\n",
    "trainTimes = 5\r\n",
    "for timeId in range(trainTimes):\r\n",
    "    # 训练\r\n",
    "    for batchId, data in enumerate(trainReader()):\r\n",
    "        trainCost, trainAcc = exe.run(\r\n",
    "            program=fluid.default_main_program(),\r\n",
    "            feed=feeder.feed(data),\r\n",
    "            fetch_list=[avgCost, acc]\r\n",
    "        )\r\n",
    "\r\n",
    "        allTrainIter += 128\r\n",
    "        allTrainIters.append(allTrainIter)\r\n",
    "        allTrainCosts.append(trainCost[0])\r\n",
    "        allTrainAccs.append(trainAcc[0])\r\n",
    "\r\n",
    "        # 每100次batch打印一次信息\r\n",
    "        if batchId % 100 == 0:\r\n",
    "            print(\"TimeId:%d, Batch:%d, Cost:%0.5f, Acc:%0.5f\" %(timeId, batchId, trainCost[0], trainAcc[0]))\r\n",
    "    # 测试\r\n",
    "    testAccs = []\r\n",
    "    testCosts = []\r\n",
    "\r\n",
    "    #每训练一轮，就测试一轮\r\n",
    "    for batchId, data in enumerate(testReader()):\r\n",
    "        testCost, testAcc = exe.run(\r\n",
    "            program=fluid.default_main_program(),\r\n",
    "            feed=feeder.feed(data),\r\n",
    "            fetch_list=[avgCost, acc]\r\n",
    "        )\r\n",
    "        testAccs.append(testAcc[0])\r\n",
    "        testCosts.append(testCost[0])\r\n",
    "\r\n",
    "    # 求测试结果的平均值\r\n",
    "    testCost = sum(testCosts) / len(testCosts)\r\n",
    "    testAcc = sum(testAccs) / len(testAccs)\r\n",
    "    print(\"TimeId(Test):%d, Cost:%0.5f, Acc:%0.5f\" %(timeId, testCost, testAcc))\r\n",
    "\r\n",
    "    \r\n",
    "    if not os.path.exists(modelSavePath):\r\n",
    "        os.makedirs(modelSavePath)\r\n",
    "    print('Save Model to %s' %(modelSavePath))\r\n",
    "\r\n",
    "    fluid.io.save_inference_model(\r\n",
    "        modelSavePath,\r\n",
    "        ['image'],\r\n",
    "        [model],\r\n",
    "        exe\r\n",
    "    )\r\n",
    "\r\n",
    "# 画图\r\n",
    "plt.title('Training', fontsize=24)\r\n",
    "plt.xlabel('iter', fontsize=20)\r\n",
    "plt.ylabel('cost/acc', fontsize=20)\r\n",
    "plt.plot(allTrainIters, allTrainCosts, color='red', label='Train Cost')\r\n",
    "plt.plot(allTrainIters, allTrainAccs, color='blue', label='Train Acc')\r\n",
    "plt.legend()\r\n",
    "plt.grid()\r\n",
    "plt.show()\r\n",
    "        "
   ]
  },
  {
   "cell_type": "markdown",
   "metadata": {
    "collapsed": false
   },
   "source": [
    "## Step4 模型预测"
   ]
  },
  {
   "cell_type": "code",
   "execution_count": 16,
   "metadata": {
    "collapsed": false
   },
   "outputs": [
    {
     "data": {
      "image/png": "[encoded data removed]",
      "text/plain": [
       "<Figure size 432x288 with 1 Axes>"
      ]
     },
     "metadata": {},
     "output_type": "display_data"
    }
   ],
   "source": [
    "# !cat /home/aistudio/data/data5562/4.png\r\n",
    "# 查看需要预测的图片\r\n",
    "predictImgPath = '/home/aistudio/data/data37667/4.png'\r\n",
    "img = Image.open(predictImgPath).convert('L').resize((28, 28),Image.ANTIALIAS)\r\n",
    "plt.imshow(img)\r\n",
    "plt.show()"
   ]
  },
  {
   "cell_type": "code",
   "execution_count": 17,
   "metadata": {
    "collapsed": false
   },
   "outputs": [],
   "source": [
    "# 图片预处理\r\n",
    "def ImagePreprocess(path):\r\n",
    "    img = Image.open(path).convert('L').resize((28, 28), Image.ANTIALIAS)\r\n",
    "    img = np.array(img).reshape(1, 1, 28, 28).astype(np.float32)\r\n",
    "    img = img / 255.0 * 2.0 - 1.0\r\n",
    "    # print(img)\r\n",
    "\r\n",
    "    return img\r\n",
    "\r\n",
    "# ImagePreprocess('/home/aistudio/data/data5562/4.png')"
   ]
  },
  {
   "cell_type": "code",
   "execution_count": 18,
   "metadata": {
    "collapsed": false
   },
   "outputs": [
    {
     "data": {
      "image/png": "[encoded data removed]",
      "text/plain": [
       "<Figure size 432x288 with 1 Axes>"
      ]
     },
     "metadata": {},
     "output_type": "display_data"
    },
    {
     "name": "stdout",
     "output_type": "stream",
     "text": [
      "该图片的预测结果的label为4\n"
     ]
    }
   ],
   "source": [
    "inferExe = fluid.Executor(place)\r\n",
    "inferenceScope = fluid.core.Scope()\r\n",
    "\r\n",
    "# 加载图片数据并开始预测\r\n",
    "with fluid.scope_guard(inferenceScope):\r\n",
    "    # 获取训练好的模型\r\n",
    "    [\r\n",
    "        inferenceProgram,\r\n",
    "        feedTragetNames,\r\n",
    "        fetchTargets\r\n",
    "    ] = fluid.io.load_inference_model(modelSavePath, inferExe)\r\n",
    "\r\n",
    "    img = ImagePreprocess(predictImgPath)\r\n",
    "\r\n",
    "    results = exe.run(\r\n",
    "        program=inferenceProgram,\r\n",
    "        feed={feedTragetNames[0]: img},\r\n",
    "        fetch_list=fetchTargets\r\n",
    "    )\r\n",
    "\r\n",
    "\r\n",
    "lab = np.argsort(results)\r\n",
    "\r\n",
    "img = Image.open(predictImgPath)\r\n",
    "plt.imshow(img)\r\n",
    "plt.show()\r\n",
    "print('该图片的预测结果的label为%d' %(lab[0][0][-1]))"
   ]
  }
 ],
 "metadata": {
  "kernelspec": {
   "display_name": "PaddlePaddle 1.7.2 (Python 3.5)",
   "language": "python",
   "name": "py35-paddle1.2.0"
  },
  "language_info": {
   "codemirror_mode": {
    "name": "ipython",
    "version": 3
   },
   "file_extension": ".py",
   "mimetype": "text/x-python",
   "name": "python",
   "nbconvert_exporter": "python",
   "pygments_lexer": "ipython3",
   "version": "3.7.4"
  }
 },
 "nbformat": 4,
 "nbformat_minor": 1
}
