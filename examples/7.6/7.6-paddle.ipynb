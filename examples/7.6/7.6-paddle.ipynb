{
 "cells": [
  {
   "cell_type": "code",
   "execution_count": 37,
   "metadata": {
    "collapsed": false
   },
   "outputs": [
    {
     "name": "stdout",
     "output_type": "stream",
     "text": [
      "data16317\r\n"
     ]
    }
   ],
   "source": [
    "# 查看当前挂载的数据集目录, 该目录下的变更重启环境后会自动还原\n",
    "# View dataset directory. \n",
    "# This directory will be recovered automatically after resetting environment. \n",
    "!ls /home/aistudio/data"
   ]
  },
  {
   "cell_type": "code",
   "execution_count": 38,
   "metadata": {
    "collapsed": false
   },
   "outputs": [
    {
     "name": "stdout",
     "output_type": "stream",
     "text": [
      "housing.data\r\n"
     ]
    }
   ],
   "source": [
    "# 查看工作区文件, 该目录下的变更将会持久保存. 请及时清理不必要的文件, 避免加载过慢.\n",
    "# View personal work directory. \n",
    "# All changes under this directory will be kept even after reset. \n",
    "# Please clean unnecessary files in time to speed up environment loading. \n",
    "!ls /home/aistudio/work"
   ]
  },
  {
   "cell_type": "code",
   "execution_count": 39,
   "metadata": {
    "collapsed": false
   },
   "outputs": [
    {
     "name": "stdout",
     "output_type": "stream",
     "text": [
      "mkdir: cannot create directory ‘/home/aistudio/external-libraries’: File exists\n",
      "Looking in indexes: https://mirror.baidu.com/pypi/simple/\n",
      "Collecting beautifulsoup4\n",
      "\u001b[?25l  Downloading https://mirror.baidu.com/pypi/packages/d1/41/e6495bd7d3781cee623ce23ea6ac73282a373088fcd0ddc809a047b18eae/beautifulsoup4-4.9.3-py3-none-any.whl (115kB)\n",
      "\u001b[K     |████████████████████████████████| 122kB 20.4MB/s eta 0:00:01\n",
      "\u001b[?25hCollecting soupsieve>1.2; python_version >= \"3.0\" (from beautifulsoup4)\n",
      "  Downloading https://mirror.baidu.com/pypi/packages/36/69/d82d04022f02733bf9a72bc3b96332d360c0c5307096d76f6bb7489f7e57/soupsieve-2.2.1-py3-none-any.whl\n",
      "Installing collected packages: soupsieve, beautifulsoup4\n",
      "Successfully installed beautifulsoup4-4.9.3 soupsieve-2.2.1\n",
      "\u001b[33mWARNING: Target directory /home/aistudio/external-libraries/soupsieve-2.2.1.dist-info already exists. Specify --upgrade to force replacement.\u001b[0m\n",
      "\u001b[33mWARNING: Target directory /home/aistudio/external-libraries/bs4 already exists. Specify --upgrade to force replacement.\u001b[0m\n",
      "\u001b[33mWARNING: Target directory /home/aistudio/external-libraries/beautifulsoup4-4.9.3.dist-info already exists. Specify --upgrade to force replacement.\u001b[0m\n",
      "\u001b[33mWARNING: Target directory /home/aistudio/external-libraries/soupsieve already exists. Specify --upgrade to force replacement.\u001b[0m\n"
     ]
    }
   ],
   "source": [
    "# 如果需要进行持久化安装, 需要使用持久化路径, 如下方代码示例:\n",
    "# If a persistence installation is required, \n",
    "# you need to use the persistence path as the following: \n",
    "!mkdir /home/aistudio/external-libraries\n",
    "!pip install beautifulsoup4 -t /home/aistudio/external-libraries"
   ]
  },
  {
   "cell_type": "code",
   "execution_count": 40,
   "metadata": {
    "collapsed": false
   },
   "outputs": [],
   "source": [
    "# 同时添加如下代码, 这样每次环境(kernel)启动的时候只要运行下方代码即可: \n",
    "# Also add the following code, \n",
    "# so that every time the environment (kernel) starts, \n",
    "# just run the following code: \n",
    "import sys \n",
    "sys.path.append('/home/aistudio/external-libraries')"
   ]
  },
  {
   "cell_type": "markdown",
   "metadata": {
    "collapsed": false
   },
   "source": [
    "请点击[此处](https://ai.baidu.com/docs#/AIStudio_Project_Notebook/a38e5576)查看本环境基本用法.  <br>\n",
    "Please click [here ](https://ai.baidu.com/docs#/AIStudio_Project_Notebook/a38e5576) for more detailed instructions. "
   ]
  },
  {
   "cell_type": "code",
   "execution_count": 41,
   "metadata": {
    "collapsed": false
   },
   "outputs": [],
   "source": [
    "#导入相关的库\r\n",
    "import paddle\r\n",
    "from paddle.nn import Linear\r\n",
    "import paddle.nn.functional as F\r\n",
    "import numpy as np\r\n",
    "import os\r\n",
    "import random\r\n",
    "import matplotlib.pyplot as plt"
   ]
  },
  {
   "cell_type": "code",
   "execution_count": 42,
   "metadata": {
    "collapsed": false
   },
   "outputs": [],
   "source": [
    "# 编写加载数据的函数\r\n",
    "def load_data():\r\n",
    "    # 从文件导入数据\r\n",
    "    datafile='./work/housing.data'\r\n",
    "    data=np.fromfile(datafile,sep=' ',dtype=np.float32)\r\n",
    "    \r\n",
    "    # 每条数据包括14项，其中前面13项是影响因素，第14项是相应的房屋价格中位数\r\n",
    "    feature_names = [ 'CRIM', 'ZN', 'INDUS', 'CHAS', 'NOX', 'RM', 'AGE', \\\r\n",
    "                      'DIS', 'RAD', 'TAX', 'PTRATIO', 'B', 'LSTAT', 'MEDV' ]\r\n",
    "    feature_num = len(feature_names)\r\n",
    "\r\n",
    "    # 将原始数据进行Reshape，变成[N, 14]这样的形状\r\n",
    "    #将一维的数据转成二维\r\n",
    "    data = data.reshape([data.shape[0] // feature_num, feature_num])\r\n",
    "    \r\n",
    "    # 将原数据集拆分成训练集和测试集\r\n",
    "    # 这里使用80%的数据做训练，20%的数据做测试\r\n",
    "    # 测试集和训练集必须是没有交集的\r\n",
    "    ratio=0.8\r\n",
    "    offset=int(data.shape[0]*ratio)\r\n",
    "    training_data=data[:offset]\r\n",
    "\r\n",
    "    # 计算train数据集的最大值，最小值，平均值\r\n",
    "    maximums,minimums,avgs=training_data.max(axis=0),training_data.min(axis=0),training_data.sum(axis=0)/training_data.shape[0]\r\n",
    "\r\n",
    "    # 记录数据的归一化参数，在预测时对数据做归一化\r\n",
    "    global max_values\r\n",
    "    global min_values\r\n",
    "    global avg_values\r\n",
    "    max_values=maximums\r\n",
    "    min_values=minimums\r\n",
    "    avg_values=avgs\r\n",
    "\r\n",
    "    # 对数据进行归一化处理\r\n",
    "    for i in range(feature_num):\r\n",
    "        data[:,i]=(data[:,i]-avgs[i])/(maximums[i]-minimums[i])\r\n",
    "\r\n",
    "    # 训练集和测试集的划分比例\r\n",
    "    training_data=data[:offset]\r\n",
    "    test_data=data[offset:]\r\n",
    "    \r\n",
    "    return training_data,test_data"
   ]
  },
  {
   "cell_type": "code",
   "execution_count": 43,
   "metadata": {
    "collapsed": false
   },
   "outputs": [],
   "source": [
    "# 定义网络结构为两层，全连接层+激活函数+全连接层\r\n",
    "class Net(paddle.nn.Layer):\r\n",
    "    # self代表类的实例自身\r\n",
    "    def __init__(self):\r\n",
    "        # 初始化父类中的一些参数\r\n",
    "        super(Net,self).__init__()\r\n",
    "\r\n",
    "        self.fc1=Linear(in_features=13,out_features=128)\r\n",
    "        self.fc2=Linear(in_features=128,out_features=1)\r\n",
    "        \r\n",
    "    def forward(self,inputs):\r\n",
    "        x=self.fc1(inputs)\r\n",
    "        x=F.relu(x)\r\n",
    "        x=self.fc2(x)\r\n",
    "        return x"
   ]
  },
  {
   "cell_type": "code",
   "execution_count": 44,
   "metadata": {
    "collapsed": false
   },
   "outputs": [],
   "source": [
    "#创建网络的一个对象\r\n",
    "model=Net()\r\n",
    "model.train()\r\n",
    "#进入模型的训练模式\r\n",
    "training_data, test_data = load_data()\r\n",
    "opt = paddle.optimizer.Adam(learning_rate=0.01, parameters=model.parameters())\r\n",
    "#设置优化器为Adam"
   ]
  },
  {
   "cell_type": "code",
   "execution_count": 45,
   "metadata": {
    "collapsed": false
   },
   "outputs": [
    {
     "name": "stdout",
     "output_type": "stream",
     "text": [
      "epoch: 1, iter: 0, loss is: [0.02875786]\n",
      "epoch: 1, iter: 20, loss is: [0.01014329]\n",
      "epoch: 1, iter: 40, loss is: [0.00580197]\n",
      "epoch: 2, iter: 0, loss is: [0.00517416]\n",
      "epoch: 2, iter: 20, loss is: [0.00755648]\n",
      "epoch: 2, iter: 40, loss is: [0.00383944]\n",
      "epoch: 3, iter: 0, loss is: [0.0033968]\n",
      "epoch: 3, iter: 20, loss is: [0.00634085]\n",
      "epoch: 3, iter: 40, loss is: [0.00484461]\n",
      "epoch: 4, iter: 0, loss is: [0.00301662]\n",
      "epoch: 4, iter: 20, loss is: [0.00820194]\n",
      "epoch: 4, iter: 40, loss is: [0.00469439]\n",
      "epoch: 5, iter: 0, loss is: [0.00098433]\n",
      "epoch: 5, iter: 20, loss is: [0.00840407]\n",
      "epoch: 5, iter: 40, loss is: [0.00357361]\n",
      "epoch: 6, iter: 0, loss is: [0.00463749]\n",
      "epoch: 6, iter: 20, loss is: [0.00470148]\n",
      "epoch: 6, iter: 40, loss is: [0.00227926]\n",
      "epoch: 7, iter: 0, loss is: [0.00078318]\n",
      "epoch: 7, iter: 20, loss is: [0.0062756]\n",
      "epoch: 7, iter: 40, loss is: [0.00940356]\n",
      "epoch: 8, iter: 0, loss is: [0.00267786]\n",
      "epoch: 8, iter: 20, loss is: [0.00360906]\n",
      "epoch: 8, iter: 40, loss is: [0.00121929]\n",
      "epoch: 9, iter: 0, loss is: [0.00123987]\n",
      "epoch: 9, iter: 20, loss is: [0.00247582]\n",
      "epoch: 9, iter: 40, loss is: [0.00483735]\n",
      "epoch: 10, iter: 0, loss is: [0.00212717]\n",
      "epoch: 10, iter: 20, loss is: [0.00240224]\n",
      "epoch: 10, iter: 40, loss is: [0.00024015]\n",
      "epoch: 11, iter: 0, loss is: [0.00327615]\n",
      "epoch: 11, iter: 20, loss is: [0.00142267]\n",
      "epoch: 11, iter: 40, loss is: [0.00291984]\n",
      "epoch: 12, iter: 0, loss is: [0.00141478]\n",
      "epoch: 12, iter: 20, loss is: [0.00668099]\n",
      "epoch: 12, iter: 40, loss is: [0.00568745]\n",
      "epoch: 13, iter: 0, loss is: [0.00238869]\n",
      "epoch: 13, iter: 20, loss is: [0.00184444]\n",
      "epoch: 13, iter: 40, loss is: [0.00276492]\n",
      "epoch: 14, iter: 0, loss is: [0.00148403]\n",
      "epoch: 14, iter: 20, loss is: [0.00137826]\n",
      "epoch: 14, iter: 40, loss is: [0.00025064]\n",
      "epoch: 15, iter: 0, loss is: [0.00563653]\n",
      "epoch: 15, iter: 20, loss is: [0.0009081]\n",
      "epoch: 15, iter: 40, loss is: [0.00566186]\n",
      "epoch: 16, iter: 0, loss is: [0.00917763]\n",
      "epoch: 16, iter: 20, loss is: [0.00114248]\n",
      "epoch: 16, iter: 40, loss is: [0.00094825]\n",
      "epoch: 17, iter: 0, loss is: [0.00234339]\n",
      "epoch: 17, iter: 20, loss is: [0.00086521]\n",
      "epoch: 17, iter: 40, loss is: [0.00199057]\n",
      "epoch: 18, iter: 0, loss is: [0.0031646]\n",
      "epoch: 18, iter: 20, loss is: [0.00311996]\n",
      "epoch: 18, iter: 40, loss is: [0.00343166]\n",
      "epoch: 19, iter: 0, loss is: [0.00370589]\n",
      "epoch: 19, iter: 20, loss is: [0.00113868]\n",
      "epoch: 19, iter: 40, loss is: [0.00101918]\n",
      "epoch: 20, iter: 0, loss is: [0.00499664]\n",
      "epoch: 20, iter: 20, loss is: [0.00575106]\n",
      "epoch: 20, iter: 40, loss is: [0.00339944]\n",
      "epoch: 21, iter: 0, loss is: [0.00504293]\n",
      "epoch: 21, iter: 20, loss is: [0.00516602]\n",
      "epoch: 21, iter: 40, loss is: [0.00243568]\n",
      "epoch: 22, iter: 0, loss is: [0.00280842]\n",
      "epoch: 22, iter: 20, loss is: [0.00928806]\n",
      "epoch: 22, iter: 40, loss is: [0.00284278]\n",
      "epoch: 23, iter: 0, loss is: [0.00055773]\n",
      "epoch: 23, iter: 20, loss is: [0.00175183]\n",
      "epoch: 23, iter: 40, loss is: [0.0040466]\n",
      "epoch: 24, iter: 0, loss is: [0.00229102]\n",
      "epoch: 24, iter: 20, loss is: [0.00194634]\n",
      "epoch: 24, iter: 40, loss is: [0.00138109]\n",
      "epoch: 25, iter: 0, loss is: [0.00105629]\n",
      "epoch: 25, iter: 20, loss is: [0.00450127]\n",
      "epoch: 25, iter: 40, loss is: [0.00202979]\n",
      "epoch: 26, iter: 0, loss is: [0.00153941]\n",
      "epoch: 26, iter: 20, loss is: [0.00146637]\n",
      "epoch: 26, iter: 40, loss is: [0.00078709]\n",
      "epoch: 27, iter: 0, loss is: [0.00156418]\n",
      "epoch: 27, iter: 20, loss is: [0.00307898]\n",
      "epoch: 27, iter: 40, loss is: [0.00159091]\n",
      "epoch: 28, iter: 0, loss is: [0.00221024]\n",
      "epoch: 28, iter: 20, loss is: [0.00030636]\n",
      "epoch: 28, iter: 40, loss is: [0.00593501]\n",
      "epoch: 29, iter: 0, loss is: [0.00156992]\n",
      "epoch: 29, iter: 20, loss is: [0.00518662]\n",
      "epoch: 29, iter: 40, loss is: [0.00029163]\n",
      "epoch: 30, iter: 0, loss is: [0.00230511]\n",
      "epoch: 30, iter: 20, loss is: [0.01831392]\n",
      "epoch: 30, iter: 40, loss is: [0.00188278]\n",
      "epoch: 31, iter: 0, loss is: [0.00433233]\n",
      "epoch: 31, iter: 20, loss is: [0.0012584]\n",
      "epoch: 31, iter: 40, loss is: [0.00132161]\n",
      "epoch: 32, iter: 0, loss is: [0.00199349]\n",
      "epoch: 32, iter: 20, loss is: [0.00240079]\n",
      "epoch: 32, iter: 40, loss is: [0.00052856]\n",
      "epoch: 33, iter: 0, loss is: [0.00088804]\n",
      "epoch: 33, iter: 20, loss is: [0.00134803]\n",
      "epoch: 33, iter: 40, loss is: [0.00475573]\n",
      "epoch: 34, iter: 0, loss is: [0.00149057]\n",
      "epoch: 34, iter: 20, loss is: [0.00175693]\n",
      "epoch: 34, iter: 40, loss is: [0.00035865]\n",
      "epoch: 35, iter: 0, loss is: [0.00085386]\n",
      "epoch: 35, iter: 20, loss is: [0.00194511]\n",
      "epoch: 35, iter: 40, loss is: [0.00288477]\n",
      "epoch: 36, iter: 0, loss is: [0.00162462]\n",
      "epoch: 36, iter: 20, loss is: [0.00928449]\n",
      "epoch: 36, iter: 40, loss is: [0.01139897]\n",
      "epoch: 37, iter: 0, loss is: [0.00156048]\n",
      "epoch: 37, iter: 20, loss is: [0.00349555]\n",
      "epoch: 37, iter: 40, loss is: [0.01269172]\n",
      "epoch: 38, iter: 0, loss is: [0.00288169]\n",
      "epoch: 38, iter: 20, loss is: [0.00128855]\n",
      "epoch: 38, iter: 40, loss is: [0.00074797]\n",
      "epoch: 39, iter: 0, loss is: [0.00089703]\n",
      "epoch: 39, iter: 20, loss is: [0.00382079]\n",
      "epoch: 39, iter: 40, loss is: [0.00412294]\n",
      "epoch: 40, iter: 0, loss is: [0.00227687]\n",
      "epoch: 40, iter: 20, loss is: [0.00537139]\n",
      "epoch: 40, iter: 40, loss is: [0.00429609]\n",
      "epoch: 41, iter: 0, loss is: [0.00288302]\n",
      "epoch: 41, iter: 20, loss is: [0.0038525]\n",
      "epoch: 41, iter: 40, loss is: [0.0005166]\n",
      "epoch: 42, iter: 0, loss is: [0.00228357]\n",
      "epoch: 42, iter: 20, loss is: [0.00083685]\n",
      "epoch: 42, iter: 40, loss is: [0.0014928]\n",
      "epoch: 43, iter: 0, loss is: [0.00192754]\n",
      "epoch: 43, iter: 20, loss is: [0.0008681]\n",
      "epoch: 43, iter: 40, loss is: [0.01015293]\n",
      "epoch: 44, iter: 0, loss is: [0.00184615]\n",
      "epoch: 44, iter: 20, loss is: [0.00246284]\n",
      "epoch: 44, iter: 40, loss is: [0.00046719]\n",
      "epoch: 45, iter: 0, loss is: [0.00405301]\n",
      "epoch: 45, iter: 20, loss is: [0.00321802]\n",
      "epoch: 45, iter: 40, loss is: [0.00145279]\n",
      "epoch: 46, iter: 0, loss is: [0.00148617]\n",
      "epoch: 46, iter: 20, loss is: [0.00146899]\n",
      "epoch: 46, iter: 40, loss is: [0.00420052]\n",
      "epoch: 47, iter: 0, loss is: [0.00182993]\n",
      "epoch: 47, iter: 20, loss is: [0.0067679]\n",
      "epoch: 47, iter: 40, loss is: [0.00858084]\n",
      "epoch: 48, iter: 0, loss is: [0.00209639]\n",
      "epoch: 48, iter: 20, loss is: [0.00126133]\n",
      "epoch: 48, iter: 40, loss is: [0.00010561]\n",
      "epoch: 49, iter: 0, loss is: [0.00060388]\n",
      "epoch: 49, iter: 20, loss is: [0.00394217]\n",
      "epoch: 49, iter: 40, loss is: [0.00297848]\n",
      "epoch: 50, iter: 0, loss is: [0.00376099]\n",
      "epoch: 50, iter: 20, loss is: [0.00168184]\n",
      "epoch: 50, iter: 40, loss is: [0.00281202]\n",
      "epoch: 51, iter: 0, loss is: [0.00353447]\n",
      "epoch: 51, iter: 20, loss is: [0.0012068]\n",
      "epoch: 51, iter: 40, loss is: [0.00310346]\n",
      "epoch: 52, iter: 0, loss is: [0.00080819]\n",
      "epoch: 52, iter: 20, loss is: [0.00035375]\n",
      "epoch: 52, iter: 40, loss is: [0.00150859]\n",
      "epoch: 53, iter: 0, loss is: [0.00195881]\n",
      "epoch: 53, iter: 20, loss is: [0.00099058]\n",
      "epoch: 53, iter: 40, loss is: [0.01058385]\n",
      "epoch: 54, iter: 0, loss is: [0.00359258]\n",
      "epoch: 54, iter: 20, loss is: [0.00314672]\n",
      "epoch: 54, iter: 40, loss is: [0.00125784]\n",
      "epoch: 55, iter: 0, loss is: [0.00145655]\n",
      "epoch: 55, iter: 20, loss is: [0.00134341]\n",
      "epoch: 55, iter: 40, loss is: [0.00101067]\n",
      "epoch: 56, iter: 0, loss is: [0.00148967]\n",
      "epoch: 56, iter: 20, loss is: [0.00103631]\n",
      "epoch: 56, iter: 40, loss is: [0.00023277]\n",
      "epoch: 57, iter: 0, loss is: [0.00358311]\n",
      "epoch: 57, iter: 20, loss is: [0.00097266]\n",
      "epoch: 57, iter: 40, loss is: [0.0052584]\n",
      "epoch: 58, iter: 0, loss is: [0.00265441]\n",
      "epoch: 58, iter: 20, loss is: [0.00222927]\n",
      "epoch: 58, iter: 40, loss is: [0.00315406]\n",
      "epoch: 59, iter: 0, loss is: [0.00292198]\n",
      "epoch: 59, iter: 20, loss is: [0.0013723]\n",
      "epoch: 59, iter: 40, loss is: [0.00096784]\n",
      "epoch: 60, iter: 0, loss is: [0.00221458]\n",
      "epoch: 60, iter: 20, loss is: [0.00097334]\n",
      "epoch: 60, iter: 40, loss is: [0.00242306]\n",
      "epoch: 61, iter: 0, loss is: [0.00532796]\n",
      "epoch: 61, iter: 20, loss is: [0.00106668]\n",
      "epoch: 61, iter: 40, loss is: [0.00209771]\n",
      "epoch: 62, iter: 0, loss is: [0.00202765]\n",
      "epoch: 62, iter: 20, loss is: [0.00940344]\n",
      "epoch: 62, iter: 40, loss is: [0.00030849]\n",
      "epoch: 63, iter: 0, loss is: [0.0013235]\n",
      "epoch: 63, iter: 20, loss is: [0.00703744]\n",
      "epoch: 63, iter: 40, loss is: [0.00101989]\n",
      "epoch: 64, iter: 0, loss is: [0.00161416]\n",
      "epoch: 64, iter: 20, loss is: [0.00176575]\n",
      "epoch: 64, iter: 40, loss is: [0.00401699]\n",
      "epoch: 65, iter: 0, loss is: [0.00194829]\n",
      "epoch: 65, iter: 20, loss is: [0.00348632]\n",
      "epoch: 65, iter: 40, loss is: [0.00140784]\n",
      "epoch: 66, iter: 0, loss is: [0.00102757]\n",
      "epoch: 66, iter: 20, loss is: [0.00173963]\n",
      "epoch: 66, iter: 40, loss is: [0.00246787]\n",
      "epoch: 67, iter: 0, loss is: [0.00312775]\n",
      "epoch: 67, iter: 20, loss is: [0.00099895]\n",
      "epoch: 67, iter: 40, loss is: [0.00251181]\n",
      "epoch: 68, iter: 0, loss is: [0.00134294]\n",
      "epoch: 68, iter: 20, loss is: [0.00095609]\n",
      "epoch: 68, iter: 40, loss is: [0.00989814]\n",
      "epoch: 69, iter: 0, loss is: [0.00136242]\n",
      "epoch: 69, iter: 20, loss is: [0.00039332]\n",
      "epoch: 69, iter: 40, loss is: [0.00089508]\n",
      "epoch: 70, iter: 0, loss is: [0.00701522]\n",
      "epoch: 70, iter: 20, loss is: [0.00166017]\n",
      "epoch: 70, iter: 40, loss is: [0.00193081]\n",
      "epoch: 71, iter: 0, loss is: [0.00182427]\n",
      "epoch: 71, iter: 20, loss is: [0.00113767]\n",
      "epoch: 71, iter: 40, loss is: [0.00551878]\n",
      "epoch: 72, iter: 0, loss is: [0.00144884]\n",
      "epoch: 72, iter: 20, loss is: [0.00082769]\n",
      "epoch: 72, iter: 40, loss is: [0.00033181]\n",
      "epoch: 73, iter: 0, loss is: [0.00265743]\n",
      "epoch: 73, iter: 20, loss is: [0.00200795]\n",
      "epoch: 73, iter: 40, loss is: [0.00190243]\n",
      "epoch: 74, iter: 0, loss is: [0.0007589]\n",
      "epoch: 74, iter: 20, loss is: [0.00298402]\n",
      "epoch: 74, iter: 40, loss is: [0.00482131]\n",
      "epoch: 75, iter: 0, loss is: [0.00055222]\n",
      "epoch: 75, iter: 20, loss is: [0.00316835]\n",
      "epoch: 75, iter: 40, loss is: [0.00048058]\n",
      "epoch: 76, iter: 0, loss is: [0.00176407]\n",
      "epoch: 76, iter: 20, loss is: [0.00239981]\n",
      "epoch: 76, iter: 40, loss is: [0.00024439]\n",
      "epoch: 77, iter: 0, loss is: [0.00078359]\n",
      "epoch: 77, iter: 20, loss is: [0.00346533]\n",
      "epoch: 77, iter: 40, loss is: [0.00140136]\n",
      "epoch: 78, iter: 0, loss is: [0.00122374]\n",
      "epoch: 78, iter: 20, loss is: [0.00063193]\n",
      "epoch: 78, iter: 40, loss is: [0.00041882]\n",
      "epoch: 79, iter: 0, loss is: [0.00218466]\n",
      "epoch: 79, iter: 20, loss is: [0.00118188]\n",
      "epoch: 79, iter: 40, loss is: [0.00049251]\n",
      "epoch: 80, iter: 0, loss is: [0.00079595]\n",
      "epoch: 80, iter: 20, loss is: [0.00150322]\n",
      "epoch: 80, iter: 40, loss is: [0.0015422]\n",
      "epoch: 81, iter: 0, loss is: [0.00127569]\n",
      "epoch: 81, iter: 20, loss is: [0.00160835]\n",
      "epoch: 81, iter: 40, loss is: [0.00520353]\n",
      "epoch: 82, iter: 0, loss is: [0.00132467]\n",
      "epoch: 82, iter: 20, loss is: [0.00212951]\n",
      "epoch: 82, iter: 40, loss is: [0.00575307]\n",
      "epoch: 83, iter: 0, loss is: [0.00341268]\n",
      "epoch: 83, iter: 20, loss is: [0.00163028]\n",
      "epoch: 83, iter: 40, loss is: [0.00356409]\n",
      "epoch: 84, iter: 0, loss is: [0.00094034]\n",
      "epoch: 84, iter: 20, loss is: [0.00150003]\n",
      "epoch: 84, iter: 40, loss is: [0.00025169]\n",
      "epoch: 85, iter: 0, loss is: [0.00163074]\n",
      "epoch: 85, iter: 20, loss is: [0.00184239]\n",
      "epoch: 85, iter: 40, loss is: [0.00420461]\n",
      "epoch: 86, iter: 0, loss is: [0.00172155]\n",
      "epoch: 86, iter: 20, loss is: [0.00098929]\n",
      "epoch: 86, iter: 40, loss is: [0.00075994]\n",
      "epoch: 87, iter: 0, loss is: [0.00122421]\n",
      "epoch: 87, iter: 20, loss is: [0.00165098]\n",
      "epoch: 87, iter: 40, loss is: [0.00824334]\n",
      "epoch: 88, iter: 0, loss is: [0.0003448]\n",
      "epoch: 88, iter: 20, loss is: [0.00666341]\n",
      "epoch: 88, iter: 40, loss is: [0.00264483]\n",
      "epoch: 89, iter: 0, loss is: [0.00943951]\n",
      "epoch: 89, iter: 20, loss is: [0.00160093]\n",
      "epoch: 89, iter: 40, loss is: [0.00211143]\n",
      "epoch: 90, iter: 0, loss is: [0.00035986]\n",
      "epoch: 90, iter: 20, loss is: [0.0027773]\n",
      "epoch: 90, iter: 40, loss is: [0.00074996]\n",
      "epoch: 91, iter: 0, loss is: [0.00188069]\n",
      "epoch: 91, iter: 20, loss is: [0.00042422]\n",
      "epoch: 91, iter: 40, loss is: [0.00274049]\n",
      "epoch: 92, iter: 0, loss is: [0.00052669]\n",
      "epoch: 92, iter: 20, loss is: [0.00086471]\n",
      "epoch: 92, iter: 40, loss is: [0.00079585]\n",
      "epoch: 93, iter: 0, loss is: [0.00050847]\n",
      "epoch: 93, iter: 20, loss is: [0.00164568]\n",
      "epoch: 93, iter: 40, loss is: [0.0025435]\n",
      "epoch: 94, iter: 0, loss is: [0.00245285]\n",
      "epoch: 94, iter: 20, loss is: [0.00386984]\n",
      "epoch: 94, iter: 40, loss is: [0.00540782]\n",
      "epoch: 95, iter: 0, loss is: [0.00242601]\n",
      "epoch: 95, iter: 20, loss is: [0.00548464]\n",
      "epoch: 95, iter: 40, loss is: [6.0451086e-05]\n",
      "epoch: 96, iter: 0, loss is: [0.00322242]\n",
      "epoch: 96, iter: 20, loss is: [0.00588672]\n",
      "epoch: 96, iter: 40, loss is: [0.00061623]\n",
      "epoch: 97, iter: 0, loss is: [0.00070497]\n",
      "epoch: 97, iter: 20, loss is: [0.00212467]\n",
      "epoch: 97, iter: 40, loss is: [7.4080235e-05]\n",
      "epoch: 98, iter: 0, loss is: [0.00081023]\n",
      "epoch: 98, iter: 20, loss is: [0.00251241]\n",
      "epoch: 98, iter: 40, loss is: [0.00256539]\n",
      "epoch: 99, iter: 0, loss is: [0.00055783]\n",
      "epoch: 99, iter: 20, loss is: [0.00193705]\n",
      "epoch: 99, iter: 40, loss is: [0.00084013]\n",
      "epoch: 100, iter: 0, loss is: [0.00248172]\n",
      "epoch: 100, iter: 20, loss is: [0.00091145]\n",
      "epoch: 100, iter: 40, loss is: [0.00043632]\n"
     ]
    }
   ],
   "source": [
    "EPOCH_NUM = 100   #设置迭代次数\r\n",
    "BATCH_SIZE = 10  #设置批次大小\r\n",
    "\r\n",
    "# 定义外层循环\r\n",
    "losses=[]\r\n",
    "for epoch_id in range(1,EPOCH_NUM+1):\r\n",
    "    # 在每轮迭代开始之前，将训练数据的顺序随机的打乱\r\n",
    "    np.random.shuffle(training_data)\r\n",
    "    # 将训练数据进行拆分，每个batch包含10条数据\r\n",
    "    mini_batches = [training_data[k:k+BATCH_SIZE] for k in range(0, len(training_data), BATCH_SIZE)]\r\n",
    "    # 定义内层循环\r\n",
    "    for iter_id, mini_batch in enumerate(mini_batches):\r\n",
    "        x = np.array(mini_batch[:, :-1]) # 获得当前批次训练数据\r\n",
    "        y = np.array(mini_batch[:, -1:]) # 获得当前批次训练标签（真实房价）\r\n",
    "        # 将numpy数据转为飞桨动态图tensor形式\r\n",
    "        house_features = paddle.to_tensor(x)\r\n",
    "        prices = paddle.to_tensor(y)\r\n",
    "        \r\n",
    "        # 前向计算\r\n",
    "        predicts = model(house_features)\r\n",
    "        \r\n",
    "        # 计算损失\r\n",
    "        loss = F.square_error_cost(predicts, label=prices)\r\n",
    "        avg_loss = paddle.mean(loss)\r\n",
    "        losses.append(avg_loss.numpy())\r\n",
    "        if iter_id % 20==0:\r\n",
    "            print(\"epoch: {}, iter: {}, loss is: {}\".format(epoch_id, iter_id, avg_loss.numpy()))\r\n",
    "        \r\n",
    "        # 反向传播\r\n",
    "        avg_loss.backward()\r\n",
    "        # 最小化loss,更新参数\r\n",
    "        opt.step()\r\n",
    "        # 清除梯度\r\n",
    "        opt.clear_grad()"
   ]
  },
  {
   "cell_type": "code",
   "execution_count": 46,
   "metadata": {
    "collapsed": false
   },
   "outputs": [
    {
     "data": {
      "image/png": "[encoded data removed]",
      "text/plain": [
       "<Figure size 432x288 with 1 Axes>"
      ]
     },
     "metadata": {},
     "output_type": "display_data"
    }
   ],
   "source": [
    "plot_x = np.arange(len(losses))\r\n",
    "plot_y = np.array(losses)\r\n",
    "plt.plot(plot_x, plot_y)\r\n",
    "plt.show()"
   ]
  },
  {
   "cell_type": "code",
   "execution_count": 47,
   "metadata": {
    "collapsed": false
   },
   "outputs": [
    {
     "name": "stdout",
     "output_type": "stream",
     "text": [
      "模型保存成功，模型参数保存在LR_model.pdparams中\n"
     ]
    }
   ],
   "source": [
    "# 保存模型参数，文件名为LR_model.pdparams\r\n",
    "paddle.save(model.state_dict(), 'LR_model.pdparams')\r\n",
    "print(\"模型保存成功，模型参数保存在LR_model.pdparams中\")"
   ]
  },
  {
   "cell_type": "code",
   "execution_count": 48,
   "metadata": {
    "collapsed": false
   },
   "outputs": [
    {
     "name": "stdout",
     "output_type": "stream",
     "text": [
      "Inference result is [[25.91603]], the corresponding label is 23.899999618530273\n"
     ]
    }
   ],
   "source": [
    "# 参数为保存模型参数的文件地址\r\n",
    "model_dict = paddle.load('LR_model.pdparams')\r\n",
    "model.load_dict(model_dict)\r\n",
    "model.eval()\r\n",
    "\r\n",
    "# 从上边已加载的测试集中，随机选择一条作为测试数据\r\n",
    "idx = np.random.randint(0, test_data.shape[0])\r\n",
    "one_data, label = test_data[idx, :-1], test_data[idx, -1]\r\n",
    "# 修改该条数据shape为[1,13]\r\n",
    "one_data =  one_data.reshape([1,-1])\r\n",
    "\r\n",
    "# 将数据转为动态图的variable格式 \r\n",
    "one_data = paddle.to_tensor(one_data)\r\n",
    "predict = model(one_data)\r\n",
    "\r\n",
    "# 对结果做反归一化处理\r\n",
    "predict = predict * (max_values[-1] - min_values[-1]) + avg_values[-1]\r\n",
    "# 对label数据做反归一化处理\r\n",
    "label = label * (max_values[-1] - min_values[-1]) + avg_values[-1]\r\n",
    "\r\n",
    "print(\"Inference result is {}, the corresponding label is {}\".format(predict.numpy(), label))"
   ]
  }
 ],
 "metadata": {
  "kernelspec": {
   "display_name": "PaddlePaddle 2.1.0 (Python 3.5)",
   "language": "python",
   "name": "py35-paddle1.2.0"
  },
  "language_info": {
   "codemirror_mode": {
    "name": "ipython",
    "version": 3
   },
   "file_extension": ".py",
   "mimetype": "text/x-python",
   "name": "python",
   "nbconvert_exporter": "python",
   "pygments_lexer": "ipython3",
   "version": "3.7.4"
  }
 },
 "nbformat": 4,
 "nbformat_minor": 1
}
