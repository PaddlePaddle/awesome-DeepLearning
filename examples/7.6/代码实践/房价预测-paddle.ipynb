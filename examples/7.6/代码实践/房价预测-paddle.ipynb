{
 "cells": [
  {
   "cell_type": "code",
   "execution_count": 52,
   "metadata": {
    "collapsed": false
   },
   "outputs": [
    {
     "name": "stdout",
     "output_type": "stream",
     "text": [
      "housing.data\r\n"
     ]
    }
   ],
   "source": [
    "# 查看当前挂载的数据集目录, 该目录下的变更重启环境后会自动还原\n",
    "# View dataset directory. \n",
    "# This directory will be recovered automatically after resetting environment. \n",
    "!ls /home/aistudio/data"
   ]
  },
  {
   "cell_type": "code",
   "execution_count": 53,
   "metadata": {
    "collapsed": false
   },
   "outputs": [],
   "source": [
    "# 查看工作区文件, 该目录下的变更将会持久保存. 请及时清理不必要的文件, 避免加载过慢.\n",
    "# View personal work directory. \n",
    "# All changes under this directory will be kept even after reset. \n",
    "# Please clean unnecessary files in time to speed up environment loading. \n",
    "!ls /home/aistudio/work"
   ]
  },
  {
   "cell_type": "code",
   "execution_count": 54,
   "metadata": {
    "collapsed": false
   },
   "outputs": [
    {
     "name": "stdout",
     "output_type": "stream",
     "text": [
      "Looking in indexes: https://mirror.baidu.com/pypi/simple/\n",
      "Collecting beautifulsoup4\n",
      "\u001b[?25l  Downloading https://mirror.baidu.com/pypi/packages/d1/41/e6495bd7d3781cee623ce23ea6ac73282a373088fcd0ddc809a047b18eae/beautifulsoup4-4.9.3-py3-none-any.whl (115kB)\n",
      "\u001b[K     |████████████████████████████████| 122kB 16.1MB/s eta 0:00:01\n",
      "\u001b[?25hCollecting soupsieve>1.2; python_version >= \"3.0\" (from beautifulsoup4)\n",
      "  Downloading https://mirror.baidu.com/pypi/packages/36/69/d82d04022f02733bf9a72bc3b96332d360c0c5307096d76f6bb7489f7e57/soupsieve-2.2.1-py3-none-any.whl\n",
      "Installing collected packages: soupsieve, beautifulsoup4\n",
      "Successfully installed beautifulsoup4-4.9.3 soupsieve-2.2.1\n"
     ]
    }
   ],
   "source": [
    "# 如果需要进行持久化安装, 需要使用持久化路径, 如下方代码示例:\n",
    "# If a persistence installation is required, \n",
    "# you need to use the persistence path as the following: \n",
    "!mkdir /home/aistudio/external-libraries\n",
    "!pip install beautifulsoup4 -t /home/aistudio/external-libraries"
   ]
  },
  {
   "cell_type": "code",
   "execution_count": 55,
   "metadata": {
    "collapsed": false
   },
   "outputs": [],
   "source": [
    "# 同时添加如下代码, 这样每次环境(kernel)启动的时候只要运行下方代码即可: \n",
    "# Also add the following code, \n",
    "# so that every time the environment (kernel) starts, \n",
    "# just run the following code: \n",
    "import sys \n",
    "sys.path.append('/home/aistudio/external-libraries')"
   ]
  },
  {
   "cell_type": "code",
   "execution_count": 56,
   "metadata": {
    "collapsed": false
   },
   "outputs": [],
   "source": [
    "import random\n",
    "import paddle\n",
    "import numpy as np\n",
    "import paddle.nn as nn\n",
    "import matplotlib.pyplot as plt\n",
    "import paddle.nn.functional as F"
   ]
  },
  {
   "cell_type": "code",
   "execution_count": 57,
   "metadata": {
    "collapsed": false
   },
   "outputs": [],
   "source": [
    "def load_data():\n",
    "    # 从文件导入数据\n",
    "    datafile = './data/housing.data'\n",
    "    data = np.fromfile(datafile, sep=' ', dtype=np.float32)\n",
    "\n",
    "    # 每条数据包括14项，其中前面13项是影响因素，第14项是相应的房屋价格中位数\n",
    "    feature_names = [ 'CRIM', 'ZN', 'INDUS', 'CHAS', 'NOX', 'RM', 'AGE', \n",
    "    'DIS', 'RAD', 'TAX', 'PTRATIO', 'B', 'LSTAT', 'MEDV' ]\n",
    "    feature_num = len(feature_names)\n",
    "\n",
    "    # 将原始数据进行Reshape，变成[N, 14]这样的形状\n",
    "    data = data.reshape([data.shape[0] // feature_num, feature_num])\n",
    "\n",
    "    # 将原数据集拆分成训练集和测试集\n",
    "    # 这里使用80%的数据做训练，20%的数据做测试\n",
    "    # 测试集和训练集必须是没有交集的\n",
    "    ratio = 0.8\n",
    "    offset = int(data.shape[0] * ratio)\n",
    "    training_data = data[:offset]\n",
    "\n",
    "    # 计算train数据集的最大值，最小值，平均值\n",
    "    maximums, minimums, avgs = training_data.max(axis=0), training_data.min(axis=0), \\\n",
    "    training_data.sum(axis=0) / training_data.shape[0]\n",
    "\n",
    "    # 记录数据的归一化参数，在预测时对数据做归一化\n",
    "    global max_values\n",
    "    global min_values\n",
    "    global avg_values\n",
    "    max_values = maximums\n",
    "    min_values = minimums\n",
    "    avg_values = avgs\n",
    "\n",
    "    # 对数据进行归一化处理\n",
    "    for i in range(feature_num):\n",
    "        data[:, i] = (data[:, i] - avgs[i]) / (maximums[i] - minimums[i])\n",
    "\n",
    "    # 训练集和测试集的划分比例\n",
    "    training_data = data[:offset]\n",
    "    test_data = data[offset:]\n",
    "    return training_data, test_data"
   ]
  },
  {
   "cell_type": "code",
   "execution_count": 58,
   "metadata": {
    "collapsed": false
   },
   "outputs": [],
   "source": [
    "class Regressor(paddle.nn.Layer):\n",
    "\n",
    "     def __init__(self):\n",
    "         # 初始化父类中的一些参数\n",
    "         super(Regressor, self).__init__()\n",
    "\n",
    "         # 定义两层全连接层\n",
    "         self.fc1 = nn.Linear(in_features=13, out_features=10)   # 输入维度是13，输出维度是10\n",
    "         self.fc2 = nn.Linear(in_features=10, out_features=10)   # 输入维度是10，输出维度是10\n",
    "         self.fc3 = nn.Linear(in_features=10, out_features=1)    # 输入维度是10，输出维度是1\n",
    "\n",
    "     # 网络的前向计算\n",
    "     def forward(self, inputs):\n",
    "         x = F.sigmoid(self.fc1(inputs))\n",
    "         x = F.sigmoid(self.fc2(x))\n",
    "         x = self.fc3(x)\n",
    "         return x"
   ]
  },
  {
   "cell_type": "code",
   "execution_count": 59,
   "metadata": {
    "collapsed": false
   },
   "outputs": [],
   "source": [
    "def train(EPOCH_NUM,BATCH_SIZE):\n",
    "    # 定义外层循环\n",
    "    losses = []\n",
    "    for epoch_id in range(EPOCH_NUM):\n",
    "        # 在每轮迭代开始之前，将训练数据的顺序随机的打乱\n",
    "        np.random.shuffle(training_data)\n",
    "        # 将训练数据进行拆分，每个batch包含10条数据\n",
    "        mini_batches = [training_data[k:k+BATCH_SIZE] for k in range(0, len(training_data), BATCH_SIZE)]\n",
    "        # 定义内层循环\n",
    "        for iter_id, mini_batch in enumerate(mini_batches):\n",
    "            x = np.array(mini_batch[:, :-1]) # 获得当前批次训练数据\n",
    "            y = np.array(mini_batch[:, -1:]) # 获得当前批次训练标签（真实房价）\n",
    "            # 将numpy数据转为飞桨动态图tensor形式\n",
    "            house_features = paddle.to_tensor(x)\n",
    "            prices = paddle.to_tensor(y)\n",
    "\n",
    "            # 前向计算\n",
    "            predicts = model(house_features)\n",
    "\n",
    "            # 计算损失\n",
    "            loss = F.square_error_cost(predicts, label=prices)\n",
    "            avg_loss = paddle.mean(loss)\n",
    "            losses.append(np.squeeze(avg_loss.numpy()))\n",
    "            if iter_id%20==0:\n",
    "                print(\"epoch: {}, iter: {}, loss is: {}\".format(epoch_id, iter_id, np.squeeze(avg_loss.numpy())))\n",
    "\n",
    "            # 反向传播\n",
    "            avg_loss.backward()\n",
    "            # 最小化loss,更新参数\n",
    "            opt.step()\n",
    "            # 清除梯度\n",
    "            opt.clear_grad()\n",
    "    return losses\n",
    "\n",
    "def testing():\n",
    "    x = np.array(test_data[:, :-1]) # 获得当前批次训练数据\n",
    "    y = np.array(test_data[:, -1:]) # 获得当前批次训练标签（真实房价）\n",
    "    # 将numpy数据转为飞桨动态图tensor形式\n",
    "    house_features = paddle.to_tensor(x)\n",
    "    prices = paddle.to_tensor(y)\n",
    "\n",
    "    # 前向计算\n",
    "    predicts = model(house_features)\n",
    "\n",
    "    plt.plot(np.arange(y.shape[0]),y,'b', label = 'label') #标签数据\n",
    "    plt.plot(np.arange(pre.shape[0]),pre.numpy(),'r', label = 'predict') #预测结果\n",
    "    plt.legend(loc=\"upper right\")   #显示图中的标签\n",
    "    plt.show()\n",
    "\n",
    "    # 计算损失\n",
    "    loss = F.square_error_cost(predicts, label=prices)\n",
    "    avg_loss = paddle.mean(loss)\n",
    "    print(\"The test loss is: {}\".format(np.squeeze(avg_loss.numpy())))\n",
    "    return predicts"
   ]
  },
  {
   "cell_type": "code",
   "execution_count": 60,
   "metadata": {
    "collapsed": false
   },
   "outputs": [
    {
     "name": "stdout",
     "output_type": "stream",
     "text": [
      "epoch: 0, iter: 0, loss is: 0.221296027302742\n",
      "epoch: 1, iter: 0, loss is: 0.04987827688455582\n",
      "epoch: 2, iter: 0, loss is: 0.08385821431875229\n",
      "epoch: 3, iter: 0, loss is: 0.04821876436471939\n",
      "epoch: 4, iter: 0, loss is: 0.04216008633375168\n",
      "epoch: 5, iter: 0, loss is: 0.04195071756839752\n",
      "epoch: 6, iter: 0, loss is: 0.0351506844162941\n",
      "epoch: 7, iter: 0, loss is: 0.03527122363448143\n",
      "epoch: 8, iter: 0, loss is: 0.02244817465543747\n",
      "epoch: 9, iter: 0, loss is: 0.027917183935642242\n",
      "epoch: 10, iter: 0, loss is: 0.03354931250214577\n",
      "epoch: 11, iter: 0, loss is: 0.025009820237755775\n",
      "epoch: 12, iter: 0, loss is: 0.02985982969403267\n",
      "epoch: 13, iter: 0, loss is: 0.014605024829506874\n",
      "epoch: 14, iter: 0, loss is: 0.017139602452516556\n",
      "epoch: 15, iter: 0, loss is: 0.023373598232865334\n",
      "epoch: 16, iter: 0, loss is: 0.024572284892201424\n",
      "epoch: 17, iter: 0, loss is: 0.02118166722357273\n",
      "epoch: 18, iter: 0, loss is: 0.027357397601008415\n",
      "epoch: 19, iter: 0, loss is: 0.027949288487434387\n",
      "epoch: 20, iter: 0, loss is: 0.018583957105875015\n",
      "epoch: 21, iter: 0, loss is: 0.01756345108151436\n",
      "epoch: 22, iter: 0, loss is: 0.02223142422735691\n",
      "epoch: 23, iter: 0, loss is: 0.022581668570637703\n",
      "epoch: 24, iter: 0, loss is: 0.013838417828083038\n",
      "epoch: 25, iter: 0, loss is: 0.018538285046815872\n",
      "epoch: 26, iter: 0, loss is: 0.01425362378358841\n",
      "epoch: 27, iter: 0, loss is: 0.01781555265188217\n",
      "epoch: 28, iter: 0, loss is: 0.016721967607736588\n",
      "epoch: 29, iter: 0, loss is: 0.012851094827055931\n",
      "epoch: 30, iter: 0, loss is: 0.019249679520726204\n",
      "epoch: 31, iter: 0, loss is: 0.0143566420301795\n",
      "epoch: 32, iter: 0, loss is: 0.013000553473830223\n",
      "epoch: 33, iter: 0, loss is: 0.011200301349163055\n",
      "epoch: 34, iter: 0, loss is: 0.013020604848861694\n",
      "epoch: 35, iter: 0, loss is: 0.014090987853705883\n",
      "epoch: 36, iter: 0, loss is: 0.014403955079615116\n",
      "epoch: 37, iter: 0, loss is: 0.007713420316576958\n",
      "epoch: 38, iter: 0, loss is: 0.016035325825214386\n",
      "epoch: 39, iter: 0, loss is: 0.011926387436687946\n",
      "epoch: 40, iter: 0, loss is: 0.01324313972145319\n",
      "epoch: 41, iter: 0, loss is: 0.0145657267421484\n",
      "epoch: 42, iter: 0, loss is: 0.015572876669466496\n",
      "epoch: 43, iter: 0, loss is: 0.010921888053417206\n",
      "epoch: 44, iter: 0, loss is: 0.011320846155285835\n",
      "epoch: 45, iter: 0, loss is: 0.010526292026042938\n",
      "epoch: 46, iter: 0, loss is: 0.011913049034774303\n",
      "epoch: 47, iter: 0, loss is: 0.009570853784680367\n",
      "epoch: 48, iter: 0, loss is: 0.010694598779082298\n",
      "epoch: 49, iter: 0, loss is: 0.00726516405120492\n"
     ]
    },
    {
     "data": {
      "image/png": "[encoded data removed]",
      "text/plain": [
       "<Figure size 432x288 with 1 Axes>"
      ]
     },
     "metadata": {},
     "output_type": "display_data"
    },
    {
     "name": "stdout",
     "output_type": "stream",
     "text": [
      "模型保存成功，模型参数保存在LR_model.pdparams中\n"
     ]
    },
    {
     "data": {
      "image/png": "[encoded data removed]",
      "text/plain": [
       "<Figure size 432x288 with 1 Axes>"
      ]
     },
     "metadata": {},
     "output_type": "display_data"
    },
    {
     "name": "stdout",
     "output_type": "stream",
     "text": [
      "The test loss is: 0.009012306109070778\n"
     ]
    }
   ],
   "source": [
    "if __name__ == '__main__':\n",
    "\n",
    "    # 声明定义好的线性回归模型\n",
    "    model = Regressor()\n",
    "    # 开启模型训练模式\n",
    "    model.train()\n",
    "    # 加载数据\n",
    "    training_data, test_data = load_data()\n",
    "    # 定义优化算法，使用随机梯度下降SGD\n",
    "    # 学习率设置为0.1\n",
    "    opt = paddle.optimizer.Adam(learning_rate=0.01, parameters=model.parameters())\n",
    "\n",
    "\n",
    "    EPOCH_NUM = 50   # 设置外层循环次数\n",
    "    BATCH_SIZE = 100  # 设置batch大小\n",
    "\n",
    "    losses = train(EPOCH_NUM, BATCH_SIZE)\n",
    "\n",
    "    plot_x = np.arange(len(losses))\n",
    "    plot_y = np.array(losses)\n",
    "    plt.plot(plot_x, plot_y)\n",
    "    plt.show()\n",
    "\n",
    "    # 保存模型参数，文件名为LR_model.pdparams\n",
    "    paddle.save(model.state_dict(), 'LR_model.pdparams')\n",
    "    print(\"模型保存成功，模型参数保存在LR_model.pdparams中\")\n",
    "\n",
    "    testing()             # 测试集上的损失"
   ]
  }
 ],
 "metadata": {
  "kernelspec": {
   "display_name": "PaddlePaddle 2.1.0 (Python 3.5)",
   "language": "python",
   "name": "py35-paddle1.2.0"
  },
  "language_info": {
   "codemirror_mode": {
    "name": "ipython",
    "version": 3
   },
   "file_extension": ".py",
   "mimetype": "text/x-python",
   "name": "python",
   "nbconvert_exporter": "python",
   "pygments_lexer": "ipython3",
   "version": "3.7.4"
  }
 },
 "nbformat": 4,
 "nbformat_minor": 1
}
