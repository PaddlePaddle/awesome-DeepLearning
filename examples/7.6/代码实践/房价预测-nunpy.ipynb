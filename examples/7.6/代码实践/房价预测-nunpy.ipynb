{
 "cells": [
  {
   "cell_type": "code",
   "execution_count": 1,
   "metadata": {
    "collapsed": false
   },
   "outputs": [
    {
     "name": "stdout",
     "output_type": "stream",
     "text": [
      "data269\r\n"
     ]
    }
   ],
   "source": [
    "# 查看当前挂载的数据集目录, 该目录下的变更重启环境后会自动还原\n",
    "# View dataset directory. \n",
    "# This directory will be recovered automatically after resetting environment. \n",
    "!ls /home/aistudio/data"
   ]
  },
  {
   "cell_type": "code",
   "execution_count": 2,
   "metadata": {
    "collapsed": false
   },
   "outputs": [],
   "source": [
    "# 查看工作区文件, 该目录下的变更将会持久保存. 请及时清理不必要的文件, 避免加载过慢.\n",
    "# View personal work directory. \n",
    "# All changes under this directory will be kept even after reset. \n",
    "# Please clean unnecessary files in time to speed up environment loading. \n",
    "!ls /home/aistudio/work"
   ]
  },
  {
   "cell_type": "code",
   "execution_count": 3,
   "metadata": {
    "collapsed": false
   },
   "outputs": [
    {
     "name": "stdout",
     "output_type": "stream",
     "text": [
      "Looking in indexes: https://mirror.baidu.com/pypi/simple/\n",
      "Collecting beautifulsoup4\n",
      "\u001b[?25l  Downloading https://mirror.baidu.com/pypi/packages/d1/41/e6495bd7d3781cee623ce23ea6ac73282a373088fcd0ddc809a047b18eae/beautifulsoup4-4.9.3-py3-none-any.whl (115kB)\n",
      "\u001b[K     |████████████████████████████████| 122kB 14.4MB/s eta 0:00:01\n",
      "\u001b[?25hCollecting soupsieve>1.2; python_version >= \"3.0\" (from beautifulsoup4)\n",
      "  Downloading https://mirror.baidu.com/pypi/packages/36/69/d82d04022f02733bf9a72bc3b96332d360c0c5307096d76f6bb7489f7e57/soupsieve-2.2.1-py3-none-any.whl\n",
      "Installing collected packages: soupsieve, beautifulsoup4\n",
      "Successfully installed beautifulsoup4-4.9.3 soupsieve-2.2.1\n"
     ]
    }
   ],
   "source": [
    "# 如果需要进行持久化安装, 需要使用持久化路径, 如下方代码示例:\n",
    "# If a persistence installation is required, \n",
    "# you need to use the persistence path as the following: \n",
    "!mkdir /home/aistudio/external-libraries\n",
    "!pip install beautifulsoup4 -t /home/aistudio/external-libraries"
   ]
  },
  {
   "cell_type": "code",
   "execution_count": 5,
   "metadata": {
    "collapsed": false
   },
   "outputs": [],
   "source": [
    "# 同时添加如下代码, 这样每次环境(kernel)启动的时候只要运行下方代码即可: \n",
    "# Also add the following code, \n",
    "# so that every time the environment (kernel) starts, \n",
    "# just run the following code: \n",
    "import sys \n",
    "sys.path.append('/home/aistudio/external-libraries')"
   ]
  },
  {
   "cell_type": "code",
   "execution_count": 6,
   "metadata": {
    "collapsed": false
   },
   "outputs": [],
   "source": [
    "import numpy as np\n",
    "import matplotlib.pyplot as plt"
   ]
  },
  {
   "cell_type": "code",
   "execution_count": 17,
   "metadata": {
    "collapsed": false
   },
   "outputs": [],
   "source": [
    "def sigmoid(x):\n",
    "     # sigmoid激活函数\n",
    "     return 1/(1+np.exp(-x))\n",
    "\n",
    "def dsigmoid(x):\n",
    "     # sigmoid激活函数的导数\n",
    "     return x*(1-x)\n",
    "\n",
    "def load_data():\n",
    "     # 从文件导入数据\n",
    "     datafile = './data/housing.data'\n",
    "     data = np.fromfile(datafile, sep=' ')\n",
    "\n",
    "     # 每条数据包括14项，其中前面13项是影响因素，第14项是相应的房屋价格中位数\n",
    "     feature_names = [ 'CRIM', 'ZN', 'INDUS', 'CHAS', 'NOX', 'RM', 'AGE', \n",
    "     'DIS', 'RAD', 'TAX', 'PTRATIO', 'B', 'LSTAT', 'MEDV' ]\n",
    "     feature_num = len(feature_names)\n",
    "\n",
    "     # 将原始数据进行Reshape，变成[N, 14]这样的形状\n",
    "     data = data.reshape([data.shape[0] // feature_num, feature_num])\n",
    "\n",
    "     # 将原数据集拆分成训练集和测试集\n",
    "     # 这里使用70%的数据做训练，30%的数据做测试\n",
    "     # 测试集和训练集必须是没有交集的\n",
    "     ratio = 0.7\n",
    "     offset = int(data.shape[0] * ratio)\n",
    "     training_data = data[:offset]\n",
    "\n",
    "     # 计算训练集的最大值，最小值，平均值\n",
    "     maximums, minimums, avgs = training_data.max(axis=0), training_data.min(axis=0), \\\n",
    "     training_data.sum(axis=0) / training_data.shape[0]\n",
    "\n",
    "     # 记录数据的归一化参数，在预测时对数据做归一化\n",
    "     global max_values\n",
    "     global min_values\n",
    "     global avg_values\n",
    "     max_values = maximums\n",
    "     min_values = minimums\n",
    "     avg_values = avgs\n",
    "\n",
    "     # 对数据进行归一化处理\n",
    "     for i in range(feature_num):\n",
    "         #print(maximums[i], minimums[i], avgs[i])\n",
    "         data[:, i] = (data[:, i] - minimums[i]) / (maximums[i] - minimums[i])\n",
    "\n",
    "     # 训练集和测试集的划分比例\n",
    "     training_data = data[:offset]\n",
    "     test_data = data[offset:]\n",
    "     return training_data, test_data"
   ]
  },
  {
   "cell_type": "code",
   "execution_count": 101,
   "metadata": {
    "collapsed": false
   },
   "outputs": [],
   "source": [
    "class Network(object):\n",
    "    def __init__(self, num_of_weights,hidden_sum):\n",
    "        # 随机产生w的初始值\n",
    "        # 为了保持程序每次运行结果的一致性，此处设置固定的随机数种子\n",
    "        np.random.seed(0)\n",
    "        self.w_1 = np.random.randn(num_of_weights, hidden_sum)  # 第一个全连接层的网络参数\n",
    "        self.b_1 = np.zeros(hidden_sum)\n",
    "        self.w_2 = np.random.randn(hidden_sum,1)                # 第二个全连接层的网络参数\n",
    "        self.b_2 = 0.\n",
    "\n",
    "    def forward(self, x):\n",
    "        # 前向传播\n",
    "        z = np.dot(x, self.w_1) + self.b_1     # 全连接层\n",
    "        z = sigmoid(z)                         # sigmoid激活层\n",
    "        z = np.dot(z, self.w_2) + self.b_2     # 全连接层\n",
    "        return z\n",
    "\n",
    "    def loss(self, z, y):\n",
    "        # 均方差损失函数计算\n",
    "        error = z - y\n",
    "        cost = error * error\n",
    "        cost = np.mean(cost) / 2\n",
    "        return cost\n",
    "\n",
    "    def gradient(self, x, y):\n",
    "        # 梯度计算\n",
    "        o_1 = sigmoid(np.dot(x, self.w_1) + self.b_1)    # 第一个全连接层的输出\n",
    "        z = self.forward(x)                              # 第二个全连接层的输出\n",
    "\n",
    "        gradient_w_1 = x.T.dot((z-y).dot(self.w_2.T) * dsigmoid(o_1))           # 第一个全连接层参数的梯度\n",
    "        gradient_b_1 = np.mean((z-y).dot(self.w_2.T) * dsigmoid(o_1), axis=0) \n",
    "\n",
    "        # gradient_w_2 = o_1.T.dot((z-y))\n",
    "        gradient_w_2 = np.mean((z-y)*o_1,axis=0)                                # 第二个全连接层参数的梯度\n",
    "        gradient_w_2 = gradient_w_2[:,np.newaxis]\n",
    "        gradient_b_2 = np.mean((z-y))\n",
    "        return gradient_w_1, gradient_b_1, gradient_w_2, gradient_b_2\n",
    "\n",
    "    def update(self, gradient_w_1, gradient_w_2, gradient_b_1, gradient_b_2, eta = 0.01):\n",
    "        # 梯度下降，网络参数更新\n",
    "        self.w_1 = self.w_1 - eta * gradient_w_1\n",
    "        self.b_1 = self.b_1 - eta * gradient_b_1\n",
    "        self.w_2 = self.w_2 - eta * gradient_w_2\n",
    "        self.b_2 = self.b_2 - eta * gradient_b_2\n",
    "\n",
    "\n",
    "    def train(self, training_data, num_epochs, batch_size=10, eta=0.01):\n",
    "        n = len(training_data)\n",
    "        losses = []\n",
    "        for epoch_id in range(num_epochs):\n",
    "            # 在每轮迭代开始之前，将训练数据的顺序随机打乱\n",
    "            # 然后再按每次取batch_size条数据的方式取出\n",
    "            np.random.shuffle(training_data)\n",
    "            # 将训练数据进行拆分，每个mini_batch包含batch_size条的数据\n",
    "            mini_batches = [training_data[k:k+batch_size] for k in range(0, n, batch_size)]\n",
    "            for iter_id, mini_batch in enumerate(mini_batches):\n",
    "                #print(self.w.shape)\n",
    "                #print(self.b)\n",
    "                x = mini_batch[:, :-1]   # 特征\n",
    "                y = mini_batch[:, -1:]   # 标签\n",
    "                a = self.forward(x)      # 网络输出\n",
    "                loss = self.loss(a, y)   # 网络损失\n",
    "                gradient_w_1, gradient_b_1, gradient_w_2, gradient_b_2 = self.gradient(x, y)  # 参数梯度\n",
    "                self.update(gradient_w_1, gradient_w_2, gradient_b_1, gradient_b_2, eta)      # 更新参数\n",
    "                losses.append(loss)                                                           # 记录损失\n",
    "                # print('Epoch {:3d} / iter {:3d}, loss = {:.4f}'.\n",
    "                #                 format(epoch_id, iter_id, loss))\n",
    "\n",
    "        return losses\n",
    "\n",
    "    def test(self,test_data):\n",
    "        x = test_data[:, :-1]   # 特征\n",
    "        y = test_data[:, -1:]   # 标签\n",
    "        a = self.forward(x)      # 网络输出\n",
    "        loss = self.loss(a, y)   # 网络损失\n",
    "        print('The testing loss = {:.4f}'.format(loss))\n",
    "        a = a.reshape([1,-1])\n",
    "        y = y.reshape([1,-1])\n",
    "        plt.plot(np.arange(y.shape[1]),np.squeeze(y),'b', label = 'label') #标签数据\n",
    "        plt.plot(np.arange(a.shape[1]),np.squeeze(a),'r', label = 'predict') #预测结果\n",
    "        plt.xlabel(\"x\")\n",
    "        plt.ylabel('y')\n",
    "        plt.legend(loc=\"upper right\")   #显示图中的标签\n",
    "        plt.show()\n",
    "\n",
    "    def eval(self,test_data):\n",
    "        idx = -12\n",
    "        # idx = np.random.randint(0, test_data.shape[0])\n",
    "        one_data, label = test_data[idx, :-1], test_data[idx, -1]\n",
    "        one_data =  one_data.reshape([1,-1])      # 修改该条数据shape为[1,13]\n",
    "\n",
    "\n",
    "        predict = self.forward(one_data)\n",
    "        predict = np.squeeze(predict)   # 去除冗余维度\n",
    "        loss = self.loss(predict, label)\n",
    "\n",
    "        # 对predict做反归一化处理\n",
    "        predict = predict * (max_values[-1] - min_values[-1]) + avg_values[-1]\n",
    "        # 对label做反归一化处理\n",
    "        label = label * (max_values[-1] - min_values[-1]) + avg_values[-1]\n",
    "\n",
    "        print(\"Predict result is {}, the corresponding label is {}, the loss is {}\".format(predict, label, loss))"
   ]
  },
  {
   "cell_type": "code",
   "execution_count": 102,
   "metadata": {
    "collapsed": false
   },
   "outputs": [
    {
     "name": "stdout",
     "output_type": "stream",
     "text": [
      "The testing loss = 0.0471\n",
      "Predict result is 34.227041155430484, the corresponding label is 37.75593220338986, the loss is 0.004266971858079505\n"
     ]
    },
    {
     "data": {
      "image/png": "[encoded data removed]",
      "text/plain": [
       "<Figure size 432x288 with 1 Axes>"
      ]
     },
     "metadata": {},
     "output_type": "display_data"
    },
    {
     "data": {
      "image/png": "[encoded data removed]",
      "text/plain": [
       "<Figure size 432x288 with 1 Axes>"
      ]
     },
     "metadata": {},
     "output_type": "display_data"
    }
   ],
   "source": [
    "if __name__ == '__main__':\n",
    "     # 获取数据\n",
    "     train_data, test_data = load_data()\n",
    "\n",
    "     # 创建网络\n",
    "     net = Network(13,10)   # 隐层节点数15\n",
    "\n",
    "     # 启动训练\n",
    "     # mini_batch,batch_size=100,learning_rate=0.1\n",
    "     losses = net.train(train_data, num_epochs=50, batch_size=100, eta=0.1)  \n",
    "     net.test(test_data)  # 测试集的效果\n",
    "     net.eval(test_data)  # 单条数据效果验证\n",
    "\n",
    "     # 画出损失函数的变化趋势\n",
    "     plot_x = np.arange(len(losses))\n",
    "     plot_y = np.array(losses)\n",
    "     plt.plot(plot_x, plot_y)\n",
    "     plt.xlabel(\"epoch\")\n",
    "     plt.ylabel('losses')\n",
    "     plt.show()"
   ]
  }
 ],
 "metadata": {
  "kernelspec": {
   "display_name": "PaddlePaddle 2.1.0 (Python 3.5)",
   "language": "python",
   "name": "py35-paddle1.2.0"
  },
  "language_info": {
   "codemirror_mode": {
    "name": "ipython",
    "version": 3
   },
   "file_extension": ".py",
   "mimetype": "text/x-python",
   "name": "python",
   "nbconvert_exporter": "python",
   "pygments_lexer": "ipython3",
   "version": "3.7.4"
  }
 },
 "nbformat": 4,
 "nbformat_minor": 1
}
