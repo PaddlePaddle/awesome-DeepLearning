{
 "cells": [
  {
   "cell_type": "code",
   "execution_count": null,
   "metadata": {},
   "outputs": [],
   "source": [
    "from sklearn.datasets import load_boston\n",
    "from sklearn.preprocessing import MinMaxScaler\n",
    "from sklearn.model_selection import train_test_split\n",
    "from torch import nn\n",
    "import torch\n",
    "import matplotlib.pyplot as plt\n",
    "import numpy as np\n",
    "\n",
    "data = load_boston()\n",
    "X = data['data']  # 这样就把特征提取出来了\n",
    "y = data['target']  # 这样就把目标target给提取出来了\n",
    "\n",
    "y = y.reshape(-1, 1)  # y这个时候还是一维的的ndarray   需要把他转换成一个列\n",
    "\n",
    "# 数据规范化\n",
    "ss = MinMaxScaler()\n",
    "X = ss.fit_transform(X)\n",
    "\n",
    "train_x, test_x, train_y, test_y = train_test_split(X, y, test_size=0.2)\n",
    "# 从ndarray格式转成torch格式\n",
    "train_x = torch.from_numpy(train_x).type(torch.FloatTensor)\n",
    "test_x = torch.from_numpy(test_x).type(torch.FloatTensor)\n",
    "train_y = torch.from_numpy(train_y).type(torch.FloatTensor)\n",
    "test_y = torch.from_numpy(test_y).type(torch.FloatTensor)\n",
    "\n",
    "# 构造网络\n",
    "model = nn.Sequential(\n",
    "    nn.Linear(13, 10),  # 13*10   因为之前的下面的输入train_x的维度是(404,13)\n",
    "    nn.ReLU(),  # 这里是一层ReLU()层  输出的数据的维度(404,10)\n",
    "    nn.Linear(10, 1)  # 再加一层全连接层 就输出y了  维度是(404,1)\n",
    ")\n",
    "# 构造优化器和损失函数\n",
    "criterion = nn.MSELoss()\n",
    "optimizer = torch.optim.Adam(model.parameters(), lr=0.08)\n",
    "# 训练\n",
    "max_epoch = 301\n",
    "iter_loss = []\n",
    "for i in range(max_epoch):\n",
    "    # 前向传播\n",
    "    y_pred = model(train_x)  # 把train_x喂入\n",
    "    # 计算loss\n",
    "    loss = criterion(y_pred, train_y)  # 计算预测值跟实际的误差\n",
    "    if i % 30 == 0:\n",
    "        print(\"第{}次迭代的loss是:{}\".format(i, loss))\n",
    "    iter_loss.append(loss.item())\n",
    "    # 清空之前的梯度\n",
    "    optimizer.zero_grad()\n",
    "    # 反向传播\n",
    "    loss.backward()\n",
    "    # 权重调整\n",
    "    optimizer.step()\n",
    "\n",
    "output = model(test_x)  # 模型训练好了 再把测试集给喂入  然后就得到了测试集的输出值\n",
    "predict_list = output.detach().numpy()\n",
    "\n",
    "# 绘制不同的 iteration 的loss\n",
    "x = np.arange(max_epoch)\n",
    "y = np.array(iter_loss)\n",
    "plt.figure()\n",
    "plt.plot(x, y)\n",
    "plt.title(\"the loss of iteration step\")\n",
    "plt.xlabel(\"iteration step\")\n",
    "plt.ylabel(\"loss\")\n",
    "plt.show()\n",
    "\n",
    "# 查看真实值与预测值的散点图\n",
    "x = np.arange(test_x.shape[0])\n",
    "y1 = np.array(predict_list)  # 测试集的预测值\n",
    "y2 = np.array(test_y)  # 测试集的实际值\n",
    "line1 = plt.scatter(x, y1, c=\"black\")\n",
    "line2 = plt.scatter(x, y2, c='red')\n",
    "plt.legend([line1, line2], [\"y_Predict\", \"y_True\"])\n",
    "plt.title(\"the loss between y_True and y_Predict\")\n",
    "plt.ylabel(\"the price of Boston\")\n",
    "plt.show()\n"
   ]
  }
 ],
 "metadata": {
  "kernelspec": {
   "display_name": "Python 3",
   "language": "python",
   "name": "python3"
  },
  "language_info": {
   "codemirror_mode": {
    "name": "ipython",
    "version": 3
   },
   "file_extension": ".py",
   "mimetype": "text/x-python",
   "name": "python",
   "nbconvert_exporter": "python",
   "pygments_lexer": "ipython3",
   "version": "3.7.3"
  },
  "toc": {
   "base_numbering": 1,
   "nav_menu": {},
   "number_sections": true,
   "sideBar": true,
   "skip_h1_title": false,
   "title_cell": "Table of Contents",
   "title_sidebar": "Contents",
   "toc_cell": false,
   "toc_position": {},
   "toc_section_display": true,
   "toc_window_display": false
  },
  "varInspector": {
   "cols": {
    "lenName": 16,
    "lenType": 16,
    "lenVar": 40
   },
   "kernels_config": {
    "python": {
     "delete_cmd_postfix": "",
     "delete_cmd_prefix": "del ",
     "library": "var_list.py",
     "varRefreshCmd": "print(var_dic_list())"
    },
    "r": {
     "delete_cmd_postfix": ") ",
     "delete_cmd_prefix": "rm(",
     "library": "var_list.r",
     "varRefreshCmd": "cat(var_dic_list()) "
    }
   },
   "types_to_exclude": [
    "module",
    "function",
    "builtin_function_or_method",
    "instance",
    "_Feature"
   ],
   "window_display": false
  }
 },
 "nbformat": 4,
 "nbformat_minor": 2
}
