{
 "cells": [
  {
   "cell_type": "markdown",
   "metadata": {},
   "source": [
    "# 使用飞桨构建波士顿房价预测模型\n",
    "\n",
    "<br></br>\n",
    "<center><img src=\"https://ai-studio-static-online.cdn.bcebos.com/1c9a9b3b90b44dfdbba227098db93192aa52730d8fe647faad7c9fca1912e2c9\" width=\"800\" hegiht=\"\" ></center>\n",
    "<center><br>图1：使用飞桨框架构建神经网络过程</br></center>\n",
    "<br></br>"
   ]
  },
  {
   "cell_type": "code",
   "execution_count": 1,
   "metadata": {},
   "outputs": [],
   "source": [
    "#加载飞桨、Numpy和相关类库\n",
    "import paddle\n",
    "from paddle.nn import Linear\n",
    "import paddle.nn.functional as F\n",
    "import numpy as np\n",
    "import os\n",
    "import random"
   ]
  },
  {
   "cell_type": "markdown",
   "metadata": {},
   "source": [
    "代码中参数含义如下：\n",
    "\n",
    "* paddle：飞桨的主库，paddle 根目录下保留了常用API的别名，当前包括：paddle.tensor、paddle.framework目录下的所有API。\n",
    "\n",
    "* paddle.nn：组网相关的API，例如 Linear 、卷积 Conv2D 、 循环神经网络 LSTM 、损失函数 CrossEntropyLoss 、 激活函数 ReLU 等。\n",
    "\n",
    "* Linear：神经网络的全连接层函数，即包含所有输入权重相加的基本神经元结构。在房价预测任务中，使用只有一层的神经网络（全连接层）来实现线性回归模型。\n",
    "\n",
    "* paddle.nn.functional：与paddle.nn一样，包含组网相关的API，例如Linear、激活函数ReLu等。两者下的同名模块功能相同，运行性能也基本一致。 但是，paddle.nn下的模块均是类，每个类下可以自带模块参数；paddle.nn.functional下的模块均是函数，需要手动传入模块计算需要的参数。在实际使用中，卷积、全连接层等层本身具有可学习的参数，建议使用paddle.nn模块，而激活函数、池化等操作没有可学习参数，可以考虑直接使用paddle.nn.functional下的函数代替。\n",
    "<br></br>"
   ]
  },
  {
   "cell_type": "markdown",
   "metadata": {},
   "source": [
    "## 1、数据处理"
   ]
  },
  {
   "cell_type": "code",
   "execution_count": 2,
   "metadata": {},
   "outputs": [],
   "source": [
    "def load_data():\n",
    "    # 从文件导入数据\n",
    "    datafile = './work/housing.data'\n",
    "    data = np.fromfile(datafile, sep=' ', dtype=np.float32)\n",
    "\n",
    "    # 每条数据包括14项，其中前面13项是影响因素，第14项是相应的房屋价格中位数\n",
    "    feature_names = [ 'CRIM', 'ZN', 'INDUS', 'CHAS', 'NOX', 'RM', 'AGE', 'DIS', 'RAD', 'TAX', 'PTRATIO', 'B', 'LSTAT', 'MEDV' ]\n",
    "    feature_num = len(feature_names)\n",
    "\n",
    "    # 将原始数据进行Reshape，变成[N, 14]这样的形状\n",
    "    data = data.reshape([data.shape[0] // feature_num, feature_num])\n",
    "\n",
    "    # 将原数据集拆分成训练集和测试集\n",
    "    # 这里使用80%的数据做训练，20%的数据做测试\n",
    "    # 测试集和训练集必须是没有交集的\n",
    "    ratio = 0.8\n",
    "    offset = int(data.shape[0] * ratio)\n",
    "    training_data = data[:offset]\n",
    "\n",
    "    # 计算train数据集的最大值，最小值，平均值\n",
    "    maximums, minimums, avgs = training_data.max(axis=0), training_data.min(axis=0), \\\n",
    "                                 training_data.sum(axis=0) / training_data.shape[0]\n",
    "    \n",
    "    # 记录数据的归一化参数，在预测时对数据做归一化\n",
    "    global max_values\n",
    "    global min_values\n",
    "    global avg_values\n",
    "    max_values = maximums\n",
    "    min_values = minimums\n",
    "    avg_values = avgs\n",
    "\n",
    "    # 对数据进行归一化处理\n",
    "    for i in range(feature_num):\n",
    "        data[:, i] = (data[:, i] - avgs[i]) / (maximums[i] - minimums[i])\n",
    "\n",
    "    # 训练集和测试集的划分比例\n",
    "    training_data = data[:offset]\n",
    "    test_data = data[offset:]\n",
    "    return training_data, test_data\n"
   ]
  },
  {
   "cell_type": "markdown",
   "metadata": {},
   "source": [
    "## 2、模型设计"
   ]
  },
  {
   "cell_type": "markdown",
   "metadata": {},
   "source": [
    "### 2.1 单层神经网络"
   ]
  },
  {
   "cell_type": "code",
   "execution_count": 24,
   "metadata": {},
   "outputs": [],
   "source": [
    "# 单层网络\n",
    "class Regressor(paddle.nn.Layer):\n",
    "\n",
    "    # self代表类的实例自身\n",
    "    def __init__(self):\n",
    "        # 初始化父类中的一些参数\n",
    "        super(Regressor, self).__init__()\n",
    "        \n",
    "        # 定义一层全连接层，输入维度是13，输出维度是1\n",
    "        self.fc = Linear(in_features=13, out_features=1)\n",
    "    \n",
    "    # 网络的前向计算\n",
    "    def forward(self, inputs):\n",
    "        x = self.fc(inputs)\n",
    "        return x"
   ]
  },
  {
   "cell_type": "markdown",
   "metadata": {},
   "source": [
    "### 2.2 双层神经网络"
   ]
  },
  {
   "cell_type": "code",
   "execution_count": 25,
   "metadata": {},
   "outputs": [],
   "source": [
    "# 双层网络\n",
    "class Regressor2(paddle.nn.Layer):\n",
    "\n",
    "    # self代表类的实例自身\n",
    "    def __init__(self):\n",
    "        # 初始化父类中的一些参数\n",
    "        super(Regressor2, self).__init__()\n",
    "\n",
    "        self.fc1 = Linear(in_features=13, out_features=10)\n",
    "        # self.relu = paddle.nn.ReLU()\n",
    "        self.fc2 = Linear(in_features=10, out_features=1)\n",
    "    \n",
    "    # 网络的前向计算\n",
    "    def forward(self, inputs):\n",
    "        relu = paddle.nn.ReLU()\n",
    "        x1 = self.fc1(inputs)\n",
    "        x2 = relu(x1)\n",
    "        x = self.fc2(x2)\n",
    "        return x"
   ]
  },
  {
   "cell_type": "markdown",
   "metadata": {},
   "source": [
    "## 3、训练配置\n",
    "\n",
    "<center><img src=\"https://ai-studio-static-online.cdn.bcebos.com/96075d4df5ae4e01ac1491ebf176fa557bd122b646ba49238f65c9b38a98cab4\" width=\"700\" hegiht=\"\" ></center>\n",
    "<center><br>图2：训练配置流程示意图</br></center>\n",
    "<br></br>"
   ]
  },
  {
   "cell_type": "code",
   "execution_count": 26,
   "metadata": {},
   "outputs": [],
   "source": [
    "# 声明定义好的线性回归模型\n",
    "model = Regressor()\n",
    "# 开启模型训练模式\n",
    "model.train()\n",
    "# 加载数据\n",
    "training_data, test_data = load_data()\n",
    "# 定义优化算法，使用随机梯度下降SGD\n",
    "# 学习率设置为0.01\n",
    "opt = paddle.optimizer.SGD(learning_rate=0.01, parameters=model.parameters())"
   ]
  },
  {
   "cell_type": "code",
   "execution_count": 29,
   "metadata": {},
   "outputs": [],
   "source": [
    "# 声明定义好的线性回归模型\n",
    "model2 = Regressor2()\n",
    "# 开启模型训练模式\n",
    "model2.train()\n",
    "# 加载数据\n",
    "training_data2, test_data2 = load_data()\n",
    "# 定义优化算法，使用随机梯度下降SGD\n",
    "# 学习率设置为0.01\n",
    "opt2 = paddle.optimizer.SGD(learning_rate=0.01, parameters=model2.parameters())"
   ]
  },
  {
   "cell_type": "markdown",
   "metadata": {},
   "source": [
    "每次内层循环都需要执行如下四个步骤，如 **图3** 所示\n",
    "<center><img src=\"https://ai-studio-static-online.cdn.bcebos.com/8154cf612a024a3f9144b4e31f59568ef9ad59c155b344919221d63bb9ccfcc8\" width=\"700\" hegiht=\"\" ></center>\n",
    "<center><br>图3：内循环计算过程</br></center>\n",
    "<br></br>\n",
    "\n",
    "1. 数据准备：将一个批次的数据先转换成np.array格式，再转换成paddle内置tensor格式。\n",
    "1. 前向计算：将一个批次的样本数据灌入网络中，计算输出结果。\n",
    "1. 计算损失函数：以前向计算结果和真实房价作为输入，通过损失函数square_error_cost API计算出损失函数值（Loss）。飞桨所有的API接口都有完整的说明和使用案例，在后续教程中我们会详细介绍API的查阅方法。\n",
    "1. 反向传播：执行梯度反向传播``backward``函数，即从后到前逐层计算每一层的梯度，并根据设置的优化算法更新参数。"
   ]
  },
  {
   "cell_type": "markdown",
   "metadata": {},
   "source": [
    "### 3.1 单层神经网络训练"
   ]
  },
  {
   "cell_type": "code",
   "execution_count": 28,
   "metadata": {},
   "outputs": [
    {
     "name": "stdout",
     "output_type": "stream",
     "text": [
      "epoch: 0, iter: 0, loss is: [0.08701988]\n",
      "epoch: 0, iter: 20, loss is: [0.14960015]\n",
      "epoch: 0, iter: 40, loss is: [0.12143403]\n",
      "epoch: 1, iter: 0, loss is: [0.1108645]\n",
      "epoch: 1, iter: 20, loss is: [0.30029768]\n",
      "epoch: 1, iter: 40, loss is: [0.11219481]\n",
      "epoch: 2, iter: 0, loss is: [0.11999248]\n",
      "epoch: 2, iter: 20, loss is: [0.05003921]\n",
      "epoch: 2, iter: 40, loss is: [0.05750383]\n",
      "epoch: 3, iter: 0, loss is: [0.03257295]\n",
      "epoch: 3, iter: 20, loss is: [0.1193314]\n",
      "epoch: 3, iter: 40, loss is: [0.13905767]\n",
      "epoch: 4, iter: 0, loss is: [0.05879126]\n",
      "epoch: 4, iter: 20, loss is: [0.09454913]\n",
      "epoch: 4, iter: 40, loss is: [0.07750959]\n",
      "epoch: 5, iter: 0, loss is: [0.0570086]\n",
      "epoch: 5, iter: 20, loss is: [0.01355288]\n",
      "epoch: 5, iter: 40, loss is: [0.04134348]\n",
      "epoch: 6, iter: 0, loss is: [0.15345433]\n",
      "epoch: 6, iter: 20, loss is: [0.01702835]\n",
      "epoch: 6, iter: 40, loss is: [0.08140115]\n",
      "epoch: 7, iter: 0, loss is: [0.03475491]\n",
      "epoch: 7, iter: 20, loss is: [0.10469504]\n",
      "epoch: 7, iter: 40, loss is: [0.07139311]\n",
      "epoch: 8, iter: 0, loss is: [0.06113125]\n",
      "epoch: 8, iter: 20, loss is: [0.09628252]\n",
      "epoch: 8, iter: 40, loss is: [0.07526385]\n",
      "epoch: 9, iter: 0, loss is: [0.05863987]\n",
      "epoch: 9, iter: 20, loss is: [0.05551068]\n",
      "epoch: 9, iter: 40, loss is: [0.01049792]\n"
     ]
    }
   ],
   "source": [
    "EPOCH_NUM = 10   # 设置外层循环次数\n",
    "BATCH_SIZE = 10  # 设置batch大小\n",
    "\n",
    "# 定义外层循环\n",
    "for epoch_id in range(EPOCH_NUM):\n",
    "    # 在每轮迭代开始之前，将训练数据的顺序随机的打乱\n",
    "    np.random.shuffle(training_data)\n",
    "    # 将训练数据进行拆分，每个batch包含10条数据\n",
    "    mini_batches = [training_data[k:k+BATCH_SIZE] for k in range(0, len(training_data), BATCH_SIZE)]\n",
    "    # 定义内层循环\n",
    "    for iter_id, mini_batch in enumerate(mini_batches):\n",
    "        x = np.array(mini_batch[:, :-1]) # 获得当前批次训练数据\n",
    "        y = np.array(mini_batch[:, -1:]) # 获得当前批次训练标签（真实房价）\n",
    "        # 将numpy数据转为飞桨动态图tensor形式\n",
    "        house_features = paddle.to_tensor(x)\n",
    "        prices = paddle.to_tensor(y)\n",
    "        \n",
    "        # 前向计算\n",
    "        predicts = model(house_features)\n",
    "        \n",
    "        # 计算损失\n",
    "        loss = F.square_error_cost(predicts, label=prices)\n",
    "        avg_loss = paddle.mean(loss)\n",
    "        if iter_id%20==0:\n",
    "            print(\"epoch: {}, iter: {}, loss is: {}\".format(epoch_id, iter_id, avg_loss.numpy()))\n",
    "        \n",
    "        # 反向传播\n",
    "        avg_loss.backward()\n",
    "        # 最小化loss,更新参数\n",
    "        opt.step()\n",
    "        # 清除梯度\n",
    "        opt.clear_grad()\n"
   ]
  },
  {
   "cell_type": "markdown",
   "metadata": {},
   "source": [
    "### 3.2 双层神经网络训练"
   ]
  },
  {
   "cell_type": "code",
   "execution_count": 30,
   "metadata": {},
   "outputs": [
    {
     "name": "stdout",
     "output_type": "stream",
     "text": [
      "epoch: 0, iter: 0, loss is: [0.07781583]\n",
      "epoch: 0, iter: 20, loss is: [0.09158639]\n",
      "epoch: 0, iter: 40, loss is: [0.01576852]\n",
      "epoch: 1, iter: 0, loss is: [0.08322625]\n",
      "epoch: 1, iter: 20, loss is: [0.0915486]\n",
      "epoch: 1, iter: 40, loss is: [0.00874288]\n",
      "epoch: 2, iter: 0, loss is: [0.0195106]\n",
      "epoch: 2, iter: 20, loss is: [0.04410897]\n",
      "epoch: 2, iter: 40, loss is: [0.00799616]\n",
      "epoch: 3, iter: 0, loss is: [0.11158899]\n",
      "epoch: 3, iter: 20, loss is: [0.01556674]\n",
      "epoch: 3, iter: 40, loss is: [0.0873567]\n",
      "epoch: 4, iter: 0, loss is: [0.02877882]\n",
      "epoch: 4, iter: 20, loss is: [0.06469794]\n",
      "epoch: 4, iter: 40, loss is: [0.08045385]\n",
      "epoch: 5, iter: 0, loss is: [0.06108591]\n",
      "epoch: 5, iter: 20, loss is: [0.00696137]\n",
      "epoch: 5, iter: 40, loss is: [0.11873264]\n",
      "epoch: 6, iter: 0, loss is: [0.03076179]\n",
      "epoch: 6, iter: 20, loss is: [0.08963884]\n",
      "epoch: 6, iter: 40, loss is: [0.01661858]\n",
      "epoch: 7, iter: 0, loss is: [0.02496988]\n",
      "epoch: 7, iter: 20, loss is: [0.05169668]\n",
      "epoch: 7, iter: 40, loss is: [0.0705395]\n",
      "epoch: 8, iter: 0, loss is: [0.01591821]\n",
      "epoch: 8, iter: 20, loss is: [0.0902355]\n",
      "epoch: 8, iter: 40, loss is: [0.14450316]\n",
      "epoch: 9, iter: 0, loss is: [0.0128652]\n",
      "epoch: 9, iter: 20, loss is: [0.0667405]\n",
      "epoch: 9, iter: 40, loss is: [0.07101859]\n"
     ]
    }
   ],
   "source": [
    "EPOCH_NUM = 10   # 设置外层循环次数\n",
    "BATCH_SIZE = 10  # 设置batch大小\n",
    "loss_record = []\n",
    "# 定义外层循环\n",
    "for epoch_id in range(EPOCH_NUM):\n",
    "    # 在每轮迭代开始之前，将训练数据的顺序随机的打乱\n",
    "    np.random.shuffle(training_data2)\n",
    "    # 将训练数据进行拆分，每个batch包含10条数据\n",
    "    mini_batches = [training_data2[k:k+BATCH_SIZE] for k in range(0, len(training_data2), BATCH_SIZE)]\n",
    "    # 定义内层循环\n",
    "    for iter_id, mini_batch in enumerate(mini_batches):\n",
    "        x = np.array(mini_batch[:, :-1]) # 获得当前批次训练数据\n",
    "        y = np.array(mini_batch[:, -1:]) # 获得当前批次训练标签（真实房价）\n",
    "        # 将numpy数据转为飞桨动态图tensor形式\n",
    "        house_features = paddle.to_tensor(x)\n",
    "        prices = paddle.to_tensor(y)\n",
    "        \n",
    "        # 前向计算\n",
    "        predicts = model2(house_features)\n",
    "        \n",
    "        # 计算损失\n",
    "        loss = F.square_error_cost(predicts, label=prices)\n",
    "        avg_loss = paddle.mean(loss)\n",
    "        if iter_id%20==0:\n",
    "            print(\"epoch: {}, iter: {}, loss is: {}\".format(epoch_id, iter_id, avg_loss.numpy()))\n",
    "        if iter_id==40:\n",
    "            loss_record.append(avg_loss.numpy())\n",
    "        \n",
    "        # 反向传播\n",
    "        avg_loss.backward()\n",
    "        # 最小化loss,更新参数\n",
    "        opt.step()\n",
    "        # 清除梯度\n",
    "        opt.clear_grad()"
   ]
  },
  {
   "cell_type": "markdown",
   "metadata": {},
   "source": [
    "## 4、保存并测试模型"
   ]
  },
  {
   "cell_type": "code",
   "execution_count": 31,
   "metadata": {},
   "outputs": [
    {
     "name": "stdout",
     "output_type": "stream",
     "text": [
      "模型保存成功，模型参数保存在LR_model.pdparams中\n"
     ]
    }
   ],
   "source": [
    "# 保存模型参数，文件名为LR_model.pdparams\n",
    "paddle.save(model.state_dict(), 'LR_model.pdparams')\n",
    "print(\"模型保存成功，模型参数保存在LR_model.pdparams中\")"
   ]
  },
  {
   "cell_type": "code",
   "execution_count": 32,
   "metadata": {},
   "outputs": [
    {
     "name": "stdout",
     "output_type": "stream",
     "text": [
      "模型保存成功，模型参数保存在LR_model2.pdparams中\n"
     ]
    }
   ],
   "source": [
    "# 保存模型参数，文件名为LR_model2.pdparams\n",
    "paddle.save(model2.state_dict(), 'LR_model2.pdparams')\n",
    "print(\"模型保存成功，模型参数保存在LR_model2.pdparams中\")"
   ]
  },
  {
   "cell_type": "markdown",
   "metadata": {},
   "source": [
    "## 5、测试"
   ]
  },
  {
   "cell_type": "markdown",
   "metadata": {},
   "source": [
    "### 5.1 单层神经网络模型测试"
   ]
  },
  {
   "cell_type": "code",
   "execution_count": 33,
   "metadata": {},
   "outputs": [],
   "source": [
    "def load_one_example():\n",
    "    # 从上边已加载的测试集中，随机选择一条作为测试数据\n",
    "    idx = np.random.randint(0, test_data.shape[0])\n",
    "    idx = -10\n",
    "    one_data, label = test_data[idx, :-1], test_data[idx, -1]\n",
    "    # 修改该条数据shape为[1,13]\n",
    "    one_data =  one_data.reshape([1,-1])\n",
    "    return one_data, label"
   ]
  },
  {
   "cell_type": "code",
   "execution_count": 34,
   "metadata": {},
   "outputs": [
    {
     "name": "stdout",
     "output_type": "stream",
     "text": [
      "Inference result is [[24.23688]], the corresponding label is 19.700000762939453\n"
     ]
    }
   ],
   "source": [
    "# 参数为保存模型参数的文件地址\n",
    "model_dict = paddle.load('LR_model.pdparams')\n",
    "model.load_dict(model_dict)\n",
    "model.eval()\n",
    "# 参数为数据集的文件地址\n",
    "one_data, label = load_one_example()\n",
    "# 将数据转为动态图的variable格式 \n",
    "one_data = paddle.to_tensor(one_data)\n",
    "predict = model(one_data)\n",
    "# 对结果做反归一化处理\n",
    "predict = predict * (max_values[-1] - min_values[-1]) + avg_values[-1]\n",
    "# 对label数据做反归一化处理\n",
    "label = label * (max_values[-1] - min_values[-1]) + avg_values[-1]\n",
    "print(\"Inference result is {}, the corresponding label is {}\".format(predict.numpy(), label))"
   ]
  },
  {
   "cell_type": "markdown",
   "metadata": {},
   "source": [
    "### 5.2 双层神经网络模型测试"
   ]
  },
  {
   "cell_type": "code",
   "execution_count": 35,
   "metadata": {},
   "outputs": [],
   "source": [
    "def load_one_example2():\n",
    "    # 从上边已加载的测试集中，随机选择一条作为测试数据\n",
    "    idx = np.random.randint(0, test_data2.shape[0])\n",
    "    idx = -10\n",
    "    one_data, label = test_data2[idx, :-1], test_data2[idx, -1]\n",
    "    # 修改该条数据shape为[1,13]\n",
    "    one_data =  one_data.reshape([1,-1])\n",
    "    return one_data, label"
   ]
  },
  {
   "cell_type": "code",
   "execution_count": 39,
   "metadata": {},
   "outputs": [
    {
     "name": "stdout",
     "output_type": "stream",
     "text": [
      "Inference result is [[26.16931]], the corresponding label is 19.700000762939453\n"
     ]
    }
   ],
   "source": [
    "# 参数为保存模型参数的文件地址\n",
    "model_dict2 = paddle.load('LR_model2.pdparams')\n",
    "model2.load_dict(model_dict2)\n",
    "model2.eval()\n",
    "# 参数为数据集的文件地址\n",
    "one_data2, label2 = load_one_example2()\n",
    "# 将数据转为动态图的variable格式 \n",
    "one_data2 = paddle.to_tensor(one_data)\n",
    "predict2 = model2(one_data)\n",
    "# 对结果做反归一化处理\n",
    "predict2 = predict2 * (max_values[-1] - min_values[-1]) + avg_values[-1]\n",
    "# 对label数据做反归一化处理\n",
    "label2 = label2 * (max_values[-1] - min_values[-1]) + avg_values[-1]\n",
    "print(\"Inference result is {}, the corresponding label is {}\".format(predict2.numpy(), label2))"
   ]
  },
  {
   "cell_type": "markdown",
   "metadata": {},
   "source": [
    "## 6、总结"
   ]
  },
  {
   "cell_type": "markdown",
   "metadata": {},
   "source": [
    "综合实现波士顿房价预测的两种方式，我们可以发现，使用numpy的过程中，我们需要对损失函数进行求导，并使用numpy将传播的过程以及参数的更新公式全部写出来，这就导致了代码的可移植性差，一旦使用了不同的损失函数或者激活函数，则对于权重和偏置的求导公式就会发生变化，因此，这种代码比较难以维护，且容易出错。而使用深度学习框架，则可以用简单的几行代码就写清楚传播的过程，且不需要手动求导，节省了大量的时间，且代码简单容易维护。同时对比两者的结果和运行时间也可以发现，使用深度学习框架的运行时间更短。"
   ]
  }
 ],
 "metadata": {
  "kernelspec": {
   "display_name": "Python 3",
   "language": "python",
   "name": "python3"
  },
  "language_info": {
   "codemirror_mode": {
    "name": "ipython",
    "version": 3
   },
   "file_extension": ".py",
   "mimetype": "text/x-python",
   "name": "python",
   "nbconvert_exporter": "python",
   "pygments_lexer": "ipython3",
   "version": "3.8.5"
  }
 },
 "nbformat": 4,
 "nbformat_minor": 1
}
