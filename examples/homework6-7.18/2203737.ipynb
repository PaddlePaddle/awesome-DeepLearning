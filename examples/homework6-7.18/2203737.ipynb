{
 "cells": [
  {
   "cell_type": "code",
   "execution_count": null,
   "metadata": {
    "collapsed": false
   },
   "outputs": [],
   "source": [
    "# 查看当前挂载的数据集目录, 该目录下的变更重启环境后会自动还原\n",
    "# View dataset directory. \n",
    "# This directory will be recovered automatically after resetting environment. \n",
    "!ls /home/aistudio/data"
   ]
  },
  {
   "cell_type": "code",
   "execution_count": 0,
   "metadata": {
    "collapsed": false
   },
   "outputs": [],
   "source": [
    "# 查看工作区文件, 该目录下的变更将会持久保存. 请及时清理不必要的文件, 避免加载过慢.\n",
    "# View personal work directory. \n",
    "# All changes under this directory will be kept even after reset. \n",
    "# Please clean unnecessary files in time to speed up environment loading. \n",
    "!ls /home/aistudio/work"
   ]
  },
  {
   "cell_type": "code",
   "execution_count": null,
   "metadata": {
    "collapsed": false
   },
   "outputs": [],
   "source": [
    "# 如果需要进行持久化安装, 需要使用持久化路径, 如下方代码示例:\n",
    "# If a persistence installation is required, \n",
    "# you need to use the persistence path as the following: \n",
    "!mkdir /home/aistudio/external-libraries\n",
    "!pip install beautifulsoup4 -t /home/aistudio/external-libraries"
   ]
  },
  {
   "cell_type": "code",
   "execution_count": null,
   "metadata": {
    "collapsed": false
   },
   "outputs": [],
   "source": [
    "# 同时添加如下代码, 这样每次环境(kernel)启动的时候只要运行下方代码即可: \n",
    "# Also add the following code, \n",
    "# so that every time the environment (kernel) starts, \n",
    "# just run the following code: \n",
    "import sys \n",
    "sys.path.append('/home/aistudio/external-libraries')"
   ]
  },
  {
   "cell_type": "markdown",
   "metadata": {
    "collapsed": false
   },
   "source": [
    "请点击[此处](https://ai.baidu.com/docs#/AIStudio_Project_Notebook/a38e5576)查看本环境基本用法.  <br>\n",
    "Please click [here ](https://ai.baidu.com/docs#/AIStudio_Project_Notebook/a38e5576) for more detailed instructions. "
   ]
  },
  {
   "cell_type": "code",
   "execution_count": 2,
   "metadata": {
    "collapsed": false
   },
   "outputs": [],
   "source": [
    "import io\r\n",
    "import os\r\n",
    "import sys\r\n",
    "import requests\r\n",
    "from collections import OrderedDict \r\n",
    "import math\r\n",
    "import random\r\n",
    "import numpy as np\r\n",
    "import paddle\r\n",
    "import paddle.fluid as fluid\r\n",
    "from paddle.fluid.dygraph.nn import Embedding\r\n",
    "def download():\r\n",
    "    #可以从百度云服务器下载一些开源数据集（dataset.bj.bcebos.com）\r\n",
    "    corpus_url = \"https://dataset.bj.bcebos.com/word2vec/text8.txt\"\r\n",
    "    #使用python的requests包下载数据集到本地\r\n",
    "    web_request = requests.get(corpus_url)\r\n",
    "    corpus = web_request.content\r\n",
    "    #把下载后的文件存储在当前目录的text8.txt文件内\r\n",
    "    with open(\"./text8.txt\", \"wb\") as f:\r\n",
    "        f.write(corpus)\r\n",
    "    f.close()\r\n",
    "download()"
   ]
  },
  {
   "cell_type": "code",
   "execution_count": 3,
   "metadata": {
    "collapsed": false
   },
   "outputs": [
    {
     "name": "stdout",
     "output_type": "stream",
     "text": [
      " anarchism originated as a term of abuse first used against early working class radicals including the diggers of the english revolution and the sans culottes of the french revolution whilst the term is still used in a pejorative way to describe any act that used violent means to destroy the organization of society it has also been taken up as a positive label by self defined anarchists the word anarchism is derived from the greek without archons ruler chief king anarchism as a political philoso\n"
     ]
    }
   ],
   "source": [
    "def load_text8():\r\n",
    "    with open(\"./text8.txt\", \"r\") as f:\r\n",
    "        corpus = f.read().strip(\"\\n\")\r\n",
    "    f.close()\r\n",
    "    return corpus\r\n",
    "corpus = load_text8()\r\n",
    "#打印前500个字符，简要看一下这个语料的样子\r\n",
    "print(corpus[:500])\r\n"
   ]
  },
  {
   "cell_type": "code",
   "execution_count": 4,
   "metadata": {
    "collapsed": false
   },
   "outputs": [
    {
     "name": "stdout",
     "output_type": "stream",
     "text": [
      "['anarchism', 'originated', 'as', 'a', 'term', 'of', 'abuse', 'first', 'used', 'against', 'early', 'working', 'class', 'radicals', 'including', 'the', 'diggers', 'of', 'the', 'english', 'revolution', 'and', 'the', 'sans', 'culottes', 'of', 'the', 'french', 'revolution', 'whilst', 'the', 'term', 'is', 'still', 'used', 'in', 'a', 'pejorative', 'way', 'to', 'describe', 'any', 'act', 'that', 'used', 'violent', 'means', 'to', 'destroy', 'the']\n"
     ]
    }
   ],
   "source": [
    "#对语料进行预处理（分词）\r\n",
    "def data_preprocess(corpus):\r\n",
    "    #由于英文单词出现在句首的时候经常要大写，所以我们把所有英文字符都转换为小写，\r\n",
    "    #以便对语料进行归一化处理（Apple vs apple等）\r\n",
    "    corpus = corpus.strip().lower()\r\n",
    "    corpus = corpus.split(\" \")\r\n",
    "    return corpus\r\n",
    "corpus = data_preprocess(corpus)\r\n",
    "print(corpus[:50])"
   ]
  },
  {
   "cell_type": "code",
   "execution_count": 5,
   "metadata": {
    "collapsed": false
   },
   "outputs": [],
   "source": [
    "#构造词典，统计每个词的频率，并根据频率将每个词转换为一个整数id\r\n",
    "def build_dict(corpus):\r\n",
    "    #首先统计每个不同词的频率（出现的次数），使用一个词典记录\r\n",
    "    word_freq_dict = dict()\r\n",
    "    for word in corpus:\r\n",
    "        if word not in word_freq_dict:\r\n",
    "            word_freq_dict[word] = 0\r\n",
    "        word_freq_dict[word] += 1\r\n",
    "    #将这个词典中的词，按照出现次数排序，出现次数越高，排序越靠前\r\n",
    "    #一般来说，出现频率高的高频词往往是：I，the，you这种代词，而出现频率低的词，往往是一些名词，如：nlp\r\n",
    "    word_freq_dict = sorted(word_freq_dict.items(), key = lambda x:x[1], reverse = True)\r\n",
    "    #构造3个不同的词典，分别存储，\r\n",
    "    #每个词到id的映射关系：word2id_dict\r\n",
    "    #每个id出现的频率：word2id_freq\r\n",
    "    #每个id到词典映射关系：id2word_dict\r\n",
    "    word2id_dict = dict()\r\n",
    "    word2id_freq = dict()\r\n",
    "    id2word_dict = dict()\r\n",
    "    #按照频率，从高到低，开始遍历每个单词，并为这个单词构造一个独一无二的id\r\n",
    "    for word, freq in word_freq_dict:\r\n",
    "        curr_id = len(word2id_dict)\r\n",
    "        word2id_dict[word] = curr_id\r\n",
    "        word2id_freq[word2id_dict[word]] = freq\r\n",
    "        id2word_dict[curr_id] = word\r\n",
    "    return word2id_freq, word2id_dict, id2word_dict\r\n",
    "word2id_freq, word2id_dict, id2word_dict = build_dict(corpus)\r\n",
    "vocab_size = len(word2id_freq)"
   ]
  },
  {
   "cell_type": "code",
   "execution_count": 8,
   "metadata": {
    "collapsed": false
   },
   "outputs": [
    {
     "name": "stdout",
     "output_type": "stream",
     "text": [
      "[5233, 3080, 11, 5, 194]\n"
     ]
    }
   ],
   "source": [
    "#将文章换成ID\r\n",
    "data=[]\r\n",
    "for i in corpus:\r\n",
    "    id=word2id_dict[i]\r\n",
    "    data.append(id)\r\n",
    "print(data[:5])"
   ]
  },
  {
   "cell_type": "code",
   "execution_count": null,
   "metadata": {
    "collapsed": false
   },
   "outputs": [],
   "source": [
    "#构造数据，准备模型训练\r\n",
    "#bag_size代表了单侧已知词汇数\r\n",
    "#negative_sample_num代表了对于每个正样本，我们需要随机采样多少负样本用于训练，\r\n",
    "#一般来说，negative_sample_num的值越大，训练效果越稳定，但是训练速度越慢。 \r\n",
    "def build_data(data, word2id_dict, word2id_freq, bag_size=3, negative_sample_num = 4):\r\n",
    "    #使用一个list存储处理好的数据\r\n",
    "    dataset = []\r\n",
    "    #从左到右，开始移动窗口\r\n",
    "    for i in range(len(corpus)):\r\n",
    "        if i<=len(data)-2*bag_size-1: \r\n",
    "            front=data[i:i+bag_size]\r\n",
    "            back=data[i+bag_size+1:i+2*bag_size+1]\r\n",
    "            span=front+back\r\n",
    "            #以max_window_size为上限，随机采样一个window_size，这样会使得训练更加稳定\r\n",
    "            # window_size = random.randint(1, max_window_size)\r\n",
    "        # #当前的中心词就是center_word_idx所指向的词\r\n",
    "        # center_word = corpus[center_word_idx]\r\n",
    "            positive_word=data[i+bag_size]\r\n",
    "            #首先把（中心词，正样本，label=1）的三元组数据放入dataset中，\r\n",
    "            #这里label=1表示这个样本是个正样本\r\n",
    "            dataset.append((span, positive_word, 1))\r\n",
    "            #开始负采样\r\n",
    "            i = 0\r\n",
    "            while i < negative_sample_num:\r\n",
    "                negative_word= random.randint(0, vocab_size-1)\r\n",
    "                if negative_word != positive_word:\r\n",
    "                    #把（中心词，正样本，label=0）的三元组数据放入dataset中，\r\n",
    "                    #这里label=0表示这个样本是个负样本\r\n",
    "                    dataset.append((span, negative_word, 0))\r\n",
    "                    i += 1\r\n",
    "    return dataset\r\n",
    "\r\n",
    "dataset = build_data(data, word2id_dict, word2id_freq)\r\n",
    "print(dataset[:5])"
   ]
  },
  {
   "cell_type": "code",
   "execution_count": null,
   "metadata": {
    "collapsed": false
   },
   "outputs": [],
   "source": [
    "#构造mini-batch，准备对模型进行训练\r\n",
    "#我们将不同类型的数据放到不同的tensor里，便于神经网络进行处理\r\n",
    "#并通过numpy的array函数，构造出不同的tensor来，并把这些tensor送入神经网络中进行训练\r\n",
    "def build_batch(dataset, batch_size, epoch_num):\r\n",
    "    #span_batch缓存batch_size个\r\n",
    "    span_batch = []\r\n",
    "    #target_word_batch缓存batch_size个目标词（可以是正样本或者负样本）\r\n",
    "    target_word_batch = []\r\n",
    "    #label_batch缓存了batch_size个0或1的标签，用于模型训练\r\n",
    "    label_batch = []\r\n",
    "    for epoch in range(epoch_num):\r\n",
    "        #每次开启一个新epoch之前，都对数据进行一次随机打乱，提高训练效果\r\n",
    "        random.shuffle(dataset)\r\n",
    "        for span, target_word, label in dataset:\r\n",
    "            #遍历dataset中的每个样本，并将这些数据送到不同的tensor里\r\n",
    "            span_batch.append(span)\r\n",
    "            target_word_batch.append([target_word])\r\n",
    "            label_batch.append(label)\r\n",
    "            #当样本积攒到一个batch_size后，我们把数据都返回回来\r\n",
    "            #在这里我们使用numpy的array函数把list封装成tensor\r\n",
    "            #并使用python的迭代器机制，将数据yield出来\r\n",
    "            #使用迭代器的好处是可以节省内存\r\n",
    "            if len(span_batch) == batch_size:\r\n",
    "                yield np.array(span_batch).astype(\"int64\"),np.array(target_word_batch).astype(\"int64\"),np.array(label_batch).astype(\"float32\")\r\n",
    "                span_batch = []\r\n",
    "                target_word_batch = []\r\n",
    "                label_batch = []\r\n",
    "\r\n",
    "    if len(span_batch) > 0:\r\n",
    "        yield np.array(span_batch).astype(\"int64\"),np.array(target_word_batch).astype(\"int64\"),np.array(label_batch).astype(\"float32\")\r\n",
    "        "
   ]
  },
  {
   "cell_type": "code",
   "execution_count": null,
   "metadata": {
    "collapsed": false
   },
   "outputs": [],
   "source": [
    "#定义CBOW训练网络结构\r\n",
    "#这里我们使用的是paddlepaddle的1.6.1版本\r\n",
    "#一般来说，在使用fluid训练的时候，我们需要通过一个类来定义网络结构，这个类继承了fluid.dygraph.Layer\r\n",
    "class CBOW(fluid.dygraph.Layer):\r\n",
    "    def __init__(self, name_scope, vocab_size, embedding_size, init_scale=0.1):\r\n",
    "        #name_scope定义了这个类某个具体实例的名字，以便于区分不同的实例（模型）\r\n",
    "        #vocab_size定义了这个skipgram这个模型的词表大小\r\n",
    "        #embedding_size定义了词向量的维度是多少\r\n",
    "        #init_scale定义了词向量初始化的范围，一般来说，比较小的初始化范围有助于模型训练\r\n",
    "        super(CBOW, self).__init__(name_scope)\r\n",
    "        self.vocab_size = vocab_size\r\n",
    "        self.embedding_size = embedding_size\r\n",
    "\r\n",
    "        #使用paddle.fluid.dygraph提供的Embedding函数，构造一个词向量参数\r\n",
    "        #这个参数的大小为：[self.vocab_size, self.embedding_size]\r\n",
    "        #数据类型为：float32\r\n",
    "        #这个参数的名称为：embedding_para\r\n",
    "        #这个参数的初始化方式为在[-init_scale, init_scale]区间进行均匀采样\r\n",
    "        self.embedding = Embedding(\r\n",
    "            self.full_name(),\r\n",
    "            size=[self.vocab_size, self.embedding_size],\r\n",
    "            dtype='float32',\r\n",
    "            param_attr=fluid.ParamAttr(\r\n",
    "                name='embedding_para',\r\n",
    "                initializer=fluid.initializer.UniformInitializer(\r\n",
    "                    low=-0.5/embedding_size, high=0.5/embedding_size)))\r\n",
    "        #使用paddle.fluid.dygraph提供的Embedding函数，构造另外一个词向量参数\r\n",
    "        #这个参数的大小为：[self.vocab_size, self.embedding_size]\r\n",
    "        #数据类型为：float32\r\n",
    "        #这个参数的名称为：embedding_para\r\n",
    "        #这个参数的初始化方式为在[-init_scale, init_scale]区间进行均匀采样\r\n",
    "        #跟上面不同的是，这个参数的名称跟上面不同，因此，\r\n",
    "        #embedding_out_para和embedding_para虽然有相同的shape，但是权重不共享\r\n",
    "        self.embedding_out = Embedding(\r\n",
    "            self.full_name(),\r\n",
    "            size=[self.vocab_size, self.embedding_size],\r\n",
    "            dtype='float32',\r\n",
    "            param_attr=fluid.ParamAttr(\r\n",
    "                name='embedding_out_para',\r\n",
    "                initializer=fluid.initializer.UniformInitializer(\r\n",
    "                    low=-0.5/embedding_size, high=0.5/embedding_size)))\r\n",
    "\r\n",
    "    #定义网络的前向计算逻辑\r\n",
    "    #span_batch是一个tensor（mini-batch）\r\n",
    "    #target_words_batch是一个tensor（mini-batch），表示目标词\r\n",
    "    #label_batch是一个tensor（mini-batch），表示这个词是正样本还是负样本（用0或1表示）\r\n",
    "    #用于在训练中计算这个tensor中对应词的同义词，用于观察模型的训练效果\r\n",
    "    def forward(self, span_batch, target_words_batch, label_batch):\r\n",
    "        #首先，通过embedding_para（self.embedding）参数，将mini-batch中的词转换为词向量\r\n",
    "        #这里span_batch和eval_words_emb查询的是一个相同的参数\r\n",
    "        #而target_words_emb查询的是另一个参数\r\n",
    "        target_words_batch= fluid.dygraph.to_variable(target_words_batch)\r\n",
    "        label_batch= fluid.dygraph.to_variable(label_batch)\r\n",
    "\r\n",
    "        span_zero=np.zeros((span_batch.shape[0],self.embedding_size),dtype=np.float32)\r\n",
    "        span_emb= fluid.dygraph.to_variable(span_zero)\r\n",
    "        span_batch=span_batch.T\r\n",
    "        for span in span_batch:\r\n",
    "            span=span.reshape(span_batch.shape[1],1)\r\n",
    "            span=fluid.dygraph.to_variable(span)\r\n",
    "            span_emb_sub= self.embedding(span)\r\n",
    "            span_emb=span_emb+span_emb_sub\r\n",
    "        # span_emb = fluid.layers.reduce_sum(span_emb, 1)\r\n",
    "        target_words_emb = self.embedding_out(target_words_batch)\r\n",
    "        #center_words_emb = [batch_size, embedding_size]\r\n",
    "        #target_words_emb = [batch_size, embedding_size]\r\n",
    "        # print(span_emb)\r\n",
    "        # print(target_words_emb)\r\n",
    "        #我们通过点乘的方式计算中心词到目标词的输出概率，并通过sigmoid函数估计这个词是正样本还是负样本的概率。\r\n",
    "        word_sim = fluid.layers.elementwise_mul(span_emb, target_words_emb)\r\n",
    "        word_sim = fluid.layers.reduce_sum(word_sim, dim = -1)\r\n",
    "        pred = fluid.layers.sigmoid(word_sim)\r\n",
    "        #通过估计的输出概率定义损失函数\r\n",
    "        loss = fluid.layers.sigmoid_cross_entropy_with_logits(word_sim, label_batch)\r\n",
    "        loss = fluid.layers.reduce_mean(loss)\r\n",
    "        #返回前向计算的结果，飞桨会通过backward函数自动计算出反向结果。\r\n",
    "        return pred, loss"
   ]
  },
  {
   "cell_type": "code",
   "execution_count": null,
   "metadata": {
    "collapsed": false
   },
   "outputs": [],
   "source": []
  }
 ],
 "metadata": {
  "kernelspec": {
   "display_name": "PaddlePaddle 2.1.0 (Python 3.5)",
   "language": "python",
   "name": "py35-paddle1.2.0"
  },
  "language_info": {
   "codemirror_mode": {
    "name": "ipython",
    "version": 3
   },
   "file_extension": ".py",
   "mimetype": "text/x-python",
   "name": "python",
   "nbconvert_exporter": "python",
   "pygments_lexer": "ipython3",
   "version": "3.7.4"
  }
 },
 "nbformat": 4,
 "nbformat_minor": 1
}
