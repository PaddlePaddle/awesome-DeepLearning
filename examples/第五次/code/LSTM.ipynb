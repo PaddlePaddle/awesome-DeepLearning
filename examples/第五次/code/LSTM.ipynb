{
 "cells": [
  {
   "cell_type": "code",
   "execution_count": 17,
   "metadata": {
    "collapsed": false
   },
   "outputs": [],
   "source": [
    "from __future__ import print_function\r\n",
    "import numpy as np\r\n",
    "import math\r\n",
    "import matplotlib.pyplot as plt\r\n",
    "import paddle\r\n",
    "import paddle.fluid as fluid "
   ]
  },
  {
   "cell_type": "code",
   "execution_count": 2,
   "metadata": {
    "collapsed": false
   },
   "outputs": [],
   "source": [
    "get_ipython().system('unzip -qo -d data data/data101646/stock_LSTM_fluid.zip')"
   ]
  },
  {
   "cell_type": "code",
   "execution_count": 19,
   "metadata": {
    "collapsed": false
   },
   "outputs": [],
   "source": [
    "SAVE_DIRNAME = 'data/stock_LSTM_fluid/model'\r\n",
    "f = open('data/stock_LSTM_fluid/datasets/stock_dataset.txt') \r\n",
    "df = f.readlines()    \r\n",
    "f.close()"
   ]
  },
  {
   "cell_type": "code",
   "execution_count": 20,
   "metadata": {
    "collapsed": false
   },
   "outputs": [],
   "source": [
    "data = []\r\n",
    "for line in df:\r\n",
    "    data_raw = line.strip('\\n').strip('\\r').split('\\t') #这里data_raw是列表形式，代表一行数据样本\r\n",
    "    data.append(data_raw)#data为二维列表形式\r\n",
    "data = np.array(data, dtype='float32')"
   ]
  },
  {
   "cell_type": "code",
   "execution_count": 21,
   "metadata": {
    "collapsed": false
   },
   "outputs": [
    {
     "name": "stdout",
     "output_type": "stream",
     "text": [
      "数据类型： <class 'numpy.ndarray'>\n",
      "数据个数： 6109\n",
      "数据形状： (6109, 8)\n",
      "数据第一行： [1.0430000e+02 1.0439000e+02 9.9980003e+01 1.0439000e+02 1.9700000e+05\n",
      " 8.5000000e+04 4.4108823e-02 1.0913000e+02]\n"
     ]
    }
   ],
   "source": [
    "print('数据类型：',type(data))\r\n",
    "print('数据个数：', data.shape[0])\r\n",
    "print('数据形状：', data.shape)\r\n",
    "print('数据第一行：', data[0])\r\n"
   ]
  },
  {
   "cell_type": "code",
   "execution_count": 22,
   "metadata": {
    "collapsed": false
   },
   "outputs": [],
   "source": [
    "#训练集和数据集的分割代码\r\n",
    "ratio = 0.8\r\n",
    "DATA_NUM = len(data)\r\n",
    "\r\n",
    "train_len = int(DATA_NUM * ratio)\r\n",
    "test_len = DATA_NUM - train_len\r\n",
    "\r\n",
    "train_data = data[:train_len]\r\n",
    "test_data = data[train_len:]"
   ]
  },
  {
   "cell_type": "code",
   "execution_count": 23,
   "metadata": {
    "collapsed": false
   },
   "outputs": [],
   "source": [
    "# 归一化 \r\n",
    "def normalization(data):\r\n",
    "    avg = np.mean(data, axis=0)#axis=0表示按数组元素的列对numpy取相关操作值\r\n",
    "    max_ = np.max(data, axis=0)\r\n",
    "    min_ = np.min(data, axis=0)\r\n",
    "    result_data = (data - avg) / (max_ - min_)\r\n",
    "    return result_data"
   ]
  },
  {
   "cell_type": "code",
   "execution_count": 24,
   "metadata": {
    "collapsed": false
   },
   "outputs": [],
   "source": [
    "train_data = normalization(train_data)\r\n",
    "test_data = normalization(test_data)"
   ]
  },
  {
   "cell_type": "code",
   "execution_count": 25,
   "metadata": {
    "collapsed": false
   },
   "outputs": [],
   "source": [
    "def my_train_reader():\r\n",
    "    def reader():\r\n",
    "        for temp in train_data:\r\n",
    "            yield temp[:-1], temp[-1]\r\n",
    "    return reader\r\n",
    "\r\n",
    "def my_test_reader():\r\n",
    "    def reader():\r\n",
    "        for temp in test_data:\r\n",
    "            yield temp[:-1], temp[-1]    \r\n",
    "    return reader"
   ]
  },
  {
   "cell_type": "code",
   "execution_count": 26,
   "metadata": {
    "collapsed": false
   },
   "outputs": [],
   "source": [
    "# 定义batch\r\n",
    "train_reader = paddle.batch(\r\n",
    "    my_train_reader(),\r\n",
    "    batch_size=10)"
   ]
  },
  {
   "cell_type": "code",
   "execution_count": 27,
   "metadata": {
    "collapsed": false
   },
   "outputs": [],
   "source": [
    "import paddle\r\n",
    "paddle.enable_static()\r\n",
    "\r\n",
    "DIM = 1\r\n",
    "hid_dim2 = 1\r\n",
    "\r\n",
    "#lod_level=0表示0 means the input data is not a sequence\r\n",
    "x = fluid.layers.data(name='x', shape=[DIM], dtype='float32', lod_level=1)  \r\n",
    "label = fluid.layers.data(name='y', shape=[1], dtype='float32')\r\n",
    "\r\n",
    "# Lstm layer\r\n",
    "fc0 = fluid.layers.fc(input=x, size=DIM * 4)\r\n",
    "lstm_h, c = fluid.layers.dynamic_lstm(\r\n",
    "    input=fc0, size=DIM * 4, is_reverse=False)\r\n",
    "\r\n",
    "# 最大池化\r\n",
    "lstm_max = fluid.layers.sequence_pool(input=lstm_h, pool_type='max')\r\n",
    "# 激活函数\r\n",
    "lstm_max_tanh = fluid.layers.tanh(lstm_max)\r\n",
    "# 全连接层\r\n",
    "prediction = fluid.layers.fc(input=lstm_max_tanh, size=hid_dim2, act='tanh')\r\n",
    "# 代价函数\r\n",
    "cost = fluid.layers.square_error_cost(input=prediction, label=label)\r\n",
    "avg_cost = fluid.layers.mean(x=cost)\r\n",
    "# acc = fluid.layers.accuracy(input=prediction, label=label)\r\n"
   ]
  },
  {
   "cell_type": "code",
   "execution_count": 28,
   "metadata": {
    "collapsed": false
   },
   "outputs": [],
   "source": [
    "#from paddle.utils.plot import Ploter\r\n",
    "train_title = \"Train cost\"\r\n",
    "test_title = \"Test cost\"\r\n",
    "#plot_cost = Ploter(train_title, test_title)"
   ]
  },
  {
   "cell_type": "code",
   "execution_count": null,
   "metadata": {
    "collapsed": false
   },
   "outputs": [],
   "source": []
  },
  {
   "cell_type": "code",
   "execution_count": 29,
   "metadata": {
    "collapsed": false
   },
   "outputs": [
    {
     "name": "stdout",
     "output_type": "stream",
     "text": [
      "(2275, 1)\n"
     ]
    }
   ],
   "source": [
    "def convert2LODTensor(temp_arr, len_list):\r\n",
    "    temp_arr = np.array(temp_arr) \r\n",
    "    temp_arr = temp_arr.flatten().reshape((-1, 1))#把325个测试样本的array平坦化到一维数据[1950,1]的格式\r\n",
    "    print(temp_arr.shape)\r\n",
    "    return fluid.create_lod_tensor(\r\n",
    "        data=temp_arr,#对测试样本来说这里表示325个样本的平坦化数据列表，维度为[1950,1]\r\n",
    "        recursive_seq_lens =[len_list],#对于测试样本来说这里全是6，所以为325 个6的列表\r\n",
    "        place=fluid.CPUPlace()\r\n",
    "        )#返回：A fluid LoDTensor object with tensor data and recursive_seq_lens info\r\n",
    "\r\n",
    "\r\n",
    "def get_tensor_label(mini_batch):  \r\n",
    "    tensor = None\r\n",
    "    labels = []\r\n",
    "\r\n",
    "    temp_arr = []\r\n",
    "    len_list = []\r\n",
    "    for _ in mini_batch:   #mini_batch表示的大小为325个测试样本数据\r\n",
    "        labels.append(_[1]) #收集 label----y----------1维\r\n",
    "        temp_arr.append(_[0]) #收集序列本身--x---------6维\r\n",
    "        len_list.append(len(_[0])) #收集每个序列x的长度,和上边x的维度对应，这里全为6\r\n",
    "    tensor = convert2LODTensor(temp_arr, len_list)    \r\n",
    "    return tensor, labels\r\n",
    "\r\n",
    "my_tensor = None\r\n",
    "labels = None\r\n",
    "\r\n",
    "# 定义batch\r\n",
    "test_reader = paddle.batch(\r\n",
    "    my_test_reader(),\r\n",
    "    batch_size=325)#一次性把样本取完\r\n",
    "\r\n",
    "\r\n",
    "for mini_batch in test_reader():\r\n",
    "    my_tensor,labels = get_tensor_label(mini_batch)#其实就是变成tensor格式的x和y\r\n",
    "    break"
   ]
  },
  {
   "cell_type": "code",
   "execution_count": 30,
   "metadata": {
    "collapsed": false
   },
   "outputs": [],
   "source": [
    "place = fluid.CPUPlace()\r\n",
    "exe = fluid.Executor(place)\r\n",
    "inference_scope = fluid.core.Scope()\r\n",
    "with fluid.scope_guard(inference_scope):#更改全局/默认作用域实例。运行时的所有变量将分配给新的作用域。\r\n",
    "    [inference_program, feed_target_names, fetch_targets] = (\r\n",
    "        fluid.io.load_inference_model(SAVE_DIRNAME, exe))\r\n",
    "    results = exe.run(inference_program,\r\n",
    "                      feed= {'x': my_tensor}, #{feed_target_names[0]:my_tensor },和上面保存模型时统一\r\n",
    "                      fetch_list=fetch_targets)\r\n",
    "#     print(\"infer results: \", results[0])\r\n",
    "#     print(\"ground truth: \", labels)\r\n",
    "#load_inference_model解释件上面api解释"
   ]
  },
  {
   "cell_type": "code",
   "execution_count": 31,
   "metadata": {
    "collapsed": false
   },
   "outputs": [
    {
     "name": "stderr",
     "output_type": "stream",
     "text": [
      "/opt/conda/envs/python35-paddle120-env/lib/python3.7/site-packages/matplotlib/cbook/__init__.py:2349: DeprecationWarning: Using or importing the ABCs from 'collections' instead of from 'collections.abc' is deprecated, and in 3.8 it will stop working\n",
      "  if isinstance(obj, collections.Iterator):\n",
      "/opt/conda/envs/python35-paddle120-env/lib/python3.7/site-packages/matplotlib/cbook/__init__.py:2366: DeprecationWarning: Using or importing the ABCs from 'collections' instead of from 'collections.abc' is deprecated, and in 3.8 it will stop working\n",
      "  return list(data) if isinstance(data, collections.MappingView) else data\n"
     ]
    },
    {
     "data": {
      "image/png": "[encoded data removed]",
      "text/plain": [
       "<Figure size 432x288 with 1 Axes>"
      ]
     },
     "metadata": {},
     "output_type": "display_data"
    }
   ],
   "source": [
    "result_print = results[0].flatten()\r\n",
    "plt.figure()\r\n",
    "plt.plot(list(range(len(labels))), labels, color='r')  #红线为真实值\r\n",
    "plt.plot(list(range(len(result_print))), result_print, color='g')  #绿线为预测值\r\n",
    "plt.show()\r\n"
   ]
  }
 ],
 "metadata": {
  "kernelspec": {
   "display_name": "PaddlePaddle 2.1.0 (Python 3.5)",
   "language": "python",
   "name": "py35-paddle1.2.0"
  },
  "language_info": {
   "codemirror_mode": {
    "name": "ipython",
    "version": 3
   },
   "file_extension": ".py",
   "mimetype": "text/x-python",
   "name": "python",
   "nbconvert_exporter": "python",
   "pygments_lexer": "ipython3",
   "version": "3.7.4"
  }
 },
 "nbformat": 4,
 "nbformat_minor": 1
}
