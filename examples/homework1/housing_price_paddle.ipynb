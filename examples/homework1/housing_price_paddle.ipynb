{
 "cells": [
  {
   "cell_type": "code",
   "execution_count": 27,
   "metadata": {
    "collapsed": false
   },
   "outputs": [],
   "source": [
    "import paddle.fluid as fluid\r\n",
    "import paddle\r\n",
    "import numpy as np\r\n",
    "import os\r\n",
    "import matplotlib.pyplot as plt"
   ]
  },
  {
   "cell_type": "markdown",
   "metadata": {
    "collapsed": false
   },
   "source": [
    "**注意：**\n",
    "\n",
    "In PaddlePaddle 2.x, we turn on dynamic graph mode by default, and 'data()' is only supported in static graph mode. So if you want to use this api, please call 'paddle.enable_static()' before this api to enter static graph mode."
   ]
  },
  {
   "cell_type": "code",
   "execution_count": 28,
   "metadata": {
    "collapsed": false
   },
   "outputs": [
    {
     "name": "stderr",
     "output_type": "stream",
     "text": [
      "\n",
      "\n"
     ]
    }
   ],
   "source": [
    "BUF_SIZE=500\r\n",
    "BATCH_SIZE=20\r\n",
    "\r\n",
    "# paddle.enable_static()\r\n",
    "#用于训练的数据提供器，每次从缓存中随机读取批次大小的数据\r\n",
    "train_reader = paddle.batch(\r\n",
    "    paddle.reader.shuffle(paddle.dataset.uci_housing.train(), \r\n",
    "                          buf_size=BUF_SIZE),                    \r\n",
    "    batch_size=BATCH_SIZE)   \r\n",
    "#用于测试的数据提供器，每次从缓存中随机读取批次大小的数据\r\n",
    "test_reader = paddle.batch(\r\n",
    "    paddle.reader.shuffle(paddle.dataset.uci_housing.test(),\r\n",
    "                          buf_size=BUF_SIZE),\r\n",
    "    batch_size=BATCH_SIZE)  "
   ]
  },
  {
   "cell_type": "code",
   "execution_count": 29,
   "metadata": {
    "collapsed": false
   },
   "outputs": [],
   "source": [
    "#定义张量变量x，表示13维的特征值\r\n",
    "x = fluid.layers.data(name='x', shape=[13], dtype='float32')\r\n",
    "#定义张量y,表示目标值\r\n",
    "y = fluid.layers.data(name='y', shape=[1], dtype='float32')\r\n",
    "#定义一个简单的线性网络,连接输入和输出的全连接层\r\n",
    "#input:输入tensor;\r\n",
    "#size:该层输出单元的数目\r\n",
    "#act:激活函数\r\n",
    "y_predict=fluid.layers.fc(input=x,size=1,act=None)\r\n",
    "\r\n",
    "# 此处使用均方差损失函数\r\n",
    "cost = fluid.layers.square_error_cost(input=y_predict, label=y) #求一个batch的损失值\r\n",
    "avg_cost = fluid.layers.mean(cost)                              #对损失值求平均值\r\n",
    "\r\n",
    "# 采用SGD进行优化\r\n",
    "optimizer = fluid.optimizer.SGDOptimizer(learning_rate=0.001)\r\n",
    "opts = optimizer.minimize(avg_cost)"
   ]
  },
  {
   "cell_type": "code",
   "execution_count": 30,
   "metadata": {
    "collapsed": false
   },
   "outputs": [],
   "source": [
    "test_program = fluid.default_main_program().clone(for_test=True)"
   ]
  },
  {
   "cell_type": "markdown",
   "metadata": {
    "collapsed": false
   },
   "source": [
    "# 模型训练 and 模型评估"
   ]
  },
  {
   "cell_type": "markdown",
   "metadata": {
    "collapsed": false
   },
   "source": [
    "**（1）创建Executor**\n",
    "\n",
    "首先定义运算场所 fluid.CPUPlace()和 fluid.CUDAPlace(0)分别表示运算场所为CPU和GPU\n",
    "\n",
    "Executor:接收传入的program，通过run()方法运行program。"
   ]
  },
  {
   "cell_type": "code",
   "execution_count": 31,
   "metadata": {
    "collapsed": false
   },
   "outputs": [],
   "source": [
    "\r\n",
    "use_cuda = False                         #use_cuda为False,表示运算场所为CPU;use_cuda为True,表示运算场所为GPU           \r\n",
    "place = fluid.CUDAPlace(0) if use_cuda else fluid.CPUPlace()\r\n",
    "exe = fluid.Executor(place)              #创建一个Executor实例exe\r\n",
    "exe.run(fluid.default_startup_program()) #进行参数初始化\r\n",
    "\r\n",
    "# DataFeeder负责将数据提供器（train_reader,test_reader）返回的数据转成一种特殊的数据结构，使其可以输入到Executor中。\r\n",
    "# feed_list设置向模型输入的向变量表或者变量表名\r\n",
    "# 定义输入数据维度\r\n",
    "feeder = fluid.DataFeeder(place=place, feed_list=[x, y])#feed_list:向模型输入的变量表或变量表名"
   ]
  },
  {
   "cell_type": "markdown",
   "metadata": {
    "collapsed": false
   },
   "source": [
    "**（3）定义绘制训练过程的损失值变化趋势的方法draw_train_process**"
   ]
  },
  {
   "cell_type": "code",
   "execution_count": 32,
   "metadata": {
    "collapsed": false
   },
   "outputs": [],
   "source": [
    "iter=0;\r\n",
    "iters=[]\r\n",
    "train_costs=[]\r\n",
    "\r\n",
    "def draw_train_process(iters,train_costs):\r\n",
    "    title=\"training cost\"\r\n",
    "    plt.title(title, fontsize=24)\r\n",
    "    plt.xlabel(\"iter\", fontsize=14)\r\n",
    "    plt.ylabel(\"cost\", fontsize=14)\r\n",
    "    plt.plot(iters, train_costs,color='red',label='training cost') \r\n",
    "    plt.grid()\r\n",
    "    plt.show()"
   ]
  },
  {
   "cell_type": "markdown",
   "metadata": {
    "collapsed": false
   },
   "source": [
    "**（4）训练并保存模型**\n",
    "\n",
    "Executor接收传入的program,并根据feed map(输入映射表)和fetch_list(结果获取表) 向program中添加feed operators(数据输入算子)和fetch operators（结果获取算子)。 feed map为该program提供输入数据。fetch_list提供program训练结束后用户预期的变量。\n",
    "\n",
    "注：enumerate() 函数用于将一个可遍历的数据对象(如列表、元组或字符串)组合为一个索引序列，同时列出数据和数据下标，"
   ]
  },
  {
   "cell_type": "code",
   "execution_count": 33,
   "metadata": {
    "collapsed": false
   },
   "outputs": [
    {
     "name": "stdout",
     "output_type": "stream",
     "text": [
      "Pass:0, Cost:514.28424\n",
      "Test:0, Cost:522.98218\n",
      "Pass:1, Cost:449.76465\n",
      "Test:1, Cost:117.43137\n",
      "Pass:2, Cost:698.90936\n",
      "Test:2, Cost:195.56226\n",
      "Pass:3, Cost:457.79657\n",
      "Test:3, Cost:271.29446\n",
      "Pass:4, Cost:470.76236\n",
      "Test:4, Cost:87.38360\n",
      "Pass:5, Cost:561.95642\n",
      "Test:5, Cost:65.89394\n",
      "Pass:6, Cost:364.28754\n",
      "Test:6, Cost:140.84135\n",
      "Pass:7, Cost:306.92780\n",
      "Test:7, Cost:106.41085\n",
      "Pass:8, Cost:527.26892\n",
      "Test:8, Cost:25.16078\n",
      "Pass:9, Cost:258.05524\n",
      "Test:9, Cost:24.85291\n",
      "Pass:10, Cost:429.43701\n",
      "Test:10, Cost:140.87563\n",
      "Pass:11, Cost:313.80984\n",
      "Test:11, Cost:66.29125\n",
      "Pass:12, Cost:410.19012\n",
      "Test:12, Cost:12.18373\n",
      "Pass:13, Cost:274.09302\n",
      "Test:13, Cost:123.00557\n",
      "Pass:14, Cost:245.03159\n",
      "Test:14, Cost:49.73233\n",
      "Pass:15, Cost:156.77896\n",
      "Test:15, Cost:75.58055\n",
      "Pass:16, Cost:157.24438\n",
      "Test:16, Cost:37.00494\n",
      "Pass:17, Cost:260.69165\n",
      "Test:17, Cost:61.77635\n",
      "Pass:18, Cost:201.52559\n",
      "Test:18, Cost:0.76834\n",
      "Pass:19, Cost:81.95564\n",
      "Test:19, Cost:28.40631\n",
      "Pass:20, Cost:103.46721\n",
      "Test:20, Cost:30.91426\n",
      "Pass:21, Cost:89.46706\n",
      "Test:21, Cost:27.84163\n",
      "Pass:22, Cost:172.60332\n",
      "Test:22, Cost:24.26785\n",
      "Pass:23, Cost:171.16576\n",
      "Test:23, Cost:19.05460\n",
      "Pass:24, Cost:94.52374\n",
      "Test:24, Cost:28.19794\n",
      "Pass:25, Cost:158.63907\n",
      "Test:25, Cost:8.30221\n",
      "Pass:26, Cost:108.92053\n",
      "Test:26, Cost:28.73458\n",
      "Pass:27, Cost:168.44888\n",
      "Test:27, Cost:3.63354\n",
      "Pass:28, Cost:128.14937\n",
      "Test:28, Cost:42.07592\n",
      "Pass:29, Cost:36.03706\n",
      "Test:29, Cost:12.67585\n",
      "Pass:30, Cost:197.27303\n",
      "Test:30, Cost:18.14432\n",
      "Pass:31, Cost:70.87151\n",
      "Test:31, Cost:18.34307\n",
      "Pass:32, Cost:84.05106\n",
      "Test:32, Cost:21.71477\n",
      "Pass:33, Cost:87.42116\n",
      "Test:33, Cost:28.29092\n",
      "Pass:34, Cost:91.28510\n",
      "Test:34, Cost:7.31221\n",
      "Pass:35, Cost:35.79014\n",
      "Test:35, Cost:1.42779\n",
      "Pass:36, Cost:87.45926\n",
      "Test:36, Cost:18.07503\n",
      "Pass:37, Cost:112.90347\n",
      "Test:37, Cost:14.94635\n",
      "Pass:38, Cost:55.48403\n",
      "Test:38, Cost:3.55587\n",
      "Pass:39, Cost:64.09238\n",
      "Test:39, Cost:20.81229\n",
      "Pass:40, Cost:101.60231\n",
      "Test:40, Cost:2.49853\n",
      "Pass:41, Cost:220.10603\n",
      "Test:41, Cost:14.62783\n",
      "Pass:42, Cost:72.36617\n",
      "Test:42, Cost:18.83037\n",
      "Pass:43, Cost:81.97224\n",
      "Test:43, Cost:2.61824\n",
      "Pass:44, Cost:78.94478\n",
      "Test:44, Cost:50.60315\n",
      "Pass:45, Cost:68.99535\n",
      "Test:45, Cost:24.08578\n",
      "Pass:46, Cost:50.62565\n",
      "Test:46, Cost:77.08025\n",
      "Pass:47, Cost:54.32130\n",
      "Test:47, Cost:18.18795\n",
      "Pass:48, Cost:58.76710\n",
      "Test:48, Cost:3.00394\n",
      "Pass:49, Cost:50.58207\n",
      "Test:49, Cost:10.98537\n",
      "save models to /home/aistudio/work/fit_a_line.inference.model\n"
     ]
    },
    {
     "data": {
      "image/png": "[encoded data removed]",
      "text/plain": [
       "<Figure size 432x288 with 1 Axes>"
      ]
     },
     "metadata": {},
     "output_type": "display_data"
    }
   ],
   "source": [
    "EPOCH_NUM=50\r\n",
    "model_save_dir = \"/home/aistudio/work/fit_a_line.inference.model\"\r\n",
    "\r\n",
    "for pass_id in range(EPOCH_NUM):                                  \r\n",
    "    # 开始训练并输出最后一个batch的损失值\r\n",
    "    train_cost = 0\r\n",
    "    for batch_id, data in enumerate(train_reader()):              #遍历train_reader迭代器\r\n",
    "        train_cost = exe.run(program=fluid.default_main_program(),#运行主程序\r\n",
    "                             feed=feeder.feed(data),              #喂入一个batch的训练数据，根据feed_list和data提供的信息，将输入数据转成一种特殊的数据结构\r\n",
    "                             fetch_list=[avg_cost])    \r\n",
    "        if batch_id % 40 == 0:\r\n",
    "            print(\"Pass:%d, Cost:%0.5f\" % (pass_id, train_cost[0][0]))    #打印最后一个batch的损失值\r\n",
    "        iter=iter+BATCH_SIZE\r\n",
    "        iters.append(iter)\r\n",
    "        train_costs.append(train_cost[0][0])\r\n",
    "       \r\n",
    "   \r\n",
    "    # 开始测试并输出最后一个batch的损失值\r\n",
    "    test_cost = 0\r\n",
    "    for batch_id, data in enumerate(test_reader()):               #遍历test_reader迭代器\r\n",
    "        test_cost= exe.run(program=test_program, #运行测试cheng\r\n",
    "                            feed=feeder.feed(data),               #喂入一个batch的测试数据\r\n",
    "                            fetch_list=[avg_cost])                #fetch均方误差\r\n",
    "    print('Test:%d, Cost:%0.5f' % (pass_id, test_cost[0][0]))     #打印最后一个batch的损失值\r\n",
    "    \r\n",
    "    #保存模型\r\n",
    "    # 如果保存路径不存在就创建\r\n",
    "if not os.path.exists(model_save_dir):\r\n",
    "    os.makedirs(model_save_dir)\r\n",
    "print ('save models to %s' % (model_save_dir))\r\n",
    "#保存训练参数到指定路径中，构建一个专门用预测的program\r\n",
    "fluid.io.save_inference_model(model_save_dir,   #保存推理model的路径\r\n",
    "                                  ['x'],            #推理（inference）需要 feed 的数据\r\n",
    "                                  [y_predict],      #保存推理（inference）结果的 Variables\r\n",
    "                                  exe)              #exe 保存 inference model\r\n",
    "draw_train_process(iters,train_costs)"
   ]
  },
  {
   "cell_type": "code",
   "execution_count": 34,
   "metadata": {
    "collapsed": false
   },
   "outputs": [],
   "source": [
    "infer_exe = fluid.Executor(place)    #创建推测用的executor\r\n",
    "inference_scope = fluid.core.Scope() #Scope指定作用域"
   ]
  },
  {
   "cell_type": "markdown",
   "metadata": {
    "collapsed": false
   },
   "source": [
    "**（2）可视化真实值与预测值方法定义**"
   ]
  },
  {
   "cell_type": "code",
   "execution_count": 35,
   "metadata": {
    "collapsed": false
   },
   "outputs": [],
   "source": [
    "infer_results=[]\r\n",
    "groud_truths=[]\r\n",
    "\r\n",
    "#绘制真实值和预测值对比图\r\n",
    "def draw_infer_result(groud_truths,infer_results):\r\n",
    "    title='Boston'\r\n",
    "    plt.title(title, fontsize=24)\r\n",
    "    x = np.arange(1,20) \r\n",
    "    y = x\r\n",
    "    plt.plot(x, y)\r\n",
    "    plt.xlabel('ground truth', fontsize=14)\r\n",
    "    plt.ylabel('infer result', fontsize=14)\r\n",
    "    plt.scatter(groud_truths, infer_results,color='green',label='training cost') \r\n",
    "    plt.grid()\r\n",
    "    plt.show()"
   ]
  },
  {
   "cell_type": "markdown",
   "metadata": {
    "collapsed": false
   },
   "source": [
    "**(3)开始预测**\n",
    "\n",
    "通过fluid.io.load_inference_model，预测器会从params_dirname中读取已经训练好的模型，来对从未遇见过的数据进行预测。"
   ]
  },
  {
   "cell_type": "code",
   "execution_count": 36,
   "metadata": {
    "collapsed": false
   },
   "outputs": [
    {
     "name": "stdout",
     "output_type": "stream",
     "text": [
      "infer results: (House Price)\n",
      "0: 14.33\n",
      "1: 14.61\n",
      "2: 14.28\n",
      "3: 16.43\n",
      "4: 15.04\n",
      "5: 15.89\n",
      "6: 15.18\n",
      "7: 15.01\n",
      "8: 12.16\n",
      "9: 14.78\n",
      "10: 11.32\n",
      "11: 13.55\n",
      "12: 14.35\n",
      "13: 13.63\n",
      "14: 13.52\n",
      "15: 14.90\n",
      "16: 16.30\n",
      "17: 16.10\n",
      "18: 16.44\n",
      "19: 14.56\n",
      "20: 15.29\n",
      "21: 13.79\n",
      "22: 15.84\n",
      "23: 15.17\n",
      "24: 15.05\n",
      "25: 14.41\n",
      "26: 15.79\n",
      "27: 15.68\n",
      "28: 16.76\n",
      "29: 15.56\n",
      "30: 15.33\n",
      "31: 14.60\n",
      "32: 14.76\n",
      "33: 13.39\n",
      "34: 12.83\n",
      "35: 15.25\n",
      "36: 15.31\n",
      "37: 16.02\n",
      "38: 16.29\n",
      "39: 16.10\n",
      "40: 14.56\n",
      "41: 14.15\n",
      "42: 15.96\n",
      "43: 16.30\n",
      "44: 16.18\n",
      "45: 15.83\n",
      "46: 15.11\n",
      "47: 16.40\n",
      "48: 16.47\n",
      "49: 16.99\n",
      "50: 14.91\n",
      "51: 15.22\n",
      "52: 14.60\n",
      "53: 14.87\n",
      "54: 16.23\n",
      "55: 16.78\n",
      "56: 16.31\n",
      "57: 16.92\n",
      "58: 17.03\n",
      "59: 17.47\n",
      "60: 17.56\n",
      "61: 17.26\n",
      "62: 15.15\n",
      "63: 16.08\n",
      "64: 16.82\n",
      "65: 17.46\n",
      "66: 17.23\n",
      "67: 17.75\n",
      "68: 17.76\n",
      "69: 18.29\n",
      "70: 16.14\n",
      "71: 15.67\n",
      "72: 16.84\n",
      "73: 15.02\n",
      "74: 16.55\n",
      "75: 17.25\n",
      "76: 18.41\n",
      "77: 18.89\n",
      "78: 19.14\n",
      "79: 18.57\n",
      "80: 17.98\n",
      "81: 18.46\n",
      "82: 17.37\n",
      "83: 18.08\n",
      "84: 17.18\n",
      "85: 16.16\n",
      "86: 15.20\n",
      "87: 17.38\n",
      "88: 18.21\n",
      "89: 22.31\n",
      "90: 22.44\n",
      "91: 22.03\n",
      "92: 20.75\n",
      "93: 21.86\n",
      "94: 22.21\n",
      "95: 21.55\n",
      "96: 21.83\n",
      "97: 23.12\n",
      "98: 22.80\n",
      "99: 23.49\n",
      "100: 23.30\n",
      "101: 22.82\n",
      "ground truth:\n",
      "0: 8.50\n",
      "1: 5.00\n",
      "2: 11.90\n",
      "3: 27.90\n",
      "4: 17.20\n",
      "5: 27.50\n",
      "6: 15.00\n",
      "7: 17.20\n",
      "8: 17.90\n",
      "9: 16.30\n",
      "10: 7.00\n",
      "11: 7.20\n",
      "12: 7.50\n",
      "13: 10.40\n",
      "14: 8.80\n",
      "15: 8.40\n",
      "16: 16.70\n",
      "17: 14.20\n",
      "18: 20.80\n",
      "19: 13.40\n",
      "20: 11.70\n",
      "21: 8.30\n",
      "22: 10.20\n",
      "23: 10.90\n",
      "24: 11.00\n",
      "25: 9.50\n",
      "26: 14.50\n",
      "27: 14.10\n",
      "28: 16.10\n",
      "29: 14.30\n",
      "30: 11.70\n",
      "31: 13.40\n",
      "32: 9.60\n",
      "33: 8.70\n",
      "34: 8.40\n",
      "35: 12.80\n",
      "36: 10.50\n",
      "37: 17.10\n",
      "38: 18.40\n",
      "39: 15.40\n",
      "40: 10.80\n",
      "41: 11.80\n",
      "42: 14.90\n",
      "43: 12.60\n",
      "44: 14.10\n",
      "45: 13.00\n",
      "46: 13.40\n",
      "47: 15.20\n",
      "48: 16.10\n",
      "49: 17.80\n",
      "50: 14.90\n",
      "51: 14.10\n",
      "52: 12.70\n",
      "53: 13.50\n",
      "54: 14.90\n",
      "55: 20.00\n",
      "56: 16.40\n",
      "57: 17.70\n",
      "58: 19.50\n",
      "59: 20.20\n",
      "60: 21.40\n",
      "61: 19.90\n",
      "62: 19.00\n",
      "63: 19.10\n",
      "64: 19.10\n",
      "65: 20.10\n",
      "66: 19.90\n",
      "67: 19.60\n",
      "68: 23.20\n",
      "69: 29.80\n",
      "70: 13.80\n",
      "71: 13.30\n",
      "72: 16.70\n",
      "73: 12.00\n",
      "74: 14.60\n",
      "75: 21.40\n",
      "76: 23.00\n",
      "77: 23.70\n",
      "78: 25.00\n",
      "79: 21.80\n",
      "80: 20.60\n",
      "81: 21.20\n",
      "82: 19.10\n",
      "83: 20.60\n",
      "84: 15.20\n",
      "85: 7.00\n",
      "86: 8.10\n",
      "87: 13.60\n",
      "88: 20.10\n",
      "89: 21.80\n",
      "90: 24.50\n",
      "91: 23.10\n",
      "92: 19.70\n",
      "93: 18.30\n",
      "94: 21.20\n",
      "95: 17.50\n",
      "96: 16.80\n",
      "97: 22.40\n",
      "98: 20.60\n",
      "99: 23.90\n",
      "100: 22.00\n",
      "101: 11.90\n"
     ]
    },
    {
     "name": "stderr",
     "output_type": "stream",
     "text": [
      "\n"
     ]
    },
    {
     "data": {
      "image/png": "[encoded data removed]",
      "text/plain": [
       "<Figure size 432x288 with 1 Axes>"
      ]
     },
     "metadata": {},
     "output_type": "display_data"
    }
   ],
   "source": [
    "with fluid.scope_guard(inference_scope):#修改全局/默认作用域（scope）, 运行时中的所有变量都将分配给新的scope。\r\n",
    "    #从指定目录中加载 推理model(inference model)\r\n",
    "    [inference_program,                             #推理的program\r\n",
    "     feed_target_names,                             #需要在推理program中提供数据的变量名称\r\n",
    "     fetch_targets] = fluid.io.load_inference_model(#fetch_targets: 推断结果\r\n",
    "                                    model_save_dir, #model_save_dir:模型训练路径 \r\n",
    "                                    infer_exe)      #infer_exe: 预测用executor\r\n",
    "    #获取预测数据\r\n",
    "    infer_reader = paddle.batch(paddle.dataset.uci_housing.test(),  #获取uci_housing的测试数据\r\n",
    "                          batch_size=200)                           #从测试数据中读取一个大小为200的batch数据\r\n",
    "\r\n",
    "    test_data = next(infer_reader())\r\n",
    "    test_x = np.array([data[0] for data in test_data]).astype(\"float32\")\r\n",
    "    test_y= np.array([data[1] for data in test_data]).astype(\"float32\")\r\n",
    "    results = infer_exe.run(inference_program,                              \r\n",
    "                            feed={feed_target_names[0]: np.array(test_x)},  #喂入要预测的x值\r\n",
    "                            fetch_list=fetch_targets)                       #得到推测结果 \r\n",
    "                            \r\n",
    "    print(\"infer results: (House Price)\")\r\n",
    "    for idx, val in enumerate(results[0]):\r\n",
    "        print(\"%d: %.2f\" % (idx, val))\r\n",
    "        infer_results.append(val)\r\n",
    "    print(\"ground truth:\")\r\n",
    "    for idx, val in enumerate(test_y):\r\n",
    "        print(\"%d: %.2f\" % (idx, val))\r\n",
    "        groud_truths.append(val)\r\n",
    "    draw_infer_result(groud_truths,infer_results)"
   ]
  }
 ],
 "metadata": {
  "kernelspec": {
   "display_name": "PaddlePaddle 1.5.1 (Python 3.5)",
   "language": "python",
   "name": "py35-paddle1.2.0"
  },
  "language_info": {
   "codemirror_mode": {
    "name": "ipython",
    "version": 3
   },
   "file_extension": ".py",
   "mimetype": "text/x-python",
   "name": "python",
   "nbconvert_exporter": "python",
   "pygments_lexer": "ipython3",
   "version": "3.7.4"
  }
 },
 "nbformat": 4,
 "nbformat_minor": 1
}
