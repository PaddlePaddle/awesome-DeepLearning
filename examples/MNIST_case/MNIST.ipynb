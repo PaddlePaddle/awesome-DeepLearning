{
 "cells": [
  {
   "cell_type": "code",
   "execution_count": 1,
   "metadata": {
    "collapsed": false
   },
   "outputs": [
    {
     "name": "stderr",
     "output_type": "stream",
     "text": [
      "/opt/conda/envs/python35-paddle120-env/lib/python3.7/site-packages/matplotlib/__init__.py:107: DeprecationWarning: Using or importing the ABCs from 'collections' instead of from 'collections.abc' is deprecated, and in 3.8 it will stop working\n",
      "  from collections import MutableMapping\n",
      "/opt/conda/envs/python35-paddle120-env/lib/python3.7/site-packages/matplotlib/rcsetup.py:20: DeprecationWarning: Using or importing the ABCs from 'collections' instead of from 'collections.abc' is deprecated, and in 3.8 it will stop working\n",
      "  from collections import Iterable, Mapping\n",
      "/opt/conda/envs/python35-paddle120-env/lib/python3.7/site-packages/matplotlib/colors.py:53: DeprecationWarning: Using or importing the ABCs from 'collections' instead of from 'collections.abc' is deprecated, and in 3.8 it will stop working\n",
      "  from collections import Sized\n"
     ]
    }
   ],
   "source": [
    "# 引入库\n",
    "import paddle\n",
    "import numpy as np\n",
    "import matplotlib.pyplot as plt\n",
    "import paddle.nn.functional as F\n",
    "from paddle.vision.transforms import Compose, Normalize\n",
    "from paddle.metric import Accuracy\n",
    "import paddle.nn as nn"
   ]
  },
  {
   "cell_type": "code",
   "execution_count": 2,
   "metadata": {
    "collapsed": false
   },
   "outputs": [],
   "source": [
    "# 残差模块\n",
    "class Residual(nn.Layer):\n",
    "    def __init__(self, in_channel, out_channel, use_conv1x1=False, stride=1):\n",
    "        super(Residual, self).__init__()\n",
    "\n",
    "        # 第一个卷积单元\n",
    "        self.conv1 = nn.Conv2D(in_channel, out_channel, kernel_size=3, padding=1, stride=stride)\n",
    "        self.bn1 = nn.BatchNorm2D(out_channel)\n",
    "        self.relu = nn.ReLU()\n",
    "\n",
    "        # 第二个卷积单元\n",
    "        self.conv2 = nn.Conv2D(out_channel, out_channel, kernel_size=3, padding=1)\n",
    "        self.bn2 = nn.BatchNorm2D(out_channel)\n",
    "\n",
    "        if use_conv1x1:  # 使用1x1卷积核完成shape匹配,stride=2实现下采样\n",
    "            self.skip = nn.Conv2D(in_channel, out_channel, kernel_size=1, stride=stride)\n",
    "        else:\n",
    "            self.skip = None\n",
    "\n",
    "    def forward(self, x):\n",
    "        # 前向计算\n",
    "        # [b, c, h, w], 通过第一个卷积单元\n",
    "        out = self.conv1(x)\n",
    "        out = self.bn1(out)\n",
    "        out = self.relu(out)\n",
    "        # 通过第二个卷积单元\n",
    "        out = self.conv2(out)\n",
    "        out = self.bn2(out)\n",
    "        #  通过 identity 模块\n",
    "        if self.skip:\n",
    "            x = self.skip(x)\n",
    "        #  2 条路径输出直接相加,然后输入激活函数\n",
    "        output = F.relu(out + x)\n",
    "\n",
    "        return output\n",
    "\n",
    "# ResNet18网络模型\n",
    "class ResNet18_1(nn.Layer):\n",
    "    # 继承paddle.nn.Layer定义网络结构\n",
    "    def __init__(self, num_classes=10):\n",
    "        super(ResNet18_1, self).__init__()\n",
    "        # 初始化函数(根网络，预处理)\n",
    "        # x:[b, c, h ,w]=[b,1,28,28]\n",
    "        self.features = nn.Sequential(\n",
    "            nn.Conv2D(in_channels=1, out_channels=64, kernel_size=7,\n",
    "                      stride=2, padding=3),  # 第一层卷积,x:[b,64,14,14]\n",
    "            nn.BatchNorm2D(64),  # 归一化层\n",
    "            nn.ReLU(),\n",
    "            nn.MaxPool2D(kernel_size=3, stride=2, padding=1)  # 最大池化，下采样,x:[b,64,56,56]\n",
    "        )\n",
    "\n",
    "        # 堆叠 4 个 Block，每个 block 包含了多个残差模块,设置步长不一样\n",
    "        self.layer1 = build_resblock(64, 64, 2, is_first=True)  # x:[b,64,7,7]\n",
    "        self.layer2 = build_resblock(64, 128, 2)  # x:[b,128,3,3]\n",
    "        self.layer3 = build_resblock(128, 256, 2)  # x:[b,256,1,1]\n",
    "        # self.layer4 = build_resblock(360, 720, 2)  # x:[b,720,7,7]\n",
    "\n",
    "        # 通过 Pooling 层将高宽降低为 1x1,[b,256,1,1]\n",
    "        self.avgpool = nn.AdaptiveAvgPool2D(1)\n",
    "        # 需要拉平为[b,256],不能直接输出连接线性层\n",
    "        self.flatten = nn.Flatten()\n",
    "        # 最后连接一个全连接层分类\n",
    "        self.fc = nn.Linear(in_features=256, out_features=num_classes)\n",
    "\n",
    "    def forward(self, inputs):\n",
    "        # 前向计算函数：通过根网络\n",
    "        x = self.features(inputs)\n",
    "        # 一次通过 4 个模块\n",
    "        x = self.layer1(x)\n",
    "        x = self.layer2(x)\n",
    "        x = self.layer3(x)\n",
    "        # x = self.layer4(x)\n",
    "        # 通过池化层\n",
    "        x = self.avgpool(x)\n",
    "        # 拉平\n",
    "        x = self.flatten(x)\n",
    "        # 通过全连接层\n",
    "        x = self.fc(x)\n",
    "        return x"
   ]
  },
  {
   "cell_type": "code",
   "execution_count": 3,
   "metadata": {
    "collapsed": false
   },
   "outputs": [],
   "source": [
    "# 通过build_resblock 可以一次完成2个残差模块的创建。代码如下：\r\n",
    "def build_resblock(in_channel, out_channel, num_layers, is_first=False):\r\n",
    "    if is_first:\r\n",
    "        assert in_channel == out_channel\r\n",
    "    block_list = []\r\n",
    "    for i in range(num_layers):\r\n",
    "        if i == 0 and not is_first:\r\n",
    "            block_list.append(Residual(in_channel, out_channel, use_conv1x1=True, stride=2))\r\n",
    "        else:\r\n",
    "            block_list.append(Residual(out_channel, out_channel))\r\n",
    "    resNetBlock = nn.Sequential(*block_list)  # 用*号可以把list列表展开为元素\r\n",
    "    return resNetBlock"
   ]
  },
  {
   "cell_type": "code",
   "execution_count": null,
   "metadata": {
    "collapsed": false
   },
   "outputs": [
    {
     "name": "stdout",
     "output_type": "stream",
     "text": [
      "download training data and load training data\n"
     ]
    },
    {
     "name": "stderr",
     "output_type": "stream",
     "text": [
      "Cache file /home/aistudio/.cache/paddle/dataset/mnist/train-images-idx3-ubyte.gz not found, downloading https://dataset.bj.bcebos.com/mnist/train-images-idx3-ubyte.gz \n",
      "Begin to download\n"
     ]
    }
   ],
   "source": [
    "transform = Compose([Normalize(mean=[127.5],\n",
    "                               std=[127.5],\n",
    "                               data_format='CHW')])\n",
    "# 使用transform对数据集做归一化\n",
    "print('download training data and load training data')\n",
    "train_dataset = paddle.vision.datasets.MNIST(mode='train', transform=transform)\n",
    "test_dataset = paddle.vision.datasets.MNIST(mode='test', transform=transform)"
   ]
  },
  {
   "cell_type": "code",
   "execution_count": null,
   "metadata": {
    "collapsed": false
   },
   "outputs": [],
   "source": [
    "# 用Model封装模型\r\n",
    "model = paddle.Model(ResNet18_1())  \r\n",
    "optim = paddle.optimizer.Adam(learning_rate=0.001, parameters=model.parameters())\r\n",
    "\r\n",
    "# 配置模型\r\n",
    "model.prepare(\r\n",
    "    optim,\r\n",
    "    paddle.nn.CrossEntropyLoss(),\r\n",
    "    Accuracy()\r\n",
    ")"
   ]
  },
  {
   "cell_type": "code",
   "execution_count": null,
   "metadata": {
    "collapsed": false
   },
   "outputs": [],
   "source": [
    "# 训练模型\r\n",
    "model.fit(train_dataset,\r\n",
    "          epochs=3,\r\n",
    "          batch_size=64,\r\n",
    "          verbose=1\r\n",
    "          )\r\n",
    "# 测试模型\r\n",
    "model.evaluate(test_dataset, batch_size=64, verbose=1)"
   ]
  }
 ],
 "metadata": {
  "kernelspec": {
   "display_name": "PaddlePaddle 2.1.0 (Python 3.5)",
   "language": "python",
   "name": "py35-paddle1.2.0"
  },
  "language_info": {
   "codemirror_mode": {
    "name": "ipython",
    "version": 3
   },
   "file_extension": ".py",
   "mimetype": "text/x-python",
   "name": "python",
   "nbconvert_exporter": "python",
   "pygments_lexer": "ipython3",
   "version": "3.7.4"
  }
 },
 "nbformat": 4,
 "nbformat_minor": 1
}
