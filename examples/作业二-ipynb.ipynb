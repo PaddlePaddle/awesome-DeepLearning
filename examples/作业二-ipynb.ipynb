{
 "cells": [
  {
   "cell_type": "code",
   "execution_count": 6,
   "metadata": {
    "collapsed": false
   },
   "outputs": [
    {
     "name": "stdout",
     "output_type": "stream",
     "text": [
      "本教程基于Paddle的版本号为：2.1.0\n"
     ]
    }
   ],
   "source": [
    "#导入需要的包\r\n",
    "import numpy as np\r\n",
    "from PIL import Image\r\n",
    "import matplotlib.pyplot as plt\r\n",
    "import os\r\n",
    "import paddle\r\n",
    "print(\"本教程基于Paddle的版本号为：\"+paddle.__version__)\r\n"
   ]
  },
  {
   "cell_type": "code",
   "execution_count": 7,
   "metadata": {
    "collapsed": false
   },
   "outputs": [
    {
     "name": "stdout",
     "output_type": "stream",
     "text": [
      "下载并加载训练数据\n",
      "加载完成\n"
     ]
    }
   ],
   "source": [
    "#导入数据集Compose的作用是将用于数据集预处理的接口以列表的方式进行组合。\r\n",
    "#导入数据集Normalize的作用是图像归一化处理，支持两种方式： 1. 用统一的均值和标准差值对图像的每个通道进行归一化处理； 2. 对每个通道指定不同的均值和标准差值进行归一化处理。\r\n",
    "from paddle.vision.transforms import Compose, Normalize, Resize, RandomRotation, RandomCrop\r\n",
    "img_size = 32\r\n",
    "#对训练集做数据增强\r\n",
    "transform1 = Compose([Resize((img_size+2, img_size+2)), RandomCrop(img_size), Normalize(mean=[127.5],std=[127.5],data_format='CHW')])\r\n",
    "transform2 = Compose([Resize((img_size, img_size)), Normalize(mean=[127.5],std=[127.5],data_format='CHW')])\r\n",
    "# 使用transform对数据集做归一化\r\n",
    "print('下载并加载训练数据')\r\n",
    "train_dataset = paddle.vision.datasets.MNIST(mode='train', transform=transform1)\r\n",
    "test_dataset = paddle.vision.datasets.MNIST(mode='test', transform=transform2)\r\n",
    "print('加载完成')"
   ]
  },
  {
   "cell_type": "code",
   "execution_count": 8,
   "metadata": {
    "collapsed": false
   },
   "outputs": [],
   "source": [
    "import paddle\r\n",
    "import paddle.nn.functional as F\r\n",
    "# 定义多层卷积神经网络\r\n",
    "#动态图定义多层卷积神经网络\r\n",
    "class ResNet(paddle.nn.Layer):\r\n",
    "    def __init__(self):\r\n",
    "        super(ResNet, self).__init__()\r\n",
    "        self.conv1 = paddle.nn.Conv2D(in_channels=1, out_channels=6, kernel_size=5, padding=2)\r\n",
    "        self.conv2 = paddle.nn.Conv2D(6, 16, 3, padding=1)\r\n",
    "        self.conv3 = paddle.nn.Conv2D(16, 32, 3, padding=1)\r\n",
    "        self.conv4 = paddle.nn.Conv2D(6, 32, 1)\r\n",
    "\r\n",
    "        self.conv5 = paddle.nn.Conv2D(32, 64, 3, padding=1)\r\n",
    "        self.conv6 = paddle.nn.Conv2D(64, 128, 3, padding=1)\r\n",
    "        self.conv7 = paddle.nn.Conv2D(32, 128, 1)\r\n",
    "\r\n",
    "        self.maxpool1 = paddle.nn.MaxPool2D(kernel_size=2, stride=2)\r\n",
    "        \r\n",
    "        self.maxpool2 = paddle.nn.MaxPool2D(2, 2)\r\n",
    "        self.maxpool3 = paddle.nn.MaxPool2D(2, 2)\r\n",
    "        self.maxpool4 = paddle.nn.MaxPool2D(2, 2)\r\n",
    "        self.maxpool5 = paddle.nn.MaxPool2D(2, 2)\r\n",
    "        self.maxpool6 = paddle.nn.MaxPool2D(2, 2)\r\n",
    "        self.flatten=paddle.nn.Flatten()\r\n",
    "        self.linear1=paddle.nn.Linear(128, 128)\r\n",
    "        self.linear2=paddle.nn.Linear(128, 10)\r\n",
    "        self.dropout=paddle.nn.Dropout(0.2)\r\n",
    "        self.avgpool=paddle.nn.AdaptiveAvgPool2D(output_size=1)\r\n",
    "        \r\n",
    "    def forward(self, x):\r\n",
    "        y = self.conv1(x)#(bs 6, 32, 32)\r\n",
    "        y = F.relu(y)\r\n",
    "        y = self.maxpool1(y)#(bs, 6, 16, 16)\r\n",
    "        z = y\r\n",
    "        y = self.conv2(y)#(bs, 16, 16, 16)\r\n",
    "        y = F.relu(y)\r\n",
    "        y = self.maxpool2(y)#(bs, 16, 8, 8)\r\n",
    "        y = self.conv3(y)#(bs, 32, 8, 8)\r\n",
    "        z = self.maxpool4(self.conv4(z))\r\n",
    "        y = y+z\r\n",
    "        y = F.relu(y)\r\n",
    "        z = y\r\n",
    "        y = self.conv5(y)#(bs, 64, 8, 8)\r\n",
    "        y = F.relu(y)\r\n",
    "        y = self.maxpool5(y)#(bs, 64, 4, 4)\r\n",
    "        y = self.conv6(y)#(bs, 128, 4, 4)\r\n",
    "        z = self.maxpool6(self.conv7(z))\r\n",
    "        y = y + z\r\n",
    "        y = F.relu(y)\r\n",
    "        y = self.avgpool(y)\r\n",
    "        y = self.flatten(y)\r\n",
    "        y = self.linear1(y)\r\n",
    "        y = self.dropout(y)\r\n",
    "        y = self.linear2(y)\r\n",
    "        return y"
   ]
  },
  {
   "cell_type": "code",
   "execution_count": 9,
   "metadata": {
    "collapsed": false
   },
   "outputs": [
    {
     "name": "stdout",
     "output_type": "stream",
     "text": [
      "-------------------------------------------------------------------------------\n",
      "   Layer (type)         Input Shape          Output Shape         Param #    \n",
      "===============================================================================\n",
      "     Conv2D-8         [[1, 1, 32, 32]]      [1, 6, 32, 32]          156      \n",
      "    MaxPool2D-7       [[1, 6, 32, 32]]      [1, 6, 16, 16]           0       \n",
      "     Conv2D-9         [[1, 6, 16, 16]]     [1, 16, 16, 16]          880      \n",
      "    MaxPool2D-8      [[1, 16, 16, 16]]      [1, 16, 8, 8]            0       \n",
      "     Conv2D-10        [[1, 16, 8, 8]]       [1, 32, 8, 8]          4,640     \n",
      "     Conv2D-11        [[1, 6, 16, 16]]     [1, 32, 16, 16]          224      \n",
      "   MaxPool2D-10      [[1, 32, 16, 16]]      [1, 32, 8, 8]            0       \n",
      "     Conv2D-12        [[1, 32, 8, 8]]       [1, 64, 8, 8]         18,496     \n",
      "   MaxPool2D-11       [[1, 64, 8, 8]]       [1, 64, 4, 4]            0       \n",
      "     Conv2D-13        [[1, 64, 4, 4]]       [1, 128, 4, 4]        73,856     \n",
      "     Conv2D-14        [[1, 32, 8, 8]]       [1, 128, 8, 8]         4,224     \n",
      "   MaxPool2D-12       [[1, 128, 8, 8]]      [1, 128, 4, 4]           0       \n",
      "AdaptiveAvgPool2D-2   [[1, 128, 4, 4]]      [1, 128, 1, 1]           0       \n",
      "     Flatten-3        [[1, 128, 1, 1]]         [1, 128]              0       \n",
      "     Linear-3            [[1, 128]]            [1, 128]           16,512     \n",
      "     Dropout-2           [[1, 128]]            [1, 128]              0       \n",
      "     Linear-4            [[1, 128]]            [1, 10]             1,290     \n",
      "===============================================================================\n",
      "Total params: 120,278\n",
      "Trainable params: 120,278\n",
      "Non-trainable params: 0\n",
      "-------------------------------------------------------------------------------\n",
      "Input size (MB): 0.00\n",
      "Forward/backward pass size (MB): 0.33\n",
      "Params size (MB): 0.46\n",
      "Estimated Total Size (MB): 0.79\n",
      "-------------------------------------------------------------------------------\n",
      "\n"
     ]
    },
    {
     "data": {
      "text/plain": [
       "{'total_params': 120278, 'trainable_params': 120278}"
      ]
     },
     "execution_count": 9,
     "metadata": {},
     "output_type": "execute_result"
    }
   ],
   "source": [
    "#定义卷积网络的代码\r\n",
    "net_cls = ResNet()\r\n",
    "paddle.summary(net_cls, (-1, 1, img_size, img_size))\r\n"
   ]
  },
  {
   "cell_type": "markdown",
   "metadata": {
    "collapsed": false
   },
   "source": [
    "from paddle.metric import Accuracy\n",
    "save_dir = \"output/model5_7\"\n",
    "patience = 5\n",
    "epoch = 20\n",
    "lr = 0.01\n",
    "weight_decay = 5e-4\n",
    "batch_size = 64\n",
    "momentum = 0.9\n",
    "# 用Model封装模型\n",
    "model = paddle.Model(net_cls)\n",
    "\n",
    "# 定义损失函数\n",
    "#optim = paddle.optimizer.AdamW(learning_rate=lr, parameters=model.parameters(), weight_decay=weight_decay)\n",
    "#lr = paddle.optimizer.lr.CosineAnnealingDecay(learning_rate=lr, T_max=10000, eta_min=1e-5)\n",
    "optim = paddle.optimizer.Momentum(learning_rate=lr, parameters=model.parameters(), momentum=momentum)\n",
    "\n",
    "visual_dl = paddle.callbacks.VisualDL(log_dir=save_dir)\n",
    "early_stop = paddle.callbacks.EarlyStopping(monitor='acc', mode='max', patience=patience, \n",
    "                                            verbose=1, min_delta=0, baseline=None,\n",
    "                                            save_best_model=True)\n",
    "# 配置模型\n",
    "model.prepare(optim,paddle.nn.CrossEntropyLoss(),Accuracy())\n",
    "\n",
    "# 训练保存并验证模型\n",
    "model.fit(train_dataset,test_dataset,epochs=epoch,batch_size=batch_size,\n",
    "        save_dir=save_dir,verbose=1, callbacks=[visual_dl, early_stop])"
   ]
  },
  {
   "cell_type": "code",
   "execution_count": 10,
   "metadata": {
    "collapsed": false
   },
   "outputs": [
    {
     "ename": "NameError",
     "evalue": "name 'MyNet' is not defined",
     "output_type": "error",
     "traceback": [
      "\u001b[0;31m---------------------------------------------------------------------------\u001b[0m",
      "\u001b[0;31mNameError\u001b[0m                                 Traceback (most recent call last)",
      "\u001b[0;32m<ipython-input-10-2469d69db017>\u001b[0m in \u001b[0;36m<module>\u001b[0;34m\u001b[0m\n\u001b[1;32m      1\u001b[0m \u001b[0mbest_model_path\u001b[0m \u001b[0;34m=\u001b[0m \u001b[0;34m\"output/model5_7/best_model.pdparams\"\u001b[0m\u001b[0;34m\u001b[0m\u001b[0;34m\u001b[0m\u001b[0m\n\u001b[0;32m----> 2\u001b[0;31m \u001b[0mnet_cls\u001b[0m \u001b[0;34m=\u001b[0m \u001b[0mMyNet\u001b[0m\u001b[0;34m(\u001b[0m\u001b[0;34m)\u001b[0m\u001b[0;34m\u001b[0m\u001b[0;34m\u001b[0m\u001b[0m\n\u001b[0m\u001b[1;32m      3\u001b[0m \u001b[0mmodel\u001b[0m \u001b[0;34m=\u001b[0m \u001b[0mpaddle\u001b[0m\u001b[0;34m.\u001b[0m\u001b[0mModel\u001b[0m\u001b[0;34m(\u001b[0m\u001b[0mnet_cls\u001b[0m\u001b[0;34m)\u001b[0m\u001b[0;34m\u001b[0m\u001b[0;34m\u001b[0m\u001b[0m\n\u001b[1;32m      4\u001b[0m \u001b[0mmodel\u001b[0m\u001b[0;34m.\u001b[0m\u001b[0mload\u001b[0m\u001b[0;34m(\u001b[0m\u001b[0mbest_model_path\u001b[0m\u001b[0;34m)\u001b[0m\u001b[0;34m\u001b[0m\u001b[0;34m\u001b[0m\u001b[0m\n\u001b[1;32m      5\u001b[0m \u001b[0mmodel\u001b[0m\u001b[0;34m.\u001b[0m\u001b[0mprepare\u001b[0m\u001b[0;34m(\u001b[0m\u001b[0moptim\u001b[0m\u001b[0;34m,\u001b[0m\u001b[0mpaddle\u001b[0m\u001b[0;34m.\u001b[0m\u001b[0mnn\u001b[0m\u001b[0;34m.\u001b[0m\u001b[0mCrossEntropyLoss\u001b[0m\u001b[0;34m(\u001b[0m\u001b[0;34m)\u001b[0m\u001b[0;34m,\u001b[0m\u001b[0mAccuracy\u001b[0m\u001b[0;34m(\u001b[0m\u001b[0;34m)\u001b[0m\u001b[0;34m)\u001b[0m\u001b[0;34m\u001b[0m\u001b[0;34m\u001b[0m\u001b[0m\n",
      "\u001b[0;31mNameError\u001b[0m: name 'MyNet' is not defined"
     ]
    }
   ],
   "source": [
    "best_model_path = \"output/model5_7/best_model.pdparams\"\r\n",
    "net_cls = MyNet()\r\n",
    "model = paddle.Model(net_cls)\r\n",
    "model.load(best_model_path)\r\n",
    "model.prepare(optim,paddle.nn.CrossEntropyLoss(),Accuracy())"
   ]
  },
  {
   "cell_type": "code",
   "execution_count": null,
   "metadata": {
    "collapsed": false
   },
   "outputs": [],
   "source": [
    "#用最好的模型在测试集10000张图片上验证\r\n",
    "results = model.evaluate(test_dataset, batch_size=batch_size, verbose=1)\r\n",
    "print(results)\r\n"
   ]
  }
 ],
 "metadata": {
  "kernelspec": {
   "display_name": "PaddlePaddle 2.1.0 (Python 3.5)",
   "language": "python",
   "name": "py35-paddle1.2.0"
  },
  "language_info": {
   "codemirror_mode": {
    "name": "ipython",
    "version": 3
   },
   "file_extension": ".py",
   "mimetype": "text/x-python",
   "name": "python",
   "nbconvert_exporter": "python",
   "pygments_lexer": "ipython3",
   "version": "3.7.4"
  }
 },
 "nbformat": 4,
 "nbformat_minor": 1
}
