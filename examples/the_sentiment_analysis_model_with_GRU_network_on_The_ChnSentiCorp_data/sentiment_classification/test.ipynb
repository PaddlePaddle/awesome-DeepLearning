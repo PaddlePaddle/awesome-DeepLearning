{
 "cells": [
  {
   "cell_type": "code",
   "execution_count": 1,
   "metadata": {
    "collapsed": false
   },
   "outputs": [
    {
     "name": "stdout",
     "output_type": "stream",
     "text": [
      "data10320  data7990\r\n"
     ]
    }
   ],
   "source": [
    "# 查看当前挂载的数据集目录, 该目录下的变更重启环境后会自动还原\n",
    "# View dataset directory. This directory will be recovered automatically after resetting environment. \n",
    "!ls /home/aistudio/data"
   ]
  },
  {
   "cell_type": "code",
   "execution_count": 7,
   "metadata": {
    "collapsed": false
   },
   "outputs": [],
   "source": [
    "# 查看工作区文件, 该目录下的变更将会持久保存. 请及时清理不必要的文件, 避免加载过慢.\n",
    "# View personal work directory. All changes under this directory will be kept even after reset. Please clean unnecessary files in time to speed up environment loading.\n",
    "!ls /home/aistudio/work"
   ]
  },
  {
   "cell_type": "code",
   "execution_count": 2,
   "metadata": {
    "collapsed": false
   },
   "outputs": [
    {
     "name": "stdout",
     "output_type": "stream",
     "text": [
      "/home/aistudio\r\n"
     ]
    }
   ],
   "source": [
    "!pwd"
   ]
  },
  {
   "cell_type": "markdown",
   "metadata": {
    "collapsed": false
   },
   "source": [
    "请点击[此处](https://ai.baidu.com/docs#/AIStudio_Project_Notebook/a38e5576)查看本环境基本用法.  <br>\n",
    "Please click [here ](https://ai.baidu.com/docs#/AIStudio_Project_Notebook/a38e5576) for more detailed instructions. "
   ]
  },
  {
   "cell_type": "markdown",
   "metadata": {
    "collapsed": false
   },
   "source": [
    "\n",
    "# 简介：\n",
    "\n",
    "情感倾向分析（Sentiment Classification，简称Senta）针对带有主观描述的中文文本，可自动判断该文本的情感极性类别并给出相应的置信度。情感类型分为积极、消极。情感倾向分析能够帮助企业理解用户消费习惯、分析热点话题和危机舆情监控，为企业提供有利的决策支持。\n",
    "\n",
    "本项目展示BOW、CNN、LSTM、BI-LSTM、GRU、ERNIE、ERNIE+BI-LSTM模型，基于python 3，部分修改paddle/models代码\n",
    "\n",
    "\n",
    "模型来自https://github.com/PaddlePaddle/models/tree/develop/PaddleNLP/sentiment_classification"
   ]
  },
  {
   "cell_type": "markdown",
   "metadata": {
    "collapsed": false
   },
   "source": [
    "## 0.模型和数据准备"
   ]
  },
  {
   "cell_type": "code",
   "execution_count": 3,
   "metadata": {
    "collapsed": false
   },
   "outputs": [],
   "source": [
    "#下载经过预处理的数据，文件解压之后，senta_data目录下会存在训练数据（train.tsv）、开发集数据（dev.tsv）、测试集数据（test.tsv）以及对应的词典（word_dict.txt）,解压到work目录下\n",
    "# !wget https://baidu-nlp.bj.bcebos.com/sentiment_classification-dataset-1.0.0.tar.gz\n",
    "# !tar -zxvf sentiment_classification-dataset-1.0.0.tar.gz -C work/\n",
    "# !rm sentiment_classification-dataset-1.0.0.tar.gz"
   ]
  },
  {
   "cell_type": "code",
   "execution_count": 4,
   "metadata": {
    "collapsed": false
   },
   "outputs": [],
   "source": [
    "\r\n",
    "# !wget https://baidu-nlp.bj.bcebos.com/sentiment_classification-1.0.0.tar.gz\r\n",
    "# !tar -zxvf sentiment_classification-1.0.0.tar.gz -C  work\r\n",
    "# !rm sentiment_classification-1.0.0.tar.gz"
   ]
  },
  {
   "cell_type": "code",
   "execution_count": 13,
   "metadata": {
    "collapsed": false
   },
   "outputs": [
    {
     "data": {
      "text/html": [
       "<div>\n",
       "<style scoped>\n",
       "    .dataframe tbody tr th:only-of-type {\n",
       "        vertical-align: middle;\n",
       "    }\n",
       "\n",
       "    .dataframe tbody tr th {\n",
       "        vertical-align: top;\n",
       "    }\n",
       "\n",
       "    .dataframe thead th {\n",
       "        text-align: right;\n",
       "    }\n",
       "</style>\n",
       "<table border=\"1\" class=\"dataframe\">\n",
       "  <thead>\n",
       "    <tr style=\"text-align: right;\">\n",
       "      <th></th>\n",
       "      <th>text_a</th>\n",
       "      <th>label</th>\n",
       "    </tr>\n",
       "  </thead>\n",
       "  <tbody>\n",
       "    <tr>\n",
       "      <th>0</th>\n",
       "      <td>這間酒店環境和服務態度 亦 算 不 錯 , 但 房間 空間 太 小 ~ ~ 不 宣容 納 太...</td>\n",
       "      <td>1</td>\n",
       "    </tr>\n",
       "    <tr>\n",
       "      <th>1</th>\n",
       "      <td>&lt; 荐书 &gt;   推荐 所有 喜欢 &lt; 红楼 &gt; 的 红迷们 一定要 收藏 这本书 , 要知...</td>\n",
       "      <td>1</td>\n",
       "    </tr>\n",
       "    <tr>\n",
       "      <th>2</th>\n",
       "      <td>商品 的 不足 暂时 还 没 发现 ， 京东 的 订单 处理 速度 实在 . . . . ....</td>\n",
       "      <td>0</td>\n",
       "    </tr>\n",
       "    <tr>\n",
       "      <th>3</th>\n",
       "      <td>２００１年 来 福州 就 住在 这里 ， 这次 感觉 房间 就 了 点 ， 温泉水 还是 有...</td>\n",
       "      <td>1</td>\n",
       "    </tr>\n",
       "    <tr>\n",
       "      <th>4</th>\n",
       "      <td>不错 的 上网本 ， 外形 很漂亮 ， 操作系统 应该 是 个 很大 的   卖点 ， 电池...</td>\n",
       "      <td>1</td>\n",
       "    </tr>\n",
       "    <tr>\n",
       "      <th>5</th>\n",
       "      <td>房间 地毯 太 脏 ， 临近 火车站 十分 吵闹 ， 还好 是 双层 玻璃 。 服务 一般 ...</td>\n",
       "      <td>0</td>\n",
       "    </tr>\n",
       "    <tr>\n",
       "      <th>6</th>\n",
       "      <td>本来 想 没事 的 时候 翻翻 ， 可惜 看 不 下去 ， 还是 和 张 没法 比 ， 他 ...</td>\n",
       "      <td>0</td>\n",
       "    </tr>\n",
       "    <tr>\n",
       "      <th>7</th>\n",
       "      <td>这 台 机 外观 十分 好 , 本人 喜欢 , 性能 不错 , 是 LED 显示屏 , 无线...</td>\n",
       "      <td>1</td>\n",
       "    </tr>\n",
       "    <tr>\n",
       "      <th>8</th>\n",
       "      <td>全 键盘 带 数字 键 的   显卡 足够 强大 . N 卡 相对 A 卡 , 个人 偏向 ...</td>\n",
       "      <td>1</td>\n",
       "    </tr>\n",
       "    <tr>\n",
       "      <th>9</th>\n",
       "      <td>做工 很漂亮 ， 老婆 很喜欢 。 T4200 足够 了 ， 性价比 不错 的 机器 。 测...</td>\n",
       "      <td>1</td>\n",
       "    </tr>\n",
       "  </tbody>\n",
       "</table>\n",
       "</div>"
      ],
      "text/plain": [
       "                                              text_a  label\n",
       "0  這間酒店環境和服務態度 亦 算 不 錯 , 但 房間 空間 太 小 ~ ~ 不 宣容 納 太...      1\n",
       "1  < 荐书 >   推荐 所有 喜欢 < 红楼 > 的 红迷们 一定要 收藏 这本书 , 要知...      1\n",
       "2  商品 的 不足 暂时 还 没 发现 ， 京东 的 订单 处理 速度 实在 . . . . ....      0\n",
       "3  ２００１年 来 福州 就 住在 这里 ， 这次 感觉 房间 就 了 点 ， 温泉水 还是 有...      1\n",
       "4  不错 的 上网本 ， 外形 很漂亮 ， 操作系统 应该 是 个 很大 的   卖点 ， 电池...      1\n",
       "5  房间 地毯 太 脏 ， 临近 火车站 十分 吵闹 ， 还好 是 双层 玻璃 。 服务 一般 ...      0\n",
       "6  本来 想 没事 的 时候 翻翻 ， 可惜 看 不 下去 ， 还是 和 张 没法 比 ， 他 ...      0\n",
       "7  这 台 机 外观 十分 好 , 本人 喜欢 , 性能 不错 , 是 LED 显示屏 , 无线...      1\n",
       "8  全 键盘 带 数字 键 的   显卡 足够 强大 . N 卡 相对 A 卡 , 个人 偏向 ...      1\n",
       "9  做工 很漂亮 ， 老婆 很喜欢 。 T4200 足够 了 ， 性价比 不错 的 机器 。 测...      1"
      ]
     },
     "execution_count": 13,
     "metadata": {},
     "output_type": "execute_result"
    }
   ],
   "source": [
    "# 查看dev.tsv 文件\r\n",
    "import pandas as pd\r\n",
    "dev_data =pd.read_csv('/home/aistudio/models/PaddleNLP/sentiment_classification/senta_data/dev.tsv', sep='\\t')\r\n",
    "dev_data.head(10)"
   ]
  },
  {
   "cell_type": "code",
   "execution_count": 14,
   "metadata": {
    "collapsed": false
   },
   "outputs": [
    {
     "data": {
      "text/plain": [
       "9146"
      ]
     },
     "execution_count": 14,
     "metadata": {},
     "output_type": "execute_result"
    }
   ],
   "source": [
    "# train.tsv数据集\r\n",
    "train_data =pd.read_csv('/home/aistudio/models/PaddleNLP/sentiment_classification/senta_data/train.tsv', sep='\\t')\r\n",
    "len(train_data)"
   ]
  },
  {
   "cell_type": "code",
   "execution_count": 9,
   "metadata": {
    "collapsed": false
   },
   "outputs": [
    {
     "name": "stdout",
     "output_type": "stream",
     "text": [
      "/home/aistudio/models/PaddleNLP/sentiment_classification\n",
      "/home/aistudio/models/PaddleNLP/sentiment_classification\r\n"
     ]
    }
   ],
   "source": [
    "%cd /home/aistudio/models/PaddleNLP/sentiment_classification\n",
    "!pwd"
   ]
  },
  {
   "cell_type": "markdown",
   "metadata": {
    "collapsed": false
   },
   "source": [
    "## 1.Models\n",
    "### 包括bow、cnn、lstm、gru、bilstm、rnie、ernie_bilstm等 网络"
   ]
  },
  {
   "cell_type": "code",
   "execution_count": 8,
   "metadata": {
    "collapsed": false
   },
   "outputs": [
    {
     "name": "stdout",
     "output_type": "stream",
     "text": [
      "-----------  Configuration Arguments -----------\n",
      "batch_size: 16\n",
      "checkpoints: ./save_models\n",
      "data_dir: ./senta_data\n",
      "do_infer: False\n",
      "do_train: True\n",
      "do_val: True\n",
      "enable_ce: False\n",
      "epoch: 3\n",
      "init_checkpoint: None\n",
      "lr: 0.002\n",
      "random_seed: 0\n",
      "save_steps: 50\n",
      "senta_config_path: ./senta_config.json\n",
      "skip_steps: 10\n",
      "task_name: senta\n",
      "use_cuda: True\n",
      "validation_steps: 50\n",
      "verbose: False\n",
      "vocab_path: ./senta_data/word_dict.txt\n",
      "------------------------------------------------\n",
      "Device count: 1\n",
      "Num train examples: 9600\n",
      "Max train steps: 1800\n",
      "W0729 23:16:47.204888   716 device_context.cc:259] Please NOTE: device: 0, CUDA Capability: 70, Driver API Version: 10.1, Runtime API Version: 9.0\n",
      "W0729 23:16:47.209432   716 device_context.cc:267] device: 0, cuDNN Version: 7.3.\n",
      "step: 10, ave loss: 0.629282, ave acc: 0.500000, speed: 32.678670 steps/s\n",
      "step: 20, ave loss: 0.532957, ave acc: 0.812500, speed: 35.325631 steps/s\n",
      "step: 30, ave loss: 0.619810, ave acc: 0.625000, speed: 47.080513 steps/s\n",
      "step: 40, ave loss: 0.382623, ave acc: 0.875000, speed: 39.167257 steps/s\n",
      "step: 50, ave loss: 0.359275, ave acc: 0.812500, speed: 38.846867 steps/s\n",
      "do evalatation\n",
      "[dev evaluation] ave loss: 0.438850, ave acc: 0.811667, elapsed time: 0.513364 s\n",
      "step: 60, ave loss: 0.394283, ave acc: 0.750000, speed: 3.617142 steps/s\n",
      "step: 70, ave loss: 0.433431, ave acc: 0.812500, speed: 40.809555 steps/s\n",
      "step: 80, ave loss: 0.218246, ave acc: 1.000000, speed: 39.495429 steps/s\n",
      "step: 90, ave loss: 0.321825, ave acc: 0.937500, speed: 46.420943 steps/s\n",
      "step: 100, ave loss: 0.335341, ave acc: 0.937500, speed: 40.960240 steps/s\n",
      "do evalatation\n",
      "[dev evaluation] ave loss: 0.370918, ave acc: 0.839167, elapsed time: 0.507867 s\n",
      "step: 110, ave loss: 0.386720, ave acc: 0.750000, speed: 3.769031 steps/s\n",
      "step: 120, ave loss: 0.553017, ave acc: 0.750000, speed: 41.938049 steps/s\n",
      "step: 130, ave loss: 0.336549, ave acc: 0.812500, speed: 43.973333 steps/s\n",
      "step: 140, ave loss: 0.569878, ave acc: 0.750000, speed: 33.978814 steps/s\n",
      "step: 150, ave loss: 0.220907, ave acc: 1.000000, speed: 43.071691 steps/s\n",
      "do evalatation\n",
      "[dev evaluation] ave loss: 0.331328, ave acc: 0.853333, elapsed time: 0.511529 s\n",
      "step: 160, ave loss: 0.233139, ave acc: 0.875000, speed: 3.714613 steps/s\n",
      "step: 170, ave loss: 0.581038, ave acc: 0.750000, speed: 41.143700 steps/s\n",
      "step: 180, ave loss: 0.087050, ave acc: 1.000000, speed: 42.014549 steps/s\n",
      "step: 190, ave loss: 0.305268, ave acc: 0.937500, speed: 38.641652 steps/s\n",
      "step: 200, ave loss: 0.331712, ave acc: 0.875000, speed: 44.854501 steps/s\n",
      "do evalatation\n",
      "[dev evaluation] ave loss: 0.319377, ave acc: 0.861667, elapsed time: 0.512629 s\n",
      "step: 210, ave loss: 0.570904, ave acc: 0.687500, speed: 3.810137 steps/s\n",
      "step: 220, ave loss: 0.176225, ave acc: 0.937500, speed: 42.557874 steps/s\n",
      "step: 230, ave loss: 0.334625, ave acc: 0.812500, speed: 39.408002 steps/s\n",
      "step: 240, ave loss: 0.582885, ave acc: 0.812500, speed: 41.664182 steps/s\n",
      "step: 250, ave loss: 0.171917, ave acc: 0.937500, speed: 43.197406 steps/s\n",
      "do evalatation\n",
      "[dev evaluation] ave loss: 0.313350, ave acc: 0.867500, elapsed time: 0.512140 s\n",
      "step: 260, ave loss: 0.335131, ave acc: 0.812500, speed: 3.715758 steps/s\n",
      "step: 270, ave loss: 0.296551, ave acc: 0.812500, speed: 36.232695 steps/s\n",
      "step: 280, ave loss: 0.145603, ave acc: 0.937500, speed: 45.919081 steps/s\n",
      "step: 290, ave loss: 0.404753, ave acc: 0.875000, speed: 42.052123 steps/s\n",
      "step: 300, ave loss: 0.438180, ave acc: 0.812500, speed: 42.861695 steps/s\n",
      "do evalatation\n",
      "[dev evaluation] ave loss: 0.294813, ave acc: 0.885000, elapsed time: 0.511577 s\n",
      "step: 310, ave loss: 0.214657, ave acc: 0.937500, speed: 3.754464 steps/s\n",
      "step: 320, ave loss: 0.170271, ave acc: 0.937500, speed: 33.616502 steps/s\n",
      "step: 330, ave loss: 0.306891, ave acc: 0.875000, speed: 47.942190 steps/s\n",
      "step: 340, ave loss: 0.191304, ave acc: 0.937500, speed: 41.777559 steps/s\n",
      "step: 350, ave loss: 0.298869, ave acc: 0.937500, speed: 38.485467 steps/s\n",
      "do evalatation\n",
      "[dev evaluation] ave loss: 0.278386, ave acc: 0.886667, elapsed time: 0.622044 s\n",
      "step: 360, ave loss: 0.178518, ave acc: 0.937500, speed: 3.688470 steps/s\n",
      "step: 370, ave loss: 0.293014, ave acc: 0.875000, speed: 40.463102 steps/s\n",
      "step: 380, ave loss: 0.179565, ave acc: 0.875000, speed: 39.710214 steps/s\n",
      "step: 390, ave loss: 0.167353, ave acc: 0.875000, speed: 39.340360 steps/s\n",
      "step: 400, ave loss: 0.133029, ave acc: 1.000000, speed: 42.316526 steps/s\n",
      "do evalatation\n",
      "[dev evaluation] ave loss: 0.268853, ave acc: 0.887500, elapsed time: 0.517332 s\n",
      "step: 410, ave loss: 0.161504, ave acc: 0.937500, speed: 3.839031 steps/s\n",
      "step: 420, ave loss: 0.144424, ave acc: 1.000000, speed: 40.644292 steps/s\n",
      "step: 430, ave loss: 0.132335, ave acc: 0.937500, speed: 40.906191 steps/s\n",
      "step: 440, ave loss: 0.147478, ave acc: 0.937500, speed: 33.197387 steps/s\n",
      "step: 450, ave loss: 0.149510, ave acc: 0.937500, speed: 44.210975 steps/s\n",
      "do evalatation\n",
      "[dev evaluation] ave loss: 0.301979, ave acc: 0.875833, elapsed time: 0.518437 s\n",
      "step: 460, ave loss: 0.277925, ave acc: 0.875000, speed: 3.724745 steps/s\n",
      "step: 470, ave loss: 0.240575, ave acc: 0.937500, speed: 36.097392 steps/s\n",
      "step: 480, ave loss: 0.143796, ave acc: 0.937500, speed: 39.028980 steps/s\n",
      "step: 490, ave loss: 0.158415, ave acc: 0.937500, speed: 39.939286 steps/s\n",
      "step: 500, ave loss: 0.344152, ave acc: 0.750000, speed: 39.562635 steps/s\n",
      "do evalatation\n",
      "[dev evaluation] ave loss: 0.269098, ave acc: 0.889167, elapsed time: 0.515116 s\n",
      "step: 510, ave loss: 0.465346, ave acc: 0.875000, speed: 3.793370 steps/s\n",
      "step: 520, ave loss: 0.117825, ave acc: 1.000000, speed: 37.013148 steps/s\n",
      "step: 530, ave loss: 0.177594, ave acc: 0.937500, speed: 41.025986 steps/s\n",
      "step: 540, ave loss: 0.123156, ave acc: 0.937500, speed: 36.005113 steps/s\n",
      "step: 550, ave loss: 0.202948, ave acc: 0.937500, speed: 40.392921 steps/s\n",
      "do evalatation\n",
      "[dev evaluation] ave loss: 0.267206, ave acc: 0.895833, elapsed time: 0.590446 s\n",
      "step: 560, ave loss: 0.185371, ave acc: 0.937500, speed: 3.807313 steps/s\n",
      "step: 570, ave loss: 0.192809, ave acc: 0.875000, speed: 46.645566 steps/s\n",
      "step: 580, ave loss: 0.150111, ave acc: 0.937500, speed: 42.211803 steps/s\n",
      "step: 590, ave loss: 0.055084, ave acc: 1.000000, speed: 44.682621 steps/s\n",
      "step: 600, ave loss: 0.278700, ave acc: 0.875000, speed: 37.680914 steps/s\n",
      "do evalatation\n",
      "[dev evaluation] ave loss: 0.253089, ave acc: 0.898333, elapsed time: 0.519121 s\n",
      "step: 610, ave loss: 0.233219, ave acc: 0.937500, speed: 3.820070 steps/s\n",
      "step: 620, ave loss: 0.170248, ave acc: 0.937500, speed: 40.245331 steps/s\n",
      "step: 630, ave loss: 0.218697, ave acc: 0.875000, speed: 47.022927 steps/s\n",
      "step: 640, ave loss: 0.034819, ave acc: 1.000000, speed: 38.172199 steps/s\n",
      "step: 650, ave loss: 0.166035, ave acc: 0.937500, speed: 38.694233 steps/s\n",
      "do evalatation\n",
      "[dev evaluation] ave loss: 0.245674, ave acc: 0.908333, elapsed time: 0.524762 s\n",
      "step: 660, ave loss: 0.061737, ave acc: 1.000000, speed: 3.892536 steps/s\n",
      "step: 670, ave loss: 0.100266, ave acc: 0.937500, speed: 40.593902 steps/s\n",
      "step: 680, ave loss: 0.121763, ave acc: 0.875000, speed: 39.727177 steps/s\n",
      "step: 690, ave loss: 0.020905, ave acc: 1.000000, speed: 46.746474 steps/s\n",
      "step: 700, ave loss: 0.077399, ave acc: 1.000000, speed: 40.805942 steps/s\n",
      "do evalatation\n",
      "[dev evaluation] ave loss: 0.253780, ave acc: 0.900000, elapsed time: 0.516062 s\n",
      "step: 710, ave loss: 0.089632, ave acc: 1.000000, speed: 3.985897 steps/s\n",
      "step: 720, ave loss: 0.125420, ave acc: 0.875000, speed: 41.857609 steps/s\n",
      "step: 730, ave loss: 0.036431, ave acc: 1.000000, speed: 43.656651 steps/s\n",
      "step: 740, ave loss: 0.246799, ave acc: 0.875000, speed: 33.730370 steps/s\n",
      "step: 750, ave loss: 0.037200, ave acc: 1.000000, speed: 42.239179 steps/s\n",
      "do evalatation\n",
      "[dev evaluation] ave loss: 0.257321, ave acc: 0.895833, elapsed time: 0.524765 s\n",
      "step: 760, ave loss: 0.058627, ave acc: 1.000000, speed: 3.924534 steps/s\n",
      "step: 770, ave loss: 0.165858, ave acc: 0.875000, speed: 40.869759 steps/s\n",
      "step: 780, ave loss: 0.015697, ave acc: 1.000000, speed: 41.617260 steps/s\n",
      "step: 790, ave loss: 0.022583, ave acc: 1.000000, speed: 38.399004 steps/s\n",
      "step: 800, ave loss: 0.070551, ave acc: 1.000000, speed: 44.509408 steps/s\n",
      "do evalatation\n",
      "[dev evaluation] ave loss: 0.246513, ave acc: 0.905833, elapsed time: 0.520906 s\n",
      "step: 810, ave loss: 0.148124, ave acc: 0.937500, speed: 3.933843 steps/s\n",
      "step: 820, ave loss: 0.021449, ave acc: 1.000000, speed: 42.269615 steps/s\n",
      "step: 830, ave loss: 0.041329, ave acc: 1.000000, speed: 39.308690 steps/s\n",
      "step: 840, ave loss: 0.198670, ave acc: 0.937500, speed: 41.481353 steps/s\n",
      "step: 850, ave loss: 0.031849, ave acc: 1.000000, speed: 42.976760 steps/s\n",
      "do evalatation\n",
      "[dev evaluation] ave loss: 0.273035, ave acc: 0.896667, elapsed time: 0.516697 s\n",
      "step: 860, ave loss: 0.086814, ave acc: 0.937500, speed: 3.946521 steps/s\n",
      "step: 870, ave loss: 0.070606, ave acc: 1.000000, speed: 35.905464 steps/s\n",
      "step: 880, ave loss: 0.010770, ave acc: 1.000000, speed: 45.704273 steps/s\n",
      "step: 890, ave loss: 0.119733, ave acc: 0.937500, speed: 41.749697 steps/s\n",
      "step: 900, ave loss: 0.093613, ave acc: 0.937500, speed: 41.869057 steps/s\n",
      "do evalatation\n",
      "[dev evaluation] ave loss: 0.249674, ave acc: 0.915833, elapsed time: 0.519215 s\n",
      "step: 910, ave loss: 0.012190, ave acc: 1.000000, speed: 3.958112 steps/s\n",
      "step: 920, ave loss: 0.085045, ave acc: 0.937500, speed: 33.390232 steps/s\n",
      "step: 930, ave loss: 0.028953, ave acc: 1.000000, speed: 47.520309 steps/s\n",
      "step: 940, ave loss: 0.083014, ave acc: 0.937500, speed: 41.427598 steps/s\n",
      "step: 950, ave loss: 0.107415, ave acc: 0.937500, speed: 38.507444 steps/s\n",
      "do evalatation\n",
      "[dev evaluation] ave loss: 0.256642, ave acc: 0.909167, elapsed time: 0.516846 s\n",
      "step: 960, ave loss: 0.015722, ave acc: 1.000000, speed: 3.980035 steps/s\n",
      "step: 970, ave loss: 0.134813, ave acc: 0.937500, speed: 40.428663 steps/s\n",
      "step: 980, ave loss: 0.020668, ave acc: 1.000000, speed: 39.746528 steps/s\n",
      "step: 990, ave loss: 0.033939, ave acc: 1.000000, speed: 39.162064 steps/s\n",
      "step: 1000, ave loss: 0.030097, ave acc: 1.000000, speed: 42.084570 steps/s\n",
      "do evalatation\n",
      "[dev evaluation] ave loss: 0.274667, ave acc: 0.906667, elapsed time: 0.596332 s\n",
      "step: 1010, ave loss: 0.044700, ave acc: 1.000000, speed: 3.817667 steps/s\n",
      "step: 1020, ave loss: 0.048425, ave acc: 1.000000, speed: 40.520487 steps/s\n",
      "step: 1030, ave loss: 0.055499, ave acc: 1.000000, speed: 40.479035 steps/s\n",
      "step: 1040, ave loss: 0.028832, ave acc: 1.000000, speed: 32.973181 steps/s\n",
      "step: 1050, ave loss: 0.018015, ave acc: 1.000000, speed: 44.171771 steps/s\n",
      "do evalatation\n",
      "[dev evaluation] ave loss: 0.279489, ave acc: 0.905000, elapsed time: 0.520433 s\n",
      "step: 1060, ave loss: 0.074850, ave acc: 1.000000, speed: 3.879719 steps/s\n",
      "step: 1070, ave loss: 0.033346, ave acc: 1.000000, speed: 36.083604 steps/s\n",
      "step: 1080, ave loss: 0.015115, ave acc: 1.000000, speed: 38.901236 steps/s\n",
      "step: 1090, ave loss: 0.048669, ave acc: 1.000000, speed: 40.246953 steps/s\n",
      "step: 1100, ave loss: 0.042592, ave acc: 1.000000, speed: 39.883951 steps/s\n",
      "do evalatation\n",
      "[dev evaluation] ave loss: 0.248155, ave acc: 0.912500, elapsed time: 0.517222 s\n",
      "step: 1110, ave loss: 0.182094, ave acc: 0.937500, speed: 3.708626 steps/s\n",
      "step: 1120, ave loss: 0.015032, ave acc: 1.000000, speed: 37.185590 steps/s\n",
      "step: 1130, ave loss: 0.090076, ave acc: 0.937500, speed: 41.114178 steps/s\n",
      "step: 1140, ave loss: 0.024062, ave acc: 1.000000, speed: 36.024657 steps/s\n",
      "step: 1150, ave loss: 0.045885, ave acc: 1.000000, speed: 40.528475 steps/s\n",
      "do evalatation\n",
      "[dev evaluation] ave loss: 0.254136, ave acc: 0.912500, elapsed time: 0.525442 s\n",
      "step: 1160, ave loss: 0.047796, ave acc: 1.000000, speed: 3.930790 steps/s\n",
      "step: 1170, ave loss: 0.031215, ave acc: 1.000000, speed: 46.746474 steps/s\n",
      "step: 1180, ave loss: 0.018353, ave acc: 1.000000, speed: 42.086977 steps/s\n",
      "step: 1190, ave loss: 0.014451, ave acc: 1.000000, speed: 44.617312 steps/s\n",
      "step: 1200, ave loss: 0.096537, ave acc: 0.937500, speed: 37.488874 steps/s\n",
      "do evalatation\n",
      "[dev evaluation] ave loss: 0.246614, ave acc: 0.913333, elapsed time: 0.518210 s\n",
      "step: 1210, ave loss: 0.066062, ave acc: 0.937500, speed: 3.914232 steps/s\n",
      "step: 1220, ave loss: 0.034203, ave acc: 1.000000, speed: 40.265576 steps/s\n",
      "step: 1230, ave loss: 0.054788, ave acc: 1.000000, speed: 46.967112 steps/s\n",
      "step: 1240, ave loss: 0.007535, ave acc: 1.000000, speed: 38.254468 steps/s\n",
      "step: 1250, ave loss: 0.123791, ave acc: 0.937500, speed: 38.624038 steps/s\n",
      "do evalatation\n",
      "[dev evaluation] ave loss: 0.247257, ave acc: 0.913333, elapsed time: 0.517037 s\n",
      "step: 1260, ave loss: 0.013437, ave acc: 1.000000, speed: 4.034242 steps/s\n",
      "step: 1270, ave loss: 0.027560, ave acc: 1.000000, speed: 40.591270 steps/s\n",
      "step: 1280, ave loss: 0.077528, ave acc: 0.937500, speed: 39.811606 steps/s\n",
      "step: 1290, ave loss: 0.006415, ave acc: 1.000000, speed: 46.715755 steps/s\n",
      "step: 1300, ave loss: 0.037585, ave acc: 1.000000, speed: 40.626183 steps/s\n",
      "do evalatation\n",
      "[dev evaluation] ave loss: 0.257595, ave acc: 0.909167, elapsed time: 0.520783 s\n",
      "step: 1310, ave loss: 0.037950, ave acc: 1.000000, speed: 3.528030 steps/s\n",
      "step: 1320, ave loss: 0.043546, ave acc: 1.000000, speed: 41.667617 steps/s\n",
      "step: 1330, ave loss: 0.013051, ave acc: 1.000000, speed: 43.376683 steps/s\n",
      "step: 1340, ave loss: 0.031539, ave acc: 1.000000, speed: 33.721285 steps/s\n",
      "step: 1350, ave loss: 0.012331, ave acc: 1.000000, speed: 42.467041 steps/s\n",
      "do evalatation\n",
      "[dev evaluation] ave loss: 0.265870, ave acc: 0.900833, elapsed time: 0.516203 s\n",
      "step: 1360, ave loss: 0.013261, ave acc: 1.000000, speed: 3.431423 steps/s\n",
      "step: 1370, ave loss: 0.074470, ave acc: 0.937500, speed: 40.899091 steps/s\n",
      "step: 1380, ave loss: 0.013189, ave acc: 1.000000, speed: 41.652059 steps/s\n",
      "step: 1390, ave loss: 0.012981, ave acc: 1.000000, speed: 38.392115 steps/s\n",
      "step: 1400, ave loss: 0.034279, ave acc: 1.000000, speed: 44.569901 steps/s\n",
      "do evalatation\n",
      "[dev evaluation] ave loss: 0.259181, ave acc: 0.905833, elapsed time: 0.520108 s\n",
      "step: 1410, ave loss: 0.043984, ave acc: 1.000000, speed: 3.533589 steps/s\n",
      "step: 1420, ave loss: 0.006913, ave acc: 1.000000, speed: 42.269146 steps/s\n",
      "step: 1430, ave loss: 0.025432, ave acc: 1.000000, speed: 39.357452 steps/s\n",
      "step: 1440, ave loss: 0.016129, ave acc: 1.000000, speed: 41.437257 steps/s\n",
      "step: 1450, ave loss: 0.011992, ave acc: 1.000000, speed: 42.891631 steps/s\n",
      "do evalatation\n",
      "[dev evaluation] ave loss: 0.269291, ave acc: 0.907500, elapsed time: 0.593635 s\n",
      "step: 1460, ave loss: 0.023529, ave acc: 1.000000, speed: 3.386319 steps/s\n",
      "step: 1470, ave loss: 0.094093, ave acc: 0.937500, speed: 35.857548 steps/s\n",
      "step: 1480, ave loss: 0.004346, ave acc: 1.000000, speed: 45.231311 steps/s\n",
      "step: 1490, ave loss: 0.013188, ave acc: 1.000000, speed: 41.746207 steps/s\n",
      "step: 1500, ave loss: 0.026368, ave acc: 1.000000, speed: 42.626384 steps/s\n",
      "do evalatation\n",
      "[dev evaluation] ave loss: 0.273381, ave acc: 0.910833, elapsed time: 0.516530 s\n",
      "step: 1510, ave loss: 0.004902, ave acc: 1.000000, speed: 3.471126 steps/s\n",
      "step: 1520, ave loss: 0.037945, ave acc: 1.000000, speed: 33.403635 steps/s\n",
      "step: 1530, ave loss: 0.009660, ave acc: 1.000000, speed: 47.685901 steps/s\n",
      "step: 1540, ave loss: 0.017198, ave acc: 1.000000, speed: 41.683767 steps/s\n",
      "step: 1550, ave loss: 0.029904, ave acc: 1.000000, speed: 38.587260 steps/s\n",
      "do evalatation\n",
      "[dev evaluation] ave loss: 0.277918, ave acc: 0.910833, elapsed time: 0.523629 s\n",
      "step: 1560, ave loss: 0.003425, ave acc: 1.000000, speed: 3.492381 steps/s\n",
      "step: 1570, ave loss: 0.038182, ave acc: 1.000000, speed: 40.378922 steps/s\n",
      "step: 1580, ave loss: 0.008836, ave acc: 1.000000, speed: 39.544918 steps/s\n",
      "step: 1590, ave loss: 0.017336, ave acc: 1.000000, speed: 39.189946 steps/s\n",
      "step: 1600, ave loss: 0.010988, ave acc: 1.000000, speed: 42.198382 steps/s\n",
      "do evalatation\n",
      "[dev evaluation] ave loss: 0.289414, ave acc: 0.911667, elapsed time: 0.517202 s\n",
      "step: 1610, ave loss: 0.008013, ave acc: 1.000000, speed: 3.504523 steps/s\n",
      "step: 1620, ave loss: 0.019042, ave acc: 1.000000, speed: 40.570696 steps/s\n",
      "step: 1630, ave loss: 0.017421, ave acc: 1.000000, speed: 41.129297 steps/s\n",
      "step: 1640, ave loss: 0.009910, ave acc: 1.000000, speed: 33.031582 steps/s\n",
      "step: 1650, ave loss: 0.005843, ave acc: 1.000000, speed: 44.354224 steps/s\n",
      "do evalatation\n",
      "[dev evaluation] ave loss: 0.303823, ave acc: 0.908333, elapsed time: 0.515332 s\n",
      "step: 1660, ave loss: 0.024361, ave acc: 1.000000, speed: 3.441706 steps/s\n",
      "step: 1670, ave loss: 0.011360, ave acc: 1.000000, speed: 36.163342 steps/s\n",
      "step: 1680, ave loss: 0.007485, ave acc: 1.000000, speed: 39.038207 steps/s\n",
      "step: 1690, ave loss: 0.034984, ave acc: 1.000000, speed: 40.278414 steps/s\n",
      "step: 1700, ave loss: 0.007647, ave acc: 1.000000, speed: 39.875533 steps/s\n",
      "do evalatation\n",
      "[dev evaluation] ave loss: 0.286739, ave acc: 0.914167, elapsed time: 0.516476 s\n",
      "step: 1710, ave loss: 0.023446, ave acc: 1.000000, speed: 3.449693 steps/s\n",
      "step: 1720, ave loss: 0.006417, ave acc: 1.000000, speed: 37.291022 steps/s\n",
      "step: 1730, ave loss: 0.049184, ave acc: 1.000000, speed: 41.121232 steps/s\n",
      "step: 1740, ave loss: 0.012554, ave acc: 1.000000, speed: 35.953509 steps/s\n",
      "step: 1750, ave loss: 0.014148, ave acc: 1.000000, speed: 40.473137 steps/s\n",
      "do evalatation\n",
      "[dev evaluation] ave loss: 0.276589, ave acc: 0.909167, elapsed time: 0.515355 s\n",
      "step: 1760, ave loss: 0.011964, ave acc: 1.000000, speed: 3.480242 steps/s\n",
      "step: 1770, ave loss: 0.004279, ave acc: 1.000000, speed: 46.791741 steps/s\n",
      "step: 1780, ave loss: 0.010149, ave acc: 1.000000, speed: 42.280267 steps/s\n",
      "step: 1790, ave loss: 0.007308, ave acc: 1.000000, speed: 44.549355 steps/s\n",
      "step: 1800, ave loss: 0.043073, ave acc: 1.000000, speed: 37.595935 steps/s\n",
      "do evalatation\n",
      "[dev evaluation] ave loss: 0.270586, ave acc: 0.914167, elapsed time: 0.526274 s\n",
      "Final validation result:\n",
      "[dev evaluation] ave loss: 0.270586, ave acc: 0.914167, elapsed time: 0.521967 s\n",
      "[infer evaluation] ave loss: 0.275237, ave acc: 0.912500, elapsed time: 0.607588 s\n"
     ]
    }
   ],
   "source": [
    "#默认采用GRU，预训练模型评估\r\n",
    "!sh run.sh train"
   ]
  }
 ],
 "metadata": {
  "interpreter": {
   "hash": "95269af90821090d39769693abe33d1fe8f1ccf33c317a6635f7ea619e1428cc"
  },
  "kernelspec": {
   "display_name": "Python 3.7.10 64-bit ('paddle-py-3.7': conda)",
   "name": "python3"
  },
  "language_info": {
   "name": "python",
   "version": ""
  }
 },
 "nbformat": 4,
 "nbformat_minor": 1
}