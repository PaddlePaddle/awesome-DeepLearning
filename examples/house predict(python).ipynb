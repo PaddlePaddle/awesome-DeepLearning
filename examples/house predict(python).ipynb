{
 "cells": [
  {
   "cell_type": "markdown",
   "metadata": {},
   "source": [
    "**python与numpy**格式"
   ]
  },
  {
   "cell_type": "code",
   "execution_count": 1,
   "metadata": {},
   "outputs": [],
   "source": [
    "import numpy as np\n",
    "import json\n",
    "# 读入训练数据\n",
    "datafile = './housing.data' \n",
    "data = np.fromfile(datafile, sep=' ')"
   ]
  },
  {
   "cell_type": "code",
   "execution_count": 2,
   "metadata": {},
   "outputs": [],
   "source": [
    "feature_names = [ 'CRIM', 'ZN', 'INDUS', 'CHAS', 'NOX', 'RM', 'AGE','DIS',  'RAD', 'TAX', 'PTRATIO', 'B', 'LSTAT', 'MEDV' ]\n",
    "feature_num = len(feature_names)\n",
    "data = data.reshape([data.shape[0] // feature_num, feature_num])"
   ]
  },
  {
   "cell_type": "code",
   "execution_count": 9,
   "metadata": {},
   "outputs": [],
   "source": [
    "ratio = 0.8\n",
    "offset = int(data.shape[0] * ratio)\n",
    "training_data = data[:offset]\n",
    "test_data=data[offset:]\n",
    "maximums, minimums, avgs = \\\n",
    "                     training_data.max(axis=0), \\\n",
    "                     training_data.min(axis=0), \\\n",
    "     training_data.sum(axis=0) / training_data.shape[0]\n",
    "# 对数据进行归一化处理\n",
    "for i in range(feature_num):\n",
    "    #print(maximums[i], minimums[i], avgs[i])\n",
    "    data[:, i] = (data[:, i] - avgs[i]) / (maximums[i] - minimums[i])"
   ]
  },
  {
   "cell_type": "code",
   "execution_count": 14,
   "metadata": {},
   "outputs": [],
   "source": [
    "import torch\n",
    "import torch.nn as nn\n",
    "import torch.nn.functional as F\n",
    "import numpy as np\n",
    "x = training_data[:, 0:-1]\n",
    "y = training_data[:, [-1]]\n",
    "test_x=test_data[:,0:-1]\n",
    "test_y=test_data[:,[-1]]\n",
    "\n",
    "class Network(nn.Module):\n",
    "    def __init__(self):\n",
    "        super( Network, self ).__init__() \n",
    "        self.liner1=nn.Linear(13,6)\n",
    "        self.liner2=nn.Linear(6,1)\n",
    "    def forward(self, x):\n",
    "        out = F.relu(self.liner1(x))\n",
    "        out = self.liner2(out)\n",
    "        return out"
   ]
  },
  {
   "cell_type": "code",
   "execution_count": 53,
   "metadata": {},
   "outputs": [
    {
     "name": "stdout",
     "output_type": "stream",
     "text": [
      "Pass:0,Cost:0.00000\n",
      "Pass:50,Cost:0.00000\n",
      "Pass:100,Cost:0.00000\n",
      "Pass:150,Cost:0.00000\n",
      "Pass:200,Cost:0.00000\n",
      "Pass:250,Cost:0.00000\n",
      "Pass:300,Cost:0.00000\n",
      "Pass:350,Cost:0.00000\n",
      "Pass:400,Cost:0.00000\n",
      "Pass:450,Cost:0.00000\n",
      "No.0: infer result is -0.27,ground truth is -0.35\n",
      "No.10: infer result is -0.26,ground truth is -0.38\n",
      "No.20: infer result is -0.26,ground truth is -0.28\n",
      "No.30: infer result is -0.25,ground truth is -0.28\n",
      "No.40: infer result is -0.26,ground truth is -0.30\n",
      "No.50: infer result is -0.26,ground truth is -0.21\n",
      "No.60: infer result is -0.26,ground truth is -0.06\n",
      "No.70: infer result is -0.26,ground truth is -0.23\n",
      "No.80: infer result is -0.27,ground truth is -0.08\n",
      "No.90: infer result is -0.24,ground truth is 0.01\n",
      "Mean loss is: 0.017520446\n"
     ]
    }
   ],
   "source": [
    "net = Network()\n",
    "y_preds=[]\n",
    "labels_list=[]\n",
    "train_nums=[]\n",
    "train_costs=[]\n",
    "train_num = 0\n",
    "min_cost = 30000\n",
    "batch_size=20\n",
    "save_path='./'\n",
    "loss_function = nn.CrossEntropyLoss().cuda()\n",
    "optimizer = torch.optim.SGD(net.parameters(), lr=0.001, momentum=0.9)\n",
    "for epoch in range(500):\n",
    "    np.random.shuffle(x)\n",
    "    mini_batches = [x[k:k+batch_size] for k in range(0,len(x),batch_size)]\n",
    "    for batch_id,data in enumerate(mini_batches):\n",
    "        data= torch.tensor(x).type(torch.FloatTensor)\n",
    "        target = torch.tensor(y).type(torch.LongTensor)\n",
    "        out=net(data)\n",
    "        loss = loss_function(out, target.squeeze())\n",
    "        optimizer.zero_grad()\n",
    "        loss.backward()\n",
    "        optimizer.step()\n",
    "        if batch_id%30 == 0 and epoch%50 == 0:\n",
    "            print(\"Pass:%d,Cost:%0.5f\"%(epoch, loss))\n",
    "            train_num = train_num + batch_size\n",
    "            train_nums.append(train_num)\n",
    "            train_costs.append(loss)\n",
    "\n",
    "            if loss < min_cost:\n",
    "                min_cost = loss\n",
    "                save_name = save_path+'best_acc.pdparams'\n",
    "                torch.save(net.state_dict(), save_name)\n",
    "\n",
    "INFER_BATCH_SIZE = 100\n",
    "infer_features_np = np.array([data[:13] for data in test_data]).astype(\"float32\")\n",
    "infer_labels_np = np.array([data[-1] for data in test_data]).astype(\"float32\")\n",
    "infer_features = torch.tensor(infer_features_np)\n",
    "infer_labels = torch.tensor(infer_labels_np)\n",
    "fetch_list = net(infer_features)\n",
    "\n",
    "sum_cost = 0\n",
    "for i in range(INFER_BATCH_SIZE):\n",
    "    infer_result = fetch_list[i][0]\n",
    "    ground_truth = infer_labels[i]\n",
    "    if i % 10 == 0:\n",
    "        print(\"No.%d: infer result is %.2f,ground truth is %.2f\" % (i, infer_result, ground_truth))\n",
    "    cost = torch.pow(infer_result - ground_truth, 2)\n",
    "    sum_cost += cost\n",
    "mean_loss = sum_cost / INFER_BATCH_SIZE\n",
    "print(\"Mean loss is:\", mean_loss.detach().numpy())"
   ]
  },
  {
   "cell_type": "code",
   "execution_count": 54,
   "metadata": {},
   "outputs": [
    {
     "data": {
      "image/png": "[encoded data removed]",
      "text/plain": [
       "<Figure size 432x288 with 1 Axes>"
      ]
     },
     "metadata": {},
     "output_type": "display_data"
    }
   ],
   "source": [
    "import matplotlib.pyplot as plt\n",
    "def plot_pred_ground(pred, ground):\n",
    "    plt.figure()   \n",
    "    plt.title(\"Predication v.s. Ground truth\", fontsize=24)\n",
    "    plt.xlabel(\"ground truth price(unit:$1000)\", fontsize=14)\n",
    "    plt.ylabel(\"predict price\", fontsize=14)\n",
    "    plt.scatter(ground, pred, alpha=0.5)  #  scatter:散点图,alpha:\"透明度\"\n",
    "    plt.plot(ground, ground, c='red')\n",
    "    plt.show()\n",
    "plot_pred_ground(fetch_list.detach().numpy(), infer_labels_np)"
   ]
  },
  {
   "cell_type": "markdown",
   "metadata": {},
   "source": []
  },
  {
   "cell_type": "code",
   "execution_count": null,
   "metadata": {},
   "outputs": [],
   "source": []
  }
 ],
 "metadata": {
  "kernelspec": {
   "display_name": "Python 3",
   "language": "python",
   "name": "python3"
  },
  "language_info": {
   "codemirror_mode": {
    "name": "ipython",
    "version": 3
   },
   "file_extension": ".py",
   "mimetype": "text/x-python",
   "name": "python",
   "nbconvert_exporter": "python",
   "pygments_lexer": "ipython3",
   "version": "3.6.5"
  }
 },
 "nbformat": 4,
 "nbformat_minor": 2
}
