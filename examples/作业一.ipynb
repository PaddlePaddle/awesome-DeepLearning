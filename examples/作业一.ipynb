{
 "cells": [
  {
   "cell_type": "code",
   "execution_count": null,
   "metadata": {
    "collapsed": false
   },
   "outputs": [],
   "source": [
    "#numpy+python\r\n",
    "import numpy as np\r\n",
    "import matplotlib.pyplot as plt\r\n",
    "import pandas as pd"
   ]
  },
  {
   "cell_type": "code",
   "execution_count": 26,
   "metadata": {
    "collapsed": false
   },
   "outputs": [],
   "source": [
    "import os\r\n",
    "import zipfile\r\n",
    "os.chdir('/home/aistudio/data/data269')\r\n",
    "extracting = zipfile.ZipFile('房价预测.zip')\r\n",
    "extracting.extractall()"
   ]
  },
  {
   "cell_type": "code",
   "execution_count": 27,
   "metadata": {
    "collapsed": false
   },
   "outputs": [],
   "source": [
    "def deal_data():\r\n",
    "    # 读取文件数据，此时数据形状是(870,2)\r\n",
    "    \r\n",
    "    df =  pd.read_csv(\"./房价预测/data/data.txt\",sep=',')  # 用pandas读取数据，分隔符为逗号\r\n",
    "    housingdata = np.array(df)  # 将DF数据类型转化为numpy数据类型\r\n",
    "\r\n",
    "    # 规范数据格式。\r\n",
    "    housingdata = np.array(housingdata).reshape((-1, 2))  # 此时数据形状为(870,2)\r\n",
    "\r\n",
    "    # 对数据的第一个属性进行归一化操作，有助于提高模型精准度，这里使用max-min归一化方式。公式为(x-min)/(max-min)\r\n",
    "    for i in range(1):\r\n",
    "        Max = np.max(housingdata[:, i])\r\n",
    "        Min = np.min(housingdata[:, i])\r\n",
    "        housingdata[:, i] = (housingdata[:, i] - Min) / (Max - Min)\r\n",
    "\r\n",
    "    # 依据2-8原则，80%的数据作为训练数据，20%数据作为测试数据；\r\n",
    "    Splitdata = round(len(housingdata) * 0.8)\r\n",
    "    Train = housingdata[:Splitdata]  # 训练数据集\r\n",
    "    Test = housingdata[Splitdata:]  # 测试数据集\r\n",
    "    return Train, Test"
   ]
  },
  {
   "cell_type": "code",
   "execution_count": 28,
   "metadata": {
    "collapsed": false
   },
   "outputs": [],
   "source": [
    "class Model_Config(object):\r\n",
    "    def __init__(self, firstnetnum, secondnetnum):\r\n",
    "        np.random.seed(1)\r\n",
    "        self.w0 = np.random.randn(firstnetnum * secondnetnum, 1).reshape(firstnetnum, secondnetnum)\r\n",
    "        self.w1 = np.random.randn(secondnetnum, 1)\r\n",
    "        self.b0 = np.random.randn(firstnetnum, 1).reshape(1, firstnetnum)\r\n",
    "        self.b1 = np.random.randn(1, 1)\r\n",
    "\r\n",
    "    # 计算预测值，前向传播过程\r\n",
    "    def forward(self, x):\r\n",
    "        hidden1 = np.dot(x, self.w0) + self.b0  # 由输入层到隐藏层\r\n",
    "        y = np.dot(hidden1, self.w1) + self.b1  # 由隐藏层到输出层\r\n",
    "        return hidden1, y\r\n",
    "\r\n",
    "    # 设置损失函数,这里使用差平方损失函数计算方式\r\n",
    "    def loss(self, z, y):\r\n",
    "        error = z - y\r\n",
    "        cost = error * error\r\n",
    "        avg_cost = np.mean(cost)\r\n",
    "        return avg_cost\r\n",
    "\r\n",
    "    # 计算梯度\r\n",
    "    def back(self, x, y):\r\n",
    "        hidden1, z = self.forward(x)\r\n",
    "        # hidden层的梯度\r\n",
    "        gradient_w1 = (z - y) * hidden1\r\n",
    "        gradient_w1 = np.mean(gradient_w1, axis=0)  # 这里注意，axis=0必须写上，否则默认将这个数组变成一维的求平均\r\n",
    "        gradient_w1 = gradient_w1[:, np.newaxis]  #\r\n",
    "        gradient_b1 = (z - y)\r\n",
    "        gradient_b1 = np.mean(gradient_b1)\r\n",
    "        gradient_w0 = np.zeros(shape=(1, 1))\r\n",
    "        for i in range(len(x)):\r\n",
    "            data = x[i, :]\r\n",
    "            data = data[:, np.newaxis]\r\n",
    "            # print(\"data.shape\",data.shape)\r\n",
    "            w1 = self.w1.reshape(1, 1)\r\n",
    "            # print(\"self.w1.shape\",w1.shape)\r\n",
    "            gradient_w01 = (z - y)[i] * np.dot(data, w1)\r\n",
    "            # print(\"gradient_w01.shape:\",gradient_w01.shape)\r\n",
    "            gradient_w0 += gradient_w01\r\n",
    "        gradient_w0 = gradient_w0 / len(x)\r\n",
    "        w2 = self.w1.reshape(1, 1)\r\n",
    "        gradient_b0 = np.mean((z - y) * w2, axis=0)\r\n",
    "\r\n",
    "        return gradient_w1, gradient_b1, gradient_w0, gradient_b0\r\n",
    "\r\n",
    "    # 使用梯度更新权值参数w1，b1,w0,b0\r\n",
    "    def update(self, gradient_w1, gradient_b1, gradient_w0, gradient_b0, learning_rate):\r\n",
    "        self.w1 = self.w1 - learning_rate * gradient_w1\r\n",
    "        self.b1 = self.b1 - learning_rate * gradient_b1\r\n",
    "        self.w0 = self.w0 - learning_rate * gradient_w0\r\n",
    "        self.b0 = self.b0 - learning_rate * gradient_b0\r\n",
    "\r\n",
    "    # 开始训练\r\n",
    "    def train(self, epoch_num, x, y, learning_rate):\r\n",
    "        # 循环迭代\r\n",
    "        losses = []\r\n",
    "        for i in range(epoch_num):\r\n",
    "            _, z = self.forward(x)  # 前向传播\r\n",
    "            avg_loss = self.loss(z, y)  # 损失函数\r\n",
    "            gradient_w1, gradient_b1, gradient_w0, gradient_b0 = self.back(x, y)  # 计算梯度\r\n",
    "            self.update(gradient_w1, gradient_b1, gradient_w0, gradient_b0, learning_rate)  # 更新梯度\r\n",
    "            losses.append(avg_loss)  # 记录迭代过程中损失函数值\r\n",
    "            # 每进行20此迭代，显示一下当前的损失值\r\n",
    "            if (i % 20 == 0):\r\n",
    "                print(\"iter:{},loss:{}\".format(i, avg_loss))\r\n",
    "        \r\n",
    "        return losses, self.w1, self.b1, self.w0, self.b0"
   ]
  },
  {
   "cell_type": "code",
   "execution_count": 29,
   "metadata": {
    "collapsed": false
   },
   "outputs": [],
   "source": [
    "# 画出损失函数随迭代次数增加的情况\r\n",
    "def showpeocess(loss, epoch_num):\r\n",
    "    plt.title(\"The Process Of Train\")\r\n",
    "    plt.plot([i for i in range(epoch_num)], loss)\r\n",
    "    plt.xlabel(\"epoch_num\")\r\n",
    "    plt.ylabel(\"loss\")\r\n",
    "    plt.show()\r\n",
    "\r\n",
    "# 画出测试集标签随迭代次数增加的情况\r\n",
    "def shower_true(true, epoch_num):\r\n",
    "    plt.title(\"true\")\r\n",
    "    plt.plot([i for i in range(epoch_num)], true)\r\n",
    "    plt.xlabel(\"epoch_num\")\r\n",
    "    plt.ylabel(\"value\")\r\n",
    "    plt.show()\r\n",
    "\r\n",
    "# 画出预测值随迭代次数增加的情况\r\n",
    "def shower_predict(predict, epoch_num):\r\n",
    "    plt.title(\"predict\")\r\n",
    "    plt.plot([i for i in range(epoch_num)], predict)\r\n",
    "    plt.xlabel(\"epoch_num\")\r\n",
    "    plt.ylabel(\"value\")\r\n",
    "    plt.show()\r\n",
    "\r\n",
    "# 画出预测值和真实值的对比\r\n",
    "def shower(true, predict, epoch_num):\r\n",
    "    plt.plot([i for i in range(epoch_num)], true)\r\n",
    "    plt.plot([i for i in range(epoch_num)], predict)\r\n",
    "    plt.xlabel(\"num\")\r\n",
    "    plt.ylabel(\"value\")\r\n",
    "    plt.show()"
   ]
  },
  {
   "cell_type": "code",
   "execution_count": 30,
   "metadata": {
    "collapsed": false
   },
   "outputs": [
    {
     "name": "stdout",
     "output_type": "stream",
     "text": [
      "iter:0,loss:448783.92739766306\n",
      "iter:20,loss:446260.2054846042\n",
      "iter:40,loss:433917.44741002365\n",
      "iter:60,loss:326449.43518366385\n",
      "iter:80,loss:87681.36909037246\n",
      "iter:100,loss:59204.20023157633\n",
      "iter:120,loss:56091.025465037805\n",
      "iter:140,loss:53347.11301059521\n",
      "iter:160,loss:50772.503413278515\n",
      "iter:180,loss:48347.40536217403\n",
      "iter:200,loss:46058.8830937048\n",
      "iter:220,loss:43898.83053350853\n",
      "iter:240,loss:41862.88898192058\n",
      "iter:260,loss:39949.51734393494\n",
      "iter:280,loss:38159.14046958031\n",
      "iter:300,loss:36493.34190676975\n",
      "iter:320,loss:34954.09770779243\n",
      "iter:340,loss:33543.07130577573\n",
      "iter:360,loss:32261.00427838156\n",
      "iter:380,loss:31107.24226088685\n",
      "iter:400,loss:30079.42888457173\n",
      "iter:420,loss:29173.38509911079\n",
      "iter:440,loss:28383.1704280151\n",
      "iter:460,loss:27701.301638053166\n",
      "iter:480,loss:27119.0877572315\n",
      "iter:500,loss:26627.03154250303\n",
      "iter:520,loss:26215.24728168827\n",
      "iter:540,loss:25873.851954484588\n",
      "iter:560,loss:25593.298611850383\n",
      "iter:580,loss:25364.634293470623\n",
      "iter:600,loss:25179.677266457515\n",
      "iter:620,loss:25031.118137097827\n",
      "iter:640,loss:24912.555775539437\n",
      "iter:660,loss:24818.482133702495\n",
      "iter:680,loss:24744.230564794812\n",
      "iter:700,loss:24685.9009981837\n",
      "iter:720,loss:24640.273082756492\n",
      "iter:740,loss:24604.71582264184\n",
      "iter:760,loss:24577.09972770346\n",
      "iter:780,loss:24555.715337244503\n",
      "iter:800,loss:24539.200253095252\n",
      "iter:820,loss:24526.475544034573\n",
      "iter:840,loss:24516.69150765312\n",
      "iter:860,loss:24509.18222401128\n",
      "iter:880,loss:24503.428029350776\n",
      "iter:900,loss:24499.024906664734\n",
      "iter:920,loss:24495.659774602962\n",
      "iter:940,loss:24493.09071204882\n",
      "iter:960,loss:24491.131250223105\n",
      "iter:980,loss:24489.637975106893\n"
     ]
    },
    {
     "data": {
      "image/png": "[encoded data removed]",
      "text/plain": [
       "<Figure size 432x288 with 1 Axes>"
      ]
     },
     "metadata": {},
     "output_type": "display_data"
    },
    {
     "data": {
      "image/png": "[encoded data removed]",
      "text/plain": [
       "<Figure size 432x288 with 1 Axes>"
      ]
     },
     "metadata": {},
     "output_type": "display_data"
    }
   ],
   "source": [
    "if __name__ == '__main__':\r\n",
    "    Train, Test = deal_data()  # 读取训练集和测试集\r\n",
    "    np.random.shuffle(Train)  # 随机打乱\r\n",
    "    # 训练数据和标签\r\n",
    "    x = Train[:, :-1]\r\n",
    "    y = Train[:, -1:]\r\n",
    "    # 测试数据和标签\r\n",
    "    x1 = Test[:, :-1]\r\n",
    "    y1 = Test[:, -1:]\r\n",
    "    epoch_num = 1000  # 设置迭代次数\r\n",
    "    Model = Model_Config(1, 1)\r\n",
    "    losses, w1, b1, w0, b0 = Model.train(epoch_num=epoch_num, x=x, y=y, learning_rate=0.0001)\r\n",
    "    predicts = np.dot((np.dot(x1, w0) + b0), w1) + b1  # 测试集的预测值\r\n",
    "    showpeocess(loss=losses, epoch_num=epoch_num)  # 画出损失函数随迭代次数的变化\r\n",
    "    shower(y1, predicts, 174)  # 画出测试集中真实数据和预测数据之间的对比"
   ]
  },
  {
   "cell_type": "code",
   "execution_count": 31,
   "metadata": {
    "collapsed": false
   },
   "outputs": [],
   "source": [
    "#paddlepaddle\r\n",
    "import paddle.fluid as fluid\r\n",
    "import paddle\r\n",
    "import numpy as np\r\n",
    "import os\r\n",
    "import matplotlib.pyplot as plt\r\n"
   ]
  },
  {
   "cell_type": "code",
   "execution_count": 32,
   "metadata": {
    "collapsed": false
   },
   "outputs": [
    {
     "name": "stderr",
     "output_type": "stream",
     "text": [
      "/opt/conda/envs/python35-paddle120-env/lib/python3.7/site-packages/ipykernel_launcher.py:6: DeprecationWarning: \u001b[93m\n",
      "Warning:\n",
      "API \"paddle.dataset.uci_housing.train\" is deprecated since 2.0.0, and will be removed in future versions. Please use \"paddle.text.datasets.UCIHousing\" instead.\n",
      "reason: Please use new dataset API which supports paddle.io.DataLoader \u001b[0m\n",
      "  \n",
      "Cache file /home/aistudio/.cache/paddle/dataset/uci_housing/housing.data not found, downloading http://paddlemodels.bj.bcebos.com/uci_housing/housing.data \n",
      "Begin to download\n",
      "............\n",
      "Download finished\n",
      "/opt/conda/envs/python35-paddle120-env/lib/python3.7/site-packages/ipykernel_launcher.py:11: DeprecationWarning: \u001b[93m\n",
      "Warning:\n",
      "API \"paddle.dataset.uci_housing.test\" is deprecated since 2.0.0, and will be removed in future versions. Please use \"paddle.text.datasets.UCIHousing\" instead.\n",
      "reason: Please use new dataset API which supports paddle.io.DataLoader \u001b[0m\n",
      "  # This is added back by InteractiveShellApp.init_path()\n"
     ]
    }
   ],
   "source": [
    "\r\n",
    "BUF_SIZE=500\r\n",
    "BATCH_SIZE=20\r\n",
    "\r\n",
    "#用于训练的数据提供器，每次从缓存中随机读取批次大小的数据\r\n",
    "train_reader = paddle.batch(\r\n",
    "    paddle.reader.shuffle(paddle.dataset.uci_housing.train(), \r\n",
    "                          buf_size=BUF_SIZE),                    \r\n",
    "    batch_size=BATCH_SIZE)   \r\n",
    "#用于测试的数据提供器，每次从缓存中随机读取批次大小的数据\r\n",
    "test_reader = paddle.batch(\r\n",
    "    paddle.reader.shuffle(paddle.dataset.uci_housing.test(),\r\n",
    "                          buf_size=BUF_SIZE),\r\n",
    "    batch_size=BATCH_SIZE)  "
   ]
  },
  {
   "cell_type": "code",
   "execution_count": 33,
   "metadata": {
    "collapsed": false
   },
   "outputs": [
    {
     "name": "stdout",
     "output_type": "stream",
     "text": [
      "(array([-0.0405441 ,  0.06636364, -0.32356227, -0.06916996, -0.03435197,\n",
      "        0.05563625, -0.03475696,  0.02682186, -0.37171335, -0.21419304,\n",
      "       -0.33569506,  0.10143217, -0.21172912]), array([24.]))\n"
     ]
    },
    {
     "name": "stderr",
     "output_type": "stream",
     "text": [
      "/opt/conda/envs/python35-paddle120-env/lib/python3.7/site-packages/ipykernel_launcher.py:2: DeprecationWarning: \u001b[93m\n",
      "Warning:\n",
      "API \"paddle.dataset.uci_housing.train\" is deprecated since 2.0.0, and will be removed in future versions. Please use \"paddle.text.datasets.UCIHousing\" instead.\n",
      "reason: Please use new dataset API which supports paddle.io.DataLoader \u001b[0m\n",
      "  \n"
     ]
    }
   ],
   "source": [
    "#用于打印，查看uci_housing数据\r\n",
    "train_data=paddle.dataset.uci_housing.train();\r\n",
    "sampledata=next(train_data())\r\n",
    "print(sampledata)"
   ]
  },
  {
   "cell_type": "code",
   "execution_count": 35,
   "metadata": {
    "collapsed": false
   },
   "outputs": [],
   "source": [
    "paddle.enable_static()\r\n",
    "#定义张量变量x，表示13维的特征值\r\n",
    "x = fluid.layers.data(name='x', shape=[13], dtype='float32')\r\n",
    "#定义张量y,表示目标值\r\n",
    "y = fluid.layers.data(name='y', shape=[1], dtype='float32')\r\n",
    "#定义一个简单的线性网络,连接输入和输出的全连接层\r\n",
    "#input:输入tensor;\r\n",
    "#size:该层输出单元的数目\r\n",
    "#act:激活函数\r\n",
    "y_predict=fluid.layers.fc(input=x,size=1,act=None)"
   ]
  },
  {
   "cell_type": "code",
   "execution_count": 36,
   "metadata": {
    "collapsed": false
   },
   "outputs": [],
   "source": [
    "cost = fluid.layers.square_error_cost(input=y_predict, label=y) #求一个batch的损失值\r\n",
    "avg_cost = fluid.layers.mean(cost)                              #对损失值求平均值\r\n"
   ]
  },
  {
   "cell_type": "code",
   "execution_count": 37,
   "metadata": {
    "collapsed": false
   },
   "outputs": [],
   "source": [
    "\r\n",
    "optimizer = fluid.optimizer.SGDOptimizer(learning_rate=0.001)\r\n",
    "opts = optimizer.minimize(avg_cost)"
   ]
  },
  {
   "cell_type": "code",
   "execution_count": null,
   "metadata": {
    "collapsed": false
   },
   "outputs": [],
   "source": []
  },
  {
   "cell_type": "code",
   "execution_count": 38,
   "metadata": {
    "collapsed": false
   },
   "outputs": [],
   "source": [
    "test_program = fluid.default_main_program().clone(for_test=True)"
   ]
  },
  {
   "cell_type": "code",
   "execution_count": 39,
   "metadata": {
    "collapsed": false
   },
   "outputs": [
    {
     "data": {
      "text/plain": [
       "[]"
      ]
     },
     "execution_count": 39,
     "metadata": {},
     "output_type": "execute_result"
    }
   ],
   "source": [
    "use_cuda = False                         #use_cuda为False,表示运算场所为CPU;use_cuda为True,表示运算场所为GPU           \r\n",
    "place = fluid.CUDAPlace(0) if use_cuda else fluid.CPUPlace()\r\n",
    "exe = fluid.Executor(place)              #创建一个Executor实例exe\r\n",
    "exe.run(fluid.default_startup_program()) #Executor的run()方法执行startup_program(),进行参数初始化"
   ]
  },
  {
   "cell_type": "code",
   "execution_count": 40,
   "metadata": {
    "collapsed": false
   },
   "outputs": [],
   "source": [
    "\r\n",
    "# 定义输入数据维度\r\n",
    "feeder = fluid.DataFeeder(place=place, feed_list=[x, y])#feed_list:向模型输入的变量表或变量表名"
   ]
  },
  {
   "cell_type": "code",
   "execution_count": 41,
   "metadata": {
    "collapsed": false
   },
   "outputs": [],
   "source": [
    "iter=0;\r\n",
    "iters=[]\r\n",
    "train_costs=[]\r\n",
    "\r\n",
    "def draw_train_process(iters,train_costs):\r\n",
    "    title=\"training cost\"\r\n",
    "    plt.title(title, fontsize=24)\r\n",
    "    plt.xlabel(\"iter\", fontsize=14)\r\n",
    "    plt.ylabel(\"cost\", fontsize=14)\r\n",
    "    plt.plot(iters, train_costs,color='red',label='training cost') \r\n",
    "    plt.grid()\r\n",
    "    plt.show()"
   ]
  },
  {
   "cell_type": "code",
   "execution_count": 42,
   "metadata": {
    "collapsed": false
   },
   "outputs": [
    {
     "name": "stdout",
     "output_type": "stream",
     "text": [
      "Pass:0, Cost:505.10513\n",
      "Test:0, Cost:205.15059\n",
      "Pass:1, Cost:503.43393\n",
      "Test:1, Cost:124.18570\n",
      "Pass:2, Cost:725.97839\n",
      "Test:2, Cost:252.52672\n",
      "Pass:3, Cost:368.83640\n",
      "Test:3, Cost:375.80911\n",
      "Pass:4, Cost:420.53525\n",
      "Test:4, Cost:193.19254\n",
      "Pass:5, Cost:399.84305\n",
      "Test:5, Cost:196.38753\n",
      "Pass:6, Cost:445.31421\n",
      "Test:6, Cost:18.42760\n",
      "Pass:7, Cost:282.76855\n",
      "Test:7, Cost:58.37284\n",
      "Pass:8, Cost:295.67255\n",
      "Test:8, Cost:75.28447\n",
      "Pass:9, Cost:389.13074\n",
      "Test:9, Cost:17.33388\n",
      "Pass:10, Cost:220.06316\n",
      "Test:10, Cost:155.37735\n",
      "Pass:11, Cost:227.27512\n",
      "Test:11, Cost:24.27526\n",
      "Pass:12, Cost:399.23126\n",
      "Test:12, Cost:92.73886\n",
      "Pass:13, Cost:362.29434\n",
      "Test:13, Cost:344.99893\n",
      "Pass:14, Cost:293.75989\n",
      "Test:14, Cost:123.75778\n",
      "Pass:15, Cost:214.79593\n",
      "Test:15, Cost:126.80388\n",
      "Pass:16, Cost:174.49638\n",
      "Test:16, Cost:63.55113\n",
      "Pass:17, Cost:178.48586\n",
      "Test:17, Cost:111.10164\n",
      "Pass:18, Cost:128.77304\n",
      "Test:18, Cost:16.08501\n",
      "Pass:19, Cost:87.51572\n",
      "Test:19, Cost:198.22566\n",
      "Pass:20, Cost:148.40579\n",
      "Test:20, Cost:47.73405\n",
      "Pass:21, Cost:286.11069\n",
      "Test:21, Cost:67.74300\n",
      "Pass:22, Cost:247.59818\n",
      "Test:22, Cost:36.11866\n",
      "Pass:23, Cost:258.48285\n",
      "Test:23, Cost:38.40296\n",
      "Pass:24, Cost:114.85370\n",
      "Test:24, Cost:50.90054\n",
      "Pass:25, Cost:55.12844\n",
      "Test:25, Cost:6.54594\n",
      "Pass:26, Cost:143.87961\n",
      "Test:26, Cost:46.45713\n",
      "Pass:27, Cost:142.13885\n",
      "Test:27, Cost:18.17056\n",
      "Pass:28, Cost:77.14691\n",
      "Test:28, Cost:131.34084\n",
      "Pass:29, Cost:167.49857\n",
      "Test:29, Cost:3.43822\n",
      "Pass:30, Cost:155.80420\n",
      "Test:30, Cost:21.86196\n",
      "Pass:31, Cost:210.95010\n",
      "Test:31, Cost:38.30256\n",
      "Pass:32, Cost:90.62512\n",
      "Test:32, Cost:5.81096\n",
      "Pass:33, Cost:142.50238\n",
      "Test:33, Cost:14.05730\n",
      "Pass:34, Cost:67.51690\n",
      "Test:34, Cost:22.31062\n",
      "Pass:35, Cost:184.37093\n",
      "Test:35, Cost:15.10582\n",
      "Pass:36, Cost:103.98710\n",
      "Test:36, Cost:1.44727\n",
      "Pass:37, Cost:156.53316\n",
      "Test:37, Cost:16.78845\n",
      "Pass:38, Cost:92.76711\n",
      "Test:38, Cost:9.78246\n",
      "Pass:39, Cost:191.56906\n",
      "Test:39, Cost:31.97889\n",
      "Pass:40, Cost:20.47150\n",
      "Test:40, Cost:1.12373\n",
      "Pass:41, Cost:14.42315\n",
      "Test:41, Cost:23.58505\n",
      "Pass:42, Cost:22.06495\n",
      "Test:42, Cost:0.19174\n",
      "Pass:43, Cost:187.95390\n",
      "Test:43, Cost:17.40328\n",
      "Pass:44, Cost:71.95889\n",
      "Test:44, Cost:21.40747\n",
      "Pass:45, Cost:60.38462\n",
      "Test:45, Cost:22.31993\n",
      "Pass:46, Cost:94.61147\n",
      "Test:46, Cost:2.05666\n",
      "Pass:47, Cost:111.30486\n",
      "Test:47, Cost:95.91910\n",
      "Pass:48, Cost:76.38799\n",
      "Test:48, Cost:7.88724\n",
      "Pass:49, Cost:78.31786\n",
      "Test:49, Cost:0.24074\n",
      "save models to /home/aistudio/work/fit_a_line.inference.model\n"
     ]
    },
    {
     "data": {
      "image/png": "[encoded data removed]",
      "text/plain": [
       "<Figure size 432x288 with 1 Axes>"
      ]
     },
     "metadata": {},
     "output_type": "display_data"
    }
   ],
   "source": [
    "\r\n",
    "EPOCH_NUM=50\r\n",
    "model_save_dir = \"/home/aistudio/work/fit_a_line.inference.model\"\r\n",
    "\r\n",
    "for pass_id in range(EPOCH_NUM):                                  #训练EPOCH_NUM轮\r\n",
    "    # 开始训练并输出最后一个batch的损失值\r\n",
    "    train_cost = 0\r\n",
    "    for batch_id, data in enumerate(train_reader()):              #遍历train_reader迭代器\r\n",
    "        train_cost = exe.run(program=fluid.default_main_program(),#运行主程序\r\n",
    "                             feed=feeder.feed(data),              #喂入一个batch的训练数据，根据feed_list和data提供的信息，将输入数据转成一种特殊的数据结构\r\n",
    "                             fetch_list=[avg_cost])    \r\n",
    "        if batch_id % 40 == 0:\r\n",
    "            print(\"Pass:%d, Cost:%0.5f\" % (pass_id, train_cost[0][0]))    #打印最后一个batch的损失值\r\n",
    "        iter=iter+BATCH_SIZE\r\n",
    "        iters.append(iter)\r\n",
    "        train_costs.append(train_cost[0][0])\r\n",
    "       \r\n",
    "   \r\n",
    "    # 开始测试并输出最后一个batch的损失值\r\n",
    "    test_cost = 0\r\n",
    "    for batch_id, data in enumerate(test_reader()):               #遍历test_reader迭代器\r\n",
    "        test_cost= exe.run(program=test_program, #运行测试cheng\r\n",
    "                            feed=feeder.feed(data),               #喂入一个batch的测试数据\r\n",
    "                            fetch_list=[avg_cost])                #fetch均方误差\r\n",
    "    print('Test:%d, Cost:%0.5f' % (pass_id, test_cost[0][0]))     #打印最后一个batch的损失值\r\n",
    "    \r\n",
    "    #保存模型\r\n",
    "    # 如果保存路径不存在就创建\r\n",
    "if not os.path.exists(model_save_dir):\r\n",
    "    os.makedirs(model_save_dir)\r\n",
    "print ('save models to %s' % (model_save_dir))\r\n",
    "#保存训练参数到指定路径中，构建一个专门用预测的program\r\n",
    "fluid.io.save_inference_model(model_save_dir,   #保存推理model的路径\r\n",
    "                                  ['x'],            #推理（inference）需要 feed 的数据\r\n",
    "                                  [y_predict],      #保存推理（inference）结果的 Variables\r\n",
    "                                  exe)              #exe 保存 inference model\r\n",
    "draw_train_process(iters,train_costs)"
   ]
  },
  {
   "cell_type": "code",
   "execution_count": 43,
   "metadata": {
    "collapsed": false
   },
   "outputs": [],
   "source": [
    "infer_exe = fluid.Executor(place)    #创建推测用的executor\r\n",
    "inference_scope = fluid.core.Scope() #Scope指定作用域"
   ]
  },
  {
   "cell_type": "code",
   "execution_count": 44,
   "metadata": {
    "collapsed": false
   },
   "outputs": [],
   "source": [
    "infer_results=[]\r\n",
    "groud_truths=[]\r\n",
    "\r\n",
    "#绘制真实值和预测值对比图\r\n",
    "def draw_infer_result(groud_truths,infer_results):\r\n",
    "    title='Boston'\r\n",
    "    plt.title(title, fontsize=24)\r\n",
    "    x = np.arange(1,20) \r\n",
    "    y = x\r\n",
    "    plt.plot(x, y)\r\n",
    "    plt.xlabel('ground truth', fontsize=14)\r\n",
    "    plt.ylabel('infer result', fontsize=14)\r\n",
    "    plt.scatter(groud_truths, infer_results,color='green',label='training cost') \r\n",
    "    plt.grid()\r\n",
    "    plt.show()"
   ]
  },
  {
   "cell_type": "code",
   "execution_count": 45,
   "metadata": {
    "collapsed": false
   },
   "outputs": [
    {
     "name": "stdout",
     "output_type": "stream",
     "text": [
      "infer results: (House Price)\n",
      "0: 13.43\n",
      "1: 13.49\n",
      "2: 13.35\n",
      "3: 14.62\n",
      "4: 13.86\n",
      "5: 14.15\n",
      "6: 13.25\n",
      "7: 13.42\n",
      "8: 11.67\n",
      "9: 13.43\n",
      "10: 11.19\n",
      "11: 12.58\n",
      "12: 13.12\n",
      "13: 12.73\n",
      "14: 12.30\n",
      "15: 13.54\n",
      "16: 14.63\n",
      "17: 14.54\n",
      "18: 14.69\n",
      "19: 13.22\n",
      "20: 13.67\n",
      "21: 12.69\n",
      "22: 14.07\n",
      "23: 13.50\n",
      "24: 13.68\n",
      "25: 13.19\n",
      "26: 14.05\n",
      "27: 13.98\n",
      "28: 14.70\n",
      "29: 13.98\n",
      "30: 13.76\n",
      "31: 13.40\n",
      "32: 13.32\n",
      "33: 12.47\n",
      "34: 12.30\n",
      "35: 14.16\n",
      "36: 14.16\n",
      "37: 14.62\n",
      "38: 14.78\n",
      "39: 14.65\n",
      "40: 13.51\n",
      "41: 13.01\n",
      "42: 14.49\n",
      "43: 14.79\n",
      "44: 14.73\n",
      "45: 14.40\n",
      "46: 13.55\n",
      "47: 14.84\n",
      "48: 14.94\n",
      "49: 15.25\n",
      "50: 13.45\n",
      "51: 13.73\n",
      "52: 13.29\n",
      "53: 13.47\n",
      "54: 14.68\n",
      "55: 15.18\n",
      "56: 14.69\n",
      "57: 15.25\n",
      "58: 15.35\n",
      "59: 15.57\n",
      "60: 15.74\n",
      "61: 15.55\n",
      "62: 13.66\n",
      "63: 14.62\n",
      "64: 15.20\n",
      "65: 15.67\n",
      "66: 15.48\n",
      "67: 15.75\n",
      "68: 15.82\n",
      "69: 16.12\n",
      "70: 14.62\n",
      "71: 14.30\n",
      "72: 15.16\n",
      "73: 13.92\n",
      "74: 14.91\n",
      "75: 15.32\n",
      "76: 16.27\n",
      "77: 16.51\n",
      "78: 16.67\n",
      "79: 16.52\n",
      "80: 16.11\n",
      "81: 16.41\n",
      "82: 15.61\n",
      "83: 16.08\n",
      "84: 15.82\n",
      "85: 15.13\n",
      "86: 14.54\n",
      "87: 15.93\n",
      "88: 16.50\n",
      "89: 20.48\n",
      "90: 20.62\n",
      "91: 20.47\n",
      "92: 19.52\n",
      "93: 20.19\n",
      "94: 20.39\n",
      "95: 19.94\n",
      "96: 20.10\n",
      "97: 21.51\n",
      "98: 21.26\n",
      "99: 21.61\n",
      "100: 21.52\n",
      "101: 21.26\n",
      "ground truth:\n",
      "0: 8.50\n",
      "1: 5.00\n",
      "2: 11.90\n",
      "3: 27.90\n",
      "4: 17.20\n",
      "5: 27.50\n",
      "6: 15.00\n",
      "7: 17.20\n",
      "8: 17.90\n",
      "9: 16.30\n",
      "10: 7.00\n",
      "11: 7.20\n",
      "12: 7.50\n",
      "13: 10.40\n",
      "14: 8.80\n",
      "15: 8.40\n",
      "16: 16.70\n",
      "17: 14.20\n",
      "18: 20.80\n",
      "19: 13.40\n",
      "20: 11.70\n",
      "21: 8.30\n",
      "22: 10.20\n",
      "23: 10.90\n",
      "24: 11.00\n",
      "25: 9.50\n",
      "26: 14.50\n",
      "27: 14.10\n",
      "28: 16.10\n",
      "29: 14.30\n",
      "30: 11.70\n",
      "31: 13.40\n",
      "32: 9.60\n",
      "33: 8.70\n",
      "34: 8.40\n",
      "35: 12.80\n",
      "36: 10.50\n",
      "37: 17.10\n",
      "38: 18.40\n",
      "39: 15.40\n",
      "40: 10.80\n",
      "41: 11.80\n",
      "42: 14.90\n",
      "43: 12.60\n",
      "44: 14.10\n",
      "45: 13.00\n",
      "46: 13.40\n",
      "47: 15.20\n",
      "48: 16.10\n",
      "49: 17.80\n",
      "50: 14.90\n",
      "51: 14.10\n",
      "52: 12.70\n",
      "53: 13.50\n",
      "54: 14.90\n",
      "55: 20.00\n",
      "56: 16.40\n",
      "57: 17.70\n",
      "58: 19.50\n",
      "59: 20.20\n",
      "60: 21.40\n",
      "61: 19.90\n",
      "62: 19.00\n",
      "63: 19.10\n",
      "64: 19.10\n",
      "65: 20.10\n",
      "66: 19.90\n",
      "67: 19.60\n",
      "68: 23.20\n",
      "69: 29.80\n",
      "70: 13.80\n",
      "71: 13.30\n",
      "72: 16.70\n",
      "73: 12.00\n",
      "74: 14.60\n",
      "75: 21.40\n",
      "76: 23.00\n",
      "77: 23.70\n",
      "78: 25.00\n",
      "79: 21.80\n",
      "80: 20.60\n",
      "81: 21.20\n",
      "82: 19.10\n",
      "83: 20.60\n",
      "84: 15.20\n",
      "85: 7.00\n",
      "86: 8.10\n",
      "87: 13.60\n",
      "88: 20.10\n",
      "89: 21.80\n",
      "90: 24.50\n",
      "91: 23.10\n",
      "92: 19.70\n",
      "93: 18.30\n",
      "94: 21.20\n",
      "95: 17.50\n",
      "96: 16.80\n",
      "97: 22.40\n",
      "98: 20.60\n",
      "99: 23.90\n",
      "100: 22.00\n",
      "101: 11.90\n"
     ]
    },
    {
     "name": "stderr",
     "output_type": "stream",
     "text": [
      "/opt/conda/envs/python35-paddle120-env/lib/python3.7/site-packages/ipykernel_launcher.py:9: DeprecationWarning: \u001b[93m\n",
      "Warning:\n",
      "API \"paddle.dataset.uci_housing.test\" is deprecated since 2.0.0, and will be removed in future versions. Please use \"paddle.text.datasets.UCIHousing\" instead.\n",
      "reason: Please use new dataset API which supports paddle.io.DataLoader \u001b[0m\n",
      "  if __name__ == '__main__':\n"
     ]
    },
    {
     "data": {
      "image/png": "[encoded data removed]",
      "text/plain": [
       "<Figure size 432x288 with 1 Axes>"
      ]
     },
     "metadata": {},
     "output_type": "display_data"
    }
   ],
   "source": [
    "with fluid.scope_guard(inference_scope):#修改全局/默认作用域（scope）, 运行时中的所有变量都将分配给新的scope。\r\n",
    "    #从指定目录中加载 推理model(inference model)\r\n",
    "    [inference_program,                             #推理的program\r\n",
    "     feed_target_names,                             #需要在推理program中提供数据的变量名称\r\n",
    "     fetch_targets] = fluid.io.load_inference_model(#fetch_targets: 推断结果\r\n",
    "                                    model_save_dir, #model_save_dir:模型训练路径 \r\n",
    "                                    infer_exe)      #infer_exe: 预测用executor\r\n",
    "    #获取预测数据\r\n",
    "    infer_reader = paddle.batch(paddle.dataset.uci_housing.test(),  #获取uci_housing的测试数据\r\n",
    "                          batch_size=200)                           #从测试数据中读取一个大小为200的batch数据\r\n",
    "    #从test_reader中分割x\r\n",
    "    test_data = next(infer_reader())\r\n",
    "    test_x = np.array([data[0] for data in test_data]).astype(\"float32\")\r\n",
    "    test_y= np.array([data[1] for data in test_data]).astype(\"float32\")\r\n",
    "    results = infer_exe.run(inference_program,                              #预测模型\r\n",
    "                            feed={feed_target_names[0]: np.array(test_x)},  #喂入要预测的x值\r\n",
    "                            fetch_list=fetch_targets)                       #得到推测结果 \r\n",
    "                            \r\n",
    "    print(\"infer results: (House Price)\")\r\n",
    "    for idx, val in enumerate(results[0]):\r\n",
    "        print(\"%d: %.2f\" % (idx, val))\r\n",
    "        infer_results.append(val)\r\n",
    "    print(\"ground truth:\")\r\n",
    "    for idx, val in enumerate(test_y):\r\n",
    "        print(\"%d: %.2f\" % (idx, val))\r\n",
    "        groud_truths.append(val)\r\n",
    "    draw_infer_result(groud_truths,infer_results)"
   ]
  }
 ],
 "metadata": {
  "kernelspec": {
   "display_name": "PaddlePaddle 2.1.0 (Python 3.5)",
   "language": "python",
   "name": "py35-paddle1.2.0"
  },
  "language_info": {
   "codemirror_mode": {
    "name": "ipython",
    "version": 3
   },
   "file_extension": ".py",
   "mimetype": "text/x-python",
   "name": "python",
   "nbconvert_exporter": "python",
   "pygments_lexer": "ipython3",
   "version": "3.7.4"
  }
 },
 "nbformat": 4,
 "nbformat_minor": 1
}
