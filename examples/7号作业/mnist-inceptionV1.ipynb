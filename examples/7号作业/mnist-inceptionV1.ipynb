{
 "cells": [
  {
   "cell_type": "code",
   "execution_count": 7,
   "metadata": {},
   "outputs": [],
   "source": [
    "import torch\n",
    "import torchvision\n",
    "import torch.nn as nn\n",
    "import torch.nn.functional as F\n",
    "import torch.optim as optim\n",
    "from torchvision import transforms, datasets\n",
    "from torch.utils.data import Dataset, DataLoader"
   ]
  },
  {
   "cell_type": "code",
   "execution_count": 8,
   "metadata": {},
   "outputs": [],
   "source": [
    "transform = transforms.Compose([       \n",
    "    transforms.ToTensor(),        \n",
    "    transforms.Normalize((0.5,0.5,0.5), (0.5,0.5,0.5))   #将每个元素分布到（-1，1），由于彩色图像为三通道所以均值和方差均为1*3\n",
    "])\n",
    "\n",
    "batch_size = 64 \n",
    "\n",
    "#设置参数\n",
    "batch_size_train = 64#训练集每批次加载64张图片\n",
    "batch_size_test = 1000#测试集每批次加载1000张图片\n",
    "learning_rate = 0.01#学习率，默认为0.01\n",
    "momentum = 0.5#动量参数，加入动量参数（1）不仅考虑了当前的梯度下降的方向，还综合考虑了上次更新的情况，使得学习器学习过程的幅度和角度不会太尖锐，特别是遇到来回抖动的情况时大有好转。\n",
    "#（2）当遇到局部极小值时，因为设置了惯性，所以可能可以冲出局部最小值，这样就更可能找到一个全局最小值。\n",
    "log_interval = 10#运行10批次打印一次结果"
   ]
  },
  {
   "cell_type": "code",
   "execution_count": 13,
   "metadata": {},
   "outputs": [
    {
     "name": "stdout",
     "output_type": "stream",
     "text": [
      "Downloading http://yann.lecun.com/exdb/mnist/train-images-idx3-ubyte.gz\n",
      "Downloading http://yann.lecun.com/exdb/mnist/train-images-idx3-ubyte.gz to ./data\\MNIST\\raw\\train-images-idx3-ubyte.gz\n"
     ]
    },
    {
     "data": {
      "application/vnd.jupyter.widget-view+json": {
       "model_id": "3ca3a12b1a084f719394b1adae98b29d",
       "version_major": 2,
       "version_minor": 0
      },
      "text/plain": [
       "HBox(children=(FloatProgress(value=0.0, max=9912422.0), HTML(value='')))"
      ]
     },
     "metadata": {},
     "output_type": "display_data"
    },
    {
     "name": "stdout",
     "output_type": "stream",
     "text": [
      "\n",
      "Extracting ./data\\MNIST\\raw\\train-images-idx3-ubyte.gz to ./data\\MNIST\\raw\n",
      "\n",
      "Downloading http://yann.lecun.com/exdb/mnist/train-labels-idx1-ubyte.gz\n",
      "Downloading http://yann.lecun.com/exdb/mnist/train-labels-idx1-ubyte.gz to ./data\\MNIST\\raw\\train-labels-idx1-ubyte.gz\n"
     ]
    },
    {
     "data": {
      "application/vnd.jupyter.widget-view+json": {
       "model_id": "a6b3b9d7d687419984ec169258d1761c",
       "version_major": 2,
       "version_minor": 0
      },
      "text/plain": [
       "HBox(children=(FloatProgress(value=0.0, max=28881.0), HTML(value='')))"
      ]
     },
     "metadata": {},
     "output_type": "display_data"
    },
    {
     "name": "stdout",
     "output_type": "stream",
     "text": [
      "\n",
      "Extracting ./data\\MNIST\\raw\\train-labels-idx1-ubyte.gz to ./data\\MNIST\\raw\n",
      "\n",
      "Downloading http://yann.lecun.com/exdb/mnist/t10k-images-idx3-ubyte.gz\n",
      "Downloading http://yann.lecun.com/exdb/mnist/t10k-images-idx3-ubyte.gz to ./data\\MNIST\\raw\\t10k-images-idx3-ubyte.gz\n"
     ]
    },
    {
     "data": {
      "application/vnd.jupyter.widget-view+json": {
       "model_id": "6ccb6e84842e4e6a8208e2ab52478747",
       "version_major": 2,
       "version_minor": 0
      },
      "text/plain": [
       "HBox(children=(FloatProgress(value=0.0, max=1648877.0), HTML(value='')))"
      ]
     },
     "metadata": {},
     "output_type": "display_data"
    },
    {
     "name": "stdout",
     "output_type": "stream",
     "text": [
      "\n",
      "Extracting ./data\\MNIST\\raw\\t10k-images-idx3-ubyte.gz to ./data\\MNIST\\raw\n",
      "\n",
      "Downloading http://yann.lecun.com/exdb/mnist/t10k-labels-idx1-ubyte.gz\n",
      "Downloading http://yann.lecun.com/exdb/mnist/t10k-labels-idx1-ubyte.gz to ./data\\MNIST\\raw\\t10k-labels-idx1-ubyte.gz\n"
     ]
    },
    {
     "data": {
      "application/vnd.jupyter.widget-view+json": {
       "model_id": "f03ba113954740659a54865ee2528d55",
       "version_major": 2,
       "version_minor": 0
      },
      "text/plain": [
       "HBox(children=(FloatProgress(value=0.0, max=4542.0), HTML(value='')))"
      ]
     },
     "metadata": {},
     "output_type": "display_data"
    },
    {
     "name": "stdout",
     "output_type": "stream",
     "text": [
      "\n",
      "Extracting ./data\\MNIST\\raw\\t10k-labels-idx1-ubyte.gz to ./data\\MNIST\\raw\n",
      "\n",
      "Processing...\n",
      "Done!\n",
      "10\n",
      "938\n"
     ]
    },
    {
     "name": "stderr",
     "output_type": "stream",
     "text": [
      "D:\\anaconda\\lib\\site-packages\\torchvision\\datasets\\mnist.py:502: UserWarning: The given NumPy array is not writeable, and PyTorch does not support non-writeable tensors. This means you can write to the underlying (supposedly non-writeable) NumPy array using the tensor. You may want to copy the array to protect its data or make it writeable before converting it to a tensor. This type of warning will be suppressed for the rest of this program. (Triggered internally at  ..\\torch\\csrc\\utils\\tensor_numpy.cpp:143.)\n",
      "  return torch.from_numpy(parsed.astype(m[2], copy=False)).view(*s)\n"
     ]
    }
   ],
   "source": [
    "#准备数据集\n",
    "train_loader = torch.utils.data.DataLoader(\n",
    "    torchvision.datasets.MNIST('./data',train=True,download=True,\n",
    "                               transform=torchvision.transforms.Compose([\n",
    "                               torchvision.transforms.ToTensor(),\n",
    "                               torchvision.transforms.Normalize(\n",
    "                                 (0.1307,), (0.3081,))\n",
    "                             ])),\n",
    "  batch_size=batch_size_train, shuffle=True)\n",
    "test_loader = torch.utils.data.DataLoader(\n",
    "    torchvision.datasets.MNIST('./data',train=False,download=True,\n",
    "                               transform=torchvision.transforms.Compose([\n",
    "                               torchvision.transforms.ToTensor(),\n",
    "                               torchvision.transforms.Normalize(\n",
    "                                 (0.1307,), (0.3081,))\n",
    "                             ])),\n",
    "  batch_size=batch_size_test, shuffle=True)\n",
    "print(len(test_loader))\n",
    "print(len(train_loader))"
   ]
  },
  {
   "cell_type": "code",
   "execution_count": 14,
   "metadata": {},
   "outputs": [],
   "source": [
    "class InceptionA(nn.Module):     #定义inception模块\n",
    "    def __init__(self, in_channels):       #定义网络的四条支路，结构并联\n",
    "        super(InceptionA, self).__init__()\n",
    "        self.submodel1 = nn.Sequential(\n",
    "            nn.Conv2d(in_channels=in_channels, out_channels=16, kernel_size=1),\n",
    "            nn.Conv2d(in_channels=16, out_channels=24, kernel_size=3,  padding=1),\n",
    "            nn.Conv2d(in_channels=24, out_channels=24, kernel_size=3, padding=1)\n",
    "        )\n",
    "        self.submodel2 = nn.Sequential(\n",
    "            nn.Conv2d(in_channels=in_channels, out_channels=16, kernel_size=1),\n",
    "            nn.Conv2d(in_channels=16, out_channels=24, kernel_size=5,  padding=2)\n",
    "        )\n",
    "        self.submodel3 = nn.Conv2d(in_channels=in_channels, out_channels=16, kernel_size=1)\n",
    "            \n",
    "        self.branch_pool=nn.Conv2d(in_channels=in_channels, out_channels=24, kernel_size=1) \n",
    "\n",
    "    def forward(self, x):     #定义网络的前向传播\n",
    "        x1 = self.submodel1(x)      #每一个分支的输出\n",
    "        x2 = self.submodel2(x)\n",
    "        x3 = self.submodel3(x)\n",
    "        x4 = F.avg_pool2d(x,kernel_size=3,stride=1,padding=1)\n",
    "        x4 = self.branch_pool(x4)\n",
    "\n",
    "        return torch.cat([x1, x2, x3, x4], dim=1)       #返回四个分支的结果的堆叠\n",
    "\n",
    "\n",
    "class Model(nn.Module):\n",
    "    def __init__(self):\n",
    "        super(Model, self).__init__()\n",
    "        self.conv1=nn.Conv2d(1,10,5)\n",
    "        self.conv2=nn.Conv2d(88,20,5)\n",
    "\n",
    "        self.incep1=InceptionA(in_channels=10)\n",
    "        self.incep2=InceptionA(in_channels=20)\n",
    "\n",
    "        self.mp=nn.MaxPool2d(2)\n",
    "        self.fc=nn.Linear(1408,10)\n",
    "\n",
    "    def forward(self, x):   \n",
    "        x=F.relu(self.mp(self.conv1(x)))\n",
    "        x=self.incep1(x)\n",
    "        x = F.relu(self.mp(self.conv2(x)))\n",
    "        x = self.incep2(x)\n",
    "        x = x.view(x.size(0), -1)\n",
    "        x = self.fc(x)       \n",
    "        return x"
   ]
  },
  {
   "cell_type": "code",
   "execution_count": 15,
   "metadata": {},
   "outputs": [],
   "source": [
    "# --------------------------------------网络实例化---------------------------------------------------------------------- #\n",
    "model = Model()\n",
    "optimizer = optim.SGD(model.parameters(), lr=0.01, momentum=0.5)   #学习率为0.01  动量为0.5\n",
    "loss_function = nn.CrossEntropyLoss()    #交叉熵损失函数\n"
   ]
  },
  {
   "cell_type": "code",
   "execution_count": 16,
   "metadata": {},
   "outputs": [
    {
     "name": "stdout",
     "output_type": "stream",
     "text": [
      "epoch 1\n",
      "TRAIN:   accurary:55.37846481876333   loss:0.4225074297575745\n",
      "TEST :   accurary:962.7   loss:0.11771464720368385\n",
      "epoch 2\n",
      "TRAIN:   accurary:61.78784648187633   loss:0.11122795022519699\n",
      "TEST :   accurary:976.3   loss:0.0742361642420292\n",
      "epoch 3\n",
      "TRAIN:   accurary:62.3134328358209   loss:0.08225146114358556\n",
      "TEST :   accurary:981.0   loss:0.059786389395594594\n",
      "epoch 4\n",
      "TRAIN:   accurary:62.61620469083156   loss:0.06758729471956124\n",
      "TEST :   accurary:981.5   loss:0.05560806356370449\n",
      "epoch 5\n",
      "TRAIN:   accurary:62.79317697228145   loss:0.05884807745440563\n",
      "TEST :   accurary:984.1   loss:0.04876693375408649\n",
      "saved\n"
     ]
    }
   ],
   "source": [
    "# -----------------------------训练------------------------------------------------------------------------- #\n",
    "epoch_size = 5\n",
    "\n",
    "for epoch in range(epoch_size):\n",
    "    print('epoch',epoch+1)\n",
    "    model.train()\n",
    "    train_acc = 0             #参数初始化\n",
    "    train_loss = 0\n",
    "    test_acc = 0\n",
    "    test_loss = 0\n",
    "    for batch_idx, (data, label) in enumerate(train_loader):\n",
    "        data = data\n",
    "        label = label\n",
    "\n",
    "        out = model(data)\n",
    "\n",
    "        loss = loss_function(out, label)\n",
    "        optimizer.zero_grad()\n",
    "        loss.backward()\n",
    "        optimizer.step()\n",
    "        train_loss += loss.item()\n",
    "        prediction = torch.argmax(out, dim=1)\n",
    "        train_acc += torch.sum(prediction.eq(label)).item()     #用于计算训练集准确率\n",
    "\n",
    "    with torch.no_grad():\n",
    "        model.eval()\n",
    "        for batch_idx, (data, label) in enumerate(test_loader):\n",
    "            data = data\n",
    "            label = label\n",
    "\n",
    "            out = model(data)\n",
    "            loss = loss_function(out, label)\n",
    "            prediction = torch.argmax(out, dim=1)\n",
    "            test_acc += torch.sum(prediction.eq(label)).item()      #用于计算测试集准确率\n",
    "            test_loss += loss.item()\n",
    "\n",
    "    train_acc /= len(train_loader)\n",
    "    train_loss /= len(train_loader)\n",
    "    test_acc /= len(test_loader)\n",
    "    test_loss /= len(test_loader)\n",
    "\n",
    "    \n",
    "    print('TRAIN:   accurary:{}   loss:{}'.format(train_acc, train_loss))\n",
    "    print('TEST :   accurary:{}   loss:{}'.format(test_acc, test_loss))\n",
    "\n",
    "torch.save(model, './model6.pkl')     #模型保存\n",
    "print('saved')"
   ]
  },
  {
   "cell_type": "code",
   "execution_count": null,
   "metadata": {},
   "outputs": [],
   "source": []
  },
  {
   "cell_type": "code",
   "execution_count": null,
   "metadata": {},
   "outputs": [],
   "source": []
  },
  {
   "cell_type": "code",
   "execution_count": null,
   "metadata": {},
   "outputs": [],
   "source": []
  }
 ],
 "metadata": {
  "kernelspec": {
   "display_name": "Python 3",
   "language": "python",
   "name": "python3"
  },
  "language_info": {
   "codemirror_mode": {
    "name": "ipython",
    "version": 3
   },
   "file_extension": ".py",
   "mimetype": "text/x-python",
   "name": "python",
   "nbconvert_exporter": "python",
   "pygments_lexer": "ipython3",
   "version": "3.8.3"
  }
 },
 "nbformat": 4,
 "nbformat_minor": 4
}
