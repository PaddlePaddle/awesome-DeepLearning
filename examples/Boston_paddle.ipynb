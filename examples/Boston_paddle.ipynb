{
 "cells": [
  {
   "cell_type": "markdown",
   "metadata": {
    "collapsed": false
   },
   "source": [
    "**导入必要的包**\n",
    "\n",
    "**paddle.fluid**--->PaddlePaddle深度学习框架\n",
    "\n",
    "**numpy**---------->python基本库，用于科学计算\n",
    "\n",
    "**os**------------------>python的模块，可使用该模块对操作系统进行操作"
   ]
  },
  {
   "cell_type": "code",
   "execution_count": 1,
   "metadata": {
    "collapsed": false
   },
   "outputs": [],
   "source": [
    "import paddle.fluid as fluid\r\n",
    "import paddle\r\n",
    "import numpy as np\r\n",
    "import os\r\n"
   ]
  },
  {
   "cell_type": "markdown",
   "metadata": {
    "collapsed": false
   },
   "source": [
    " **数据准备。**\n",
    " "
   ]
  },
  {
   "cell_type": "code",
   "execution_count": 2,
   "metadata": {
    "collapsed": false
   },
   "outputs": [],
   "source": [
    "BUF_SIZE=500\r\n",
    "BATCH_SIZE=20\r\n",
    "\r\n",
    "#用于训练的数据提供器，每次从缓存中随机读取批次大小的数据\r\n",
    "train_reader = paddle.batch(\r\n",
    "    paddle.reader.shuffle(paddle.dataset.uci_housing.train(), \r\n",
    "                          buf_size=BUF_SIZE),                    \r\n",
    "    batch_size=BATCH_SIZE)   \r\n",
    "#用于测试的数据提供器，每次从缓存中随机读取批次大小的数据\r\n",
    "test_reader = paddle.batch(\r\n",
    "    paddle.reader.shuffle(paddle.dataset.uci_housing.test(),\r\n",
    "                          buf_size=BUF_SIZE),\r\n",
    "    batch_size=BATCH_SIZE)\r\n",
    "\r\n",
    "\r\n",
    "%matplotlib inline\r\n",
    "import matplotlib.pyplot as plt\r\n",
    "    "
   ]
  },
  {
   "cell_type": "markdown",
   "metadata": {
    "collapsed": false
   },
   "source": [
    "(3)打印看下数据是什么样的？PaddlePaddle接口提供的数据已经经过归一化等处理\n",
    "\n",
    "(array([-0.02964322, -0.11363636,  0.39417967, -0.06916996,  0.14260276,\n",
    "       -0.10109875,  0.30715859, -0.13176829, -0.24127857,  0.05489093,\n",
    "        0.29196451, -0.2368098 ,  0.12850267]), array([15.6])),"
   ]
  },
  {
   "cell_type": "code",
   "execution_count": 3,
   "metadata": {
    "collapsed": false
   },
   "outputs": [
    {
     "name": "stdout",
     "output_type": "stream",
     "text": [
      "(array([-0.0405441 ,  0.06636364, -0.32356227, -0.06916996, -0.03435197,\n",
      "        0.05563625, -0.03475696,  0.02682186, -0.37171335, -0.21419304,\n",
      "       -0.33569506,  0.10143217, -0.21172912]), array([24.]))\n"
     ]
    }
   ],
   "source": [
    "#用于打印，查看uci_housing数据\r\n",
    "train_data=paddle.dataset.uci_housing.train();\r\n",
    "sampledata=next(train_data())\r\n",
    "print(sampledata)"
   ]
  },
  {
   "cell_type": "markdown",
   "metadata": {
    "collapsed": false
   },
   "source": [
    "\n",
    "**网络搭建**：\n"
   ]
  },
  {
   "cell_type": "code",
   "execution_count": 4,
   "metadata": {
    "collapsed": false
   },
   "outputs": [],
   "source": [
    "#定义张量变量x，表示13维的特征值\r\n",
    "x = fluid.layers.data(name='x', shape=[13], dtype='float32')\r\n",
    "#定义张量y,表示目标值\r\n",
    "y = fluid.layers.data(name='y', shape=[1], dtype='float32')\r\n",
    "#定义一个简单的线性网络,连接输入和输出的全连接层\r\n",
    "#input:输入tensor;\r\n",
    "#size:该层输出单元的数目\r\n",
    "#act:激活函数\r\n",
    "y_predict=fluid.layers.fc(input=x,size=1,act=None)"
   ]
  },
  {
   "cell_type": "code",
   "execution_count": 5,
   "metadata": {
    "collapsed": false
   },
   "outputs": [],
   "source": [
    "cost = fluid.layers.square_error_cost(input=y_predict, label=y) #求一个batch的损失值，均方差损失\r\n",
    "avg_cost = fluid.layers.mean(cost)                              #对损失值求平均值"
   ]
  },
  {
   "cell_type": "code",
   "execution_count": 6,
   "metadata": {
    "collapsed": false
   },
   "outputs": [],
   "source": [
    "optimizer = fluid.optimizer.SGDOptimizer(learning_rate=0.001)\r\n",
    "opts = optimizer.minimize(avg_cost)#随机梯度下降"
   ]
  },
  {
   "cell_type": "code",
   "execution_count": 7,
   "metadata": {
    "collapsed": false
   },
   "outputs": [],
   "source": [
    "test_program = fluid.default_main_program().clone(for_test=True)"
   ]
  },
  {
   "cell_type": "markdown",
   "metadata": {
    "collapsed": false
   },
   "source": [
    " **模型训练评估** "
   ]
  },
  {
   "cell_type": "code",
   "execution_count": 8,
   "metadata": {
    "collapsed": false
   },
   "outputs": [
    {
     "data": {
      "text/plain": [
       "[]"
      ]
     },
     "execution_count": 8,
     "metadata": {},
     "output_type": "execute_result"
    }
   ],
   "source": [
    "\r\n",
    "use_cuda = False                         #use_cuda为False,表示运算场所为CPU;use_cuda为True,表示运算场所为GPU           \r\n",
    "place = fluid.CUDAPlace(0) if use_cuda else fluid.CPUPlace()\r\n",
    "exe = fluid.Executor(place)              #创建一个Executor实例exe\r\n",
    "exe.run(fluid.default_startup_program()) #Executor的run()方法执行startup_program(),进行参数初始化"
   ]
  },
  {
   "cell_type": "code",
   "execution_count": 9,
   "metadata": {
    "collapsed": false
   },
   "outputs": [],
   "source": [
    "# 定义输入数据维度\r\n",
    "feeder = fluid.DataFeeder(place=place, feed_list=[x, y])#feed_list:向模型输入的变量表或变量表名"
   ]
  },
  {
   "cell_type": "code",
   "execution_count": 10,
   "metadata": {
    "collapsed": false
   },
   "outputs": [],
   "source": [
    "iter=0;\r\n",
    "iters=[]\r\n",
    "train_costs=[]\r\n",
    "\r\n",
    "def draw_train_process(iters,train_costs):\r\n",
    "    title=\"training cost\"\r\n",
    "    plt.title(title, fontsize=24)\r\n",
    "    plt.xlabel(\"iter\", fontsize=14)\r\n",
    "    plt.ylabel(\"cost\", fontsize=14)\r\n",
    "    plt.plot(iters, train_costs,color='red',label='training cost') \r\n",
    "    plt.grid()\r\n",
    "    plt.show()"
   ]
  },
  {
   "cell_type": "code",
   "execution_count": 17,
   "metadata": {
    "collapsed": false
   },
   "outputs": [
    {
     "name": "stdout",
     "output_type": "stream",
     "text": [
      "Pass:0, Cost:49.17825\n",
      "Test:0, Cost:12.88026\n",
      "Pass:1, Cost:68.59180\n",
      "Test:1, Cost:34.34474\n",
      "Pass:2, Cost:50.74639\n",
      "Test:2, Cost:3.78723\n",
      "Pass:3, Cost:91.38164\n",
      "Test:3, Cost:5.56591\n",
      "Pass:4, Cost:89.80331\n",
      "Test:4, Cost:15.33361\n",
      "Pass:5, Cost:81.86373\n",
      "Test:5, Cost:6.44980\n",
      "Pass:6, Cost:35.84973\n",
      "Test:6, Cost:62.12038\n",
      "Pass:7, Cost:38.39153\n",
      "Test:7, Cost:5.18919\n",
      "Pass:8, Cost:14.11417\n",
      "Test:8, Cost:9.04340\n",
      "Pass:9, Cost:54.93052\n",
      "Test:9, Cost:3.06026\n",
      "Pass:10, Cost:45.85416\n",
      "Test:10, Cost:24.66337\n",
      "Pass:11, Cost:40.35839\n",
      "Test:11, Cost:4.67824\n",
      "Pass:12, Cost:18.17240\n",
      "Test:12, Cost:57.32441\n",
      "Pass:13, Cost:18.66378\n",
      "Test:13, Cost:18.86083\n",
      "Pass:14, Cost:29.03704\n",
      "Test:14, Cost:24.58334\n",
      "Pass:15, Cost:53.72470\n",
      "Test:15, Cost:7.77675\n",
      "Pass:16, Cost:25.71045\n",
      "Test:16, Cost:14.11803\n",
      "Pass:17, Cost:36.62064\n",
      "Test:17, Cost:57.35703\n",
      "Pass:18, Cost:71.98928\n",
      "Test:18, Cost:30.21002\n",
      "Pass:19, Cost:21.67063\n",
      "Test:19, Cost:13.48585\n",
      "Pass:20, Cost:62.06688\n",
      "Test:20, Cost:10.03267\n",
      "Pass:21, Cost:44.94549\n",
      "Test:21, Cost:5.85851\n",
      "Pass:22, Cost:77.11730\n",
      "Test:22, Cost:47.90348\n",
      "Pass:23, Cost:49.42997\n",
      "Test:23, Cost:5.28610\n",
      "Pass:24, Cost:39.88741\n",
      "Test:24, Cost:7.55515\n",
      "Pass:25, Cost:84.74679\n",
      "Test:25, Cost:3.57500\n",
      "Pass:26, Cost:32.27028\n",
      "Test:26, Cost:6.92307\n",
      "Pass:27, Cost:46.90720\n",
      "Test:27, Cost:16.83031\n",
      "Pass:28, Cost:36.21929\n",
      "Test:28, Cost:19.07747\n",
      "Pass:29, Cost:21.34069\n",
      "Test:29, Cost:6.83324\n",
      "Pass:30, Cost:65.64453\n",
      "Test:30, Cost:16.13153\n",
      "Pass:31, Cost:70.37923\n",
      "Test:31, Cost:81.87717\n",
      "Pass:32, Cost:49.75317\n",
      "Test:32, Cost:13.01724\n",
      "Pass:33, Cost:56.13381\n",
      "Test:33, Cost:10.00400\n",
      "Pass:34, Cost:78.48543\n",
      "Test:34, Cost:9.42380\n",
      "Pass:35, Cost:80.53268\n",
      "Test:35, Cost:67.79508\n",
      "Pass:36, Cost:53.69685\n",
      "Test:36, Cost:1.16335\n",
      "Pass:37, Cost:29.22080\n",
      "Test:37, Cost:14.71954\n",
      "Pass:38, Cost:36.75246\n",
      "Test:38, Cost:1.31829\n",
      "Pass:39, Cost:49.19537\n",
      "Test:39, Cost:20.94825\n",
      "Pass:40, Cost:71.22050\n",
      "Test:40, Cost:13.59686\n",
      "Pass:41, Cost:19.01839\n",
      "Test:41, Cost:12.19587\n",
      "Pass:42, Cost:32.66726\n",
      "Test:42, Cost:3.65015\n",
      "Pass:43, Cost:25.66767\n",
      "Test:43, Cost:5.65114\n",
      "Pass:44, Cost:46.27552\n",
      "Test:44, Cost:3.09719\n",
      "Pass:45, Cost:26.44534\n",
      "Test:45, Cost:19.74005\n",
      "Pass:46, Cost:32.51348\n",
      "Test:46, Cost:8.62786\n",
      "Pass:47, Cost:75.74725\n",
      "Test:47, Cost:6.36384\n",
      "Pass:48, Cost:41.48770\n",
      "Test:48, Cost:66.72197\n",
      "Pass:49, Cost:100.96402\n",
      "Test:49, Cost:62.45291\n",
      "save models to /home/aistudio/work/fit_a_line.inference.model\n"
     ]
    },
    {
     "data": {
      "image/png": "[encoded data removed]",
      "text/plain": [
       "<Figure size 432x288 with 1 Axes>"
      ]
     },
     "metadata": {},
     "output_type": "display_data"
    }
   ],
   "source": [
    "EPOCH_NUM=50\r\n",
    "model_save_dir = \"/home/aistudio/work/fit_a_line.inference.model\"\r\n",
    "\r\n",
    "for pass_id in range(EPOCH_NUM):                                  #训练EPOCH_NUM轮\r\n",
    "    # 开始训练并输出最后一个batch的损失值\r\n",
    "    train_cost = 0\r\n",
    "    for batch_id, data in enumerate(train_reader()):              #遍历train_reader迭代器\r\n",
    "        train_cost = exe.run(program=fluid.default_main_program(),#运行主程序\r\n",
    "                             feed=feeder.feed(data),              #喂入一个batch的训练数据，根据feed_list和data提供的信息，将输入数据转成一种特殊的数据结构\r\n",
    "                             fetch_list=[avg_cost])    \r\n",
    "        if batch_id % 40 == 0:\r\n",
    "            print(\"Pass:%d, Cost:%0.5f\" % (pass_id, train_cost[0][0]))    #打印最后一个batch的损失值\r\n",
    "        iter=iter+BATCH_SIZE\r\n",
    "        iters.append(iter)\r\n",
    "        train_costs.append(train_cost[0][0])\r\n",
    "       \r\n",
    "   \r\n",
    "    # 开始测试并输出最后一个batch的损失值\r\n",
    "    test_cost = 0\r\n",
    "    for batch_id, data in enumerate(test_reader()):               #遍历test_reader迭代器\r\n",
    "        test_cost= exe.run(program=test_program, #运行测试cheng\r\n",
    "                            feed=feeder.feed(data),               #喂入一个batch的测试数据\r\n",
    "                            fetch_list=[avg_cost])                #fetch均方误差\r\n",
    "    print('Test:%d, Cost:%0.5f' % (pass_id, test_cost[0][0]))     #打印最后一个batch的损失值\r\n",
    "    \r\n",
    "    #保存模型\r\n",
    "    # 如果保存路径不存在就创建\r\n",
    "if not os.path.exists(model_save_dir):\r\n",
    "    os.makedirs(model_save_dir)\r\n",
    "print ('save models to %s' % (model_save_dir))\r\n",
    "#保存训练参数到指定路径中，构建一个专门用预测的program\r\n",
    "fluid.io.save_inference_model(model_save_dir,   #保存推理model的路径\r\n",
    "                                  ['x'],            #推理（inference）需要 feed 的数据\r\n",
    "                                  [y_predict],      #保存推理（inference）结果的 Variables\r\n",
    "                                  exe)              #exe 保存 inference model\r\n",
    "draw_train_process(iters,train_costs)"
   ]
  },
  {
   "cell_type": "markdown",
   "metadata": {
    "collapsed": false
   },
   "source": [
    "\n",
    " **模型预测**\n"
   ]
  },
  {
   "cell_type": "code",
   "execution_count": 18,
   "metadata": {
    "collapsed": false
   },
   "outputs": [],
   "source": [
    "infer_exe = fluid.Executor(place)    #创建推测用的executor\r\n",
    "inference_scope = fluid.core.Scope() #Scope指定作用域"
   ]
  },
  {
   "cell_type": "code",
   "execution_count": 19,
   "metadata": {
    "collapsed": false
   },
   "outputs": [],
   "source": [
    "infer_results=[]\r\n",
    "groud_truths=[]\r\n",
    "\r\n",
    "#绘制真实值和预测值对比图\r\n",
    "def draw_infer_result(groud_truths, infer_results):\r\n",
    "    title='Boston'\r\n",
    "    plt.title(title, fontsize=24)\r\n",
    "    x = np.arange(1,20) \r\n",
    "    y = x\r\n",
    "    plt.plot(x, y)\r\n",
    "    plt.xlabel('ground truth', fontsize=14)\r\n",
    "    plt.ylabel('infer result', fontsize=14)\r\n",
    "    plt.scatter(groud_truths, infer_results, color='green',label='training cost') \r\n",
    "    plt.grid()\r\n",
    "    plt.show()"
   ]
  },
  {
   "cell_type": "code",
   "execution_count": 20,
   "metadata": {
    "collapsed": false
   },
   "outputs": [
    {
     "name": "stdout",
     "output_type": "stream",
     "text": [
      "infer results and ground truth: (House Price)\n",
      "0: infer:13.23   gt:8.50\n",
      "1: infer:14.23   gt:5.00\n",
      "2: infer:12.61   gt:11.90\n",
      "3: infer:16.67   gt:27.90\n",
      "4: infer:13.92   gt:17.20\n",
      "5: infer:16.33   gt:27.50\n",
      "6: infer:16.24   gt:15.00\n",
      "7: infer:15.32   gt:17.20\n",
      "8: infer:10.03   gt:17.90\n",
      "9: infer:14.17   gt:16.30\n",
      "10: infer:9.02   gt:7.00\n",
      "11: infer:13.03   gt:7.20\n",
      "12: infer:14.26   gt:7.50\n",
      "13: infer:12.55   gt:10.40\n",
      "14: infer:13.86   gt:8.80\n",
      "15: infer:15.03   gt:8.40\n",
      "16: infer:16.73   gt:16.70\n",
      "17: infer:16.16   gt:14.20\n",
      "18: infer:16.39   gt:20.80\n",
      "19: infer:14.17   gt:13.40\n",
      "20: infer:15.04   gt:11.70\n",
      "21: infer:13.32   gt:8.30\n",
      "22: infer:15.86   gt:10.20\n",
      "23: infer:15.85   gt:10.90\n",
      "24: infer:14.79   gt:11.00\n",
      "25: infer:14.17   gt:9.50\n",
      "26: infer:16.00   gt:14.50\n",
      "27: infer:16.06   gt:14.10\n",
      "28: infer:17.42   gt:16.10\n",
      "29: infer:15.93   gt:14.30\n",
      "30: infer:15.76   gt:11.70\n",
      "31: infer:14.56   gt:13.40\n",
      "32: infer:15.19   gt:9.60\n",
      "33: infer:12.94   gt:8.70\n",
      "34: infer:11.43   gt:8.40\n",
      "35: infer:14.37   gt:12.80\n",
      "36: infer:14.69   gt:10.50\n",
      "37: infer:15.92   gt:17.10\n",
      "38: infer:16.33   gt:18.40\n",
      "39: infer:16.14   gt:15.40\n",
      "40: infer:13.91   gt:10.80\n",
      "41: infer:14.01   gt:11.80\n",
      "42: infer:16.01   gt:14.90\n",
      "43: infer:16.37   gt:12.60\n",
      "44: infer:16.03   gt:14.10\n",
      "45: infer:15.81   gt:13.00\n",
      "46: infer:15.69   gt:13.40\n",
      "47: infer:16.58   gt:15.20\n",
      "48: infer:16.40   gt:16.10\n",
      "49: infer:17.73   gt:17.80\n",
      "50: infer:15.36   gt:14.90\n",
      "51: infer:15.49   gt:14.10\n",
      "52: infer:14.46   gt:12.70\n",
      "53: infer:14.86   gt:13.50\n",
      "54: infer:16.28   gt:14.90\n",
      "55: infer:16.72   gt:20.00\n",
      "56: infer:16.65   gt:16.40\n",
      "57: infer:17.08   gt:17.70\n",
      "58: infer:17.18   gt:19.50\n",
      "59: infer:18.10   gt:20.20\n",
      "60: infer:17.57   gt:21.40\n",
      "61: infer:16.83   gt:19.90\n",
      "62: infer:15.07   gt:19.00\n",
      "63: infer:15.45   gt:19.10\n",
      "64: infer:16.30   gt:19.10\n",
      "65: infer:17.01   gt:20.10\n",
      "66: infer:16.97   gt:19.90\n",
      "67: infer:17.85   gt:19.60\n",
      "68: infer:17.82   gt:23.20\n",
      "69: infer:18.99   gt:29.80\n",
      "70: infer:15.46   gt:13.80\n",
      "71: infer:14.99   gt:13.30\n",
      "72: infer:16.73   gt:16.70\n",
      "73: infer:13.76   gt:12.00\n",
      "74: infer:16.40   gt:14.60\n",
      "75: infer:17.59   gt:21.40\n",
      "76: infer:18.55   gt:23.00\n",
      "77: infer:19.69   gt:23.70\n",
      "78: infer:20.20   gt:25.00\n",
      "79: infer:18.19   gt:21.80\n",
      "80: infer:17.50   gt:20.60\n",
      "81: infer:18.52   gt:21.20\n",
      "82: infer:17.12   gt:19.10\n",
      "83: infer:17.93   gt:20.60\n",
      "84: infer:15.75   gt:15.20\n",
      "85: infer:14.26   gt:7.00\n",
      "86: infer:12.59   gt:8.10\n",
      "87: infer:16.31   gt:13.60\n",
      "88: infer:17.45   gt:20.10\n",
      "89: infer:21.89   gt:21.80\n",
      "90: infer:21.95   gt:24.50\n",
      "91: infer:20.89   gt:23.10\n",
      "92: infer:19.34   gt:19.70\n",
      "93: infer:21.31   gt:18.30\n",
      "94: infer:21.96   gt:21.20\n",
      "95: infer:20.86   gt:17.50\n",
      "96: infer:21.51   gt:16.80\n",
      "97: infer:22.89   gt:22.40\n",
      "98: infer:22.38   gt:20.60\n",
      "99: infer:24.02   gt:23.90\n",
      "100: infer:23.60   gt:22.00\n",
      "101: infer:22.45   gt:11.90\n"
     ]
    },
    {
     "data": {
      "image/png": "[encoded data removed]",
      "text/plain": [
       "<Figure size 432x288 with 1 Axes>"
      ]
     },
     "metadata": {},
     "output_type": "display_data"
    }
   ],
   "source": [
    "with fluid.scope_guard(inference_scope):#修改全局/默认作用域（scope）, 运行时中的所有变量都将分配给新的scope。\r\n",
    "    #从指定目录中加载 推理model(inference model)\r\n",
    "    [inference_program,                             #推理的program\r\n",
    "     feed_target_names,                             #需要在推理program中提供数据的变量名称\r\n",
    "     fetch_targets] = fluid.io.load_inference_model(#fetch_targets: 推断结果\r\n",
    "                                    model_save_dir, #model_save_dir:模型训练路径 \r\n",
    "                                    infer_exe)      #infer_exe: 预测用executor\r\n",
    "    #获取预测数据\r\n",
    "    infer_reader = paddle.batch(paddle.dataset.uci_housing.test(),  #获取uci_housing的测试数据\r\n",
    "                          batch_size=200)                           #从测试数据中读取一个大小为200的batch数据\r\n",
    "    #从test_reader中分割x\r\n",
    "    test_data = next(infer_reader())\r\n",
    "    test_x = np.array([data[0] for data in test_data]).astype(\"float32\")\r\n",
    "    test_y= np.array([data[1] for data in test_data]).astype(\"float32\")\r\n",
    "    results = infer_exe.run(inference_program,                              #预测模型\r\n",
    "                            feed={feed_target_names[0]: np.array(test_x)},  #喂入要预测的x值\r\n",
    "                            fetch_list=fetch_targets)                       #得到推测结果 \r\n",
    "                            \r\n",
    "    print(\"infer results and ground truth: (House Price)\")\r\n",
    "    for idx, val in enumerate(zip(results[0], test_y)):\r\n",
    "        print(\"%d: infer:%.2f   gt:%.2f\" % (idx, val[0], val[1]))\r\n",
    "        infer_results.append(val[0])\r\n",
    "        groud_truths.append(val[1])\r\n",
    "    draw_infer_result(groud_truths,infer_results)"
   ]
  },
  {
   "cell_type": "code",
   "execution_count": null,
   "metadata": {
    "collapsed": false
   },
   "outputs": [],
   "source": []
  }
 ],
 "metadata": {
  "kernelspec": {
   "display_name": "PaddlePaddle 1.8.0 (Python 3.5)",
   "language": "python",
   "name": "py35-paddle1.2.0"
  },
  "language_info": {
   "codemirror_mode": {
    "name": "ipython",
    "version": 3
   },
   "file_extension": ".py",
   "mimetype": "text/x-python",
   "name": "python",
   "nbconvert_exporter": "python",
   "pygments_lexer": "ipython3",
   "version": "3.7.4"
  }
 },
 "nbformat": 4,
 "nbformat_minor": 1
}
