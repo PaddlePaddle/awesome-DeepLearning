{
 "cells": [
  {
   "cell_type": "code",
   "execution_count": 1,
   "metadata": {
    "collapsed": false
   },
   "outputs": [
    {
     "name": "stdout",
     "output_type": "stream",
     "text": [
      "data10595  data17168\r\n"
     ]
    }
   ],
   "source": [
    "# 查看当前挂载的数据集目录, 该目录下的变更重启环境后会自动还原\n",
    "# View dataset directory. \n",
    "# This directory will be recovered automatically after resetting environment. \n",
    "!ls /home/aistudio/data"
   ]
  },
  {
   "cell_type": "code",
   "execution_count": 2,
   "metadata": {
    "collapsed": false
   },
   "outputs": [],
   "source": [
    "# 查看工作区文件, 该目录下的变更将会持久保存. 请及时清理不必要的文件, 避免加载过慢.\n",
    "# View personal work directory. \n",
    "# All changes under this directory will be kept even after reset. \n",
    "# Please clean unnecessary files in time to speed up environment loading. \n",
    "!ls /home/aistudio/work"
   ]
  },
  {
   "cell_type": "code",
   "execution_count": 3,
   "metadata": {
    "collapsed": false
   },
   "outputs": [
    {
     "name": "stdout",
     "output_type": "stream",
     "text": [
      "mkdir: cannot create directory ‘/home/aistudio/external-libraries’: File exists\n",
      "Looking in indexes: https://mirror.baidu.com/pypi/simple/\n",
      "Collecting beautifulsoup4\n",
      "\u001b[?25l  Downloading https://mirror.baidu.com/pypi/packages/d1/41/e6495bd7d3781cee623ce23ea6ac73282a373088fcd0ddc809a047b18eae/beautifulsoup4-4.9.3-py3-none-any.whl (115kB)\n",
      "\u001b[K     |████████████████████████████████| 122kB 15.2MB/s eta 0:00:01\n",
      "\u001b[?25hCollecting soupsieve>1.2; python_version >= \"3.0\" (from beautifulsoup4)\n",
      "  Downloading https://mirror.baidu.com/pypi/packages/36/69/d82d04022f02733bf9a72bc3b96332d360c0c5307096d76f6bb7489f7e57/soupsieve-2.2.1-py3-none-any.whl\n",
      "Installing collected packages: soupsieve, beautifulsoup4\n",
      "Successfully installed beautifulsoup4-4.9.3 soupsieve-2.2.1\n",
      "\u001b[33mWARNING: Target directory /home/aistudio/external-libraries/bs4 already exists. Specify --upgrade to force replacement.\u001b[0m\n",
      "\u001b[33mWARNING: Target directory /home/aistudio/external-libraries/soupsieve-2.2.1.dist-info already exists. Specify --upgrade to force replacement.\u001b[0m\n",
      "\u001b[33mWARNING: Target directory /home/aistudio/external-libraries/beautifulsoup4-4.9.3.dist-info already exists. Specify --upgrade to force replacement.\u001b[0m\n",
      "\u001b[33mWARNING: Target directory /home/aistudio/external-libraries/soupsieve already exists. Specify --upgrade to force replacement.\u001b[0m\n"
     ]
    }
   ],
   "source": [
    "# 如果需要进行持久化安装, 需要使用持久化路径, 如下方代码示例:\n",
    "# If a persistence installation is required, \n",
    "# you need to use the persistence path as the following: \n",
    "!mkdir /home/aistudio/external-libraries\n",
    "!pip install beautifulsoup4 -t /home/aistudio/external-libraries"
   ]
  },
  {
   "cell_type": "code",
   "execution_count": 4,
   "metadata": {
    "collapsed": false
   },
   "outputs": [],
   "source": [
    "# 同时添加如下代码, 这样每次环境(kernel)启动的时候只要运行下方代码即可: \n",
    "# Also add the following code, \n",
    "# so that every time the environment (kernel) starts, \n",
    "# just run the following code: \n",
    "import sys \n",
    "sys.path.append('/home/aistudio/external-libraries')"
   ]
  },
  {
   "cell_type": "code",
   "execution_count": 5,
   "metadata": {
    "collapsed": false
   },
   "outputs": [
    {
     "name": "stderr",
     "output_type": "stream",
     "text": [
      "/opt/conda/envs/python35-paddle120-env/lib/python3.7/site-packages/matplotlib/__init__.py:107: DeprecationWarning: Using or importing the ABCs from 'collections' instead of from 'collections.abc' is deprecated, and in 3.8 it will stop working\n",
      "  from collections import MutableMapping\n",
      "/opt/conda/envs/python35-paddle120-env/lib/python3.7/site-packages/matplotlib/rcsetup.py:20: DeprecationWarning: Using or importing the ABCs from 'collections' instead of from 'collections.abc' is deprecated, and in 3.8 it will stop working\n",
      "  from collections import Iterable, Mapping\n",
      "/opt/conda/envs/python35-paddle120-env/lib/python3.7/site-packages/matplotlib/colors.py:53: DeprecationWarning: Using or importing the ABCs from 'collections' instead of from 'collections.abc' is deprecated, and in 3.8 it will stop working\n",
      "  from collections import Sized\n"
     ]
    }
   ],
   "source": [
    "import paddle\r\n",
    "import paddle.nn as nn\r\n",
    "import numpy as np\r\n",
    "import matplotlib.pyplot as plt\r\n",
    "import paddle.nn.functional as F\r\n",
    "import random\r\n",
    "from paddle.nn import Linear, Conv2D, MaxPool2D\r\n",
    "import os\r\n",
    "from paddle.io import Dataset\r\n",
    "import json\r\n",
    "import gzip"
   ]
  },
  {
   "cell_type": "code",
   "execution_count": 6,
   "metadata": {
    "collapsed": false
   },
   "outputs": [],
   "source": [
    "# class MnistDataset(paddle.io.Dataset):\r\n",
    "#     def __init__(self, mode):\r\n",
    "#         datafile = './work/mnist.json.gz'\r\n",
    "#         data = json.load(gzip.open(datafile))\r\n",
    "#         # 读取到的数据区分训练集，验证集，测试集\r\n",
    "#         train_set, val_set, eval_set = data\r\n",
    "#         if mode=='train':\r\n",
    "#             # 获得训练数据集\r\n",
    "#             imgs, labels = train_set[0], train_set[1]\r\n",
    "#         elif mode=='valid':\r\n",
    "#             # 获得验证数据集\r\n",
    "#             imgs, labels = val_set[0], val_set[1]\r\n",
    "#         elif mode=='eval':\r\n",
    "#             # 获得测试数据集\r\n",
    "#             imgs, labels = eval_set[0], eval_set[1]\r\n",
    "#         else:\r\n",
    "#             raise Exception(\"mode can only be one of ['train', 'valid', 'eval']\")\r\n",
    "        \r\n",
    "#         # 校验数据\r\n",
    "#         imgs_length = len(imgs)\r\n",
    "#         assert len(imgs) == len(labels), \\\r\n",
    "#             \"length of train_imgs({}) should be the same as train_labels({})\".format(len(imgs), len(labels))\r\n",
    "        \r\n",
    "#         self.imgs = imgs\r\n",
    "#         self.labels = labels\r\n",
    "\r\n",
    "#     def __getitem__(self, idx):\r\n",
    "#         img = np.array(self.imgs[idx]).astype('float32')\r\n",
    "#         label = np.array(self.labels[idx]).astype('float32')\r\n",
    "        \r\n",
    "#         return img, label\r\n",
    "\r\n",
    "#     def __len__(self):\r\n",
    "#         return len(self.imgs)"
   ]
  },
  {
   "cell_type": "code",
   "execution_count": null,
   "metadata": {
    "collapsed": false
   },
   "outputs": [],
   "source": []
  },
  {
   "cell_type": "code",
   "execution_count": 7,
   "metadata": {
    "collapsed": false
   },
   "outputs": [],
   "source": [
    "\r\n",
    "# 定义数据集读取器\r\n",
    "def load_data(mode='train',BATCHSIZE = 100):\r\n",
    "    # 读取数据文件\r\n",
    "    datafile = './data/data17168/mnist.json.gz'\r\n",
    "    print('loading mnist dataset from {} ......'.format(datafile))\r\n",
    "    data = json.load(gzip.open(datafile))\r\n",
    "    # 读取数据集中的训练集，验证集和测试集\r\n",
    "    train_set, val_set, eval_set = data\r\n",
    "\r\n",
    "    # 数据集相关参数，图片高度IMG_ROWS, 图片宽度IMG_COLS\r\n",
    "    IMG_ROWS = 28\r\n",
    "    IMG_COLS = 28\r\n",
    "    # 根据输入mode参数决定使用训练集，验证集还是测试\r\n",
    "    if mode == 'train':\r\n",
    "        imgs = train_set[0]\r\n",
    "        labels = train_set[1]\r\n",
    "    elif mode == 'valid':\r\n",
    "        imgs = val_set[0]\r\n",
    "        labels = val_set[1]\r\n",
    "    elif mode == 'eval':\r\n",
    "        imgs = eval_set[0]\r\n",
    "        labels = eval_set[1]\r\n",
    "    # 获得所有图像的数量\r\n",
    "    imgs_length = len(imgs)\r\n",
    "    # 验证图像数量和标签数量是否一致\r\n",
    "    assert len(imgs) == len(labels), \\\r\n",
    "          \"length of train_imgs({}) should be the same as train_labels({})\".format(\r\n",
    "                  len(imgs), len(labels))\r\n",
    "\r\n",
    "    index_list = list(range(imgs_length))\r\n",
    "\r\n",
    "    # 读入数据时用到的batchsize\r\n",
    "    \r\n",
    "\r\n",
    "    # 定义数据生成器\r\n",
    "    def data_generator():\r\n",
    "        # 训练模式下，打乱训练数据\r\n",
    "        if mode == 'train':\r\n",
    "            random.shuffle(index_list)\r\n",
    "        imgs_list = []\r\n",
    "        labels_list = []\r\n",
    "        # 按照索引读取数据\r\n",
    "        for i in index_list:\r\n",
    "            # 读取图像和标签，转换其尺寸和类型\r\n",
    "            img = np.reshape(imgs[i], [1, IMG_ROWS, IMG_COLS]).astype('float32')\r\n",
    "            label = np.reshape(labels[i], [1]).astype('int64')\r\n",
    "            imgs_list.append(img) \r\n",
    "            labels_list.append(label)\r\n",
    "            # 如果当前数据缓存达到了batch size，就返回一个批次数据\r\n",
    "            if len(imgs_list) == BATCHSIZE:\r\n",
    "                yield np.array(imgs_list), np.array(labels_list)\r\n",
    "                # 清空数据缓存列表\r\n",
    "                imgs_list = []\r\n",
    "                labels_list = []\r\n",
    "\r\n",
    "        # 如果剩余数据的数目小于BATCHSIZE，\r\n",
    "        # 则剩余数据一起构成一个大小为len(imgs_list)的mini-batch\r\n",
    "        if len(imgs_list) > 0:\r\n",
    "            yield np.array(imgs_list), np.array(labels_list)\r\n",
    "\r\n",
    "    return data_generator\r\n"
   ]
  },
  {
   "cell_type": "code",
   "execution_count": null,
   "metadata": {
    "collapsed": false
   },
   "outputs": [],
   "source": []
  },
  {
   "cell_type": "code",
   "execution_count": 8,
   "metadata": {
    "collapsed": false
   },
   "outputs": [],
   "source": [
    "\r\n",
    "# 残差模型的建立\r\n",
    "#首先创建残差元\r\n",
    "class Residual(paddle.nn.Layer):\r\n",
    "    def __init__(self, in_channels, out_channels, use_1x1conv=False, stride=1):\r\n",
    "        super(Residual, self).__init__()\r\n",
    "        self.conv1 = nn.Conv2D(in_channels, out_channels, kernel_size=3, padding=1, stride=stride)\r\n",
    "        self.conv2 = nn.Conv2D(out_channels, out_channels, kernel_size=3, padding=1)\r\n",
    "        if use_1x1conv:\r\n",
    "            self.conv3 = nn.Conv2D(in_channels, out_channels, kernel_size=1, stride=stride)\r\n",
    "        else:\r\n",
    "            self.conv3 = None\r\n",
    "        self.bn1 = nn.BatchNorm2D(out_channels)\r\n",
    "        self.bn2 = nn.BatchNorm2D(out_channels)\r\n",
    "\r\n",
    "    def forward(self, X):\r\n",
    "        Y = F.relu(self.bn1(self.conv1(X)))\r\n",
    "        Y = self.bn2(self.conv2(Y))\r\n",
    "        if self.conv3:\r\n",
    "            X = self.conv3(X)\r\n",
    "        return F.relu(Y + X)\r\n",
    "\r\n",
    "# 然后创建残差块\r\n",
    "def resnet_block(in_channels, out_channels, num_residuals, first_block=False):\r\n",
    "    if first_block:\r\n",
    "        assert in_channels == out_channels  # 第一个模块的通道数同输入通道数一致\r\n",
    "    blk = []\r\n",
    "    for i in range(num_residuals):\r\n",
    "        if i == 0 and not first_block:\r\n",
    "            blk.append(Residual(in_channels, out_channels, use_1x1conv=True, stride=2))\r\n",
    "        else:\r\n",
    "            blk.append(Residual(out_channels, out_channels))\r\n",
    "    return nn.Sequential(*blk)\r\n",
    "\r\n",
    "# 最后建立残差网络\r\n",
    "class my_resnet(nn.Layer):\r\n",
    "    def __init__(self):\r\n",
    "        super(my_resnet, self).__init__()\r\n",
    "        self.net = nn.Sequential(\r\n",
    "            nn.Conv2D(1, 64, kernel_size=(7, 7), stride=(1, 1), padding=(3, 3)),\r\n",
    "            nn.BatchNorm2D(64),\r\n",
    "            nn.ReLU(),\r\n",
    "            nn.MaxPool2D(kernel_size=2, stride=2),\r\n",
    "            \r\n",
    "            resnet_block(64,64,3,True),\r\n",
    "            resnet_block(64, 128, 4),\r\n",
    "            resnet_block(128, 256, 2)\r\n",
    "        )\r\n",
    "        self.avg=nn.AvgPool2D(kernel_size=2)\r\n",
    "        self.flatten=nn.Flatten()\r\n",
    "        self.fc = nn.Sequential(\r\n",
    "            nn.Linear(256*2*2, 10)\r\n",
    "        )\r\n",
    "\r\n",
    "    def forward(self, x,label=None):\r\n",
    "        x = self.net(x)\r\n",
    "        # x = F.adaptive_avg_pool2d(x, (1, 1))\r\n",
    "        x = self.avg(x)\r\n",
    "        # x=paddle.reshape(x, [x.shape[0], 64])\r\n",
    "        x=self.flatten(x)\r\n",
    "        x = self.fc(x)\r\n",
    "        x=F.softmax(x,axis=1)\r\n",
    "        if label is not None:\r\n",
    "             acc = paddle.metric.accuracy(input=x, label=label)\r\n",
    "             return x, acc\r\n",
    "        else:\r\n",
    "             return x"
   ]
  },
  {
   "cell_type": "markdown",
   "metadata": {
    "collapsed": false
   },
   "source": [
    "请点击[此处](https://ai.baidu.com/docs#/AIStudio_Project_Notebook/a38e5576)查看本环境基本用法.  <br>\n",
    "Please click [here ](https://ai.baidu.com/docs#/AIStudio_Project_Notebook/a38e5576) for more detailed instructions. "
   ]
  },
  {
   "cell_type": "code",
   "execution_count": 9,
   "metadata": {
    "collapsed": false
   },
   "outputs": [],
   "source": [
    "# 这是本次实验用于测试的简单的卷积网络\r\n",
    "class MNIST(paddle.nn.Layer):\r\n",
    "     def __init__(self):\r\n",
    "         super(MNIST, self).__init__()\r\n",
    "         \r\n",
    "         # 定义卷积层，输出特征通道out_channels设置为20，卷积核的大小kernel_size为5，卷积步长stride=1，padding=2\r\n",
    "         self.conv1 = Conv2D(in_channels=1, out_channels=20, kernel_size=5, stride=1, padding=2)\r\n",
    "         # 定义池化层，池化核的大小kernel_size为2，池化步长为2\r\n",
    "         self.max_pool1 = MaxPool2D(kernel_size=2, stride=2)\r\n",
    "         # 定义卷积层，输出特征通道out_channels设置为20，卷积核的大小kernel_size为5，卷积步长stride=1，padding=2\r\n",
    "         self.conv2 = Conv2D(in_channels=20, out_channels=20, kernel_size=5, stride=1, padding=2)\r\n",
    "         # 定义池化层，池化核的大小kernel_size为2，池化步长为2\r\n",
    "         self.max_pool2 = MaxPool2D(kernel_size=2, stride=2)\r\n",
    "         # 定义一层全连接层，输出维度是10\r\n",
    "         self.fc = Linear(in_features=980, out_features=10)\r\n",
    "         \r\n",
    "   # 定义网络前向计算过程，卷积后紧接着使用池化层，最后使用全连接层计算最终输出\r\n",
    "   # 卷积层激活函数使用Relu，全连接层激活函数使用softmax\r\n",
    "     def forward(self, inputs, label=None):\r\n",
    "         x = self.conv1(inputs)\r\n",
    "         x = F.sigmoid(x)\r\n",
    "         x = self.max_pool1(x)\r\n",
    "         x = self.conv2(x)\r\n",
    "         x = F.sigmoid(x)\r\n",
    "         x = self.max_pool2(x)\r\n",
    "         x = paddle.reshape(x, [x.shape[0], 980])\r\n",
    "         x = self.fc(x)\r\n",
    "         x = F.softmax(x)\r\n",
    "         if label is not None:\r\n",
    "             acc = paddle.metric.accuracy(input=x, label=label)\r\n",
    "             return x, acc\r\n",
    "         else:\r\n",
    "             return x"
   ]
  },
  {
   "cell_type": "code",
   "execution_count": 10,
   "metadata": {
    "collapsed": false
   },
   "outputs": [],
   "source": [
    "# train_dataset = MnistDataset(mode='train')\r\n",
    "# # 使用paddle.io.DataLoader 定义DataLoader对象用于加载Python生成器产生的数据，\r\n",
    "# # DataLoader 返回的是一个批次数据迭代器，并且是异步的；\r\n",
    "# #train_dataset=paddle.vision.datasets.MNIST(mode='train')\r\n",
    "# data_loader = paddle.io.DataLoader(train_dataset, batch_size=100, shuffle=True)"
   ]
  },
  {
   "cell_type": "code",
   "execution_count": 11,
   "metadata": {
    "collapsed": false
   },
   "outputs": [],
   "source": [
    "#设置随机种子\r\n",
    "paddle.seed(0)\r\n",
    "#仅优化算法的设置有所差别\r\n",
    "def train(model):\r\n",
    "    BATCH_SIZE = 100\r\n",
    "    EPOCH_NUM = 15\r\n",
    "    #开启GPU\r\n",
    "    use_gpu = True\r\n",
    "    paddle.set_device('gpu:0') if use_gpu else paddle.set_device('cpu')\r\n",
    "    # device = paddle.device.get_device()\r\n",
    "    # paddle.set_device(device)\r\n",
    "    model.train()\r\n",
    "    #调用加载数据的函数\r\n",
    "    train_loader = load_data('train',BATCHSIZE=BATCH_SIZE)\r\n",
    "    \r\n",
    "    # total_steps = (int(50000//BATCH_SIZE) + 1) * EPOCH_NUM\r\n",
    "    # lr = paddle.optimizer.lr.PolynomialDecay(learning_rate=0.01, decay_steps=total_steps, end_lr=0.001)\r\n",
    "    # 使用Adam优化器\r\n",
    "    opt = paddle.optimizer.Adam(learning_rate=0.001, parameters=model.parameters())\r\n",
    "    \r\n",
    "    #建立这些用于记录作图\r\n",
    "    iter=0\r\n",
    "    iters=[]\r\n",
    "    losses=[]\r\n",
    "    acces=[]\r\n",
    "    for epoch_id in range(EPOCH_NUM):\r\n",
    "        for batch_id, data in enumerate(train_loader()):\r\n",
    "            #准备数据，变得更加简洁\r\n",
    "            images, labels = data\r\n",
    "            images = paddle.to_tensor(images)\r\n",
    "            labels = paddle.to_tensor(labels)\r\n",
    "\r\n",
    "            #前向计算的过程\r\n",
    "            predicts, acc= model(images,labels)\r\n",
    "            #计算损失，取一个批次样本损失的平均值\r\n",
    "            loss = F.cross_entropy(predicts, labels)\r\n",
    "            avg_loss = paddle.mean(loss)\r\n",
    "            \r\n",
    "            #每训练了100批次的数据，打印下当前Loss的情况\r\n",
    "            if batch_id % 100 == 0:\r\n",
    "                print(\"epoch: {}, batch: {}, loss is: {}, acc is {}\".format(epoch_id, batch_id, avg_loss.numpy(), acc.numpy()))\r\n",
    "                iters.append(iter)\r\n",
    "                losses.append(avg_loss.numpy())\r\n",
    "                acces.append(acc.numpy())\r\n",
    "                iter = iter + 100\r\n",
    "            \r\n",
    "            #后向传播，更新参数的过程\r\n",
    "            avg_loss.backward()\r\n",
    "            opt.step()\r\n",
    "            opt.clear_grad()\r\n",
    "\r\n",
    "    #保存模型参数\r\n",
    "    paddle.save(model.state_dict(), 'mnist.pdparams')\r\n",
    "    # paddle.save(model.state_dict(), './checkpoint/mnist_epoch{}'.format(epoch_id)+'.pdparams')\r\n",
    "    # paddle.save(opt.state_dict(), './checkpoint/mnist_epoch{}'.format(epoch_id)+'.pdopt')\r\n",
    "    # print(opt.state_dict().keys())\r\n",
    "    return iters, losses,acces"
   ]
  },
  {
   "cell_type": "code",
   "execution_count": 12,
   "metadata": {
    "collapsed": false
   },
   "outputs": [
    {
     "name": "stdout",
     "output_type": "stream",
     "text": [
      "loading mnist dataset from ./data/data17168/mnist.json.gz ......\n"
     ]
    },
    {
     "name": "stderr",
     "output_type": "stream",
     "text": [
      "/opt/conda/envs/python35-paddle120-env/lib/python3.7/site-packages/paddle/nn/layer/norm.py:641: UserWarning: When training, we now always track global mean and variance.\n",
      "  \"When training, we now always track global mean and variance.\")\n"
     ]
    },
    {
     "name": "stdout",
     "output_type": "stream",
     "text": [
      "epoch: 0, batch: 0, loss is: [2.332862], acc is [0.1]\n",
      "epoch: 0, batch: 100, loss is: [1.9322728], acc is [0.52]\n",
      "epoch: 0, batch: 200, loss is: [1.8878623], acc is [0.57]\n",
      "epoch: 0, batch: 300, loss is: [1.8247243], acc is [0.62]\n",
      "epoch: 0, batch: 400, loss is: [1.8186036], acc is [0.64]\n",
      "epoch: 1, batch: 0, loss is: [1.8478895], acc is [0.61]\n",
      "epoch: 1, batch: 100, loss is: [1.9064062], acc is [0.55]\n",
      "epoch: 1, batch: 200, loss is: [1.7281741], acc is [0.73]\n",
      "epoch: 1, batch: 300, loss is: [1.7579442], acc is [0.7]\n",
      "epoch: 1, batch: 400, loss is: [1.7579134], acc is [0.7]\n",
      "epoch: 2, batch: 0, loss is: [1.7647113], acc is [0.69]\n",
      "epoch: 2, batch: 100, loss is: [1.7959232], acc is [0.66]\n",
      "epoch: 2, batch: 200, loss is: [1.596387], acc is [0.87]\n",
      "epoch: 2, batch: 300, loss is: [1.580144], acc is [0.88]\n",
      "epoch: 2, batch: 400, loss is: [1.5580893], acc is [0.9]\n",
      "epoch: 3, batch: 0, loss is: [1.5426533], acc is [0.92]\n",
      "epoch: 3, batch: 100, loss is: [1.5442379], acc is [0.92]\n",
      "epoch: 3, batch: 200, loss is: [1.6267942], acc is [0.83]\n",
      "epoch: 3, batch: 300, loss is: [1.5499427], acc is [0.91]\n",
      "epoch: 3, batch: 400, loss is: [1.5788268], acc is [0.88]\n",
      "epoch: 4, batch: 0, loss is: [1.5524487], acc is [0.91]\n",
      "epoch: 4, batch: 100, loss is: [1.5595886], acc is [0.9]\n",
      "epoch: 4, batch: 200, loss is: [1.5921406], acc is [0.87]\n",
      "epoch: 4, batch: 300, loss is: [1.5882987], acc is [0.88]\n",
      "epoch: 4, batch: 400, loss is: [1.5703058], acc is [0.89]\n",
      "epoch: 5, batch: 0, loss is: [1.5251826], acc is [0.93]\n",
      "epoch: 5, batch: 100, loss is: [1.5763013], acc is [0.88]\n",
      "epoch: 5, batch: 200, loss is: [1.5504591], acc is [0.91]\n",
      "epoch: 5, batch: 300, loss is: [1.5187975], acc is [0.94]\n",
      "epoch: 5, batch: 400, loss is: [1.5786982], acc is [0.88]\n",
      "epoch: 6, batch: 0, loss is: [1.5326653], acc is [0.93]\n",
      "epoch: 6, batch: 100, loss is: [1.5204188], acc is [0.94]\n",
      "epoch: 6, batch: 200, loss is: [1.5488302], acc is [0.91]\n",
      "epoch: 6, batch: 300, loss is: [1.5808333], acc is [0.88]\n",
      "epoch: 6, batch: 400, loss is: [1.5602285], acc is [0.9]\n",
      "epoch: 7, batch: 0, loss is: [1.5487394], acc is [0.91]\n",
      "epoch: 7, batch: 100, loss is: [1.5418441], acc is [0.92]\n",
      "epoch: 7, batch: 200, loss is: [1.5390613], acc is [0.92]\n",
      "epoch: 7, batch: 300, loss is: [1.6252707], acc is [0.83]\n",
      "epoch: 7, batch: 400, loss is: [1.5460855], acc is [0.91]\n",
      "epoch: 8, batch: 0, loss is: [1.595327], acc is [0.86]\n",
      "epoch: 8, batch: 100, loss is: [1.6112857], acc is [0.84]\n",
      "epoch: 8, batch: 200, loss is: [1.577305], acc is [0.88]\n",
      "epoch: 8, batch: 300, loss is: [1.5395539], acc is [0.92]\n",
      "epoch: 8, batch: 400, loss is: [1.5757953], acc is [0.88]\n",
      "epoch: 9, batch: 0, loss is: [1.5580556], acc is [0.89]\n",
      "epoch: 9, batch: 100, loss is: [1.5600507], acc is [0.9]\n",
      "epoch: 9, batch: 200, loss is: [1.6070467], acc is [0.85]\n",
      "epoch: 9, batch: 300, loss is: [1.588034], acc is [0.87]\n",
      "epoch: 9, batch: 400, loss is: [1.479132], acc is [0.98]\n",
      "epoch: 10, batch: 0, loss is: [1.4770838], acc is [0.98]\n",
      "epoch: 10, batch: 100, loss is: [1.4768811], acc is [0.98]\n",
      "epoch: 10, batch: 200, loss is: [1.470777], acc is [0.99]\n",
      "epoch: 10, batch: 300, loss is: [1.4624411], acc is [1.]\n",
      "epoch: 10, batch: 400, loss is: [1.4712058], acc is [0.99]\n",
      "epoch: 11, batch: 0, loss is: [1.4720417], acc is [0.99]\n",
      "epoch: 11, batch: 100, loss is: [1.4613435], acc is [1.]\n",
      "epoch: 11, batch: 200, loss is: [1.4720924], acc is [0.99]\n",
      "epoch: 11, batch: 300, loss is: [1.4678868], acc is [0.99]\n",
      "epoch: 11, batch: 400, loss is: [1.4866648], acc is [0.97]\n",
      "epoch: 12, batch: 0, loss is: [1.469741], acc is [0.99]\n",
      "epoch: 12, batch: 100, loss is: [1.4611565], acc is [1.]\n",
      "epoch: 12, batch: 200, loss is: [1.4711956], acc is [0.99]\n",
      "epoch: 12, batch: 300, loss is: [1.4623675], acc is [1.]\n",
      "epoch: 12, batch: 400, loss is: [1.4712251], acc is [0.99]\n",
      "epoch: 13, batch: 0, loss is: [1.4829572], acc is [0.98]\n",
      "epoch: 13, batch: 100, loss is: [1.4746016], acc is [0.99]\n",
      "epoch: 13, batch: 200, loss is: [1.4611536], acc is [1.]\n",
      "epoch: 13, batch: 300, loss is: [1.4694127], acc is [0.99]\n",
      "epoch: 13, batch: 400, loss is: [1.4611504], acc is [1.]\n",
      "epoch: 14, batch: 0, loss is: [1.4697711], acc is [0.99]\n",
      "epoch: 14, batch: 100, loss is: [1.4812527], acc is [0.98]\n",
      "epoch: 14, batch: 200, loss is: [1.4806359], acc is [0.98]\n",
      "epoch: 14, batch: 300, loss is: [1.4657903], acc is [0.99]\n",
      "epoch: 14, batch: 400, loss is: [1.4646808], acc is [1.]\n"
     ]
    }
   ],
   "source": [
    "#创建模型    \r\n",
    "model = my_resnet()\r\n",
    "#启动训练过程\r\n",
    "iters, losses,acces = train(model)\r\n",
    "# print(model.state_dict().keys())"
   ]
  },
  {
   "cell_type": "code",
   "execution_count": 13,
   "metadata": {
    "collapsed": false
   },
   "outputs": [
    {
     "name": "stderr",
     "output_type": "stream",
     "text": [
      "/opt/conda/envs/python35-paddle120-env/lib/python3.7/site-packages/matplotlib/cbook/__init__.py:2349: DeprecationWarning: Using or importing the ABCs from 'collections' instead of from 'collections.abc' is deprecated, and in 3.8 it will stop working\n",
      "  if isinstance(obj, collections.Iterator):\n",
      "/opt/conda/envs/python35-paddle120-env/lib/python3.7/site-packages/matplotlib/cbook/__init__.py:2366: DeprecationWarning: Using or importing the ABCs from 'collections' instead of from 'collections.abc' is deprecated, and in 3.8 it will stop working\n",
      "  return list(data) if isinstance(data, collections.MappingView) else data\n"
     ]
    },
    {
     "data": {
      "image/png": "[encoded data removed]",
      "text/plain": [
       "<Figure size 432x288 with 1 Axes>"
      ]
     },
     "metadata": {},
     "output_type": "display_data"
    }
   ],
   "source": [
    "# 作图训练过程的损失变化\r\n",
    "plt.figure()\r\n",
    "plt.title(\"train loss\", fontsize=24)\r\n",
    "plt.xlabel(\"iter\", fontsize=14)\r\n",
    "plt.ylabel(\"loss\", fontsize=14)\r\n",
    "plt.plot(iters, losses,color='red',label='train loss') \r\n",
    "plt.grid()\r\n",
    "plt.show()"
   ]
  },
  {
   "cell_type": "code",
   "execution_count": 14,
   "metadata": {
    "collapsed": false
   },
   "outputs": [
    {
     "data": {
      "image/png": "[encoded data removed]",
      "text/plain": [
       "<Figure size 432x288 with 1 Axes>"
      ]
     },
     "metadata": {},
     "output_type": "display_data"
    }
   ],
   "source": [
    "# 作图训练过程的训练集准确率变化\r\n",
    "plt.figure()\r\n",
    "plt.title(\"train acc\", fontsize=24)\r\n",
    "plt.xlabel(\"iter\", fontsize=14)\r\n",
    "plt.ylabel(\"acc\", fontsize=14)\r\n",
    "plt.plot(iters, acces,color='red',label='train acc') \r\n",
    "plt.grid()\r\n",
    "plt.show()"
   ]
  },
  {
   "cell_type": "code",
   "execution_count": 15,
   "metadata": {
    "collapsed": false
   },
   "outputs": [
    {
     "name": "stdout",
     "output_type": "stream",
     "text": [
      "start evaluation .......\n",
      "loading mnist dataset from ./data/data17168/mnist.json.gz ......\n",
      "loss=1.4696672189235687, acc=0.991200007200241\n"
     ]
    }
   ],
   "source": [
    "# 对模型的效果使用测试集进行检验\r\n",
    "def evaluation(model):\r\n",
    "    print('start evaluation .......')\r\n",
    "    # 定义预测过程\r\n",
    "    params_file_path = 'mnist.pdparams'\r\n",
    "    # 加载模型参数\r\n",
    "    param_dict = paddle.load(params_file_path)\r\n",
    "    model.load_dict(param_dict)\r\n",
    "\r\n",
    "    model.eval()\r\n",
    "    eval_loader = load_data('eval')\r\n",
    "\r\n",
    "    acc_set = []\r\n",
    "    avg_loss_set = []\r\n",
    "    for batch_id, data in enumerate(eval_loader()):\r\n",
    "        images, labels = data\r\n",
    "        images = paddle.to_tensor(images)\r\n",
    "        labels = paddle.to_tensor(labels)\r\n",
    "        predicts, acc = model(images, labels)\r\n",
    "        loss = F.cross_entropy(input=predicts, label=labels)\r\n",
    "        avg_loss = paddle.mean(loss)\r\n",
    "        acc_set.append(float(acc.numpy()))\r\n",
    "        avg_loss_set.append(float(avg_loss.numpy()))\r\n",
    "    \r\n",
    "    #计算多个batch的平均损失和准确率\r\n",
    "    acc_val_mean = np.array(acc_set).mean()\r\n",
    "    avg_loss_val_mean = np.array(avg_loss_set).mean()\r\n",
    "\r\n",
    "    print('loss={}, acc={}'.format(avg_loss_val_mean, acc_val_mean))\r\n",
    "\r\n",
    "model = my_resnet()\r\n",
    "evaluation(model)"
   ]
  }
 ],
 "metadata": {
  "kernelspec": {
   "display_name": "PaddlePaddle 2.1.0 (Python 3.5)",
   "language": "python",
   "name": "py35-paddle1.2.0"
  },
  "language_info": {
   "codemirror_mode": {
    "name": "ipython",
    "version": 3
   },
   "file_extension": ".py",
   "mimetype": "text/x-python",
   "name": "python",
   "nbconvert_exporter": "python",
   "pygments_lexer": "ipython3",
   "version": "3.7.4"
  }
 },
 "nbformat": 4,
 "nbformat_minor": 1
}
