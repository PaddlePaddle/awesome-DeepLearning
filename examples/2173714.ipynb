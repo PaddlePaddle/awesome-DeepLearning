{
 "cells": [
  {
   "cell_type": "code",
   "execution_count": null,
   "metadata": {
    "collapsed": false
   },
   "outputs": [],
   "source": []
  },
  {
   "cell_type": "markdown",
   "metadata": {
    "collapsed": false
   },
   "source": [
    "# 深度学习历史\n",
    "\n",
    "\n",
    "1943年\n",
    "由神经科学家麦卡洛克(W.S.McCilloch) 和数学家皮兹（W.Pitts）在《数学生物物理学公告》上发表论文《神经活动中内在思想的逻辑演算》（A Logical Calculus of the Ideas Immanent in Nervous Activity）。建立了神经网络和数学模型，称为MCP模型。所谓MCP模型，其实是按照生物神经元的结构和工作原理构造出来的一个抽象和简化了的模型，也就诞生了所谓的“模拟大脑”，人工神经网络的大门由此开启。\n",
    "MCP当时是希望能够用计算机来模拟人的神经元反应的过程，该模型将神经元简化为了三个过程：输入信号线性加权，求和，非线性激活（阈值法）。如下图所示\n",
    "\n",
    "<center><img src=\"https://ai-studio-static-online.cdn.bcebos.com/9ba013f7e81a465583425fa73e51fb16ea662a4c516a4864b0eebacdd0f16ac8\" width=\"400\" hegiht=\"\" ></center>\n",
    "1958年计算机科学家罗森布拉特（ Rosenblatt）提出了两层神经元组成的神经网络，称之为“感知器”(Perceptrons)。第一次将MCP用于机器学习（machine learning）分类(classification)。“感知器”算法算法使用MCP模型对输入的多维数据进行二分类，且能够使用梯度下降法从训练样本中自动学习更新权值。1962年,该方法被证明为能够收敛，理论与实践效果引起第一次神经网络的浪潮。\n",
    "\n",
    "1969年纵观科学发展史，无疑都是充满曲折的，深度学习也毫不例外。 1969年，美国数学家及人工智能先驱 Marvin Minsky 在其著作中证明了感知器本质上是一种线性模型（linear model），只能处理线性分类问题，就连最简单的XOR（亦或）问题都无法正确分类。这等于直接宣判了感知器的死刑，神经网络的研究也陷入了将近20年的停滞。\n",
    "\n",
    "1986年由神经网络之父 Geoffrey Hinton 在1986年发明了适用于多层感知器（MLP）的BP（Backpropagation）算法，并采用Sigmoid进行非线性映射，有效解决了非线性分类和学习的问题。该方法引起了神经网络的第二次热潮。\n",
    "\n",
    "注：Sigmoid 函数是一个在生物学中常见的S型的函数，也称为S型生长曲线。在信息科学中，由于其单增以及反函数单增等性质，Sigmoid函数常被用作神经网络的阈值函数，将变量映射到0,1之间。\n",
    "<center><img src=\"https://ai-studio-static-online.cdn.bcebos.com/395993f005a04d62b04ba6a930482397e038f96c264b4e45afebb86dac7538bd\" width=\"400\" hegiht=\"\" ></center>\n",
    "\n",
    "90年代时期\n",
    "1991年BP算法被指出存在梯度消失问题，也就是说在误差梯度后项传递的过程中，后层梯度以乘性方式叠加到前层，由于Sigmoid函数的饱和特性，后层梯度本来就小，误差梯度传到前层时几乎为0，因此无法对前层进行有效的学习，该问题直接阻碍了深度学习的进一步发展。\n",
    "\n",
    "此外90年代中期，支持向量机算法诞生（SVM算法）等各种浅层机器学习模型被提出，SVM也是一种有监督的学习模型，应用于模式识别，分类以及回归分析等。支持向量机以统计学为基础，和神经网络有明显的差异，支持向量机等算法的提出再次阻碍了深度学习的发展。\n",
    "\n",
    "发展期 2006年 - 2012年\n",
    "2006年，加拿大多伦多大学教授、机器学习领域泰斗、神经网络之父—— Geoffrey Hinton 和他的学生 Ruslan Salakhutdinov 在顶尖学术刊物《科学》上发表了一篇文章，该文章提出了深层网络训练中梯度消失问题的解决方案：无监督预训练对权值进行初始化+有监督训练微调。斯坦福大学、纽约大学、加拿大蒙特利尔大学等成为研究深度学习的重镇，至此开启了深度学习在学术界和工业界的浪潮。\n",
    "\n",
    "2011年，ReLU激活函数被提出，该激活函数能够有效的抑制梯度消失问题。2011年以来，微软首次将DL应用在语音识别上，取得了重大突破。微软研究院和Google的语音识别研究人员先后采用DNN技术降低语音识别错误率20％~30％，是语音识别领域十多年来最大的突破性进展。2012年，DNN技术在图像识别领域取得惊人的效果，在ImageNet评测上将错误率从26％降低到15％。在这一年，DNN还被应用于制药公司的DrugeActivity预测问题，并获得世界最好成绩。\n",
    "\n",
    "爆发期 2012 - 2017\n",
    "2012年，Hinton课题组为了证明深度学习的潜力，首次参加ImageNet图像识别比赛，其通过构建的CNN网络AlexNet一举夺得冠军，且碾压第二名（SVM方法）的分类性能。也正是由于该比赛，CNN吸引到了众多研究者的注意。\n",
    "\n",
    "<center><img src=\"https://ai-studio-static-online.cdn.bcebos.com/d05fc739a8ee48f899cc3d665490dae4336447e1a3f04ac68aafe950b3dadaf9\" width=\"400\" hegiht=\"\" ></center>\n",
    "\n",
    "AlexNet的创新点在于:\n",
    "\n",
    "(1)首次采用ReLU激活函数，极大增大收敛速度且从根本上解决了梯度消失问题。\n",
    "\n",
    "(2)由于ReLU方法可以很好抑制梯度消失问题，AlexNet抛弃了“预训练+微调”的方法，完全采用有监督训练。也正因为如此，DL的主流学习方法也因此变为了纯粹的有监督学习。\n",
    "\n",
    "(3)扩展了LeNet5结构，添加Dropout层减小过拟合，LRN层增强泛化能力/减小过拟合。\n",
    "\n",
    "(4)第一次使用GPU加速模型计算。\n",
    "\n",
    "2013、2014、2015、2016年，通过ImageNet图像识别比赛，DL的网络结构，训练方法，GPU硬件的不断进步，促使其在其他领域也在不断的征服战场。"
   ]
  },
  {
   "cell_type": "markdown",
   "metadata": {
    "collapsed": false
   },
   "source": [
    "# 人工智能、机器学习、深度学习有什么区别和联系？\n",
    "\n",
    "\n",
    "近些年人工智能、机器学习和深度学习的概念十分火热，但很多从业者却很难说清它们之间的关系，外行人更是雾里看花。在研究深度学习之前，我们先从三个概念的正本清源开始。\n",
    "\n",
    "概括来说，人工智能、机器学习和深度学习覆盖的技术范畴是逐层递减的。人工智能是最宽泛的概念。机器学习是当前比较有效的一种实现人工智能的方式。深度学习是机器学习算法中最热门的一个分支，近些年取得了显著的进展，并替代了大多数传统机器学习算法。三者的关系如 **图1** 所示，即：人工智能 > 机器学习 > 深度学习。\n",
    "<center><img src=\"https://ai-studio-static-online.cdn.bcebos.com/5521d1d951c440eb8511f03a0b9028bd63357aec52e94189b5ab3f55d63369d7\" width=\"300\" hegiht=\"\" ></center>\n",
    "<center><br>图1：人工智能、机器学习和深度学习三者关系示意</br></center>\n",
    "<br></br>\n",
    "\n",
    "\n",
    "如字面含义，人工智能是研发用于模拟、延伸和扩展人的智能的理论、方法、技术及应用系统的一门新的技术科学。由于这个定义只阐述了目标，而没有限定方法，因此实现人工智能存在的诸多方法和分支，导致其变成一个“大杂烩”式的学科。\n"
   ]
  },
  {
   "cell_type": "markdown",
   "metadata": {
    "collapsed": false
   },
   "source": [
    "# 神经元、单层感知机、多层感知机\n",
    "\n",
    "神经元：这里的神经元指的是人工神经网络中的神经元。神经元是一种处理单元，是对人脑组织的神经元的某种抽象、简化和模拟。是人工神经网络的关键部分。通过神经元，人工神经网络可以以数学模型模拟人脑神经元活动，继而进行高效的计算以及其他处理。\n",
    "\n",
    "单层感知机：将被感知数据集划分为两类的分离超平面，并计算出该超平面。是二分类的线性分类模型，输入是被感知数据集的特征向量，输出时数据集的类别{+1,-1}。感知器的模型可以简单表示为：\n",
    "\n",
    "<center><img src=\"https://ai-studio-static-online.cdn.bcebos.com/9527c77e9520474490aff1e343b6509a1e1b4d01ca264c619a124ae11d7228bf\" width=\"400\" hegiht=\"\" ></center>\n",
    "\n",
    "多层感知机：多层感知机就是含有至少一个隐藏层的由全连接层组成的神经网络，且每个隐藏层的输出通过激活函数进行变换。多层感知机的层数和各隐藏层中隐藏单元个数都是超参数。以单隐藏层为例并沿用本节之前定义的符号，多层感知机按以下方式计算输出：\n",
    "\n",
    "<center><img src=\"https://ai-studio-static-online.cdn.bcebos.com/dafb542b821848739c6390dc20152547f4b2a0075eb740ae989345a4eced0f84\" width=\"400\" hegiht=\"\" ></center>\n",
    "其中ϕ \\phiϕ表示激活函数。"
   ]
  },
  {
   "cell_type": "markdown",
   "metadata": {
    "collapsed": false
   },
   "source": [
    "# 前向传播\n",
    "\n",
    "<center><img src=\"https://ai-studio-static-online.cdn.bcebos.com/41d1f818fb1b4ec5878f778377642b4744056156e0e54d4b8f6e566b09d6f383\" width=\"400\" hegiht=\"\" ></center>\n",
    "\n",
    "对于第2层第1个节点的输出有：\n",
    "\n",
    "<center><img src=\"https://ai-studio-static-online.cdn.bcebos.com/f4841a6920fe4deebed521d042a98fcd131e04a955ac471ebef59e2e07d0a52a\" width=\"400\" hegiht=\"\" ></center>\n",
    "\n",
    "对于第3层第1个节点的输出有：\n",
    "\n",
    "<center><img src=\"https://ai-studio-static-online.cdn.bcebos.com/090195555cd6469185e884b1aa486511c5fc176f847a4f32aae80cbaee6494b1\" width=\"400\" hegiht=\"\" ></center>\n",
    "\n",
    "一般化的，假设l-1层有m个神经元，对于有\n",
    "\n",
    "<center><img src=\"https://ai-studio-static-online.cdn.bcebos.com/1a30651715dd4f66848ba3382ead67703b3c5e55db814a35996df4ebba3a4691\" width=\"400\" hegiht=\"\" ></center>\n",
    "\n",
    "\n",
    "也就是第l层第j个神经元的输入为与它相连的上一层每个神经元的输出加权求和后加上该神经元对应的偏置，该神经元所做的工作只是把这个结果做一个非线性激活。\n"
   ]
  },
  {
   "cell_type": "markdown",
   "metadata": {
    "collapsed": false
   },
   "source": [
    "# 反向传播\n",
    "<center><img src=\"\" width=\"400\" hegiht=\"\" ></center>\n",
    "\n",
    "当通过前向传播得到由任意一组随机参数W和b计算出的网络预测结果后，我们可以利用损失函数相对于每个参数的梯度来对他们进行修正。事实上神经网络的训练就是这样一个不停的前向-反向传播的过程，直到网络的预测能力达到我们的预期。\n",
    "\n",
    "\n",
    "<center><img src=\"https://ai-studio-static-online.cdn.bcebos.com/b1ba3e0e897f4531b8d43b4ef57bc90af99b002b9d4142729c56017e0a01a37b\" width=\"400\" hegiht=\"\" ></center>\n"
   ]
  },
  {
   "cell_type": "code",
   "execution_count": 0,
   "metadata": {
    "collapsed": false
   },
   "outputs": [],
   "source": []
  },
  {
   "cell_type": "code",
   "execution_count": 27,
   "metadata": {
    "collapsed": false
   },
   "outputs": [],
   "source": [
    "import numpy as np\r\n",
    "import matplotlib.pyplot as plt\r\n",
    "import pandas as pd"
   ]
  },
  {
   "cell_type": "code",
   "execution_count": 12,
   "metadata": {
    "collapsed": false
   },
   "outputs": [],
   "source": []
  },
  {
   "cell_type": "code",
   "execution_count": 28,
   "metadata": {
    "collapsed": false
   },
   "outputs": [],
   "source": [
    "def deal_data():\r\n",
    "    # 读取文件数据，此时数据形状是(870,2)\r\n",
    "    \r\n",
    "    df =  pd.read_csv(\"./data/房价预测/data/data.txt\",sep=',')  # 用pandas读取数据，分隔符为逗号\r\n",
    "    housingdata = np.array(df)  # 将DF数据类型转化为numpy数据类型\r\n",
    "\r\n",
    "    # 规范数据格式。\r\n",
    "    housingdata = np.array(housingdata).reshape((-1, 2))  # 此时数据形状为(870,2)\r\n",
    "\r\n",
    "    # 对数据的第一个属性进行归一化操作，有助于提高模型精准度，这里使用max-min归一化方式。公式为(x-min)/(max-min)\r\n",
    "    for i in range(1):\r\n",
    "        Max = np.max(housingdata[:, i])\r\n",
    "        Min = np.min(housingdata[:, i])\r\n",
    "        housingdata[:, i] = (housingdata[:, i] - Min) / (Max - Min)\r\n",
    "\r\n",
    "    # 依据2-8原则，80%的数据作为训练数据，20%数据作为测试数据；\r\n",
    "    Splitdata = round(len(housingdata) * 0.8)\r\n",
    "    Train = housingdata[:Splitdata]  # 训练数据集\r\n",
    "    Test = housingdata[Splitdata:]  # 测试数据集\r\n",
    "    return Train, Test"
   ]
  },
  {
   "cell_type": "code",
   "execution_count": 29,
   "metadata": {
    "collapsed": false
   },
   "outputs": [],
   "source": [
    "class Model_Config(object):\r\n",
    "    def __init__(self, firstnetnum, secondnetnum):\r\n",
    "        np.random.seed(1)\r\n",
    "        self.w0 = np.random.randn(firstnetnum * secondnetnum, 1).reshape(firstnetnum, secondnetnum)\r\n",
    "        self.w1 = np.random.randn(secondnetnum, 1)\r\n",
    "        self.b0 = np.random.randn(firstnetnum, 1).reshape(1, firstnetnum)\r\n",
    "        self.b1 = np.random.randn(1, 1)\r\n",
    "\r\n",
    "    # 计算预测值，前向传播过程\r\n",
    "    def forward(self, x):\r\n",
    "        hidden1 = np.dot(x, self.w0) + self.b0  # 由输入层到隐藏层\r\n",
    "        y = np.dot(hidden1, self.w1) + self.b1  # 由隐藏层到输出层\r\n",
    "        return hidden1, y\r\n",
    "\r\n",
    "    # 设置损失函数,这里使用差平方损失函数计算方式\r\n",
    "    def loss(self, z, y):\r\n",
    "        error = z - y\r\n",
    "        cost = error * error\r\n",
    "        avg_cost = np.mean(cost)\r\n",
    "        return avg_cost\r\n",
    "\r\n",
    "    # 计算梯度\r\n",
    "    def back(self, x, y):\r\n",
    "        hidden1, z = self.forward(x)\r\n",
    "        # hidden层的梯度\r\n",
    "        gradient_w1 = (z - y) * hidden1\r\n",
    "        gradient_w1 = np.mean(gradient_w1, axis=0)  # 这里注意，axis=0必须写上，否则默认将这个数组变成一维的求平均\r\n",
    "        gradient_w1 = gradient_w1[:, np.newaxis]  #\r\n",
    "        gradient_b1 = (z - y)\r\n",
    "        gradient_b1 = np.mean(gradient_b1)\r\n",
    "        gradient_w0 = np.zeros(shape=(1, 1))\r\n",
    "        for i in range(len(x)):\r\n",
    "            data = x[i, :]\r\n",
    "            data = data[:, np.newaxis]\r\n",
    "            # print(\"data.shape\",data.shape)\r\n",
    "            w1 = self.w1.reshape(1, 1)\r\n",
    "            # print(\"self.w1.shape\",w1.shape)\r\n",
    "            gradient_w01 = (z - y)[i] * np.dot(data, w1)\r\n",
    "            # print(\"gradient_w01.shape:\",gradient_w01.shape)\r\n",
    "            gradient_w0 += gradient_w01\r\n",
    "        gradient_w0 = gradient_w0 / len(x)\r\n",
    "        w2 = self.w1.reshape(1, 1)\r\n",
    "        gradient_b0 = np.mean((z - y) * w2, axis=0)\r\n",
    "\r\n",
    "        return gradient_w1, gradient_b1, gradient_w0, gradient_b0\r\n",
    "\r\n",
    "    # 使用梯度更新权值参数w1，b1,w0,b0\r\n",
    "    def update(self, gradient_w1, gradient_b1, gradient_w0, gradient_b0, learning_rate):\r\n",
    "        self.w1 = self.w1 - learning_rate * gradient_w1\r\n",
    "        self.b1 = self.b1 - learning_rate * gradient_b1\r\n",
    "        self.w0 = self.w0 - learning_rate * gradient_w0\r\n",
    "        self.b0 = self.b0 - learning_rate * gradient_b0\r\n",
    "\r\n",
    "    # 开始训练\r\n",
    "    def train(self, epoch_num, x, y, learning_rate):\r\n",
    "        # 循环迭代\r\n",
    "        losses = []\r\n",
    "        for i in range(epoch_num):\r\n",
    "            _, z = self.forward(x)  # 前向传播\r\n",
    "            avg_loss = self.loss(z, y)  # 损失函数\r\n",
    "            gradient_w1, gradient_b1, gradient_w0, gradient_b0 = self.back(x, y)  # 计算梯度\r\n",
    "            self.update(gradient_w1, gradient_b1, gradient_w0, gradient_b0, learning_rate)  # 更新梯度\r\n",
    "            losses.append(avg_loss)  # 记录迭代过程中损失函数值\r\n",
    "            # 每进行20此迭代，显示一下当前的损失值\r\n",
    "            if (i % 20 == 0):\r\n",
    "                print(\"iter:{},loss:{}\".format(i, avg_loss))\r\n",
    "        \r\n",
    "        return losses, self.w1, self.b1, self.w0, self.b0"
   ]
  },
  {
   "cell_type": "code",
   "execution_count": 30,
   "metadata": {
    "collapsed": false
   },
   "outputs": [],
   "source": [
    "# 画出损失函数随迭代次数增加的情况\r\n",
    "def showpeocess(loss, epoch_num):\r\n",
    "    plt.title(\"The Process Of Train\")\r\n",
    "    plt.plot([i for i in range(epoch_num)], loss)\r\n",
    "    plt.xlabel(\"epoch_num\")\r\n",
    "    plt.ylabel(\"loss\")\r\n",
    "    plt.show()\r\n",
    "\r\n",
    "# 画出测试集标签随迭代次数增加的情况\r\n",
    "def shower_true(true, epoch_num):\r\n",
    "    plt.title(\"true\")\r\n",
    "    plt.plot([i for i in range(epoch_num)], true)\r\n",
    "    plt.xlabel(\"epoch_num\")\r\n",
    "    plt.ylabel(\"value\")\r\n",
    "    plt.show()\r\n",
    "\r\n",
    "# 画出预测值随迭代次数增加的情况\r\n",
    "def shower_predict(predict, epoch_num):\r\n",
    "    plt.title(\"predict\")\r\n",
    "    plt.plot([i for i in range(epoch_num)], predict)\r\n",
    "    plt.xlabel(\"epoch_num\")\r\n",
    "    plt.ylabel(\"value\")\r\n",
    "    plt.show()\r\n",
    "\r\n",
    "# 画出预测值和真实值的对比\r\n",
    "def shower(true, predict, epoch_num):\r\n",
    "    plt.plot([i for i in range(epoch_num)], true)\r\n",
    "    plt.plot([i for i in range(epoch_num)], predict)\r\n",
    "    plt.xlabel(\"num\")\r\n",
    "    plt.ylabel(\"value\")\r\n",
    "    plt.show()"
   ]
  },
  {
   "cell_type": "code",
   "execution_count": 31,
   "metadata": {
    "collapsed": false
   },
   "outputs": [
    {
     "name": "stdout",
     "output_type": "stream",
     "text": [
      "iter:0,loss:448783.92739766295\n",
      "iter:20,loss:446260.2054846042\n",
      "iter:40,loss:433917.44741002365\n",
      "iter:60,loss:326449.4351836639\n",
      "iter:80,loss:87681.3690903725\n",
      "iter:100,loss:59204.20023157633\n",
      "iter:120,loss:56091.0254650378\n",
      "iter:140,loss:53347.1130105952\n",
      "iter:160,loss:50772.50341327851\n",
      "iter:180,loss:48347.405362174024\n",
      "iter:200,loss:46058.88309370479\n",
      "iter:220,loss:43898.83053350852\n",
      "iter:240,loss:41862.88898192057\n",
      "iter:260,loss:39949.51734393493\n",
      "iter:280,loss:38159.1404695803\n",
      "iter:300,loss:36493.34190676975\n",
      "iter:320,loss:34954.097707792425\n",
      "iter:340,loss:33543.071305775724\n",
      "iter:360,loss:32261.004278381566\n",
      "iter:380,loss:31107.242260886847\n",
      "iter:400,loss:30079.42888457174\n",
      "iter:420,loss:29173.38509911079\n",
      "iter:440,loss:28383.1704280151\n",
      "iter:460,loss:27701.301638053166\n",
      "iter:480,loss:27119.0877572315\n",
      "iter:500,loss:26627.03154250303\n",
      "iter:520,loss:26215.24728168827\n",
      "iter:540,loss:25873.851954484588\n",
      "iter:560,loss:25593.298611850383\n",
      "iter:580,loss:25364.634293470634\n",
      "iter:600,loss:25179.677266457515\n",
      "iter:620,loss:25031.118137097827\n",
      "iter:640,loss:24912.555775539444\n",
      "iter:660,loss:24818.482133702495\n",
      "iter:680,loss:24744.23056479481\n",
      "iter:700,loss:24685.900998183693\n",
      "iter:720,loss:24640.273082756492\n",
      "iter:740,loss:24604.71582264184\n",
      "iter:760,loss:24577.09972770346\n",
      "iter:780,loss:24555.715337244503\n",
      "iter:800,loss:24539.20025309526\n",
      "iter:820,loss:24526.475544034573\n",
      "iter:840,loss:24516.69150765312\n",
      "iter:860,loss:24509.18222401128\n",
      "iter:880,loss:24503.428029350776\n",
      "iter:900,loss:24499.024906664734\n",
      "iter:920,loss:24495.659774602962\n",
      "iter:940,loss:24493.09071204882\n",
      "iter:960,loss:24491.131250223105\n",
      "iter:980,loss:24489.637975106893\n"
     ]
    },
    {
     "data": {
      "image/png": "[encoded data removed]",
      "text/plain": [
       "<Figure size 432x288 with 1 Axes>"
      ]
     },
     "metadata": {},
     "output_type": "display_data"
    },
    {
     "data": {
      "image/png": "[encoded data removed]",
      "text/plain": [
       "<Figure size 432x288 with 1 Axes>"
      ]
     },
     "metadata": {},
     "output_type": "display_data"
    }
   ],
   "source": [
    "if __name__ == '__main__':\r\n",
    "    Train, Test = deal_data()  # 读取训练集和测试集\r\n",
    "    np.random.shuffle(Train)  # 随机打乱\r\n",
    "    # 训练数据和标签\r\n",
    "    x = Train[:, :-1]\r\n",
    "    y = Train[:, -1:]\r\n",
    "    # 测试数据和标签\r\n",
    "    x1 = Test[:, :-1]\r\n",
    "    y1 = Test[:, -1:]\r\n",
    "    epoch_num = 1000  # 设置迭代次数\r\n",
    "    Model = Model_Config(1, 1)\r\n",
    "    losses, w1, b1, w0, b0 = Model.train(epoch_num=epoch_num, x=x, y=y, learning_rate=0.0001)\r\n",
    "    predicts = np.dot((np.dot(x1, w0) + b0), w1) + b1  # 测试集的预测值\r\n",
    "    showpeocess(loss=losses, epoch_num=epoch_num)  # 画出损失函数随迭代次数的变化\r\n",
    "    shower(y1, predicts, 174)  # 画出测试集中真实数据和预测数据之间的对比"
   ]
  },
  {
   "cell_type": "code",
   "execution_count": 24,
   "metadata": {
    "collapsed": false
   },
   "outputs": [],
   "source": []
  },
  {
   "cell_type": "markdown",
   "metadata": {
    "collapsed": false
   },
   "source": [
    "# paddle"
   ]
  },
  {
   "cell_type": "code",
   "execution_count": 33,
   "metadata": {
    "collapsed": false
   },
   "outputs": [],
   "source": [
    "import paddle.fluid as fluid\n",
    "import paddle\n",
    "import numpy as np\n",
    "import os\n",
    "import matplotlib.pyplot as plt\n"
   ]
  },
  {
   "cell_type": "code",
   "execution_count": 34,
   "metadata": {
    "collapsed": false
   },
   "outputs": [
    {
     "name": "stderr",
     "output_type": "stream",
     "text": [
      "/opt/conda/envs/python35-paddle120-env/lib/python3.7/site-packages/ipykernel_launcher.py:6: DeprecationWarning: \u001b[93m\n",
      "Warning:\n",
      "API \"paddle.dataset.uci_housing.train\" is deprecated since 2.0.0, and will be removed in future versions. Please use \"paddle.text.datasets.UCIHousing\" instead.\n",
      "reason: Please use new dataset API which supports paddle.io.DataLoader \u001b[0m\n",
      "  \n",
      "/opt/conda/envs/python35-paddle120-env/lib/python3.7/site-packages/ipykernel_launcher.py:11: DeprecationWarning: \u001b[93m\n",
      "Warning:\n",
      "API \"paddle.dataset.uci_housing.test\" is deprecated since 2.0.0, and will be removed in future versions. Please use \"paddle.text.datasets.UCIHousing\" instead.\n",
      "reason: Please use new dataset API which supports paddle.io.DataLoader \u001b[0m\n",
      "  # This is added back by InteractiveShellApp.init_path()\n"
     ]
    }
   ],
   "source": [
    "BUF_SIZE=500\r\n",
    "BATCH_SIZE=20\r\n",
    "\r\n",
    "#用于训练的数据提供器，每次从缓存中随机读取批次大小的数据\r\n",
    "train_reader = paddle.batch(\r\n",
    "    paddle.reader.shuffle(paddle.dataset.uci_housing.train(), \r\n",
    "                          buf_size=BUF_SIZE),                    \r\n",
    "    batch_size=BATCH_SIZE)   \r\n",
    "#用于测试的数据提供器，每次从缓存中随机读取批次大小的数据\r\n",
    "test_reader = paddle.batch(\r\n",
    "    paddle.reader.shuffle(paddle.dataset.uci_housing.test(),\r\n",
    "                          buf_size=BUF_SIZE),\r\n",
    "    batch_size=BATCH_SIZE)  "
   ]
  },
  {
   "cell_type": "code",
   "execution_count": 35,
   "metadata": {
    "collapsed": false
   },
   "outputs": [
    {
     "name": "stdout",
     "output_type": "stream",
     "text": [
      "(array([-0.0405441 ,  0.06636364, -0.32356227, -0.06916996, -0.03435197,\n",
      "        0.05563625, -0.03475696,  0.02682186, -0.37171335, -0.21419304,\n",
      "       -0.33569506,  0.10143217, -0.21172912]), array([24.]))\n"
     ]
    },
    {
     "name": "stderr",
     "output_type": "stream",
     "text": [
      "/opt/conda/envs/python35-paddle120-env/lib/python3.7/site-packages/ipykernel_launcher.py:2: DeprecationWarning: \u001b[93m\n",
      "Warning:\n",
      "API \"paddle.dataset.uci_housing.train\" is deprecated since 2.0.0, and will be removed in future versions. Please use \"paddle.text.datasets.UCIHousing\" instead.\n",
      "reason: Please use new dataset API which supports paddle.io.DataLoader \u001b[0m\n",
      "  \n"
     ]
    }
   ],
   "source": [
    "#用于打印，查看uci_housing数据\r\n",
    "train_data=paddle.dataset.uci_housing.train();\r\n",
    "sampledata=next(train_data())\r\n",
    "print(sampledata)"
   ]
  },
  {
   "cell_type": "code",
   "execution_count": 37,
   "metadata": {
    "collapsed": false
   },
   "outputs": [],
   "source": [
    "paddle.enable_static()\r\n",
    "#定义张量变量x，表示13维的特征值\r\n",
    "x = fluid.layers.data(name='x', shape=[13], dtype='float32')\r\n",
    "#定义张量y,表示目标值\r\n",
    "y = fluid.layers.data(name='y', shape=[1], dtype='float32')\r\n",
    "#定义一个简单的线性网络,连接输入和输出的全连接层\r\n",
    "#input:输入tensor;\r\n",
    "#size:该层输出单元的数目\r\n",
    "#act:激活函数\r\n",
    "y_predict=fluid.layers.fc(input=x,size=1,act=None)"
   ]
  },
  {
   "cell_type": "code",
   "execution_count": 38,
   "metadata": {
    "collapsed": false
   },
   "outputs": [],
   "source": [
    "cost = fluid.layers.square_error_cost(input=y_predict, label=y) #求一个batch的损失值\r\n",
    "avg_cost = fluid.layers.mean(cost)                              #对损失值求平均值"
   ]
  },
  {
   "cell_type": "code",
   "execution_count": 39,
   "metadata": {
    "collapsed": false
   },
   "outputs": [],
   "source": [
    "optimizer = fluid.optimizer.SGDOptimizer(learning_rate=0.001)\r\n",
    "opts = optimizer.minimize(avg_cost)"
   ]
  },
  {
   "cell_type": "code",
   "execution_count": 40,
   "metadata": {
    "collapsed": false
   },
   "outputs": [],
   "source": [
    "test_program = fluid.default_main_program().clone(for_test=True)"
   ]
  },
  {
   "cell_type": "code",
   "execution_count": 41,
   "metadata": {
    "collapsed": false
   },
   "outputs": [
    {
     "data": {
      "text/plain": [
       "[]"
      ]
     },
     "execution_count": 41,
     "metadata": {},
     "output_type": "execute_result"
    }
   ],
   "source": [
    "\r\n",
    "use_cuda = False                         #use_cuda为False,表示运算场所为CPU;use_cuda为True,表示运算场所为GPU           \r\n",
    "place = fluid.CUDAPlace(0) if use_cuda else fluid.CPUPlace()\r\n",
    "exe = fluid.Executor(place)              #创建一个Executor实例exe\r\n",
    "exe.run(fluid.default_startup_program()) #Executor的run()方法执行startup_program(),进行参数初始化"
   ]
  },
  {
   "cell_type": "code",
   "execution_count": 42,
   "metadata": {
    "collapsed": false
   },
   "outputs": [],
   "source": [
    "\r\n",
    "# 定义输入数据维度\r\n",
    "feeder = fluid.DataFeeder(place=place, feed_list=[x, y])#feed_list:向模型输入的变量表或变量表名"
   ]
  },
  {
   "cell_type": "code",
   "execution_count": 43,
   "metadata": {
    "collapsed": false
   },
   "outputs": [],
   "source": [
    "iter=0;\r\n",
    "iters=[]\r\n",
    "train_costs=[]\r\n",
    "\r\n",
    "def draw_train_process(iters,train_costs):\r\n",
    "    title=\"training cost\"\r\n",
    "    plt.title(title, fontsize=24)\r\n",
    "    plt.xlabel(\"iter\", fontsize=14)\r\n",
    "    plt.ylabel(\"cost\", fontsize=14)\r\n",
    "    plt.plot(iters, train_costs,color='red',label='training cost') \r\n",
    "    plt.grid()\r\n",
    "    plt.show()"
   ]
  },
  {
   "cell_type": "code",
   "execution_count": 44,
   "metadata": {
    "collapsed": false
   },
   "outputs": [
    {
     "name": "stdout",
     "output_type": "stream",
     "text": [
      "Pass:0, Cost:711.25568\n",
      "Test:0, Cost:414.13910\n",
      "Pass:1, Cost:495.14932\n",
      "Test:1, Cost:143.49374\n",
      "Pass:2, Cost:878.65118\n",
      "Test:2, Cost:191.74959\n",
      "Pass:3, Cost:526.76965\n",
      "Test:3, Cost:196.53255\n",
      "Pass:4, Cost:307.91156\n",
      "Test:4, Cost:73.14574\n",
      "Pass:5, Cost:511.29193\n",
      "Test:5, Cost:140.28296\n",
      "Pass:6, Cost:401.27716\n",
      "Test:6, Cost:85.42439\n",
      "Pass:7, Cost:444.56476\n",
      "Test:7, Cost:86.13264\n",
      "Pass:8, Cost:248.48369\n",
      "Test:8, Cost:271.44189\n",
      "Pass:9, Cost:414.73486\n",
      "Test:9, Cost:63.59779\n",
      "Pass:10, Cost:289.60080\n",
      "Test:10, Cost:3.99081\n",
      "Pass:11, Cost:266.85876\n",
      "Test:11, Cost:135.23671\n",
      "Pass:12, Cost:281.02438\n",
      "Test:12, Cost:131.76479\n",
      "Pass:13, Cost:330.60297\n",
      "Test:13, Cost:40.27745\n",
      "Pass:14, Cost:347.72363\n",
      "Test:14, Cost:247.17284\n",
      "Pass:15, Cost:218.46457\n",
      "Test:15, Cost:7.16919\n",
      "Pass:16, Cost:144.08795\n",
      "Test:16, Cost:15.15618\n",
      "Pass:17, Cost:194.19962\n",
      "Test:17, Cost:18.91634\n",
      "Pass:18, Cost:319.24149\n",
      "Test:18, Cost:192.22235\n",
      "Pass:19, Cost:314.41312\n",
      "Test:19, Cost:37.78756\n",
      "Pass:20, Cost:299.24405\n",
      "Test:20, Cost:40.25978\n",
      "Pass:21, Cost:149.13622\n",
      "Test:21, Cost:46.24664\n",
      "Pass:22, Cost:218.25845\n",
      "Test:22, Cost:43.28192\n",
      "Pass:23, Cost:118.82626\n",
      "Test:23, Cost:14.27442\n",
      "Pass:24, Cost:179.05563\n",
      "Test:24, Cost:40.43729\n",
      "Pass:25, Cost:206.36841\n",
      "Test:25, Cost:37.72798\n",
      "Pass:26, Cost:99.59537\n",
      "Test:26, Cost:32.25101\n",
      "Pass:27, Cost:130.40523\n",
      "Test:27, Cost:39.07995\n",
      "Pass:28, Cost:70.17763\n",
      "Test:28, Cost:14.06629\n",
      "Pass:29, Cost:137.14551\n",
      "Test:29, Cost:28.25431\n",
      "Pass:30, Cost:103.85034\n",
      "Test:30, Cost:8.21565\n",
      "Pass:31, Cost:100.06374\n",
      "Test:31, Cost:26.70022\n",
      "Pass:32, Cost:99.59456\n",
      "Test:32, Cost:0.91999\n",
      "Pass:33, Cost:135.58694\n",
      "Test:33, Cost:28.27007\n",
      "Pass:34, Cost:71.99010\n",
      "Test:34, Cost:44.13773\n",
      "Pass:35, Cost:28.58933\n",
      "Test:35, Cost:38.91295\n",
      "Pass:36, Cost:61.93342\n",
      "Test:36, Cost:35.82901\n",
      "Pass:37, Cost:31.21518\n",
      "Test:37, Cost:6.01281\n",
      "Pass:38, Cost:151.47932\n",
      "Test:38, Cost:11.42273\n",
      "Pass:39, Cost:80.30394\n",
      "Test:39, Cost:15.62239\n",
      "Pass:40, Cost:64.44712\n",
      "Test:40, Cost:120.67617\n",
      "Pass:41, Cost:38.06241\n",
      "Test:41, Cost:99.89591\n",
      "Pass:42, Cost:11.41323\n",
      "Test:42, Cost:26.91023\n",
      "Pass:43, Cost:59.48586\n",
      "Test:43, Cost:19.70462\n",
      "Pass:44, Cost:30.95368\n",
      "Test:44, Cost:15.05665\n",
      "Pass:45, Cost:148.35667\n",
      "Test:45, Cost:24.53553\n",
      "Pass:46, Cost:89.31727\n",
      "Test:46, Cost:85.53177\n",
      "Pass:47, Cost:8.13306\n",
      "Test:47, Cost:39.55610\n",
      "Pass:48, Cost:61.95716\n",
      "Test:48, Cost:11.80618\n",
      "Pass:49, Cost:128.85576\n",
      "Test:49, Cost:11.96146\n",
      "save models to /home/aistudio/work/fit_a_line.inference.model\n"
     ]
    },
    {
     "data": {
      "image/png": "[encoded data removed]",
      "text/plain": [
       "<Figure size 432x288 with 1 Axes>"
      ]
     },
     "metadata": {},
     "output_type": "display_data"
    }
   ],
   "source": [
    "EPOCH_NUM=50\r\n",
    "model_save_dir = \"/home/aistudio/work/fit_a_line.inference.model\"\r\n",
    "\r\n",
    "for pass_id in range(EPOCH_NUM):                                  #训练EPOCH_NUM轮\r\n",
    "    # 开始训练并输出最后一个batch的损失值\r\n",
    "    train_cost = 0\r\n",
    "    for batch_id, data in enumerate(train_reader()):              #遍历train_reader迭代器\r\n",
    "        train_cost = exe.run(program=fluid.default_main_program(),#运行主程序\r\n",
    "                             feed=feeder.feed(data),              #喂入一个batch的训练数据，根据feed_list和data提供的信息，将输入数据转成一种特殊的数据结构\r\n",
    "                             fetch_list=[avg_cost])    \r\n",
    "        if batch_id % 40 == 0:\r\n",
    "            print(\"Pass:%d, Cost:%0.5f\" % (pass_id, train_cost[0][0]))    #打印最后一个batch的损失值\r\n",
    "        iter=iter+BATCH_SIZE\r\n",
    "        iters.append(iter)\r\n",
    "        train_costs.append(train_cost[0][0])\r\n",
    "       \r\n",
    "   \r\n",
    "    # 开始测试并输出最后一个batch的损失值\r\n",
    "    test_cost = 0\r\n",
    "    for batch_id, data in enumerate(test_reader()):               #遍历test_reader迭代器\r\n",
    "        test_cost= exe.run(program=test_program, #运行测试cheng\r\n",
    "                            feed=feeder.feed(data),               #喂入一个batch的测试数据\r\n",
    "                            fetch_list=[avg_cost])                #fetch均方误差\r\n",
    "    print('Test:%d, Cost:%0.5f' % (pass_id, test_cost[0][0]))     #打印最后一个batch的损失值\r\n",
    "    \r\n",
    "    #保存模型\r\n",
    "    # 如果保存路径不存在就创建\r\n",
    "if not os.path.exists(model_save_dir):\r\n",
    "    os.makedirs(model_save_dir)\r\n",
    "print ('save models to %s' % (model_save_dir))\r\n",
    "#保存训练参数到指定路径中，构建一个专门用预测的program\r\n",
    "fluid.io.save_inference_model(model_save_dir,   #保存推理model的路径\r\n",
    "                                  ['x'],            #推理（inference）需要 feed 的数据\r\n",
    "                                  [y_predict],      #保存推理（inference）结果的 Variables\r\n",
    "                                  exe)              #exe 保存 inference model\r\n",
    "draw_train_process(iters,train_costs)"
   ]
  },
  {
   "cell_type": "code",
   "execution_count": 45,
   "metadata": {
    "collapsed": false
   },
   "outputs": [],
   "source": [
    "infer_exe = fluid.Executor(place)    #创建推测用的executor\r\n",
    "inference_scope = fluid.core.Scope() #Scope指定作用域"
   ]
  },
  {
   "cell_type": "code",
   "execution_count": 46,
   "metadata": {
    "collapsed": false
   },
   "outputs": [],
   "source": [
    "infer_results=[]\r\n",
    "groud_truths=[]\r\n",
    "\r\n",
    "#绘制真实值和预测值对比图\r\n",
    "def draw_infer_result(groud_truths,infer_results):\r\n",
    "    title='Boston'\r\n",
    "    plt.title(title, fontsize=24)\r\n",
    "    x = np.arange(1,20) \r\n",
    "    y = x\r\n",
    "    plt.plot(x, y)\r\n",
    "    plt.xlabel('ground truth', fontsize=14)\r\n",
    "    plt.ylabel('infer result', fontsize=14)\r\n",
    "    plt.scatter(groud_truths, infer_results,color='green',label='training cost') \r\n",
    "    plt.grid()\r\n",
    "    plt.show()"
   ]
  },
  {
   "cell_type": "code",
   "execution_count": 47,
   "metadata": {
    "collapsed": false
   },
   "outputs": [
    {
     "name": "stdout",
     "output_type": "stream",
     "text": [
      "infer results: (House Price)\n",
      "0: 13.70\n",
      "1: 13.90\n",
      "2: 13.47\n",
      "3: 14.75\n",
      "4: 14.04\n",
      "5: 14.67\n",
      "6: 14.54\n",
      "7: 14.23\n",
      "8: 12.54\n",
      "9: 14.06\n",
      "10: 11.99\n",
      "11: 13.25\n",
      "12: 13.74\n",
      "13: 13.32\n",
      "14: 13.55\n",
      "15: 14.06\n",
      "16: 14.61\n",
      "17: 14.49\n",
      "18: 14.96\n",
      "19: 14.00\n",
      "20: 14.57\n",
      "21: 13.41\n",
      "22: 14.96\n",
      "23: 14.44\n",
      "24: 14.16\n",
      "25: 13.73\n",
      "26: 14.75\n",
      "27: 14.67\n",
      "28: 15.37\n",
      "29: 14.36\n",
      "30: 14.23\n",
      "31: 13.73\n",
      "32: 13.88\n",
      "33: 13.05\n",
      "34: 12.72\n",
      "35: 13.91\n",
      "36: 14.03\n",
      "37: 14.39\n",
      "38: 14.50\n",
      "39: 14.42\n",
      "40: 13.60\n",
      "41: 13.48\n",
      "42: 14.37\n",
      "43: 14.56\n",
      "44: 14.53\n",
      "45: 14.36\n",
      "46: 14.14\n",
      "47: 14.67\n",
      "48: 14.72\n",
      "49: 15.04\n",
      "50: 14.04\n",
      "51: 14.20\n",
      "52: 13.85\n",
      "53: 14.08\n",
      "54: 14.72\n",
      "55: 14.97\n",
      "56: 14.73\n",
      "57: 15.01\n",
      "58: 15.13\n",
      "59: 15.36\n",
      "60: 15.65\n",
      "61: 15.57\n",
      "62: 14.30\n",
      "63: 14.75\n",
      "64: 15.37\n",
      "65: 15.79\n",
      "66: 15.48\n",
      "67: 15.85\n",
      "68: 15.83\n",
      "69: 16.13\n",
      "70: 14.77\n",
      "71: 14.49\n",
      "72: 15.10\n",
      "73: 14.06\n",
      "74: 14.94\n",
      "75: 15.41\n",
      "76: 16.40\n",
      "77: 16.64\n",
      "78: 16.79\n",
      "79: 16.64\n",
      "80: 16.17\n",
      "81: 16.43\n",
      "82: 15.63\n",
      "83: 16.14\n",
      "84: 15.90\n",
      "85: 15.29\n",
      "86: 14.74\n",
      "87: 16.00\n",
      "88: 16.58\n",
      "89: 20.42\n",
      "90: 20.55\n",
      "91: 20.40\n",
      "92: 19.42\n",
      "93: 20.10\n",
      "94: 20.31\n",
      "95: 19.87\n",
      "96: 20.01\n",
      "97: 21.28\n",
      "98: 21.03\n",
      "99: 21.38\n",
      "100: 21.28\n",
      "101: 21.03\n",
      "ground truth:\n",
      "0: 8.50\n",
      "1: 5.00\n",
      "2: 11.90\n",
      "3: 27.90\n",
      "4: 17.20\n",
      "5: 27.50\n",
      "6: 15.00\n",
      "7: 17.20\n",
      "8: 17.90\n",
      "9: 16.30\n",
      "10: 7.00\n",
      "11: 7.20\n",
      "12: 7.50\n",
      "13: 10.40\n",
      "14: 8.80\n",
      "15: 8.40\n",
      "16: 16.70\n",
      "17: 14.20\n",
      "18: 20.80\n",
      "19: 13.40\n",
      "20: 11.70\n",
      "21: 8.30\n",
      "22: 10.20\n",
      "23: 10.90\n",
      "24: 11.00\n",
      "25: 9.50\n",
      "26: 14.50\n",
      "27: 14.10\n",
      "28: 16.10\n",
      "29: 14.30\n",
      "30: 11.70\n",
      "31: 13.40\n",
      "32: 9.60\n",
      "33: 8.70\n",
      "34: 8.40\n",
      "35: 12.80\n",
      "36: 10.50\n",
      "37: 17.10\n",
      "38: 18.40\n",
      "39: 15.40\n",
      "40: 10.80\n",
      "41: 11.80\n",
      "42: 14.90\n",
      "43: 12.60\n",
      "44: 14.10\n",
      "45: 13.00\n",
      "46: 13.40\n",
      "47: 15.20\n",
      "48: 16.10\n",
      "49: 17.80\n",
      "50: 14.90\n",
      "51: 14.10\n",
      "52: 12.70\n",
      "53: 13.50\n",
      "54: 14.90\n",
      "55: 20.00\n",
      "56: 16.40\n",
      "57: 17.70\n",
      "58: 19.50\n",
      "59: 20.20\n",
      "60: 21.40\n",
      "61: 19.90\n",
      "62: 19.00\n",
      "63: 19.10\n",
      "64: 19.10\n",
      "65: 20.10\n",
      "66: 19.90\n",
      "67: 19.60\n",
      "68: 23.20\n",
      "69: 29.80\n",
      "70: 13.80\n",
      "71: 13.30\n",
      "72: 16.70\n",
      "73: 12.00\n",
      "74: 14.60\n",
      "75: 21.40\n",
      "76: 23.00\n",
      "77: 23.70\n",
      "78: 25.00\n",
      "79: 21.80\n",
      "80: 20.60\n",
      "81: 21.20\n",
      "82: 19.10\n",
      "83: 20.60\n",
      "84: 15.20\n",
      "85: 7.00\n",
      "86: 8.10\n",
      "87: 13.60\n",
      "88: 20.10\n",
      "89: 21.80\n",
      "90: 24.50\n",
      "91: 23.10\n",
      "92: 19.70\n",
      "93: 18.30\n",
      "94: 21.20\n",
      "95: 17.50\n",
      "96: 16.80\n",
      "97: 22.40\n",
      "98: 20.60\n",
      "99: 23.90\n",
      "100: 22.00\n",
      "101: 11.90\n"
     ]
    },
    {
     "name": "stderr",
     "output_type": "stream",
     "text": [
      "/opt/conda/envs/python35-paddle120-env/lib/python3.7/site-packages/ipykernel_launcher.py:9: DeprecationWarning: \u001b[93m\n",
      "Warning:\n",
      "API \"paddle.dataset.uci_housing.test\" is deprecated since 2.0.0, and will be removed in future versions. Please use \"paddle.text.datasets.UCIHousing\" instead.\n",
      "reason: Please use new dataset API which supports paddle.io.DataLoader \u001b[0m\n",
      "  if __name__ == '__main__':\n"
     ]
    },
    {
     "data": {
      "image/png": "[encoded data removed]",
      "text/plain": [
       "<Figure size 432x288 with 1 Axes>"
      ]
     },
     "metadata": {},
     "output_type": "display_data"
    }
   ],
   "source": [
    "with fluid.scope_guard(inference_scope):#修改全局/默认作用域（scope）, 运行时中的所有变量都将分配给新的scope。\r\n",
    "    #从指定目录中加载 推理model(inference model)\r\n",
    "    [inference_program,                             #推理的program\r\n",
    "     feed_target_names,                             #需要在推理program中提供数据的变量名称\r\n",
    "     fetch_targets] = fluid.io.load_inference_model(#fetch_targets: 推断结果\r\n",
    "                                    model_save_dir, #model_save_dir:模型训练路径 \r\n",
    "                                    infer_exe)      #infer_exe: 预测用executor\r\n",
    "    #获取预测数据\r\n",
    "    infer_reader = paddle.batch(paddle.dataset.uci_housing.test(),  #获取uci_housing的测试数据\r\n",
    "                          batch_size=200)                           #从测试数据中读取一个大小为200的batch数据\r\n",
    "    #从test_reader中分割x\r\n",
    "    test_data = next(infer_reader())\r\n",
    "    test_x = np.array([data[0] for data in test_data]).astype(\"float32\")\r\n",
    "    test_y= np.array([data[1] for data in test_data]).astype(\"float32\")\r\n",
    "    results = infer_exe.run(inference_program,                              #预测模型\r\n",
    "                            feed={feed_target_names[0]: np.array(test_x)},  #喂入要预测的x值\r\n",
    "                            fetch_list=fetch_targets)                       #得到推测结果 \r\n",
    "                            \r\n",
    "    print(\"infer results: (House Price)\")\r\n",
    "    for idx, val in enumerate(results[0]):\r\n",
    "        print(\"%d: %.2f\" % (idx, val))\r\n",
    "        infer_results.append(val)\r\n",
    "    print(\"ground truth:\")\r\n",
    "    for idx, val in enumerate(test_y):\r\n",
    "        print(\"%d: %.2f\" % (idx, val))\r\n",
    "        groud_truths.append(val)\r\n",
    "    draw_infer_result(groud_truths,infer_results)"
   ]
  },
  {
   "cell_type": "code",
   "execution_count": null,
   "metadata": {
    "collapsed": false
   },
   "outputs": [],
   "source": []
  },
  {
   "cell_type": "code",
   "execution_count": null,
   "metadata": {
    "collapsed": false
   },
   "outputs": [],
   "source": []
  },
  {
   "cell_type": "code",
   "execution_count": null,
   "metadata": {
    "collapsed": false
   },
   "outputs": [],
   "source": []
  },
  {
   "cell_type": "markdown",
   "metadata": {
    "collapsed": false
   },
   "source": [
    "请点击[此处](https://ai.baidu.com/docs#/AIStudio_Project_Notebook/a38e5576)查看本环境基本用法.  <br>\n",
    "Please click [here ](https://ai.baidu.com/docs#/AIStudio_Project_Notebook/a38e5576) for more detailed instructions. "
   ]
  }
 ],
 "metadata": {
  "kernelspec": {
   "display_name": "PaddlePaddle 2.1.0 (Python 3.5)",
   "language": "python",
   "name": "py35-paddle1.2.0"
  },
  "language_info": {
   "codemirror_mode": {
    "name": "ipython",
    "version": 3
   },
   "file_extension": ".py",
   "mimetype": "text/x-python",
   "name": "python",
   "nbconvert_exporter": "python",
   "pygments_lexer": "ipython3",
   "version": "3.7.4"
  }
 },
 "nbformat": 4,
 "nbformat_minor": 1
}
