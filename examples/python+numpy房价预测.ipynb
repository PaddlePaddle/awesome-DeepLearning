{
 "cells": [
  {
   "cell_type": "code",
   "execution_count": 148,
   "metadata": {
    "collapsed": false
   },
   "outputs": [
    {
     "name": "stdout",
     "output_type": "stream",
     "text": [
      "ls: cannot access '/home/aistudio/data': No such file or directory\r\n"
     ]
    }
   ],
   "source": [
    "# 查看当前挂载的数据集目录, 该目录下的变更重启环境后会自动还原\n",
    "# View dataset directory. \n",
    "# This directory will be recovered automatically after resetting environment. \n",
    "!ls /home/aistudio/data"
   ]
  },
  {
   "cell_type": "code",
   "execution_count": 149,
   "metadata": {
    "collapsed": false
   },
   "outputs": [
    {
     "name": "stdout",
     "output_type": "stream",
     "text": [
      "housing.data\r\n"
     ]
    }
   ],
   "source": [
    "# 查看工作区文件, 该目录下的变更将会持久保存. 请及时清理不必要的文件, 避免加载过慢.\n",
    "# View personal work directory. \n",
    "# All changes under this directory will be kept even after reset. \n",
    "# Please clean unnecessary files in time to speed up environment loading. \n",
    "!ls /home/aistudio/work"
   ]
  },
  {
   "cell_type": "code",
   "execution_count": 150,
   "metadata": {
    "collapsed": false
   },
   "outputs": [
    {
     "name": "stdout",
     "output_type": "stream",
     "text": [
      "mkdir: cannot create directory ‘/home/aistudio/external-libraries’: File exists\n",
      "Looking in indexes: https://mirror.baidu.com/pypi/simple/\n",
      "Collecting beautifulsoup4\n",
      "\u001b[?25l  Downloading https://mirror.baidu.com/pypi/packages/d1/41/e6495bd7d3781cee623ce23ea6ac73282a373088fcd0ddc809a047b18eae/beautifulsoup4-4.9.3-py3-none-any.whl (115kB)\n",
      "\u001b[K     |████████████████████████████████| 122kB 15.5MB/s eta 0:00:01\n",
      "\u001b[?25hCollecting soupsieve>1.2; python_version >= \"3.0\" (from beautifulsoup4)\n",
      "  Downloading https://mirror.baidu.com/pypi/packages/36/69/d82d04022f02733bf9a72bc3b96332d360c0c5307096d76f6bb7489f7e57/soupsieve-2.2.1-py3-none-any.whl\n",
      "Installing collected packages: soupsieve, beautifulsoup4\n",
      "Successfully installed beautifulsoup4-4.9.3 soupsieve-2.2.1\n",
      "\u001b[33mWARNING: Target directory /home/aistudio/external-libraries/bs4 already exists. Specify --upgrade to force replacement.\u001b[0m\n",
      "\u001b[33mWARNING: Target directory /home/aistudio/external-libraries/beautifulsoup4-4.9.3.dist-info already exists. Specify --upgrade to force replacement.\u001b[0m\n",
      "\u001b[33mWARNING: Target directory /home/aistudio/external-libraries/soupsieve already exists. Specify --upgrade to force replacement.\u001b[0m\n",
      "\u001b[33mWARNING: Target directory /home/aistudio/external-libraries/soupsieve-2.2.1.dist-info already exists. Specify --upgrade to force replacement.\u001b[0m\n"
     ]
    }
   ],
   "source": [
    "# 如果需要进行持久化安装, 需要使用持久化路径, 如下方代码示例:\n",
    "# If a persistence installation is required, \n",
    "# you need to use the persistence path as the following: \n",
    "!mkdir /home/aistudio/external-libraries\n",
    "!pip install beautifulsoup4 -t /home/aistudio/external-libraries"
   ]
  },
  {
   "cell_type": "code",
   "execution_count": 151,
   "metadata": {
    "collapsed": false
   },
   "outputs": [],
   "source": [
    "# 同时添加如下代码, 这样每次环境(kernel)启动的时候只要运行下方代码即可: \n",
    "# Also add the following code, \n",
    "# so that every time the environment (kernel) starts, \n",
    "# just run the following code: \n",
    "import sys \n",
    "sys.path.append('/home/aistudio/external-libraries')\n"
   ]
  },
  {
   "cell_type": "code",
   "execution_count": 152,
   "metadata": {
    "collapsed": false
   },
   "outputs": [
    {
     "data": {
      "text/plain": [
       "array([6.320e-03, 1.800e+01, 2.310e+00, ..., 3.969e+02, 7.880e+00,\n",
       "       1.190e+01])"
      ]
     },
     "execution_count": 152,
     "metadata": {},
     "output_type": "execute_result"
    }
   ],
   "source": [
    "# 导入需要用到的package\r\n",
    "import matplotlib.pyplot as plt\r\n",
    "import numpy as np\r\n",
    "import json\r\n",
    "# 读入训练数据\r\n",
    "datafile = './work/housing.data'\r\n",
    "data = np.fromfile(datafile, sep=' ')\r\n",
    "data"
   ]
  },
  {
   "cell_type": "code",
   "execution_count": 153,
   "metadata": {
    "collapsed": false
   },
   "outputs": [],
   "source": [
    "# 读入之后的数据被转化成1维array，其中array的第0-13项是第一条数据，第14-27项是第二条数据，以此类推.... \r\n",
    "# 这里对原始数据做reshape，变成N x 14的形式\r\n",
    "feature_names = [ 'CRIM', 'ZN', 'INDUS', 'CHAS', 'NOX', 'RM', 'AGE','DIS', \r\n",
    "                 'RAD', 'TAX', 'PTRATIO', 'B', 'LSTAT', 'MEDV' ]\r\n",
    "feature_num = len(feature_names)\r\n",
    "data = data.reshape([data.shape[0] // feature_num, feature_num])"
   ]
  },
  {
   "cell_type": "markdown",
   "metadata": {
    "collapsed": false
   },
   "source": [
    "请点击[此处](https://ai.baidu.com/docs#/AIStudio_Project_Notebook/a38e5576)查看本环境基本用法.  <br>\n",
    "Please click [here ](https://ai.baidu.com/docs#/AIStudio_Project_Notebook/a38e5576) for more detailed instructions. "
   ]
  },
  {
   "cell_type": "code",
   "execution_count": 154,
   "metadata": {
    "collapsed": false
   },
   "outputs": [],
   "source": [
    "def load_data():\r\n",
    "    # 从文件导入数据\r\n",
    "    datafile = './work/housing.data'\r\n",
    "    data = np.fromfile(datafile, sep=' ')\r\n",
    "\r\n",
    "    # 每条数据包括14项，其中前面13项是影响因素，第14项是相应的房屋价格中位数\r\n",
    "    feature_names = [ 'CRIM', 'ZN', 'INDUS', 'CHAS', 'NOX', 'RM', 'AGE', \\\r\n",
    "                      'DIS', 'RAD', 'TAX', 'PTRATIO', 'B', 'LSTAT', 'MEDV' ]\r\n",
    "    feature_num = len(feature_names)\r\n",
    "\r\n",
    "    # 将原始数据进行Reshape，变成[N, 14]这样的形状\r\n",
    "    data = data.reshape([data.shape[0] // feature_num, feature_num])\r\n",
    "\r\n",
    "    # 将原数据集拆分成训练集和测试集\r\n",
    "    # 这里使用80%的数据做训练，20%的数据做测试\r\n",
    "    # 测试集和训练集必须是没有交集的\r\n",
    "    ratio = 0.8\r\n",
    "    offset = int(data.shape[0] * ratio)\r\n",
    "    training_data = data[:offset]\r\n",
    "\r\n",
    "    # 计算训练集的最大值，最小值，平均值\r\n",
    "    maximums, minimums, avgs = training_data.max(axis=0), training_data.min(axis=0), \\\r\n",
    "                                 training_data.sum(axis=0) / training_data.shape[0]\r\n",
    "    global max_values\r\n",
    "    global min_values\r\n",
    "    global avg_values\r\n",
    "    max_values = maximums\r\n",
    "    min_values = minimums\r\n",
    "    avg_values = avgs \r\n",
    "    # 对数据进行归一化处理\r\n",
    "    for i in range(feature_num):\r\n",
    "        #print(maximums[i], minimums[i], avgs[i])\r\n",
    "            data[:, i] = (data[:, i] - minimums[i]) / (maximums[i] - minimums[i])\r\n",
    "\r\n",
    "    # 训练集和测试集的划分比例\r\n",
    "    training_data = data[:offset]\r\n",
    "    test_data = data[offset:]\r\n",
    "    return training_data, test_data"
   ]
  },
  {
   "cell_type": "code",
   "execution_count": 155,
   "metadata": {
    "collapsed": false
   },
   "outputs": [
    {
     "name": "stdout",
     "output_type": "stream",
     "text": [
      "Epoch   0 / iter   0, loss = 9.3905\n",
      "Epoch   0 / iter   1, loss = 53.2639\n",
      "Epoch   0 / iter   2, loss = 19.5325\n",
      "Epoch   0 / iter   3, loss = 0.3731\n",
      "Epoch   0 / iter   4, loss = 0.1651\n",
      "Epoch   1 / iter   0, loss = 0.2710\n",
      "Epoch   1 / iter   1, loss = 0.2891\n",
      "Epoch   1 / iter   2, loss = 0.3124\n",
      "Epoch   1 / iter   3, loss = 0.2886\n",
      "Epoch   1 / iter   4, loss = 0.2804\n",
      "Epoch   2 / iter   0, loss = 0.3080\n",
      "Epoch   2 / iter   1, loss = 0.2757\n",
      "Epoch   2 / iter   2, loss = 0.3312\n",
      "Epoch   2 / iter   3, loss = 0.2901\n",
      "Epoch   2 / iter   4, loss = 0.1911\n",
      "Epoch   3 / iter   0, loss = 0.3174\n",
      "Epoch   3 / iter   1, loss = 0.2929\n",
      "Epoch   3 / iter   2, loss = 0.3044\n",
      "Epoch   3 / iter   3, loss = 0.3080\n",
      "Epoch   3 / iter   4, loss = 0.4845\n",
      "Epoch   4 / iter   0, loss = 0.2768\n",
      "Epoch   4 / iter   1, loss = 0.3163\n",
      "Epoch   4 / iter   2, loss = 0.2747\n",
      "Epoch   4 / iter   3, loss = 0.3312\n",
      "Epoch   4 / iter   4, loss = 0.4771\n",
      "Epoch   5 / iter   0, loss = 0.2916\n",
      "Epoch   5 / iter   1, loss = 0.2622\n",
      "Epoch   5 / iter   2, loss = 0.3237\n",
      "Epoch   5 / iter   3, loss = 0.2705\n",
      "Epoch   5 / iter   4, loss = 0.8148\n",
      "Epoch   6 / iter   0, loss = 0.3229\n",
      "Epoch   6 / iter   1, loss = 0.2947\n",
      "Epoch   6 / iter   2, loss = 0.2385\n",
      "Epoch   6 / iter   3, loss = 0.2833\n",
      "Epoch   6 / iter   4, loss = 0.3434\n",
      "Epoch   7 / iter   0, loss = 0.2796\n",
      "Epoch   7 / iter   1, loss = 0.2773\n",
      "Epoch   7 / iter   2, loss = 0.2655\n",
      "Epoch   7 / iter   3, loss = 0.2918\n",
      "Epoch   7 / iter   4, loss = 0.2914\n",
      "Epoch   8 / iter   0, loss = 0.2350\n",
      "Epoch   8 / iter   1, loss = 0.3281\n",
      "Epoch   8 / iter   2, loss = 0.2651\n",
      "Epoch   8 / iter   3, loss = 0.2545\n",
      "Epoch   8 / iter   4, loss = 0.4131\n",
      "Epoch   9 / iter   0, loss = 0.3107\n",
      "Epoch   9 / iter   1, loss = 0.2460\n",
      "Epoch   9 / iter   2, loss = 0.2709\n",
      "Epoch   9 / iter   3, loss = 0.2383\n",
      "Epoch   9 / iter   4, loss = 0.0871\n",
      "Epoch  10 / iter   0, loss = 0.2569\n",
      "Epoch  10 / iter   1, loss = 0.2805\n",
      "Epoch  10 / iter   2, loss = 0.2320\n",
      "Epoch  10 / iter   3, loss = 0.2850\n",
      "Epoch  10 / iter   4, loss = 0.1628\n",
      "Epoch  11 / iter   0, loss = 0.2828\n",
      "Epoch  11 / iter   1, loss = 0.2789\n",
      "Epoch  11 / iter   2, loss = 0.2527\n",
      "Epoch  11 / iter   3, loss = 0.2030\n",
      "Epoch  11 / iter   4, loss = 0.4228\n",
      "Epoch  12 / iter   0, loss = 0.2179\n",
      "Epoch  12 / iter   1, loss = 0.2552\n",
      "Epoch  12 / iter   2, loss = 0.3005\n",
      "Epoch  12 / iter   3, loss = 0.2422\n",
      "Epoch  12 / iter   4, loss = 0.3029\n",
      "Epoch  13 / iter   0, loss = 0.2548\n",
      "Epoch  13 / iter   1, loss = 0.2909\n",
      "Epoch  13 / iter   2, loss = 0.2507\n",
      "Epoch  13 / iter   3, loss = 0.2017\n",
      "Epoch  13 / iter   4, loss = 0.4663\n",
      "Epoch  14 / iter   0, loss = 0.2975\n",
      "Epoch  14 / iter   1, loss = 0.2189\n",
      "Epoch  14 / iter   2, loss = 0.2446\n",
      "Epoch  14 / iter   3, loss = 0.2313\n",
      "Epoch  14 / iter   4, loss = 0.4343\n",
      "Epoch  15 / iter   0, loss = 0.2752\n",
      "Epoch  15 / iter   1, loss = 0.1981\n",
      "Epoch  15 / iter   2, loss = 0.2719\n",
      "Epoch  15 / iter   3, loss = 0.2508\n",
      "Epoch  15 / iter   4, loss = 0.1851\n",
      "Epoch  16 / iter   0, loss = 0.2363\n",
      "Epoch  16 / iter   1, loss = 0.2483\n",
      "Epoch  16 / iter   2, loss = 0.2290\n",
      "Epoch  16 / iter   3, loss = 0.2651\n",
      "Epoch  16 / iter   4, loss = 0.1770\n",
      "Epoch  17 / iter   0, loss = 0.2545\n",
      "Epoch  17 / iter   1, loss = 0.2578\n",
      "Epoch  17 / iter   2, loss = 0.2549\n",
      "Epoch  17 / iter   3, loss = 0.2163\n",
      "Epoch  17 / iter   4, loss = 0.1602\n",
      "Epoch  18 / iter   0, loss = 0.2529\n",
      "Epoch  18 / iter   1, loss = 0.2412\n",
      "Epoch  18 / iter   2, loss = 0.2503\n",
      "Epoch  18 / iter   3, loss = 0.2299\n",
      "Epoch  18 / iter   4, loss = 0.1320\n",
      "Epoch  19 / iter   0, loss = 0.2486\n",
      "Epoch  19 / iter   1, loss = 0.2426\n",
      "Epoch  19 / iter   2, loss = 0.2559\n",
      "Epoch  19 / iter   3, loss = 0.2301\n",
      "Epoch  19 / iter   4, loss = 0.1575\n",
      "Epoch  20 / iter   0, loss = 0.2595\n",
      "Epoch  20 / iter   1, loss = 0.2236\n",
      "Epoch  20 / iter   2, loss = 0.2448\n",
      "Epoch  20 / iter   3, loss = 0.2371\n",
      "Epoch  20 / iter   4, loss = 0.1965\n",
      "Epoch  21 / iter   0, loss = 0.2211\n",
      "Epoch  21 / iter   1, loss = 0.2052\n",
      "Epoch  21 / iter   2, loss = 0.2413\n",
      "Epoch  21 / iter   3, loss = 0.3002\n",
      "Epoch  21 / iter   4, loss = 0.1765\n",
      "Epoch  22 / iter   0, loss = 0.2633\n",
      "Epoch  22 / iter   1, loss = 0.2388\n",
      "Epoch  22 / iter   2, loss = 0.2332\n",
      "Epoch  22 / iter   3, loss = 0.2242\n",
      "Epoch  22 / iter   4, loss = 0.1031\n",
      "Epoch  23 / iter   0, loss = 0.2256\n",
      "Epoch  23 / iter   1, loss = 0.2515\n",
      "Epoch  23 / iter   2, loss = 0.2219\n",
      "Epoch  23 / iter   3, loss = 0.2574\n",
      "Epoch  23 / iter   4, loss = 0.3542\n",
      "Epoch  24 / iter   0, loss = 0.2257\n",
      "Epoch  24 / iter   1, loss = 0.2548\n",
      "Epoch  24 / iter   2, loss = 0.2389\n",
      "Epoch  24 / iter   3, loss = 0.2255\n",
      "Epoch  24 / iter   4, loss = 0.3743\n",
      "Epoch  25 / iter   0, loss = 0.2388\n",
      "Epoch  25 / iter   1, loss = 0.2651\n",
      "Epoch  25 / iter   2, loss = 0.2048\n",
      "Epoch  25 / iter   3, loss = 0.2429\n",
      "Epoch  25 / iter   4, loss = 0.1172\n",
      "Epoch  26 / iter   0, loss = 0.2343\n",
      "Epoch  26 / iter   1, loss = 0.2233\n",
      "Epoch  26 / iter   2, loss = 0.2476\n",
      "Epoch  26 / iter   3, loss = 0.2335\n",
      "Epoch  26 / iter   4, loss = 0.5239\n",
      "Epoch  27 / iter   0, loss = 0.2989\n",
      "Epoch  27 / iter   1, loss = 0.1931\n",
      "Epoch  27 / iter   2, loss = 0.2155\n",
      "Epoch  27 / iter   3, loss = 0.2389\n",
      "Epoch  27 / iter   4, loss = 0.1788\n",
      "Epoch  28 / iter   0, loss = 0.2532\n",
      "Epoch  28 / iter   1, loss = 0.2328\n",
      "Epoch  28 / iter   2, loss = 0.2052\n",
      "Epoch  28 / iter   3, loss = 0.2622\n",
      "Epoch  28 / iter   4, loss = 0.0499\n",
      "Epoch  29 / iter   0, loss = 0.2550\n",
      "Epoch  29 / iter   1, loss = 0.2348\n",
      "Epoch  29 / iter   2, loss = 0.2353\n",
      "Epoch  29 / iter   3, loss = 0.2170\n",
      "Epoch  29 / iter   4, loss = 0.2343\n",
      "Epoch  30 / iter   0, loss = 0.2236\n",
      "Epoch  30 / iter   1, loss = 0.2479\n",
      "Epoch  30 / iter   2, loss = 0.2390\n",
      "Epoch  30 / iter   3, loss = 0.2324\n",
      "Epoch  30 / iter   4, loss = 0.2359\n",
      "Epoch  31 / iter   0, loss = 0.2421\n",
      "Epoch  31 / iter   1, loss = 0.2673\n",
      "Epoch  31 / iter   2, loss = 0.1924\n",
      "Epoch  31 / iter   3, loss = 0.2326\n",
      "Epoch  31 / iter   4, loss = 0.2465\n",
      "Epoch  32 / iter   0, loss = 0.2544\n",
      "Epoch  32 / iter   1, loss = 0.2275\n",
      "Epoch  32 / iter   2, loss = 0.2070\n",
      "Epoch  32 / iter   3, loss = 0.2410\n",
      "Epoch  32 / iter   4, loss = 0.3825\n",
      "Epoch  33 / iter   0, loss = 0.2278\n",
      "Epoch  33 / iter   1, loss = 0.2633\n",
      "Epoch  33 / iter   2, loss = 0.2288\n",
      "Epoch  33 / iter   3, loss = 0.2137\n",
      "Epoch  33 / iter   4, loss = 0.2867\n",
      "Epoch  34 / iter   0, loss = 0.2213\n",
      "Epoch  34 / iter   1, loss = 0.2142\n",
      "Epoch  34 / iter   2, loss = 0.2774\n",
      "Epoch  34 / iter   3, loss = 0.2226\n",
      "Epoch  34 / iter   4, loss = 0.1754\n",
      "Epoch  35 / iter   0, loss = 0.2551\n",
      "Epoch  35 / iter   1, loss = 0.1944\n",
      "Epoch  35 / iter   2, loss = 0.2220\n",
      "Epoch  35 / iter   3, loss = 0.2687\n",
      "Epoch  35 / iter   4, loss = 0.1444\n",
      "Epoch  36 / iter   0, loss = 0.2557\n",
      "Epoch  36 / iter   1, loss = 0.2565\n",
      "Epoch  36 / iter   2, loss = 0.2099\n",
      "Epoch  36 / iter   3, loss = 0.2165\n",
      "Epoch  36 / iter   4, loss = 0.0559\n",
      "Epoch  37 / iter   0, loss = 0.2806\n",
      "Epoch  37 / iter   1, loss = 0.2119\n",
      "Epoch  37 / iter   2, loss = 0.2013\n",
      "Epoch  37 / iter   3, loss = 0.2284\n",
      "Epoch  37 / iter   4, loss = 0.3955\n",
      "Epoch  38 / iter   0, loss = 0.2469\n",
      "Epoch  38 / iter   1, loss = 0.2531\n",
      "Epoch  38 / iter   2, loss = 0.2215\n",
      "Epoch  38 / iter   3, loss = 0.1937\n",
      "Epoch  38 / iter   4, loss = 0.6113\n",
      "Epoch  39 / iter   0, loss = 0.2210\n",
      "Epoch  39 / iter   1, loss = 0.2338\n",
      "Epoch  39 / iter   2, loss = 0.2598\n",
      "Epoch  39 / iter   3, loss = 0.2195\n",
      "Epoch  39 / iter   4, loss = 0.2187\n",
      "Epoch  40 / iter   0, loss = 0.2332\n",
      "Epoch  40 / iter   1, loss = 0.2489\n",
      "Epoch  40 / iter   2, loss = 0.2057\n",
      "Epoch  40 / iter   3, loss = 0.2467\n",
      "Epoch  40 / iter   4, loss = 0.0528\n",
      "Epoch  41 / iter   0, loss = 0.2530\n",
      "Epoch  41 / iter   1, loss = 0.2581\n",
      "Epoch  41 / iter   2, loss = 0.2296\n",
      "Epoch  41 / iter   3, loss = 0.1927\n",
      "Epoch  41 / iter   4, loss = 0.1200\n",
      "Epoch  42 / iter   0, loss = 0.2404\n",
      "Epoch  42 / iter   1, loss = 0.2352\n",
      "Epoch  42 / iter   2, loss = 0.2344\n",
      "Epoch  42 / iter   3, loss = 0.2192\n",
      "Epoch  42 / iter   4, loss = 0.2099\n",
      "Epoch  43 / iter   0, loss = 0.1946\n",
      "Epoch  43 / iter   1, loss = 0.2436\n",
      "Epoch  43 / iter   2, loss = 0.2494\n",
      "Epoch  43 / iter   3, loss = 0.2433\n",
      "Epoch  43 / iter   4, loss = 0.1622\n",
      "Epoch  44 / iter   0, loss = 0.2436\n",
      "Epoch  44 / iter   1, loss = 0.2182\n",
      "Epoch  44 / iter   2, loss = 0.2383\n",
      "Epoch  44 / iter   3, loss = 0.2283\n",
      "Epoch  44 / iter   4, loss = 0.0904\n",
      "Epoch  45 / iter   0, loss = 0.2174\n",
      "Epoch  45 / iter   1, loss = 0.2361\n",
      "Epoch  45 / iter   2, loss = 0.2451\n",
      "Epoch  45 / iter   3, loss = 0.2281\n",
      "Epoch  45 / iter   4, loss = 0.2424\n",
      "Epoch  46 / iter   0, loss = 0.2160\n",
      "Epoch  46 / iter   1, loss = 0.2089\n",
      "Epoch  46 / iter   2, loss = 0.2792\n",
      "Epoch  46 / iter   3, loss = 0.2191\n",
      "Epoch  46 / iter   4, loss = 0.2573\n",
      "Epoch  47 / iter   0, loss = 0.2193\n",
      "Epoch  47 / iter   1, loss = 0.1811\n",
      "Epoch  47 / iter   2, loss = 0.2382\n",
      "Epoch  47 / iter   3, loss = 0.2910\n",
      "Epoch  47 / iter   4, loss = 0.1226\n",
      "Epoch  48 / iter   0, loss = 0.2075\n",
      "Epoch  48 / iter   1, loss = 0.2403\n",
      "Epoch  48 / iter   2, loss = 0.2005\n",
      "Epoch  48 / iter   3, loss = 0.2747\n",
      "Epoch  48 / iter   4, loss = 0.1796\n",
      "Epoch  49 / iter   0, loss = 0.2420\n",
      "Epoch  49 / iter   1, loss = 0.2509\n",
      "Epoch  49 / iter   2, loss = 0.2121\n",
      "Epoch  49 / iter   3, loss = 0.2182\n",
      "Epoch  49 / iter   4, loss = 0.1937\n"
     ]
    },
    {
     "data": {
      "image/png": "[encoded data removed]",
      "text/plain": [
       "<Figure size 432x288 with 1 Axes>"
      ]
     },
     "metadata": {},
     "output_type": "display_data"
    }
   ],
   "source": [
    "W1 = np.random.randn(13, 7)     \r\n",
    "W2 = np.random.randn(7, 1)   \r\n",
    "b1 = np.zeros((1, 7))                 \r\n",
    "b2 = np.zeros((1, 1))                \r\n",
    "def forward(x,w,b):\r\n",
    "    z = np.dot(x,w) +b\r\n",
    "    cache = (x,w,b)\r\n",
    "    return z,cache\r\n",
    "\r\n",
    "def backward(dout, cache):   \r\n",
    "    x, w, b = cache                              # 读取缓存\r\n",
    "    dx,dw, db = None, None, None                # 返回值初始化\r\n",
    "    dx = np.dot(dout, w.T)                           \r\n",
    "    dx = np.reshape(dx, x.shape)                   \r\n",
    "    x_row = x.reshape(x.shape[0], -1)                \r\n",
    "    dw = np.dot(x_row.T, dout)                       \r\n",
    "    db = np.sum(dout, axis=0, keepdims=True)        \r\n",
    "    return dx, dw, db\r\n",
    "def loss(z, y):\r\n",
    "    error = z - y\r\n",
    "    num_samples = error.shape[0]\r\n",
    "    cost = error * error\r\n",
    "    cost = np.sum(cost) / num_samples\r\n",
    "    return cost\r\n",
    "\r\n",
    "                \r\n",
    "# 获取数据\r\n",
    "train_data, test_data = load_data()\r\n",
    "\r\n",
    "# 启动训练\r\n",
    "num_epochs=50\r\n",
    "batch_size=100\r\n",
    "eta=0.001\r\n",
    "n = len(training_data)\r\n",
    "losses = []\r\n",
    "reg=0.001\r\n",
    "for epoch_id in range(num_epochs):\r\n",
    "    # 在每轮迭代开始之前，将训练数据的顺序随机打乱\r\n",
    "    # 然后再按每次取batch_size条数据的方式取出\r\n",
    "    np.random.shuffle(training_data)\r\n",
    "    # 将训练数据进行拆分，每个mini_batch包含batch_size条的数据\r\n",
    "    mini_batches = [training_data[k:k+batch_size] for k in range(0, n, batch_size)]\r\n",
    "    for iter_id, mini_batch in enumerate(mini_batches):\r\n",
    "        #print(self.w.shape)\r\n",
    "        #print(self.b)\r\n",
    "        x = mini_batch[:, :-1]\r\n",
    "        y = mini_batch[:, -1:]\r\n",
    "        H,fc_cache = forward(x,W1,b1)                 # 第一层前向传播\r\n",
    "        H = np.maximum(0, H)                                 # 激活\r\n",
    "        relu_cache = H                                       # 缓存第一层激活后的结果\r\n",
    "        Y,cachey =forward(H,W2,b2)                   # 第二层前向传播    \r\n",
    "        lossa = loss(Y, y)\r\n",
    "        dx =Y                                  \r\n",
    "        dh1, dW2, db2 = backward(dx,cachey)          # 反向传播至第二层前\r\n",
    "        dh1[relu_cache <= 0] = 0                             # 反向传播至激活层前\r\n",
    "        dX, dW1, db1 = backward(dh1, fc_cache)        # 反向传播至第一层前\r\n",
    "        #参数更新\r\n",
    "        dW2 += reg * W2\r\n",
    "        dW1 += reg * W1\r\n",
    "        W2 += -eta* dW2\r\n",
    "        b2 += -eta * db2\r\n",
    "        W1 += -eta * dW1\r\n",
    "        b1 += -eta * db1\r\n",
    "        losses.append(lossa)\r\n",
    "        print('Epoch {:3d} / iter {:3d}, loss = {:.4f}'.format(epoch_id, iter_id, lossa))\r\n",
    "\r\n",
    "\r\n",
    "\r\n",
    "# 画出损失函数的变化趋势\r\n",
    "plot_x = np.arange(len(losses))\r\n",
    "plot_y = np.array(losses)\r\n",
    "plt.plot(plot_x, plot_y)\r\n",
    "plt.show()\r\n"
   ]
  },
  {
   "cell_type": "code",
   "execution_count": 156,
   "metadata": {
    "collapsed": false
   },
   "outputs": [
    {
     "data": {
      "image/png": "[encoded data removed]",
      "text/plain": [
       "<Figure size 432x288 with 1 Axes>"
      ]
     },
     "metadata": {},
     "output_type": "display_data"
    },
    {
     "name": "stdout",
     "output_type": "stream",
     "text": [
      "0.061569295066071145\n"
     ]
    }
   ],
   "source": [
    "#预测\r\n",
    "x = test_data[:, :-1]\r\n",
    "y = test_data[:, -1:]\r\n",
    "H,fc_cache = forward(x,W1,b1)               #仿射\r\n",
    "H = np.maximum(0, H)                                  #激活\r\n",
    "relu_cache = H\r\n",
    "Y,cachey =forward(H,W2,b2)  #仿射\r\n",
    "lossa = loss(Y, y)\r\n",
    "\r\n",
    "plt.plot(np.arange(len(x)), Y,  color='skyblue', label='predict')\r\n",
    "plt.plot(np.arange(len(x)), y, color='blue', label='fact')\r\n",
    "plt.legend()\r\n",
    " \r\n",
    "plt.xlabel('x')\r\n",
    "plt.ylabel('price')\r\n",
    "plt.show()\r\n",
    "print(lossa)\r\n"
   ]
  },
  {
   "cell_type": "code",
   "execution_count": 183,
   "metadata": {
    "collapsed": false
   },
   "outputs": [],
   "source": [
    "def load_one_example():\r\n",
    "    # 从上边已加载的测试集中，随机选择一条作为测试数据\r\n",
    "    idx = np.random.randint(0, test_data.shape[0])\r\n",
    "    one_data, label = test_data[idx, :-1], test_data[idx, -1]\r\n",
    "    # 修改该条数据shape为[1,13]\r\n",
    "    one_data =  one_data.reshape([1,-1])\r\n",
    "\r\n",
    "    return one_data, label\r\n"
   ]
  },
  {
   "cell_type": "code",
   "execution_count": 184,
   "metadata": {
    "collapsed": false
   },
   "outputs": [
    {
     "name": "stdout",
     "output_type": "stream",
     "text": [
      "Inference result is [[46.14194497]], the corresponding label is 40.37574257425745\n"
     ]
    }
   ],
   "source": [
    "# 参数为数据集的文件地址\r\n",
    "import numpy\r\n",
    "one_data, label = load_one_example()\r\n",
    "H,fc_cache = forward(one_data,W1,b1)               #仿射\r\n",
    "H = np.maximum(0, H)                                  #激活\r\n",
    "relu_cache = H\r\n",
    "predict,cachey =forward(H,W2,b2)\r\n",
    "# 对结果做反归一化处理\r\n",
    "predict = predict * ( max_values[-1] - min_values[-1]) + avg_values[-1]\r\n",
    "# 对label数据做反归一化处理\r\n",
    "label = label * ( max_values[-1] - min_values[-1]) + avg_values[-1]\r\n",
    "\r\n",
    "print(\"Inference result is {}, the corresponding label is {}\".format(predict, label))"
   ]
  }
 ],
 "metadata": {
  "kernelspec": {
   "display_name": "PaddlePaddle 2.1.0 (Python 3.5)",
   "language": "python",
   "name": "py35-paddle1.2.0"
  },
  "language_info": {
   "codemirror_mode": {
    "name": "ipython",
    "version": 3
   },
   "file_extension": ".py",
   "mimetype": "text/x-python",
   "name": "python",
   "nbconvert_exporter": "python",
   "pygments_lexer": "ipython3",
   "version": "3.7.4"
  }
 },
 "nbformat": 4,
 "nbformat_minor": 1
}
