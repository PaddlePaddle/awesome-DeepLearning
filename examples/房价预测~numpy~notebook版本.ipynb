{
 "cells": [
  {
   "cell_type": "code",
   "execution_count": 1,
   "metadata": {
    "collapsed": false
   },
   "outputs": [],
   "source": [
    "# 查看当前挂载的数据集目录, 该目录下的变更重启环境后会自动还原\n",
    "# View dataset directory. \n",
    "# This directory will be recovered automatically after resetting environment. \n",
    "!ls /home/aistudio/data"
   ]
  },
  {
   "cell_type": "code",
   "execution_count": 2,
   "metadata": {
    "collapsed": false
   },
   "outputs": [],
   "source": [
    "# 查看工作区文件, 该目录下的变更将会持久保存. 请及时清理不必要的文件, 避免加载过慢.\n",
    "# View personal work directory. \n",
    "# All changes under this directory will be kept even after reset. \n",
    "# Please clean unnecessary files in time to speed up environment loading. \n",
    "!ls /home/aistudio/work"
   ]
  },
  {
   "cell_type": "code",
   "execution_count": 3,
   "metadata": {
    "collapsed": false
   },
   "outputs": [
    {
     "name": "stdout",
     "output_type": "stream",
     "text": [
      "Looking in indexes: https://mirror.baidu.com/pypi/simple/\n",
      "Collecting beautifulsoup4\n",
      "\u001b[?25l  Downloading https://mirror.baidu.com/pypi/packages/d1/41/e6495bd7d3781cee623ce23ea6ac73282a373088fcd0ddc809a047b18eae/beautifulsoup4-4.9.3-py3-none-any.whl (115kB)\n",
      "\u001b[K     |████████████████████████████████| 122kB 17.9MB/s eta 0:00:01\n",
      "\u001b[?25hCollecting soupsieve>1.2; python_version >= \"3.0\" (from beautifulsoup4)\n",
      "  Downloading https://mirror.baidu.com/pypi/packages/36/69/d82d04022f02733bf9a72bc3b96332d360c0c5307096d76f6bb7489f7e57/soupsieve-2.2.1-py3-none-any.whl\n",
      "Installing collected packages: soupsieve, beautifulsoup4\n",
      "Successfully installed beautifulsoup4-4.9.3 soupsieve-2.2.1\n"
     ]
    }
   ],
   "source": [
    "# 如果需要进行持久化安装, 需要使用持久化路径, 如下方代码示例:\n",
    "# If a persistence installation is required, \n",
    "# you need to use the persistence path as the following: \n",
    "!mkdir /home/aistudio/external-libraries\n",
    "!pip install beautifulsoup4 -t /home/aistudio/external-libraries"
   ]
  },
  {
   "cell_type": "code",
   "execution_count": 4,
   "metadata": {
    "collapsed": false
   },
   "outputs": [],
   "source": [
    "\n",
    "import sys \n",
    "sys.path.append('/home/aistudio/external-libraries')"
   ]
  },
  {
   "cell_type": "code",
   "execution_count": 6,
   "metadata": {
    "collapsed": false
   },
   "outputs": [
    {
     "name": "stdout",
     "output_type": "stream",
     "text": [
      "iter:0,loss:962.4130921751793\n",
      "iter:20,loss:128.34956618316167\n",
      "iter:40,loss:104.92659089948519\n",
      "iter:60,loss:91.05496706808992\n",
      "iter:80,loss:80.14480540358527\n",
      "iter:100,loss:71.48244084194356\n",
      "iter:120,loss:64.57698102820974\n",
      "iter:140,loss:59.05840981661156\n",
      "iter:160,loss:54.63503737570156\n",
      "iter:180,loss:51.07212632209662\n",
      "iter:200,loss:48.180399885115534\n",
      "iter:220,loss:45.80871249651885\n",
      "iter:240,loss:43.83822622995728\n",
      "iter:260,loss:42.17710007557319\n",
      "iter:280,loss:40.75550286256444\n",
      "iter:300,loss:39.52105812934186\n",
      "iter:320,loss:38.43486685561091\n",
      "iter:340,loss:37.468189653739294\n",
      "iter:360,loss:36.599789790327364\n",
      "iter:380,loss:35.81387847093646\n",
      "iter:400,loss:35.09857190779005\n",
      "iter:420,loss:34.44476085105923\n",
      "iter:440,loss:33.84529916979553\n",
      "iter:460,loss:33.29443133090572\n",
      "iter:480,loss:32.78739412097827\n",
      "iter:500,loss:32.32014272634071\n",
      "iter:520,loss:31.88916395474163\n",
      "iter:540,loss:31.491349553624712\n",
      "iter:560,loss:31.12391038500818\n",
      "iter:580,loss:30.784318011070926\n",
      "iter:600,loss:30.470264438605987\n",
      "iter:620,loss:30.179633746384216\n",
      "iter:640,loss:29.910481396658106\n",
      "iter:660,loss:29.661018461659268\n",
      "iter:680,loss:29.42959896739452\n",
      "iter:700,loss:29.214709209045342\n",
      "iter:720,loss:29.014958324255375\n",
      "iter:740,loss:28.8290696926631\n",
      "iter:760,loss:28.65587291100619\n",
      "iter:780,loss:28.49429620661275\n",
      "iter:800,loss:28.343359221057973\n",
      "iter:820,loss:28.202166135759647\n",
      "iter:840,loss:28.06989913276271\n",
      "iter:860,loss:27.94581219389871\n",
      "iter:880,loss:27.829225244497238\n",
      "iter:900,loss:27.719518646878363\n",
      "iter:920,loss:27.616128045889962\n",
      "iter:940,loss:27.518539564977193\n",
      "iter:960,loss:27.426285347409422\n",
      "iter:980,loss:27.33893943375511\n"
     ]
    },
    {
     "data": {
      "image/png": "[encoded data removed]",
      "text/plain": [
       "<Figure size 432x288 with 1 Axes>"
      ]
     },
     "metadata": {},
     "output_type": "display_data"
    }
   ],
   "source": [
    "import numpy as np\r\n",
    "import matplotlib.pyplot as plt\r\n",
    "\r\n",
    "#数据导入以及处理\r\n",
    "def deal_data():\r\n",
    "    #读取文件数据，此时数据形状是(7084,)，即所有数据在一行中\r\n",
    "    housingdata = np.fromfile('./housing.data',sep=' ')\r\n",
    "\r\n",
    "    #修改数据格式，将每一条房屋数据放在一行中。\r\n",
    "    housingdata = np.array(housingdata).reshape((-1,14))#此时数据形状为(506,14)\r\n",
    "\r\n",
    "    #对数据的前13个属性进行归一化操作，有助于提高模型精准度，这里使用max-min归一化方式。公式为(x-min)/(max-min)\r\n",
    "    for i in range(13):\r\n",
    "        Max =  np.max(housingdata[:,i])\r\n",
    "        Min = np.min(housingdata[:,i])\r\n",
    "        housingdata[:,i]=(housingdata[:,i]-Min)/(Max-Min)\r\n",
    "\r\n",
    "    #依据2-8原则，80%的数据作为训练数据，20%数据作为测试数据；此时训练数据是405条，测试数据是101条\r\n",
    "    Splitdata = round(len(housingdata)*0.8)\r\n",
    "    Train = housingdata[:Splitdata]#训练数据集\r\n",
    "    Test = housingdata[Splitdata:]#测试数据集\r\n",
    "    return Train,Test\r\n",
    "\r\n",
    "#模型设计以及配置\r\n",
    "#首先确定有13个权值参数w，并随机初始化\r\n",
    "class Model_Config(object):\r\n",
    "    def __init__(self,firstnetnum,secondnetnum):\r\n",
    "        np.random.seed(1)\r\n",
    "        self.w0 = np.random.randn(firstnetnum*secondnetnum,1).reshape(firstnetnum,secondnetnum)\r\n",
    "        self.w1 = np.random.randn(secondnetnum,1)\r\n",
    "        self.b0 = np.random.randn(firstnetnum,1).reshape(1,firstnetnum)\r\n",
    "        self.b1 = np.random.randn(1,1)\r\n",
    "     #计算预测值\r\n",
    "    def forward(self,x):\r\n",
    "        hidden1 = np.dot(x,self.w0)+self.b0\r\n",
    "        y = np.dot(hidden1,self.w1)+self.b1\r\n",
    "        return hidden1,y\r\n",
    "    #设置损失函数,这里使用差平方损失函数计算方式\r\n",
    "    def loss(self,z,y):\r\n",
    "        error = z-y\r\n",
    "        cost = error*error\r\n",
    "        avg_cost = np.mean(cost)\r\n",
    "        return avg_cost\r\n",
    "    #计算梯度\r\n",
    "    def back(self,x,y):\r\n",
    "        hidden1,z = self.forward(x)\r\n",
    "        #hidden层的梯度\r\n",
    "        gradient_w1 = (z-y)*hidden1\r\n",
    "        gradient_w1 = np.mean(gradient_w1,axis=0)#这里注意，axis=0必须写上，否则默认将这个数组变成一维的求平均\r\n",
    "        gradient_w1 = gradient_w1[:,np.newaxis]#\r\n",
    "        gradient_b1 = (z-y)\r\n",
    "        gradient_b1 = np.mean(gradient_b1)\r\n",
    "        gradient_w0 = np.zeros(shape=(13,13))\r\n",
    "        for i in range(len(x)):\r\n",
    "            data = x[i,:]\r\n",
    "            data = data[:,np.newaxis]\r\n",
    "            # print(\"data.shape\",data.shape)\r\n",
    "            w1 = self.w1.reshape(1,13)\r\n",
    "            # print(\"self.w1.shape\",w1.shape)\r\n",
    "            gradient_w01 = (z-y)[i]*np.dot(data,w1)\r\n",
    "            # print(\"gradient_w01.shape:\",gradient_w01.shape)\r\n",
    "            gradient_w0+=gradient_w01\r\n",
    "        gradient_w0 = gradient_w0/len(x)\r\n",
    "        w2 = self.w1.reshape(1,13)\r\n",
    "        gradient_b0 =np.mean((z-y)*w2,axis=0)\r\n",
    "\r\n",
    "        return gradient_w1,gradient_b1,gradient_w0,gradient_b0\r\n",
    "        #输入层的梯度\r\n",
    "        #(z-y)x*self.w1\r\n",
    "        # gradient_w0 = np.zeros(shape=(13,13))\r\n",
    "        # gradient_w01 = gradient_w1.reshape(1,13)\r\n",
    "        # for i in range(13):\r\n",
    "        #     data = x[:,i]\r\n",
    "        #     data = data[:,np.newaxis]\r\n",
    "        #     gradient = data*gradient_w01\r\n",
    "        #     gradient = np.mean(gradient,axis=0)\r\n",
    "        #     gradient_w0[i,:] = gradient\r\n",
    "        # gradient_b0 = gradient_b1*self.b0\r\n",
    "        # return gradient_w1,gradient_b1,gradient_w0,gradient_b0\r\n",
    "\r\n",
    "    #使用梯度更新权值参数w\r\n",
    "    def update(self,gradient_w1,gradient_b1,gradient_w0,gradient_b0,learning_rate):\r\n",
    "        self.w1 = self.w1-learning_rate*gradient_w1\r\n",
    "        self.b1 = self.b1-learning_rate*gradient_b1\r\n",
    "        self.w0 = self.w0-learning_rate*gradient_w0\r\n",
    "        self.b0 = self.b0-learning_rate*gradient_b0\r\n",
    "\r\n",
    "    #开始训练\r\n",
    "    def train(self,epoch_num,x,y,learning_rate):\r\n",
    "        #循环迭代\r\n",
    "        losses=[]\r\n",
    "        for i in range(epoch_num):\r\n",
    "            _,z = self.forward(x)\r\n",
    "            avg_loss = self.loss(z,y)\r\n",
    "            gradient_w1,gradient_b1,gradient_w0,gradient_b0 = self.back(x,y)\r\n",
    "            self.update(gradient_w1,gradient_b1,gradient_w0,gradient_b0,learning_rate)\r\n",
    "            losses.append(avg_loss)\r\n",
    "            #每进行20此迭代，显示一下当前的损失值\r\n",
    "            if(i%20==0):\r\n",
    "                print(\"iter:{},loss:{}\".format(i,avg_loss))\r\n",
    "\r\n",
    "        return losses\r\n",
    "def showpeocess(loss,epoch_num):\r\n",
    "    plt.title(\"The Process Of Train\")\r\n",
    "    plt.plot([i for i in range(epoch_num)],loss)\r\n",
    "    plt.xlabel(\"epoch_num\")\r\n",
    "    plt.ylabel(\"loss\")\r\n",
    "    plt.show()\r\n",
    "if __name__ == '__main__':\r\n",
    "    Train,Test = deal_data()\r\n",
    "    np.random.shuffle(Train)\r\n",
    "    #只获取前13个属性的数据\r\n",
    "    x = Train[:,:-1]\r\n",
    "    y = Train[:,-1:]\r\n",
    "    epoch_num = 1000#设置迭代次数\r\n",
    "    Model = Model_Config(13,13)\r\n",
    "    losses = Model.train(epoch_num=epoch_num,x=x,y=y,learning_rate=0.001)\r\n",
    "    showpeocess(loss=losses,epoch_num=epoch_num)\r\n"
   ]
  },
  {
   "cell_type": "markdown",
   "metadata": {
    "collapsed": false
   },
   "source": [
    "请点击[此处](https://ai.baidu.com/docs#/AIStudio_Project_Notebook/a38e5576)查看本环境基本用法.  <br>\n",
    "Please click [here ](https://ai.baidu.com/docs#/AIStudio_Project_Notebook/a38e5576) for more detailed instructions. "
   ]
  }
 ],
 "metadata": {
  "kernelspec": {
   "display_name": "PaddlePaddle 1.8.4 (Python 3.5)",
   "language": "python",
   "name": "py35-paddle1.2.0"
  },
  "language_info": {
   "codemirror_mode": {
    "name": "ipython",
    "version": 3
   },
   "file_extension": ".py",
   "mimetype": "text/x-python",
   "name": "python",
   "nbconvert_exporter": "python",
   "pygments_lexer": "ipython3",
   "version": "3.7.4"
  }
 },
 "nbformat": 4,
 "nbformat_minor": 1
}
