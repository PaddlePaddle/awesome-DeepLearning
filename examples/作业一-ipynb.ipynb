{
 "cells": [
  {
   "cell_type": "code",
   "execution_count": 26,
   "metadata": {
    "collapsed": false
   },
   "outputs": [],
   "source": [
    "import os\r\n",
    "import zipfile\r\n",
    "os.chdir('/home/aistudio/data/data269')\r\n",
    "extracting = zipfile.ZipFile('房价预测.zip')\r\n",
    "extracting.extractall()\r\n"
   ]
  },
  {
   "cell_type": "code",
   "execution_count": 27,
   "metadata": {
    "collapsed": false
   },
   "outputs": [],
   "source": [
    "class Model_Config(object):\r\n",
    "    def __init__(self, firstnetnum, secondnetnum):\r\n",
    "        np.random.seed(1)\r\n",
    "        self.w0 = np.random.randn(firstnetnum * secondnetnum, 1).reshape(firstnetnum, secondnetnum)\r\n",
    "        self.w1 = np.random.randn(secondnetnum, 1)\r\n",
    "        self.b0 = np.random.randn(firstnetnum, 1).reshape(1, firstnetnum)\r\n",
    "        self.b1 = np.random.randn(1, 1)\r\n",
    "\r\n",
    "    # 计算预测值，前向传播过程\r\n",
    "    def forward(self, x):\r\n",
    "        hidden1 = np.dot(x, self.w0) + self.b0  # 由输入层到隐藏层\r\n",
    "        y = np.dot(hidden1, self.w1) + self.b1  # 由隐藏层到输出层\r\n",
    "        return hidden1, y\r\n",
    "\r\n",
    "    # 设置损失函数,这里使用差平方损失函数计算方式\r\n",
    "    def loss(self, z, y):\r\n",
    "        error = z - y\r\n",
    "        cost = error * error\r\n",
    "        avg_cost = np.mean(cost)\r\n",
    "        return avg_cost\r\n",
    "\r\n",
    "    # 计算梯度\r\n",
    "    def back(self, x, y):\r\n",
    "        hidden1, z = self.forward(x)\r\n",
    "        # hidden层的梯度\r\n",
    "        gradient_w1 = (z - y) * hidden1\r\n",
    "        gradient_w1 = np.mean(gradient_w1, axis=0)  # 这里注意，axis=0必须写上，否则默认将这个数组变成一维的求平均\r\n",
    "        gradient_w1 = gradient_w1[:, np.newaxis]  #\r\n",
    "        gradient_b1 = (z - y)\r\n",
    "        gradient_b1 = np.mean(gradient_b1)\r\n",
    "        gradient_w0 = np.zeros(shape=(1, 1))\r\n",
    "        for i in range(len(x)):\r\n",
    "            data = x[i, :]\r\n",
    "            data = data[:, np.newaxis]\r\n",
    "            # print(\"data.shape\",data.shape)\r\n",
    "            w1 = self.w1.reshape(1, 1)\r\n",
    "            # print(\"self.w1.shape\",w1.shape)\r\n",
    "            gradient_w01 = (z - y)[i] * np.dot(data, w1)\r\n",
    "            # print(\"gradient_w01.shape:\",gradient_w01.shape)\r\n",
    "            gradient_w0 += gradient_w01\r\n",
    "        gradient_w0 = gradient_w0 / len(x)\r\n",
    "        w2 = self.w1.reshape(1, 1)\r\n",
    "        gradient_b0 = np.mean((z - y) * w2, axis=0)\r\n",
    "\r\n",
    "        return gradient_w1, gradient_b1, gradient_w0, gradient_b0\r\n",
    "\r\n",
    "    # 使用梯度更新权值参数w1，b1,w0,b0\r\n",
    "    def update(self, gradient_w1, gradient_b1, gradient_w0, gradient_b0, learning_rate):\r\n",
    "        self.w1 = self.w1 - learning_rate * gradient_w1\r\n",
    "        self.b1 = self.b1 - learning_rate * gradient_b1\r\n",
    "        self.w0 = self.w0 - learning_rate * gradient_w0\r\n",
    "        self.b0 = self.b0 - learning_rate * gradient_b0\r\n",
    "\r\n",
    "    # 开始训练\r\n",
    "    def train(self, epoch_num, x, y, learning_rate):\r\n",
    "        # 循环迭代\r\n",
    "        losses = []\r\n",
    "        for i in range(epoch_num):\r\n",
    "            _, z = self.forward(x)  # 前向传播\r\n",
    "            avg_loss = self.loss(z, y)  # 损失函数\r\n",
    "            gradient_w1, gradient_b1, gradient_w0, gradient_b0 = self.back(x, y)  # 计算梯度\r\n",
    "            self.update(gradient_w1, gradient_b1, gradient_w0, gradient_b0, learning_rate)  # 更新梯度\r\n",
    "            losses.append(avg_loss)  # 记录迭代过程中损失函数值\r\n",
    "            # 每进行20此迭代，显示一下当前的损失值\r\n",
    "            if (i % 20 == 0):\r\n",
    "                print(\"iter:{},loss:{}\".format(i, avg_loss))\r\n",
    "        \r\n",
    "        return losses, self.w1, self.b1, self.w0, self.b0\r\n",
    "def deal_data():\r\n",
    "    # 读取文件数据，此时数据形状是(870,2)\r\n",
    "    \r\n",
    "    df =  pd.read_csv(\"./房价预测/data/data.txt\",sep=',')  # 用pandas读取数据，分隔符为逗号\r\n",
    "    housingdata = np.array(df)  # 将DF数据类型转化为numpy数据类型\r\n",
    "\r\n",
    "    # 规范数据格式。\r\n",
    "    housingdata = np.array(housingdata).reshape((-1, 2))  # 此时数据形状为(870,2)\r\n",
    "\r\n",
    "    # 对数据的第一个属性进行归一化操作，有助于提高模型精准度，这里使用max-min归一化方式。公式为(x-min)/(max-min)\r\n",
    "    for i in range(1):\r\n",
    "        Max = np.max(housingdata[:, i])\r\n",
    "        Min = np.min(housingdata[:, i])\r\n",
    "        housingdata[:, i] = (housingdata[:, i] - Min) / (Max - Min)\r\n",
    "\r\n",
    "    # 依据2-8原则，80%的数据作为训练数据，20%数据作为测试数据；\r\n",
    "    Splitdata = round(len(housingdata) * 0.8)\r\n",
    "    Train = housingdata[:Splitdata]  # 训练数据集\r\n",
    "    Test = housingdata[Splitdata:]  # 测试数据集\r\n",
    "    return Train, Test"
   ]
  },
  {
   "cell_type": "code",
   "execution_count": 28,
   "metadata": {
    "collapsed": false
   },
   "outputs": [],
   "source": [
    "import numpy as np\r\n",
    "import matplotlib.pyplot as plt\r\n",
    "import pandas as pd\r\n"
   ]
  },
  {
   "cell_type": "code",
   "execution_count": 29,
   "metadata": {
    "collapsed": false
   },
   "outputs": [],
   "source": [
    "# 画出损失函数随迭代次数增加的情况\r\n",
    "def showpeocess(loss, epoch_num):\r\n",
    "    plt.title(\"The Process Of Train\")\r\n",
    "    plt.plot([i for i in range(epoch_num)], loss)\r\n",
    "    plt.xlabel(\"epoch_num\")\r\n",
    "    plt.ylabel(\"loss\")\r\n",
    "    plt.show()\r\n",
    "\r\n",
    "# 画出测试集标签随迭代次数增加的情况\r\n",
    "def shower_true(true, epoch_num):\r\n",
    "    plt.title(\"true\")\r\n",
    "    plt.plot([i for i in range(epoch_num)], true)\r\n",
    "    plt.xlabel(\"epoch_num\")\r\n",
    "    plt.ylabel(\"value\")\r\n",
    "    plt.show()\r\n",
    "\r\n",
    "# 画出预测值随迭代次数增加的情况\r\n",
    "def shower_predict(predict, epoch_num):\r\n",
    "    plt.title(\"predict\")\r\n",
    "    plt.plot([i for i in range(epoch_num)], predict)\r\n",
    "    plt.xlabel(\"epoch_num\")\r\n",
    "    plt.ylabel(\"value\")\r\n",
    "    plt.show()\r\n",
    "\r\n",
    "# 画出预测值和真实值的对比\r\n",
    "def shower(true, predict, epoch_num):\r\n",
    "    plt.plot([i for i in range(epoch_num)], true)\r\n",
    "    plt.plot([i for i in range(epoch_num)], predict)\r\n",
    "    plt.xlabel(\"num\")\r\n",
    "    plt.ylabel(\"value\")\r\n",
    "    plt.show()\r\n"
   ]
  },
  {
   "cell_type": "code",
   "execution_count": 30,
   "metadata": {
    "collapsed": false
   },
   "outputs": [
    {
     "name": "stdout",
     "output_type": "stream",
     "text": [
      "iter:0,loss:448783.92739766295\n",
      "iter:20,loss:446260.2054846042\n",
      "iter:40,loss:433917.44741002354\n",
      "iter:60,loss:326449.4351836639\n",
      "iter:80,loss:87681.36909037248\n",
      "iter:100,loss:59204.20023157632\n",
      "iter:120,loss:56091.0254650378\n",
      "iter:140,loss:53347.11301059519\n",
      "iter:160,loss:50772.50341327851\n",
      "iter:180,loss:48347.405362174024\n",
      "iter:200,loss:46058.88309370478\n",
      "iter:220,loss:43898.83053350852\n",
      "iter:240,loss:41862.88898192056\n",
      "iter:260,loss:39949.51734393493\n",
      "iter:280,loss:38159.140469580285\n",
      "iter:300,loss:36493.34190676973\n",
      "iter:320,loss:34954.09770779241\n",
      "iter:340,loss:33543.07130577572\n",
      "iter:360,loss:32261.004278381555\n",
      "iter:380,loss:31107.242260886836\n",
      "iter:400,loss:30079.428884571727\n",
      "iter:420,loss:29173.38509911078\n",
      "iter:440,loss:28383.170428015088\n",
      "iter:460,loss:27701.301638053166\n",
      "iter:480,loss:27119.087757231493\n",
      "iter:500,loss:26627.03154250303\n",
      "iter:520,loss:26215.247281688266\n",
      "iter:540,loss:25873.851954484588\n",
      "iter:560,loss:25593.298611850376\n",
      "iter:580,loss:25364.634293470623\n",
      "iter:600,loss:25179.677266457515\n",
      "iter:620,loss:25031.118137097827\n",
      "iter:640,loss:24912.555775539444\n",
      "iter:660,loss:24818.482133702495\n",
      "iter:680,loss:24744.230564794812\n",
      "iter:700,loss:24685.9009981837\n",
      "iter:720,loss:24640.273082756492\n",
      "iter:740,loss:24604.71582264184\n",
      "iter:760,loss:24577.09972770346\n",
      "iter:780,loss:24555.715337244503\n",
      "iter:800,loss:24539.200253095252\n",
      "iter:820,loss:24526.475544034565\n",
      "iter:840,loss:24516.69150765312\n",
      "iter:860,loss:24509.18222401128\n",
      "iter:880,loss:24503.42802935078\n",
      "iter:900,loss:24499.024906664734\n",
      "iter:920,loss:24495.659774602962\n",
      "iter:940,loss:24493.09071204882\n",
      "iter:960,loss:24491.131250223105\n",
      "iter:980,loss:24489.637975106885\n"
     ]
    },
    {
     "name": "stderr",
     "output_type": "stream",
     "text": [
      "/opt/conda/envs/python35-paddle120-env/lib/python3.7/site-packages/matplotlib/cbook/__init__.py:2349: DeprecationWarning: Using or importing the ABCs from 'collections' instead of from 'collections.abc' is deprecated, and in 3.8 it will stop working\n",
      "  if isinstance(obj, collections.Iterator):\n",
      "/opt/conda/envs/python35-paddle120-env/lib/python3.7/site-packages/matplotlib/cbook/__init__.py:2366: DeprecationWarning: Using or importing the ABCs from 'collections' instead of from 'collections.abc' is deprecated, and in 3.8 it will stop working\n",
      "  return list(data) if isinstance(data, collections.MappingView) else data\n"
     ]
    },
    {
     "data": {
      "image/png": "[encoded data removed]",
      "text/plain": [
       "<Figure size 432x288 with 1 Axes>"
      ]
     },
     "metadata": {},
     "output_type": "display_data"
    },
    {
     "data": {
      "image/png": "[encoded data removed]",
      "text/plain": [
       "<Figure size 432x288 with 1 Axes>"
      ]
     },
     "metadata": {},
     "output_type": "display_data"
    }
   ],
   "source": [
    "if __name__ == '__main__':\r\n",
    "    Train, Test = deal_data()  # 读取训练集和测试集\r\n",
    "    np.random.shuffle(Train)  # 随机打乱\r\n",
    "    # 训练数据和标签\r\n",
    "    x = Train[:, :-1]\r\n",
    "    y = Train[:, -1:]\r\n",
    "    # 测试数据和标签\r\n",
    "    x1 = Test[:, :-1]\r\n",
    "    y1 = Test[:, -1:]\r\n",
    "    epoch_num = 1000  # 设置迭代次数\r\n",
    "    Model = Model_Config(1, 1)\r\n",
    "    losses, w1, b1, w0, b0 = Model.train(epoch_num=epoch_num, x=x, y=y, learning_rate=0.0001)\r\n",
    "    predicts = np.dot((np.dot(x1, w0) + b0), w1) + b1  # 测试集的预测值\r\n",
    "    showpeocess(loss=losses, epoch_num=epoch_num)  # 画出损失函数随迭代次数的变化\r\n",
    "    shower(y1, predicts, 174)  # 画出测试集中真实数据和预测数据之间的对比"
   ]
  },
  {
   "cell_type": "code",
   "execution_count": 31,
   "metadata": {
    "collapsed": false
   },
   "outputs": [],
   "source": [
    "#Padddle\r\n",
    "import paddle.fluid as fluid\r\n",
    "import paddle\r\n",
    "import numpy as np\r\n",
    "import os\r\n",
    "import matplotlib.pyplot as plt"
   ]
  },
  {
   "cell_type": "code",
   "execution_count": 32,
   "metadata": {
    "collapsed": false
   },
   "outputs": [
    {
     "name": "stderr",
     "output_type": "stream",
     "text": [
      "/opt/conda/envs/python35-paddle120-env/lib/python3.7/site-packages/ipykernel_launcher.py:6: DeprecationWarning: \u001b[93m\n",
      "Warning:\n",
      "API \"paddle.dataset.uci_housing.train\" is deprecated since 2.0.0, and will be removed in future versions. Please use \"paddle.text.datasets.UCIHousing\" instead.\n",
      "reason: Please use new dataset API which supports paddle.io.DataLoader \u001b[0m\n",
      "  \n",
      "/opt/conda/envs/python35-paddle120-env/lib/python3.7/site-packages/ipykernel_launcher.py:11: DeprecationWarning: \u001b[93m\n",
      "Warning:\n",
      "API \"paddle.dataset.uci_housing.test\" is deprecated since 2.0.0, and will be removed in future versions. Please use \"paddle.text.datasets.UCIHousing\" instead.\n",
      "reason: Please use new dataset API which supports paddle.io.DataLoader \u001b[0m\n",
      "  # This is added back by InteractiveShellApp.init_path()\n"
     ]
    }
   ],
   "source": [
    "BUF_SIZE=500\r\n",
    "BATCH_SIZE=5\r\n",
    "\r\n",
    "#用于训练的数据提供器，每次从缓存中随机读取批次大小的数据\r\n",
    "train_reader = paddle.batch(\r\n",
    "    paddle.reader.shuffle(paddle.dataset.uci_housing.train(), \r\n",
    "                          buf_size=BUF_SIZE),                    \r\n",
    "    batch_size=BATCH_SIZE)   \r\n",
    "#用于测试的数据提供器，每次从缓存中随机读取批次大小的数据\r\n",
    "test_reader = paddle.batch(\r\n",
    "    paddle.reader.shuffle(paddle.dataset.uci_housing.test(),\r\n",
    "                          buf_size=BUF_SIZE),\r\n",
    "    batch_size=BATCH_SIZE)  "
   ]
  },
  {
   "cell_type": "code",
   "execution_count": 33,
   "metadata": {
    "collapsed": false
   },
   "outputs": [
    {
     "name": "stdout",
     "output_type": "stream",
     "text": [
      "(array([-0.0405441 ,  0.06636364, -0.32356227, -0.06916996, -0.03435197,\n",
      "        0.05563625, -0.03475696,  0.02682186, -0.37171335, -0.21419304,\n",
      "       -0.33569506,  0.10143217, -0.21172912]), array([24.]))\n"
     ]
    },
    {
     "name": "stderr",
     "output_type": "stream",
     "text": [
      "/opt/conda/envs/python35-paddle120-env/lib/python3.7/site-packages/ipykernel_launcher.py:2: DeprecationWarning: \u001b[93m\n",
      "Warning:\n",
      "API \"paddle.dataset.uci_housing.train\" is deprecated since 2.0.0, and will be removed in future versions. Please use \"paddle.text.datasets.UCIHousing\" instead.\n",
      "reason: Please use new dataset API which supports paddle.io.DataLoader \u001b[0m\n",
      "  \n"
     ]
    }
   ],
   "source": [
    "#用于打印，查看uci_housing数据\r\n",
    "train_data=paddle.dataset.uci_housing.train();\r\n",
    "sampledata=next(train_data())\r\n",
    "print(sampledata)"
   ]
  },
  {
   "cell_type": "code",
   "execution_count": 34,
   "metadata": {
    "collapsed": false
   },
   "outputs": [
    {
     "ename": "AssertionError",
     "evalue": "In PaddlePaddle 2.x, we turn on dynamic graph mode by default, and 'data()' is only supported in static graph mode. So if you want to use this api, please call 'paddle.enable_static()' before this api to enter static graph mode.",
     "output_type": "error",
     "traceback": [
      "\u001b[0;31m---------------------------------------------------------------------------\u001b[0m",
      "\u001b[0;31mAssertionError\u001b[0m                            Traceback (most recent call last)",
      "\u001b[0;32m<ipython-input-34-eb477accf04e>\u001b[0m in \u001b[0;36m<module>\u001b[0;34m\u001b[0m\n\u001b[1;32m      1\u001b[0m \u001b[0;31m#定义张量变量x，表示13维的特征值\u001b[0m\u001b[0;34m\u001b[0m\u001b[0;34m\u001b[0m\u001b[0;34m\u001b[0m\u001b[0m\n\u001b[0;32m----> 2\u001b[0;31m \u001b[0mx\u001b[0m \u001b[0;34m=\u001b[0m \u001b[0mfluid\u001b[0m\u001b[0;34m.\u001b[0m\u001b[0mlayers\u001b[0m\u001b[0;34m.\u001b[0m\u001b[0mdata\u001b[0m\u001b[0;34m(\u001b[0m\u001b[0mname\u001b[0m\u001b[0;34m=\u001b[0m\u001b[0;34m'x'\u001b[0m\u001b[0;34m,\u001b[0m \u001b[0mshape\u001b[0m\u001b[0;34m=\u001b[0m\u001b[0;34m[\u001b[0m\u001b[0;36m13\u001b[0m\u001b[0;34m]\u001b[0m\u001b[0;34m,\u001b[0m \u001b[0mdtype\u001b[0m\u001b[0;34m=\u001b[0m\u001b[0;34m'float32'\u001b[0m\u001b[0;34m)\u001b[0m\u001b[0;34m\u001b[0m\u001b[0;34m\u001b[0m\u001b[0m\n\u001b[0m\u001b[1;32m      3\u001b[0m \u001b[0;31m#定义张量y,表示目标值\u001b[0m\u001b[0;34m\u001b[0m\u001b[0;34m\u001b[0m\u001b[0;34m\u001b[0m\u001b[0m\n\u001b[1;32m      4\u001b[0m \u001b[0my\u001b[0m \u001b[0;34m=\u001b[0m \u001b[0mfluid\u001b[0m\u001b[0;34m.\u001b[0m\u001b[0mlayers\u001b[0m\u001b[0;34m.\u001b[0m\u001b[0mdata\u001b[0m\u001b[0;34m(\u001b[0m\u001b[0mname\u001b[0m\u001b[0;34m=\u001b[0m\u001b[0;34m'y'\u001b[0m\u001b[0;34m,\u001b[0m \u001b[0mshape\u001b[0m\u001b[0;34m=\u001b[0m\u001b[0;34m[\u001b[0m\u001b[0;36m1\u001b[0m\u001b[0;34m]\u001b[0m\u001b[0;34m,\u001b[0m \u001b[0mdtype\u001b[0m\u001b[0;34m=\u001b[0m\u001b[0;34m'float32'\u001b[0m\u001b[0;34m)\u001b[0m\u001b[0;34m\u001b[0m\u001b[0;34m\u001b[0m\u001b[0m\n\u001b[1;32m      5\u001b[0m \u001b[0;31m#定义一个简单的线性网络,连接输入和输出的全连接层\u001b[0m\u001b[0;34m\u001b[0m\u001b[0;34m\u001b[0m\u001b[0;34m\u001b[0m\u001b[0m\n",
      "\u001b[0;32m<decorator-gen-161>\u001b[0m in \u001b[0;36mdata\u001b[0;34m(name, shape, append_batch_size, dtype, lod_level, type, stop_gradient)\u001b[0m\n",
      "\u001b[0;32m/opt/conda/envs/python35-paddle120-env/lib/python3.7/site-packages/paddle/fluid/wrapped_decorator.py\u001b[0m in \u001b[0;36m__impl__\u001b[0;34m(func, *args, **kwargs)\u001b[0m\n\u001b[1;32m     23\u001b[0m     \u001b[0;32mdef\u001b[0m \u001b[0m__impl__\u001b[0m\u001b[0;34m(\u001b[0m\u001b[0mfunc\u001b[0m\u001b[0;34m,\u001b[0m \u001b[0;34m*\u001b[0m\u001b[0margs\u001b[0m\u001b[0;34m,\u001b[0m \u001b[0;34m**\u001b[0m\u001b[0mkwargs\u001b[0m\u001b[0;34m)\u001b[0m\u001b[0;34m:\u001b[0m\u001b[0;34m\u001b[0m\u001b[0;34m\u001b[0m\u001b[0m\n\u001b[1;32m     24\u001b[0m         \u001b[0mwrapped_func\u001b[0m \u001b[0;34m=\u001b[0m \u001b[0mdecorator_func\u001b[0m\u001b[0;34m(\u001b[0m\u001b[0mfunc\u001b[0m\u001b[0;34m)\u001b[0m\u001b[0;34m\u001b[0m\u001b[0;34m\u001b[0m\u001b[0m\n\u001b[0;32m---> 25\u001b[0;31m         \u001b[0;32mreturn\u001b[0m \u001b[0mwrapped_func\u001b[0m\u001b[0;34m(\u001b[0m\u001b[0;34m*\u001b[0m\u001b[0margs\u001b[0m\u001b[0;34m,\u001b[0m \u001b[0;34m**\u001b[0m\u001b[0mkwargs\u001b[0m\u001b[0;34m)\u001b[0m\u001b[0;34m\u001b[0m\u001b[0;34m\u001b[0m\u001b[0m\n\u001b[0m\u001b[1;32m     26\u001b[0m \u001b[0;34m\u001b[0m\u001b[0m\n\u001b[1;32m     27\u001b[0m     \u001b[0;32mreturn\u001b[0m \u001b[0m__impl__\u001b[0m\u001b[0;34m\u001b[0m\u001b[0;34m\u001b[0m\u001b[0m\n",
      "\u001b[0;32m/opt/conda/envs/python35-paddle120-env/lib/python3.7/site-packages/paddle/fluid/framework.py\u001b[0m in \u001b[0;36m__impl__\u001b[0;34m(*args, **kwargs)\u001b[0m\n\u001b[1;32m    231\u001b[0m     \u001b[0;32mdef\u001b[0m \u001b[0m__impl__\u001b[0m\u001b[0;34m(\u001b[0m\u001b[0;34m*\u001b[0m\u001b[0margs\u001b[0m\u001b[0;34m,\u001b[0m \u001b[0;34m**\u001b[0m\u001b[0mkwargs\u001b[0m\u001b[0;34m)\u001b[0m\u001b[0;34m:\u001b[0m\u001b[0;34m\u001b[0m\u001b[0;34m\u001b[0m\u001b[0m\n\u001b[1;32m    232\u001b[0m         assert not in_dygraph_mode(\n\u001b[0;32m--> 233\u001b[0;31m         ), \"In PaddlePaddle 2.x, we turn on dynamic graph mode by default, and '%s()' is only supported in static graph mode. So if you want to use this api, please call 'paddle.enable_static()' before this api to enter static graph mode.\" % func.__name__\n\u001b[0m\u001b[1;32m    234\u001b[0m         \u001b[0;32mreturn\u001b[0m \u001b[0mfunc\u001b[0m\u001b[0;34m(\u001b[0m\u001b[0;34m*\u001b[0m\u001b[0margs\u001b[0m\u001b[0;34m,\u001b[0m \u001b[0;34m**\u001b[0m\u001b[0mkwargs\u001b[0m\u001b[0;34m)\u001b[0m\u001b[0;34m\u001b[0m\u001b[0;34m\u001b[0m\u001b[0m\n\u001b[1;32m    235\u001b[0m \u001b[0;34m\u001b[0m\u001b[0m\n",
      "\u001b[0;31mAssertionError\u001b[0m: In PaddlePaddle 2.x, we turn on dynamic graph mode by default, and 'data()' is only supported in static graph mode. So if you want to use this api, please call 'paddle.enable_static()' before this api to enter static graph mode."
     ]
    }
   ],
   "source": [
    "#定义张量变量x，表示13维的特征值\r\n",
    "x = fluid.layers.data(name='x', shape=[13], dtype='float32')\r\n",
    "#定义张量y,表示目标值\r\n",
    "y = fluid.layers.data(name='y', shape=[1], dtype='float32')\r\n",
    "#定义一个简单的线性网络,连接输入和输出的全连接层\r\n",
    "#input:输入tensor;\r\n",
    "#size:该层输出单元的数目\r\n",
    "#act:激活函数\r\n",
    "y_predict=fluid.layers.fc(input=x,size=1,act=None)"
   ]
  },
  {
   "cell_type": "code",
   "execution_count": null,
   "metadata": {
    "collapsed": false
   },
   "outputs": [],
   "source": [
    "cost = fluid.layers.square_error_cost(input=y_predict, label=y) #求一个batch的损失值\r\n",
    "avg_cost = fluid.layers.mean(cost)                              #对损失值求平均值"
   ]
  },
  {
   "cell_type": "code",
   "execution_count": null,
   "metadata": {
    "collapsed": false
   },
   "outputs": [],
   "source": [
    "optimizer = fluid.optimizer.SGDOptimizer(learning_rate=0.001)\r\n",
    "opts = optimizer.minimize(avg_cost)"
   ]
  },
  {
   "cell_type": "code",
   "execution_count": null,
   "metadata": {
    "collapsed": false
   },
   "outputs": [],
   "source": [
    "test_program = fluid.default_main_program().clone(for_test=True)"
   ]
  },
  {
   "cell_type": "code",
   "execution_count": null,
   "metadata": {
    "collapsed": false
   },
   "outputs": [],
   "source": [
    "use_cuda = False                         #use_cuda为False,表示运算场所为CPU;use_cuda为True,表示运算场所为GPU           \r\n",
    "place = fluid.CUDAPlace(0) if use_cuda else fluid.CPUPlace()\r\n",
    "exe = fluid.Executor(place)              #创建一个Executor实例exe\r\n",
    "exe.run(fluid.default_startup_program()) #Executor的run()方法执行startup_program(),进行参数初始化"
   ]
  },
  {
   "cell_type": "code",
   "execution_count": null,
   "metadata": {
    "collapsed": false
   },
   "outputs": [],
   "source": [
    "# 定义输入数据维度\r\n",
    "feeder = fluid.DataFeeder(place=place, feed_list=[x, y])#feed_list:向模型输入的变量表或变量表名"
   ]
  },
  {
   "cell_type": "code",
   "execution_count": null,
   "metadata": {
    "collapsed": false
   },
   "outputs": [],
   "source": [
    "iter=0;\r\n",
    "iters=[]\r\n",
    "train_costs=[]\r\n",
    "\r\n",
    "def draw_train_process(iters,train_costs):\r\n",
    "    title=\"training cost\"\r\n",
    "    plt.title(title, fontsize=24)\r\n",
    "    plt.xlabel(\"iter\", fontsize=14)\r\n",
    "    plt.ylabel(\"cost\", fontsize=14)\r\n",
    "    plt.plot(iters, train_costs,color='red',label='training cost') \r\n",
    "    plt.grid()\r\n",
    "    plt.show()"
   ]
  },
  {
   "cell_type": "code",
   "execution_count": null,
   "metadata": {
    "collapsed": false
   },
   "outputs": [],
   "source": [
    "EPOCH_NUM=50\r\n",
    "model_save_dir = \"/home/aistudio/work/fit_a_line.inference.model\"\r\n",
    "\r\n",
    "for pass_id in range(EPOCH_NUM):                                  #训练EPOCH_NUM轮\r\n",
    "    # 开始训练并输出最后一个batch的损失值\r\n",
    "    train_cost = 0\r\n",
    "    for batch_id, data in enumerate(train_reader()):              #遍历train_reader迭代器\r\n",
    "        train_cost = exe.run(program=fluid.default_main_program(),#运行主程序\r\n",
    "                             feed=feeder.feed(data),              #喂入一个batch的训练数据，根据feed_list和data提供的信息，将输入数据转成一种特殊的数据结构\r\n",
    "                             fetch_list=[avg_cost])    \r\n",
    "        if batch_id % 40 == 0:\r\n",
    "            print(\"Pass:%d, Cost:%0.5f\" % (pass_id, train_cost[0][0]))    #打印最后一个batch的损失值\r\n",
    "        iter=iter+BATCH_SIZE\r\n",
    "        iters.append(iter)\r\n",
    "        train_costs.append(train_cost[0][0])\r\n",
    "       \r\n",
    "   \r\n",
    "    # 开始测试并输出最后一个batch的损失值\r\n",
    "    test_cost = 0\r\n",
    "    for batch_id, data in enumerate(test_reader()):               #遍历test_reader迭代器\r\n",
    "        test_cost= exe.run(program=test_program, #运行测试cheng\r\n",
    "                            feed=feeder.feed(data),               #喂入一个batch的测试数据\r\n",
    "                            fetch_list=[avg_cost])                #fetch均方误差\r\n",
    "    print('Test:%d, Cost:%0.5f' % (pass_id, test_cost[0][0]))     #打印最后一个batch的损失值\r\n",
    "    \r\n",
    "    #保存模型\r\n",
    "    # 如果保存路径不存在就创建\r\n",
    "if not os.path.exists(model_save_dir):\r\n",
    "    os.makedirs(model_save_dir)\r\n",
    "print ('save models to %s' % (model_save_dir))\r\n",
    "#保存训练参数到指定路径中，构建一个专门用预测的program\r\n",
    "fluid.io.save_inference_model(model_save_dir,   #保存推理model的路径\r\n",
    "                                  ['x'],            #推理（inference）需要 feed 的数据\r\n",
    "                                  [y_predict],      #保存推理（inference）结果的 Variables\r\n",
    "                                  exe)              #exe 保存 inference model\r\n",
    "draw_train_process(iters,train_costs)"
   ]
  },
  {
   "cell_type": "code",
   "execution_count": null,
   "metadata": {
    "collapsed": false
   },
   "outputs": [],
   "source": [
    "infer_exe = fluid.Executor(place)    #创建推测用的executor\r\n",
    "inference_scope = fluid.core.Scope() #Scope指定作用域"
   ]
  },
  {
   "cell_type": "code",
   "execution_count": null,
   "metadata": {
    "collapsed": false
   },
   "outputs": [],
   "source": [
    "infer_results=[]\r\n",
    "groud_truths=[]\r\n",
    "\r\n",
    "#绘制真实值和预测值对比图\r\n",
    "def draw_infer_result(groud_truths,infer_results):\r\n",
    "    title='Boston'\r\n",
    "    plt.title(title, fontsize=24)\r\n",
    "    x = np.arange(1,20) \r\n",
    "    y = x\r\n",
    "    plt.plot(x, y)\r\n",
    "    plt.xlabel('ground truth', fontsize=14)\r\n",
    "    plt.ylabel('infer result', fontsize=14)\r\n",
    "    plt.scatter(groud_truths, infer_results,color='green',label='training cost') \r\n",
    "    plt.grid()\r\n",
    "    plt.show()"
   ]
  },
  {
   "cell_type": "code",
   "execution_count": null,
   "metadata": {
    "collapsed": false
   },
   "outputs": [],
   "source": [
    "with fluid.scope_guard(inference_scope):#修改全局/默认作用域（scope）, 运行时中的所有变量都将分配给新的scope。\r\n",
    "    #从指定目录中加载 推理model(inference model)\r\n",
    "    [inference_program,                             #推理的program\r\n",
    "     feed_target_names,                             #需要在推理program中提供数据的变量名称\r\n",
    "     fetch_targets] = fluid.io.load_inference_model(#fetch_targets: 推断结果\r\n",
    "                                    model_save_dir, #model_save_dir:模型训练路径 \r\n",
    "                                    infer_exe)      #infer_exe: 预测用executor\r\n",
    "    #获取预测数据\r\n",
    "    infer_reader = paddle.batch(paddle.dataset.uci_housing.test(),  #获取uci_housing的测试数据\r\n",
    "                          batch_size=200)                           #从测试数据中读取一个大小为200的batch数据\r\n",
    "    #从test_reader中分割x\r\n",
    "    test_data = next(infer_reader())\r\n",
    "    test_x = np.array([data[0] for data in test_data]).astype(\"float32\")\r\n",
    "    test_y= np.array([data[1] for data in test_data]).astype(\"float32\")\r\n",
    "    results = infer_exe.run(inference_program,                              #预测模型\r\n",
    "                            feed={feed_target_names[0]: np.array(test_x)},  #喂入要预测的x值\r\n",
    "                            fetch_list=fetch_targets)                       #得到推测结果 \r\n",
    "                            \r\n",
    "    print(\"infer results: (House Price)\")\r\n",
    "    for idx, val in enumerate(results[0]):\r\n",
    "        print(\"%d: %.2f\" % (idx, val))\r\n",
    "        infer_results.append(val)\r\n",
    "    print(\"ground truth:\")\r\n",
    "    for idx, val in enumerate(test_y):\r\n",
    "        print(\"%d: %.2f\" % (idx, val))\r\n",
    "        groud_truths.append(val)\r\n",
    "    draw_infer_result(groud_truths,infer_results)"
   ]
  },
  {
   "cell_type": "code",
   "execution_count": null,
   "metadata": {
    "collapsed": false
   },
   "outputs": [],
   "source": []
  }
 ],
 "metadata": {
  "kernelspec": {
   "display_name": "PaddlePaddle 2.1.0 (Python 3.5)",
   "language": "python",
   "name": "py35-paddle1.2.0"
  },
  "language_info": {
   "codemirror_mode": {
    "name": "ipython",
    "version": 3
   },
   "file_extension": ".py",
   "mimetype": "text/x-python",
   "name": "python",
   "nbconvert_exporter": "python",
   "pygments_lexer": "ipython3",
   "version": "3.7.4"
  }
 },
 "nbformat": 4,
 "nbformat_minor": 1
}
