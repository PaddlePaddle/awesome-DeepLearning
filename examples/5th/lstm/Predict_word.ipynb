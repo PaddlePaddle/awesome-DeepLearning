{
 "cells": [
  {
   "cell_type": "code",
   "execution_count": 1,
   "metadata": {},
   "outputs": [
    {
     "name": "stderr",
     "output_type": "stream",
     "text": [
      "C:\\Users\\BigBlue\\Miniconda3\\lib\\site-packages\\tensorflow\\python\\framework\\dtypes.py:526: FutureWarning: Passing (type, 1) or '1type' as a synonym of type is deprecated; in a future version of numpy, it will be understood as (type, (1,)) / '(1,)type'.\n",
      "  _np_qint8 = np.dtype([(\"qint8\", np.int8, 1)])\n",
      "C:\\Users\\BigBlue\\Miniconda3\\lib\\site-packages\\tensorflow\\python\\framework\\dtypes.py:527: FutureWarning: Passing (type, 1) or '1type' as a synonym of type is deprecated; in a future version of numpy, it will be understood as (type, (1,)) / '(1,)type'.\n",
      "  _np_quint8 = np.dtype([(\"quint8\", np.uint8, 1)])\n",
      "C:\\Users\\BigBlue\\Miniconda3\\lib\\site-packages\\tensorflow\\python\\framework\\dtypes.py:528: FutureWarning: Passing (type, 1) or '1type' as a synonym of type is deprecated; in a future version of numpy, it will be understood as (type, (1,)) / '(1,)type'.\n",
      "  _np_qint16 = np.dtype([(\"qint16\", np.int16, 1)])\n",
      "C:\\Users\\BigBlue\\Miniconda3\\lib\\site-packages\\tensorflow\\python\\framework\\dtypes.py:529: FutureWarning: Passing (type, 1) or '1type' as a synonym of type is deprecated; in a future version of numpy, it will be understood as (type, (1,)) / '(1,)type'.\n",
      "  _np_quint16 = np.dtype([(\"quint16\", np.uint16, 1)])\n",
      "C:\\Users\\BigBlue\\Miniconda3\\lib\\site-packages\\tensorflow\\python\\framework\\dtypes.py:530: FutureWarning: Passing (type, 1) or '1type' as a synonym of type is deprecated; in a future version of numpy, it will be understood as (type, (1,)) / '(1,)type'.\n",
      "  _np_qint32 = np.dtype([(\"qint32\", np.int32, 1)])\n",
      "C:\\Users\\BigBlue\\Miniconda3\\lib\\site-packages\\tensorflow\\python\\framework\\dtypes.py:535: FutureWarning: Passing (type, 1) or '1type' as a synonym of type is deprecated; in a future version of numpy, it will be understood as (type, (1,)) / '(1,)type'.\n",
      "  np_resource = np.dtype([(\"resource\", np.ubyte, 1)])\n"
     ]
    },
    {
     "name": "stdout",
     "output_type": "stream",
     "text": [
      "WARNING:tensorflow:From C:\\Users\\BigBlue\\Miniconda3\\lib\\site-packages\\tensorflow\\python\\ops\\resource_variable_ops.py:435: colocate_with (from tensorflow.python.framework.ops) is deprecated and will be removed in a future version.\n",
      "Instructions for updating:\n",
      "Colocations handled automatically by placer.\n"
     ]
    }
   ],
   "source": [
    "from tensorflow.keras.models import load_model\n",
    "import numpy as np\n",
    "import pickle\n",
    "\n",
    "\n",
    "model_path = 'model/next_word.h5'\n",
    "tokenizer_path = 'model/tokenizer.pkl'\n",
    "\n",
    "model = load_model(model_path, custom_objects=None, compile=False)\n",
    "tokenizer = pickle.load(open(tokenizer_path, 'rb'))\n",
    "\n",
    "def Predict_Next_Words(model, tokenizer, text):\n",
    "\n",
    "    for i in range(4):\n",
    "        sequence = tokenizer.texts_to_sequences([text])[i]\n",
    "        sequence = np.array(sequence)\n",
    "        \n",
    "        preds = model.predict_classes(sequence)\n",
    "        predicted_word = \"\"\n",
    "        \n",
    "        for key, value in tokenizer.word_index.items():\n",
    "            if value == preds:\n",
    "                predicted_word = key\n",
    "                break\n",
    "            \n",
    "        print(predicted_word)    \n",
    "#         return predicted_word\n"
   ]
  },
  {
   "cell_type": "code",
   "execution_count": 2,
   "metadata": {},
   "outputs": [
    {
     "name": "stdout",
     "output_type": "stream",
     "text": [
      "Enter your line: സർക്കാരിനെ തുടച്ചു\n",
      "തിയറി\n",
      "Enter your line:  നാട്ടിൽ ഒരു\n",
      "സ്ഥലമാണ്\n",
      "Enter your line: അവിടെ\n",
      "തങ്ങി\n",
      "Enter your line: സ്ഥാപിച്ചു കിട്ടാനായി\n",
      "Enter your line: സ്ഥാപിച്ചു\n",
      "ഓഗസ്റ്റ്\n",
      "Enter your line: കിട്ടാനായി\n",
      "Enter your line: ഇത്തരം\n",
      "200ഓളം\n",
      "Enter your line: എന്ന\n",
      "വാക്കിനാൽ\n",
      "Enter your line: ചിലർ\n",
      "അഭിപ്രായപ്പെടുന്നുണ്ട്\n",
      "Enter your line: നയത്തിൽ\n",
      "Enter your line: ഒരു\n",
      "സ്ഥലമാണ്\n",
      "Enter your line: നാട്ടിൽ\n",
      "കാണപ്പെടുന്നതുമായ\n",
      "Enter your line: തുടങ്ങി\n",
      "ബംഗാളി\n",
      "Enter your line: അവരെ\n",
      "തവിട്ടു\n",
      "Enter your line: പൂർണ്ണ\n",
      "Enter your line: തീരുമാനിച്ചിരുന്നു\n",
      "Enter your line: ചേർന്ന്\n",
      "കിടക്കുന്ന\n",
      "Enter your line: വളരെയധികം\n",
      "നിഷ്കർഷത\n",
      "Enter your line: തടഞ്ഞു\n",
      "നിർത്തിയ\n",
      "Enter your line: നടന്ന\n",
      "സംഭവങ്ങൾ\n",
      "Enter your line: വരുത്താൻ\n",
      "Enter your line:  സർക്കാർ നിരോധിച്ചു. നിലവിലുള്ള\n",
      "Enter your line:  സർക്കാർ നിരോധിച്ചു നിലവിലുള്ള\n",
      "Enter your line: നിലവിലുള്ള\n",
      "Enter your line: ഒരു സ്ഥലമാണ്\n",
      "മണ്ഡലത്തിൽ\n",
      "Enter your line: ഒരു സ്ഥലമാണ് മണ്ഡലത്തിൽ\n",
      "സമാജികനാണ്\n",
      "Enter your line: ആയിരുന്നു\n",
      "നെയ്യാറ്റിൻകര\n",
      "Enter your line: ധാരാളം\n",
      "ചെയ്യപ്പെട്ടിട്ടുമുണ്ട്\n",
      "Enter your line: പക്ഷേ\n",
      "പല\n",
      "Enter your line: നിർബന്ധിച്ചു\n",
      "Enter your line: അവർ\n",
      "ഉപഭൂഖണ്ഡത്തിന്റെ\n",
      "Enter your line: എന്നാൽ\n",
      "രശ്മികൾ\n",
      "Enter your line: അദ്ദേഹത്തെ\n",
      "പദ്ധതികൾ\n",
      "Enter your line: പറഞ്ഞ്\n",
      "Enter your line: തനിക്കു\n",
      "Enter your line: ഭാരതത്തിലും\n",
      "Enter your line: കൂടാതെ\n",
      "സൌരോർജ്ജ\n",
      "Enter your line: stop\n",
      "Ending The Program.....\n"
     ]
    }
   ],
   "source": [
    "while(True):\n",
    "\n",
    "    text = input(\"Enter your line: \")\n",
    "    \n",
    "    if text == \"stop\":\n",
    "        print(\"Ending The Program.....\")\n",
    "        break\n",
    "    \n",
    "    else:\n",
    "        try:\n",
    "            text = text.split(\" \")\n",
    "            text = text[-1]\n",
    "\n",
    "            text = ''.join(text)\n",
    "            Predict_Next_Words(model, tokenizer, text)\n",
    "            \n",
    "        except:\n",
    "            continue"
   ]
  },
  {
   "cell_type": "code",
   "execution_count": null,
   "metadata": {},
   "outputs": [],
   "source": []
  }
 ],
 "metadata": {
  "kernelspec": {
   "display_name": "Python 3",
   "language": "python",
   "name": "python3"
  },
  "language_info": {
   "codemirror_mode": {
    "name": "ipython",
    "version": 3
   },
   "file_extension": ".py",
   "mimetype": "text/x-python",
   "name": "python",
   "nbconvert_exporter": "python",
   "pygments_lexer": "ipython3",
   "version": "3.7.5"
  }
 },
 "nbformat": 4,
 "nbformat_minor": 4
}
