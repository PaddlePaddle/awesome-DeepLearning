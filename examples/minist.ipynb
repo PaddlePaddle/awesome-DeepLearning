{
 "cells": [
  {
   "cell_type": "code",
   "execution_count": 1,
   "metadata": {
    "collapsed": false
   },
   "outputs": [
    {
     "name": "stdout",
     "output_type": "stream",
     "text": [
      "data65\r\n"
     ]
    }
   ],
   "source": [
    "# 查看当前挂载的数据集目录, 该目录下的变更重启环境后会自动还原\n",
    "# View dataset directory. \n",
    "# This directory will be recovered automatically after resetting environment. \n",
    "!ls /home/aistudio/data"
   ]
  },
  {
   "cell_type": "code",
   "execution_count": 2,
   "metadata": {
    "collapsed": false
   },
   "outputs": [],
   "source": [
    "# 查看工作区文件, 该目录下的变更将会持久保存. 请及时清理不必要的文件, 避免加载过慢.\n",
    "# View personal work directory. \n",
    "# All changes under this directory will be kept even after reset. \n",
    "# Please clean unnecessary files in time to speed up environment loading. \n",
    "!ls /home/aistudio/work"
   ]
  },
  {
   "cell_type": "code",
   "execution_count": 3,
   "metadata": {
    "collapsed": false
   },
   "outputs": [
    {
     "name": "stdout",
     "output_type": "stream",
     "text": [
      "mkdir: cannot create directory ‘/home/aistudio/external-libraries’: File exists\n",
      "Looking in indexes: https://mirror.baidu.com/pypi/simple/\n",
      "Collecting beautifulsoup4\n",
      "  Using cached https://mirror.baidu.com/pypi/packages/d1/41/e6495bd7d3781cee623ce23ea6ac73282a373088fcd0ddc809a047b18eae/beautifulsoup4-4.9.3-py3-none-any.whl (115 kB)\n",
      "Collecting soupsieve>1.2\n",
      "  Using cached https://mirror.baidu.com/pypi/packages/36/69/d82d04022f02733bf9a72bc3b96332d360c0c5307096d76f6bb7489f7e57/soupsieve-2.2.1-py3-none-any.whl (33 kB)\n",
      "Installing collected packages: soupsieve, beautifulsoup4\n",
      "Successfully installed beautifulsoup4-4.9.3 soupsieve-2.2.1\n",
      "\u001b[33mWARNING: Target directory /home/aistudio/external-libraries/bs4 already exists. Specify --upgrade to force replacement.\u001b[0m\n",
      "\u001b[33mWARNING: Target directory /home/aistudio/external-libraries/soupsieve already exists. Specify --upgrade to force replacement.\u001b[0m\n",
      "\u001b[33mWARNING: Target directory /home/aistudio/external-libraries/soupsieve-2.2.1.dist-info already exists. Specify --upgrade to force replacement.\u001b[0m\n",
      "\u001b[33mWARNING: Target directory /home/aistudio/external-libraries/beautifulsoup4-4.9.3.dist-info already exists. Specify --upgrade to force replacement.\u001b[0m\n",
      "\u001b[33mWARNING: You are using pip version 21.0.1; however, version 21.1.1 is available.\n",
      "You should consider upgrading via the '/opt/conda/envs/python35-paddle120-env/bin/python -m pip install --upgrade pip' command.\u001b[0m\n"
     ]
    }
   ],
   "source": [
    "# 如果需要进行持久化安装, 需要使用持久化路径, 如下方代码示例:\n",
    "# If a persistence installation is required, \n",
    "# you need to use the persistence path as the following: \n",
    "!mkdir /home/aistudio/external-libraries\n",
    "!pip install beautifulsoup4 -t /home/aistudio/external-libraries"
   ]
  },
  {
   "cell_type": "code",
   "execution_count": 4,
   "metadata": {
    "collapsed": false
   },
   "outputs": [],
   "source": [
    "# 同时添加如下代码, 这样每次环境(kernel)启动的时候只要运行下方代码即可: \n",
    "# Also add the following code, \n",
    "# so that every time the environment (kernel) starts, \n",
    "# just run the following code: \n",
    "import sys \n",
    "sys.path.append('/home/aistudio/external-libraries')"
   ]
  },
  {
   "cell_type": "code",
   "execution_count": 5,
   "metadata": {
    "collapsed": false
   },
   "outputs": [
    {
     "name": "stdout",
     "output_type": "stream",
     "text": [
      "Num of training set: 60000, num of testing set: 10000\n"
     ]
    }
   ],
   "source": [
    "import paddle as pdl\r\n",
    "import numpy as np\r\n",
    "import cv2 as cv\r\n",
    "from tqdm import tqdm\r\n",
    "import paddle.vision.transforms as T\r\n",
    "\r\n",
    "transform = T.Normalize(mean = [127.5], std = [127.5])\r\n",
    "training_set = pdl.vision.datasets.MNIST(mode = 'train', transform = transform)\r\n",
    "testing_set = pdl.vision.datasets.MNIST(mode = 'test', transform = transform)\r\n",
    "print('Num of training set: {}, num of testing set: {}'.format(len(training_set), len(testing_set)))\r\n",
    "# data set and packages(partly) has been loaded"
   ]
  },
  {
   "cell_type": "code",
   "execution_count": 6,
   "metadata": {
    "collapsed": false
   },
   "outputs": [
    {
     "name": "stderr",
     "output_type": "stream",
     "text": [
      "/opt/conda/envs/python35-paddle120-env/lib/python3.7/site-packages/matplotlib/__init__.py:107: DeprecationWarning: Using or importing the ABCs from 'collections' instead of from 'collections.abc' is deprecated, and in 3.8 it will stop working\n",
      "  from collections import MutableMapping\n",
      "/opt/conda/envs/python35-paddle120-env/lib/python3.7/site-packages/matplotlib/rcsetup.py:20: DeprecationWarning: Using or importing the ABCs from 'collections' instead of from 'collections.abc' is deprecated, and in 3.8 it will stop working\n",
      "  from collections import Iterable, Mapping\n",
      "/opt/conda/envs/python35-paddle120-env/lib/python3.7/site-packages/matplotlib/colors.py:53: DeprecationWarning: Using or importing the ABCs from 'collections' instead of from 'collections.abc' is deprecated, and in 3.8 it will stop working\n",
      "  from collections import Sized\n",
      "/opt/conda/envs/python35-paddle120-env/lib/python3.7/site-packages/matplotlib/cbook/__init__.py:2349: DeprecationWarning: Using or importing the ABCs from 'collections' instead of from 'collections.abc' is deprecated, and in 3.8 it will stop working\n",
      "  if isinstance(obj, collections.Iterator):\n",
      "/opt/conda/envs/python35-paddle120-env/lib/python3.7/site-packages/matplotlib/cbook/__init__.py:2366: DeprecationWarning: Using or importing the ABCs from 'collections' instead of from 'collections.abc' is deprecated, and in 3.8 it will stop working\n",
      "  return list(data) if isinstance(data, collections.MappingView) else data\n"
     ]
    },
    {
     "data": {
      "text/plain": [
       "<Figure size 640x480 with 1 Axes>"
      ]
     },
     "metadata": {},
     "output_type": "display_data"
    }
   ],
   "source": [
    "# type of training_set is an object list containing 60000 images message\r\n",
    "# which is saved as a 2 dimensions array(but it has a shell) and a 1x1 array\r\n",
    "# take training_set[0] for example, it is [[2 dimensions array], [5]]\r\n",
    "\r\n",
    "\r\n",
    "import matplotlib.pyplot as plt\r\n",
    "plt.figure()\r\n",
    "plt.imshow(training_set[0][0][0], cmap = plt.cm.binary)# it has a shell so we need to add a '[0]' to peel off its shell\r\n",
    "plt.show()\r\n"
   ]
  },
  {
   "cell_type": "code",
   "execution_count": 7,
   "metadata": {
    "collapsed": false
   },
   "outputs": [],
   "source": [
    "# neural network model net1\r\n",
    "net1 = pdl.nn.Sequential(\r\n",
    "    pdl.nn.Flatten(), pdl.nn.Linear(784, 100), pdl.nn.ReLU(),\r\n",
    "    pdl.nn.Linear(100, 100), pdl.nn.ReLU(),\r\n",
    "    pdl.nn.Linear(100, 10), pdl.nn.Softmax()\r\n",
    ")\r\n",
    "# convolution neural network model net2\r\n",
    "net2 = pdl.nn.Sequential(\r\n",
    "    pdl.nn.Conv2D(1, 6, (5, 5)), pdl.nn.MaxPool2D(kernel_size = 2),\r\n",
    "    pdl.nn.Conv2D(6, 16, (5, 5)), pdl.nn.MaxPool2D(kernel_size = 2),\r\n",
    "    pdl.nn.Flatten(), pdl.nn.Linear(256, 120),\r\n",
    "    pdl.nn.Linear(120, 60),\r\n",
    "    pdl.nn.Linear(60, 10),\r\n",
    "    pdl.nn.Softmax()\r\n",
    ")\r\n"
   ]
  },
  {
   "cell_type": "code",
   "execution_count": 8,
   "metadata": {
    "collapsed": false
   },
   "outputs": [
    {
     "name": "stdout",
     "output_type": "stream",
     "text": [
      "---------------------------------------------------------------------------\n",
      " Layer (type)       Input Shape          Output Shape         Param #    \n",
      "===========================================================================\n",
      "   Flatten-1         [[1, 784]]            [1, 784]              0       \n",
      "   Linear-1          [[1, 784]]            [1, 100]           78,500     \n",
      "    ReLU-1           [[1, 100]]            [1, 100]              0       \n",
      "   Linear-2          [[1, 100]]            [1, 100]           10,100     \n",
      "    ReLU-2           [[1, 100]]            [1, 100]              0       \n",
      "   Linear-3          [[1, 100]]            [1, 10]             1,010     \n",
      "   Softmax-1         [[1, 10]]             [1, 10]               0       \n",
      "===========================================================================\n",
      "Total params: 89,610\n",
      "Trainable params: 89,610\n",
      "Non-trainable params: 0\n",
      "---------------------------------------------------------------------------\n",
      "Input size (MB): 0.00\n",
      "Forward/backward pass size (MB): 0.01\n",
      "Params size (MB): 0.34\n",
      "Estimated Total Size (MB): 0.35\n",
      "---------------------------------------------------------------------------\n",
      "\n",
      "---------------------------------------------------------------------------\n",
      " Layer (type)       Input Shape          Output Shape         Param #    \n",
      "===========================================================================\n",
      "   Conv2D-1       [[1, 1, 28, 28]]      [1, 6, 24, 24]          156      \n",
      "  MaxPool2D-1     [[1, 6, 24, 24]]      [1, 6, 12, 12]           0       \n",
      "   Conv2D-2       [[1, 6, 12, 12]]      [1, 16, 8, 8]          2,416     \n",
      "  MaxPool2D-2     [[1, 16, 8, 8]]       [1, 16, 4, 4]            0       \n",
      "   Flatten-2      [[1, 16, 4, 4]]          [1, 256]              0       \n",
      "   Linear-4          [[1, 256]]            [1, 120]           30,840     \n",
      "   Linear-5          [[1, 120]]            [1, 60]             7,260     \n",
      "   Linear-6          [[1, 60]]             [1, 10]              610      \n",
      "   Softmax-2         [[1, 10]]             [1, 10]               0       \n",
      "===========================================================================\n",
      "Total params: 41,282\n",
      "Trainable params: 41,282\n",
      "Non-trainable params: 0\n",
      "---------------------------------------------------------------------------\n",
      "Input size (MB): 0.00\n",
      "Forward/backward pass size (MB): 0.05\n",
      "Params size (MB): 0.16\n",
      "Estimated Total Size (MB): 0.21\n",
      "---------------------------------------------------------------------------\n",
      "\n"
     ]
    },
    {
     "data": {
      "text/plain": [
       "{'total_params': 41282, 'trainable_params': 41282}"
      ]
     },
     "execution_count": 8,
     "metadata": {},
     "output_type": "execute_result"
    }
   ],
   "source": [
    "# 执行这个前先执行上一块，执行了这个以后就可以加载之前训练好的参数了，不用再重新训练了\r\n",
    "model1 = pdl.Model(net1, inputs=[pdl.static.InputSpec(shape=[-1, 28, 28], dtype='float32', name='image')])\r\n",
    "model2 = pdl.Model(net2, inputs=[pdl.static.InputSpec(shape=[-1, 28, 28], dtype='float32', name='image')])\r\n",
    "model1.summary((1, 784))\r\n",
    "model2.summary((1, 1, 28, 28))"
   ]
  },
  {
   "cell_type": "code",
   "execution_count": 9,
   "metadata": {
    "collapsed": false
   },
   "outputs": [
    {
     "name": "stdout",
     "output_type": "stream",
     "text": [
      "The loss value printed in the log is the current step, and the metric is the average value of previous step.\n",
      "Epoch 1/10\n",
      "step  20/469 [>.............................] - loss: 1.9289 - acc: 0.4215 - ETA: 5s - 12ms/st"
     ]
    },
    {
     "name": "stderr",
     "output_type": "stream",
     "text": [
      "/opt/conda/envs/python35-paddle120-env/lib/python3.7/site-packages/paddle/fluid/layers/utils.py:77: DeprecationWarning: Using or importing the ABCs from 'collections' instead of from 'collections.abc' is deprecated, and in 3.8 it will stop working\n",
      "  return (isinstance(seq, collections.Sequence) and\n"
     ]
    },
    {
     "name": "stdout",
     "output_type": "stream",
     "text": [
      "step  30/469 [>.............................] - loss: 1.8947 - acc: 0.4633 - ETA: 5s - 12ms/stepstep 469/469 [==============================] - loss: 1.7323 - acc: 0.6948 - 12ms/step        \n",
      "Eval begin...\n",
      "The loss value printed in the log is the current batch, and the metric is the average value of previous step.\n",
      "step 79/79 [==============================] - loss: 1.6656 - acc: 0.7630 - 10ms/step         \n",
      "Eval samples: 10000\n",
      "Epoch 2/10\n",
      "step 469/469 [==============================] - loss: 1.7713 - acc: 0.7614 - 13ms/step        \n",
      "Eval begin...\n",
      "The loss value printed in the log is the current batch, and the metric is the average value of previous step.\n",
      "step 79/79 [==============================] - loss: 1.6695 - acc: 0.7684 - 9ms/step         \n",
      "Eval samples: 10000\n",
      "Epoch 3/10\n",
      "step 469/469 [==============================] - loss: 1.4870 - acc: 0.8935 - 12ms/step        \n",
      "Eval begin...\n",
      "The loss value printed in the log is the current batch, and the metric is the average value of previous step.\n",
      "step 79/79 [==============================] - loss: 1.4615 - acc: 0.9406 - 9ms/step         \n",
      "Eval samples: 10000\n",
      "Epoch 4/10\n",
      "step 469/469 [==============================] - loss: 1.4779 - acc: 0.9488 - 13ms/step        \n",
      "Eval begin...\n",
      "The loss value printed in the log is the current batch, and the metric is the average value of previous step.\n",
      "step 79/79 [==============================] - loss: 1.4613 - acc: 0.9501 - 10ms/step        \n",
      "Eval samples: 10000\n",
      "Epoch 5/10\n",
      "step 469/469 [==============================] - loss: 1.5058 - acc: 0.9561 - 13ms/step        \n",
      "Eval begin...\n",
      "The loss value printed in the log is the current batch, and the metric is the average value of previous step.\n",
      "step 79/79 [==============================] - loss: 1.4631 - acc: 0.9518 - 9ms/step          \n",
      "Eval samples: 10000\n",
      "Epoch 6/10\n",
      "step 469/469 [==============================] - loss: 1.5077 - acc: 0.9616 - 12ms/step        \n",
      "Eval begin...\n",
      "The loss value printed in the log is the current batch, and the metric is the average value of previous step.\n",
      "step 79/79 [==============================] - loss: 1.4612 - acc: 0.9614 - 9ms/step         \n",
      "Eval samples: 10000\n",
      "Epoch 7/10\n",
      "step 469/469 [==============================] - loss: 1.4664 - acc: 0.9636 - 12ms/step        \n",
      "Eval begin...\n",
      "The loss value printed in the log is the current batch, and the metric is the average value of previous step.\n",
      "step 79/79 [==============================] - loss: 1.4613 - acc: 0.9650 - 9ms/step         \n",
      "Eval samples: 10000\n",
      "Epoch 8/10\n",
      "step 469/469 [==============================] - loss: 1.4976 - acc: 0.9669 - 14ms/step        \n",
      "Eval begin...\n",
      "The loss value printed in the log is the current batch, and the metric is the average value of previous step.\n",
      "step 79/79 [==============================] - loss: 1.4613 - acc: 0.9636 - 11ms/step        \n",
      "Eval samples: 10000\n",
      "Epoch 9/10\n",
      "step 469/469 [==============================] - loss: 1.5060 - acc: 0.9680 - 14ms/step        \n",
      "Eval begin...\n",
      "The loss value printed in the log is the current batch, and the metric is the average value of previous step.\n",
      "step 79/79 [==============================] - loss: 1.4615 - acc: 0.9664 - 9ms/step         \n",
      "Eval samples: 10000\n",
      "Epoch 10/10\n",
      "step 469/469 [==============================] - loss: 1.5060 - acc: 0.9709 - 12ms/step        \n",
      "Eval begin...\n",
      "The loss value printed in the log is the current batch, and the metric is the average value of previous step.\n",
      "step 79/79 [==============================] - loss: 1.4616 - acc: 0.9611 - 9ms/step         \n",
      "Eval samples: 10000\n",
      "Eval begin...\n",
      "The loss value printed in the log is the current batch, and the metric is the average value of previous step.\n",
      "step 10000/10000 [==============================] - loss: 1.4612 - acc: 0.9611 - 2ms/step         \n",
      "Eval samples: 10000\n",
      "The loss value printed in the log is the current step, and the metric is the average value of previous step.\n",
      "Epoch 1/10\n",
      "step 469/469 [==============================] - loss: 1.5929 - acc: 0.7573 - 23ms/step        \n",
      "Eval begin...\n",
      "The loss value printed in the log is the current batch, and the metric is the average value of previous step.\n",
      "step 79/79 [==============================] - loss: 1.5583 - acc: 0.8557 - 12ms/step        \n",
      "Eval samples: 10000\n",
      "Epoch 2/10\n",
      "step 469/469 [==============================] - loss: 1.6285 - acc: 0.8528 - 23ms/step        \n",
      "Eval begin...\n",
      "The loss value printed in the log is the current batch, and the metric is the average value of previous step.\n",
      "step 79/79 [==============================] - loss: 1.5377 - acc: 0.8648 - 11ms/step        \n",
      "Eval samples: 10000\n",
      "Epoch 3/10\n",
      "step 469/469 [==============================] - loss: 1.5261 - acc: 0.8756 - 24ms/step        \n",
      "Eval begin...\n",
      "The loss value printed in the log is the current batch, and the metric is the average value of previous step.\n",
      "step 79/79 [==============================] - loss: 1.4612 - acc: 0.9500 - 11ms/step        \n",
      "Eval samples: 10000\n",
      "Epoch 4/10\n",
      "step 469/469 [==============================] - loss: 1.4844 - acc: 0.9570 - 24ms/step        \n",
      "Eval begin...\n",
      "The loss value printed in the log is the current batch, and the metric is the average value of previous step.\n",
      "step 79/79 [==============================] - loss: 1.4612 - acc: 0.9643 - 13ms/step        \n",
      "Eval samples: 10000\n",
      "Epoch 5/10\n",
      "step 469/469 [==============================] - loss: 1.5171 - acc: 0.9605 - 24ms/step         \n",
      "Eval begin...\n",
      "The loss value printed in the log is the current batch, and the metric is the average value of previous step.\n",
      "step 79/79 [==============================] - loss: 1.4612 - acc: 0.9690 - 11ms/step        \n",
      "Eval samples: 10000\n",
      "Epoch 6/10\n",
      "step 469/469 [==============================] - loss: 1.5000 - acc: 0.9641 - 24ms/step         \n",
      "Eval begin...\n",
      "The loss value printed in the log is the current batch, and the metric is the average value of previous step.\n",
      "step 79/79 [==============================] - loss: 1.4612 - acc: 0.9665 - 11ms/step        \n",
      "Eval samples: 10000\n",
      "Epoch 7/10\n",
      "step 469/469 [==============================] - loss: 1.4927 - acc: 0.9643 - 23ms/step         \n",
      "Eval begin...\n",
      "The loss value printed in the log is the current batch, and the metric is the average value of previous step.\n",
      "step 79/79 [==============================] - loss: 1.4612 - acc: 0.9639 - 10ms/step        \n",
      "Eval samples: 10000\n",
      "Epoch 8/10\n",
      "step 469/469 [==============================] - loss: 1.4819 - acc: 0.9656 - 24ms/step        \n",
      "Eval begin...\n",
      "The loss value printed in the log is the current batch, and the metric is the average value of previous step.\n",
      "step 79/79 [==============================] - loss: 1.4612 - acc: 0.9655 - 11ms/step        \n",
      "Eval samples: 10000\n",
      "Epoch 9/10\n",
      "step 469/469 [==============================] - loss: 1.5125 - acc: 0.9666 - 24ms/step        \n",
      "Eval begin...\n",
      "The loss value printed in the log is the current batch, and the metric is the average value of previous step.\n",
      "step 79/79 [==============================] - loss: 1.5234 - acc: 0.9671 - 11ms/step        \n",
      "Eval samples: 10000\n",
      "Epoch 10/10\n",
      "step 469/469 [==============================] - loss: 1.4943 - acc: 0.9667 - 24ms/step        \n",
      "Eval begin...\n",
      "The loss value printed in the log is the current batch, and the metric is the average value of previous step.\n",
      "step 79/79 [==============================] - loss: 1.5001 - acc: 0.9684 - 11ms/step        \n",
      "Eval samples: 10000\n",
      "Eval begin...\n",
      "The loss value printed in the log is the current batch, and the metric is the average value of previous step.\n",
      "step 10000/10000 [==============================] - loss: 1.4612 - acc: 0.9684 - 2ms/step         \n",
      "Eval samples: 10000\n",
      "{'loss': [1.4611502], 'acc': 0.9611} {'loss': [1.4611502], 'acc': 0.9684}\n"
     ]
    }
   ],
   "source": [
    "model1.prepare(pdl.optimizer.Adam(learning_rate = 0.001,\r\n",
    "parameters = net1.parameters()),\r\n",
    "pdl.nn.CrossEntropyLoss(),\r\n",
    "pdl.metric.Accuracy())\r\n",
    "\r\n",
    "model2.prepare(pdl.optimizer.Adam(learning_rate = 0.001,\r\n",
    "parameters = net2.parameters()),\r\n",
    "pdl.nn.CrossEntropyLoss(),\r\n",
    "pdl.metric.Accuracy())\r\n",
    "\r\n",
    "model1.fit(training_set, testing_set, epochs = 10, batch_size = 128, verbose = 1)\r\n",
    "result1 = model1.evaluate(testing_set, verbose = 1)\r\n",
    "model2.fit(training_set, testing_set, epochs = 10, batch_size = 128, verbose = 1)\r\n",
    "result2 = model2.evaluate(testing_set, verbose = 1)\r\n",
    "print(result1, result2)"
   ]
  },
  {
   "cell_type": "code",
   "execution_count": 10,
   "metadata": {
    "collapsed": false
   },
   "outputs": [],
   "source": [
    "model1.save('finetuning/mnist_NN')\r\n",
    "model2.save('finetuning/mnist_LeNet')\r\n",
    "# 结果已经保存"
   ]
  },
  {
   "cell_type": "code",
   "execution_count": 11,
   "metadata": {
    "collapsed": false
   },
   "outputs": [
    {
     "name": "stdout",
     "output_type": "stream",
     "text": [
      "Predict begin...\n",
      "step 10000/10000 [==============================] - 2ms/step        \n",
      "Predict samples: 10000\n",
      "Predict begin...\n",
      "step 10000/10000 [==============================] - 2ms/step        \n",
      "Predict samples: 10000\n"
     ]
    }
   ],
   "source": [
    "predict1 = model1.predict(testing_set)\r\n",
    "predict2 = model2.predict(testing_set)\r\n",
    "# 经观察这些结果每一个都是预测的概率，需要提取出最大的一个作为预测结果，另外，外面依然有层壳"
   ]
  },
  {
   "cell_type": "code",
   "execution_count": 12,
   "metadata": {
    "collapsed": false
   },
   "outputs": [],
   "source": [
    "def show_img(img, predict):\r\n",
    "    plt.figure()\r\n",
    "    plt.title('predict: {}'.format(predict))\r\n",
    "    plt.imshow(img.reshape([28,28]), cmap=plt.cm.binary)\r\n",
    "    plt.show()"
   ]
  },
  {
   "cell_type": "code",
   "execution_count": 13,
   "metadata": {
    "collapsed": false
   },
   "outputs": [
    {
     "name": "stdout",
     "output_type": "stream",
     "text": [
      "[ 513 1026 1539 2052 2565]\n"
     ]
    },
    {
     "name": "stderr",
     "output_type": "stream",
     "text": [
      "/opt/conda/envs/python35-paddle120-env/lib/python3.7/site-packages/numpy/lib/type_check.py:546: DeprecationWarning: np.asscalar(a) is deprecated since NumPy v1.16, use a.item() instead\n",
      "  'a.item() instead', DeprecationWarning, stacklevel=1)\n"
     ]
    },
    {
     "data": {
      "image/png": "[encoded data removed]",
      "text/plain": [
       "<Figure size 432x288 with 1 Axes>"
      ]
     },
     "metadata": {},
     "output_type": "display_data"
    },
    {
     "data": {
      "image/png": "[encoded data removed]",
      "text/plain": [
       "<Figure size 432x288 with 1 Axes>"
      ]
     },
     "metadata": {},
     "output_type": "display_data"
    },
    {
     "data": {
      "image/png": "[encoded data removed]",
      "text/plain": [
       "<Figure size 432x288 with 1 Axes>"
      ]
     },
     "metadata": {},
     "output_type": "display_data"
    },
    {
     "data": {
      "image/png": "[encoded data removed]",
      "text/plain": [
       "<Figure size 432x288 with 1 Axes>"
      ]
     },
     "metadata": {},
     "output_type": "display_data"
    },
    {
     "data": {
      "image/png": "[encoded data removed]",
      "text/plain": [
       "<Figure size 432x288 with 1 Axes>"
      ]
     },
     "metadata": {},
     "output_type": "display_data"
    }
   ],
   "source": [
    "import random\r\n",
    "indexs = random.randint(0, 2000) * np.array(range(1, 6))\r\n",
    "print(indexs)\r\n",
    "\r\n",
    "for idx in indexs:\r\n",
    "    show_img(testing_set[idx][0], 'NN:{},CNN:{}|Truth:{}'.format(np.argmax(predict1[0][idx]), np.argmax(predict2[0][idx]), testing_set[idx][1][0]))\r\n"
   ]
  },
  {
   "cell_type": "code",
   "execution_count": 15,
   "metadata": {
    "collapsed": false
   },
   "outputs": [
    {
     "name": "stdout",
     "output_type": "stream",
     "text": [
      "神经网络预测数字为：8,卷积神经网络预测数字为：1\n",
      "实际数字为：1\n",
      "神经网络预测数字为：4,卷积神经网络预测数字为：4\n",
      "实际数字为：4\n",
      "神经网络预测数字为：5,卷积神经网络预测数字为：5\n",
      "实际数字为：5\n",
      "神经网络预测数字为：2,卷积神经网络预测数字为：2\n",
      "实际数字为：2\n",
      "神经网络预测数字为：0,卷积神经网络预测数字为：0\n",
      "实际数字为：0\n",
      "神经网络预测数字为：3,卷积神经网络预测数字为：7\n",
      "实际数字为：7\n",
      "神经网络预测数字为：8,卷积神经网络预测数字为：8\n",
      "实际数字为：8\n",
      "神经网络预测数字为：6,卷积神经网络预测数字为：6\n",
      "实际数字为：6\n",
      "神经网络预测数字为：3,卷积神经网络预测数字为：3\n",
      "实际数字为：3\n",
      "神经网络预测数字为：8,卷积神经网络预测数字为：8\n",
      "实际数字为：9\n"
     ]
    }
   ],
   "source": [
    "# 加载自己写的图片进行预测，记得先执行上面的两个网络建模模块\r\n",
    "model1.load('finetuning/mnist_NN')\r\n",
    "model2.load('finetuning/mnist_LeNet')\r\n",
    "\r\n",
    "import os\r\n",
    "import PIL\r\n",
    "import matplotlib.pyplot as plt\r\n",
    "number = 10\r\n",
    "dir_path = r\"dig10\"\r\n",
    "files = os.listdir(dir_path)\r\n",
    "# print(files)\r\n",
    "for idx in range(number):\r\n",
    "    if('0'<=files[idx][0]<='9'):\r\n",
    "        image_path = dir_path + '/' + files[idx]\r\n",
    "        image = PIL.Image.open(image_path)\r\n",
    "        # plt.imshow(image)\r\n",
    "        # plt.show()\r\n",
    "        image = image.convert(\"L\")\r\n",
    "        image = image.resize((28, 28), PIL.Image.ANTIALIAS)\r\n",
    "        image = np.array(image).reshape(1, 1, 28, 28).astype(np.float32)\r\n",
    "        image = 255 - image #反相操作！非常重要！\r\n",
    "        image = image / 255.0 * 2.0 - 1.0\r\n",
    "        pred1 = model1.predict_batch(image)\r\n",
    "        pred2 = model2.predict_batch(image)\r\n",
    "        # show_img(image,'NN:{}, LeNet-5:{}'.format(np.argmax(pred1), np.argmax(pred2)))\r\n",
    "        print(\"神经网络预测数字为：{}\".format(np.argmax(pred1)),end=\",\")\r\n",
    "        print(\"卷积神经网络预测数字为：{}\".format(np.argmax(pred2)))\r\n",
    "        print(\"实际数字为：{}\".format(files[idx].split(\".\")[0]))"
   ]
  },
  {
   "cell_type": "markdown",
   "metadata": {
    "collapsed": false
   },
   "source": [
    "请点击[此处](https://ai.baidu.com/docs#/AIStudio_Project_Notebook/a38e5576)查看本环境基本用法.  <br>\n",
    "Please click [here ](https://ai.baidu.com/docs#/AIStudio_Project_Notebook/a38e5576) for more detailed instructions. "
   ]
  }
 ],
 "metadata": {
  "kernelspec": {
   "display_name": "PaddlePaddle 2.0.0b0 (Python 3.5)",
   "language": "python",
   "name": "py35-paddle1.2.0"
  },
  "language_info": {
   "codemirror_mode": {
    "name": "ipython",
    "version": 3
   },
   "file_extension": ".py",
   "mimetype": "text/x-python",
   "name": "python",
   "nbconvert_exporter": "python",
   "pygments_lexer": "ipython3",
   "version": "3.7.4"
  }
 },
 "nbformat": 4,
 "nbformat_minor": 1
}
