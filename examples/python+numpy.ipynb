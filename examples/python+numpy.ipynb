{
 "cells": [
  {
   "cell_type": "code",
   "execution_count": null,
   "id": "0ea23d16",
   "metadata": {},
   "outputs": [],
   "source": [
    "import numpy as np\n",
    "import pandas as pd\n",
    "import seaborn as sns\n",
    "import matplotlib.pyplot as plt\n",
    "%matplotlib inline\n",
    " \n",
    "data = pd.read_csv('train.csv')\n",
    "# 查看数据\n",
    "data.head()\n",
    "# 查看数据集形状\n",
    "data.shape\n",
    "# 查看数据集数据类型\n",
    "data.dtypes"
   ]
  },
  {
   "cell_type": "code",
   "execution_count": null,
   "id": "a5defdc0",
   "metadata": {},
   "outputs": [],
   "source": [
    "%pylab inline\n",
    "# 设置图幅大小\n",
    "pylab.rcParams['figure.figsize'] = (15, 10)\n",
    "# 计算相关系数\n",
    "corrmatrix = data.corr()\n",
    "# 绘制热力图，热力图横纵坐标分别是data的index/column,vmax/vmin设置热力图颜色标识上下限，center显示颜色标识中心位置，cmap颜色标识颜色设置\n",
    "sns.heatmap(corrmatrix,square=True,vmax=1,vmin=-1,center=0.0,cmap='coolwarm')"
   ]
  },
  {
   "cell_type": "code",
   "execution_count": null,
   "id": "9bc001b5",
   "metadata": {},
   "outputs": [],
   "source": [
    "# 取相关性前10的特征\n",
    "k=10\n",
    "# data.nlargest(k, 'target')在data中取‘target'列值排前十的行\n",
    "# cols为排前十的行的index,在本例中即为与’SalePrice‘相关性最大的前十个特征名\n",
    "cols = corrmatrix.nlargest(k,'SalePrice')['SalePrice'].index\n",
    "cm = np.corrcoef(data[cols].values.T)\n",
    "#data[cols].values.T\n",
    "#设置坐标轴字体大小\n",
    "sns.set(font_scale=1.25)\n",
    "# sns.heatmap() cbar是否显示颜色条，默认是；cmap显示颜色；annot是否显示每个值，默认不显示；\n",
    "# square是否正方形方框，默认为False,fmt当显示annotate时annot的格式；annot_kws为annot设置格式\n",
    "# yticklabels为Y轴刻度标签值，xticklabels为X轴刻度标签值\n",
    "hm = sns.heatmap(cm,cmap='RdPu',annot=True,square=True,fmt='.2f',annot_kws={'size':10},yticklabels=cols.values,xticklabels=cols.values)\n",
    " \n",
    " \n",
    "# 上例提供了求相关系数另一种方法，也可以直接用data.corr(),更方便\n",
    "cm1 = data[cols].corr()\n",
    "hm2 = sns.heatmap(cm1,square=True,annot=True,cmap='RdPu',fmt='.2f',annot_kws={'size':10})"
   ]
  },
  {
   "cell_type": "code",
   "execution_count": null,
   "id": "2c2fe4df",
   "metadata": {},
   "outputs": [],
   "source": [
    "cols1 = ['SalePrice', 'OverallQual', 'GrLivArea', 'GarageCars','TotalBsmtSF', 'FullBath', 'TotRmsAbvGrd', 'YearBuilt']\n",
    "sns.pairplot(data[cols1],size=2.5)"
   ]
  },
  {
   "cell_type": "code",
   "execution_count": null,
   "id": "e78405c5",
   "metadata": {},
   "outputs": [],
   "source": [
    "# isnull() boolean, isnull().sum()统计所有缺失值的个数\n",
    "# isnull().count()统计所有项个数（包括缺失值和非缺失值），.count()统计所有非缺失值个数\n",
    "total = data.isnull().sum().sort_values(ascending=False)\n",
    "percent = (data.isnull().sum()/data.isnull().count()).sort_values(ascending=False)\n",
    "# pd.concat() axis=0 index,axis=1 column, keys列名\n",
    "missing_data = pd.concat([total,percent],axis=1,keys = ['Total','Percent'])\n",
    "missing_data.head(20)"
   ]
  },
  {
   "cell_type": "code",
   "execution_count": null,
   "id": "954150e8",
   "metadata": {},
   "outputs": [],
   "source": [
    "# 处理缺失值，将含缺失值的整列剔除\n",
    "data1 = data.drop(missing_data[missing_data['Total']>1].index,axis=1)\n",
    "# 由于特征Electrical只有一个缺失值，故只需删除该行即可\n",
    "data2 = data1.drop(data1.loc[data1['Electrical'].isnull()].index)\n",
    "# 检查缺失值数量\n",
    "data2.isnull().sum().max()"
   ]
  },
  {
   "cell_type": "code",
   "execution_count": null,
   "id": "37cf4adf",
   "metadata": {},
   "outputs": [],
   "source": [
    "feature_data = data2.drop(['SalePrice'],axis=1)\n",
    "target_data = data2['SalePrice']\n",
    " \n",
    "# 将数据集划分为训练集和测试集\n",
    "from sklearn.model_selection import train_test_split\n",
    "X_train,X_test,y_train, y_test = train_test_split(feature_data, target_data, test_size=0.3)"
   ]
  },
  {
   "cell_type": "code",
   "execution_count": null,
   "id": "2b98685f",
   "metadata": {},
   "outputs": [],
   "source": [
    "from statsmodels.formula.api import ols\n",
    "from statsmodels.sandbox.regression.predstd import wls_prediction_std\n",
    " \n",
    "df_train = pd.concat([X_train,y_train],axis=1)\n",
    "# ols(\"target~feature+C(feature)\", data=data\n",
    "# C(feature)表示这个特征为分类特征category\n",
    "lr_model = ols(\"SalePrice~C(OverallQual)+GrLivArea+C(GarageCars)+TotalBsmtSF+C(FullBath)+YearBuilt\",data=df_train).fit()\n",
    "print(lr_model.summary())\n",
    " \n",
    "# 预测测试集\n",
    "lr_model.predict(X_test)"
   ]
  },
  {
   "cell_type": "code",
   "execution_count": null,
   "id": "0be57b7d",
   "metadata": {},
   "outputs": [],
   "source": [
    "# prstd为标准方差，iv_l为置信区间下限，iv_u为置信区间上限\n",
    "prstd, iv_l, iv_u = wls_prediction_std(lr_model, alpha = 0.05)\n",
    "# lr_model.predict()为训练集的预测值\n",
    "predict_low_upper = pd.DataFrame([lr_model.predict(),iv_l, iv_u],index=['PredictSalePrice','iv_l','iv_u']).T\n",
    "predict_low_upper.plot(kind='hist',alpha=0.4)"
   ]
  },
  {
   "cell_type": "code",
   "execution_count": null,
   "id": "b7782239",
   "metadata": {},
   "outputs": [],
   "source": []
  },
  {
   "cell_type": "code",
   "execution_count": null,
   "id": "0c09277e",
   "metadata": {},
   "outputs": [],
   "source": []
  }
 ],
 "metadata": {
  "kernelspec": {
   "display_name": "Python 3",
   "language": "python",
   "name": "python3"
  },
  "language_info": {
   "codemirror_mode": {
    "name": "ipython",
    "version": 3
   },
   "file_extension": ".py",
   "mimetype": "text/x-python",
   "name": "python",
   "nbconvert_exporter": "python",
   "pygments_lexer": "ipython3",
   "version": "3.9.4"
  }
 },
 "nbformat": 4,
 "nbformat_minor": 5
}
