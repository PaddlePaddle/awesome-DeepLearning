{
 "cells": [
  {
   "cell_type": "code",
   "execution_count": 10,
   "metadata": {
    "collapsed": false
   },
   "outputs": [],
   "source": [
    "# 加载相关库\r\n",
    "import os\r\n",
    "import random\r\n",
    "import paddle\r\n",
    "import numpy as np\r\n",
    "from PIL import Image\r\n",
    "import gzip\r\n",
    "import json\r\n",
    "\r\n",
    "\r\n",
    "# 定义数据集读取器\r\n",
    "def load_data(mode='train'):\r\n",
    "\r\n",
    "    # 读取数据文件\r\n",
    "    datafile = './work/mnist.json.gz'\r\n",
    "    print('loading mnist dataset from {} ......'.format(datafile))\r\n",
    "    data = json.load(gzip.open(datafile))\r\n",
    "    # 读取数据集中的训练集，验证集和测试集\r\n",
    "    train_set, val_set, eval_set = data\r\n",
    "\r\n",
    "    # 数据集相关参数，图片高度IMG_ROWS, 图片宽度IMG_COLS\r\n",
    "    IMG_ROWS = 28\r\n",
    "    IMG_COLS = 28\r\n",
    "    # 根据输入mode参数决定使用训练集，验证集还是测试\r\n",
    "    if mode == 'train':\r\n",
    "        imgs = train_set[0]\r\n",
    "        labels = train_set[1]\r\n",
    "    elif mode == 'valid':\r\n",
    "        imgs = val_set[0]\r\n",
    "        labels = val_set[1]\r\n",
    "    elif mode == 'eval':\r\n",
    "        imgs = eval_set[0]\r\n",
    "        labels = eval_set[1]\r\n",
    "    # 获得所有图像的数量\r\n",
    "    imgs_length = len(imgs)\r\n",
    "    # 验证图像数量和标签数量是否一致\r\n",
    "    assert len(imgs) == len(labels), \\\r\n",
    "          \"length of train_imgs({}) should be the same as train_labels({})\".format(\r\n",
    "                  len(imgs), len(labels))\r\n",
    "\r\n",
    "    index_list = list(range(imgs_length))\r\n",
    "\r\n",
    "    # 读入数据时用到的batchsize\r\n",
    "    BATCHSIZE = 100\r\n",
    "\r\n",
    "    # 定义数据生成器\r\n",
    "    def data_generator():\r\n",
    "        # 训练模式下，打乱训练数据\r\n",
    "        if mode == 'train':\r\n",
    "            random.shuffle(index_list)\r\n",
    "        imgs_list = []\r\n",
    "        labels_list = []\r\n",
    "        # 按照索引读取数据\r\n",
    "        for i in index_list:\r\n",
    "            # 读取图像和标签，转换其尺寸和类型\r\n",
    "            img = np.reshape(imgs[i], [1, IMG_ROWS, IMG_COLS]).astype('float32')\r\n",
    "            label = np.reshape(labels[i], [1]).astype('int64')\r\n",
    "            imgs_list.append(img) \r\n",
    "            labels_list.append(label)\r\n",
    "            # 如果当前数据缓存达到了batch size，就返回一个批次数据\r\n",
    "            if len(imgs_list) == BATCHSIZE:\r\n",
    "                yield np.array(imgs_list), np.array(labels_list)\r\n",
    "                # 清空数据缓存列表\r\n",
    "                imgs_list = []\r\n",
    "                labels_list = []\r\n",
    "\r\n",
    "        # 如果剩余数据的数目小于BATCHSIZE，\r\n",
    "        # 则剩余数据一起构成一个大小为len(imgs_list)的mini-batch\r\n",
    "        if len(imgs_list) > 0:\r\n",
    "            yield np.array(imgs_list), np.array(labels_list)\r\n",
    "\r\n",
    "    return data_generator\r\n"
   ]
  },
  {
   "cell_type": "code",
   "execution_count": 12,
   "metadata": {
    "collapsed": false
   },
   "outputs": [
    {
     "name": "stdout",
     "output_type": "stream",
     "text": [
      "loading mnist dataset from ./work/mnist.json.gz ......\n"
     ]
    },
    {
     "data": {
      "text/plain": [
       "CUDAPlace(0)"
      ]
     },
     "execution_count": 12,
     "metadata": {},
     "output_type": "execute_result"
    }
   ],
   "source": [
    "# 定义模型结构\r\n",
    "import paddle.nn.functional as F\r\n",
    "from paddle.nn import Conv2D, MaxPool2D, Linear\r\n",
    "\r\n",
    "# 多层卷积神经网络实现\r\n",
    "\r\n",
    "class MNIST(paddle.nn.Layer):\r\n",
    "     def __init__(self):\r\n",
    "         super(MNIST, self).__init__()\r\n",
    "         \r\n",
    "         # 定义卷积层，输出特征通道out_channels设置为20，卷积核的大小kernel_size为5，卷积步长stride=1，padding=2\r\n",
    "         self.conv1 = Conv2D(in_channels=1, out_channels=20, kernel_size=5, stride=1, padding=2)\r\n",
    "         # 定义池化层，池化核的大小kernel_size为2，池化步长为2\r\n",
    "         self.max_pool1 = MaxPool2D(kernel_size=2, stride=2)\r\n",
    "         # 定义卷积层，输出特征通道out_channels设置为20，卷积核的大小kernel_size为5，卷积步长stride=1，padding=2\r\n",
    "         self.conv2 = Conv2D(in_channels=20, out_channels=20, kernel_size=5, stride=1, padding=2)\r\n",
    "         # 定义池化层，池化核的大小kernel_size为2，池化步长为2\r\n",
    "         self.max_pool2 = MaxPool2D(kernel_size=2, stride=2)\r\n",
    "         # 定义一层全连接层，输出维度是10\r\n",
    "         self.fc = Linear(in_features=980, out_features=10)\r\n",
    "         \r\n",
    "   # 定义网络前向计算过程，卷积后紧接着使用池化层，最后使用全连接层计算最终输出\r\n",
    "   # 卷积层激活函数使用Relu，全连接层激活函数使用softmax\r\n",
    "     def forward(self, inputs, label):\r\n",
    "         x = self.conv1(inputs)\r\n",
    "         x = F.sigmoid(x)\r\n",
    "         x = self.max_pool1(x)\r\n",
    "         x = self.conv2(x)\r\n",
    "         x = F.sigmoid(x)\r\n",
    "         x = self.max_pool2(x)\r\n",
    "         x = paddle.reshape(x, [x.shape[0], 980])\r\n",
    "         x = self.fc(x)\r\n",
    "         x = F.softmax(x)\r\n",
    "         if label is not None:\r\n",
    "             acc = paddle.metric.accuracy(input=x, label=label)\r\n",
    "             return x, acc\r\n",
    "         else:\r\n",
    "             return x\r\n",
    "\r\n",
    "#调用加载数据的函数\r\n",
    "train_loader = load_data('train')\r\n",
    "    \r\n",
    "#在使用GPU机器时，可以将use_gpu变量设置成True\r\n",
    "use_gpu = True\r\n",
    "paddle.set_device('gpu:0') if use_gpu else paddle.set_device('cpu')\r\n"
   ]
  },
  {
   "cell_type": "code",
   "execution_count": 13,
   "metadata": {
    "collapsed": false
   },
   "outputs": [
    {
     "name": "stdout",
     "output_type": "stream",
     "text": [
      "epoch: 0, batch: 0, loss is: [2.2975795], acc is [0.13]\n",
      "epoch: 0, batch: 100, loss is: [2.2013388], acc is [0.22]\n",
      "epoch: 0, batch: 200, loss is: [1.9044862], acc is [0.59]\n",
      "epoch: 0, batch: 300, loss is: [1.7285492], acc is [0.75]\n",
      "epoch: 0, batch: 400, loss is: [1.6846969], acc is [0.82]\n",
      "epoch: 1, batch: 0, loss is: [1.6494402], acc is [0.84]\n",
      "epoch: 1, batch: 100, loss is: [1.5629656], acc is [0.92]\n",
      "epoch: 1, batch: 200, loss is: [1.6041759], acc is [0.87]\n",
      "epoch: 1, batch: 300, loss is: [1.5793179], acc is [0.88]\n",
      "epoch: 1, batch: 400, loss is: [1.5325226], acc is [0.95]\n",
      "epoch: 2, batch: 0, loss is: [1.5416331], acc is [0.94]\n",
      "epoch: 2, batch: 100, loss is: [1.5510164], acc is [0.92]\n",
      "epoch: 2, batch: 200, loss is: [1.5209824], acc is [0.94]\n",
      "epoch: 2, batch: 300, loss is: [1.4951781], acc is [0.98]\n",
      "epoch: 2, batch: 400, loss is: [1.5101713], acc is [0.98]\n",
      "epoch: 3, batch: 0, loss is: [1.4907187], acc is [0.99]\n",
      "epoch: 3, batch: 100, loss is: [1.5051448], acc is [0.95]\n",
      "epoch: 3, batch: 200, loss is: [1.507761], acc is [0.97]\n",
      "epoch: 3, batch: 300, loss is: [1.5333393], acc is [0.95]\n",
      "epoch: 3, batch: 400, loss is: [1.5302505], acc is [0.95]\n",
      "epoch: 4, batch: 0, loss is: [1.5129257], acc is [0.95]\n",
      "epoch: 4, batch: 100, loss is: [1.5222303], acc is [0.94]\n",
      "epoch: 4, batch: 200, loss is: [1.4966117], acc is [0.98]\n",
      "epoch: 4, batch: 300, loss is: [1.4959886], acc is [0.97]\n",
      "epoch: 4, batch: 400, loss is: [1.4880701], acc is [0.97]\n",
      "epoch: 5, batch: 0, loss is: [1.4711117], acc is [1.]\n",
      "epoch: 5, batch: 100, loss is: [1.5060301], acc is [0.96]\n",
      "epoch: 5, batch: 200, loss is: [1.4941219], acc is [0.98]\n",
      "epoch: 5, batch: 300, loss is: [1.502071], acc is [0.97]\n",
      "epoch: 5, batch: 400, loss is: [1.5313951], acc is [0.94]\n",
      "epoch: 6, batch: 0, loss is: [1.527237], acc is [0.94]\n",
      "epoch: 6, batch: 100, loss is: [1.4901098], acc is [0.98]\n",
      "epoch: 6, batch: 200, loss is: [1.4920766], acc is [0.98]\n",
      "epoch: 6, batch: 300, loss is: [1.4896985], acc is [0.97]\n",
      "epoch: 6, batch: 400, loss is: [1.4754432], acc is [0.99]\n",
      "epoch: 7, batch: 0, loss is: [1.4990077], acc is [0.97]\n",
      "epoch: 7, batch: 100, loss is: [1.4806248], acc is [1.]\n",
      "epoch: 7, batch: 200, loss is: [1.5024109], acc is [0.96]\n",
      "epoch: 7, batch: 300, loss is: [1.4814415], acc is [0.98]\n",
      "epoch: 7, batch: 400, loss is: [1.4738531], acc is [0.99]\n",
      "epoch: 8, batch: 0, loss is: [1.501646], acc is [0.97]\n",
      "epoch: 8, batch: 100, loss is: [1.4725058], acc is [0.99]\n",
      "epoch: 8, batch: 200, loss is: [1.4994012], acc is [0.97]\n",
      "epoch: 8, batch: 300, loss is: [1.4844863], acc is [0.98]\n",
      "epoch: 8, batch: 400, loss is: [1.4961606], acc is [0.97]\n",
      "epoch: 9, batch: 0, loss is: [1.4715774], acc is [0.99]\n",
      "epoch: 9, batch: 100, loss is: [1.4703107], acc is [1.]\n",
      "epoch: 9, batch: 200, loss is: [1.4905523], acc is [0.97]\n",
      "epoch: 9, batch: 300, loss is: [1.4743752], acc is [0.99]\n",
      "epoch: 9, batch: 400, loss is: [1.4999167], acc is [0.97]\n"
     ]
    }
   ],
   "source": [
    "#引入matplotlib库\r\n",
    "import matplotlib.pyplot as plt\r\n",
    "\r\n",
    "def train(model):\r\n",
    "    model.train()\r\n",
    "    \r\n",
    "    opt = paddle.optimizer.Adam(learning_rate=0.001, weight_decay=paddle.regularizer.L2Decay(coeff=1e-5), parameters=model.parameters())\r\n",
    "    \r\n",
    "    EPOCH_NUM = 10\r\n",
    "    iter=0\r\n",
    "    iters=[]\r\n",
    "    losses=[]\r\n",
    "    for epoch_id in range(EPOCH_NUM):\r\n",
    "        for batch_id, data in enumerate(train_loader()):\r\n",
    "            #准备数据，变得更加简洁\r\n",
    "            images, labels = data\r\n",
    "            images = paddle.to_tensor(images)\r\n",
    "            labels = paddle.to_tensor(labels)\r\n",
    "            \r\n",
    "            #前向计算的过程，同时拿到模型输出值和分类准确率\r\n",
    "            predicts, acc = model(images, labels)\r\n",
    "            #计算损失，取一个批次样本损失的平均值\r\n",
    "            loss = F.cross_entropy(predicts, labels)\r\n",
    "            avg_loss = paddle.mean(loss)\r\n",
    "            \r\n",
    "            #每训练了100批次的数据，打印下当前Loss的情况\r\n",
    "            if batch_id % 100 == 0:\r\n",
    "                print(\"epoch: {}, batch: {}, loss is: {}, acc is {}\".format(epoch_id, batch_id, avg_loss.numpy(), acc.numpy()))\r\n",
    "                iters.append(iter)\r\n",
    "                losses.append(avg_loss.numpy())\r\n",
    "                iter = iter + 100\r\n",
    "            \r\n",
    "            #后向传播，更新参数的过程\r\n",
    "            avg_loss.backward()\r\n",
    "            opt.step()\r\n",
    "            opt.clear_grad()\r\n",
    "            \r\n",
    "    #保存模型参数\r\n",
    "    paddle.save(model.state_dict(), 'mnist.pdparams')\r\n",
    "    \r\n",
    "    return iters, losses\r\n",
    "    \r\n",
    "model = MNIST()\r\n",
    "iters, losses = train(model)"
   ]
  },
  {
   "cell_type": "code",
   "execution_count": 14,
   "metadata": {
    "collapsed": false
   },
   "outputs": [
    {
     "data": {
      "image/png": "[encoded data removed]",
      "text/plain": [
       "<Figure size 432x288 with 1 Axes>"
      ]
     },
     "metadata": {},
     "output_type": "display_data"
    }
   ],
   "source": [
    "#画出训练过程中Loss的变化曲线\n",
    "plt.figure()\n",
    "plt.title(\"train loss\", fontsize=24)\n",
    "plt.xlabel(\"iter\", fontsize=14)\n",
    "plt.ylabel(\"loss\", fontsize=14)\n",
    "plt.plot(iters, losses,color='red',label='train loss') \n",
    "plt.grid()\n",
    "plt.show()"
   ]
  },
  {
   "cell_type": "code",
   "execution_count": 15,
   "metadata": {
    "collapsed": false
   },
   "outputs": [
    {
     "name": "stdout",
     "output_type": "stream",
     "text": [
      "start evaluation .......\n",
      "loading mnist dataset from ./work/mnist.json.gz ......\n",
      "loss=1.4814935755729675, acc=0.9837000066041947\n"
     ]
    }
   ],
   "source": [
    "def evaluation(model):\n",
    "    print('start evaluation .......')\n",
    "    # 定义预测过程\n",
    "    params_file_path = 'mnist.pdparams'\n",
    "    # 加载模型参数\n",
    "    param_dict = paddle.load(params_file_path)\n",
    "    model.load_dict(param_dict)\n",
    "\n",
    "    model.eval()\n",
    "    eval_loader = load_data('eval')\n",
    "\n",
    "    acc_set = []\n",
    "    avg_loss_set = []\n",
    "    for batch_id, data in enumerate(eval_loader()):\n",
    "        images, labels = data\n",
    "        images = paddle.to_tensor(images)\n",
    "        labels = paddle.to_tensor(labels)\n",
    "        predicts, acc = model(images, labels)\n",
    "        loss = F.cross_entropy(input=predicts, label=labels)\n",
    "        avg_loss = paddle.mean(loss)\n",
    "        acc_set.append(float(acc.numpy()))\n",
    "        avg_loss_set.append(float(avg_loss.numpy()))\n",
    "    \n",
    "    #计算多个batch的平均损失和准确率\n",
    "    acc_val_mean = np.array(acc_set).mean()\n",
    "    avg_loss_val_mean = np.array(avg_loss_set).mean()\n",
    "\n",
    "    print('loss={}, acc={}'.format(avg_loss_val_mean, acc_val_mean))\n",
    "\n",
    "model = MNIST()\n",
    "evaluation(model)"
   ]
  }
 ],
 "metadata": {
  "kernelspec": {
   "display_name": "PaddlePaddle 2.0.0b0 (Python 3.5)",
   "language": "python",
   "name": "py35-paddle1.2.0"
  },
  "language_info": {
   "codemirror_mode": {
    "name": "ipython",
    "version": 3
   },
   "file_extension": ".py",
   "mimetype": "text/x-python",
   "name": "python",
   "nbconvert_exporter": "python",
   "pygments_lexer": "ipython3",
   "version": "3.7.4"
  }
 },
 "nbformat": 4,
 "nbformat_minor": 1
}
