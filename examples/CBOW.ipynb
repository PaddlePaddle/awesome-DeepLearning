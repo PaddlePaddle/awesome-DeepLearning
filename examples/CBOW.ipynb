{
 "cells": [
  {
   "cell_type": "code",
   "execution_count": 1,
   "metadata": {
    "collapsed": false
   },
   "outputs": [],
   "source": [
    "# encoding=utf8\n",
    "import io\n",
    "import os\n",
    "import sys\n",
    "import requests\n",
    "from collections import OrderedDict \n",
    "import math\n",
    "import random\n",
    "import numpy as np\n",
    "import paddle\n",
    "from paddle.nn import Embedding\n",
    "import paddle.nn.functional as F"
   ]
  },
  {
   "cell_type": "code",
   "execution_count": 0,
   "metadata": {
    "collapsed": false
   },
   "outputs": [],
   "source": [
    "# 下载语料用来训练word2vec\n",
    "def download():\n",
    "    # 可以从百度云服务器下载一些开源数据集（dataset.bj.bcebos.com）\n",
    "    corpus_url = \"https://dataset.bj.bcebos.com/word2vec/text8.txt\"\n",
    "    # 使用python的requests包下载数据集到本地\n",
    "    web_request = requests.get(corpus_url)\n",
    "    corpus = web_request.content\n",
    "    # 把下载后的文件存储在当前目录的text8.txt文件内\n",
    "    with open(\"./text8.txt\", \"wb\") as f:\n",
    "        f.write(corpus)\n",
    "    f.close()\n",
    "download()"
   ]
  },
  {
   "cell_type": "code",
   "execution_count": null,
   "metadata": {
    "collapsed": false
   },
   "outputs": [],
   "source": [
    "# 读取text8数据\n",
    "def load_text8():\n",
    "    with open(\"./text8.txt\", \"r\") as f:\n",
    "        corpus = f.read().strip(\"\\n\")\n",
    "    f.close()\n",
    "\n",
    "    return corpus\n",
    "\n",
    "corpus = load_text8()\n",
    "\n",
    "# 打印前500个字符，简要看一下这个语料的样子\n",
    "print(corpus[:500])"
   ]
  },
  {
   "cell_type": "code",
   "execution_count": 2,
   "metadata": {
    "collapsed": false
   },
   "outputs": [],
   "source": [
    "# 对语料进行预处理（分词）\n",
    "def data_preprocess(corpus):\n",
    "    # 由于英文单词出现在句首的时候经常要大写，所以我们把所有英文字符都转换为小写，\n",
    "    # 以便对语料进行归一化处理（Apple vs apple等）\n",
    "    corpus = corpus.strip().lower()\n",
    "    corpus = corpus.split(\" \")\n",
    "    return corpus\n",
    "\n",
    "corpus = data_preprocess(corpus)\n",
    "print(corpus[:50])\n"
   ]
  },
  {
   "cell_type": "code",
   "execution_count": null,
   "metadata": {
    "collapsed": false
   },
   "outputs": [],
   "source": [
    "# 构造词典，统计每个词的频率，并根据频率将每个词转换为一个整数id\r\n",
    "def build_dict(corpus):\r\n",
    "    # 首先统计每个不同词的频率（出现的次数），使用一个词典记录\r\n",
    "    word_freq_dict = dict()\r\n",
    "    for word in corpus:\r\n",
    "        if word not in word_freq_dict:\r\n",
    "            word_freq_dict[word] = 0\r\n",
    "        word_freq_dict[word] += 1\r\n",
    "\r\n",
    "    # 将这个词典中的词，按照出现次数排序，出现次数越高，排序越靠前\r\n",
    "    # 一般来说，出现频率高的高频词往往是：I，the，you这种代词，而出现频率低的词，往往是一些名词，如：nlp\r\n",
    "    word_freq_dict = sorted(word_freq_dict.items(), key = lambda x:x[1], reverse = True)\r\n",
    "    \r\n",
    "    # 构造3个不同的词典，分别存储，\r\n",
    "    # 每个词到id的映射关系：word2id_dict\r\n",
    "    # 每个id出现的频率：word2id_freq\r\n",
    "    # 每个id到词的映射关系：id2word_dict\r\n",
    "    word2id_dict = dict()\r\n",
    "    word2id_freq = dict()\r\n",
    "    id2word_dict = dict()\r\n",
    "\r\n",
    "    # 按照频率，从高到低，开始遍历每个单词，并为这个单词构造一个独一无二的id\r\n",
    "    for word, freq in word_freq_dict:\r\n",
    "        curr_id = len(word2id_dict)\r\n",
    "        word2id_dict[word] = curr_id\r\n",
    "        word2id_freq[word2id_dict[word]] = freq\r\n",
    "        id2word_dict[curr_id] = word\r\n",
    "\r\n",
    "    return word2id_freq, word2id_dict, id2word_dict\r\n",
    "\r\n",
    "word2id_freq, word2id_dict, id2word_dict = build_dict(corpus)\r\n",
    "vocab_size = len(word2id_freq)\r\n",
    "print(\"there are totoally %d different words in the corpus\" % vocab_size)\r\n",
    "for _, (word, word_id) in zip(range(50), word2id_dict.items()):\r\n",
    "    print(\"word %s, its id %d, its word freq %d\" % (word, word_id, word2id_freq[word_id]))"
   ]
  },
  {
   "cell_type": "code",
   "execution_count": null,
   "metadata": {
    "collapsed": false
   },
   "outputs": [],
   "source": []
  },
  {
   "cell_type": "code",
   "execution_count": null,
   "metadata": {
    "collapsed": false
   },
   "outputs": [],
   "source": [
    "def convert_corpus_to_id(corpus, word2id_dict):\r\n",
    "    # 使用一个循环，将语料中的每个词替换成对应的id，以便于神经网络进行处理\r\n",
    "    corpus = [word2id_dict[word] for word in corpus]\r\n",
    "    return corpus\r\n",
    "\r\n",
    "corpus = convert_corpus_to_id(corpus, word2id_dict)\r\n",
    "print(\"%d tokens in the corpus\" % len(corpus))\r\n",
    "print(corpus[:50])"
   ]
  },
  {
   "cell_type": "code",
   "execution_count": null,
   "metadata": {
    "collapsed": false
   },
   "outputs": [],
   "source": [
    "def subsampling(corpus, word2id_freq):\r\n",
    "    \r\n",
    "    # 这个discard函数决定了一个词会不会被替换，这个函数是具有随机性的，每次调用结果不同\r\n",
    "    # 如果一个词的频率很大，那么它被遗弃的概率就很大\r\n",
    "    def discard(word_id):\r\n",
    "        return random.uniform(0, 1) < 1 - math.sqrt(\r\n",
    "            1e-4 / word2id_freq[word_id] * len(corpus))\r\n",
    "\r\n",
    "    corpus = [word for word in corpus if not discard(word)]\r\n",
    "    return corpus\r\n",
    "\r\n",
    "corpus = subsampling(corpus, word2id_freq)\r\n",
    "print(\"%d tokens in the corpus\" % len(corpus))\r\n",
    "print(corpus[:50])\r\n",
    "#预处理结束"
   ]
  },
  {
   "cell_type": "code",
   "execution_count": null,
   "metadata": {
    "collapsed": false
   },
   "outputs": [],
   "source": [
    "# 构造数据，准备模型训练\r\n",
    "# max_window_size代表了最大的window_size的大小，程序会根据max_window_size从左到右扫描整个语料\r\n",
    "# negative_sample_num代表了对于每个正样本，我们需要随机采样多少负样本用于训练，\r\n",
    "# 一般来说，negative_sample_num的值越大，训练效果越稳定，但是训练速度越慢。 \r\n",
    "def build_data_CBOW(corpus, word2id_dict, word2id_freq, CBOW_window_size=3, nefative_sample_num=4):\r\n",
    "\r\n",
    "    #使用一个list存储处理好的数据\r\n",
    "    dataset[]\r\n",
    "    center_word_idx=0\r\n",
    "\r\n",
    "    for start_odx in range(len(corpus)):\r\n",
    "        context_range = start_idx,start_idx+2*CBOW_window_size\r\n",
    "        center_word_idx = start_idx + CBOW_window_size\r\n",
    "        if context_range[1]<len(corpus):\r\n",
    "            context_words = corpus[context_ranfe[0]:context_range[1]+1]\r\n",
    "            center_word = corpus[center_word_idx]\r\n",
    "            del context_words[CBOW_window_size]\r\n",
    "            context_words = [word2id_dict[context_word]for context_word in context_words]\r\n",
    "            center_word = word2id_dict[center_word]\r\n",
    "            dataset,append((context_words, center_word, 1))\r\n",
    "\r\n",
    "            i = 0\r\n",
    "            while i < nefative_sample_num:\r\n",
    "                negative_word_idx = random.randit(0,vocab_size-1)\r\n",
    "                if negative_word_idx != center_word_idx:\r\n",
    "                    negative_word = corpus[negative_word_idx]\r\n",
    "                    negative_word = word2id_dict[negative_word]\r\n",
    "                    dataset.append((context_words, negative_word, 0))\r\n",
    "                    i += 1\r\n",
    "    return dataset\r\n",
    "    \r\n",
    "corpus_light = corpus[:int(len(corpus)*0.2)]\r\n",
    "dataset = build_data(corpus_light, word2id_dict, word2id_freq)\r\n",
    "for _, (center_word, target_word, label) in zip(range(50), dataset):\r\n",
    "    print(\"center_word %s, target %s, label %d\" % (id2word_dict[center_word],\r\n",
    "                                                   id2word_dict[target_word], label))\r\n",
    "\r\n",
    "\r\n"
   ]
  },
  {
   "cell_type": "code",
   "execution_count": null,
   "metadata": {
    "collapsed": false
   },
   "outputs": [],
   "source": [
    "# 构造mini-batch，准备对模型进行训练\r\n",
    "# 我们将不同类型的数据放到不同的tensor里，便于神经网络进行处理\r\n",
    "# 并通过numpy的array函数，构造出不同的tensor来，并把这些tensor送入神经网络中进行训练\r\n",
    "def build_batch(dataset, batch_size, epoch_num):\r\n",
    "    \r\n",
    "    # center_word_batch缓存batch_size个中心词\r\n",
    "    center_word_batch = []\r\n",
    "    # target_word_batch缓存batch_size个目标词（可以是正样本或者负样本）\r\n",
    "    target_word_batch = []\r\n",
    "    # label_batch缓存了batch_size个0或1的标签，用于模型训练\r\n",
    "    label_batch = []\r\n",
    "    #eval_word_batch每次随机生成几个样例，用于在运行阶段对模型做评估，以便更好地可视化训练效果。\r\n",
    "    eval_word_batch = []\r\n",
    "\r\n",
    "    for epoch in range(epoch_num):\r\n",
    "        # 每次开启一个新epoch之前，都对数据进行一次随机打乱，提高训练效果\r\n",
    "        random.shuffle(dataset)\r\n",
    "        \r\n",
    "        for center_word, target_word, label in dataset:\r\n",
    "            # 遍历dataset中的每个样本，并将这些数据送到不同的tensor里\r\n",
    "            center_word_batch.append([center_word])\r\n",
    "            target_word_batch.append([target_word])\r\n",
    "            label_batch.append(label)\r\n",
    "\r\n",
    "            #构造训练中评估的样本，这里我们生成'one','king','chip'三个词的同义词，\r\n",
    "            #看模型认为的同义词有哪些\r\n",
    "            if len(eval_word_batch) == 0:\r\n",
    "                eval_word_batch.append([word2id_dict['one']])\r\n",
    "            elif len(eval_word_batch) == 1:\r\n",
    "                eval_word_batch.append([word2id_dict['king']])\r\n",
    "            elif len(eval_word_batch) ==2:\r\n",
    "                eval_word_batch.append([word2id_dict['who']])\r\n",
    "            #     eval_word_batch.append([random.randint(0, 99)])\r\n",
    "            #     elif len(eval_word_batch) < 10:\r\n",
    "            #     eval_word_batch.append([random.randint(0, vocab_size-1)])\r\n",
    "\r\n",
    "            #当样本积攒到一个batch_size后，我们把数据都返回回来\r\n",
    "            #在这里我们使用numpy的array函数把list封装成tensor\r\n",
    "            #并使用python的迭代器机制，将数据yield出来\r\n",
    "            #使用迭代器的好处是可以节省内存\r\n",
    "            if len(context_word_batch) == batch_size:\r\n",
    "                yield epoch,                    np.array(context_word_batch).astype(\"int64\"),                    np.array(target_word_batch).astype(\"int64\"),                    np.array(label_batch).astype(\"float32\"),                    np.array(eval_word_batch).astype(\"int64\")\r\n",
    "                context_word_batch = []\r\n",
    "                target_word_batch = []\r\n",
    "                label_batch = []\r\n",
    "                eval_word_batch = []\r\n",
    "\r\n",
    "    if len(context_word_batch) > 0:\r\n",
    "        yield epoch,            np.array(context_word_batch).astype(\"int64\"),            np.array(target_word_batch).astype(\"int64\"),            np.array(label_batch).astype(\"float32\"),            np.array(eval_word_batch).astype(\"int64\")\r\n",
    "\r\n",
    "\r\n",
    "for _, batch in zip(range(10), build_batch(dataset, 128, 3)):\r\n",
    "    print(batch)"
   ]
  },
  {
   "cell_type": "code",
   "execution_count": null,
   "metadata": {
    "collapsed": false
   },
   "outputs": [],
   "source": [
    "#定义CBOW训练网络结构\r\n",
    "class CBOW(fluid.dygraph.Layer):\r\n",
    "    def __init__(self, name_scope, vocab_size, embedding_size, init_scale=0.1):\r\n",
    "        # name_scope定义了这个类某个具体实例的名字，以便于区分不同的实例（模型\r\n",
    "        # vocab_size定义了这个这个模型的词表大小\r\n",
    "        # embedding_size定义了词向量的维度是多少\r\n",
    "        # init_scale定义了词向量初始化的范围，一般来说，比较小的初始化范围有助于模型训练\r\n",
    "        super(CBOW, self).__init__()\r\n",
    "        self.vocab_size = vocab_size\r\n",
    "        self.embedding_size = embedding_size\r\n",
    "\r\n",
    "        # 使用Embedding函数构造一个词向量参数\r\n",
    "        # 这个参数的大小为：[self.vocab_size, self.embedding_size]\r\n",
    "        # 数据类型为：float32\r\n",
    "        # 这个参数的初始化方式为在[-init_scale, init_scale]区间进行均匀采样\r\n",
    "        self.embedding = Embedding( \r\n",
    "             self.full_name(),\r\n",
    "            size=[self.vocab_size, self.embedding_size],\r\n",
    "            dtype='float32',\r\n",
    "            param_attr=fluid.ParamAttr(\r\n",
    "                name='embedding_para',\r\n",
    "                initializer=fluid.initializer.UniformInitializer(\r\n",
    "                    low=-0.5/embedding_size, high=0.5/embedding_size)))\r\n",
    "\r\n",
    "        # 使用Embedding函数构造另外一个词向量参数\r\n",
    "        # 这个参数的大小为：[self.vocab_size, self.embedding_size]\r\n",
    "        # 这个参数的初始化方式为在[-init_scale, init_scale]区间进行均匀采样\r\n",
    "        self.embedding = Embedding( \r\n",
    "             self.full_name(),\r\n",
    "            size=[self.vocab_size, self.embedding_size],\r\n",
    "            dtype='float32',\r\n",
    "            param_attr=fluid.ParamAttr(\r\n",
    "                name='embedding_para',\r\n",
    "                initializer=fluid.initializer.UniformInitializer(\r\n",
    "                    low=-0.5/embedding_size, high=0.5/embedding_size)))\r\n",
    "\r\n",
    "    # 定义网络的前向计算逻辑\r\n",
    "    # center_words是一个tensor（mini-batch），表示中心词\r\n",
    "    # target_words是一个tensor（mini-batch），表示目标词\r\n",
    "    # label是一个tensor（mini-batch），表示这个词是正样本还是负样本（用0或1表示）\r\n",
    "    # 用于在训练中计算这个tensor中对应词的同义词，用于观察模型的训练效果\r\n",
    "        def forward(self, center_words, target_words, label,eval_words):\r\n",
    "        # 首先，通过self.embedding参数，将mini-batch中的词转换为词向量\r\n",
    "        # 这里center_words和eval_words_emb查询的是一个相同的参数\r\n",
    "        # 而target_words_emb查询的是另一个参数\r\n",
    "        center_words_emb = self.embedding(center_words)\r\n",
    "        target_words_emb = self.embedding_out(target_words)\r\n",
    "        eval_words_emb = self.embedding(eval_words)\r\n",
    "\r\n",
    "        # 我们通过点乘的方式计算中心词到目标词的输出概率，并通过sigmoid函数估计这个词是正样本还是负样本的概率。\r\n",
    "        word_sim = fluid.layer.elementwise_mul(center_words_emb, target_words_emb)\r\n",
    "        word_sim = fluid.layer.reduce_sum(word_sim, dim=-1)\r\n",
    "        pred = fluid.layer.sigmoid(word_sim)\r\n",
    "\r\n",
    "        # 通过估计的输出概率定义损失函数\r\n",
    "        loss = fluid.layer.sigmoid_cross_entropy_with_logits(word_sim, label)\r\n",
    "        loss = fluid.layer.reduce_mean(loss)\r\n",
    "\r\n",
    "        # 返回前向计算的结果，飞桨会通过backward函数自动计算出反向结果。\r\n",
    "        return pred, loss"
   ]
  },
  {
   "cell_type": "code",
   "execution_count": null,
   "metadata": {
    "collapsed": false
   },
   "outputs": [],
   "source": [
    "# 开始训练，定义一些训练过程中需要使用的超参数\r\n",
    "batch_size = 512\r\n",
    "epoch_num = 3\r\n",
    "embedding_size = 200\r\n",
    "step = 0\r\n",
    "learning_rate = 0.001\r\n",
    "\r\n",
    "#定义一个使用word-embedding查询同义词的函数\r\n",
    "#这个函数query_token是要查询的词，k表示要返回多少个最相似的词，embed是我们学习到的word-embedding参数\r\n",
    "#我们通过计算不同词之间的cosine距离，来衡量词和词的相似度\r\n",
    "#具体实现如下，x代表要查询词的Embedding，Embedding参数矩阵W代表所有词的Embedding\r\n",
    "#两者计算Cos得出所有词对查询词的相似度得分向量，排序取top_k放入indices列表\r\n",
    "def get_similar_tokens(query_token, k, embed):\r\n",
    "    W = embed.numpy()\r\n",
    "    x = W[word2id_dict[query_token]]\r\n",
    "    cos = np.dot(W, x) / np.sqrt(np.sum(W * W, axis=1) * np.sum(x * x) + 1e-9)\r\n",
    "    flat = cos.flatten()\r\n",
    "    indices = np.argpartition(flat, -k)[-k:]\r\n",
    "    indices = indices[np.argsort(-flat[indices])]\r\n",
    "    for i in indices:\r\n",
    "        print('for word %s, the similar word is %s' % (query_token, str(id2word_dict[i])))\r\n",
    "\r\n",
    "# 将模型放到GPU上训练\r\n",
    "fluid.set_device('gpu:0')\r\n",
    "\r\n",
    "#通过我们定义的CBOW类，来构造一个CBOW模型网络\r\n",
    "CBOW_model = CBOW(\"CBOW_model\", vocab_size, embedding_size)\r\n",
    "# 构造训练这个网络的优化器\r\n",
    "adam = fluid.optimizer.Adam(learning_rate=learning_rate, parameters = skip_gram_model.parameters())\r\n",
    "\r\n",
    "# 使用build_batch函数，以mini-batch为单位，遍历训练数据，并训练网络\r\n",
    "for center_words, target_words, label in build_batch(\r\n",
    "    dataset, batch_size, epoch_num):\r\n",
    "    # 使用 fluid.dygraph.to_variable，将一个numpy的tensor，转换为可计算的tensor\r\n",
    "    center_words_var =fluid.dygraph.to_variable(center_words)\r\n",
    "    target_words_var = fluid.dygraph.to_variable(target_words)\r\n",
    "    label_var = fluid.dygraph.to_variable(label)\r\n",
    "    \r\n",
    "    # 将转换后的tensor送入飞桨中，进行一次前向计算，并得到计算结果\r\n",
    "    pred, loss = CBOW_model(\r\n",
    "        center_words_var, target_words_var, label_var)\r\n",
    "\r\n",
    "    # 程序自动完成反向计算\r\n",
    "    loss.backward()\r\n",
    "    # 程序根据loss，完成一步对参数的优化更新\r\n",
    "    adam.step()\r\n",
    "    # 清空模型中的梯度，以便于下一个mini-batch进行更新\r\n",
    "    adam.clear_grad()\r\n",
    "\r\n",
    "    # 每经过100个mini-batch，打印一次当前的loss，看看loss是否在稳定下降\r\n",
    "    step += 1\r\n",
    "    if step % 1000 == 0:\r\n",
    "        print(\"step %d, loss %.3f\" % (step, loss.numpy()[0]))\r\n",
    "\r\n",
    "    # 每隔10000步，打印一次模型对以下查询词的相似词，这里我们使用词和词之间的向量点积作为衡量相似度的方法，只打印了5个最相似的词\r\n",
    "    if step % 10000 ==0:\r\n",
    "        get_similar_tokens('movie', 5, skip_gram_model.embedding.weight)\r\n",
    "        get_similar_tokens('one', 5, skip_gram_model.embedding.weight)\r\n",
    "        get_similar_tokens('chip', 5, skip_gram_model.embedding.weight)\r\n",
    "        \r\n",
    "        "
   ]
  },
  {
   "cell_type": "code",
   "execution_count": null,
   "metadata": {
    "collapsed": false
   },
   "outputs": [],
   "source": []
  },
  {
   "cell_type": "code",
   "execution_count": null,
   "metadata": {
    "collapsed": false
   },
   "outputs": [],
   "source": [
    "  "
   ]
  },
  {
   "cell_type": "code",
   "execution_count": null,
   "metadata": {
    "collapsed": false
   },
   "outputs": [],
   "source": []
  }
 ],
 "metadata": {
  "kernelspec": {
   "display_name": "PaddlePaddle 2.1.0 (Python 3.5)",
   "language": "python",
   "name": "py35-paddle1.2.0"
  },
  "language_info": {
   "codemirror_mode": {
    "name": "ipython",
    "version": 3
   },
   "file_extension": ".py",
   "mimetype": "text/x-python",
   "name": "python",
   "nbconvert_exporter": "python",
   "pygments_lexer": "ipython3",
   "version": "3.7.4"
  }
 },
 "nbformat": 4,
 "nbformat_minor": 1
}
