{
 "cells": [
  {
   "cell_type": "code",
   "execution_count": null,
   "metadata": {
    "collapsed": false
   },
   "outputs": [],
   "source": []
  },
  {
   "cell_type": "code",
   "execution_count": 19,
   "metadata": {
    "collapsed": false
   },
   "outputs": [
    {
     "name": "stderr",
     "output_type": "stream",
     "text": [
      "/opt/conda/envs/python35-paddle120-env/lib/python3.7/site-packages/matplotlib/__init__.py:107: DeprecationWarning: Using or importing the ABCs from 'collections' instead of from 'collections.abc' is deprecated, and in 3.8 it will stop working\n",
      "  from collections import MutableMapping\n",
      "/opt/conda/envs/python35-paddle120-env/lib/python3.7/site-packages/matplotlib/rcsetup.py:20: DeprecationWarning: Using or importing the ABCs from 'collections' instead of from 'collections.abc' is deprecated, and in 3.8 it will stop working\n",
      "  from collections import Iterable, Mapping\n",
      "/opt/conda/envs/python35-paddle120-env/lib/python3.7/site-packages/matplotlib/colors.py:53: DeprecationWarning: Using or importing the ABCs from 'collections' instead of from 'collections.abc' is deprecated, and in 3.8 it will stop working\n",
      "  from collections import Sized\n"
     ]
    },
    {
     "name": "stdout",
     "output_type": "stream",
     "text": [
      "本教程基于Paddle的版本号为：2.1.0\n"
     ]
    }
   ],
   "source": [
    "#导入需要的包\n",
    "import numpy as np\n",
    "from PIL import Image\n",
    "import matplotlib.pyplot as plt\n",
    "import os\n",
    "import paddle\n",
    "print(\"本教程基于Paddle的版本号为：\"+paddle.__version__)\n"
   ]
  },
  {
   "cell_type": "code",
   "execution_count": 20,
   "metadata": {
    "collapsed": false
   },
   "outputs": [
    {
     "name": "stdout",
     "output_type": "stream",
     "text": [
      "下载并加载训练数据\n"
     ]
    },
    {
     "name": "stderr",
     "output_type": "stream",
     "text": [
      "Cache file /home/aistudio/.cache/paddle/dataset/mnist/train-images-idx3-ubyte.gz not found, downloading https://dataset.bj.bcebos.com/mnist/train-images-idx3-ubyte.gz \n",
      "Begin to download\n",
      "\n",
      "Download finished\n",
      "Cache file /home/aistudio/.cache/paddle/dataset/mnist/train-labels-idx1-ubyte.gz not found, downloading https://dataset.bj.bcebos.com/mnist/train-labels-idx1-ubyte.gz \n",
      "Begin to download\n",
      "........\n",
      "Download finished\n",
      "Cache file /home/aistudio/.cache/paddle/dataset/mnist/t10k-images-idx3-ubyte.gz not found, downloading https://dataset.bj.bcebos.com/mnist/t10k-images-idx3-ubyte.gz \n",
      "Begin to download\n",
      "\n",
      "Download finished\n",
      "Cache file /home/aistudio/.cache/paddle/dataset/mnist/t10k-labels-idx1-ubyte.gz not found, downloading https://dataset.bj.bcebos.com/mnist/t10k-labels-idx1-ubyte.gz \n",
      "Begin to download\n",
      "..\n",
      "Download finished\n"
     ]
    },
    {
     "name": "stdout",
     "output_type": "stream",
     "text": [
      "加载完成\n"
     ]
    }
   ],
   "source": [
    "#导入数据集Compose的作用是将用于数据集预处理的接口以列表的方式进行组合。\n",
    "#导入数据集Normalize的作用是图像归一化处理，支持两种方式： 1. 用统一的均值和标准差值对图像的每个通道进行归一化处理； 2. 对每个通道指定不同的均值和标准差值进行归一化处理。\n",
    "from paddle.vision.transforms import Compose, Normalize, Resize, RandomRotation, RandomCrop\n",
    "img_size = 32\n",
    "#对训练集做数据增强\n",
    "transform1 = Compose([Resize((img_size+2, img_size+2)), RandomCrop(img_size), Normalize(mean=[127.5],std=[127.5],data_format='CHW')])\n",
    "transform2 = Compose([Resize((img_size, img_size)), Normalize(mean=[127.5],std=[127.5],data_format='CHW')])\n",
    "# 使用transform对数据集做归一化\n",
    "print('下载并加载训练数据')\n",
    "train_dataset = paddle.vision.datasets.MNIST(mode='train', transform=transform1)\n",
    "test_dataset = paddle.vision.datasets.MNIST(mode='test', transform=transform2)\n",
    "print('加载完成')\n"
   ]
  },
  {
   "cell_type": "code",
   "execution_count": 21,
   "metadata": {
    "collapsed": false
   },
   "outputs": [],
   "source": [
    "import paddle\r\n",
    "import paddle.nn.functional as F\r\n",
    "# 定义多层卷积神经网络\r\n",
    "#动态图定义多层卷积神经网络\r\n",
    "class ResNet(paddle.nn.Layer):\r\n",
    "    def __init__(self):\r\n",
    "        super(ResNet, self).__init__()\r\n",
    "        self.conv1 = paddle.nn.Conv2D(in_channels=1, out_channels=6, kernel_size=5, padding=2)\r\n",
    "        self.conv2 = paddle.nn.Conv2D(6, 16, 3, padding=1)\r\n",
    "        self.conv3 = paddle.nn.Conv2D(16, 32, 3, padding=1)\r\n",
    "        self.conv4 = paddle.nn.Conv2D(6, 32, 1)\r\n",
    "\r\n",
    "        self.conv5 = paddle.nn.Conv2D(32, 64, 3, padding=1)\r\n",
    "        self.conv6 = paddle.nn.Conv2D(64, 128, 3, padding=1)\r\n",
    "        self.conv7 = paddle.nn.Conv2D(32, 128, 1)\r\n",
    "\r\n",
    "        self.maxpool1 = paddle.nn.MaxPool2D(kernel_size=2, stride=2)\r\n",
    "        \r\n",
    "        self.maxpool2 = paddle.nn.MaxPool2D(2, 2)\r\n",
    "        self.maxpool3 = paddle.nn.MaxPool2D(2, 2)\r\n",
    "        self.maxpool4 = paddle.nn.MaxPool2D(2, 2)\r\n",
    "        self.maxpool5 = paddle.nn.MaxPool2D(2, 2)\r\n",
    "        self.maxpool6 = paddle.nn.MaxPool2D(2, 2)\r\n",
    "        self.flatten=paddle.nn.Flatten()\r\n",
    "        self.linear1=paddle.nn.Linear(128, 128)\r\n",
    "        self.linear2=paddle.nn.Linear(128, 10)\r\n",
    "        self.dropout=paddle.nn.Dropout(0.2)\r\n",
    "        self.avgpool=paddle.nn.AdaptiveAvgPool2D(output_size=1)\r\n",
    "        \r\n",
    "    def forward(self, x):\r\n",
    "        y = self.conv1(x)#(bs 6, 32, 32)\r\n",
    "        y = F.relu(y)\r\n",
    "        y = self.maxpool1(y)#(bs, 6, 16, 16)\r\n",
    "        z = y\r\n",
    "        y = self.conv2(y)#(bs, 16, 16, 16)\r\n",
    "        y = F.relu(y)\r\n",
    "        y = self.maxpool2(y)#(bs, 16, 8, 8)\r\n",
    "        y = self.conv3(y)#(bs, 32, 8, 8)\r\n",
    "        z = self.maxpool4(self.conv4(z))\r\n",
    "        y = y+z\r\n",
    "        y = F.relu(y)\r\n",
    "        z = y\r\n",
    "        y = self.conv5(y)#(bs, 64, 8, 8)\r\n",
    "        y = F.relu(y)\r\n",
    "        y = self.maxpool5(y)#(bs, 64, 4, 4)\r\n",
    "        y = self.conv6(y)#(bs, 128, 4, 4)\r\n",
    "        z = self.maxpool6(self.conv7(z))\r\n",
    "        y = y + z\r\n",
    "        y = F.relu(y)\r\n",
    "        y = self.avgpool(y)\r\n",
    "        y = self.flatten(y)\r\n",
    "        y = self.linear1(y)\r\n",
    "        y = self.dropout(y)\r\n",
    "        y = self.linear2(y)\r\n",
    "        return y"
   ]
  },
  {
   "cell_type": "code",
   "execution_count": 22,
   "metadata": {
    "collapsed": false
   },
   "outputs": [
    {
     "name": "stdout",
     "output_type": "stream",
     "text": [
      "-------------------------------------------------------------------------------\n",
      "   Layer (type)         Input Shape          Output Shape         Param #    \n",
      "===============================================================================\n",
      "     Conv2D-1         [[1, 1, 32, 32]]      [1, 6, 32, 32]          156      \n",
      "    MaxPool2D-1       [[1, 6, 32, 32]]      [1, 6, 16, 16]           0       \n",
      "     Conv2D-2         [[1, 6, 16, 16]]     [1, 16, 16, 16]          880      \n",
      "    MaxPool2D-2      [[1, 16, 16, 16]]      [1, 16, 8, 8]            0       \n",
      "     Conv2D-3         [[1, 16, 8, 8]]       [1, 32, 8, 8]          4,640     \n",
      "     Conv2D-4         [[1, 6, 16, 16]]     [1, 32, 16, 16]          224      \n",
      "    MaxPool2D-4      [[1, 32, 16, 16]]      [1, 32, 8, 8]            0       \n",
      "     Conv2D-5         [[1, 32, 8, 8]]       [1, 64, 8, 8]         18,496     \n",
      "    MaxPool2D-5       [[1, 64, 8, 8]]       [1, 64, 4, 4]            0       \n",
      "     Conv2D-6         [[1, 64, 4, 4]]       [1, 128, 4, 4]        73,856     \n",
      "     Conv2D-7         [[1, 32, 8, 8]]       [1, 128, 8, 8]         4,224     \n",
      "    MaxPool2D-6       [[1, 128, 8, 8]]      [1, 128, 4, 4]           0       \n",
      "AdaptiveAvgPool2D-1   [[1, 128, 4, 4]]      [1, 128, 1, 1]           0       \n",
      "     Flatten-1        [[1, 128, 1, 1]]         [1, 128]              0       \n",
      "     Linear-3            [[1, 128]]            [1, 128]           16,512     \n",
      "     Dropout-1           [[1, 128]]            [1, 128]              0       \n",
      "     Linear-4            [[1, 128]]            [1, 10]             1,290     \n",
      "===============================================================================\n",
      "Total params: 120,278\n",
      "Trainable params: 120,278\n",
      "Non-trainable params: 0\n",
      "-------------------------------------------------------------------------------\n",
      "Input size (MB): 0.00\n",
      "Forward/backward pass size (MB): 0.33\n",
      "Params size (MB): 0.46\n",
      "Estimated Total Size (MB): 0.79\n",
      "-------------------------------------------------------------------------------\n",
      "\n"
     ]
    },
    {
     "data": {
      "text/plain": [
       "{'total_params': 120278, 'trainable_params': 120278}"
      ]
     },
     "execution_count": 22,
     "metadata": {},
     "output_type": "execute_result"
    }
   ],
   "source": [
    "#定义卷积网络的代码\n",
    "net_cls = ResNet()\n",
    "paddle.summary(net_cls, (-1, 1, img_size, img_size))"
   ]
  },
  {
   "cell_type": "code",
   "execution_count": 23,
   "metadata": {
    "collapsed": false
   },
   "outputs": [
    {
     "name": "stdout",
     "output_type": "stream",
     "text": [
      "The loss value printed in the log is the current step, and the metric is the average value of previous steps.\n",
      "Epoch 1/20\n"
     ]
    },
    {
     "name": "stderr",
     "output_type": "stream",
     "text": [
      "/opt/conda/envs/python35-paddle120-env/lib/python3.7/site-packages/paddle/fluid/layers/utils.py:77: DeprecationWarning: Using or importing the ABCs from 'collections' instead of from 'collections.abc' is deprecated, and in 3.8 it will stop working\n",
      "  return (isinstance(seq, collections.Sequence) and\n"
     ]
    },
    {
     "name": "stdout",
     "output_type": "stream",
     "text": [
      "step 938/938 [==============================] - loss: 0.0568 - acc: 0.8598 - 80ms/step         \n",
      "save checkpoint at /home/aistudio/output/model5_7/0\n",
      "Eval begin...\n",
      "step 157/157 [==============================] - loss: 0.0047 - acc: 0.9769 - 24ms/step        \n",
      "Eval samples: 10000\n",
      "Epoch 2/20\n",
      "step 938/938 [==============================] - loss: 0.0525 - acc: 0.9704 - 80ms/step         \n",
      "save checkpoint at /home/aistudio/output/model5_7/1\n",
      "Eval begin...\n",
      "step 157/157 [==============================] - loss: 0.0022 - acc: 0.9820 - 24ms/step          \n",
      "Eval samples: 10000\n",
      "Epoch 3/20\n",
      "step 938/938 [==============================] - loss: 0.0115 - acc: 0.9787 - 80ms/step        \n",
      "save checkpoint at /home/aistudio/output/model5_7/2\n",
      "Eval begin...\n",
      "step 157/157 [==============================] - loss: 0.0022 - acc: 0.9876 - 24ms/step          \n",
      "Eval samples: 10000\n",
      "Epoch 4/20\n",
      "step 938/938 [==============================] - loss: 0.0188 - acc: 0.9836 - 80ms/step         \n",
      "save checkpoint at /home/aistudio/output/model5_7/3\n",
      "Eval begin...\n",
      "step 157/157 [==============================] - loss: 0.0032 - acc: 0.9850 - 25ms/step        \n",
      "Eval samples: 10000\n",
      "Epoch 5/20\n",
      "step 938/938 [==============================] - loss: 0.0465 - acc: 0.9862 - 80ms/step        \n",
      "save checkpoint at /home/aistudio/output/model5_7/4\n",
      "Eval begin...\n",
      "step 157/157 [==============================] - loss: 0.0058 - acc: 0.9886 - 25ms/step          \n",
      "Eval samples: 10000\n",
      "Epoch 6/20\n",
      "step 938/938 [==============================] - loss: 0.1291 - acc: 0.9869 - 80ms/step        \n",
      "save checkpoint at /home/aistudio/output/model5_7/5\n",
      "Eval begin...\n",
      "step 157/157 [==============================] - loss: 0.0013 - acc: 0.9904 - 25ms/step          \n",
      "Eval samples: 10000\n",
      "Epoch 7/20\n",
      "step 938/938 [==============================] - loss: 0.0472 - acc: 0.9889 - 80ms/step         \n",
      "save checkpoint at /home/aistudio/output/model5_7/6\n",
      "Eval begin...\n",
      "step 157/157 [==============================] - loss: 0.0015 - acc: 0.9910 - 25ms/step          \n",
      "Eval samples: 10000\n",
      "Epoch 8/20\n",
      "step 938/938 [==============================] - loss: 0.0129 - acc: 0.9897 - 79ms/step        \n",
      "save checkpoint at /home/aistudio/output/model5_7/7\n",
      "Eval begin...\n",
      "step 157/157 [==============================] - loss: 4.1320e-04 - acc: 0.9900 - 25ms/step      \n",
      "Eval samples: 10000\n",
      "Epoch 9/20\n",
      "step 938/938 [==============================] - loss: 0.0055 - acc: 0.9906 - 80ms/step         \n",
      "save checkpoint at /home/aistudio/output/model5_7/8\n",
      "Eval begin...\n",
      "step 157/157 [==============================] - loss: 5.0700e-04 - acc: 0.9911 - 24ms/step      \n",
      "Eval samples: 10000\n",
      "Epoch 10/20\n",
      "step 938/938 [==============================] - loss: 0.0185 - acc: 0.9916 - 79ms/step         \n",
      "save checkpoint at /home/aistudio/output/model5_7/9\n",
      "Eval begin...\n",
      "step 157/157 [==============================] - loss: 7.6782e-05 - acc: 0.9923 - 24ms/step      \n",
      "Eval samples: 10000\n",
      "Epoch 11/20\n",
      "step 938/938 [==============================] - loss: 0.0865 - acc: 0.9920 - 80ms/step        \n",
      "save checkpoint at /home/aistudio/output/model5_7/10\n",
      "Eval begin...\n",
      "step 157/157 [==============================] - loss: 6.9977e-05 - acc: 0.9924 - 24ms/step      \n",
      "Eval samples: 10000\n",
      "Epoch 12/20\n",
      "step 938/938 [==============================] - loss: 0.0250 - acc: 0.9928 - 80ms/step        \n",
      "save checkpoint at /home/aistudio/output/model5_7/11\n",
      "Eval begin...\n",
      "step 157/157 [==============================] - loss: 1.1926e-04 - acc: 0.9901 - 25ms/step      \n",
      "Eval samples: 10000\n",
      "Epoch 13/20\n",
      "step 938/938 [==============================] - loss: 0.0107 - acc: 0.9924 - 80ms/step         \n",
      "save checkpoint at /home/aistudio/output/model5_7/12\n",
      "Eval begin...\n",
      "step 157/157 [==============================] - loss: 5.2440e-05 - acc: 0.9935 - 25ms/step      \n",
      "Eval samples: 10000\n",
      "Epoch 14/20\n",
      "step 938/938 [==============================] - loss: 1.8610e-04 - acc: 0.9932 - 81ms/step    \n",
      "save checkpoint at /home/aistudio/output/model5_7/13\n",
      "Eval begin...\n",
      "step 157/157 [==============================] - loss: 2.0197e-04 - acc: 0.9897 - 24ms/step      \n",
      "Eval samples: 10000\n",
      "Epoch 15/20\n",
      "step 938/938 [==============================] - loss: 0.0080 - acc: 0.9940 - 79ms/step            \n",
      "save checkpoint at /home/aistudio/output/model5_7/14\n",
      "Eval begin...\n",
      "step 157/157 [==============================] - loss: 7.4290e-05 - acc: 0.9919 - 25ms/step      \n",
      "Eval samples: 10000\n",
      "Epoch 16/20\n",
      "step 938/938 [==============================] - loss: 0.0097 - acc: 0.9935 - 80ms/step        \n",
      "save checkpoint at /home/aistudio/output/model5_7/15\n",
      "Eval begin...\n",
      "step 157/157 [==============================] - loss: 5.1013e-05 - acc: 0.9900 - 25ms/step      \n",
      "Eval samples: 10000\n",
      "Epoch 17/20\n",
      "step 938/938 [==============================] - loss: 0.0054 - acc: 0.9942 - 81ms/step         \n",
      "save checkpoint at /home/aistudio/output/model5_7/16\n",
      "Eval begin...\n",
      "step 157/157 [==============================] - loss: 4.0962e-05 - acc: 0.9933 - 25ms/step      \n",
      "Eval samples: 10000\n",
      "Epoch 18/20\n",
      "step 938/938 [==============================] - loss: 7.9358e-05 - acc: 0.9940 - 80ms/step     \n",
      "save checkpoint at /home/aistudio/output/model5_7/17\n",
      "Eval begin...\n",
      "step 157/157 [==============================] - loss: 2.2047e-05 - acc: 0.9926 - 25ms/step      \n",
      "Eval samples: 10000\n",
      "Epoch 18: Early stopping.\n",
      "Best checkpoint has been saved at /home/aistudio/output/model5_7/best_model\n",
      "save checkpoint at /home/aistudio/output/model5_7/final\n"
     ]
    }
   ],
   "source": [
    "from paddle.metric import Accuracy\r\n",
    "save_dir = \"output/model5_7\"\r\n",
    "patience = 5\r\n",
    "epoch = 20\r\n",
    "lr = 0.01\r\n",
    "weight_decay = 5e-4\r\n",
    "batch_size = 64\r\n",
    "momentum = 0.9\r\n",
    "# 用Model封装模型\r\n",
    "model = paddle.Model(net_cls)\r\n",
    "\r\n",
    "# 定义损失函数\r\n",
    "#optim = paddle.optimizer.AdamW(learning_rate=lr, parameters=model.parameters(), weight_decay=weight_decay)\r\n",
    "#lr = paddle.optimizer.lr.CosineAnnealingDecay(learning_rate=lr, T_max=10000, eta_min=1e-5)\r\n",
    "optim = paddle.optimizer.Momentum(learning_rate=lr, parameters=model.parameters(), momentum=momentum)\r\n",
    "\r\n",
    "visual_dl = paddle.callbacks.VisualDL(log_dir=save_dir)\r\n",
    "early_stop = paddle.callbacks.EarlyStopping(monitor='acc', mode='max', patience=patience, \r\n",
    "                                            verbose=1, min_delta=0, baseline=None,\r\n",
    "                                            save_best_model=True)\r\n",
    "# 配置模型\r\n",
    "model.prepare(optim,paddle.nn.CrossEntropyLoss(),Accuracy())\r\n",
    "\r\n",
    "# 训练保存并验证模型\r\n",
    "model.fit(train_dataset,test_dataset,epochs=epoch,batch_size=batch_size,\r\n",
    "        save_dir=save_dir,verbose=1, callbacks=[visual_dl, early_stop])"
   ]
  },
  {
   "cell_type": "code",
   "execution_count": 26,
   "metadata": {
    "collapsed": false
   },
   "outputs": [],
   "source": [
    "best_model_path = \"output/model5_7/best_model.pdparams\"\r\n",
    "net_cls = ResNet()\r\n",
    "model = paddle.Model(net_cls)\r\n",
    "model.load(best_model_path)\r\n",
    "model.prepare(optim,paddle.nn.CrossEntropyLoss(),Accuracy())\r\n"
   ]
  },
  {
   "cell_type": "code",
   "execution_count": 27,
   "metadata": {
    "collapsed": false
   },
   "outputs": [
    {
     "name": "stdout",
     "output_type": "stream",
     "text": [
      "Eval begin...\n",
      "step 157/157 [==============================] - loss: 5.2440e-05 - acc: 0.9935 - 25ms/step      \n",
      "Eval samples: 10000\n",
      "{'loss': [5.243971e-05], 'acc': 0.9935}\n"
     ]
    }
   ],
   "source": [
    "#用最好的模型在测试集10000张图片上验证\r\n",
    "results = model.evaluate(test_dataset, batch_size=batch_size, verbose=1)\r\n",
    "print(results)"
   ]
  },
  {
   "cell_type": "code",
   "execution_count": 17,
   "metadata": {
    "collapsed": false
   },
   "outputs": [],
   "source": []
  },
  {
   "cell_type": "code",
   "execution_count": null,
   "metadata": {
    "collapsed": false
   },
   "outputs": [],
   "source": [
    "\r\n"
   ]
  },
  {
   "cell_type": "code",
   "execution_count": null,
   "metadata": {
    "collapsed": false
   },
   "outputs": [],
   "source": []
  },
  {
   "cell_type": "markdown",
   "metadata": {
    "collapsed": false
   },
   "source": [
    "请点击[此处](https://ai.baidu.com/docs#/AIStudio_Project_Notebook/a38e5576)查看本环境基本用法.  <br>\n",
    "Please click [here ](https://ai.baidu.com/docs#/AIStudio_Project_Notebook/a38e5576) for more detailed instructions. "
   ]
  }
 ],
 "metadata": {
  "kernelspec": {
   "display_name": "PaddlePaddle 2.1.0 (Python 3.5)",
   "language": "python",
   "name": "py35-paddle1.2.0"
  },
  "language_info": {
   "codemirror_mode": {
    "name": "ipython",
    "version": 3
   },
   "file_extension": ".py",
   "mimetype": "text/x-python",
   "name": "python",
   "nbconvert_exporter": "python",
   "pygments_lexer": "ipython3",
   "version": "3.7.4"
  }
 },
 "nbformat": 4,
 "nbformat_minor": 1
}
