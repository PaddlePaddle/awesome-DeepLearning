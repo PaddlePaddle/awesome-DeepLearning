{
 "cells": [
  {
   "cell_type": "markdown",
   "metadata": {
    "collapsed": false
   },
   "source": [
    "本实验使用的训练数据集是经典学术数据集“波士顿房价”数据，使用飞桨开源框架构建自定义的前馈神经网络，实现房价预测的回归任务。\n",
    "\n",
    "实现房价预测包含4个部分，如 **图1** 所示：\n",
    "<center><img src=\"https://ai-studio-static-online.cdn.bcebos.com/1aa7f87f322d425fb6ae00d5d80a1f6e5630a6bf2334495abe92a737782b9599\" width=\"700\" hegiht=\"\" ></center>\n",
    "\n",
    "<center><br>图1 训练流程</br></center>\n",
    "\n",
    "# 1.准备数据\n",
    "\n",
    "# 1.1 数据集介绍\n",
    "波士顿房价预测数据集来自 UCI 机器学习知识库（数据集已下线），于 1978 年开始统计，数据集中的每一行数据都是对波士顿周边或城镇房价的情况描述，总共有 506 行，即 506 个样本，该数据集统计了 13 种可能影响房价的因素和该类型房屋的均价，期望构建一个基于 13 个因素进行房价预测的模型，如 **图2** 所示。\n",
    "<center><img src=\"https://ai-studio-static-online.cdn.bcebos.com/abce0cb2a92f4e679c6855cfa520491597171533a0b0447e8d51d904446e213e\" width=\"700\" hegiht=\"\" ></center>\n",
    "<center><br>图2 波士顿房价影响因素示意图</br></center>\n",
    "<br></br>"
   ]
  },
  {
   "cell_type": "code",
   "execution_count": 2,
   "metadata": {
    "collapsed": false
   },
   "outputs": [
    {
     "name": "stderr",
     "output_type": "stream",
     "text": [
      "/opt/conda/envs/python35-paddle120-env/lib/python3.7/site-packages/matplotlib/__init__.py:107: DeprecationWarning: Using or importing the ABCs from 'collections' instead of from 'collections.abc' is deprecated, and in 3.8 it will stop working\n",
      "  from collections import MutableMapping\n",
      "/opt/conda/envs/python35-paddle120-env/lib/python3.7/site-packages/matplotlib/rcsetup.py:20: DeprecationWarning: Using or importing the ABCs from 'collections' instead of from 'collections.abc' is deprecated, and in 3.8 it will stop working\n",
      "  from collections import Iterable, Mapping\n",
      "/opt/conda/envs/python35-paddle120-env/lib/python3.7/site-packages/matplotlib/colors.py:53: DeprecationWarning: Using or importing the ABCs from 'collections' instead of from 'collections.abc' is deprecated, and in 3.8 it will stop working\n",
      "  from collections import Sized\n"
     ]
    },
    {
     "name": "stdout",
     "output_type": "stream",
     "text": [
      "2.1.0\n"
     ]
    }
   ],
   "source": [
    "# 导入环境\n",
    "import paddle\n",
    "import numpy as np\n",
    "import os\n",
    "import matplotlib\n",
    "import matplotlib.pyplot as plt\n",
    "import pandas as pd\n",
    "import seaborn as sns\n",
    "import warnings\n",
    "warnings.filterwarnings(\"ignore\")\n",
    "\n",
    "print(paddle.__version__)\n"
   ]
  },
  {
   "cell_type": "markdown",
   "metadata": {
    "collapsed": false
   },
   "source": [
    "## 1.2 数据准备"
   ]
  },
  {
   "cell_type": "code",
   "execution_count": 4,
   "metadata": {
    "collapsed": false
   },
   "outputs": [
    {
     "name": "stdout",
     "output_type": "stream",
     "text": [
      "--2021-07-10 16:40:27--  https://archive.ics.uci.edu/ml/machine-learning-databases/housing/housing.data\n",
      "Resolving archive.ics.uci.edu (archive.ics.uci.edu)... 128.195.10.252\n",
      "Connecting to archive.ics.uci.edu (archive.ics.uci.edu)|128.195.10.252|:443... connected.\n",
      "HTTP request sent, awaiting response... 200 OK\n",
      "Length: 49082 (48K) [application/x-httpd-php]\n",
      "Saving to: ‘housing.data’\n",
      "\n",
      "housing.data        100%[===================>]  47.93K  91.2KB/s    in 0.5s    \n",
      "\n",
      "2021-07-10 16:40:29 (91.2 KB/s) - ‘housing.data’ saved [49082/49082]\n",
      "\n"
     ]
    }
   ],
   "source": [
    "#下载数据，只执行一次就可以\n",
    "!wget https://archive.ics.uci.edu/ml/machine-learning-databases/housing/housing.data -O housing.data "
   ]
  },
  {
   "cell_type": "code",
   "execution_count": 5,
   "metadata": {
    "collapsed": false
   },
   "outputs": [
    {
     "name": "stdout",
     "output_type": "stream",
     "text": [
      "feature num: 14\n",
      "data num: 506\n"
     ]
    }
   ],
   "source": [
    "# 从文件导入数据\n",
    "datafile = './housing.data'\n",
    "housing_data = np.fromfile(datafile, sep=' ')\n",
    "feature_names = ['CRIM', 'ZN', 'INDUS', 'CHAS', 'NOX', 'RM', 'AGE','DIS', 'RAD', 'TAX', 'PTRATIO', 'B', 'LSTAT', 'MEDV']\n",
    "feature_num = len(feature_names)\n",
    "print('feature num:', feature_num)\n",
    "# 将原始数据进行Reshape，变成[N, 14]这样的形状\n",
    "housing_data = housing_data.reshape([housing_data.shape[0] // feature_num, feature_num])\n",
    "print('data num:',len(housing_data))"
   ]
  },
  {
   "cell_type": "markdown",
   "metadata": {
    "collapsed": false
   },
   "source": [
    "## 1.3 数据预处理"
   ]
  },
  {
   "cell_type": "code",
   "execution_count": 6,
   "metadata": {
    "collapsed": false
   },
   "outputs": [
    {
     "data": {
      "text/plain": [
       "<matplotlib.axes._subplots.AxesSubplot at 0x7fb088b4e810>"
      ]
     },
     "execution_count": 6,
     "metadata": {},
     "output_type": "execute_result"
    },
    {
     "data": {
      "image/png": "[encoded data removed]",
      "text/plain": [
       "<Figure size 432x288 with 1 Axes>"
      ]
     },
     "metadata": {},
     "output_type": "display_data"
    }
   ],
   "source": [
    "# 画图看特征间的关系,主要是变量两两之间的关系（线性或非线性，有无明显较为相关关系）\n",
    "features_np = np.array([x[:13] for x in housing_data], np.float32)\n",
    "labels_np = np.array([x[-1] for x in housing_data], np.float32)\n",
    "df = pd.DataFrame(housing_data, columns=feature_names)\n",
    "sns.boxplot(data=df.iloc[:, 0:13])"
   ]
  },
  {
   "cell_type": "markdown",
   "metadata": {
    "collapsed": false
   },
   "source": [
    "从上图看出，各属性的数值范围差异太大，甚至不能够在一个画布上充分的展示各属性具体的最大、最小值以及异常值等。下面进行归一化。\n",
    "\n",
    "做归一化（或 Feature scaling）至少有以下2个理由：\n",
    "\n",
    "* 过大或过小的数值范围会导致计算时的浮点上溢或下溢。\n",
    "\n",
    "* 不同的数值范围会导致不同属性对模型的重要性不同（至少在训练的初始阶段如此），而这个隐含的假设常常是不合理的。这会对优化的过程造成困难，使训练时间大大的加长."
   ]
  },
  {
   "cell_type": "code",
   "execution_count": 7,
   "metadata": {
    "collapsed": false
   },
   "outputs": [],
   "source": [
    "features_max = housing_data.max(axis=0)\n",
    "features_min = housing_data.min(axis=0)\n",
    "features_avg = housing_data.sum(axis=0) / housing_data.shape[0]\n",
    "\n",
    "BATCH_SIZE = 20\n",
    "def feature_norm(input):\n",
    "    f_size = input.shape\n",
    "    output_features = np.zeros(f_size, np.float32)\n",
    "    for batch_id in range(f_size[0]):\n",
    "        for index in range(13):\n",
    "            output_features[batch_id][index] = (input[batch_id][index] - features_avg[index]) / (features_max[index] - features_min[index])\n",
    "    return output_features \n",
    "\n",
    "# 只对属性进行归一化\n",
    "housing_features = feature_norm(housing_data[:, :13])\n",
    "# print(feature_trian.shape)\n",
    "housing_data = np.c_[housing_features, housing_data[:, -1]].astype(np.float32)\n",
    "# print(training_data[0])\n"
   ]
  },
  {
   "cell_type": "code",
   "execution_count": 8,
   "metadata": {
    "collapsed": false
   },
   "outputs": [
    {
     "data": {
      "text/plain": [
       "<matplotlib.axes._subplots.AxesSubplot at 0x7fb08692f390>"
      ]
     },
     "execution_count": 8,
     "metadata": {},
     "output_type": "execute_result"
    },
    {
     "data": {
      "image/png": "[encoded data removed]",
      "text/plain": [
       "<Figure size 432x288 with 1 Axes>"
      ]
     },
     "metadata": {},
     "output_type": "display_data"
    }
   ],
   "source": [
    "# 归一化后的train_data, 看下各属性的情况\n",
    "features_np = np.array([x[:13] for x in housing_data],np.float32)\n",
    "labels_np = np.array([x[-1] for x in housing_data],np.float32)\n",
    "data_np = np.c_[features_np, labels_np]\n",
    "df = pd.DataFrame(data_np, columns=feature_names)\n",
    "sns.boxplot(data=df.iloc[:, 0:13])"
   ]
  },
  {
   "cell_type": "markdown",
   "metadata": {
    "collapsed": false
   },
   "source": [
    "## 1.4 划分数据集"
   ]
  },
  {
   "cell_type": "code",
   "execution_count": 9,
   "metadata": {
    "collapsed": false
   },
   "outputs": [],
   "source": [
    "# 将训练数据集和测试数据集按照8:2的比例分开\n",
    "ratio = 0.8\n",
    "offset = int(housing_data.shape[0] * ratio)\n",
    "train_data = housing_data[:offset]\n",
    "test_data = housing_data[offset:]\n"
   ]
  },
  {
   "cell_type": "markdown",
   "metadata": {
    "collapsed": false
   },
   "source": [
    "# 2. 模型构建\n",
    "\n",
    "提供2种模型，使用任意一种即可：\n",
    "* 单层网络\n",
    "* 2层网络"
   ]
  },
  {
   "cell_type": "code",
   "execution_count": 63,
   "metadata": {
    "collapsed": false
   },
   "outputs": [],
   "source": []
  },
  {
   "cell_type": "code",
   "execution_count": 10,
   "metadata": {
    "collapsed": false
   },
   "outputs": [],
   "source": [
    "# 神经网络，选择2\n",
    "class Regressor(paddle.nn.Layer):\n",
    "    def __init__(self):\n",
    "        super(Regressor, self).__init__()\n",
    "        self.fc1 = paddle.nn.Linear(in_features=13, out_features=6,)\n",
    "        self.fc2 = paddle.nn.Linear(in_features=6, out_features=1,)\n",
    "        # 定义网络使用的激活函数\n",
    "        # (2)修改激活函数，self.act\n",
    "        self.act = paddle.nn.Sigmoid()\n",
    "        # self.act = paddle.nn.ReLU()\n",
    "\n",
    "    def forward(self, inputs):\n",
    "        outputs = self.fc1(inputs)\n",
    "        outputs = self.act(outputs)\n",
    "        pred = self.fc2(outputs)\n",
    "        return pred"
   ]
  },
  {
   "cell_type": "markdown",
   "metadata": {
    "collapsed": false
   },
   "source": [
    "# 3. 模型训练"
   ]
  },
  {
   "cell_type": "code",
   "execution_count": 11,
   "metadata": {
    "collapsed": false
   },
   "outputs": [
    {
     "name": "stdout",
     "output_type": "stream",
     "text": [
      "start training ... \n",
      "Pass:0,Cost:518.85876\n"
     ]
    }
   ],
   "source": [
    "import paddle.nn.functional as F \n",
    "import shutil\n",
    "y_preds = []\n",
    "labels_list = []\n",
    "train_nums = []\n",
    "train_costs = []\n",
    "\n",
    "def train(model):\n",
    "    print('start training ... ')\n",
    "    save_path = './output/'\n",
    "    # os.makedirs(save_path, exist_ok=False)\n",
    "    if not os.path.exists(save_path):\n",
    "        os.mkdir(save_path)\n",
    "    else:\n",
    "        shutil.rmtree(save_path)\n",
    "\n",
    "    # 开启模型训练模式\n",
    "    model.train()\n",
    "    #（3）修改训练轮数，EPOCH_NUM = *\n",
    "    EPOCH_NUM = 10\n",
    "    # EPOCH_NUM = 100\n",
    "    # EPOCH_NUM = 500\n",
    "    train_num = 0\n",
    "    min_cost = 30000\n",
    "    #（4）修改优化算法，paddle.optimizer.*\n",
    "    # (5) 修改学习率，learning_rate=*\n",
    "    optimizer = paddle.optimizer.SGD(learning_rate=0.00001, parameters=model.parameters())\n",
    "    # optimizer = paddle.optimizer.Momentum(learning_rate=0.001, parameters=model.parameters())\n",
    "    # optimizer = paddle.optimizer.SGD(learning_rate=0.001, parameters=model.parameters())\n",
    "    # optimizer = paddle.optimizer.Adam(learning_rate=0.001, parameters=model.parameters())\n",
    "    for epoch_id in range(EPOCH_NUM):\n",
    "        # 在每轮迭代开始之前，将训练数据的顺序随机的打乱\n",
    "        np.random.shuffle(train_data)\n",
    "        # 将训练数据进行拆分，每个batch包含20条数据\n",
    "        mini_batches = [train_data[k: k+BATCH_SIZE] for k in range(0, len(train_data), BATCH_SIZE)]\n",
    "        for batch_id, data in enumerate(mini_batches):\n",
    "            features_np = np.array(data[:, :13], np.float32)\n",
    "            labels_np = np.array(data[:, -1:], np.float32)\n",
    "            features = paddle.to_tensor(features_np)\n",
    "            labels = paddle.to_tensor(labels_np)\n",
    "            # 前向计算\n",
    "            y_pred = model(features)\n",
    "            cost = F.mse_loss(y_pred, label=labels)\n",
    "            train_cost = cost.numpy()[0]\n",
    "            # 反向传播\n",
    "            cost.backward()\n",
    "            # 最小化loss，更新参数\n",
    "            optimizer.step()\n",
    "            # 清除梯度\n",
    "            optimizer.clear_grad()\n",
    "            \n",
    "            if batch_id%30 == 0 and epoch_id%50 == 0:\n",
    "                print(\"Pass:%d,Cost:%0.5f\"%(epoch_id, train_cost))\n",
    "\n",
    "            train_num = train_num + BATCH_SIZE\n",
    "            train_nums.append(train_num)\n",
    "            train_costs.append(train_cost)\n",
    "\n",
    "            if train_cost < min_cost:\n",
    "                min_cost = train_cost\n",
    "                save_name = save_path+'best_acc.pdparams'\n",
    "                paddle.save(model.state_dict(), save_name)\n",
    "        \n",
    "model = Regressor()\n",
    "train(model)\n"
   ]
  },
  {
   "cell_type": "markdown",
   "metadata": {
    "collapsed": false
   },
   "source": [
    "# 4.模型预测"
   ]
  },
  {
   "cell_type": "code",
   "execution_count": 12,
   "metadata": {
    "collapsed": false
   },
   "outputs": [
    {
     "name": "stdout",
     "output_type": "stream",
     "text": [
      "No.0: infer result is 1.32,ground truth is 8.50\n",
      "No.10: infer result is 1.43,ground truth is 7.00\n",
      "No.20: infer result is 1.38,ground truth is 11.70\n",
      "No.30: infer result is 1.41,ground truth is 11.70\n",
      "No.40: infer result is 1.33,ground truth is 10.80\n",
      "No.50: infer result is 1.44,ground truth is 14.90\n",
      "No.60: infer result is 1.20,ground truth is 21.40\n",
      "No.70: infer result is 1.26,ground truth is 13.80\n",
      "No.80: infer result is 1.15,ground truth is 20.60\n",
      "No.90: infer result is 1.16,ground truth is 24.50\n",
      "Mean loss is: [243.72903]\n"
     ]
    }
   ],
   "source": [
    "# 获取预测数据\n",
    "INFER_BATCH_SIZE = 100\n",
    "\n",
    "infer_features_np = np.array([data[:13] for data in test_data]).astype(\"float32\")\n",
    "infer_labels_np = np.array([data[-1] for data in test_data]).astype(\"float32\")\n",
    "\n",
    "model_dict = paddle.load('output/best_acc.pdparams')\n",
    "model.load_dict(model_dict)\n",
    "model.eval()\n",
    "\n",
    "infer_features = paddle.to_tensor(infer_features_np)\n",
    "infer_labels = paddle.to_tensor(infer_labels_np)\n",
    "fetch_list = model(infer_features)\n",
    "\n",
    "sum_cost = 0\n",
    "for i in range(INFER_BATCH_SIZE):\n",
    "    infer_result = fetch_list[i][0]\n",
    "    ground_truth = infer_labels[i]\n",
    "    if i % 10 == 0:\n",
    "        print(\"No.%d: infer result is %.2f,ground truth is %.2f\" % (i, infer_result, ground_truth))\n",
    "    cost = paddle.pow(infer_result - ground_truth, 2)\n",
    "    sum_cost += cost\n",
    "mean_loss = sum_cost / INFER_BATCH_SIZE\n",
    "print(\"Mean loss is:\", mean_loss.numpy())\n"
   ]
  },
  {
   "cell_type": "code",
   "execution_count": 13,
   "metadata": {
    "collapsed": false
   },
   "outputs": [
    {
     "data": {
      "image/png": "[encoded data removed]",
      "text/plain": [
       "<Figure size 432x288 with 1 Axes>"
      ]
     },
     "metadata": {},
     "output_type": "display_data"
    }
   ],
   "source": [
    "def plot_pred_ground(pred, ground):\n",
    "    plt.figure()   \n",
    "    plt.title(\"Predication v.s. Ground truth\", fontsize=24)\n",
    "    plt.xlabel(\"ground truth price(unit:$1000)\", fontsize=14)\n",
    "    plt.ylabel(\"predict price\", fontsize=14)\n",
    "    plt.scatter(ground, pred, alpha=0.5)  #  scatter:散点图,alpha:\"透明度\"\n",
    "    plt.plot(ground, ground, c='red')\n",
    "    plt.show()\n",
    "plot_pred_ground(fetch_list, infer_labels_np)"
   ]
  },
  {
   "cell_type": "markdown",
   "metadata": {
    "collapsed": false
   },
   "source": [
    "请点击[此处](https://ai.baidu.com/docs#/AIStudio_Project_Notebook/a38e5576)查看本环境基本用法.  <br>\n",
    "Please click [here ](https://ai.baidu.com/docs#/AIStudio_Project_Notebook/a38e5576) for more detailed instructions. "
   ]
  }
 ],
 "metadata": {
  "kernelspec": {
   "display_name": "PaddlePaddle 2.1.0 (Python 3.5)",
   "language": "python",
   "name": "py35-paddle1.2.0"
  },
  "language_info": {
   "codemirror_mode": {
    "name": "ipython",
    "version": 3
   },
   "file_extension": ".py",
   "mimetype": "text/x-python",
   "name": "python",
   "nbconvert_exporter": "python",
   "pygments_lexer": "ipython3",
   "version": "3.7.4"
  }
 },
 "nbformat": 4,
 "nbformat_minor": 1
}
