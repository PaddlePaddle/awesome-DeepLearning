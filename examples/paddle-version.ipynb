{
 "cells": [
  {
   "cell_type": "markdown",
   "metadata": {
    "collapsed": false
   },
   "source": [
    "**首先导入必要的包**，分别是：\n",
    "\n",
    "**paddle.fluid**--->PaddlePaddle深度学习框架\n",
    "\n",
    "**numpy**---------->python基本库，用于科学计算\n",
    "\n",
    "**os**------------------>python的模块，可使用该模块对操作系统进行操作"
   ]
  },
  {
   "cell_type": "code",
   "execution_count": 1,
   "metadata": {
    "collapsed": false
   },
   "outputs": [],
   "source": [
    "import paddle.fluid as fluid\r\n",
    "import paddle\r\n",
    "import numpy as np\r\n",
    "import os\r\n"
   ]
  },
  {
   "cell_type": "markdown",
   "metadata": {
    "collapsed": false
   },
   "source": [
    "# **Step1：准备数据。**\n",
    "\n",
    "（1）uci-housing数据集介绍\n",
    "\n",
    "数据集共506行,每行14列。前13列用来描述房屋的各种信息，最后一列为该类房屋价格中位数。\n",
    "\n",
    "PaddlePaddle提供了读取uci_housing训练集和测试集的接口，分别为paddle.dataset.uci_housing.train()和paddle.dataset.uci_housing.test()。\n",
    "\n",
    "(2)train_reader和test_reader\n",
    "\n",
    "paddle.reader.shuffle()表示每次缓存BUF_SIZE个数据项，并进行打乱\n",
    "\n",
    "paddle.batch()表示每BATCH_SIZE组成一个batch\n",
    "\n",
    "最后在导入matplotlib，避免不必要的报错\n",
    "\n",
    "**matplotlib**----->python绘图库，可方便绘制折线图、散点图等图形"
   ]
  },
  {
   "cell_type": "code",
   "execution_count": 2,
   "metadata": {
    "collapsed": false
   },
   "outputs": [
    {
     "name": "stderr",
     "output_type": "stream",
     "text": [
      "Cache file /home/aistudio/.cache/paddle/dataset/uci_housing/housing.data not found, downloading http://paddlemodels.bj.bcebos.com/uci_housing/housing.data \n",
      "Begin to download\n",
      "............\n",
      "Download finished\n",
      "2021-07-09 13:45:50,431-INFO: font search path ['/opt/conda/envs/python35-paddle120-env/lib/python3.7/site-packages/matplotlib/mpl-data/fonts/ttf', '/opt/conda/envs/python35-paddle120-env/lib/python3.7/site-packages/matplotlib/mpl-data/fonts/afm', '/opt/conda/envs/python35-paddle120-env/lib/python3.7/site-packages/matplotlib/mpl-data/fonts/pdfcorefonts']\n",
      "2021-07-09 13:45:50,791-INFO: generated new fontManager\n"
     ]
    }
   ],
   "source": [
    "BUF_SIZE=500\r\n",
    "BATCH_SIZE=20\r\n",
    "\r\n",
    "#用于训练的数据提供器，每次从缓存中随机读取批次大小的数据\r\n",
    "train_reader = paddle.batch(\r\n",
    "    paddle.reader.shuffle(paddle.dataset.uci_housing.train(), \r\n",
    "                          buf_size=BUF_SIZE),                    \r\n",
    "    batch_size=BATCH_SIZE)   \r\n",
    "#用于测试的数据提供器，每次从缓存中随机读取批次大小的数据\r\n",
    "test_reader = paddle.batch(\r\n",
    "    paddle.reader.shuffle(paddle.dataset.uci_housing.test(),\r\n",
    "                          buf_size=BUF_SIZE),\r\n",
    "    batch_size=BATCH_SIZE)\r\n",
    "\r\n",
    "\r\n",
    "%matplotlib inline\r\n",
    "import matplotlib.pyplot as plt\r\n",
    "    "
   ]
  },
  {
   "cell_type": "markdown",
   "metadata": {
    "collapsed": false
   },
   "source": [
    "(3)打印看下数据是什么样的？PaddlePaddle接口提供的数据已经经过归一化等处理\n",
    "\n",
    "(array([-0.02964322, -0.11363636,  0.39417967, -0.06916996,  0.14260276,\n",
    "       -0.10109875,  0.30715859, -0.13176829, -0.24127857,  0.05489093,\n",
    "        0.29196451, -0.2368098 ,  0.12850267]), array([15.6])),"
   ]
  },
  {
   "cell_type": "code",
   "execution_count": 3,
   "metadata": {
    "collapsed": false
   },
   "outputs": [
    {
     "name": "stdout",
     "output_type": "stream",
     "text": [
      "(array([-0.0405441 ,  0.06636364, -0.32356227, -0.06916996, -0.03435197,\n",
      "        0.05563625, -0.03475696,  0.02682186, -0.37171335, -0.21419304,\n",
      "       -0.33569506,  0.10143217, -0.21172912]), array([24.]))\n"
     ]
    }
   ],
   "source": [
    "#用于打印，查看uci_housing数据\r\n",
    "train_data=paddle.dataset.uci_housing.train();\r\n",
    "sampledata=next(train_data())\r\n",
    "print(sampledata)"
   ]
  },
  {
   "cell_type": "code",
   "execution_count": 4,
   "metadata": {
    "collapsed": false
   },
   "outputs": [],
   "source": [
    "#定义张量变量x，表示13维的特征值\r\n",
    "x = fluid.layers.data(name='x', shape=[13], dtype='float32')\r\n",
    "#定义张量y,表示目标值\r\n",
    "y = fluid.layers.data(name='y', shape=[1], dtype='float32')\r\n",
    "#定义一个简单的线性网络,连接输入和输出的全连接层\r\n",
    "#input:输入tensor;\r\n",
    "#size:该层输出单元的数目\r\n",
    "#act:激活函数\r\n",
    "y_predict=fluid.layers.fc(input=x,size=1,act=None)"
   ]
  },
  {
   "cell_type": "markdown",
   "metadata": {
    "collapsed": false
   },
   "source": [
    "**(2)定义损失函数**\n",
    "\n",
    "此处使用均方差损失函数。\n",
    "\n",
    "square_error_cost(input,lable):接受输入预测值和目标值，并返回方差估计,即为（y-y_predict）的平方"
   ]
  },
  {
   "cell_type": "code",
   "execution_count": 5,
   "metadata": {
    "collapsed": false
   },
   "outputs": [],
   "source": [
    "cost = fluid.layers.square_error_cost(input=y_predict, label=y) #求一个batch的损失值\r\n",
    "avg_cost = fluid.layers.mean(cost)                              #对损失值求平均值"
   ]
  },
  {
   "cell_type": "markdown",
   "metadata": {
    "collapsed": false
   },
   "source": [
    "**(3)定义优化函数**\n",
    "\n",
    "此处使用的是随机梯度下降。"
   ]
  },
  {
   "cell_type": "code",
   "execution_count": 6,
   "metadata": {
    "collapsed": false
   },
   "outputs": [],
   "source": [
    "optimizer = fluid.optimizer.SGDOptimizer(learning_rate=0.001)\r\n",
    "opts = optimizer.minimize(avg_cost)"
   ]
  },
  {
   "cell_type": "code",
   "execution_count": 7,
   "metadata": {
    "collapsed": false
   },
   "outputs": [],
   "source": [
    "test_program = fluid.default_main_program().clone(for_test=True)"
   ]
  },
  {
   "cell_type": "markdown",
   "metadata": {
    "collapsed": false
   },
   "source": [
    "# **Step3.模型训练** and **Step4.模型评估**"
   ]
  },
  {
   "cell_type": "markdown",
   "metadata": {
    "collapsed": false
   },
   "source": [
    "**（1）创建Executor**\n",
    "\n",
    "首先定义运算场所 fluid.CPUPlace()和 fluid.CUDAPlace(0)分别表示运算场所为CPU和GPU\n",
    "\n",
    "Executor:接收传入的program，通过run()方法运行program。"
   ]
  },
  {
   "cell_type": "code",
   "execution_count": 8,
   "metadata": {
    "collapsed": false
   },
   "outputs": [
    {
     "data": {
      "text/plain": [
       "[]"
      ]
     },
     "execution_count": 8,
     "metadata": {},
     "output_type": "execute_result"
    }
   ],
   "source": [
    "\r\n",
    "use_cuda = False                         #use_cuda为False,表示运算场所为CPU;use_cuda为True,表示运算场所为GPU           \r\n",
    "place = fluid.CUDAPlace(0) if use_cuda else fluid.CPUPlace()\r\n",
    "exe = fluid.Executor(place)              #创建一个Executor实例exe\r\n",
    "exe.run(fluid.default_startup_program()) #Executor的run()方法执行startup_program(),进行参数初始化"
   ]
  },
  {
   "cell_type": "markdown",
   "metadata": {
    "collapsed": false
   },
   "source": [
    "**（2）定义输入数据维度**\n",
    "\n",
    "DataFeeder负责将数据提供器（train_reader,test_reader）返回的数据转成一种特殊的数据结构，使其可以输入到Executor中。\n",
    "\n",
    "feed_list设置向模型输入的向变量表或者变量表名"
   ]
  },
  {
   "cell_type": "code",
   "execution_count": 9,
   "metadata": {
    "collapsed": false
   },
   "outputs": [],
   "source": [
    "# 定义输入数据维度\r\n",
    "feeder = fluid.DataFeeder(place=place, feed_list=[x, y])#feed_list:向模型输入的变量表或变量表名"
   ]
  },
  {
   "cell_type": "markdown",
   "metadata": {
    "collapsed": false
   },
   "source": [
    "**（3）定义绘制训练过程的损失值变化趋势的方法draw_train_process**"
   ]
  },
  {
   "cell_type": "code",
   "execution_count": 10,
   "metadata": {
    "collapsed": false
   },
   "outputs": [],
   "source": [
    "iter=0;\r\n",
    "iters=[]\r\n",
    "train_costs=[]\r\n",
    "\r\n",
    "def draw_train_process(iters,train_costs):\r\n",
    "    title=\"training cost\"\r\n",
    "    plt.title(title, fontsize=24)\r\n",
    "    plt.xlabel(\"iter\", fontsize=14)\r\n",
    "    plt.ylabel(\"cost\", fontsize=14)\r\n",
    "    plt.plot(iters, train_costs,color='red',label='training cost') \r\n",
    "    plt.grid()\r\n",
    "    plt.show()"
   ]
  },
  {
   "cell_type": "markdown",
   "metadata": {
    "collapsed": false
   },
   "source": [
    "**（4）训练并保存模型**\n",
    "\n",
    "Executor接收传入的program,并根据feed map(输入映射表)和fetch_list(结果获取表) 向program中添加feed operators(数据输入算子)和fetch operators（结果获取算子)。 feed map为该program提供输入数据。fetch_list提供program训练结束后用户预期的变量。\n",
    "\n",
    "注：enumerate() 函数用于将一个可遍历的数据对象(如列表、元组或字符串)组合为一个索引序列，同时列出数据和数据下标，"
   ]
  },
  {
   "cell_type": "code",
   "execution_count": 11,
   "metadata": {
    "collapsed": false
   },
   "outputs": [
    {
     "name": "stdout",
     "output_type": "stream",
     "text": [
      "Pass:0, Cost:1042.83862\n",
      "Test:0, Cost:140.97121\n",
      "Pass:1, Cost:602.64563\n",
      "Test:1, Cost:325.07251\n",
      "Pass:2, Cost:562.88538\n",
      "Test:2, Cost:335.99603\n",
      "Pass:3, Cost:672.52258\n",
      "Test:3, Cost:130.88622\n",
      "Pass:4, Cost:382.52460\n",
      "Test:4, Cost:97.23048\n",
      "Pass:5, Cost:472.48740\n",
      "Test:5, Cost:137.51540\n",
      "Pass:6, Cost:400.71100\n",
      "Test:6, Cost:106.30904\n",
      "Pass:7, Cost:407.56595\n",
      "Test:7, Cost:194.24774\n",
      "Pass:8, Cost:350.55643\n",
      "Test:8, Cost:67.05019\n",
      "Pass:9, Cost:305.72177\n",
      "Test:9, Cost:18.79579\n",
      "Pass:10, Cost:462.20795\n",
      "Test:10, Cost:59.50894\n",
      "Pass:11, Cost:354.20142\n",
      "Test:11, Cost:121.99898\n",
      "Pass:12, Cost:240.29207\n",
      "Test:12, Cost:76.68842\n",
      "Pass:13, Cost:212.57585\n",
      "Test:13, Cost:12.47223\n",
      "Pass:14, Cost:144.30237\n",
      "Test:14, Cost:116.76508\n",
      "Pass:15, Cost:354.32104\n",
      "Test:15, Cost:45.11609\n",
      "Pass:16, Cost:201.85214\n",
      "Test:16, Cost:82.03824\n",
      "Pass:17, Cost:188.70053\n",
      "Test:17, Cost:117.75034\n",
      "Pass:18, Cost:190.21187\n",
      "Test:18, Cost:69.43625\n",
      "Pass:19, Cost:245.55969\n",
      "Test:19, Cost:37.08749\n",
      "Pass:20, Cost:218.52368\n",
      "Test:20, Cost:23.80791\n",
      "Pass:21, Cost:141.42413\n",
      "Test:21, Cost:38.19567\n",
      "Pass:22, Cost:136.33170\n",
      "Test:22, Cost:11.48550\n",
      "Pass:23, Cost:149.92239\n",
      "Test:23, Cost:167.54648\n",
      "Pass:24, Cost:135.88834\n",
      "Test:24, Cost:148.46907\n",
      "Pass:25, Cost:175.06059\n",
      "Test:25, Cost:40.44542\n",
      "Pass:26, Cost:109.63322\n",
      "Test:26, Cost:3.31389\n",
      "Pass:27, Cost:66.23171\n",
      "Test:27, Cost:29.82712\n",
      "Pass:28, Cost:219.06546\n",
      "Test:28, Cost:85.04087\n",
      "Pass:29, Cost:130.99362\n",
      "Test:29, Cost:19.28689\n",
      "Pass:30, Cost:109.69790\n",
      "Test:30, Cost:23.36577\n",
      "Pass:31, Cost:127.14558\n",
      "Test:31, Cost:1.13932\n",
      "Pass:32, Cost:76.32470\n",
      "Test:32, Cost:10.53258\n",
      "Pass:33, Cost:44.36573\n",
      "Test:33, Cost:26.56934\n",
      "Pass:34, Cost:119.80776\n",
      "Test:34, Cost:119.96793\n",
      "Pass:35, Cost:129.64648\n",
      "Test:35, Cost:28.94864\n",
      "Pass:36, Cost:80.48373\n",
      "Test:36, Cost:4.96046\n",
      "Pass:37, Cost:142.80272\n",
      "Test:37, Cost:6.13080\n",
      "Pass:38, Cost:35.81103\n",
      "Test:38, Cost:35.36762\n",
      "Pass:39, Cost:58.63319\n",
      "Test:39, Cost:1.69711\n",
      "Pass:40, Cost:97.61658\n",
      "Test:40, Cost:3.15653\n",
      "Pass:41, Cost:59.95625\n",
      "Test:41, Cost:21.76684\n",
      "Pass:42, Cost:121.94541\n",
      "Test:42, Cost:2.90512\n",
      "Pass:43, Cost:91.73615\n",
      "Test:43, Cost:38.97549\n",
      "Pass:44, Cost:84.03300\n",
      "Test:44, Cost:3.45228\n",
      "Pass:45, Cost:71.85936\n",
      "Test:45, Cost:5.20135\n",
      "Pass:46, Cost:73.10591\n",
      "Test:46, Cost:12.56952\n",
      "Pass:47, Cost:118.70210\n",
      "Test:47, Cost:0.66746\n",
      "Pass:48, Cost:35.75513\n",
      "Test:48, Cost:1.63407\n",
      "Pass:49, Cost:12.65743\n",
      "Test:49, Cost:0.09132\n",
      "save models to /home/aistudio/work/fit_a_line.inference.model\n"
     ]
    },
    {
     "data": {
      "image/png": "[encoded data removed]",
      "text/plain": [
       "<Figure size 432x288 with 1 Axes>"
      ]
     },
     "metadata": {},
     "output_type": "display_data"
    }
   ],
   "source": [
    "EPOCH_NUM=50\r\n",
    "model_save_dir = \"/home/aistudio/work/fit_a_line.inference.model\"\r\n",
    "\r\n",
    "for pass_id in range(EPOCH_NUM):                                  #训练EPOCH_NUM轮\r\n",
    "    # 开始训练并输出最后一个batch的损失值\r\n",
    "    train_cost = 0\r\n",
    "    for batch_id, data in enumerate(train_reader()):              #遍历train_reader迭代器\r\n",
    "        train_cost = exe.run(program=fluid.default_main_program(),#运行主程序\r\n",
    "                             feed=feeder.feed(data),              #喂入一个batch的训练数据，根据feed_list和data提供的信息，将输入数据转成一种特殊的数据结构\r\n",
    "                             fetch_list=[avg_cost])    \r\n",
    "        if batch_id % 40 == 0:\r\n",
    "            print(\"Pass:%d, Cost:%0.5f\" % (pass_id, train_cost[0][0]))    #打印最后一个batch的损失值\r\n",
    "        iter=iter+BATCH_SIZE\r\n",
    "        iters.append(iter)\r\n",
    "        train_costs.append(train_cost[0][0])\r\n",
    "       \r\n",
    "   \r\n",
    "    # 开始测试并输出最后一个batch的损失值\r\n",
    "    test_cost = 0\r\n",
    "    for batch_id, data in enumerate(test_reader()):               #遍历test_reader迭代器\r\n",
    "        test_cost= exe.run(program=test_program, #运行测试cheng\r\n",
    "                            feed=feeder.feed(data),               #喂入一个batch的测试数据\r\n",
    "                            fetch_list=[avg_cost])                #fetch均方误差\r\n",
    "    print('Test:%d, Cost:%0.5f' % (pass_id, test_cost[0][0]))     #打印最后一个batch的损失值\r\n",
    "    \r\n",
    "    #保存模型\r\n",
    "    # 如果保存路径不存在就创建\r\n",
    "if not os.path.exists(model_save_dir):\r\n",
    "    os.makedirs(model_save_dir)\r\n",
    "print ('save models to %s' % (model_save_dir))\r\n",
    "#保存训练参数到指定路径中，构建一个专门用预测的program\r\n",
    "fluid.io.save_inference_model(model_save_dir,   #保存推理model的路径\r\n",
    "                                  ['x'],            #推理（inference）需要 feed 的数据\r\n",
    "                                  [y_predict],      #保存推理（inference）结果的 Variables\r\n",
    "                                  exe)              #exe 保存 inference model\r\n",
    "draw_train_process(iters,train_costs)"
   ]
  },
  {
   "cell_type": "markdown",
   "metadata": {
    "collapsed": false
   },
   "source": [
    "\n",
    "# **Step5.模型预测**\n",
    "\n",
    "**（1）创建预测用的Executor**"
   ]
  },
  {
   "cell_type": "code",
   "execution_count": 12,
   "metadata": {
    "collapsed": false
   },
   "outputs": [],
   "source": [
    "infer_exe = fluid.Executor(place)    #创建推测用的executor\r\n",
    "inference_scope = fluid.core.Scope() #Scope指定作用域"
   ]
  },
  {
   "cell_type": "markdown",
   "metadata": {
    "collapsed": false
   },
   "source": [
    "**（2）可视化真实值与预测值方法定义**"
   ]
  },
  {
   "cell_type": "code",
   "execution_count": 13,
   "metadata": {
    "collapsed": false
   },
   "outputs": [],
   "source": [
    "infer_results=[]\r\n",
    "groud_truths=[]\r\n",
    "\r\n",
    "#绘制真实值和预测值对比图\r\n",
    "def draw_infer_result(groud_truths, infer_results):\r\n",
    "    title='Boston'\r\n",
    "    plt.title(title, fontsize=24)\r\n",
    "    x = np.arange(1,20) \r\n",
    "    y = x\r\n",
    "    plt.plot(x, y)\r\n",
    "    plt.xlabel('ground truth', fontsize=14)\r\n",
    "    plt.ylabel('infer result', fontsize=14)\r\n",
    "    plt.scatter(groud_truths, infer_results, color='green',label='training cost') \r\n",
    "    plt.grid()\r\n",
    "    plt.show()"
   ]
  },
  {
   "cell_type": "markdown",
   "metadata": {
    "collapsed": false
   },
   "source": [
    "**(3)开始预测**\n",
    "\n",
    "通过fluid.io.load_inference_model，预测器会从params_dirname中读取已经训练好的模型，来对从未遇见过的数据进行预测。"
   ]
  },
  {
   "cell_type": "code",
   "execution_count": 14,
   "metadata": {
    "collapsed": false
   },
   "outputs": [
    {
     "name": "stdout",
     "output_type": "stream",
     "text": [
      "infer results and ground truth: (House Price)\n",
      "0: infer:13.45   gt:8.50\n",
      "1: infer:13.61   gt:5.00\n",
      "2: infer:13.17   gt:11.90\n",
      "3: infer:14.56   gt:27.90\n",
      "4: infer:13.67   gt:17.20\n",
      "5: infer:14.29   gt:27.50\n",
      "6: infer:14.01   gt:15.00\n",
      "7: infer:13.76   gt:17.20\n",
      "8: infer:11.93   gt:17.90\n",
      "9: infer:13.62   gt:16.30\n",
      "10: infer:11.49   gt:7.00\n",
      "11: infer:12.87   gt:7.20\n",
      "12: infer:13.42   gt:7.50\n",
      "13: infer:12.97   gt:10.40\n",
      "14: infer:13.07   gt:8.80\n",
      "15: infer:13.87   gt:8.40\n",
      "16: infer:14.53   gt:16.70\n",
      "17: infer:14.42   gt:14.20\n",
      "18: infer:14.72   gt:20.80\n",
      "19: infer:13.59   gt:13.40\n",
      "20: infer:14.16   gt:11.70\n",
      "21: infer:13.05   gt:8.30\n",
      "22: infer:14.59   gt:10.20\n",
      "23: infer:14.14   gt:10.90\n",
      "24: infer:13.92   gt:11.00\n",
      "25: infer:13.42   gt:9.50\n",
      "26: infer:14.36   gt:14.50\n",
      "27: infer:14.26   gt:14.10\n",
      "28: infer:15.06   gt:16.10\n",
      "29: infer:14.22   gt:14.30\n",
      "30: infer:14.05   gt:11.70\n",
      "31: infer:13.57   gt:13.40\n",
      "32: infer:13.69   gt:9.60\n",
      "33: infer:12.77   gt:8.70\n",
      "34: infer:12.45   gt:8.40\n",
      "35: infer:13.86   gt:12.80\n",
      "36: infer:13.97   gt:10.50\n",
      "37: infer:14.37   gt:17.10\n",
      "38: infer:14.50   gt:18.40\n",
      "39: infer:14.40   gt:15.40\n",
      "40: infer:13.46   gt:10.80\n",
      "41: infer:13.27   gt:11.80\n",
      "42: infer:14.34   gt:14.90\n",
      "43: infer:14.57   gt:12.60\n",
      "44: infer:14.48   gt:14.10\n",
      "45: infer:14.27   gt:13.00\n",
      "46: infer:13.93   gt:13.40\n",
      "47: infer:14.63   gt:15.20\n",
      "48: infer:14.70   gt:16.10\n",
      "49: infer:15.03   gt:17.80\n",
      "50: infer:13.82   gt:14.90\n",
      "51: infer:14.03   gt:14.10\n",
      "52: infer:13.64   gt:12.70\n",
      "53: infer:13.90   gt:13.50\n",
      "54: infer:14.68   gt:14.90\n",
      "55: infer:14.99   gt:20.00\n",
      "56: infer:14.67   gt:16.40\n",
      "57: infer:15.03   gt:17.70\n",
      "58: infer:15.16   gt:19.50\n",
      "59: infer:15.40   gt:20.20\n",
      "60: infer:15.64   gt:21.40\n",
      "61: infer:15.56   gt:19.90\n",
      "62: infer:14.03   gt:19.00\n",
      "63: infer:14.46   gt:19.10\n",
      "64: infer:15.16   gt:19.10\n",
      "65: infer:15.63   gt:20.10\n",
      "66: infer:15.29   gt:19.90\n",
      "67: infer:15.59   gt:19.60\n",
      "68: infer:15.68   gt:23.20\n",
      "69: infer:16.05   gt:29.80\n",
      "70: infer:14.48   gt:13.80\n",
      "71: infer:14.15   gt:13.30\n",
      "72: infer:14.92   gt:16.70\n",
      "73: infer:13.74   gt:12.00\n",
      "74: infer:14.72   gt:14.60\n",
      "75: infer:15.23   gt:21.40\n",
      "76: infer:16.22   gt:23.00\n",
      "77: infer:16.46   gt:23.70\n",
      "78: infer:16.62   gt:25.00\n",
      "79: infer:16.53   gt:21.80\n",
      "80: infer:16.11   gt:20.60\n",
      "81: infer:16.39   gt:21.20\n",
      "82: infer:15.47   gt:19.10\n",
      "83: infer:16.05   gt:20.60\n",
      "84: infer:16.10   gt:15.20\n",
      "85: infer:15.41   gt:7.00\n",
      "86: infer:14.80   gt:8.10\n",
      "87: infer:16.20   gt:13.60\n",
      "88: infer:16.85   gt:20.10\n",
      "89: infer:20.54   gt:21.80\n",
      "90: infer:20.70   gt:24.50\n",
      "91: infer:20.56   gt:23.10\n",
      "92: infer:19.45   gt:19.70\n",
      "93: infer:20.19   gt:18.30\n",
      "94: infer:20.41   gt:21.20\n",
      "95: infer:19.92   gt:17.50\n",
      "96: infer:20.07   gt:16.80\n",
      "97: infer:21.64   gt:22.40\n",
      "98: infer:21.36   gt:20.60\n",
      "99: infer:21.71   gt:23.90\n",
      "100: infer:21.62   gt:22.00\n",
      "101: infer:21.37   gt:11.90\n"
     ]
    },
    {
     "data": {
      "image/png": "[encoded data removed]",
      "text/plain": [
       "<Figure size 432x288 with 1 Axes>"
      ]
     },
     "metadata": {},
     "output_type": "display_data"
    }
   ],
   "source": [
    "with fluid.scope_guard(inference_scope):#修改全局/默认作用域（scope）, 运行时中的所有变量都将分配给新的scope。\r\n",
    "    #从指定目录中加载 推理model(inference model)\r\n",
    "    [inference_program,                             #推理的program\r\n",
    "     feed_target_names,                             #需要在推理program中提供数据的变量名称\r\n",
    "     fetch_targets] = fluid.io.load_inference_model(#fetch_targets: 推断结果\r\n",
    "                                    model_save_dir, #model_save_dir:模型训练路径 \r\n",
    "                                    infer_exe)      #infer_exe: 预测用executor\r\n",
    "    #获取预测数据\r\n",
    "    infer_reader = paddle.batch(paddle.dataset.uci_housing.test(),  #获取uci_housing的测试数据\r\n",
    "                          batch_size=200)                           #从测试数据中读取一个大小为200的batch数据\r\n",
    "    #从test_reader中分割x\r\n",
    "    test_data = next(infer_reader())\r\n",
    "    test_x = np.array([data[0] for data in test_data]).astype(\"float32\")\r\n",
    "    test_y= np.array([data[1] for data in test_data]).astype(\"float32\")\r\n",
    "    results = infer_exe.run(inference_program,                              #预测模型\r\n",
    "                            feed={feed_target_names[0]: np.array(test_x)},  #喂入要预测的x值\r\n",
    "                            fetch_list=fetch_targets)                       #得到推测结果 \r\n",
    "                            \r\n",
    "    print(\"infer results and ground truth: (House Price)\")\r\n",
    "    for idx, val in enumerate(zip(results[0], test_y)):\r\n",
    "        print(\"%d: infer:%.2f   gt:%.2f\" % (idx, val[0], val[1]))\r\n",
    "        infer_results.append(val[0])\r\n",
    "        groud_truths.append(val[1])\r\n",
    "    draw_infer_result(groud_truths,infer_results)"
   ]
  }
 ],
 "metadata": {
  "kernelspec": {
   "display_name": "PaddlePaddle 1.8.0 (Python 3.5)",
   "language": "python",
   "name": "py35-paddle1.2.0"
  },
  "language_info": {
   "codemirror_mode": {
    "name": "ipython",
    "version": 3
   },
   "file_extension": ".py",
   "mimetype": "text/x-python",
   "name": "python",
   "nbconvert_exporter": "python",
   "pygments_lexer": "ipython3",
   "version": "3.7.4"
  }
 },
 "nbformat": 4,
 "nbformat_minor": 1
}
