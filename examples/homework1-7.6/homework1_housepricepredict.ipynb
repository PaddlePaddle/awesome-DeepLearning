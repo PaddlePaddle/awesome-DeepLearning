{
 "cells": [
  {
   "cell_type": "markdown",
   "metadata": {
    "collapsed": false
   },
   "source": [
    "## 使用python+numpy实现房价预测"
   ]
  },
  {
   "cell_type": "code",
   "execution_count": 12,
   "metadata": {
    "collapsed": false
   },
   "outputs": [
    {
     "name": "stdout",
     "output_type": "stream",
     "text": [
      "iter:0,loss:962.4130921751794\n",
      "iter:20,loss:128.34956618316167\n",
      "iter:40,loss:104.9265908994852\n",
      "iter:60,loss:91.05496706808992\n",
      "iter:80,loss:80.14480540358527\n",
      "iter:100,loss:71.48244084194357\n",
      "iter:120,loss:64.57698102820974\n",
      "iter:140,loss:59.05840981661155\n",
      "iter:160,loss:54.635037375701536\n",
      "iter:180,loss:51.072126322096615\n",
      "iter:200,loss:48.180399885115534\n",
      "iter:220,loss:45.80871249651883\n",
      "iter:240,loss:43.83822622995728\n",
      "iter:260,loss:42.17710007557318\n",
      "iter:280,loss:40.75550286256443\n",
      "iter:300,loss:39.52105812934185\n",
      "iter:320,loss:38.43486685561091\n",
      "iter:340,loss:37.46818965373929\n",
      "iter:360,loss:36.59978979032736\n",
      "iter:380,loss:35.81387847093646\n",
      "iter:400,loss:35.098571907790046\n",
      "iter:420,loss:34.44476085105923\n",
      "iter:440,loss:33.845299169795524\n",
      "iter:460,loss:33.29443133090572\n",
      "iter:480,loss:32.78739412097827\n",
      "iter:500,loss:32.320142726340706\n",
      "iter:520,loss:31.88916395474163\n",
      "iter:540,loss:31.49134955362471\n",
      "iter:560,loss:31.123910385008177\n",
      "iter:580,loss:30.784318011070916\n",
      "iter:600,loss:30.47026443860598\n",
      "iter:620,loss:30.179633746384212\n",
      "iter:640,loss:29.910481396658096\n",
      "iter:660,loss:29.661018461659275\n",
      "iter:680,loss:29.429598967394526\n",
      "iter:700,loss:29.214709209045342\n",
      "iter:720,loss:29.01495832425538\n",
      "iter:740,loss:28.82906969266309\n",
      "iter:760,loss:28.65587291100619\n",
      "iter:780,loss:28.49429620661275\n",
      "iter:800,loss:28.343359221057973\n",
      "iter:820,loss:28.202166135759647\n",
      "iter:840,loss:28.06989913276271\n",
      "iter:860,loss:27.945812193898707\n",
      "iter:880,loss:27.829225244497245\n",
      "iter:900,loss:27.719518646878363\n",
      "iter:920,loss:27.61612804588996\n",
      "iter:940,loss:27.5185395649772\n",
      "iter:960,loss:27.426285347409422\n",
      "iter:980,loss:27.33893943375512\n"
     ]
    },
    {
     "data": {
      "image/png": "[encoded data removed]",
      "text/plain": [
       "<Figure size 432x288 with 1 Axes>"
      ]
     },
     "metadata": {},
     "output_type": "display_data"
    }
   ],
   "source": [
    "#导入需要用到的包\r\n",
    "import numpy as np\r\n",
    "import matplotlib.pyplot as plt\r\n",
    "\r\n",
    "#数据导入以及处理\r\n",
    "def deal_data():\r\n",
    "    #读取文件数据，此时数据形状是(7084,)，即所有数据在一行中\r\n",
    "    housingdata = np.fromfile('/home/aistudio/data/data64/housing.data',sep=' ')\r\n",
    "\r\n",
    "    #修改数据格式，将每一条房屋数据放在一行中。\r\n",
    "    housingdata = np.array(housingdata).reshape((-1,14))#此时数据形状为(506,14)\r\n",
    "\r\n",
    "    #对数据的前13个属性进行归一化操作，有助于提高模型精准度，这里使用max-min归一化方式。公式为(x-min)/(max-min)\r\n",
    "    for i in range(13):\r\n",
    "        Max =  np.max(housingdata[:,i])\r\n",
    "        Min = np.min(housingdata[:,i])\r\n",
    "        housingdata[:,i]=(housingdata[:,i]-Min)/(Max-Min)\r\n",
    "\r\n",
    "    #依据2-8原则，80%的数据作为训练数据，20%数据作为测试数据；此时训练数据是405条，测试数据是101条\r\n",
    "    Splitdata = round(len(housingdata)*0.8)\r\n",
    "    Train = housingdata[:Splitdata]#训练数据集\r\n",
    "    Test = housingdata[Splitdata:]#测试数据集\r\n",
    "    return Train,Test\r\n",
    "\r\n",
    "#模型设计以及配置\r\n",
    "#首先确定有13个权值参数w，并随机初始化\r\n",
    "class Model_Config(object):\r\n",
    "    def __init__(self,firstnetnum,secondnetnum):\r\n",
    "        np.random.seed(1)\r\n",
    "        self.w0 = np.random.randn(firstnetnum*secondnetnum,1).reshape(firstnetnum,secondnetnum)\r\n",
    "        self.w1 = np.random.randn(secondnetnum,1)\r\n",
    "        self.b0 = np.random.randn(firstnetnum,1).reshape(1,firstnetnum)\r\n",
    "        self.b1 = np.random.randn(1,1)\r\n",
    "     #计算预测值\r\n",
    "    def forward(self,x):\r\n",
    "        hidden1 = np.dot(x,self.w0)+self.b0\r\n",
    "        y = np.dot(hidden1,self.w1)+self.b1\r\n",
    "        return hidden1,y\r\n",
    "    #设置损失函数,这里使用差平方损失函数计算方式\r\n",
    "    def loss(self,z,y):\r\n",
    "        error = z-y\r\n",
    "        cost = error*error\r\n",
    "        avg_cost = np.mean(cost)\r\n",
    "        return avg_cost\r\n",
    "    #计算梯度\r\n",
    "    def back(self,x,y):\r\n",
    "        hidden1,z = self.forward(x)\r\n",
    "        #hidden层的梯度\r\n",
    "        gradient_w1 = (z-y)*hidden1\r\n",
    "        gradient_w1 = np.mean(gradient_w1,axis=0)#这里注意，axis=0必须写上，否则默认将这个数组变成一维的求平均\r\n",
    "        gradient_w1 = gradient_w1[:,np.newaxis]#\r\n",
    "        gradient_b1 = (z-y)\r\n",
    "        gradient_b1 = np.mean(gradient_b1)\r\n",
    "        gradient_w0 = np.zeros(shape=(13,13))\r\n",
    "        for i in range(len(x)):\r\n",
    "            data = x[i,:]\r\n",
    "            data = data[:,np.newaxis]\r\n",
    "            # print(\"data.shape\",data.shape)\r\n",
    "            w1 = self.w1.reshape(1,13)\r\n",
    "            # print(\"self.w1.shape\",w1.shape)\r\n",
    "            gradient_w01 = (z-y)[i]*np.dot(data,w1)\r\n",
    "            # print(\"gradient_w01.shape:\",gradient_w01.shape)\r\n",
    "            gradient_w0+=gradient_w01\r\n",
    "        gradient_w0 = gradient_w0/len(x)\r\n",
    "        w2 = self.w1.reshape(1,13)\r\n",
    "        gradient_b0 =np.mean((z-y)*w2,axis=0)\r\n",
    "\r\n",
    "        return gradient_w1,gradient_b1,gradient_w0,gradient_b0\r\n",
    "        #输入层的梯度\r\n",
    "        #(z-y)x*self.w1\r\n",
    "        # gradient_w0 = np.zeros(shape=(13,13))\r\n",
    "        # gradient_w01 = gradient_w1.reshape(1,13)\r\n",
    "        # for i in range(13):\r\n",
    "        #     data = x[:,i]\r\n",
    "        #     data = data[:,np.newaxis]\r\n",
    "        #     gradient = data*gradient_w01\r\n",
    "        #     gradient = np.mean(gradient,axis=0)\r\n",
    "        #     gradient_w0[i,:] = gradient\r\n",
    "        # gradient_b0 = gradient_b1*self.b0\r\n",
    "        # return gradient_w1,gradient_b1,gradient_w0,gradient_b0\r\n",
    "\r\n",
    "    #使用梯度更新权值参数w\r\n",
    "    def update(self,gradient_w1,gradient_b1,gradient_w0,gradient_b0,learning_rate):\r\n",
    "        self.w1 = self.w1-learning_rate*gradient_w1\r\n",
    "        self.b1 = self.b1-learning_rate*gradient_b1\r\n",
    "        self.w0 = self.w0-learning_rate*gradient_w0\r\n",
    "        self.b0 = self.b0-learning_rate*gradient_b0\r\n",
    "\r\n",
    "    #开始训练\r\n",
    "    def train(self,epoch_num,x,y,learning_rate):\r\n",
    "        #循环迭代\r\n",
    "        losses=[]\r\n",
    "        for i in range(epoch_num):\r\n",
    "            _,z = self.forward(x)\r\n",
    "            avg_loss = self.loss(z,y)\r\n",
    "            gradient_w1,gradient_b1,gradient_w0,gradient_b0 = self.back(x,y)\r\n",
    "            self.update(gradient_w1,gradient_b1,gradient_w0,gradient_b0,learning_rate)\r\n",
    "            losses.append(avg_loss)\r\n",
    "            #每进行20此迭代，显示一下当前的损失值\r\n",
    "            if(i%20==0):\r\n",
    "                print(\"iter:{},loss:{}\".format(i,avg_loss))\r\n",
    "\r\n",
    "        return losses\r\n",
    "def showpeocess(loss,epoch_num):\r\n",
    "    plt.title(\"The Process Of Train\")\r\n",
    "    plt.plot([i for i in range(epoch_num)],loss)\r\n",
    "    plt.xlabel(\"epoch_num\")\r\n",
    "    plt.ylabel(\"loss\")\r\n",
    "    plt.show()\r\n",
    "if __name__ == '__main__':\r\n",
    "    Train,Test = deal_data()\r\n",
    "    np.random.shuffle(Train)\r\n",
    "    #只获取前13个属性的数据\r\n",
    "    x = Train[:,:-1]\r\n",
    "    y = Train[:,-1:]\r\n",
    "    epoch_num = 1000#设置迭代次数\r\n",
    "    Model = Model_Config(13,13)\r\n",
    "    losses = Model.train(epoch_num=epoch_num,x=x,y=y,learning_rate=0.001)\r\n",
    "    showpeocess(loss=losses,epoch_num=epoch_num)\r\n"
   ]
  },
  {
   "cell_type": "markdown",
   "metadata": {
    "collapsed": false
   },
   "source": [
    "## 使用飞桨框架进行房价预测"
   ]
  },
  {
   "cell_type": "code",
   "execution_count": 18,
   "metadata": {
    "collapsed": false
   },
   "outputs": [],
   "source": [
    "## 导库\r\n",
    "import paddle.fluid as fluid\r\n",
    "import paddle\r\n",
    "import numpy as np\r\n",
    "import os\r\n",
    "import matplotlib.pyplot as plt"
   ]
  },
  {
   "cell_type": "code",
   "execution_count": 19,
   "metadata": {
    "collapsed": false
   },
   "outputs": [],
   "source": [
    "BUF_SIZE=500\r\n",
    "BATCH_SIZE=20"
   ]
  },
  {
   "cell_type": "code",
   "execution_count": 20,
   "metadata": {
    "collapsed": false
   },
   "outputs": [
    {
     "name": "stderr",
     "output_type": "stream",
     "text": [
      "/opt/conda/envs/python35-paddle120-env/lib/python3.7/site-packages/ipykernel_launcher.py:3: DeprecationWarning: \u001b[93m\n",
      "Warning:\n",
      "API \"paddle.dataset.uci_housing.train\" is deprecated since 2.0.0, and will be removed in future versions. Please use \"paddle.text.datasets.UCIHousing\" instead.\n",
      "reason: Please use new dataset API which supports paddle.io.DataLoader \u001b[0m\n",
      "  This is separate from the ipykernel package so we can avoid doing imports until\n",
      "Cache file /home/aistudio/.cache/paddle/dataset/uci_housing/housing.data not found, downloading http://paddlemodels.bj.bcebos.com/uci_housing/housing.data \n",
      "Begin to download\n",
      "............\n",
      "Download finished\n",
      "/opt/conda/envs/python35-paddle120-env/lib/python3.7/site-packages/ipykernel_launcher.py:8: DeprecationWarning: \u001b[93m\n",
      "Warning:\n",
      "API \"paddle.dataset.uci_housing.test\" is deprecated since 2.0.0, and will be removed in future versions. Please use \"paddle.text.datasets.UCIHousing\" instead.\n",
      "reason: Please use new dataset API which supports paddle.io.DataLoader \u001b[0m\n",
      "  \n"
     ]
    }
   ],
   "source": [
    "#用于训练的数据提供器，每次从缓存中随机读取批次大小的数据\r\n",
    "train_reader = paddle.batch(\r\n",
    "    paddle.reader.shuffle(paddle.dataset.uci_housing.train(), \r\n",
    "                          buf_size=BUF_SIZE),                    \r\n",
    "    batch_size=BATCH_SIZE)   \r\n",
    "#用于测试的数据提供器，每次从缓存中随机读取批次大小的数据\r\n",
    "test_reader = paddle.batch(\r\n",
    "    paddle.reader.shuffle(paddle.dataset.uci_housing.test(),\r\n",
    "                          buf_size=BUF_SIZE),\r\n",
    "    batch_size=BATCH_SIZE)  "
   ]
  },
  {
   "cell_type": "code",
   "execution_count": 21,
   "metadata": {
    "collapsed": false
   },
   "outputs": [
    {
     "name": "stdout",
     "output_type": "stream",
     "text": [
      "(array([-0.0405441 ,  0.06636364, -0.32356227, -0.06916996, -0.03435197,\n",
      "        0.05563625, -0.03475696,  0.02682186, -0.37171335, -0.21419304,\n",
      "       -0.33569506,  0.10143217, -0.21172912]), array([24.]))\n"
     ]
    },
    {
     "name": "stderr",
     "output_type": "stream",
     "text": [
      "/opt/conda/envs/python35-paddle120-env/lib/python3.7/site-packages/ipykernel_launcher.py:2: DeprecationWarning: \u001b[93m\n",
      "Warning:\n",
      "API \"paddle.dataset.uci_housing.train\" is deprecated since 2.0.0, and will be removed in future versions. Please use \"paddle.text.datasets.UCIHousing\" instead.\n",
      "reason: Please use new dataset API which supports paddle.io.DataLoader \u001b[0m\n",
      "  \n"
     ]
    }
   ],
   "source": [
    "#用于打印，查看uci_housing数据\r\n",
    "train_data=paddle.dataset.uci_housing.train();\r\n",
    "sampledata=next(train_data())\r\n",
    "print(sampledata)"
   ]
  },
  {
   "cell_type": "code",
   "execution_count": 23,
   "metadata": {
    "collapsed": false
   },
   "outputs": [],
   "source": [
    "paddle.enable_static()\r\n",
    "#定义张量变量x，表示13维的特征值\r\n",
    "x = fluid.layers.data(name='x', shape=[13], dtype='float32')\r\n",
    "#定义张量y,表示目标值\r\n",
    "y = fluid.layers.data(name='y', shape=[1], dtype='float32')\r\n",
    "#定义一个简单的线性网络,连接输入和输出的全连接层\r\n",
    "#input:输入tensor;\r\n",
    "#size:该层输出单元的数目\r\n",
    "#act:激活函数\r\n",
    "y_predict=fluid.layers.fc(input=x,size=1,act=None)"
   ]
  },
  {
   "cell_type": "code",
   "execution_count": 24,
   "metadata": {
    "collapsed": false
   },
   "outputs": [],
   "source": [
    "cost = fluid.layers.square_error_cost(input=y_predict, label=y) #求一个batch的损失值\r\n",
    "avg_cost = fluid.layers.mean(cost)                              #对损失值求平均值"
   ]
  },
  {
   "cell_type": "code",
   "execution_count": 25,
   "metadata": {
    "collapsed": false
   },
   "outputs": [],
   "source": [
    "optimizer = fluid.optimizer.SGDOptimizer(learning_rate=0.001)\r\n",
    "opts = optimizer.minimize(avg_cost)"
   ]
  },
  {
   "cell_type": "code",
   "execution_count": 26,
   "metadata": {
    "collapsed": false
   },
   "outputs": [],
   "source": [
    "test_program = fluid.default_main_program().clone(for_test=True)"
   ]
  },
  {
   "cell_type": "code",
   "execution_count": 27,
   "metadata": {
    "collapsed": false
   },
   "outputs": [
    {
     "data": {
      "text/plain": [
       "[]"
      ]
     },
     "execution_count": 27,
     "metadata": {},
     "output_type": "execute_result"
    }
   ],
   "source": [
    "use_cuda = False                         #use_cuda为False,表示运算场所为CPU;use_cuda为True,表示运算场所为GPU           \r\n",
    "place = fluid.CUDAPlace(0) if use_cuda else fluid.CPUPlace()\r\n",
    "exe = fluid.Executor(place)              #创建一个Executor实例exe\r\n",
    "exe.run(fluid.default_startup_program()) #Executor的run()方法执行startup_program(),进行参数初始化"
   ]
  },
  {
   "cell_type": "code",
   "execution_count": 28,
   "metadata": {
    "collapsed": false
   },
   "outputs": [],
   "source": [
    "# 定义输入数据维度\r\n",
    "feeder = fluid.DataFeeder(place=place, feed_list=[x, y])#feed_list:向模型输入的变量表或变量表名"
   ]
  },
  {
   "cell_type": "code",
   "execution_count": 29,
   "metadata": {
    "collapsed": false
   },
   "outputs": [],
   "source": [
    "iter=0;\r\n",
    "iters=[]\r\n",
    "train_costs=[]\r\n",
    "\r\n",
    "def draw_train_process(iters,train_costs):\r\n",
    "    title=\"training cost\"\r\n",
    "    plt.title(title, fontsize=24)\r\n",
    "    plt.xlabel(\"iter\", fontsize=14)\r\n",
    "    plt.ylabel(\"cost\", fontsize=14)\r\n",
    "    plt.plot(iters, train_costs,color='red',label='training cost') \r\n",
    "    plt.grid()\r\n",
    "    plt.show()"
   ]
  },
  {
   "cell_type": "code",
   "execution_count": 30,
   "metadata": {
    "collapsed": false
   },
   "outputs": [
    {
     "name": "stdout",
     "output_type": "stream",
     "text": [
      "Pass:0, Cost:592.36249\n",
      "Test:0, Cost:145.44810\n",
      "Pass:1, Cost:589.56329\n",
      "Test:1, Cost:178.84985\n",
      "Pass:2, Cost:570.84943\n",
      "Test:2, Cost:168.94835\n",
      "Pass:3, Cost:438.91205\n",
      "Test:3, Cost:141.38052\n",
      "Pass:4, Cost:505.20087\n",
      "Test:4, Cost:88.85927\n",
      "Pass:5, Cost:457.30194\n",
      "Test:5, Cost:176.04980\n",
      "Pass:6, Cost:258.72754\n",
      "Test:6, Cost:151.16528\n",
      "Pass:7, Cost:448.93439\n",
      "Test:7, Cost:62.47404\n",
      "Pass:8, Cost:333.64215\n",
      "Test:8, Cost:16.51198\n",
      "Pass:9, Cost:331.10992\n",
      "Test:9, Cost:14.78093\n",
      "Pass:10, Cost:444.56696\n",
      "Test:10, Cost:74.18665\n",
      "Pass:11, Cost:422.36493\n",
      "Test:11, Cost:110.44833\n",
      "Pass:12, Cost:285.92731\n",
      "Test:12, Cost:21.81844\n",
      "Pass:13, Cost:258.82297\n",
      "Test:13, Cost:63.62513\n",
      "Pass:14, Cost:387.42661\n",
      "Test:14, Cost:60.32746\n",
      "Pass:15, Cost:121.29138\n",
      "Test:15, Cost:30.62586\n",
      "Pass:16, Cost:177.93475\n",
      "Test:16, Cost:76.13977\n",
      "Pass:17, Cost:238.23148\n",
      "Test:17, Cost:8.09512\n",
      "Pass:18, Cost:245.80237\n",
      "Test:18, Cost:79.30521\n",
      "Pass:19, Cost:98.33235\n",
      "Test:19, Cost:47.22866\n",
      "Pass:20, Cost:48.12200\n",
      "Test:20, Cost:50.03571\n",
      "Pass:21, Cost:123.04604\n",
      "Test:21, Cost:54.10895\n",
      "Pass:22, Cost:231.06607\n",
      "Test:22, Cost:1.94255\n",
      "Pass:23, Cost:122.72913\n",
      "Test:23, Cost:0.64490\n",
      "Pass:24, Cost:148.01474\n",
      "Test:24, Cost:39.60514\n",
      "Pass:25, Cost:86.64403\n",
      "Test:25, Cost:12.83277\n",
      "Pass:26, Cost:62.61398\n",
      "Test:26, Cost:15.12975\n",
      "Pass:27, Cost:193.81326\n",
      "Test:27, Cost:20.44910\n",
      "Pass:28, Cost:199.87057\n",
      "Test:28, Cost:10.05507\n",
      "Pass:29, Cost:65.12462\n",
      "Test:29, Cost:42.60614\n",
      "Pass:30, Cost:75.03800\n",
      "Test:30, Cost:13.15395\n",
      "Pass:31, Cost:111.53493\n",
      "Test:31, Cost:111.31278\n",
      "Pass:32, Cost:128.51141\n",
      "Test:32, Cost:10.71737\n",
      "Pass:33, Cost:113.02932\n",
      "Test:33, Cost:29.13184\n",
      "Pass:34, Cost:64.73616\n",
      "Test:34, Cost:8.34567\n",
      "Pass:35, Cost:180.48544\n",
      "Test:35, Cost:5.25357\n",
      "Pass:36, Cost:65.82576\n",
      "Test:36, Cost:1.22737\n",
      "Pass:37, Cost:79.74372\n",
      "Test:37, Cost:15.00230\n",
      "Pass:38, Cost:22.14524\n",
      "Test:38, Cost:13.04997\n",
      "Pass:39, Cost:11.80207\n",
      "Test:39, Cost:11.20140\n",
      "Pass:40, Cost:89.37049\n",
      "Test:40, Cost:32.96101\n",
      "Pass:41, Cost:52.14984\n",
      "Test:41, Cost:19.72718\n",
      "Pass:42, Cost:104.20396\n",
      "Test:42, Cost:2.49465\n",
      "Pass:43, Cost:39.05802\n",
      "Test:43, Cost:12.59343\n",
      "Pass:44, Cost:48.85831\n",
      "Test:44, Cost:22.61081\n",
      "Pass:45, Cost:120.27727\n",
      "Test:45, Cost:9.49720\n",
      "Pass:46, Cost:116.23112\n",
      "Test:46, Cost:16.37369\n",
      "Pass:47, Cost:63.63482\n",
      "Test:47, Cost:0.47313\n",
      "Pass:48, Cost:23.25729\n",
      "Test:48, Cost:1.68700\n",
      "Pass:49, Cost:49.48915\n",
      "Test:49, Cost:4.19148\n",
      "save models to /home/aistudio/work/fit_a_line.inference.model\n"
     ]
    },
    {
     "name": "stderr",
     "output_type": "stream",
     "text": [
      "/opt/conda/envs/python35-paddle120-env/lib/python3.7/site-packages/matplotlib/font_manager.py:1331: UserWarning: findfont: Font family ['sans-serif'] not found. Falling back to DejaVu Sans\n",
      "  (prop.get_family(), self.defaultFamily[fontext]))\n"
     ]
    },
    {
     "data": {
      "image/png": "[encoded data removed]",
      "text/plain": [
       "<Figure size 432x288 with 1 Axes>"
      ]
     },
     "metadata": {},
     "output_type": "display_data"
    }
   ],
   "source": [
    "EPOCH_NUM=50\r\n",
    "model_save_dir = \"/home/aistudio/work/fit_a_line.inference.model\"\r\n",
    "\r\n",
    "for pass_id in range(EPOCH_NUM):                                  #训练EPOCH_NUM轮\r\n",
    "    # 开始训练并输出最后一个batch的损失值\r\n",
    "    train_cost = 0\r\n",
    "    for batch_id, data in enumerate(train_reader()):              #遍历train_reader迭代器\r\n",
    "        train_cost = exe.run(program=fluid.default_main_program(),#运行主程序\r\n",
    "                             feed=feeder.feed(data),              #喂入一个batch的训练数据，根据feed_list和data提供的信息，将输入数据转成一种特殊的数据结构\r\n",
    "                             fetch_list=[avg_cost])    \r\n",
    "        if batch_id % 40 == 0:\r\n",
    "            print(\"Pass:%d, Cost:%0.5f\" % (pass_id, train_cost[0][0]))    #打印最后一个batch的损失值\r\n",
    "        iter=iter+BATCH_SIZE\r\n",
    "        iters.append(iter)\r\n",
    "        train_costs.append(train_cost[0][0])\r\n",
    "       \r\n",
    "   \r\n",
    "    # 开始测试并输出最后一个batch的损失值\r\n",
    "    test_cost = 0\r\n",
    "    for batch_id, data in enumerate(test_reader()):               #遍历test_reader迭代器\r\n",
    "        test_cost= exe.run(program=test_program, #运行测试cheng\r\n",
    "                            feed=feeder.feed(data),               #喂入一个batch的测试数据\r\n",
    "                            fetch_list=[avg_cost])                #fetch均方误差\r\n",
    "    print('Test:%d, Cost:%0.5f' % (pass_id, test_cost[0][0]))     #打印最后一个batch的损失值\r\n",
    "    \r\n",
    "    #保存模型\r\n",
    "    # 如果保存路径不存在就创建\r\n",
    "if not os.path.exists(model_save_dir):\r\n",
    "    os.makedirs(model_save_dir)\r\n",
    "print ('save models to %s' % (model_save_dir))\r\n",
    "#保存训练参数到指定路径中，构建一个专门用预测的program\r\n",
    "fluid.io.save_inference_model(model_save_dir,   #保存推理model的路径\r\n",
    "                                  ['x'],            #推理（inference）需要 feed 的数据\r\n",
    "                                  [y_predict],      #保存推理（inference）结果的 Variables\r\n",
    "                                  exe)              #exe 保存 inference model\r\n",
    "draw_train_process(iters,train_costs)"
   ]
  },
  {
   "cell_type": "code",
   "execution_count": 31,
   "metadata": {
    "collapsed": false
   },
   "outputs": [],
   "source": [
    "infer_exe = fluid.Executor(place)    #创建推测用的executor\r\n",
    "inference_scope = fluid.core.Scope() #Scope指定作用域"
   ]
  },
  {
   "cell_type": "code",
   "execution_count": 32,
   "metadata": {
    "collapsed": false
   },
   "outputs": [],
   "source": [
    "infer_results=[]\r\n",
    "groud_truths=[]\r\n",
    "\r\n",
    "#绘制真实值和预测值对比图\r\n",
    "def draw_infer_result(groud_truths,infer_results):\r\n",
    "    title='Boston'\r\n",
    "    plt.title(title, fontsize=24)\r\n",
    "    x = np.arange(1,20) \r\n",
    "    y = x\r\n",
    "    plt.plot(x, y)\r\n",
    "    plt.xlabel('ground truth', fontsize=14)\r\n",
    "    plt.ylabel('infer result', fontsize=14)\r\n",
    "    plt.scatter(groud_truths, infer_results,color='green',label='training cost') \r\n",
    "    plt.grid()\r\n",
    "    plt.show()"
   ]
  },
  {
   "cell_type": "code",
   "execution_count": 33,
   "metadata": {
    "collapsed": false
   },
   "outputs": [
    {
     "name": "stderr",
     "output_type": "stream",
     "text": [
      "/opt/conda/envs/python35-paddle120-env/lib/python3.7/site-packages/ipykernel_launcher.py:9: DeprecationWarning: \u001b[93m\n",
      "Warning:\n",
      "API \"paddle.dataset.uci_housing.test\" is deprecated since 2.0.0, and will be removed in future versions. Please use \"paddle.text.datasets.UCIHousing\" instead.\n",
      "reason: Please use new dataset API which supports paddle.io.DataLoader \u001b[0m\n",
      "  if __name__ == '__main__':\n",
      "/opt/conda/envs/python35-paddle120-env/lib/python3.7/site-packages/matplotlib/font_manager.py:1331: UserWarning: findfont: Font family ['sans-serif'] not found. Falling back to DejaVu Sans\n",
      "  (prop.get_family(), self.defaultFamily[fontext]))\n"
     ]
    },
    {
     "name": "stdout",
     "output_type": "stream",
     "text": [
      "infer results: (House Price)\n",
      "0: 14.19\n",
      "1: 14.45\n",
      "2: 13.88\n",
      "3: 15.21\n",
      "4: 14.31\n",
      "5: 14.86\n",
      "6: 14.57\n",
      "7: 14.25\n",
      "8: 12.43\n",
      "9: 14.23\n",
      "10: 12.10\n",
      "11: 13.36\n",
      "12: 13.89\n",
      "13: 13.55\n",
      "14: 13.69\n",
      "15: 14.37\n",
      "16: 15.16\n",
      "17: 15.03\n",
      "18: 15.32\n",
      "19: 14.02\n",
      "20: 14.60\n",
      "21: 13.51\n",
      "22: 15.06\n",
      "23: 14.67\n",
      "24: 14.43\n",
      "25: 13.89\n",
      "26: 14.84\n",
      "27: 14.73\n",
      "28: 15.54\n",
      "29: 14.68\n",
      "30: 14.53\n",
      "31: 14.07\n",
      "32: 14.16\n",
      "33: 13.23\n",
      "34: 12.97\n",
      "35: 14.54\n",
      "36: 14.67\n",
      "37: 15.02\n",
      "38: 15.14\n",
      "39: 15.05\n",
      "40: 14.05\n",
      "41: 13.74\n",
      "42: 14.94\n",
      "43: 15.21\n",
      "44: 15.12\n",
      "45: 14.86\n",
      "46: 14.34\n",
      "47: 15.23\n",
      "48: 15.32\n",
      "49: 15.65\n",
      "50: 14.24\n",
      "51: 14.46\n",
      "52: 14.04\n",
      "53: 14.29\n",
      "54: 15.23\n",
      "55: 15.60\n",
      "56: 15.21\n",
      "57: 15.64\n",
      "58: 15.78\n",
      "59: 16.00\n",
      "60: 16.26\n",
      "61: 16.14\n",
      "62: 14.41\n",
      "63: 15.03\n",
      "64: 15.77\n",
      "65: 16.27\n",
      "66: 15.88\n",
      "67: 16.16\n",
      "68: 16.28\n",
      "69: 16.67\n",
      "70: 15.07\n",
      "71: 14.74\n",
      "72: 15.54\n",
      "73: 14.38\n",
      "74: 15.36\n",
      "75: 15.89\n",
      "76: 16.80\n",
      "77: 17.03\n",
      "78: 17.19\n",
      "79: 17.08\n",
      "80: 16.67\n",
      "81: 16.94\n",
      "82: 16.03\n",
      "83: 16.65\n",
      "84: 16.64\n",
      "85: 15.94\n",
      "86: 15.31\n",
      "87: 16.74\n",
      "88: 17.39\n",
      "89: 20.60\n",
      "90: 20.78\n",
      "91: 20.63\n",
      "92: 19.48\n",
      "93: 20.21\n",
      "94: 20.47\n",
      "95: 19.97\n",
      "96: 20.11\n",
      "97: 21.40\n",
      "98: 21.12\n",
      "99: 21.47\n",
      "100: 21.36\n",
      "101: 21.11\n",
      "ground truth:\n",
      "0: 8.50\n",
      "1: 5.00\n",
      "2: 11.90\n",
      "3: 27.90\n",
      "4: 17.20\n",
      "5: 27.50\n",
      "6: 15.00\n",
      "7: 17.20\n",
      "8: 17.90\n",
      "9: 16.30\n",
      "10: 7.00\n",
      "11: 7.20\n",
      "12: 7.50\n",
      "13: 10.40\n",
      "14: 8.80\n",
      "15: 8.40\n",
      "16: 16.70\n",
      "17: 14.20\n",
      "18: 20.80\n",
      "19: 13.40\n",
      "20: 11.70\n",
      "21: 8.30\n",
      "22: 10.20\n",
      "23: 10.90\n",
      "24: 11.00\n",
      "25: 9.50\n",
      "26: 14.50\n",
      "27: 14.10\n",
      "28: 16.10\n",
      "29: 14.30\n",
      "30: 11.70\n",
      "31: 13.40\n",
      "32: 9.60\n",
      "33: 8.70\n",
      "34: 8.40\n",
      "35: 12.80\n",
      "36: 10.50\n",
      "37: 17.10\n",
      "38: 18.40\n",
      "39: 15.40\n",
      "40: 10.80\n",
      "41: 11.80\n",
      "42: 14.90\n",
      "43: 12.60\n",
      "44: 14.10\n",
      "45: 13.00\n",
      "46: 13.40\n",
      "47: 15.20\n",
      "48: 16.10\n",
      "49: 17.80\n",
      "50: 14.90\n",
      "51: 14.10\n",
      "52: 12.70\n",
      "53: 13.50\n",
      "54: 14.90\n",
      "55: 20.00\n",
      "56: 16.40\n",
      "57: 17.70\n",
      "58: 19.50\n",
      "59: 20.20\n",
      "60: 21.40\n",
      "61: 19.90\n",
      "62: 19.00\n",
      "63: 19.10\n",
      "64: 19.10\n",
      "65: 20.10\n",
      "66: 19.90\n",
      "67: 19.60\n",
      "68: 23.20\n",
      "69: 29.80\n",
      "70: 13.80\n",
      "71: 13.30\n",
      "72: 16.70\n",
      "73: 12.00\n",
      "74: 14.60\n",
      "75: 21.40\n",
      "76: 23.00\n",
      "77: 23.70\n",
      "78: 25.00\n",
      "79: 21.80\n",
      "80: 20.60\n",
      "81: 21.20\n",
      "82: 19.10\n",
      "83: 20.60\n",
      "84: 15.20\n",
      "85: 7.00\n",
      "86: 8.10\n",
      "87: 13.60\n",
      "88: 20.10\n",
      "89: 21.80\n",
      "90: 24.50\n",
      "91: 23.10\n",
      "92: 19.70\n",
      "93: 18.30\n",
      "94: 21.20\n",
      "95: 17.50\n",
      "96: 16.80\n",
      "97: 22.40\n",
      "98: 20.60\n",
      "99: 23.90\n",
      "100: 22.00\n",
      "101: 11.90\n"
     ]
    },
    {
     "data": {
      "image/png": "[encoded data removed]",
      "text/plain": [
       "<Figure size 432x288 with 1 Axes>"
      ]
     },
     "metadata": {},
     "output_type": "display_data"
    }
   ],
   "source": [
    "with fluid.scope_guard(inference_scope):#修改全局/默认作用域（scope）, 运行时中的所有变量都将分配给新的scope。\r\n",
    "    #从指定目录中加载 推理model(inference model)\r\n",
    "    [inference_program,                             #推理的program\r\n",
    "     feed_target_names,                             #需要在推理program中提供数据的变量名称\r\n",
    "     fetch_targets] = fluid.io.load_inference_model(#fetch_targets: 推断结果\r\n",
    "                                    model_save_dir, #model_save_dir:模型训练路径 \r\n",
    "                                    infer_exe)      #infer_exe: 预测用executor\r\n",
    "    #获取预测数据\r\n",
    "    infer_reader = paddle.batch(paddle.dataset.uci_housing.test(),  #获取uci_housing的测试数据\r\n",
    "                          batch_size=200)                           #从测试数据中读取一个大小为200的batch数据\r\n",
    "    #从test_reader中分割x\r\n",
    "    test_data = next(infer_reader())\r\n",
    "    test_x = np.array([data[0] for data in test_data]).astype(\"float32\")\r\n",
    "    test_y= np.array([data[1] for data in test_data]).astype(\"float32\")\r\n",
    "    results = infer_exe.run(inference_program,                              #预测模型\r\n",
    "                            feed={feed_target_names[0]: np.array(test_x)},  #喂入要预测的x值\r\n",
    "                            fetch_list=fetch_targets)                       #得到推测结果 \r\n",
    "                            \r\n",
    "    print(\"infer results: (House Price)\")\r\n",
    "    for idx, val in enumerate(results[0]):\r\n",
    "        print(\"%d: %.2f\" % (idx, val))\r\n",
    "        infer_results.append(val)\r\n",
    "    print(\"ground truth:\")\r\n",
    "    for idx, val in enumerate(test_y):\r\n",
    "        print(\"%d: %.2f\" % (idx, val))\r\n",
    "        groud_truths.append(val)\r\n",
    "    draw_infer_result(groud_truths,infer_results)"
   ]
  },
  {
   "cell_type": "code",
   "execution_count": null,
   "metadata": {
    "collapsed": false
   },
   "outputs": [],
   "source": []
  },
  {
   "cell_type": "code",
   "execution_count": null,
   "metadata": {
    "collapsed": false
   },
   "outputs": [],
   "source": []
  },
  {
   "cell_type": "code",
   "execution_count": null,
   "metadata": {
    "collapsed": false
   },
   "outputs": [],
   "source": []
  }
 ],
 "metadata": {
  "kernelspec": {
   "display_name": "PaddlePaddle 2.1.0 (Python 3.5)",
   "language": "python",
   "name": "py35-paddle1.2.0"
  },
  "language_info": {
   "codemirror_mode": {
    "name": "ipython",
    "version": 3
   },
   "file_extension": ".py",
   "mimetype": "text/x-python",
   "name": "python",
   "nbconvert_exporter": "python",
   "pygments_lexer": "ipython3",
   "version": "3.7.4"
  }
 },
 "nbformat": 4,
 "nbformat_minor": 1
}
