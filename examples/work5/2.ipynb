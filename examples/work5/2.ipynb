{
 "cells": [
  {
   "cell_type": "markdown",
   "metadata": {
    "collapsed": false
   },
   "source": [
    "\n",
    "<div class=\"ai-np-markdown-cell-content\"><h2>CBOW的算法实现</h2>\n",
    "<p>对比Skip-gram，CBOW和Skip-gram的算法实现如 <strong>图1</strong> 所示。\n",
    "<br><br>\n",
    "<p>如 <strong>图1</strong> 所示，CBOW是一个具有3层结构的神经网络，分别是：</p>\n",
    "<ul>\n",
    "<li><strong>Input Layer（输入层）</strong>：接收one-hot张量 <span class=\"katex\"><span class=\"katex-mathml\"><math xmlns=\"http://www.w3.org/1998/Math/MathML\"><mrow><mi>V</mi><mo>∈</mo><msup><mi>R</mi><mrow><mn>1</mn><mo>×</mo><mtext>vocab_size</mtext></mrow></msup></mrow>V \\in R^{1 \\times \\text{vocab\\_size}}</math></span><span aria-hidden=\"true\" class=\"katex-html\"><span class=\"base\"><span style=\"height:0.72243em;vertical-align:-0.0391em;\" class=\"strut\"></span><span style=\"margin-right:0.22222em;\" class=\"mord mathnormal\">V</span><span style=\"margin-right:0.2777777777777778em;\" class=\"mspace\"></span><span class=\"mrel\">∈</span><span style=\"margin-right:0.2777777777777778em;\" class=\"mspace\"></span></span><span class=\"base\"><span style=\"height:0.849108em;vertical-align:0em;\" class=\"strut\"></span><span class=\"mord\"><span style=\"margin-right:0.00773em;\" class=\"mord mathnormal\">R</span><span class=\"msupsub\"><span class=\"vlist-t\"><span class=\"vlist-r\"><span style=\"height:0.849108em;\" class=\"vlist\"><span style=\"top:-3.063em;margin-right:0.05em;\"><span style=\"height:2.7em;\" class=\"pstrut\"></span><span class=\"sizing reset-size6 size3 mtight\"><span class=\"mord mtight\"><span class=\"mord mtight\">1</span><span class=\"mbin mtight\">×</span><span class=\"mord text mtight\"><span class=\"mord mtight\">vocab_size</span></span></span></span></span></span></span></span></span></span></span></span></span> 作为网络的输入，里面存储着当前句子中上下文单词的one-hot表示。</li>\n",
    "<li><strong>Hidden Layer（隐藏层）</strong>：将张量<span class=\"katex\"><span class=\"katex-mathml\"><math xmlns=\"http://www.w3.org/1998/Math/MathML\"><mrow><mi>V</mi></mrow>V</math></span><span aria-hidden=\"true\" class=\"katex-html\"><span class=\"base\"><span style=\"height:0.68333em;vertical-align:0em;\" class=\"strut\"></span><span style=\"margin-right:0.22222em;\" class=\"mord mathnormal\">V</span></span></span></span>乘以一个word embedding张量<span class=\"katex\"><span class=\"katex-mathml\"><math xmlns=\"http://www.w3.org/1998/Math/MathML\"><mrow><msup><mi>W</mi><mn>1</mn></msup><mo>∈</mo><msup><mi>R</mi><mrow><mtext>vocab_size</mtext><mo>×</mo><mtext>embed_size</mtext></mrow></msup></mrow>W^1 \\in R^{\\text{vocab\\_size} \\times \\text{embed\\_size}}</math></span><span aria-hidden=\"true\" class=\"katex-html\"><span class=\"base\"><span style=\"height:0.853208em;vertical-align:-0.0391em;\" class=\"strut\"></span><span class=\"mord\"><span style=\"margin-right:0.13889em;\" class=\"mord mathnormal\">W</span><span class=\"msupsub\"><span class=\"vlist-t\"><span class=\"vlist-r\"><span style=\"height:0.8141079999999999em;\" class=\"vlist\"><span style=\"top:-3.063em;margin-right:0.05em;\"><span style=\"height:2.7em;\" class=\"pstrut\"></span><span class=\"sizing reset-size6 size3 mtight\"><span class=\"mord mtight\">1</span></span></span></span></span></span></span></span><span style=\"margin-right:0.2777777777777778em;\" class=\"mspace\"></span><span class=\"mrel\">∈</span><span style=\"margin-right:0.2777777777777778em;\" class=\"mspace\"></span></span><span class=\"base\"><span style=\"height:0.849108em;vertical-align:0em;\" class=\"strut\"></span><span class=\"mord\"><span style=\"margin-right:0.00773em;\" class=\"mord mathnormal\">R</span><span class=\"msupsub\"><span class=\"vlist-t\"><span class=\"vlist-r\"><span style=\"height:0.849108em;\" class=\"vlist\"><span style=\"top:-3.063em;margin-right:0.05em;\"><span style=\"height:2.7em;\" class=\"pstrut\"></span><span class=\"sizing reset-size6 size3 mtight\"><span class=\"mord mtight\"><span class=\"mord text mtight\"><span class=\"mord mtight\">vocab_size</span></span><span class=\"mbin mtight\">×</span><span class=\"mord text mtight\"><span class=\"mord mtight\">embed_size</span></span></span></span></span></span></span></span></span></span></span></span></span>，并把结果作为隐藏层的输出，得到一个形状为<span class=\"katex\"><span class=\"katex-mathml\"><math xmlns=\"http://www.w3.org/1998/Math/MathML\"><mrow><msup><mi>R</mi><mrow><mn>1</mn><mo>×</mo><mtext>embed_size</mtext></mrow></msup></mrow>R^{1 \\times \\text{embed\\_size}}</math></span><span aria-hidden=\"true\" class=\"katex-html\"><span class=\"base\"><span style=\"height:0.849108em;vertical-align:0em;\" class=\"strut\"></span><span class=\"mord\"><span style=\"margin-right:0.00773em;\" class=\"mord mathnormal\">R</span><span class=\"msupsub\"><span class=\"vlist-t\"><span class=\"vlist-r\"><span style=\"height:0.849108em;\" class=\"vlist\"><span style=\"top:-3.063em;margin-right:0.05em;\"><span style=\"height:2.7em;\" class=\"pstrut\"></span><span class=\"sizing reset-size6 size3 mtight\"><span class=\"mord mtight\"><span class=\"mord mtight\">1</span><span class=\"mbin mtight\">×</span><span class=\"mord text mtight\"><span class=\"mord mtight\">embed_size</span></span></span></span></span></span></span></span></span></span></span></span></span>的张量，里面存储着当前句子上下文的词向量。</li>\n",
    "<li><strong>Output Layer（输出层）</strong>：将隐藏层的结果乘以另一个word embedding张量<span class=\"katex\"><span class=\"katex-mathml\"><math xmlns=\"http://www.w3.org/1998/Math/MathML\"><mrow><msup><mi>W</mi><mn>2</mn></msup><mo>∈</mo><msup><mi>R</mi><mrow><mtext>embed_size</mtext><mo>×</mo><mtext>vocab_size</mtext></mrow></msup></mrow>W^2 \\in R^{\\text{embed\\_size} \\times \\text{vocab\\_size}}</math></span><span aria-hidden=\"true\" class=\"katex-html\"><span class=\"base\"><span style=\"height:0.853208em;vertical-align:-0.0391em;\" class=\"strut\"></span><span class=\"mord\"><span style=\"margin-right:0.13889em;\" class=\"mord mathnormal\">W</span><span class=\"msupsub\"><span class=\"vlist-t\"><span class=\"vlist-r\"><span style=\"height:0.8141079999999999em;\" class=\"vlist\"><span style=\"top:-3.063em;margin-right:0.05em;\"><span style=\"height:2.7em;\" class=\"pstrut\"></span><span class=\"sizing reset-size6 size3 mtight\"><span class=\"mord mtight\">2</span></span></span></span></span></span></span></span><span style=\"margin-right:0.2777777777777778em;\" class=\"mspace\"></span><span class=\"mrel\">∈</span><span style=\"margin-right:0.2777777777777778em;\" class=\"mspace\"></span></span><span class=\"base\"><span style=\"height:0.849108em;vertical-align:0em;\" class=\"strut\"></span><span class=\"mord\"><span style=\"margin-right:0.00773em;\" class=\"mord mathnormal\">R</span><span class=\"msupsub\"><span class=\"vlist-t\"><span class=\"vlist-r\"><span style=\"height:0.849108em;\" class=\"vlist\"><span style=\"top:-3.063em;margin-right:0.05em;\"><span style=\"height:2.7em;\" class=\"pstrut\"></span><span class=\"sizing reset-size6 size3 mtight\"><span class=\"mord mtight\"><span class=\"mord text mtight\"><span class=\"mord mtight\">embed_size</span></span><span class=\"mbin mtight\">×</span><span class=\"mord text mtight\"><span class=\"mord mtight\">vocab_size</span></span></span></span></span></span></span></span></span></span></span></span></span>，得到一个形状为<span class=\"katex\"><span class=\"katex-mathml\"><math xmlns=\"http://www.w3.org/1998/Math/MathML\"><mrow><msup><mi>R</mi><mrow><mn>1</mn><mo>×</mo><mtext>vocab_size</mtext></mrow></msup></mrow>R^{1 \\times \\text{vocab\\_size}}</math></span><span aria-hidden=\"true\" class=\"katex-html\"><span class=\"base\"><span style=\"height:0.849108em;vertical-align:0em;\" class=\"strut\"></span><span class=\"mord\"><span style=\"margin-right:0.00773em;\" class=\"mord mathnormal\">R</span><span class=\"msupsub\"><span class=\"vlist-t\"><span class=\"vlist-r\"><span style=\"height:0.849108em;\" class=\"vlist\"><span style=\"top:-3.063em;margin-right:0.05em;\"><span style=\"height:2.7em;\" class=\"pstrut\"></span><span class=\"sizing reset-size6 size3 mtight\"><span class=\"mord mtight\"><span class=\"mord mtight\">1</span><span class=\"mbin mtight\">×</span><span class=\"mord text mtight\"><span class=\"mord mtight\">vocab_size</span></span></span></span></span></span></span></span></span></span></span></span></span>的张量。这个张量经过softmax变换后，就得到了使用当前上下文对中心的预测结果。根据这个softmax的结果，我们就可以去训练词向量模型。</li>\n",
    "</ul>\n",
    "<p>在实际操作中，使用一个滑动窗口（一般情况下，长度是奇数），从左到右开始扫描当前句子。每个扫描出来的片段被当成一个小句子，每个小句子中间的词被认为是中心词，其余的词被认为是这个中心词的上下文。</p>\n",
    "<p>CBOW算法和skip-gram算法最本质的区别就是：<strong>CBOW算法是以上下文预测中心词，而skip-gram算法是以中心城预测上下文。</strong></p>\n",
    "<h3>CBOW的理想实现</h3>\n",
    "<p>使用神经网络实现CBOW中，模型接收的输入应该有2个不同的tensor：</p>\n",
    "<ul>\n",
    "<li>\n",
    "<p>代表当前上下文的tensor：假设我们称之为context_words <span class=\"katex\"><span class=\"katex-mathml\"><math xmlns=\"http://www.w3.org/1998/Math/MathML\"><mrow><mi>V</mi></mrow>V</math></span><span aria-hidden=\"true\" class=\"katex-html\"><span class=\"base\"><span style=\"height:0.68333em;vertical-align:0em;\" class=\"strut\"></span><span style=\"margin-right:0.22222em;\" class=\"mord mathnormal\">V</span></span></span></span>，一般来说，这个tensor是一个形状为[batch_size, vocab_size]的one-hot tensor，表示在一个mini-batch中，每组上下文中每一个单词的ID。</p>\n",
    "</li>\n",
    "<li>\n",
    "<p>代表目标词的tensor：假设我们称之为target_words <span class=\"katex\"><span class=\"katex-mathml\"><math xmlns=\"http://www.w3.org/1998/Math/MathML\"><mrow><mi>T</mi></mrow>T</math></span><span aria-hidden=\"true\" class=\"katex-html\"><span class=\"base\"><span style=\"height:0.68333em;vertical-align:0em;\" class=\"strut\"></span><span style=\"margin-right:0.13889em;\" class=\"mord mathnormal\">T</span></span></span></span>，一般来说，这个tensor是一个形状为[batch_size, 1]的整型tensor，这个tensor中的每个元素是一个[0, vocab_size-1]的值，代表目标词的ID。</p>\n",
    "</li>\n",
    "</ul>\n",
    "<p>在理想情况下，我们可以这样实现CBOW：把上下文中的每一个单词，依次作为输入，把当前句子中的中心词作为标签，构建神经网络进行学习，实现上下文预测中心词。具体过程如下：</p>\n",
    "<ol>\n",
    "<li>声明一个形状为[vocab_size, embedding_size]的张量，作为需要学习的词向量，记为<span class=\"katex\"><span class=\"katex-mathml\"><math xmlns=\"http://www.w3.org/1998/Math/MathML\"><mrow><msub><mi>W</mi><mn>0</mn></msub></mrow>W_0</math></span><span aria-hidden=\"true\" class=\"katex-html\"><span class=\"base\"><span style=\"height:0.83333em;vertical-align:-0.15em;\" class=\"strut\"></span><span class=\"mord\"><span style=\"margin-right:0.13889em;\" class=\"mord mathnormal\">W</span><span class=\"msupsub\"><span class=\"vlist-t vlist-t2\"><span class=\"vlist-r\"><span style=\"height:0.30110799999999993em;\" class=\"vlist\"><span style=\"top:-2.5500000000000003em;margin-left:-0.13889em;margin-right:0.05em;\"><span style=\"height:2.7em;\" class=\"pstrut\"></span><span class=\"sizing reset-size6 size3 mtight\"><span class=\"mord mtight\">0</span></span></span></span><span class=\"vlist-s\">​</span></span><span class=\"vlist-r\"><span style=\"height:0.15em;\" class=\"vlist\"><span></span></span></span></span></span></span></span></span></span>。对于给定的输入<span class=\"katex\"><span class=\"katex-mathml\"><math xmlns=\"http://www.w3.org/1998/Math/MathML\"><mrow><mi>V</mi></mrow>V</math></span><span aria-hidden=\"true\" class=\"katex-html\"><span class=\"base\"><span style=\"height:0.68333em;vertical-align:0em;\" class=\"strut\"></span><span style=\"margin-right:0.22222em;\" class=\"mord mathnormal\">V</span></span></span></span>，即某一个上下文的单词，使用向量乘法，将<span class=\"katex\"><span class=\"katex-mathml\"><math xmlns=\"http://www.w3.org/1998/Math/MathML\"><mrow><mi>V</mi></mrow>V</math></span><span aria-hidden=\"true\" class=\"katex-html\"><span class=\"base\"><span style=\"height:0.68333em;vertical-align:0em;\" class=\"strut\"></span><span style=\"margin-right:0.22222em;\" class=\"mord mathnormal\">V</span></span></span></span>乘以<span class=\"katex\"><span class=\"katex-mathml\"><math xmlns=\"http://www.w3.org/1998/Math/MathML\"><mrow><msub><mi>W</mi><mn>0</mn></msub></mrow>W_0</math></span><span aria-hidden=\"true\" class=\"katex-html\"><span class=\"base\"><span style=\"height:0.83333em;vertical-align:-0.15em;\" class=\"strut\"></span><span class=\"mord\"><span style=\"margin-right:0.13889em;\" class=\"mord mathnormal\">W</span><span class=\"msupsub\"><span class=\"vlist-t vlist-t2\"><span class=\"vlist-r\"><span style=\"height:0.30110799999999993em;\" class=\"vlist\"><span style=\"top:-2.5500000000000003em;margin-left:-0.13889em;margin-right:0.05em;\"><span style=\"height:2.7em;\" class=\"pstrut\"></span><span class=\"sizing reset-size6 size3 mtight\"><span class=\"mord mtight\">0</span></span></span></span><span class=\"vlist-s\">​</span></span><span class=\"vlist-r\"><span style=\"height:0.15em;\" class=\"vlist\"><span></span></span></span></span></span></span></span></span></span>，这样就得到了一个形状为[batch_size, embedding_size]的张量，记为<span class=\"katex\"><span class=\"katex-mathml\"><math xmlns=\"http://www.w3.org/1998/Math/MathML\"><mrow><mi>H</mi><mo>=</mo><mi>V</mi><mo>∗</mo><msub><mi>W</mi><mn>0</mn></msub></mrow>H=V*W_0</math></span><span aria-hidden=\"true\" class=\"katex-html\"><span class=\"base\"><span style=\"height:0.68333em;vertical-align:0em;\" class=\"strut\"></span><span style=\"margin-right:0.08125em;\" class=\"mord mathnormal\">H</span><span style=\"margin-right:0.2777777777777778em;\" class=\"mspace\"></span><span class=\"mrel\">=</span><span style=\"margin-right:0.2777777777777778em;\" class=\"mspace\"></span></span><span class=\"base\"><span style=\"height:0.68333em;vertical-align:0em;\" class=\"strut\"></span><span style=\"margin-right:0.22222em;\" class=\"mord mathnormal\">V</span><span style=\"margin-right:0.2222222222222222em;\" class=\"mspace\"></span><span class=\"mbin\">∗</span><span style=\"margin-right:0.2222222222222222em;\" class=\"mspace\"></span></span><span class=\"base\"><span style=\"height:0.83333em;vertical-align:-0.15em;\" class=\"strut\"></span><span class=\"mord\"><span style=\"margin-right:0.13889em;\" class=\"mord mathnormal\">W</span><span class=\"msupsub\"><span class=\"vlist-t vlist-t2\"><span class=\"vlist-r\"><span style=\"height:0.30110799999999993em;\" class=\"vlist\"><span style=\"top:-2.5500000000000003em;margin-left:-0.13889em;margin-right:0.05em;\"><span style=\"height:2.7em;\" class=\"pstrut\"></span><span class=\"sizing reset-size6 size3 mtight\"><span class=\"mord mtight\">0</span></span></span></span><span class=\"vlist-s\">​</span></span><span class=\"vlist-r\"><span style=\"height:0.15em;\" class=\"vlist\"><span></span></span></span></span></span></span></span></span></span>。这个张量<span class=\"katex\"><span class=\"katex-mathml\"><math xmlns=\"http://www.w3.org/1998/Math/MathML\"><mrow><mi>H</mi></mrow>H</math></span><span aria-hidden=\"true\" class=\"katex-html\"><span class=\"base\"><span style=\"height:0.68333em;vertical-align:0em;\" class=\"strut\"></span><span style=\"margin-right:0.08125em;\" class=\"mord mathnormal\">H</span></span></span></span>就可以看成是经过词向量查表后的结果。</li>\n",
    "<li>声明另外一个需要学习的参数<span class=\"katex\"><span class=\"katex-mathml\"><math xmlns=\"http://www.w3.org/1998/Math/MathML\"><mrow><msub><mi>W</mi><mn>1</mn></msub></mrow>W_1</math></span><span aria-hidden=\"true\" class=\"katex-html\"><span class=\"base\"><span style=\"height:0.83333em;vertical-align:-0.15em;\" class=\"strut\"></span><span class=\"mord\"><span style=\"margin-right:0.13889em;\" class=\"mord mathnormal\">W</span><span class=\"msupsub\"><span class=\"vlist-t vlist-t2\"><span class=\"vlist-r\"><span style=\"height:0.30110799999999993em;\" class=\"vlist\"><span style=\"top:-2.5500000000000003em;margin-left:-0.13889em;margin-right:0.05em;\"><span style=\"height:2.7em;\" class=\"pstrut\"></span><span class=\"sizing reset-size6 size3 mtight\"><span class=\"mord mtight\">1</span></span></span></span><span class=\"vlist-s\">​</span></span><span class=\"vlist-r\"><span style=\"height:0.15em;\" class=\"vlist\"><span></span></span></span></span></span></span></span></span></span>，这个参数的形状为[embedding_size, vocab_size]。将上一步得到的<span class=\"katex\"><span class=\"katex-mathml\"><math xmlns=\"http://www.w3.org/1998/Math/MathML\"><mrow><mi>H</mi></mrow>H</math></span><span aria-hidden=\"true\" class=\"katex-html\"><span class=\"base\"><span style=\"height:0.68333em;vertical-align:0em;\" class=\"strut\"></span><span style=\"margin-right:0.08125em;\" class=\"mord mathnormal\">H</span></span></span></span>去乘以<span class=\"katex\"><span class=\"katex-mathml\"><math xmlns=\"http://www.w3.org/1998/Math/MathML\"><mrow><msub><mi>W</mi><mn>1</mn></msub></mrow>W_1</math></span><span aria-hidden=\"true\" class=\"katex-html\"><span class=\"base\"><span style=\"height:0.83333em;vertical-align:-0.15em;\" class=\"strut\"></span><span class=\"mord\"><span style=\"margin-right:0.13889em;\" class=\"mord mathnormal\">W</span><span class=\"msupsub\"><span class=\"vlist-t vlist-t2\"><span class=\"vlist-r\"><span style=\"height:0.30110799999999993em;\" class=\"vlist\"><span style=\"top:-2.5500000000000003em;margin-left:-0.13889em;margin-right:0.05em;\"><span style=\"height:2.7em;\" class=\"pstrut\"></span><span class=\"sizing reset-size6 size3 mtight\"><span class=\"mord mtight\">1</span></span></span></span><span class=\"vlist-s\">​</span></span><span class=\"vlist-r\"><span style=\"height:0.15em;\" class=\"vlist\"><span></span></span></span></span></span></span></span></span></span>，得到一个新的tensor <span class=\"katex\"><span class=\"katex-mathml\"><math xmlns=\"http://www.w3.org/1998/Math/MathML\"><mrow><mi>O</mi><mo>=</mo><mi>H</mi><mo>∗</mo><msub><mi>W</mi><mn>1</mn></msub></mrow>O=H*W_1</math></span><span aria-hidden=\"true\" class=\"katex-html\"><span class=\"base\"><span style=\"height:0.68333em;vertical-align:0em;\" class=\"strut\"></span><span style=\"margin-right:0.02778em;\" class=\"mord mathnormal\">O</span><span style=\"margin-right:0.2777777777777778em;\" class=\"mspace\"></span><span class=\"mrel\">=</span><span style=\"margin-right:0.2777777777777778em;\" class=\"mspace\"></span></span><span class=\"base\"><span style=\"height:0.68333em;vertical-align:0em;\" class=\"strut\"></span><span style=\"margin-right:0.08125em;\" class=\"mord mathnormal\">H</span><span style=\"margin-right:0.2222222222222222em;\" class=\"mspace\"></span><span class=\"mbin\">∗</span><span style=\"margin-right:0.2222222222222222em;\" class=\"mspace\"></span></span><span class=\"base\"><span style=\"height:0.83333em;vertical-align:-0.15em;\" class=\"strut\"></span><span class=\"mord\"><span style=\"margin-right:0.13889em;\" class=\"mord mathnormal\">W</span><span class=\"msupsub\"><span class=\"vlist-t vlist-t2\"><span class=\"vlist-r\"><span style=\"height:0.30110799999999993em;\" class=\"vlist\"><span style=\"top:-2.5500000000000003em;margin-left:-0.13889em;margin-right:0.05em;\"><span style=\"height:2.7em;\" class=\"pstrut\"></span><span class=\"sizing reset-size6 size3 mtight\"><span class=\"mord mtight\">1</span></span></span></span><span class=\"vlist-s\">​</span></span><span class=\"vlist-r\"><span style=\"height:0.15em;\" class=\"vlist\"><span></span></span></span></span></span></span></span></span></span>，此时的<span class=\"katex\"><span class=\"katex-mathml\"><math xmlns=\"http://www.w3.org/1998/Math/MathML\"><mrow><mi>O</mi></mrow>O</math></span><span aria-hidden=\"true\" class=\"katex-html\"><span class=\"base\"><span style=\"height:0.68333em;vertical-align:0em;\" class=\"strut\"></span><span style=\"margin-right:0.02778em;\" class=\"mord mathnormal\">O</span></span></span></span>是一个形状为[batch_size, vocab_size]的tensor，表示当前这个mini-batch中的每一组上下文中的每一个单词预测出的目标词的概率。</li>\n",
    "<li>使用softmax函数对mini-batch中每个中心词的预测结果做归一化，即可完成网络构建。</li>\n",
    "</ol>\n",
    "<h3>CBOW的实际实现</h3>\n",
    "<p>和课程中讲解的skip-gram一样，在实际中，为避免过于庞大的计算量，我们通常采用负采样的方法，来避免查询整个此表，从而将多分类问题转换为二分类问题。具体实现过程<strong>如图2</strong>：</p>\n",
    "<center><p><img alt=\"\" src=\"https://ai-studio-static-online.cdn.bcebos.com/a572953b845d4c91bdf6b7b475e7b4437bee69bd60024eb2b8c46f56adf2bdef\"></p></center>\n",
    "<center><br>图2 CBOW算法的实际实现<br></center>\n",
    "<br><br>\n",
    "<p>在实现的过程中，通常会让模型接收3个tensor输入：</p>\n",
    "<ul>\n",
    "<li>\n",
    "<p>代表上下文单词的tensor：假设我们称之为context_words <span class=\"katex\"><span class=\"katex-mathml\"><math xmlns=\"http://www.w3.org/1998/Math/MathML\"><mrow><mi>V</mi></mrow>V</math></span><span aria-hidden=\"true\" class=\"katex-html\"><span class=\"base\"><span style=\"height:0.68333em;vertical-align:0em;\" class=\"strut\"></span><span style=\"margin-right:0.22222em;\" class=\"mord mathnormal\">V</span></span></span></span>，一般来说，这个tensor是一个形状为[batch_size, vocab_size]的one-hot tensor，表示在一个mini-batch中每个中心词具体的ID。</p>\n",
    "</li>\n",
    "<li>\n",
    "<p>代表目标词的tensor：假设我们称之为target_words <span class=\"katex\"><span class=\"katex-mathml\"><math xmlns=\"http://www.w3.org/1998/Math/MathML\"><mrow><mi>T</mi></mrow>T</math></span><span aria-hidden=\"true\" class=\"katex-html\"><span class=\"base\"><span style=\"height:0.68333em;vertical-align:0em;\" class=\"strut\"></span><span style=\"margin-right:0.13889em;\" class=\"mord mathnormal\">T</span></span></span></span>，一般来说，这个tensor同样是一个形状为[batch_size, vocab_size]的one-hot tensor，表示在一个mini-batch中每个目标词具体的ID。</p>\n",
    "</li>\n",
    "<li>\n",
    "<p>代表目标词标签的tensor：假设我们称之为labels <span class=\"katex\"><span class=\"katex-mathml\"><math xmlns=\"http://www.w3.org/1998/Math/MathML\"><mrow><mi>L</mi></mrow>L</math></span><span aria-hidden=\"true\" class=\"katex-html\"><span class=\"base\"><span style=\"height:0.68333em;vertical-align:0em;\" class=\"strut\"></span><span class=\"mord mathnormal\">L</span></span></span></span>，一般来说，这个tensor是一个形状为[batch_size, 1]的tensor，每个元素不是0就是1（0：负样本，1：正样本）。</p>\n",
    "</li>\n",
    "</ul>\n",
    "<p>模型训练过程如下：</p>\n",
    "<ol>\n",
    "<li>首先遍历上下文，得到上下文中的一个单词，用<span class=\"katex\"><span class=\"katex-mathml\"><math xmlns=\"http://www.w3.org/1998/Math/MathML\"><mrow><mi>V</mi></mrow>V</math></span><span aria-hidden=\"true\" class=\"katex-html\"><span class=\"base\"><span style=\"height:0.68333em;vertical-align:0em;\" class=\"strut\"></span><span style=\"margin-right:0.22222em;\" class=\"mord mathnormal\">V</span></span></span></span>（上下文）去查询<span class=\"katex\"><span class=\"katex-mathml\"><math xmlns=\"http://www.w3.org/1998/Math/MathML\"><mrow><msub><mi>W</mi><mn>0</mn></msub></mrow>W_0</math></span><span aria-hidden=\"true\" class=\"katex-html\"><span class=\"base\"><span style=\"height:0.83333em;vertical-align:-0.15em;\" class=\"strut\"></span><span class=\"mord\"><span style=\"margin-right:0.13889em;\" class=\"mord mathnormal\">W</span><span class=\"msupsub\"><span class=\"vlist-t vlist-t2\"><span class=\"vlist-r\"><span style=\"height:0.30110799999999993em;\" class=\"vlist\"><span style=\"top:-2.5500000000000003em;margin-left:-0.13889em;margin-right:0.05em;\"><span style=\"height:2.7em;\" class=\"pstrut\"></span><span class=\"sizing reset-size6 size3 mtight\"><span class=\"mord mtight\">0</span></span></span></span><span class=\"vlist-s\">​</span></span><span class=\"vlist-r\"><span style=\"height:0.15em;\" class=\"vlist\"><span></span></span></span></span></span></span></span></span></span>，用<span class=\"katex\"><span class=\"katex-mathml\"><math xmlns=\"http://www.w3.org/1998/Math/MathML\"><mrow><mi>T</mi></mrow>T</math></span><span aria-hidden=\"true\" class=\"katex-html\"><span class=\"base\"><span style=\"height:0.68333em;vertical-align:0em;\" class=\"strut\"></span><span style=\"margin-right:0.13889em;\" class=\"mord mathnormal\">T</span></span></span></span>（目标词）去查询<span class=\"katex\"><span class=\"katex-mathml\"><math xmlns=\"http://www.w3.org/1998/Math/MathML\"><mrow><msub><mi>W</mi><mn>1</mn></msub></mrow>W_1</math></span><span aria-hidden=\"true\" class=\"katex-html\"><span class=\"base\"><span style=\"height:0.83333em;vertical-align:-0.15em;\" class=\"strut\"></span><span class=\"mord\"><span style=\"margin-right:0.13889em;\" class=\"mord mathnormal\">W</span><span class=\"msupsub\"><span class=\"vlist-t vlist-t2\"><span class=\"vlist-r\"><span style=\"height:0.30110799999999993em;\" class=\"vlist\"><span style=\"top:-2.5500000000000003em;margin-left:-0.13889em;margin-right:0.05em;\"><span style=\"height:2.7em;\" class=\"pstrut\"></span><span class=\"sizing reset-size6 size3 mtight\"><span class=\"mord mtight\">1</span></span></span></span><span class=\"vlist-s\">​</span></span><span class=\"vlist-r\"><span style=\"height:0.15em;\" class=\"vlist\"><span></span></span></span></span></span></span></span></span></span>，分别得到两个形状为[batch_size, embedding_size]的tensor，记为<span class=\"katex\"><span class=\"katex-mathml\"><math xmlns=\"http://www.w3.org/1998/Math/MathML\"><mrow><msub><mi>H</mi><mn>1</mn></msub></mrow>H_1</math></span><span aria-hidden=\"true\" class=\"katex-html\"><span class=\"base\"><span style=\"height:0.83333em;vertical-align:-0.15em;\" class=\"strut\"></span><span class=\"mord\"><span style=\"margin-right:0.08125em;\" class=\"mord mathnormal\">H</span><span class=\"msupsub\"><span class=\"vlist-t vlist-t2\"><span class=\"vlist-r\"><span style=\"height:0.30110799999999993em;\" class=\"vlist\"><span style=\"top:-2.5500000000000003em;margin-left:-0.08125em;margin-right:0.05em;\"><span style=\"height:2.7em;\" class=\"pstrut\"></span><span class=\"sizing reset-size6 size3 mtight\"><span class=\"mord mtight\">1</span></span></span></span><span class=\"vlist-s\">​</span></span><span class=\"vlist-r\"><span style=\"height:0.15em;\" class=\"vlist\"><span></span></span></span></span></span></span></span></span></span>和<span class=\"katex\"><span class=\"katex-mathml\"><math xmlns=\"http://www.w3.org/1998/Math/MathML\"><mrow><msub><mi>H</mi><mn>2</mn></msub></mrow>H_2</math></span><span aria-hidden=\"true\" class=\"katex-html\"><span class=\"base\"><span style=\"height:0.83333em;vertical-align:-0.15em;\" class=\"strut\"></span><span class=\"mord\"><span style=\"margin-right:0.08125em;\" class=\"mord mathnormal\">H</span><span class=\"msupsub\"><span class=\"vlist-t vlist-t2\"><span class=\"vlist-r\"><span style=\"height:0.30110799999999993em;\" class=\"vlist\"><span style=\"top:-2.5500000000000003em;margin-left:-0.08125em;margin-right:0.05em;\"><span style=\"height:2.7em;\" class=\"pstrut\"></span><span class=\"sizing reset-size6 size3 mtight\"><span class=\"mord mtight\">2</span></span></span></span><span class=\"vlist-s\">​</span></span><span class=\"vlist-r\"><span style=\"height:0.15em;\" class=\"vlist\"><span></span></span></span></span></span></span></span></span></span>。</li>\n",
    "<li>点乘这两个tensor，最终得到一个形状为[batch_size]的tensor  <span class=\"katex\"><span class=\"katex-mathml\"><math xmlns=\"http://www.w3.org/1998/Math/MathML\"><mrow><mi>O</mi><mo>=</mo><mo stretchy=\"false\">[</mo><msub><mi>O</mi><mi>i</mi></msub><mo>=</mo><msub><mo>∑</mo><mi>j</mi></msub><msub><mi>H</mi><mn>0</mn></msub><mo stretchy=\"false\">[</mo><mi>i</mi><mo separator=\"true\">,</mo><mi>j</mi><mo stretchy=\"false\">]</mo><mo>∗</mo><msub><mi>H</mi><mn>1</mn></msub><mo stretchy=\"false\">[</mo><mi>i</mi><mo separator=\"true\">,</mo><mi>j</mi><mo stretchy=\"false\">]</mo><msubsup><mo stretchy=\"false\">]</mo><mrow><mi>i</mi><mo>=</mo><mn>1</mn></mrow><mrow><mi>b</mi><mi>a</mi><mi>t</mi><mi>c</mi><mi>h</mi><mi mathvariant=\"normal\">_</mi><mi>s</mi><mi>i</mi><mi>z</mi><mi>e</mi></mrow></msubsup></mrow>O = [O_i = \\sum_j H_0[i,j] * H_1[i,j]]_{i=1}^{batch\\_size}</math></span><span aria-hidden=\"true\" class=\"katex-html\"><span class=\"base\"><span style=\"height:0.68333em;vertical-align:0em;\" class=\"strut\"></span><span style=\"margin-right:0.02778em;\" class=\"mord mathnormal\">O</span><span style=\"margin-right:0.2777777777777778em;\" class=\"mspace\"></span><span class=\"mrel\">=</span><span style=\"margin-right:0.2777777777777778em;\" class=\"mspace\"></span></span><span class=\"base\"><span style=\"height:1em;vertical-align:-0.25em;\" class=\"strut\"></span><span class=\"mopen\">[</span><span class=\"mord\"><span style=\"margin-right:0.02778em;\" class=\"mord mathnormal\">O</span><span class=\"msupsub\"><span class=\"vlist-t vlist-t2\"><span class=\"vlist-r\"><span style=\"height:0.31166399999999994em;\" class=\"vlist\"><span style=\"top:-2.5500000000000003em;margin-left:-0.02778em;margin-right:0.05em;\"><span style=\"height:2.7em;\" class=\"pstrut\"></span><span class=\"sizing reset-size6 size3 mtight\"><span class=\"mord mathnormal mtight\">i</span></span></span></span><span class=\"vlist-s\">​</span></span><span class=\"vlist-r\"><span style=\"height:0.15em;\" class=\"vlist\"><span></span></span></span></span></span></span><span style=\"margin-right:0.2777777777777778em;\" class=\"mspace\"></span><span class=\"mrel\">=</span><span style=\"margin-right:0.2777777777777778em;\" class=\"mspace\"></span></span><span class=\"base\"><span style=\"height:1.185818em;vertical-align:-0.43581800000000004em;\" class=\"strut\"></span><span class=\"mop\"><span style=\"position:relative;top:-0.0000050000000000050004em;\" class=\"mop op-symbol small-op\">∑</span><span class=\"msupsub\"><span class=\"vlist-t vlist-t2\"><span class=\"vlist-r\"><span style=\"height:0.16195399999999993em;\" class=\"vlist\"><span style=\"top:-2.40029em;margin-left:0em;margin-right:0.05em;\"><span style=\"height:2.7em;\" class=\"pstrut\"></span><span class=\"sizing reset-size6 size3 mtight\"><span style=\"margin-right:0.05724em;\" class=\"mord mathnormal mtight\">j</span></span></span></span><span class=\"vlist-s\">​</span></span><span class=\"vlist-r\"><span style=\"height:0.43581800000000004em;\" class=\"vlist\"><span></span></span></span></span></span></span><span style=\"margin-right:0.16666666666666666em;\" class=\"mspace\"></span><span class=\"mord\"><span style=\"margin-right:0.08125em;\" class=\"mord mathnormal\">H</span><span class=\"msupsub\"><span class=\"vlist-t vlist-t2\"><span class=\"vlist-r\"><span style=\"height:0.30110799999999993em;\" class=\"vlist\"><span style=\"top:-2.5500000000000003em;margin-left:-0.08125em;margin-right:0.05em;\"><span style=\"height:2.7em;\" class=\"pstrut\"></span><span class=\"sizing reset-size6 size3 mtight\"><span class=\"mord mtight\">0</span></span></span></span><span class=\"vlist-s\">​</span></span><span class=\"vlist-r\"><span style=\"height:0.15em;\" class=\"vlist\"><span></span></span></span></span></span></span><span class=\"mopen\">[</span><span class=\"mord mathnormal\">i</span><span class=\"mpunct\">,</span><span style=\"margin-right:0.16666666666666666em;\" class=\"mspace\"></span><span style=\"margin-right:0.05724em;\" class=\"mord mathnormal\">j</span><span class=\"mclose\">]</span><span style=\"margin-right:0.2222222222222222em;\" class=\"mspace\"></span><span class=\"mbin\">∗</span><span style=\"margin-right:0.2222222222222222em;\" class=\"mspace\"></span></span><span class=\"base\"><span style=\"height:1.324772em;vertical-align:-0.276864em;\" class=\"strut\"></span><span class=\"mord\"><span style=\"margin-right:0.08125em;\" class=\"mord mathnormal\">H</span><span class=\"msupsub\"><span class=\"vlist-t vlist-t2\"><span class=\"vlist-r\"><span style=\"height:0.30110799999999993em;\" class=\"vlist\"><span style=\"top:-2.5500000000000003em;margin-left:-0.08125em;margin-right:0.05em;\"><span style=\"height:2.7em;\" class=\"pstrut\"></span><span class=\"sizing reset-size6 size3 mtight\"><span class=\"mord mtight\">1</span></span></span></span><span class=\"vlist-s\">​</span></span><span class=\"vlist-r\"><span style=\"height:0.15em;\" class=\"vlist\"><span></span></span></span></span></span></span><span class=\"mopen\">[</span><span class=\"mord mathnormal\">i</span><span class=\"mpunct\">,</span><span style=\"margin-right:0.16666666666666666em;\" class=\"mspace\"></span><span style=\"margin-right:0.05724em;\" class=\"mord mathnormal\">j</span><span class=\"mclose\">]</span><span class=\"mclose\"><span class=\"mclose\">]</span><span class=\"msupsub\"><span class=\"vlist-t vlist-t2\"><span class=\"vlist-r\"><span style=\"height:1.047908em;\" class=\"vlist\"><span style=\"top:-2.4231360000000004em;margin-left:0em;margin-right:0.05em;\"><span style=\"height:2.7em;\" class=\"pstrut\"></span><span class=\"sizing reset-size6 size3 mtight\"><span class=\"mord mtight\"><span class=\"mord mathnormal mtight\">i</span><span class=\"mrel mtight\">=</span><span class=\"mord mtight\">1</span></span></span></span><span style=\"top:-3.2618000000000005em;margin-right:0.05em;\"><span style=\"height:2.7em;\" class=\"pstrut\"></span><span class=\"sizing reset-size6 size3 mtight\"><span class=\"mord mtight\"><span class=\"mord mathnormal mtight\">b</span><span class=\"mord mathnormal mtight\">a</span><span class=\"mord mathnormal mtight\">t</span><span class=\"mord mathnormal mtight\">c</span><span class=\"mord mathnormal mtight\">h</span><span style=\"margin-right:0.02778em;\" class=\"mord mtight\">_</span><span class=\"mord mathnormal mtight\">s</span><span class=\"mord mathnormal mtight\">i</span><span style=\"margin-right:0.04398em;\" class=\"mord mathnormal mtight\">z</span><span class=\"mord mathnormal mtight\">e</span></span></span></span></span><span class=\"vlist-s\">​</span></span><span class=\"vlist-r\"><span style=\"height:0.276864em;\" class=\"vlist\"><span></span></span></span></span></span></span></span></span></span>。</li>\n",
    "<li>使用随即负采样得到一些负样本（0），同时以目标词作为正样本（1），输入值标签信息label。</li>\n",
    "<li>使用sigmoid函数作用在<span class=\"katex\"><span class=\"katex-mathml\"><math xmlns=\"http://www.w3.org/1998/Math/MathML\"><mrow><mi>O</mi></mrow>O</math></span><span aria-hidden=\"true\" class=\"katex-html\"><span class=\"base\"><span style=\"height:0.68333em;vertical-align:0em;\" class=\"strut\"></span><span style=\"margin-right:0.02778em;\" class=\"mord mathnormal\">O</span></span></span></span>上，将上述点乘的结果归一化为一个0-1的概率值，作为预测概率，根据标签信息label训练这个模型即可。</li>\n",
    "</ol>\n",
    "</div>"
   ]
  },
  {
   "cell_type": "markdown",
   "metadata": {
    "collapsed": false
   },
   "source": [
    "## 2. 使用paddle2.0实现CBOW\n",
    "\n",
    "接下来我们将学习使用飞桨实现CBOW模型的方法。在飞桨中，不同深度学习模型的训练过程基本一致，流程如下：\n",
    "\n",
    "1. 数据处理：选择需要使用的数据，并做好必要的预处理工作。\n",
    "\n",
    "2. 网络定义：使用飞桨定义好网络结构，包括输入层，中间层，输出层，损失函数和优化算法。\n",
    "\n",
    "3. 网络训练：将准备好的数据送入神经网络进行学习，并观察学习的过程是否正常，如损失函数值是否在降低，也可以打印一些中间步骤的结果出来等。\n",
    "\n",
    "4. 网络评估：使用测试集合测试训练好的神经网络，看看训练效果如何。"
   ]
  },
  {
   "cell_type": "code",
   "execution_count": 1,
   "metadata": {
    "collapsed": false
   },
   "outputs": [
    {
     "name": "stderr",
     "output_type": "stream",
     "text": [
      "/opt/conda/envs/python35-paddle120-env/lib/python3.7/site-packages/paddle/fluid/layers/utils.py:26: DeprecationWarning: `np.int` is a deprecated alias for the builtin `int`. To silence this warning, use `int` by itself. Doing this will not modify any behavior and is safe. When replacing `np.int`, you may wish to use e.g. `np.int64` or `np.int32` to specify the precision. If you wish to review your current use, check the release note link for additional information.\n",
      "Deprecated in NumPy 1.20; for more details and guidance: https://numpy.org/devdocs/release/1.20.0-notes.html#deprecations\n",
      "  def convert_to_list(value, n, name, dtype=np.int):\n"
     ]
    }
   ],
   "source": [
    "# encoding=utf8\r\n",
    "# 首先导入后续会用到的飞桨包\r\n",
    "import io\r\n",
    "import os\r\n",
    "import sys\r\n",
    "import requests\r\n",
    "from collections import OrderedDict \r\n",
    "import math\r\n",
    "import random\r\n",
    "import numpy as np\r\n",
    "import paddle\r\n",
    "from paddle.nn import Embedding\r\n",
    "import paddle.nn.functional as F"
   ]
  },
  {
   "cell_type": "markdown",
   "metadata": {
    "collapsed": false
   },
   "source": [
    "### 2.1 数据处理\n",
    "\n",
    "首先，找到一个合适的语料用于训练word2vec模型。使用text8数据集，这个数据集里包含了大量从维基百科收集到的英文语料，我们可以通过如下代码下载数据集，下载后的文件被保存在当前目录的“text8.txt”文件内。"
   ]
  },
  {
   "cell_type": "code",
   "execution_count": 2,
   "metadata": {
    "collapsed": false
   },
   "outputs": [
    {
     "name": "stderr",
     "output_type": "stream",
     "text": [
      "IOPub data rate exceeded.\n",
      "The notebook server will temporarily stop sending output\n",
      "to the client in order to avoid crashing it.\n",
      "To change this limit, set the config variable\n",
      "`--NotebookApp.iopub_data_rate_limit`.\n",
      "\n",
      "Current values:\n",
      "NotebookApp.iopub_data_rate_limit=1000000.0 (bytes/sec)\n",
      "NotebookApp.rate_limit_window=3.0 (secs)\n",
      "\n"
     ]
    }
   ],
   "source": [
    "# 读取语料用来训练word2vec\r\n",
    "def readdata():\r\n",
    "    corpus_url = \"data/data98805/text8.txt\"\r\n",
    "    with open(corpus_url, \"r\") as f:  # 打开文件\r\n",
    "        corpus = f.read().strip(\"\\n\")  # 读取文件\r\n",
    "        print(corpus)\r\n",
    "    f.close()\r\n",
    "    return corpus\r\n",
    "corpus = readdata()"
   ]
  },
  {
   "cell_type": "code",
   "execution_count": 3,
   "metadata": {
    "collapsed": false
   },
   "outputs": [
    {
     "data": {
      "text/plain": [
       "' anarchism originated as a term of abuse first used against early working class radicals including the diggers of the english revolution and the sans culottes of the french revolution whilst the term is still used in a pejorative way to describe any '"
      ]
     },
     "execution_count": 3,
     "metadata": {},
     "output_type": "execute_result"
    }
   ],
   "source": [
    "# 打印前500个字符查看语料的格式\r\n",
    "corpus[:250]"
   ]
  },
  {
   "cell_type": "markdown",
   "metadata": {
    "collapsed": false
   },
   "source": [
    "一般来说，在自然语言处理中，需要先对语料进行切词。对于英文来说，可以比较简单地直接使用空格进行切词，代码如下："
   ]
  },
  {
   "cell_type": "code",
   "execution_count": 4,
   "metadata": {
    "collapsed": false
   },
   "outputs": [],
   "source": [
    "# 对语料进行预处理（分词）\r\n",
    "def data_preprocess(corpus):\r\n",
    "    # 由于英文单词出现在句首的时候经常要大写，所以我们把所有英文字符都转换为小写，\r\n",
    "    # 以便对语料进行归一化处理（Apple vs apple等）\r\n",
    "    corpus = corpus.strip().lower()\r\n",
    "    corpus = corpus.split(\" \")\r\n",
    "    return corpus\r\n",
    "\r\n",
    "corpus = data_preprocess(corpus)"
   ]
  },
  {
   "cell_type": "code",
   "execution_count": 5,
   "metadata": {
    "collapsed": false
   },
   "outputs": [
    {
     "data": {
      "text/plain": [
       "['anarchism',\n",
       " 'originated',\n",
       " 'as',\n",
       " 'a',\n",
       " 'term',\n",
       " 'of',\n",
       " 'abuse',\n",
       " 'first',\n",
       " 'used',\n",
       " 'against']"
      ]
     },
     "execution_count": 5,
     "metadata": {},
     "output_type": "execute_result"
    }
   ],
   "source": [
    "corpus[:10]"
   ]
  },
  {
   "cell_type": "markdown",
   "metadata": {
    "collapsed": false
   },
   "source": [
    "在经过切词后，需要对语料进行统计，为每个词构造ID。一般来说，可以根据每个词在语料中出现的频次构造ID，频次越高，ID越小，便于对词典进行管理。代码如下："
   ]
  },
  {
   "cell_type": "code",
   "execution_count": 6,
   "metadata": {
    "collapsed": false
   },
   "outputs": [],
   "source": [
    "# 构造词典，统计每个词的频率，并根据频率将每个词转换为一个整数id\r\n",
    "def build_dict(corpus):\r\n",
    "    # 首先统计每个不同词的频率（出现的次数），使用一个词典记录\r\n",
    "    word_freq_dict = dict()\r\n",
    "    for word in corpus:\r\n",
    "        if word not in word_freq_dict:\r\n",
    "            word_freq_dict[word] = 0\r\n",
    "        word_freq_dict[word] += 1\r\n",
    "\r\n",
    "    # 将这个词典中的词，按照出现次数排序，出现次数越高，排序越靠前\r\n",
    "    # 一般来说，出现频率高的高频词往往是：I，the，you这种代词，而出现频率低的词，往往是一些名词，如：nlp\r\n",
    "    word_freq_dict = sorted(word_freq_dict.items(), key = lambda x:x[1], reverse = True)\r\n",
    "    \r\n",
    "    # 构造3个不同的词典，分别存储，\r\n",
    "    # 每个词到id的映射关系：word2id_dict\r\n",
    "    # 每个id出现的频率：word2id_freq\r\n",
    "    # 每个id到词的映射关系：id2word_dict\r\n",
    "    word2id_dict = dict()\r\n",
    "    word2id_freq = dict()\r\n",
    "    id2word_dict = dict()\r\n",
    "\r\n",
    "    # 按照频率，从高到低，开始遍历每个单词，并为这个单词构造一个独一无二的id\r\n",
    "    for word, freq in word_freq_dict:\r\n",
    "        curr_id = len(word2id_dict)\r\n",
    "        word2id_dict[word] = curr_id\r\n",
    "        word2id_freq[word2id_dict[word]] = freq\r\n",
    "        id2word_dict[curr_id] = word\r\n",
    "\r\n",
    "    return word2id_freq, word2id_dict, id2word_dict\r\n",
    "\r\n",
    "word2id_freq, word2id_dict, id2word_dict = build_dict(corpus)\r\n",
    "vocab_size = len(word2id_freq)"
   ]
  },
  {
   "cell_type": "code",
   "execution_count": 7,
   "metadata": {
    "collapsed": false
   },
   "outputs": [
    {
     "name": "stdout",
     "output_type": "stream",
     "text": [
      "there are totoally 253854 different words in the corpus\n",
      "word the, its id 0, its word freq 1061396\n",
      "word of, its id 1, its word freq 593677\n",
      "word and, its id 2, its word freq 416629\n",
      "word one, its id 3, its word freq 411764\n",
      "word in, its id 4, its word freq 372201\n",
      "word a, its id 5, its word freq 325873\n",
      "word to, its id 6, its word freq 316376\n",
      "word zero, its id 7, its word freq 264975\n",
      "word nine, its id 8, its word freq 250430\n",
      "word two, its id 9, its word freq 192644\n"
     ]
    }
   ],
   "source": [
    "# 总共有多少的词 按照频率打印前十个进行查看\r\n",
    "print(\"there are totoally %d different words in the corpus\" % vocab_size)\r\n",
    "for _, (word, word_id) in zip(range(10), word2id_dict.items()):\r\n",
    "    print(\"word %s, its id %d, its word freq %d\" % (word, word_id, word2id_freq[word_id]))"
   ]
  },
  {
   "cell_type": "markdown",
   "metadata": {
    "collapsed": false
   },
   "source": [
    "得到word2id词典后，还需要进一步处理原始语料，把每个词替换成对应的ID，便于神经网络进行处理，代码如下："
   ]
  },
  {
   "cell_type": "code",
   "execution_count": null,
   "metadata": {
    "collapsed": false
   },
   "outputs": [],
   "source": [
    "# 把语料转换为id序列\r\n",
    "def convert_corpus_to_id(corpus, word2id_dict):\r\n",
    "    # 使用一个循环，将语料中的每个词替换成对应的id，以便于神经网络进行处理\r\n",
    "    corpus = [word2id_dict[word] for word in corpus]\r\n",
    "    return corpus\r\n",
    "\r\n",
    "corpus = convert_corpus_to_id(corpus, word2id_dict)"
   ]
  },
  {
   "cell_type": "code",
   "execution_count": null,
   "metadata": {
    "collapsed": false
   },
   "outputs": [
    {
     "name": "stdout",
     "output_type": "stream",
     "text": [
      "17005207 tokens in the corpus\n",
      "[5233, 3080, 11, 5, 194, 1, 3133, 45, 58, 155, 127, 741, 476, 10571, 133, 0, 27349, 1, 0, 102]\n"
     ]
    }
   ],
   "source": [
    "print(\"%d tokens in the corpus\" % len(corpus))\r\n",
    "print(corpus[:20])"
   ]
  },
  {
   "cell_type": "markdown",
   "metadata": {
    "collapsed": false
   },
   "source": [
    "接下来，需要使用二次采样法处理原始文本。二次采样法的主要思想是降低高频词在语料中出现的频次。方法是随机将高频的词抛弃，频率越高，被抛弃的概率就越大；频率越低，被抛弃的概率就越小。标点符号或冠词这样的高频词就会被抛弃，从而优化整个词表的词向量训练效果，代码如下："
   ]
  },
  {
   "cell_type": "code",
   "execution_count": null,
   "metadata": {
    "collapsed": false
   },
   "outputs": [
    {
     "name": "stdout",
     "output_type": "stream",
     "text": [
      "8744942 tokens in the corpus\n",
      "[5233, 3080, 11, 3133, 155, 741, 10571, 27349, 102, 854, 2, 15067, 58112, 854, 3580, 0, 194, 190, 10712, 214]\n"
     ]
    }
   ],
   "source": [
    "# 使用二次采样算法（subsampling）处理语料，强化训练效果\r\n",
    "def subsampling(corpus, word2id_freq):\r\n",
    "    \r\n",
    "    # 这个discard函数决定了一个词会不会被替换，这个函数是具有随机性的，每次调用结果不同\r\n",
    "    # 如果一个词的频率很大，那么它被遗弃的概率就很大\r\n",
    "    def discard(word_id):\r\n",
    "        return random.uniform(0, 1) < 1 - math.sqrt(\r\n",
    "            1e-4 / word2id_freq[word_id] * len(corpus))\r\n",
    "\r\n",
    "    corpus = [word for word in corpus if not discard(word)]\r\n",
    "    return corpus\r\n",
    "\r\n",
    "corpus = subsampling(corpus, word2id_freq)\r\n",
    "print(\"%d tokens in the corpus\" % len(corpus))\r\n",
    "print(corpus[:20])"
   ]
  },
  {
   "cell_type": "markdown",
   "metadata": {
    "collapsed": false
   },
   "source": [
    "在完成语料数据预处理之后，需要构造训练数据。根据上面的描述，我们需要使用一个滑动窗口对语料从左到右扫描，在每个窗口内，中心词需要预测它的上下文，并形成训练数据。\n",
    "\n",
    "在实际操作中，由于词表往往很大（50000，100000等），对大词表的一些矩阵运算（如softmax）需要消耗巨大的资源，因此可以通过负采样的方式模拟softmax的结果。\n",
    "\n",
    "1. 给定一个中心词和一个需要预测的上下文词，把这个上下文词作为正样本。\n",
    "2. 通过词表随机采样的方式，选择若干个负样本。\n",
    "3. 把一个大规模分类问题转化为一个2分类问题，通过这种方式优化计算速度。"
   ]
  },
  {
   "cell_type": "code",
   "execution_count": null,
   "metadata": {
    "collapsed": false
   },
   "outputs": [],
   "source": [
    "# 构造数据，准备模型训练\r\n",
    "# max_window_size代表了最大的window_size的大小，程序会根据max_window_size从左到右扫描整个语料\r\n",
    "# negative_sample_num代表了对于每个正样本，我们需要随机采样多少负样本用于训练，\r\n",
    "# 一般来说，negative_sample_num的值越大，训练效果越稳定，但是训练速度越慢。 \r\n",
    "def build_data(corpus, word2id_dict, word2id_freq, max_window_size = 3, negative_sample_num = 4):\r\n",
    "    \r\n",
    "    #使用一个list存储处理好的数据\r\n",
    "    dataset = []\r\n",
    "    center_word_idx=0\r\n",
    "\r\n",
    "    #从左到右，开始枚举每个中心点的位置\r\n",
    "    while center_word_idx < len(corpus):\r\n",
    "        #以max_window_size为上限，随机采样一个window_size，这样会使得训练更加稳定\r\n",
    "        window_size = random.randint(1, max_window_size)\r\n",
    "        #当前的中心词就是center_word_idx所指向的词，可以当作正样本\r\n",
    "        positive_word = corpus[center_word_idx]\r\n",
    "\r\n",
    "        #以当前中心词为中心，左右两侧在window_size内的词就是上下文\r\n",
    "        context_word_range = (max(0, center_word_idx - window_size), min(len(corpus) - 1, center_word_idx + window_size))\r\n",
    "        context_word_candidates = [corpus[idx] for idx in range(context_word_range[0], context_word_range[1]+1) if idx != center_word_idx]\r\n",
    "\r\n",
    "        #对于每个正样本来说，随机采样negative_sample_num个负样本，用于训练\r\n",
    "        for context_word in context_word_candidates:\r\n",
    "            #首先把（上下文，正样本，label=1）的三元组数据放入dataset中，\r\n",
    "            #这里label=1表示这个样本是个正样本\r\n",
    "            dataset.append((context_word, positive_word, 1))\r\n",
    "\r\n",
    "            #开始负采样\r\n",
    "            i = 0\r\n",
    "            while i < negative_sample_num:\r\n",
    "                negative_word_candidate = random.randint(0, vocab_size-1)\r\n",
    "\r\n",
    "                if negative_word_candidate is not positive_word:\r\n",
    "                    #把（上下文，负样本，label=0）的三元组数据放入dataset中，\r\n",
    "                    #这里label=0表示这个样本是个负样本\r\n",
    "                    dataset.append((context_word, negative_word_candidate, 0))\r\n",
    "                    i += 1\r\n",
    "        \r\n",
    "        center_word_idx = min(len(corpus) - 1, center_word_idx + window_size)\r\n",
    "        if center_word_idx == (len(corpus) - 1):\r\n",
    "            center_word_idx += 1\r\n",
    "    \r\n",
    "    return dataset\r\n",
    "\r\n",
    "corpus_light = corpus[:int(len(corpus)*0.2)]\r\n",
    "dataset = build_data(corpus_light, word2id_dict, word2id_freq)"
   ]
  },
  {
   "cell_type": "code",
   "execution_count": null,
   "metadata": {
    "collapsed": false
   },
   "outputs": [
    {
     "name": "stdout",
     "output_type": "stream",
     "text": [
      "center_word originated, target anarchism, label 1\n",
      "center_word originated, target syktyvkar, label 0\n",
      "center_word originated, target dhone, label 0\n",
      "center_word originated, target toce, label 0\n",
      "center_word originated, target vesta, label 0\n",
      "center_word as, target anarchism, label 1\n",
      "center_word as, target myalgia, label 0\n",
      "center_word as, target tannic, label 0\n",
      "center_word as, target mokhlos, label 0\n",
      "center_word as, target masatoshi, label 0\n",
      "center_word abuse, target anarchism, label 1\n",
      "center_word abuse, target harington, label 0\n",
      "center_word abuse, target macqueen, label 0\n",
      "center_word abuse, target gaud, label 0\n",
      "center_word abuse, target doppelganger, label 0\n",
      "center_word as, target abuse, label 1\n",
      "center_word as, target sauromatai, label 0\n",
      "center_word as, target mattaponi, label 0\n",
      "center_word as, target shukokai, label 0\n",
      "center_word as, target reminisced, label 0\n",
      "center_word against, target abuse, label 1\n",
      "center_word against, target spermicide, label 0\n",
      "center_word against, target scythianarchers, label 0\n",
      "center_word against, target hanisim, label 0\n",
      "center_word against, target dealbata, label 0\n"
     ]
    }
   ],
   "source": [
    "for _, (center_word, target_word, label) in zip(range(25), dataset):\r\n",
    "    print(\"center_word %s, target %s, label %d\" % (id2word_dict[center_word],\r\n",
    "                                                   id2word_dict[target_word], label))"
   ]
  },
  {
   "cell_type": "markdown",
   "metadata": {
    "collapsed": false
   },
   "source": [
    "训练数据准备好后，把训练数据都组装成mini-batch，并准备输入到网络中进行训练，代码如下："
   ]
  },
  {
   "cell_type": "code",
   "execution_count": null,
   "metadata": {
    "collapsed": false
   },
   "outputs": [],
   "source": [
    "# 构造mini-batch，准备对模型进行训练\r\n",
    "# 我们将不同类型的数据放到不同的tensor里，便于神经网络进行处理\r\n",
    "# 并通过numpy的array函数，构造出不同的tensor来，并把这些tensor送入神经网络中进行训练\r\n",
    "def build_batch(dataset, batch_size, epoch_num):\r\n",
    "    \r\n",
    "    #context_word_batch缓存batch_size个中心词\r\n",
    "    context_word_batch = []\r\n",
    "    #target_word_batch缓存batch_size个目标词（可以是正样本或者负样本）\r\n",
    "    target_word_batch = []\r\n",
    "    #label_batch缓存了batch_size个0或1的标签，用于模型训练\r\n",
    "    label_batch = []\r\n",
    "    #eval_word_batch每次随机生成几个样例，用于在运行阶段对模型做评估，以便更好地可视化训练效果。\r\n",
    "    eval_word_batch = []\r\n",
    "    \r\n",
    "\r\n",
    "    for epoch in range(epoch_num):\r\n",
    "        #每次开启一个新epoch之前，都对数据进行一次随机打乱，提高训练效果\r\n",
    "        random.shuffle(dataset)\r\n",
    "        \r\n",
    "        for context_word, target_word, label in dataset:\r\n",
    "            #遍历dataset中的每个样本，并将这些数据送到不同的tensor里\r\n",
    "            context_word_batch.append([context_word])\r\n",
    "            target_word_batch.append([target_word])\r\n",
    "            label_batch.append(label)\r\n",
    "            \r\n",
    "            #构造训练中评估的样本，这里我们生成'one','king','who'三个词的同义词，\r\n",
    "            #看模型认为的同义词有哪些\r\n",
    "            if len(eval_word_batch) == 0:\r\n",
    "                eval_word_batch.append([word2id_dict['one']])\r\n",
    "            elif len(eval_word_batch) == 1:\r\n",
    "                eval_word_batch.append([word2id_dict['king']])\r\n",
    "            elif len(eval_word_batch) ==2:\r\n",
    "                eval_word_batch.append([word2id_dict['who']])\r\n",
    "\r\n",
    "            #当样本积攒到一个batch_size后，我们把数据都返回回来\r\n",
    "            #在这里我们使用numpy的array函数把list封装成tensor\r\n",
    "            #并使用python的迭代器机制，将数据yield出来\r\n",
    "            #使用迭代器的好处是可以节省内存\r\n",
    "            if len(context_word_batch) == batch_size:\r\n",
    "                yield epoch,\\\r\n",
    "                    np.array(context_word_batch).astype(\"int64\"),\\\r\n",
    "                    np.array(target_word_batch).astype(\"int64\"),\\\r\n",
    "                    np.array(label_batch).astype(\"float32\"),\\\r\n",
    "                    np.array(eval_word_batch).astype(\"int64\")\r\n",
    "                context_word_batch = []\r\n",
    "                target_word_batch = []\r\n",
    "                label_batch = []\r\n",
    "                eval_word_batch = []\r\n",
    "        \r\n",
    "    if len(context_word_batch) > 0:\r\n",
    "        yield epoch,\\\r\n",
    "            np.array(context_word_batch).astype(\"int64\"),\\\r\n",
    "            np.array(target_word_batch).astype(\"int64\"),\\\r\n",
    "            np.array(label_batch).astype(\"float32\"),\\\r\n",
    "            np.array(eval_word_batch).astype(\"int64\")"
   ]
  },
  {
   "cell_type": "code",
   "execution_count": null,
   "metadata": {
    "collapsed": false
   },
   "outputs": [
    {
     "name": "stdout",
     "output_type": "stream",
     "text": [
      "       [ 56]]))\r"
     ]
    }
   ],
   "source": [
    "for _, batch in zip(range(10), build_batch(dataset, 128, 3)):\r\n",
    "    print(batch)"
   ]
  },
  {
   "cell_type": "markdown",
   "metadata": {
    "collapsed": false
   },
   "source": [
    "### 2.2 定义CBOW网络结构\n",
    "\n",
    "定义CBOW的网络结构，用于模型训练。在飞桨动态图中，对于任意网络，都需要定义一个继承自paddle.nn.layer的类来搭建网络结构、参数等数据的声明。同时需要在forward函数中定义网络的计算逻辑。值得注意的是，我们仅需要定义网络的前向计算逻辑，飞桨会自动完成神经网络的后向计算。\n",
    "\n",
    "在CBOW的网络结构中，使用的最关键的APi是[paddle.nn.Embedding](https://www.paddlepaddle.org.cn/documentation/docs/zh/api/paddle/nn/Embedding_cn.html)函数，可以用其实现Embedding的网络层。通过查询飞桨的API文档，可以得到如下更详细的说明：\n",
    "\n",
    "paddle.nn.Embedding(numembeddings, embeddingdim, paddingidx=None, sparse=False, weightattr=None, name=None)\n",
    "\n",
    "该接口用于构建 Embedding 的一个可调用对象，其根据input中的id信息从embedding矩阵中查询对应embedding信息，并会根据输入的size (numembeddings, embeddingdim)自动构造一个二维embedding矩阵。 输出Tensor的shape是在输入Tensor shape的最后一维后面添加了emb_size的维度。注：input中的id必须满足 0 =< id < size[0]，否则程序会抛异常退出。"
   ]
  },
  {
   "cell_type": "code",
   "execution_count": null,
   "metadata": {
    "collapsed": false
   },
   "outputs": [],
   "source": [
    "#定义CBOW训练网络结构\r\n",
    "#使用paddlepaddle的2.0.0版本\r\n",
    "#一般来说，在使用paddle训练的时候，我们需要通过一个类来定义网络结构，这个类继承了paddle.nn.layer\r\n",
    "class SkipGram(paddle.nn.Layer):\r\n",
    "    def __init__(self, vocab_size, embedding_size, init_scale=0.1):\r\n",
    "        # vocab_size定义了这个skipgram这个模型的词表大小\r\n",
    "        # embedding_size定义了词向量的维度是多少\r\n",
    "        # init_scale定义了词向量初始化的范围，一般来说，比较小的初始化范围有助于模型训练\r\n",
    "        super(SkipGram, self).__init__()\r\n",
    "        self.vocab_size = vocab_size\r\n",
    "        self.embedding_size = embedding_size\r\n",
    "\r\n",
    "        # 使用Embedding函数构造一个词向量参数\r\n",
    "        # 这个参数的大小为：[self.vocab_size, self.embedding_size]\r\n",
    "        # 数据类型为：float32\r\n",
    "        # 这个参数的初始化方式为在[-init_scale, init_scale]区间进行均匀采样\r\n",
    "        self.embedding = Embedding( \r\n",
    "            num_embeddings = self.vocab_size,\r\n",
    "            embedding_dim = self.embedding_size,\r\n",
    "            weight_attr=paddle.ParamAttr(\r\n",
    "                initializer=paddle.nn.initializer.Uniform( \r\n",
    "                    low=-init_scale, high=init_scale)))\r\n",
    "\r\n",
    "        # 使用Embedding函数构造另外一个词向量参数\r\n",
    "        # 这个参数的大小为：[self.vocab_size, self.embedding_size]\r\n",
    "        # 这个参数的初始化方式为在[-init_scale, init_scale]区间进行均匀采样\r\n",
    "        self.embedding_out = Embedding(\r\n",
    "            num_embeddings = self.vocab_size,\r\n",
    "            embedding_dim = self.embedding_size,\r\n",
    "            weight_attr=paddle.ParamAttr(\r\n",
    "                initializer=paddle.nn.initializer.Uniform(\r\n",
    "                    low=-init_scale, high=init_scale)))\r\n",
    "\r\n",
    "    # 定义网络的前向计算逻辑\r\n",
    "    # center_words是一个tensor（mini-batch），表示中心词\r\n",
    "    # target_words是一个tensor（mini-batch），表示目标词\r\n",
    "    # label是一个tensor（mini-batch），表示这个词是正样本还是负样本（用0或1表示）\r\n",
    "    # 用于在训练中计算这个tensor中对应词的同义词，用于观察模型的训练效果\r\n",
    "    def forward(self, context_words, target_words, label, eval_words):\r\n",
    "        # 首先，通过self.embedding参数，将mini-batch中的词转换为词向量\r\n",
    "        # 这里center_words和eval_words_emb查询的是一个相同的参数\r\n",
    "        # 而target_words_emb查询的是另一个参数\r\n",
    "        context_words_emb = self.embedding(context_words)\r\n",
    "        target_words_emb = self.embedding_out(target_words)\r\n",
    "        eval_words_emb = self.embedding(eval_words)\r\n",
    "\r\n",
    "        # 我们通过点乘的方式计算中心词到目标词的输出概率，并通过sigmoid函数估计这个词是正样本还是负样本的概率。\r\n",
    "        word_sim = paddle.multiply(context_words_emb, target_words_emb)\r\n",
    "        word_sim = paddle.sum(word_sim, axis=-1)\r\n",
    "        word_sim = paddle.reshape(word_sim, shape=[-1])\r\n",
    "        pred = F.sigmoid(word_sim)\r\n",
    "\r\n",
    "        # 通过估计的输出概率定义损失函数，注意我们使用的是binary_cross_entropy_with_logits函数\r\n",
    "        # 将sigmoid计算和cross entropy合并成一步计算可以更好的优化，所以输入的是word_sim，而不是pred\r\n",
    "        loss = F.binary_cross_entropy_with_logits(word_sim, label)\r\n",
    "        loss = paddle.mean(loss)\r\n",
    "\r\n",
    "        #我们通过一个矩阵乘法，来对每个词计算他的同义词\r\n",
    "        #on_fly在机器学习或深度学习中往往指在在线计算中做什么，\r\n",
    "        #比如我们需要在训练中做评估，就可以说evaluation_on_fly\r\n",
    "        # word_sim_on_fly = paddle.matmul(eval_words_emb, \r\n",
    "        #     self.embedding._w, transpose_y = True)\r\n",
    "\r\n",
    "        # 返回前向计算的结果，飞桨会通过backward函数自动计算出反向结果。\r\n",
    "        return pred, loss # , word_sim_on_fly"
   ]
  },
  {
   "cell_type": "markdown",
   "metadata": {
    "collapsed": false
   },
   "source": [
    "### 2.3 网络训练\n",
    "\n",
    "完成网络定义后，就可以启动模型训练。我们定义每隔100步打印一次Loss，以确保当前的网络是正常收敛的。\n",
    "\n",
    "同时，我们每隔10000步观察一下skip-gram计算出来的同义词（使用 embedding的乘积），可视化网络训练效果，代码如下：\n",
    "\n",
    "运行时长: 4小时15分钟8秒301毫秒"
   ]
  },
  {
   "cell_type": "code",
   "execution_count": null,
   "metadata": {
    "collapsed": false
   },
   "outputs": [
    {
     "name": "stdout",
     "output_type": "stream",
     "text": [
      "step 1000, loss 0.693\n",
      "step 2000, loss 0.687\n",
      "step 3000, loss 0.626\n",
      "step 4000, loss 0.513\n",
      "step 5000, loss 0.359\n",
      "step 6000, loss 0.304\n",
      "step 7000, loss 0.223\n",
      "step 8000, loss 0.224\n",
      "step 9000, loss 0.212\n",
      "step 10000, loss 0.234\n",
      "for word movie, the similar word is movie\n",
      "for word movie, the similar word is detected\n",
      "for word movie, the similar word is damage\n",
      "for word movie, the similar word is computation\n",
      "for word movie, the similar word is boards\n",
      "for word one, the similar word is one\n",
      "for word one, the similar word is five\n",
      "for word one, the similar word is zero\n",
      "for word one, the similar word is residents\n",
      "for word one, the similar word is security\n",
      "for word who, the similar word is who\n",
      "for word who, the similar word is political\n",
      "for word who, the similar word is scholars\n",
      "for word who, the similar word is april\n",
      "for word who, the similar word is harrison\n",
      "step 11000, loss 0.191\n",
      "step 12000, loss 0.221\n",
      "step 13000, loss 0.236\n",
      "step 14000, loss 0.250\n",
      "step 15000, loss 0.168\n",
      "step 16000, loss 0.185\n",
      "step 17000, loss 0.171\n",
      "step 18000, loss 0.199\n",
      "step 19000, loss 0.176\n",
      "step 20000, loss 0.202\n",
      "for word movie, the similar word is movie\n",
      "for word movie, the similar word is demanded\n",
      "for word movie, the similar word is denck\n",
      "for word movie, the similar word is cared\n",
      "for word movie, the similar word is hyperinflation\n",
      "for word one, the similar word is one\n",
      "for word one, the similar word is nine\n",
      "for word one, the similar word is seven\n",
      "for word one, the similar word is zero\n",
      "for word one, the similar word is three\n",
      "for word who, the similar word is who\n",
      "for word who, the similar word is premiership\n",
      "for word who, the similar word is pragmatic\n",
      "for word who, the similar word is conversely\n",
      "for word who, the similar word is desperate\n",
      "step 21000, loss 0.193\n",
      "step 22000, loss 0.123\n",
      "step 23000, loss 0.194\n",
      "step 24000, loss 0.148\n",
      "step 25000, loss 0.179\n",
      "step 26000, loss 0.190\n",
      "step 27000, loss 0.197\n",
      "step 28000, loss 0.129\n",
      "step 29000, loss 0.222\n",
      "step 30000, loss 0.126\n",
      "for word movie, the similar word is movie\n",
      "for word movie, the similar word is critic\n",
      "for word movie, the similar word is spartans\n",
      "for word movie, the similar word is mon\n",
      "for word movie, the similar word is lloyd\n",
      "for word one, the similar word is one\n",
      "for word one, the similar word is nine\n",
      "for word one, the similar word is seven\n",
      "for word one, the similar word is two\n",
      "for word one, the similar word is eight\n",
      "for word who, the similar word is who\n",
      "for word who, the similar word is kinnock\n",
      "for word who, the similar word is bastille\n",
      "for word who, the similar word is pedunculifera\n",
      "for word who, the similar word is tent\n",
      "step 31000, loss 0.180\n",
      "step 32000, loss 0.171\n",
      "step 33000, loss 0.169\n",
      "step 34000, loss 0.165\n",
      "step 35000, loss 0.155\n",
      "step 36000, loss 0.137\n",
      "step 37000, loss 0.151\n",
      "step 38000, loss 0.157\n",
      "step 39000, loss 0.168\n",
      "step 40000, loss 0.172\n",
      "for word movie, the similar word is movie\n",
      "for word movie, the similar word is mon\n",
      "for word movie, the similar word is shawn\n",
      "for word movie, the similar word is dustin\n",
      "for word movie, the similar word is weyland\n",
      "for word one, the similar word is one\n",
      "for word one, the similar word is seven\n",
      "for word one, the similar word is nine\n",
      "for word one, the similar word is two\n",
      "for word one, the similar word is composer\n",
      "for word who, the similar word is who\n",
      "for word who, the similar word is basel\n",
      "for word who, the similar word is hostility\n",
      "for word who, the similar word is greg\n",
      "for word who, the similar word is pedunculifera\n",
      "step 41000, loss 0.190\n",
      "step 42000, loss 0.129\n",
      "step 43000, loss 0.161\n",
      "step 44000, loss 0.146\n"
     ]
    }
   ],
   "source": [
    "# 开始训练，定义一些训练过程中需要使用的超参数\r\n",
    "batch_size = 512\r\n",
    "epoch_num = 3\r\n",
    "embedding_size = 200\r\n",
    "step = 0\r\n",
    "learning_rate = 0.001\r\n",
    "\r\n",
    "#定义一个使用word-embedding查询同义词的函数\r\n",
    "#这个函数query_token是要查询的词，k表示要返回多少个最相似的词，embed是我们学习到的word-embedding参数\r\n",
    "#我们通过计算不同词之间的cosine距离，来衡量词和词的相似度\r\n",
    "#具体实现如下，x代表要查询词的Embedding，Embedding参数矩阵W代表所有词的Embedding\r\n",
    "#两者计算Cos得出所有词对查询词的相似度得分向量，排序取top_k放入indices列表\r\n",
    "def get_similar_tokens(query_token, k, embed):\r\n",
    "    W = embed.numpy()\r\n",
    "    x = W[word2id_dict[query_token]]\r\n",
    "    cos = np.dot(W, x) / np.sqrt(np.sum(W * W, axis=1) * np.sum(x * x) + 1e-9)\r\n",
    "    flat = cos.flatten()\r\n",
    "    indices = np.argpartition(flat, -k)[-k:]\r\n",
    "    indices = indices[np.argsort(-flat[indices])]\r\n",
    "    for i in indices:\r\n",
    "        print('for word %s, the similar word is %s' % (query_token, str(id2word_dict[i])))\r\n",
    "\r\n",
    "# 将模型放到GPU上训练\r\n",
    "paddle.set_device('gpu:0')\r\n",
    "\r\n",
    "# 通过我们定义的SkipGram类，来构造一个Skip-gram模型网络\r\n",
    "skip_gram_model = SkipGram(vocab_size, embedding_size)\r\n",
    "\r\n",
    "# 构造训练这个网络的优化器\r\n",
    "adam = paddle.optimizer.Adam(learning_rate=learning_rate, parameters = skip_gram_model.parameters())\r\n",
    "\r\n",
    "# 使用build_batch函数，以mini-batch为单位，遍历训练数据，并训练网络\r\n",
    "for epoch_num, context_words, target_words, label, eval_words in build_batch(\r\n",
    "    dataset, batch_size, epoch_num):\r\n",
    "    # 使用paddle.to_tensor，将一个numpy的tensor，转换为飞桨可计算的tensor\r\n",
    "    context_words_var = paddle.to_tensor(context_words)\r\n",
    "    target_words_var = paddle.to_tensor(target_words)\r\n",
    "    label_var = paddle.to_tensor(label)\r\n",
    "    eval_words_var = paddle.to_tensor(eval_words)\r\n",
    "    \r\n",
    "    # 将转换后的tensor送入飞桨中，进行一次前向计算，并得到计算结果\r\n",
    "    pred, loss  = skip_gram_model(\r\n",
    "        context_words_var, target_words_var, label_var, eval_words_var)\r\n",
    "\r\n",
    "    # 程序自动完成反向计算\r\n",
    "    loss.backward()\r\n",
    "    # 程序根据loss，完成一步对参数的优化更新\r\n",
    "    adam.step()\r\n",
    "    # 清空模型中的梯度，以便于下一个mini-batch进行更新\r\n",
    "    adam.clear_grad()\r\n",
    "\r\n",
    "    # 每经过1000个mini-batch，打印一次当前的loss，看看loss是否在稳定下降\r\n",
    "    step += 1\r\n",
    "    if step % 1000 == 0:\r\n",
    "        print(\"step %d, loss %.3f\" % (step, loss.numpy()[0]))\r\n",
    "\r\n",
    "    # 每隔10000步，打印一次模型对以下查询词的相似词，这里我们使用词和词之间的向量点积作为衡量相似度的方法，只打印了5个最相似的词\r\n",
    "    if step % 10000 ==0:\r\n",
    "        get_similar_tokens('movie', 5, skip_gram_model.embedding.weight)\r\n",
    "        get_similar_tokens('one', 5, skip_gram_model.embedding.weight)\r\n",
    "        get_similar_tokens('who', 5, skip_gram_model.embedding.weight)"
   ]
  },
  {
   "cell_type": "markdown",
   "metadata": {
    "collapsed": false
   },
   "source": [
    "![](https://ai-studio-static-online.cdn.bcebos.com/379357ce4e37406fbda59aefb1e2ad166c35c9534f5d4a37bf1666f5d37af381)\n",
    "\n",
    "\n",
    "从打印结果可以看到，经过一定步骤的训练，Loss逐渐下降并趋于稳定。\n",
    "\n",
    "同时也可以发现CBOW模型可以学习到一些有趣的语言现象。"
   ]
  },
  {
   "cell_type": "markdown",
   "metadata": {
    "collapsed": false
   },
   "source": [
    "# 总结 \n",
    "\n",
    "**CBOW**提供了一种根据上下文推理中心词的思路。\n",
    "\n",
    "比如在多数情况下，“香蕉”和“橘子”更加相似，而“香蕉”和“句子”就没有那么相似；同时，“香蕉”和“食物”、“水果”的相似程度可能介于“橘子”和“句子”之间。那么如何让存储的词向量具备这样的语义信息呢？\n",
    "\n",
    "我们先学习自然语言处理领域的一个小技巧。在自然语言处理研究中，科研人员通常有一个共识：使用一个单词的上下文来了解这个单词的语义，比如：\n",
    "\n",
    "“苹果手机质量不错，就是价格有点贵。”\n",
    "\n",
    "“这个苹果很好吃，非常脆。”\n",
    "\n",
    "“菠萝质量也还行，但是不如苹果支持的APP多。”\n",
    "\n",
    "在上面的句子中，我们通过上下文可以推断出第一个“苹果”指的是苹果手机，第二个“苹果”指的是水果苹果，而第三个“菠萝”指的应该也是一个手机。事实上，在自然语言处理领域，使用上下文描述一个词语或者元素的语义是一个常见且有效的做法。我们可以使用同样的方式训练词向量，让这些词向量具备表示语义信息的能力。\n",
    "\n"
   ]
  }
 ],
 "metadata": {
  "kernelspec": {
   "display_name": "PaddlePaddle 2.0.0b0 (Python 3.5)",
   "language": "python",
   "name": "py35-paddle1.2.0"
  },
  "language_info": {
   "codemirror_mode": {
    "name": "ipython",
    "version": 3
   },
   "file_extension": ".py",
   "mimetype": "text/x-python",
   "name": "python",
   "nbconvert_exporter": "python",
   "pygments_lexer": "ipython3",
   "version": "3.7.4"
  }
 },
 "nbformat": 4,
 "nbformat_minor": 1
}
