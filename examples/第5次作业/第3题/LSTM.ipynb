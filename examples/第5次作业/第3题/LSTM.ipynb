{
 "cells": [
  {
   "cell_type": "markdown",
   "metadata": {
    "collapsed": false
   },
   "source": [
    "\n",
    "## 1 简介\n",
    "\n",
    "本项目结合长短期记忆（Long short-term memory, LSTM）,以唐诗为数据集通过监督学习的方式，训练生成唐诗。\n"
   ]
  },
  {
   "cell_type": "markdown",
   "metadata": {
    "collapsed": false
   },
   "source": [
    "## 2 定义超参数"
   ]
  },
  {
   "cell_type": "code",
   "execution_count": 1,
   "metadata": {
    "collapsed": false
   },
   "outputs": [],
   "source": [
    "from paddle.io import Dataset\n",
    "import paddle.fluid as fluid\n",
    "import numpy as np\n",
    "import paddle\n",
    "class Config(object):\n",
    "    num_layers = 3                                      # LSTM层数\n",
    "    data_path = 'work/tang_poem.npz'                    # 诗歌的文本文件存放路径\n",
    "    lr = 1e-3                                           # 学习率\n",
    "    use_gpu = True                                      # 是否使用GPU\n",
    "    epoch = 20                                  \n",
    "    batch_size = 4                                      # mini-batch大小\n",
    "    maxlen = 125                                        # 超过这个长度的之后字被丢弃，小于这个长度的在前面补空格\n",
    "    plot_every = 1000                                   # 隔batch 可视化一次\n",
    "    max_gen_len = 200                                   # 生成诗歌最长长度\n",
    "    model_path = \"work/checkpoints/model.params.50\"     # 预训练模型路径\n",
    "    prefix_words = '欲穷千里目，更上一层楼'                 # 不是诗歌的组成部分，用来控制生成诗歌的意境\n",
    "    start_words = '老夫聊发少年狂，'                       # 诗歌开始\n",
    "    model_prefix = 'work/checkpoints/model.params'      # 模型保存路径\n",
    "    embedding_dim = 256                                 # 词向量维度\n",
    "    hidden_dim = 512                                    # LSTM hidden层维度"
   ]
  },
  {
   "cell_type": "markdown",
   "metadata": {
    "collapsed": false
   },
   "source": [
    "## 3.定义DataLoader\n",
    "> 数据集由唐诗组成，包含唐诗57580首125字（不足和多余125字的都被补充或者截断）、ix2word以及word2ix共三个字典存储为npz格式"
   ]
  },
  {
   "cell_type": "code",
   "execution_count": null,
   "metadata": {
    "collapsed": false
   },
   "outputs": [],
   "source": [
    "paddle.enable_static()\n",
    "datas = np.load(Config.data_path,allow_pickle=True)\n",
    "data = datas['data']\n",
    "#加载映射表\n",
    "ix2word = datas['ix2word'].item()\n",
    "word2ix = datas['word2ix'].item()\n",
    "\n",
    "class dataset(Dataset):\n",
    "    def __init__(self, data):\n",
    "        super(dataset,self).__init__()\n",
    "        self.data = data\n",
    "\n",
    "    def __getitem__(self, idx):\n",
    "        poem = data[idx]\n",
    "        return poem\n",
    "\n",
    "    def __len__(self):\n",
    "        return len(self.data)\n",
    "\n",
    "train_dataset = dataset(data)\n",
    "poem = paddle.static.data(name='poem', shape=[None,125], dtype='float32')\n",
    "if Config.use_gpu:\n",
    "    device = paddle.set_device('gpu')\n",
    "    places = paddle.CUDAPlace(0)\n",
    "else:\n",
    "    device = paddle.set_device('cpu')\n",
    "    places = paddle.CPUPlace()\n",
    "paddle.disable_static(device)\n",
    "train_loader = paddle.io.DataLoader(\n",
    "    train_dataset, \n",
    "    places=places, \n",
    "    feed_list = [poem],\n",
    "    batch_size=Config.batch_size, \n",
    "    shuffle=True,\n",
    "    num_workers=2,\n",
    "    use_buffer_reader=True,\n",
    "    use_shared_memory=False,\n",
    "    drop_last=True,\n",
    ")"
   ]
  },
  {
   "cell_type": "markdown",
   "metadata": {
    "collapsed": false
   },
   "source": [
    "## 4.定义网络\n",
    "网络由一层Embedding层和三层LSTM层再通过全连接层组成\n",
    "> * input:[seq_len,batch_size]\n",
    "> * 经过embedding层，embeddings(input)\n",
    ">\t* output:[batch_size，seq_len,embedding_size]\n",
    "> * 经过LSTM，lstm(embeds, (h_0, c_0))，输出output，hidden\n",
    ">\t* output：[batch, seq_len, hidden_size]\n",
    "> * Reshape再进过Linear层判别\n",
    ">\t* output：[batch*seq_len, vocabsize]"
   ]
  },
  {
   "cell_type": "code",
   "execution_count": null,
   "metadata": {
    "collapsed": false
   },
   "outputs": [],
   "source": [
    "import paddle.fluid\n",
    "class Peom(paddle.nn.Layer):\n",
    "    def __init__(self,vocab_size,embedding_dim,hidden_dim):\n",
    "        super(Peom, self).__init__()\n",
    "        self.embeddings = paddle.nn.Embedding(vocab_size,embedding_dim)\n",
    "        self.lstm = paddle.nn.LSTM(\n",
    "            input_size=embedding_dim,\n",
    "            hidden_size=hidden_dim,\n",
    "            num_layers=Config.num_layers,\n",
    "        )\n",
    "        self.linear = paddle.nn.Linear(in_features=hidden_dim,out_features=vocab_size)\n",
    "    def forward(self,input_,hidden=None):\n",
    "        seq_len, batch_size = paddle.shape(input_)\n",
    "        embeds = self.embeddings(input_)\n",
    "        if hidden is None:\n",
    "            output,hidden = self.lstm(embeds)\n",
    "        else:\n",
    "            output,hidden = self.lstm(embeds,hidden)\n",
    "        output = paddle.reshape(output,[seq_len*batch_size,Config.hidden_dim])\n",
    "        output = self.linear(output)\n",
    "        return output,hidden\n"
   ]
  },
  {
   "cell_type": "markdown",
   "metadata": {
    "collapsed": false
   },
   "source": [
    "## 5.训练过程\n",
    "> * 输入的input为(batch_size,seq_len)\n",
    "> * 通过input_,target = data_[:,:-1],data_[:,1:]将每句话分为前n-1个字作为真正的输入，后n-1个字作为label,size都是(batch_size, seq_len-1)\n",
    "> * 经过网络，得出output：((seq_len-1)*batch, vocab_size)\n",
    "> * 通过label经过reshape将target变成((seq_len-1)*batch)\n",
    "\n",
    "损失函数为:crossEntropy,优化器为:Adam"
   ]
  },
  {
   "cell_type": "code",
   "execution_count": null,
   "metadata": {
    "collapsed": false
   },
   "outputs": [
    {
     "name": "stdout",
     "output_type": "stream",
     "text": [
      "Epoch ID=0\t Batch ID=6000\t Loss=2.468263626098633\n",
      "老夫聊发少年狂，。。。。。。。。。。。。。。。。。。。。。。。。。。。。。。。。。。。。。。。。。。。。。。。。。。。。。。。。。。。。。。。。。。。。。。。。。。。。。。。。。。。。。。。。。。。。。。。。。。。。。。。。。。。。。。。。。。。。。。。。。。。。。。。。。。。。。。。。。。。。。。。。。。。。。。。。。。。。。。。。。。。。。。。。。。。。。。。。。。。。。。。。。。。。。。。。\n"
     ]
    }
   ],
   "source": [
    "loss_= []\n",
    "def train():\n",
    "    model = Peom(\n",
    "        len(word2ix),\n",
    "        embedding_dim = Config.embedding_dim,\n",
    "        hidden_dim = Config.hidden_dim\n",
    "    )\n",
    "    # state_dict = paddle.load(Config.model_path)\n",
    "    # model.set_state_dict(state_dict)\n",
    "    optim = paddle.optimizer.Adam(parameters=model.parameters(),learning_rate=Config.lr)\n",
    "    lossf = paddle.nn.CrossEntropyLoss()\n",
    "    for epoch in range(Config.epoch):\n",
    "        for li,data in enumerate(train_loader()):\n",
    "            optim.clear_grad()\n",
    "            data = data[0]\n",
    "            #data = paddle.transpose(data,(1,0))\n",
    "            x = paddle.to_tensor(data[:,:-1])\n",
    "            y = paddle.to_tensor(data[:,1:],dtype='int64')\n",
    "            y = paddle.reshape(y,[-1])\n",
    "            y = paddle.to_tensor(y,dtype='int64')\n",
    "            output,hidden = model(x)\n",
    "            loss = lossf(output,y)\n",
    "            loss.backward()\n",
    "            optim.step()\n",
    "            loss_.append(loss.numpy()[0])\n",
    "\n",
    "            if li % Config.plot_every == 0:\n",
    "                print('Epoch ID={0}\\t Batch ID={1}\\t Loss={2}'.format(epoch, li, loss.numpy()[0]))\n",
    "                \n",
    "                results = list(Config.start_words)\n",
    "                start_words_len = len(Config.start_words)\n",
    "                # 第一个词语是<START>\n",
    "                input = paddle.to_tensor([word2ix['<START>']])\n",
    "                input = paddle.reshape(input,[1,1])\n",
    "                hidden = None\n",
    "\n",
    "                # 若有风格前缀，则先用风格前缀生成hidden\n",
    "                if Config.prefix_words:\n",
    "                    # 第一个input是<START>，后面就是prefix中的汉字\n",
    "                    # 第一个hidden是None，后面就是前面生成的hidden\n",
    "                    for word in Config.prefix_words:\n",
    "                        output, hidden = model(input, hidden)\n",
    "                        input = paddle.to_tensor([word2ix[word]])\n",
    "                        input = paddle.reshape(input,[1,1])\n",
    "\n",
    "                # 开始真正生成诗句，如果没有使用风格前缀，则hidden = None，input = <START>\n",
    "                # 否则，input就是风格前缀的最后一个词语，hidden也是生成出来的\n",
    "                for i in range(Config.max_gen_len):\n",
    "                    output, hidden = model(input, hidden)\n",
    "                    # print(output.shape)\n",
    "                    # 如果还在诗句内部，输入就是诗句的字，不取出结果，只为了得到\n",
    "                    # 最后的hidden\n",
    "                    if i < start_words_len:\n",
    "                        w = results[i]\n",
    "                        input = paddle.to_tensor([word2ix[w]])\n",
    "                        input = paddle.reshape(input,[1,1])\n",
    "                    # 否则将output作为下一个input进行\n",
    "                    else:\n",
    "                        # print(output.data[0].topk(1))\n",
    "                        _,top_index = paddle.fluid.layers.topk(output[0],k=1)\n",
    "                        top_index = top_index.numpy()[0]\n",
    "                        w = ix2word[top_index]\n",
    "                        results.append(w)\n",
    "                        input = paddle.to_tensor([top_index])\n",
    "                        input = paddle.reshape(input,[1,1])\n",
    "                    if w == '<EOP>':\n",
    "                        del results[-1]\n",
    "                        break\n",
    "                results = ''.join(results)\n",
    "                print(results)\n",
    "        paddle.save(model.state_dict(), Config.model_prefix)\n",
    "train()\n",
    "\n"
   ]
  },
  {
   "cell_type": "markdown",
   "metadata": {
    "collapsed": false
   },
   "source": [
    "## 6.Loss变化过程"
   ]
  },
  {
   "cell_type": "code",
   "execution_count": null,
   "metadata": {
    "collapsed": false
   },
   "outputs": [],
   "source": [
    "import matplotlib.pyplot as plt\n",
    "\n",
    "plt.figure(figsize=(15, 6))\n",
    "x = np.arange(len(loss_))\n",
    "plt.title('Loss During Training')\n",
    "plt.xlabel('Number of Batch')\n",
    "plt.plot(x,np.array(loss_))\n",
    "plt.savefig('work/Loss During Training.png')\n",
    "plt.show()"
   ]
  },
  {
   "cell_type": "markdown",
   "metadata": {
    "collapsed": false
   },
   "source": [
    "## 7.生成唐诗\n",
    "### 7.1 模式一 <首句续写唐诗>\n",
    "例如：”老夫聊发少年狂“\n",
    "> 老夫聊发少年狂，嫁得双鬟梳似桃。</br>\t\n",
    "> 青丝长发娇且红，輭舞脸低时未昏。</br>\t\n",
    "> 娇嚬欲尽一双转，笑语千里相竞言。</br>\t\t       \t\n",
    "> 朝阳上去花欲尽，花时且落花前过。</br>\t\n",
    "> 秾雨霏霏满地晓，红妆白鸟飞下郭。</br>\t\n",
    "> 灯前织女嫁新租，袖里垂纶舞袖舞。</br>\t\n",
    "> 罗袖焰扬簷下樱，一宿十二花绵绵。</br>\t\n",
    "> 西施夹道春风暖，嫩粉萦丝弄金蘂。</br>\t  \t\n",
    "### 7.2 模式二<藏头诗>\n",
    "例如：”夜月一帘幽梦春风十里柔情“\n",
    "> 夜半星初洽，月明星未稀。</br>\t\n",
    "> 一缄琼烛动，帘外玉环飞。</br>\t\n",
    "> 幽匣光华溢，梦中形影微。</br>\t\n",
    "> 春风吹蕙笏，风绪拂莓苔。</br>\t\n",
    "> 十月涵金井，里尘氛祲微。</br>\t\n",
    "> 柔荑暎肌骨，情酒围唇肌。</br>\t\t"
   ]
  },
  {
   "cell_type": "code",
   "execution_count": null,
   "metadata": {
    "collapsed": false
   },
   "outputs": [],
   "source": [
    "# 给定首句生成诗歌\n",
    "def generate(model, start_words, prefix_words=None):\n",
    "    results = list(start_words)\n",
    "    start_words_len = len(start_words)\n",
    "    # 第一个词语是<START>\n",
    "    input = paddle.to_tensor([word2ix['<START>']])\n",
    "    input = paddle.reshape(input,[1,1])\n",
    "    hidden = None\n",
    "\n",
    "    # 若有风格前缀，则先用风格前缀生成hidden\n",
    "    if prefix_words:\n",
    "        # 第一个input是<START>，后面就是prefix中的汉字\n",
    "        # 第一个hidden是None，后面就是前面生成的hidden\n",
    "        for word in prefix_words:\n",
    "            output, hidden = model(input, hidden)\n",
    "            input = paddle.to_tensor([word2ix[word]])\n",
    "            input = paddle.reshape(input,[1,1])\n",
    "\n",
    "    # 开始真正生成诗句，如果没有使用风格前缀，则hidden = None，input = <START>\n",
    "    # 否则，input就是风格前缀的最后一个词语，hidden也是生成出来的\n",
    "    for i in range(Config.max_gen_len):\n",
    "        output, hidden = model(input, hidden)\n",
    "        # print(output.shape)\n",
    "         # 如果还在诗句内部，输入就是诗句的字，不取出结果，只为了得到\n",
    "        # 最后的hidden\n",
    "        if i < start_words_len:\n",
    "            w = results[i]\n",
    "            input = paddle.to_tensor([word2ix[w]])\n",
    "            input = paddle.reshape(input,[1,1])\n",
    "        # 否则将output作为下一个input进行\n",
    "        else:\n",
    "            # print(output.data[0].topk(1))\n",
    "            _,top_index = paddle.fluid.layers.topk(output[0],k=1)\n",
    "            top_index = top_index.numpy()[0]\n",
    "            w = ix2word[top_index]\n",
    "            results.append(w)\n",
    "            input = paddle.to_tensor([top_index])\n",
    "            input = paddle.reshape(input,[1,1])\n",
    "        if w == '<EOP>':\n",
    "            del results[-1]\n",
    "            break\n",
    "    results = ''.join(results)\n",
    "    return results\n",
    "\n",
    "\n",
    "# 生成藏头诗\n",
    "def gen_acrostic(model, start_words, prefix_words=None):\n",
    "    result = []\n",
    "    start_words_len = len(start_words)\n",
    "    input = paddle.to_tensor([word2ix['<START>']])\n",
    "    input = paddle.reshape(input,[1,1])\n",
    "    # 指示已经生成了几句藏头诗\n",
    "    index = 0\n",
    "    pre_word = '<START>'\n",
    "    hidden = None\n",
    "\n",
    "    # 存在风格前缀，则生成hidden\n",
    "    if prefix_words:\n",
    "        for word in prefix_words:\n",
    "            output, hidden = model(input, hidden)\n",
    "            input = paddle.to_tensor([word2ix[word]])\n",
    "            input = paddle.reshape(input,[1,1])\n",
    "\n",
    "    # 开始生成诗句\n",
    "    for i in range(Config.max_gen_len):\n",
    "        output, hidden = model(input, hidden)\n",
    "        _,top_index = paddle.fluid.layers.topk(output[0],k=1)\n",
    "        top_index = top_index.numpy()[0]\n",
    "        w = ix2word[top_index]\n",
    "        # 说明上个字是句末\n",
    "        if pre_word in {'。', '，', '?', '！', '<START>'}:\n",
    "            if index == start_words_len:\n",
    "                break\n",
    "            else:\n",
    "                w = start_words[index]\n",
    "                index += 1\n",
    "                # print(w,word2ix[w])\n",
    "                input = paddle.to_tensor([word2ix[w]])\n",
    "                input = paddle.reshape(input,[1,1])\n",
    "        else:\n",
    "            input = paddle.to_tensor([top_index])\n",
    "            input = paddle.reshape(input,[1,1])\n",
    "        result.append(w)\n",
    "        pre_word = w\n",
    "    result = ''.join(result)\n",
    "    return result\n",
    "\n",
    "#读取训练好的模型\n",
    "model = Peom(\n",
    "        len(word2ix),\n",
    "        embedding_dim = Config.embedding_dim,\n",
    "        hidden_dim = Config.hidden_dim\n",
    "    )\n",
    "state_dict = paddle.load('work/checkpoints/model.params.50')\n",
    "model.set_state_dict(state_dict)\n",
    "print('[*]模式一：首句续写唐诗：')\n",
    "#生成首句续写唐诗（prefix_words为生成意境的诗句）\n",
    "print(generate(model, start_words=\"春江潮水连海平，\", prefix_words=\"滚滚长江东逝水，浪花淘尽英雄。\"))\n",
    "print('[*]模式二：藏头诗：')\n",
    "#生成藏头诗\n",
    "print(gen_acrostic(model, start_words=\"夜月一帘幽梦春风十里柔情\", prefix_words=\"落花人独立，微雨燕双飞。\"))"
   ]
  }
 ],
 "metadata": {
  "kernelspec": {
   "display_name": "PaddlePaddle 2.0.0b0 (Python 3.5)",
   "language": "python",
   "name": "py35-paddle1.2.0"
  },
  "language_info": {
   "codemirror_mode": {
    "name": "ipython",
    "version": 3
   },
   "file_extension": ".py",
   "mimetype": "text/x-python",
   "name": "python",
   "nbconvert_exporter": "python",
   "pygments_lexer": "ipython3",
   "version": "3.7.4"
  }
 },
 "nbformat": 4,
 "nbformat_minor": 1
}