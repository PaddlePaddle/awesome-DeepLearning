{
 "cells": [
  {
   "cell_type": "code",
   "execution_count": null,
   "metadata": {
    "collapsed": false
   },
   "outputs": [],
   "source": [
    "import paddle\r\n",
    "# help(paddle.nn.functional.cross_entropy)\r\n",
    "help(paddle.nn.Linear)"
   ]
  },
  {
   "cell_type": "markdown",
   "metadata": {
    "collapsed": false
   },
   "source": [
    "# Code"
   ]
  },
  {
   "cell_type": "code",
   "execution_count": 1,
   "metadata": {
    "collapsed": false
   },
   "outputs": [
    {
     "name": "stderr",
     "output_type": "stream",
     "text": [
      "Cache file /home/aistudio/.cache/paddle/dataset/imikolov/imikolov%2Fsimple-examples.tgz not found, downloading https://dataset.bj.bcebos.com/imikolov%2Fsimple-examples.tgz \n",
      "Begin to download\n",
      "\n",
      "Download finished\n"
     ]
    },
    {
     "name": "stdout",
     "output_type": "stream",
     "text": [
      "585\n"
     ]
    }
   ],
   "source": [
    "import paddle.fluid as fluid\r\n",
    "import numpy as np\r\n",
    "import paddle\r\n",
    "import paddle.dataset.imikolov as imikolov\r\n",
    "from paddle.text.datasets import Imikolov\r\n",
    "import paddle.nn.functional as F\r\n",
    "from paddle.nn import LSTM, Embedding, Dropout, Linear\r\n",
    "from paddle.io import Dataset, BatchSampler, DataLoader\r\n",
    "from sklearn import metrics\r\n",
    "\r\n",
    "# 取词表\r\n",
    "word_idx=imikolov.build_dict(min_word_freq=200) #min_word_freq=50\r\n",
    "print(len(word_idx))"
   ]
  },
  {
   "cell_type": "code",
   "execution_count": 2,
   "metadata": {
    "collapsed": false
   },
   "outputs": [],
   "source": [
    "class NextWordPredicter(paddle.nn.Layer):\r\n",
    "    \r\n",
    "    def __init__(self, hidden_size, vocab_size, embedding_size, class_num, num_steps=4, num_layers=1, init_scale=0.1, dropout_rate=None):\r\n",
    "        \r\n",
    "        # 参数含义如下：\r\n",
    "        # 1.hidden_size，表示embedding-size，hidden和cell向量的维度\r\n",
    "        # 2.vocab_size，模型可以考虑的词表大小\r\n",
    "        # 3.embedding_size，表示词向量的维度\r\n",
    "        # 4.class_num，分类个数，等同于vocab_size\r\n",
    "        # 5.num_steps，表示模型最大可以考虑的句子长度\r\n",
    "        # 6.num_layers，表示网络的层数\r\n",
    "        # 7.dropout_rate，表示使用dropout过程中失活的神经元比例\r\n",
    "        # 8.init_scale，表示网络内部的参数的初始化范围,长短时记忆网络内部用了很多Tanh，Sigmoid等激活函数，\\\r\n",
    "        # 这些函数对数值精度非常敏感，因此我们一般只使用比较小的初始化范围，以保证效果\r\n",
    "        super(NextWordPredicter, self).__init__()\r\n",
    "        self.hidden_size = hidden_size\r\n",
    "        self.vocab_size = vocab_size\r\n",
    "        self.embedding_size = embedding_size\r\n",
    "        self.class_num = class_num\r\n",
    "        self.num_steps = num_steps\r\n",
    "        self.num_layers = num_layers\r\n",
    "        self.dropout_rate = dropout_rate\r\n",
    "        self.init_scale = init_scale\r\n",
    "\r\n",
    "        # 声明一个embedding层，用来把句子中的每个词转换为向量\r\n",
    "        self.embedding = paddle.nn.Embedding(num_embeddings=vocab_size, embedding_dim=embedding_size, sparse=False, \r\n",
    "                                    weight_attr=paddle.ParamAttr(initializer=paddle.nn.initializer.Uniform(low=-init_scale, high=init_scale)))\r\n",
    "        # self.embedding = paddle.nn.Embedding(num_embeddings=vocab_size, embedding_dim=embedding_size)\r\n",
    "        # 声明一个LSTM模型，用来把每个句子抽象成向量\r\n",
    "        self.simple_lstm_rnn = paddle.nn.LSTM(input_size=embedding_size, hidden_size=hidden_size, num_layers=num_layers)\r\n",
    "        \r\n",
    "        # 声明使用上述语义向量映射到具体情感类别时所需要使用的线性层\r\n",
    "        # self.cls_fc = paddle.nn.Linear(in_features=self.num_steps*self.hidden_size, out_features=self.class_num, \r\n",
    "                             # weight_attr=None, bias_attr=None)\r\n",
    "        self.cls_fc = paddle.nn.Linear(in_features=self.num_steps*self.hidden_size, out_features=self.class_num)\r\n",
    "        \r\n",
    "        # 一般在获取单词的embedding后，会使用dropout层，防止过拟合，提升模型泛化能力\r\n",
    "        self.dropout_layer = paddle.nn.Dropout(p=self.dropout_rate, mode='upscale_in_train')\r\n",
    "\r\n",
    "    # forwad函数即为模型前向计算的函数，它有两个输入，分别为：\r\n",
    "    # input为输入的训练文本，其shape为[batch_size, max_seq_len]\r\n",
    "    # label训练文本对应的下一个词标签，其shape维[batch_size, 1]\r\n",
    "    def forward(self, inputs):\r\n",
    "        # 获取输入数据的batch_size\r\n",
    "        batch_size = inputs.shape[0]\r\n",
    "\r\n",
    "        # 首先我们需要定义LSTM的初始hidden和cell，这里我们使用0来初始化这个序列的记忆\r\n",
    "        init_hidden_data = np.zeros(\r\n",
    "            (self.num_layers, batch_size, self.hidden_size), dtype='float32')\r\n",
    "        init_cell_data = np.zeros(\r\n",
    "            (self.num_layers, batch_size, self.hidden_size), dtype='float32')\r\n",
    "\r\n",
    "        init_hidden = paddle.to_tensor(init_hidden_data)\r\n",
    "        #init_hidden.stop_gradient = True\r\n",
    "        init_cell = paddle.to_tensor(init_cell_data)\r\n",
    "        #init_cell.stop_gradient = True\r\n",
    "\r\n",
    "        # 将输入的句子的mini-batch转换为词向量表示，转换后输入数据shape为[batch_size, max_seq_len, embedding_size]\r\n",
    "        x_emb = self.embedding(inputs)\r\n",
    "        x_emb = paddle.reshape(x_emb, shape=[-1, self.num_steps, self.embedding_size])\r\n",
    "        # 在获取的词向量后添加dropout层\r\n",
    "        if self.dropout_rate is not None and self.dropout_rate > 0.0:\r\n",
    "            x_emb = self.dropout_layer(x_emb)\r\n",
    "        \r\n",
    "        # 使用LSTM网络，把每个句子转换为语义向量\r\n",
    "        # 返回的rnn_out即为最后一个时间步的输出\r\n",
    "        rnn_out, (last_hidden, last_cell) = self.simple_lstm_rnn(x_emb, (init_hidden, init_cell))\r\n",
    "        #rnn_out, (last_hidden, last_cell) = self.simple_lstm_rnn(x_emb)\r\n",
    "        # 提取最后一层隐状态作为文本的语义向量\r\n",
    "        rnn_out = paddle.reshape(rnn_out, shape=[batch_size, -1])\r\n",
    "\r\n",
    "        # 将每个句子的向量表示映射到具体的类别上, logits的维度为[batch_size, vocab_size]\r\n",
    "        logits = self.cls_fc(rnn_out)\r\n",
    "        return logits"
   ]
  },
  {
   "cell_type": "code",
   "execution_count": 3,
   "metadata": {
    "collapsed": false
   },
   "outputs": [
    {
     "name": "stdout",
     "output_type": "stream",
     "text": [
      "test data size= 71152\n"
     ]
    }
   ],
   "source": [
    "max_seq_len = 4\r\n",
    "imikolov2 = Imikolov(mode='test', data_type='NGRAM', window_size=max_seq_len+1,min_word_freq=200)\r\n",
    "print('test data size=',len(imikolov2))\r\n",
    "# batch_size_test = int(len(imikolov2)/100)\r\n",
    "batch_size_test = len(imikolov2)\r\n",
    "test_loader = DataLoader(imikolov2, batch_size=batch_size_test)\r\n",
    "\r\n",
    "\r\n",
    "def evaluate(model):\r\n",
    "    # 开启模型测试模式，在该模式下，网络不会进行梯度更新\r\n",
    "    model.eval()\r\n",
    "\r\n",
    "    # 构造测试数据生成器\r\n",
    "    correct_num = 0\r\n",
    "    total_num = 0\r\n",
    "    y_test = np.array([])\r\n",
    "    pred = np.array([])\r\n",
    "    for step, data in enumerate(test_loader()):\r\n",
    "        print('step=',step)\r\n",
    "        data = np.array(data)\r\n",
    "        # print(data.shape)\r\n",
    "        if data.shape[1] < batch_size_test:\r\n",
    "                break\r\n",
    "        else:\r\n",
    "            data = data.reshape(batch_size_test,-1)\r\n",
    "        sentences = data[:,:4]\r\n",
    "        labels = data[:,-1]\r\n",
    "        # 将张量转换为Tensor类型\r\n",
    "        sentences = paddle.to_tensor(sentences)\r\n",
    "        labels = paddle.to_tensor(labels)\r\n",
    "        \r\n",
    "        # 获取模型对当前batch的输出结果\r\n",
    "        logits = model(sentences)\r\n",
    "        labels = labels.numpy()\r\n",
    "        # 使用softmax进行归一化\r\n",
    "        probs = F.softmax(logits)\r\n",
    "\r\n",
    "        # 把输出结果转换为numpy array数组，比较预测结果和对应label之间的关系，并更新tp，tn，fp和fn\r\n",
    "        probs = probs.numpy()\r\n",
    "        probs = probs.argmax(axis=1)\r\n",
    "        if pred.all == None and y_test.all == None:\r\n",
    "            y_test = labels\r\n",
    "            pred = probs\r\n",
    "        else:\r\n",
    "            y_test = np.concatenate((y_test,labels),axis=0)\r\n",
    "            pred = np.concatenate((pred,probs),axis=0)\r\n",
    "        correct_num += (probs == labels).sum()\r\n",
    "        total_num += labels.shape[0]\r\n",
    "        #break;\r\n",
    "        \r\n",
    "\r\n",
    "    # 整体准确率\r\n",
    "    # accuracy = (tp + tn) / (tp + tn + fp + fn)\r\n",
    "    accuracy = float(correct_num/total_num)\r\n",
    "    # 输出最终评估的模型效果\r\n",
    "    # print(\"TP: {}\\nFP: {}\\nTN: {}\\nFN: {}\\n\".format(tp, fp, tn, fn))\r\n",
    "    print(\"Accuracy: %.4f\" % accuracy)\r\n",
    "\r\n",
    "    print('y_test=', y_test)\r\n",
    "    print('pred=', pred)\r\n",
    "    accuracy = metrics.accuracy_score(y_test, pred)\r\n",
    "    overall_precison = metrics.precision_score(y_test, pred, average=\"micro\")\r\n",
    "    average_precison = metrics.precision_score(y_test, pred, average=\"macro\")\r\n",
    "    overall_recall = metrics.recall_score(y_test, pred, average=\"micro\")\r\n",
    "    average_recall = metrics.recall_score(y_test, pred, average=\"macro\")\r\n",
    "    print('accuracy = ', accuracy)\r\n",
    "    print('overall_precison = ', overall_precison)\r\n",
    "    print('average_precison = ', average_precison)\r\n",
    "    print('overall_recall = ', overall_recall)\r\n",
    "    print('average_recall = ', average_recall)\r\n"
   ]
  },
  {
   "cell_type": "code",
   "execution_count": 5,
   "metadata": {
    "collapsed": false
   },
   "outputs": [
    {
     "name": "stdout",
     "output_type": "stream",
     "text": [
      "train data size= 803522\n"
     ]
    }
   ],
   "source": [
    "# 定义训练参数\r\n",
    "epoch_num = 5\r\n",
    "batch_size = 32\r\n",
    "\r\n",
    "learning_rate = 0.001\r\n",
    "dropout_rate = 0.2\r\n",
    "num_layers = 3\r\n",
    "hidden_size = 200\r\n",
    "embedding_size = 20\r\n",
    "vocab_size = len(word_idx)\r\n",
    "\r\n",
    "# 数据生成器\r\n",
    "imikolov = Imikolov(mode='train', data_type='NGRAM', window_size=max_seq_len+1,min_word_freq=200)\r\n",
    "print('train data size=',len(imikolov))\r\n",
    "train_loader = DataLoader(imikolov, batch_size=batch_size, shuffle=True)\r\n",
    "\r\n",
    "# 检测是否可以使用GPU，如果可以优先使用GPU\r\n",
    "use_gpu = True if paddle.get_device().startswith(\"gpu\") else False\r\n",
    "if use_gpu:\r\n",
    "    paddle.set_device('gpu:0')\r\n",
    "\r\n",
    "# 实例化模型\r\n",
    "next_word_predicter = NextWordPredicter(hidden_size, vocab_size, embedding_size, class_num=vocab_size, num_steps=max_seq_len, num_layers=num_layers, dropout_rate=dropout_rate)\r\n",
    "\r\n",
    "# 指定优化策略，更新模型参数\r\n",
    "optimizer = paddle.optimizer.Adam(learning_rate=learning_rate, beta1=0.9, beta2=0.999, parameters= next_word_predicter.parameters()) # , beta1=0.9, beta2=0.999,\r\n",
    "# optimizer = paddle.optimizer.SGD(learning_rate=learning_rate,parameters= next_word_predicter.parameters())\r\n",
    "# 定义训练函数\r\n",
    "# 记录训练过程中的损失变化情况，可用于后续画图查看训练情况\r\n",
    "losses = []\r\n",
    "steps = []\r\n",
    "\r\n",
    "def train(model):\r\n",
    "    # 开启模型训练模式\r\n",
    "    \r\n",
    "    # 建立训练数据生成器，每次迭代生成一个batch，每个batch包含训练文本和文本对应的情感标签\r\n",
    "    for e in range(epoch_num):\r\n",
    "        model.train()\r\n",
    "        for step, data in enumerate(train_loader()):\r\n",
    "            data = np.array(data)\r\n",
    "            if data.shape[1] < batch_size:\r\n",
    "                break\r\n",
    "            else:\r\n",
    "                data = data.reshape(batch_size,-1)\r\n",
    "            # 获取数据，并将张量转换为Tensor类型\r\n",
    "            sentences = data[:,:4]\r\n",
    "            labels = data[:,-1]\r\n",
    "            sentences = paddle.to_tensor(sentences)\r\n",
    "            labels = paddle.to_tensor(labels)\r\n",
    "        \r\n",
    "            # 前向计算，将数据feed进模型，并得到预测的情感标签和损失\r\n",
    "            logits = model(sentences)\r\n",
    "            # logits = F.softmax(logits)\r\n",
    "            # 计算损失\r\n",
    "            loss = F.cross_entropy(input=logits, label=labels, soft_label=False)\r\n",
    "            loss = paddle.mean(loss)\r\n",
    "\r\n",
    "            # 后向传播\r\n",
    "            loss.backward()\r\n",
    "            # 更新参数\r\n",
    "            optimizer.step()\r\n",
    "            # 清除梯度\r\n",
    "            optimizer.clear_grad()\r\n",
    "\r\n",
    "            if step % 1000 == 0:\r\n",
    "                # 记录当前步骤的loss变化情况\r\n",
    "                losses.append(loss.numpy()[0])\r\n",
    "                steps.append(step)\r\n",
    "                # 打印当前loss数值\r\n",
    "                print(\"epoch %d, step %d, loss %.3f\" % (e+1, step, loss.numpy()[0]))\r\n",
    "                # print('label=',labels)\r\n",
    "                # print('predict=',logits.argmax(axis=1))\r\n",
    "        evaluate(model)\r\n"
   ]
  },
  {
   "cell_type": "code",
   "execution_count": 6,
   "metadata": {
    "collapsed": false
   },
   "outputs": [
    {
     "name": "stdout",
     "output_type": "stream",
     "text": [
      "epoch 1, step 0, loss 6.373\n",
      "epoch 1, step 1000, loss 4.150\n",
      "epoch 1, step 2000, loss 3.933\n",
      "epoch 1, step 3000, loss 3.695\n",
      "epoch 1, step 4000, loss 4.174\n",
      "epoch 1, step 5000, loss 4.724\n",
      "epoch 1, step 6000, loss 4.700\n",
      "epoch 1, step 7000, loss 4.441\n",
      "epoch 1, step 8000, loss 4.243\n",
      "epoch 1, step 9000, loss 4.019\n",
      "epoch 1, step 10000, loss 3.952\n",
      "epoch 1, step 11000, loss 3.793\n",
      "epoch 1, step 12000, loss 4.621\n",
      "epoch 1, step 13000, loss 4.606\n",
      "epoch 1, step 14000, loss 5.379\n",
      "epoch 1, step 15000, loss 4.144\n",
      "epoch 1, step 16000, loss 4.237\n",
      "epoch 1, step 17000, loss 4.166\n",
      "epoch 1, step 18000, loss 4.419\n",
      "epoch 1, step 19000, loss 4.085\n",
      "epoch 1, step 20000, loss 4.463\n",
      "epoch 1, step 21000, loss 3.720\n",
      "epoch 1, step 22000, loss 5.035\n",
      "epoch 1, step 23000, loss 4.155\n",
      "epoch 1, step 24000, loss 4.141\n",
      "epoch 1, step 25000, loss 4.693\n",
      "step= 0\n",
      "Accuracy: 0.2628\n",
      "y_test= [  3.  91. 584. ...  33. 353.   2.]\n",
      "pred= [584. 584. 584. ... 584. 584. 584.]\n",
      "accuracy =  0.26278952102541037\n",
      "overall_precison =  0.26278952102541037\n",
      "average_precison =  0.00044998205655036024\n",
      "overall_recall =  0.26278952102541037\n",
      "average_recall =  0.0017123287671232876\n"
     ]
    },
    {
     "name": "stderr",
     "output_type": "stream",
     "text": [
      "/opt/conda/envs/python35-paddle120-env/lib/python3.7/site-packages/sklearn/metrics/_classification.py:1248: UndefinedMetricWarning: Precision is ill-defined and being set to 0.0 in labels with no predicted samples. Use `zero_division` parameter to control this behavior.\n",
      "  _warn_prf(average, modifier, msg_start, len(result))\n"
     ]
    },
    {
     "name": "stdout",
     "output_type": "stream",
     "text": [
      "epoch 2, step 0, loss 3.483\n",
      "epoch 2, step 1000, loss 4.423\n",
      "epoch 2, step 2000, loss 3.455\n",
      "epoch 2, step 3000, loss 4.023\n",
      "epoch 2, step 4000, loss 3.373\n",
      "epoch 2, step 5000, loss 4.771\n",
      "epoch 2, step 6000, loss 4.456\n",
      "epoch 2, step 7000, loss 4.227\n",
      "epoch 2, step 8000, loss 4.919\n",
      "epoch 2, step 9000, loss 3.807\n",
      "epoch 2, step 10000, loss 4.767\n",
      "epoch 2, step 11000, loss 4.180\n",
      "epoch 2, step 12000, loss 5.087\n",
      "epoch 2, step 13000, loss 4.377\n",
      "epoch 2, step 14000, loss 4.307\n",
      "epoch 2, step 15000, loss 4.221\n",
      "epoch 2, step 16000, loss 3.765\n",
      "epoch 2, step 17000, loss 4.665\n",
      "epoch 2, step 18000, loss 4.653\n",
      "epoch 2, step 19000, loss 4.144\n",
      "epoch 2, step 20000, loss 4.400\n",
      "epoch 2, step 21000, loss 4.659\n",
      "epoch 2, step 22000, loss 3.849\n",
      "epoch 2, step 23000, loss 4.570\n",
      "epoch 2, step 24000, loss 4.757\n",
      "epoch 2, step 25000, loss 4.450\n",
      "step= 0\n",
      "Accuracy: 0.2628\n",
      "y_test= [  3.  91. 584. ...  33. 353.   2.]\n",
      "pred= [584. 584. 584. ... 584. 584. 584.]\n",
      "accuracy =  0.26278952102541037\n",
      "overall_precison =  0.26278952102541037\n",
      "average_precison =  0.00044998205655036024\n",
      "overall_recall =  0.26278952102541037\n",
      "average_recall =  0.0017123287671232876\n"
     ]
    },
    {
     "name": "stderr",
     "output_type": "stream",
     "text": [
      "/opt/conda/envs/python35-paddle120-env/lib/python3.7/site-packages/sklearn/metrics/_classification.py:1248: UndefinedMetricWarning: Precision is ill-defined and being set to 0.0 in labels with no predicted samples. Use `zero_division` parameter to control this behavior.\n",
      "  _warn_prf(average, modifier, msg_start, len(result))\n"
     ]
    },
    {
     "name": "stdout",
     "output_type": "stream",
     "text": [
      "epoch 3, step 0, loss 4.166\n",
      "epoch 3, step 1000, loss 4.637\n",
      "epoch 3, step 2000, loss 4.242\n",
      "epoch 3, step 3000, loss 3.068\n",
      "epoch 3, step 4000, loss 4.363\n",
      "epoch 3, step 5000, loss 4.143\n",
      "epoch 3, step 6000, loss 4.274\n",
      "epoch 3, step 7000, loss 3.860\n",
      "epoch 3, step 8000, loss 4.326\n",
      "epoch 3, step 9000, loss 3.708\n",
      "epoch 3, step 10000, loss 3.807\n",
      "epoch 3, step 11000, loss 4.775\n",
      "epoch 3, step 12000, loss 3.537\n",
      "epoch 3, step 13000, loss 4.256\n",
      "epoch 3, step 14000, loss 4.093\n",
      "epoch 3, step 15000, loss 4.579\n",
      "epoch 3, step 16000, loss 3.881\n",
      "epoch 3, step 17000, loss 4.432\n",
      "epoch 3, step 18000, loss 4.314\n",
      "epoch 3, step 19000, loss 4.348\n",
      "epoch 3, step 20000, loss 4.155\n",
      "epoch 3, step 21000, loss 4.697\n",
      "epoch 3, step 22000, loss 4.294\n",
      "epoch 3, step 23000, loss 3.614\n",
      "epoch 3, step 24000, loss 4.104\n",
      "epoch 3, step 25000, loss 4.004\n",
      "step= 0\n",
      "Accuracy: 0.2628\n",
      "y_test= [  3.  91. 584. ...  33. 353.   2.]\n",
      "pred= [584. 584. 584. ... 584. 584. 584.]\n",
      "accuracy =  0.26278952102541037\n",
      "overall_precison =  0.26278952102541037\n",
      "average_precison =  0.00044998205655036024\n",
      "overall_recall =  0.26278952102541037\n",
      "average_recall =  0.0017123287671232876\n"
     ]
    },
    {
     "name": "stderr",
     "output_type": "stream",
     "text": [
      "/opt/conda/envs/python35-paddle120-env/lib/python3.7/site-packages/sklearn/metrics/_classification.py:1248: UndefinedMetricWarning: Precision is ill-defined and being set to 0.0 in labels with no predicted samples. Use `zero_division` parameter to control this behavior.\n",
      "  _warn_prf(average, modifier, msg_start, len(result))\n"
     ]
    },
    {
     "name": "stdout",
     "output_type": "stream",
     "text": [
      "epoch 4, step 0, loss 3.665\n",
      "epoch 4, step 1000, loss 3.731\n",
      "epoch 4, step 2000, loss 3.900\n",
      "epoch 4, step 3000, loss 3.699\n",
      "epoch 4, step 4000, loss 4.272\n",
      "epoch 4, step 5000, loss 3.655\n",
      "epoch 4, step 6000, loss 4.377\n",
      "epoch 4, step 7000, loss 2.965\n",
      "epoch 4, step 8000, loss 4.157\n",
      "epoch 4, step 9000, loss 4.615\n",
      "epoch 4, step 10000, loss 4.207\n",
      "epoch 4, step 11000, loss 4.484\n",
      "epoch 4, step 12000, loss 3.480\n",
      "epoch 4, step 13000, loss 4.546\n",
      "epoch 4, step 14000, loss 3.706\n",
      "epoch 4, step 15000, loss 4.469\n",
      "epoch 4, step 16000, loss 4.512\n",
      "epoch 4, step 17000, loss 3.615\n",
      "epoch 4, step 18000, loss 4.962\n",
      "epoch 4, step 19000, loss 4.985\n",
      "epoch 4, step 20000, loss 4.512\n",
      "epoch 4, step 21000, loss 4.033\n",
      "epoch 4, step 22000, loss 4.571\n",
      "epoch 4, step 23000, loss 4.101\n",
      "epoch 4, step 24000, loss 4.461\n",
      "epoch 4, step 25000, loss 3.893\n",
      "step= 0\n",
      "Accuracy: 0.2628\n",
      "y_test= [  3.  91. 584. ...  33. 353.   2.]\n",
      "pred= [584. 584. 584. ... 584. 584. 584.]\n",
      "accuracy =  0.26278952102541037\n",
      "overall_precison =  0.26278952102541037\n",
      "average_precison =  0.00044998205655036024\n",
      "overall_recall =  0.26278952102541037\n",
      "average_recall =  0.0017123287671232876\n"
     ]
    },
    {
     "name": "stderr",
     "output_type": "stream",
     "text": [
      "/opt/conda/envs/python35-paddle120-env/lib/python3.7/site-packages/sklearn/metrics/_classification.py:1248: UndefinedMetricWarning: Precision is ill-defined and being set to 0.0 in labels with no predicted samples. Use `zero_division` parameter to control this behavior.\n",
      "  _warn_prf(average, modifier, msg_start, len(result))\n"
     ]
    },
    {
     "name": "stdout",
     "output_type": "stream",
     "text": [
      "epoch 5, step 0, loss 3.811\n",
      "epoch 5, step 1000, loss 4.184\n",
      "epoch 5, step 2000, loss 4.056\n",
      "epoch 5, step 3000, loss 4.261\n",
      "epoch 5, step 4000, loss 3.948\n",
      "epoch 5, step 5000, loss 4.345\n",
      "epoch 5, step 6000, loss 4.198\n",
      "epoch 5, step 7000, loss 4.466\n",
      "epoch 5, step 8000, loss 3.490\n",
      "epoch 5, step 9000, loss 3.975\n",
      "epoch 5, step 10000, loss 3.873\n",
      "epoch 5, step 11000, loss 4.056\n",
      "epoch 5, step 12000, loss 4.617\n",
      "epoch 5, step 13000, loss 3.810\n",
      "epoch 5, step 14000, loss 3.893\n",
      "epoch 5, step 15000, loss 3.871\n",
      "epoch 5, step 16000, loss 4.323\n",
      "epoch 5, step 17000, loss 3.889\n",
      "epoch 5, step 18000, loss 4.023\n",
      "epoch 5, step 19000, loss 4.002\n",
      "epoch 5, step 20000, loss 5.123\n",
      "epoch 5, step 21000, loss 3.856\n",
      "epoch 5, step 22000, loss 4.443\n",
      "epoch 5, step 23000, loss 4.044\n",
      "epoch 5, step 24000, loss 4.486\n",
      "epoch 5, step 25000, loss 3.706\n",
      "step= 0\n",
      "Accuracy: 0.2628\n",
      "y_test= [  3.  91. 584. ...  33. 353.   2.]\n",
      "pred= [584. 584. 584. ... 584. 584. 584.]\n",
      "accuracy =  0.26278952102541037\n",
      "overall_precison =  0.26278952102541037\n",
      "average_precison =  0.00044998205655036024\n",
      "overall_recall =  0.26278952102541037\n",
      "average_recall =  0.0017123287671232876\n"
     ]
    },
    {
     "name": "stderr",
     "output_type": "stream",
     "text": [
      "/opt/conda/envs/python35-paddle120-env/lib/python3.7/site-packages/sklearn/metrics/_classification.py:1248: UndefinedMetricWarning: Precision is ill-defined and being set to 0.0 in labels with no predicted samples. Use `zero_division` parameter to control this behavior.\n",
      "  _warn_prf(average, modifier, msg_start, len(result))\n"
     ]
    },
    {
     "data": {
      "text/plain": [
       "'\\n# 评估模型\\nevaluate(next_word_predicter)\\n'"
      ]
     },
     "execution_count": 6,
     "metadata": {},
     "output_type": "execute_result"
    }
   ],
   "source": [
    "#训练模型\r\n",
    "train(next_word_predicter)\r\n",
    "\r\n",
    "# 保存模型，包含两部分：模型参数和优化器参数\r\n",
    "model_name = \"next_word_predicter\"\r\n",
    "# 保存训练好的模型参数\r\n",
    "paddle.save(next_word_predicter.state_dict(), \"{}.pdparams\".format(model_name))\r\n",
    "# 保存优化器参数，方便后续模型继续训练\r\n",
    "paddle.save(optimizer.state_dict(), \"{}.pdopt\".format(model_name))\r\n",
    "\r\n",
    "# 加载训练好的模型进行预测，重新实例化一个模型，然后将训练好的模型参数加载到新模型里面\r\n",
    "saved_state = paddle.load(\"./next_word_predicter.pdparams\")\r\n",
    "next_word_predicter = NextWordPredicter(hidden_size, vocab_size, embedding_size,class_num=vocab_size, num_steps=max_seq_len, num_layers=num_layers, dropout_rate=dropout_rate)\r\n",
    "next_word_predicter.load_dict(saved_state)\r\n",
    "'''\r\n",
    "# 评估模型\r\n",
    "evaluate(next_word_predicter)\r\n",
    "'''"
   ]
  },
  {
   "cell_type": "code",
   "execution_count": 14,
   "metadata": {
    "collapsed": false
   },
   "outputs": [
    {
     "name": "stdout",
     "output_type": "stream",
     "text": [
      "real:  ['<unk>', b'in', b'both', b'stocks', b'and']\n",
      "predict: ['<unk>', b'in', b'both', b'stocks', '<unk>']\n"
     ]
    }
   ],
   "source": [
    "def predict(model,index):\r\n",
    "    data = imikolov2[index]\r\n",
    "    data = np.array(data)\r\n",
    "    real = [word_idx_convert[i] for i in data]\r\n",
    "    print('real: ', real)\r\n",
    "    sentences = data[:4]\r\n",
    "    predict = sentences.copy()\r\n",
    "    sentences = np.expand_dims(sentences, 0)\r\n",
    "    sentences = paddle.to_tensor(sentences)\r\n",
    "    logits = model(sentences)\r\n",
    "    logits = logits.argmax(axis=1)\r\n",
    "    predict = np.concatenate((predict,logits),axis=0)\r\n",
    "    predict_s = [word_idx_convert[i] for i in predict]\r\n",
    "    print('predict:', predict_s)\r\n",
    "\r\n",
    "# 加载训练好的模型进行预测，重新实例化一个模型，然后将训练好的模型参数加载到新模型里面\r\n",
    "word_idx_convert = dict([(v,k) for (k,v) in word_idx.items()])\r\n",
    "saved_state = paddle.load(\"./next_word_predicter.pdparams\")\r\n",
    "next_word_predicter = NextWordPredicter(hidden_size, vocab_size, embedding_size,class_num=vocab_size, num_steps=max_seq_len, num_layers=num_layers, dropout_rate=dropout_rate)\r\n",
    "next_word_predicter.load_dict(saved_state)\r\n",
    "\r\n",
    "predict(next_word_predicter, 60)"
   ]
  }
 ],
 "metadata": {
  "kernelspec": {
   "display_name": "PaddlePaddle 2.1.0 (Python 3.5)",
   "language": "python",
   "name": "py35-paddle1.2.0"
  },
  "language_info": {
   "codemirror_mode": {
    "name": "ipython",
    "version": 3
   },
   "file_extension": ".py",
   "mimetype": "text/x-python",
   "name": "python",
   "nbconvert_exporter": "python",
   "pygments_lexer": "ipython3",
   "version": "3.7.4"
  }
 },
 "nbformat": 4,
 "nbformat_minor": 1
}
