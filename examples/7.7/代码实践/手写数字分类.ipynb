{
 "cells": [
  {
   "cell_type": "code",
   "execution_count": null,
   "metadata": {
    "collapsed": false
   },
   "outputs": [],
   "source": [
    "import os\n",
    "import paddle\n",
    "from paddle import nn ,optimizer\n",
    "from paddle.vision import datasets\n",
    "import paddle.vision.transforms as transforms\n",
    "import matplotlib.pyplot as plt\n",
    "import numpy as np"
   ]
  },
  {
   "cell_type": "markdown",
   "metadata": {
    "collapsed": false
   },
   "source": [
    "#加载数据集"
   ]
  },
  {
   "cell_type": "code",
   "execution_count": null,
   "metadata": {
    "collapsed": false
   },
   "outputs": [],
   "source": [
    "transform = Compose([Normalize(mean=[127.5],\n",
    "                               std=[127.5],\n",
    "                               data_format='CHW')])\n",
    "\n",
    "train_dataset=paddle.vision.datasets.MNIST(mode=\"train\", transform=transform)\n",
    "eval_dataset=paddle.vision.datasets.MNIST(mode=\"test\", transform=transform)\n",
    "\n",
    "#加载训练数据\n",
    "train_loader = paddle.io.DataLoader(\n",
    "    train_dataset,\n",
    "    batch_size=64,\n",
    "    shuffle=True\n",
    ")\n",
    "\n",
    "#加载测试数据集\n",
    "test_loader = paddle.io.DataLoader(\n",
    "    eval_dataset,\n",
    "    batch_size=1000,\n",
    "    shuffle=True\n",
    ")"
   ]
  },
  {
   "cell_type": "markdown",
   "metadata": {
    "collapsed": false
   },
   "source": [
    "#搭建LeNet网络\n",
    "![](https://ai-studio-static-online.cdn.bcebos.com/3af630e7969d4751b4f24300f7cd88874340412d9ad84cc585c6865c07ca917b)"
   ]
  },
  {
   "cell_type": "code",
   "execution_count": null,
   "metadata": {
    "collapsed": false
   },
   "outputs": [],
   "source": [
    "#构建模型，input_size = 1*28*28\n",
    "class LeNet(nn.Layer):\n",
    "    def __init__(self):\n",
    "        super(LeNet, self).__init__()\n",
    "        self.conv1 = nn.Sequential(\n",
    "            nn.Conv2D(1,6,5,1,2), #6*28*28\n",
    "            nn.ReLU(),\n",
    "            nn.MaxPool2D(2,2), #6*14*14\n",
    "        )\n",
    "\n",
    "        self.conv2 = nn.Sequential(\n",
    "            nn.Conv2D(6,16,5), #16*10*10\n",
    "            nn.ReLU(),\n",
    "            nn.MaxPool2D(2,2), #16*5*5\n",
    "        )\n",
    "\n",
    "        self.fc = nn.Sequential(\n",
    "            nn.Linear(16*5*5, 120),\n",
    "            nn.ReLU(),\n",
    "            nn.Linear(120,84),\n",
    "            nn.ReLU(),\n",
    "            nn.Linear(84,10),\n",
    "        )\n",
    "    \n",
    "    def forward(self, x):\n",
    "        x = self.conv1(x)\n",
    "        x = self.conv2(x)\n",
    "        x = paddle.flatten(x, start_axis=1,stop_axis=-1)\n",
    "        x = self.fc(x)\n",
    "        return x"
   ]
  },
  {
   "cell_type": "code",
   "execution_count": null,
   "metadata": {
    "collapsed": false
   },
   "outputs": [
    {
     "data": {
      "text/plain": [
       "LeNet(\n",
       "  (conv1): Sequential(\n",
       "    (0): Conv2D(1, 6, kernel_size=[5, 5], padding=2, data_format=NCHW)\n",
       "    (1): ReLU()\n",
       "    (2): MaxPool2D(kernel_size=2, stride=2, padding=0)\n",
       "  )\n",
       "  (conv2): Sequential(\n",
       "    (0): Conv2D(6, 16, kernel_size=[5, 5], data_format=NCHW)\n",
       "    (1): ReLU()\n",
       "    (2): MaxPool2D(kernel_size=2, stride=2, padding=0)\n",
       "  )\n",
       "  (fc): Sequential(\n",
       "    (0): Linear(in_features=400, out_features=120, dtype=float32)\n",
       "    (1): ReLU()\n",
       "    (2): Linear(in_features=120, out_features=84, dtype=float32)\n",
       "    (3): ReLU()\n",
       "    (4): Linear(in_features=84, out_features=10, dtype=float32)\n",
       "  )\n",
       ")"
      ]
     },
     "execution_count": null,
     "metadata": {},
     "output_type": "execute_result"
    }
   ],
   "source": [
    "model = LeNet()\n",
    "model"
   ]
  },
  {
   "cell_type": "markdown",
   "metadata": {
    "collapsed": false
   },
   "source": [
    "#训练模型"
   ]
  },
  {
   "cell_type": "code",
   "execution_count": 219,
   "metadata": {
    "collapsed": false
   },
   "outputs": [
    {
     "name": "stdout",
     "output_type": "stream",
     "text": [
      "epoch: 1, batch: 0, loss is: [3.116168]\n",
      "epoch: 1, batch: 200, loss is: [0.1096438]\n",
      "epoch: 1, batch: 400, loss is: [0.23729137]\n",
      "epoch: 1, batch: 600, loss is: [0.07169929]\n"
     ]
    }
   ],
   "source": [
    "use_gpu = False\n",
    "place = paddle.CUDAPlace(0) if use_gpu else paddle.CPUPlace()\n",
    "\n",
    "losses = []\n",
    "\n",
    "with paddle.fluid.dygraph.guard(place):\n",
    "    #训练\n",
    "    model = LeNet()\n",
    "    model.train()\n",
    "\n",
    "    # optim = optimizer.Adam(learning_rate=0.001, parameters=model.parameters()) #优化算法\n",
    "    optim = fluid.optimizer.AdamOptimizer(learning_rate=0.01, parameter_list=model.parameters())\n",
    "    criterion = nn.CrossEntropyLoss() #损失函数\n",
    "\n",
    "    epochs = 10\n",
    "    for epoch in range(epochs):\n",
    "        for batch_id,(data, target) in enumerate(train_loader):\n",
    "            data = paddle.fluid.dygraph.to_variable(data)\n",
    "            target = paddle.fluid.dygraph.to_variable(target)\n",
    "\n",
    "            #前向计算的过程\n",
    "            predict = model(data)\n",
    "            \n",
    "            #计算损失，取一个批次样本损失的平均值\n",
    "            loss = criterion(predict, target)\n",
    "            avg_loss = fluid.layers.mean(loss)\n",
    "            \n",
    "            #每训练了200批次的数据，打印下当前Loss的情况\n",
    "            if batch_id % 200 == 0:\n",
    "                losses.append(np.squeeze(avg_loss.numpy()))\n",
    "                print(\"epoch: {}, batch: {}, loss is: {}\".format(epoch+1, batch_id, avg_loss.numpy()))\n",
    "            \n",
    "            #后向传播，更新参数的过程\n",
    "            avg_loss.backward()\n",
    "            optim.minimize(avg_loss)\n",
    "            model.clear_gradients()\n",
    "\n",
    "    #保存模型参数\n",
    "    fluid.save_dygraph(model.state_dict(), 'mnist')"
   ]
  },
  {
   "cell_type": "code",
   "execution_count": 221,
   "metadata": {
    "collapsed": false
   },
   "outputs": [
    {
     "data": {
      "text/plain": [
       "[<matplotlib.lines.Line2D at 0x7f54e4572310>]"
      ]
     },
     "execution_count": 221,
     "metadata": {},
     "output_type": "execute_result"
    },
    {
     "data": {
      "image/png": "[encoded data removed]",
      "text/plain": [
       "<Figure size 432x288 with 1 Axes>"
      ]
     },
     "metadata": {},
     "output_type": "display_data"
    }
   ],
   "source": [
    "plt.plot(range(len(losses)), losses)"
   ]
  },
  {
   "cell_type": "markdown",
   "metadata": {
    "collapsed": false
   },
   "source": [
    "#测试模型"
   ]
  },
  {
   "cell_type": "code",
   "execution_count": null,
   "metadata": {
    "collapsed": false
   },
   "outputs": [
    {
     "name": "stdout",
     "output_type": "stream",
     "text": [
      "\n",
      "Test set: Average loss: 0.000062, Accuracy:9862/10000 (99%)\n",
      "\n"
     ]
    }
   ],
   "source": [
    "with paddle.fluid.dygraph.guard(place):\n",
    "    test_loss = 0\n",
    "    correct = 0\n",
    "\n",
    "    for data, target in test_loader:\n",
    "        data = paddle.fluid.dygraph.to_variable(data)\n",
    "        target = paddle.fluid.dygraph.to_variable(target)\n",
    "        output = model(data)\n",
    "        test_loss += criterion(output, target).cpu().item()\n",
    "        correct += (np.argmax(output,axis=1) == target.numpy().reshape(-1)).sum().item()\n",
    "    test_loss = test_loss / len(test_loader.dataset)\n",
    "    print('\\nTest set: Average loss: {:.6f}, Accuracy:{}/{} ({:.0f}%)\\n'.format(test_loss, correct, len(test_loader.dataset), 100*correct/len(test_loader.dataset)))"
   ]
  }
 ],
 "metadata": {
  "kernelspec": {
   "display_name": "PaddlePaddle 2.1.0 (Python 3.5)",
   "language": "python",
   "name": "py35-paddle1.2.0"
  },
  "language_info": {
   "codemirror_mode": {
    "name": "ipython",
    "version": 3
   },
   "file_extension": ".py",
   "mimetype": "text/x-python",
   "name": "python",
   "nbconvert_exporter": "python",
   "pygments_lexer": "ipython3",
   "version": "3.7.4"
  }
 },
 "nbformat": 4,
 "nbformat_minor": 1
}
