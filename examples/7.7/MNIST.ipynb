{
 "cells": [
  {
   "cell_type": "markdown",
   "metadata": {
    "collapsed": false
   },
   "source": [
    "使用内嵌Inception模块的简单卷积神经网络完成MNIST数据集的分类问题。\n",
    "Inception模块的核心就是把GoogLeNet的一些大的卷积层换成 1x1, 3x3, 5x5的小卷积层和3x3的池化，一方面增加了网络的宽度，另一方面增加了网络对尺度的适应性。但是5x5卷积层的计算量会非常大，造成特征图的厚度也很大。并且Inception还在3x3，5x5，池化后分别加上1x1的卷积层起到降低特征图厚度的作用，这就是InceptionV1的结构。\n",
    "将InceptionV1放入普通的CNN中作为本次分类所使用的网络。自从AlexNet之后，CNN就被广泛用于图像分类这一领域了。所以本次也使用CNN用来分类"
   ]
  },
  {
   "cell_type": "code",
   "execution_count": 3,
   "metadata": {
    "collapsed": false
   },
   "outputs": [],
   "source": [
    "import paddle\r\n",
    "import paddle.nn.functional as F\r\n",
    "import paddle.nn as nn\r\n",
    "import numpy as np"
   ]
  },
  {
   "cell_type": "code",
   "execution_count": 4,
   "metadata": {
    "collapsed": true
   },
   "outputs": [
    {
     "name": "stderr",
     "output_type": "stream",
     "text": [
      "Cache file /home/aistudio/.cache/paddle/dataset/mnist/train-images-idx3-ubyte.gz not found, downloading https://dataset.bj.bcebos.com/mnist/train-images-idx3-ubyte.gz \n",
      "Begin to download\n",
      "\n",
      "Download finished\n",
      "Cache file /home/aistudio/.cache/paddle/dataset/mnist/train-labels-idx1-ubyte.gz not found, downloading https://dataset.bj.bcebos.com/mnist/train-labels-idx1-ubyte.gz \n",
      "Begin to download\n",
      "........\n",
      "Download finished\n",
      "Cache file /home/aistudio/.cache/paddle/dataset/mnist/t10k-images-idx3-ubyte.gz not found, downloading https://dataset.bj.bcebos.com/mnist/t10k-images-idx3-ubyte.gz \n",
      "Begin to download\n",
      "\n",
      "Download finished\n",
      "Cache file /home/aistudio/.cache/paddle/dataset/mnist/t10k-labels-idx1-ubyte.gz not found, downloading https://dataset.bj.bcebos.com/mnist/t10k-labels-idx1-ubyte.gz \n",
      "Begin to download\n",
      "..\n",
      "Download finished\n"
     ]
    }
   ],
   "source": [
    "from paddle.vision.transforms import Compose,Normalize\r\n",
    "transform = Compose([Normalize(mean=[127.5],std=[127.5], data_format='CHW')])\r\n",
    "train_set = paddle.vision.datasets.MNIST(mode ='train', transform=transform)\r\n",
    "test_set = paddle.vision.datasets.MNIST(mode = 'test', transform=transform)\r\n"
   ]
  },
  {
   "cell_type": "code",
   "execution_count": 6,
   "metadata": {
    "collapsed": false
   },
   "outputs": [],
   "source": [
    "class InceptionA(paddle.nn.Layer):\r\n",
    "\r\n",
    "    def __init__(self, in_channles):\r\n",
    "        super(InceptionA, self).__init__()\r\n",
    "        self.branch1 = nn.Sequential(\r\n",
    "            nn.Conv2D(in_channels=in_channles, out_channels=16, kernel_size=1),\r\n",
    "            nn.Conv2D(16, 24, kernel_size=3, padding=1),\r\n",
    "            nn.Conv2D(24,24,3,padding=1)\r\n",
    "        )\r\n",
    "        self.branch2 = nn.Sequential(\r\n",
    "            nn.Conv2D(in_channles, 16, 1),\r\n",
    "            nn.Conv2D(16, 24, 5,padding=2)\r\n",
    "        )\r\n",
    "        self.branch3 = nn.Conv2D(in_channles, 16, 1)\r\n",
    "        self.branch4 = nn.Conv2D(in_channles, 24, 1)\r\n",
    "\r\n",
    "    def forward(self, x):\r\n",
    "        x1 = self.branch1(x)\r\n",
    "        x2 = self.branch2(x)\r\n",
    "        x3 = self.branch3(x)\r\n",
    "        x4 = F.avg_pool2d(x, kernel_size=3, stride=1, padding=1)\r\n",
    "        x4 = self.branch4(x4)\r\n",
    "        output = [x3, x2, x1, x4]\r\n",
    "        return paddle.concat(output, axis=1)\r\n",
    "    #Inception模块的定义"
   ]
  },
  {
   "cell_type": "code",
   "execution_count": 14,
   "metadata": {
    "collapsed": false
   },
   "outputs": [],
   "source": [
    "class Net(paddle.nn.Layer):\r\n",
    "    def __init__(self):\r\n",
    "        super(Net, self).__init__()\r\n",
    "        self.conv1 = nn.Conv2D(1, 10, 5)\r\n",
    "        self.conv2 = nn.Conv2D(88, 20, 5)\r\n",
    "        self.incep1 = InceptionA(in_channles=10)\r\n",
    "        self.incep2 = InceptionA(in_channles=20)\r\n",
    "        self.mp = nn.MaxPool2D(2)\r\n",
    "        self.fc = nn.Linear(1408, 10)\r\n",
    "\r\n",
    "    def forward(self, x):\r\n",
    "        x = F.relu(self.mp(self.conv1(x))) #12\r\n",
    "        x = self.incep1(x)\r\n",
    "        x = F.relu(self.mp(self.conv2(x))) #4\r\n",
    "        x = self.incep2(x)\r\n",
    "        x = paddle.flatten(x, start_axis=1, stop_axis=-1)\r\n",
    "        x = self.fc(x)\r\n",
    "        return x \r\n",
    "    #带有Inception的简单网络, 结构是卷积-池化-Relu-Inception的两次重复，很简单。"
   ]
  },
  {
   "cell_type": "code",
   "execution_count": 15,
   "metadata": {
    "collapsed": false
   },
   "outputs": [],
   "source": [
    "model = paddle.Model(Net())\r\n",
    "loss_func = nn.CrossEntropyLoss()\r\n",
    "optimizer = paddle.optimizer.Adam(learning_rate=0.01, parameters=model.parameters()) #配置训练用的优化器，损失函数"
   ]
  },
  {
   "cell_type": "code",
   "execution_count": 16,
   "metadata": {
    "collapsed": false
   },
   "outputs": [
    {
     "name": "stdout",
     "output_type": "stream",
     "text": [
      "The loss value printed in the log is the current step, and the metric is the average value of previous steps.\n",
      "Epoch 1/2\n",
      "step 938/938 [==============================] - loss: 0.1897 - acc: 0.6480 - 157ms/step         \n",
      "Epoch 2/2\n",
      "step 938/938 [==============================] - loss: 0.0308 - acc: 0.9409 - 158ms/step         \n"
     ]
    }
   ],
   "source": [
    "from paddle.metric import Accuracy\r\n",
    "#根据paddle提供的Model构建实例，使用该API定义训练和测试\r\n",
    "#配置模型\r\n",
    "model.prepare(\r\n",
    "    optimizer,\r\n",
    "    loss_func,\r\n",
    "    Accuracy()\r\n",
    ")\r\n",
    "#训练模型\r\n",
    "model.fit(train_data=train_set,\r\n",
    "    epochs=2,\r\n",
    "    batch_size=64,\r\n",
    "    verbose=1\r\n",
    ")\r\n"
   ]
  },
  {
   "cell_type": "code",
   "execution_count": 17,
   "metadata": {
    "collapsed": false
   },
   "outputs": [
    {
     "name": "stdout",
     "output_type": "stream",
     "text": [
      "Eval begin...\n",
      "step 157/157 [==============================] - loss: 0.0562 - acc: 0.9496 - 41ms/step        \n",
      "Eval samples: 10000\n"
     ]
    },
    {
     "data": {
      "text/plain": [
       "{'loss': [0.056204535], 'acc': 0.9496}"
      ]
     },
     "execution_count": 17,
     "metadata": {},
     "output_type": "execute_result"
    }
   ],
   "source": [
    "model.evaluate(test_set, batch_size=64, verbose=1)\r\n",
    "#评价和预测"
   ]
  }
 ],
 "metadata": {
  "kernelspec": {
   "display_name": "PaddlePaddle 2.1.0 (Python 3.5)",
   "language": "python",
   "name": "py35-paddle1.2.0"
  },
  "language_info": {
   "codemirror_mode": {
    "name": "ipython",
    "version": 3
   },
   "file_extension": ".py",
   "mimetype": "text/x-python",
   "name": "python",
   "nbconvert_exporter": "python",
   "pygments_lexer": "ipython3",
   "version": "3.7.4"
  }
 },
 "nbformat": 4,
 "nbformat_minor": 1
}
