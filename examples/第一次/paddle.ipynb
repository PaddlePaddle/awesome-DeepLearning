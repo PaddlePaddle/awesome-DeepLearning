{
 "cells": [
  {
   "cell_type": "code",
   "execution_count": 5,
   "metadata": {
    "collapsed": false
   },
   "outputs": [],
   "source": [
    "import paddle.fluid as fluid\r\n",
    "import paddle\r\n",
    "import numpy as np\r\n",
    "import os\r\n",
    "import matplotlib.pyplot as plt"
   ]
  },
  {
   "cell_type": "markdown",
   "metadata": {
    "collapsed": false
   },
   "source": [
    " **Step1：准备数据。**\n",
    "\n"
   ]
  },
  {
   "cell_type": "code",
   "execution_count": 6,
   "metadata": {
    "collapsed": false
   },
   "outputs": [
    {
     "name": "stderr",
     "output_type": "stream",
     "text": [
      "\n",
      "\n"
     ]
    }
   ],
   "source": [
    "BUF_SIZE=500\r\n",
    "BATCH_SIZE=20\r\n",
    "\r\n",
    "#用于训练的数据提供器，每次从缓存中随机读取批次大小的数据\r\n",
    "train_reader = paddle.batch(\r\n",
    "    paddle.reader.shuffle(paddle.dataset.uci_housing.train(), \r\n",
    "                          buf_size=BUF_SIZE),                    \r\n",
    "    batch_size=BATCH_SIZE)   \r\n",
    "#用于测试的数据提供器，每次从缓存中随机读取批次大小的数据\r\n",
    "test_reader = paddle.batch(\r\n",
    "    paddle.reader.shuffle(paddle.dataset.uci_housing.test(),\r\n",
    "                          buf_size=BUF_SIZE),\r\n",
    "    batch_size=BATCH_SIZE)  \r\n",
    "    "
   ]
  },
  {
   "cell_type": "code",
   "execution_count": 7,
   "metadata": {
    "collapsed": false
   },
   "outputs": [
    {
     "name": "stdout",
     "output_type": "stream",
     "text": [
      "(array([-0.0405441 ,  0.06636364, -0.32356227, -0.06916996, -0.03435197,\n",
      "        0.05563625, -0.03475696,  0.02682186, -0.37171335, -0.21419304,\n",
      "       -0.33569506,  0.10143217, -0.21172912]), array([24.]))\n"
     ]
    },
    {
     "name": "stderr",
     "output_type": "stream",
     "text": [
      "\n"
     ]
    }
   ],
   "source": [
    "#用于打印，查看uci_housing数据\r\n",
    "train_data=paddle.dataset.uci_housing.train();\r\n",
    "sampledata=next(train_data())\r\n",
    "print(sampledata)"
   ]
  },
  {
   "cell_type": "markdown",
   "metadata": {
    "collapsed": false
   },
   "source": [
    " **Step2:网络配置**\n",
    "\n"
   ]
  },
  {
   "cell_type": "code",
   "execution_count": 8,
   "metadata": {
    "collapsed": false
   },
   "outputs": [],
   "source": [
    "#定义张量变量x，表示13维的特征值\r\n",
    "x = fluid.layers.data(name='x', shape=[13], dtype='float32')\r\n",
    "#定义张量y,表示目标值\r\n",
    "y = fluid.layers.data(name='y', shape=[1], dtype='float32')\r\n",
    "#定义一个简单的线性网络,连接输入和输出的全连接层\r\n",
    "#input:输入tensor;\r\n",
    "#size:该层输出单元的数目\r\n",
    "#act:激活函数\r\n",
    "y_predict=fluid.layers.fc(input=x,size=1,act=None)"
   ]
  },
  {
   "cell_type": "markdown",
   "metadata": {
    "collapsed": false
   },
   "source": [
    "**(2)定义损失函数**\n",
    "\n",
    "此处使用均方差损失函数。\n",
    "\n",
    "square_error_cost(input,lable):接受输入预测值和目标值，并返回方差估计,即为（y-y_predict）的平方"
   ]
  },
  {
   "cell_type": "code",
   "execution_count": 9,
   "metadata": {
    "collapsed": false
   },
   "outputs": [],
   "source": [
    "cost = fluid.layers.square_error_cost(input=y_predict, label=y) #求一个batch的损失值\r\n",
    "avg_cost = fluid.layers.mean(cost)                              #对损失值求平均值"
   ]
  },
  {
   "cell_type": "markdown",
   "metadata": {
    "collapsed": false
   },
   "source": [
    "**(3)定义优化函数**\n",
    "\n",
    "此处使用的是随机梯度下降。"
   ]
  },
  {
   "cell_type": "code",
   "execution_count": 10,
   "metadata": {
    "collapsed": false
   },
   "outputs": [],
   "source": [
    "optimizer = fluid.optimizer.SGDOptimizer(learning_rate=0.001)\r\n",
    "opts = optimizer.minimize(avg_cost)"
   ]
  },
  {
   "cell_type": "code",
   "execution_count": 11,
   "metadata": {
    "collapsed": false
   },
   "outputs": [],
   "source": [
    "test_program = fluid.default_main_program().clone(for_test=True)"
   ]
  },
  {
   "cell_type": "markdown",
   "metadata": {
    "collapsed": false
   },
   "source": [
    " **Step3.模型训练** and **Step4.模型评估**"
   ]
  },
  {
   "cell_type": "markdown",
   "metadata": {
    "collapsed": false
   },
   "source": [
    "**（1）创建Executor**\n"
   ]
  },
  {
   "cell_type": "code",
   "execution_count": 12,
   "metadata": {
    "collapsed": false
   },
   "outputs": [
    {
     "data": {
      "text/plain": [
       "[]"
      ]
     },
     "execution_count": 12,
     "metadata": {},
     "output_type": "execute_result"
    }
   ],
   "source": [
    "\r\n",
    "use_cuda = False                         #use_cuda为False,表示运算场所为CPU;use_cuda为True,表示运算场所为GPU           \r\n",
    "place = fluid.CUDAPlace(0) if use_cuda else fluid.CPUPlace()\r\n",
    "exe = fluid.Executor(place)              #创建一个Executor实例exe\r\n",
    "exe.run(fluid.default_startup_program()) #Executor的run()方法执行startup_program(),进行参数初始化"
   ]
  },
  {
   "cell_type": "markdown",
   "metadata": {
    "collapsed": false
   },
   "source": [
    "**（2）定义输入数据维度**\n",
    "\n"
   ]
  },
  {
   "cell_type": "code",
   "execution_count": 13,
   "metadata": {
    "collapsed": false
   },
   "outputs": [],
   "source": [
    "# 定义输入数据维度\r\n",
    "feeder = fluid.DataFeeder(place=place, feed_list=[x, y])#feed_list:向模型输入的变量表或变量表名"
   ]
  },
  {
   "cell_type": "markdown",
   "metadata": {
    "collapsed": false
   },
   "source": [
    "**（3）定义绘制训练过程的损失值变化趋势的方法draw_train_process**"
   ]
  },
  {
   "cell_type": "code",
   "execution_count": 14,
   "metadata": {
    "collapsed": false
   },
   "outputs": [],
   "source": [
    "iter=0;\r\n",
    "iters=[]\r\n",
    "train_costs=[]\r\n",
    "\r\n",
    "def draw_train_process(iters,train_costs):\r\n",
    "    title=\"training cost\"\r\n",
    "    plt.title(title, fontsize=24)\r\n",
    "    plt.xlabel(\"iter\", fontsize=14)\r\n",
    "    plt.ylabel(\"cost\", fontsize=14)\r\n",
    "    plt.plot(iters, train_costs,color='red',label='training cost') \r\n",
    "    plt.grid()\r\n",
    "    plt.show()"
   ]
  },
  {
   "cell_type": "markdown",
   "metadata": {
    "collapsed": false
   },
   "source": [
    "**（4）训练并保存模型**\n"
   ]
  },
  {
   "cell_type": "code",
   "execution_count": 15,
   "metadata": {
    "collapsed": false
   },
   "outputs": [
    {
     "name": "stdout",
     "output_type": "stream",
     "text": [
      "Pass:0, Cost:765.61438\n",
      "Test:0, Cost:248.20587\n",
      "Pass:1, Cost:458.74023\n",
      "Test:1, Cost:113.84402\n",
      "Pass:2, Cost:561.00958\n",
      "Test:2, Cost:162.97571\n",
      "Pass:3, Cost:667.72009\n",
      "Test:3, Cost:360.46750\n",
      "Pass:4, Cost:386.10321\n",
      "Test:4, Cost:135.42517\n",
      "Pass:5, Cost:470.49066\n",
      "Test:5, Cost:136.15494\n",
      "Pass:6, Cost:438.30704\n",
      "Test:6, Cost:33.79337\n",
      "Pass:7, Cost:312.70990\n",
      "Test:7, Cost:9.04340\n",
      "Pass:8, Cost:251.40817\n",
      "Test:8, Cost:126.66025\n",
      "Pass:9, Cost:249.97879\n",
      "Test:9, Cost:80.55891\n",
      "Pass:10, Cost:190.79860\n",
      "Test:10, Cost:19.96636\n",
      "Pass:11, Cost:316.60037\n",
      "Test:11, Cost:86.55441\n",
      "Pass:12, Cost:195.32576\n",
      "Test:12, Cost:211.34091\n",
      "Pass:13, Cost:214.15686\n",
      "Test:13, Cost:91.99792\n",
      "Pass:14, Cost:169.08206\n",
      "Test:14, Cost:2.32337\n",
      "Pass:15, Cost:183.96014\n",
      "Test:15, Cost:52.90580\n",
      "Pass:16, Cost:73.53255\n",
      "Test:16, Cost:31.73412\n",
      "Pass:17, Cost:221.51355\n",
      "Test:17, Cost:56.57844\n",
      "Pass:18, Cost:126.64116\n",
      "Test:18, Cost:9.67344\n",
      "Pass:19, Cost:104.99064\n",
      "Test:19, Cost:1.82172\n",
      "Pass:20, Cost:365.06430\n",
      "Test:20, Cost:42.25728\n",
      "Pass:21, Cost:49.95150\n",
      "Test:21, Cost:0.56849\n",
      "Pass:22, Cost:368.29010\n",
      "Test:22, Cost:21.87973\n",
      "Pass:23, Cost:295.29199\n",
      "Test:23, Cost:51.28393\n",
      "Pass:24, Cost:147.36514\n",
      "Test:24, Cost:109.83662\n",
      "Pass:25, Cost:135.85762\n",
      "Test:25, Cost:22.89129\n",
      "Pass:26, Cost:101.14632\n",
      "Test:26, Cost:92.89734\n",
      "Pass:27, Cost:148.82292\n",
      "Test:27, Cost:13.34527\n",
      "Pass:28, Cost:64.11733\n",
      "Test:28, Cost:7.42275\n",
      "Pass:29, Cost:38.83773\n",
      "Test:29, Cost:18.52331\n",
      "Pass:30, Cost:98.53799\n",
      "Test:30, Cost:19.52693\n",
      "Pass:31, Cost:163.89851\n",
      "Test:31, Cost:12.22788\n",
      "Pass:32, Cost:165.53384\n",
      "Test:32, Cost:10.81448\n",
      "Pass:33, Cost:107.77384\n",
      "Test:33, Cost:25.46926\n",
      "Pass:34, Cost:84.13994\n",
      "Test:34, Cost:22.31988\n",
      "Pass:35, Cost:168.37498\n",
      "Test:35, Cost:53.48407\n",
      "Pass:36, Cost:33.51634\n",
      "Test:36, Cost:1.13812\n",
      "Pass:37, Cost:32.34300\n",
      "Test:37, Cost:17.25753\n",
      "Pass:38, Cost:60.06747\n",
      "Test:38, Cost:7.31205\n",
      "Pass:39, Cost:45.88435\n",
      "Test:39, Cost:8.01495\n",
      "Pass:40, Cost:81.46163\n",
      "Test:40, Cost:0.08332\n",
      "Pass:41, Cost:109.89298\n",
      "Test:41, Cost:5.22235\n",
      "Pass:42, Cost:38.73483\n",
      "Test:42, Cost:5.87211\n",
      "Pass:43, Cost:18.93455\n",
      "Test:43, Cost:17.88970\n",
      "Pass:44, Cost:120.33411\n",
      "Test:44, Cost:3.97155\n",
      "Pass:45, Cost:62.84856\n",
      "Test:45, Cost:9.28589\n",
      "Pass:46, Cost:99.20850\n",
      "Test:46, Cost:8.45144\n",
      "Pass:47, Cost:137.96727\n",
      "Test:47, Cost:9.31394\n",
      "Pass:48, Cost:66.28008\n",
      "Test:48, Cost:45.65242\n",
      "Pass:49, Cost:101.55257\n",
      "Test:49, Cost:31.67064\n",
      "save models to /home/aistudio/work/fit_a_line.inference.model\n"
     ]
    },
    {
     "data": {
      "image/png": "[encoded data removed]",
      "text/plain": [
       "<Figure size 432x288 with 1 Axes>"
      ]
     },
     "metadata": {},
     "output_type": "display_data"
    }
   ],
   "source": [
    "EPOCH_NUM=50\r\n",
    "model_save_dir = \"/home/aistudio/work/fit_a_line.inference.model\"\r\n",
    "\r\n",
    "for pass_id in range(EPOCH_NUM):                                  #训练EPOCH_NUM轮\r\n",
    "    # 开始训练并输出最后一个batch的损失值\r\n",
    "    train_cost = 0\r\n",
    "    for batch_id, data in enumerate(train_reader()):              #遍历train_reader迭代器\r\n",
    "        train_cost = exe.run(program=fluid.default_main_program(),#运行主程序\r\n",
    "                             feed=feeder.feed(data),              #喂入一个batch的训练数据，根据feed_list和data提供的信息，将输入数据转成一种特殊的数据结构\r\n",
    "                             fetch_list=[avg_cost])    \r\n",
    "        if batch_id % 40 == 0:\r\n",
    "            print(\"Pass:%d, Cost:%0.5f\" % (pass_id, train_cost[0][0]))    #打印最后一个batch的损失值\r\n",
    "        iter=iter+BATCH_SIZE\r\n",
    "        iters.append(iter)\r\n",
    "        train_costs.append(train_cost[0][0])\r\n",
    "       \r\n",
    "   \r\n",
    "    # 开始测试并输出最后一个batch的损失值\r\n",
    "    test_cost = 0\r\n",
    "    for batch_id, data in enumerate(test_reader()):               #遍历test_reader迭代器\r\n",
    "        test_cost= exe.run(program=test_program, #运行测试cheng\r\n",
    "                            feed=feeder.feed(data),               #喂入一个batch的测试数据\r\n",
    "                            fetch_list=[avg_cost])                #fetch均方误差\r\n",
    "    print('Test:%d, Cost:%0.5f' % (pass_id, test_cost[0][0]))     #打印最后一个batch的损失值\r\n",
    "    \r\n",
    "    #保存模型\r\n",
    "    # 如果保存路径不存在就创建\r\n",
    "if not os.path.exists(model_save_dir):\r\n",
    "    os.makedirs(model_save_dir)\r\n",
    "print ('save models to %s' % (model_save_dir))\r\n",
    "#保存训练参数到指定路径中，构建一个专门用预测的program\r\n",
    "fluid.io.save_inference_model(model_save_dir,   #保存推理model的路径\r\n",
    "                                  ['x'],            #推理（inference）需要 feed 的数据\r\n",
    "                                  [y_predict],      #保存推理（inference）结果的 Variables\r\n",
    "                                  exe)              #exe 保存 inference model\r\n",
    "draw_train_process(iters,train_costs)"
   ]
  },
  {
   "cell_type": "markdown",
   "metadata": {
    "collapsed": false
   },
   "source": [
    "\n",
    " **Step5.模型预测**\n",
    "\n",
    "**（1）创建预测用的Executor**"
   ]
  },
  {
   "cell_type": "code",
   "execution_count": 16,
   "metadata": {
    "collapsed": false
   },
   "outputs": [],
   "source": [
    "infer_exe = fluid.Executor(place)    #创建推测用的executor\r\n",
    "inference_scope = fluid.core.Scope() #Scope指定作用域"
   ]
  },
  {
   "cell_type": "markdown",
   "metadata": {
    "collapsed": false
   },
   "source": [
    "**（2）可视化真实值与预测值方法定义**"
   ]
  },
  {
   "cell_type": "code",
   "execution_count": 17,
   "metadata": {
    "collapsed": false
   },
   "outputs": [],
   "source": [
    "infer_results=[]\r\n",
    "groud_truths=[]\r\n",
    "\r\n",
    "#绘制真实值和预测值对比图\r\n",
    "def draw_infer_result(groud_truths,infer_results):\r\n",
    "    title='Boston'\r\n",
    "    plt.title(title, fontsize=24)\r\n",
    "    x = np.arange(1,20) \r\n",
    "    y = x\r\n",
    "    plt.plot(x, y)\r\n",
    "    plt.xlabel('ground truth', fontsize=14)\r\n",
    "    plt.ylabel('infer result', fontsize=14)\r\n",
    "    plt.scatter(groud_truths, infer_results,color='green',label='training cost') \r\n",
    "    plt.grid()\r\n",
    "    plt.show()"
   ]
  },
  {
   "cell_type": "markdown",
   "metadata": {
    "collapsed": false
   },
   "source": [
    "**(3)开始预测**\n",
    "\n",
    "通过fluid.io.load_inference_model，预测器会从params_dirname中读取已经训练好的模型，来对从未遇见过的数据进行预测。"
   ]
  },
  {
   "cell_type": "code",
   "execution_count": 18,
   "metadata": {
    "collapsed": false
   },
   "outputs": [
    {
     "name": "stdout",
     "output_type": "stream",
     "text": [
      "infer results: (House Price)\n",
      "0: 14.93\n",
      "1: 14.87\n",
      "2: 14.85\n",
      "3: 16.37\n",
      "4: 15.72\n",
      "5: 16.35\n",
      "6: 15.58\n",
      "7: 15.84\n",
      "8: 13.88\n",
      "9: 15.37\n",
      "10: 13.00\n",
      "11: 14.79\n",
      "12: 15.38\n",
      "13: 14.65\n",
      "14: 14.34\n",
      "15: 15.68\n",
      "16: 16.30\n",
      "17: 16.17\n",
      "18: 16.52\n",
      "19: 15.58\n",
      "20: 16.04\n",
      "21: 14.89\n",
      "22: 16.41\n",
      "23: 15.65\n",
      "24: 15.77\n",
      "25: 15.35\n",
      "26: 16.36\n",
      "27: 16.32\n",
      "28: 16.99\n",
      "29: 16.01\n",
      "30: 15.76\n",
      "31: 15.36\n",
      "32: 15.43\n",
      "33: 14.57\n",
      "34: 14.26\n",
      "35: 15.56\n",
      "36: 15.54\n",
      "37: 16.10\n",
      "38: 16.25\n",
      "39: 16.15\n",
      "40: 15.19\n",
      "41: 15.09\n",
      "42: 16.10\n",
      "43: 16.25\n",
      "44: 16.21\n",
      "45: 16.07\n",
      "46: 15.78\n",
      "47: 16.44\n",
      "48: 16.45\n",
      "49: 16.86\n",
      "50: 15.64\n",
      "51: 15.84\n",
      "52: 15.41\n",
      "53: 15.57\n",
      "54: 16.35\n",
      "55: 16.62\n",
      "56: 16.45\n",
      "57: 16.75\n",
      "58: 16.81\n",
      "59: 17.07\n",
      "60: 17.27\n",
      "61: 17.14\n",
      "62: 15.85\n",
      "63: 16.43\n",
      "64: 16.87\n",
      "65: 17.28\n",
      "66: 17.16\n",
      "67: 17.54\n",
      "68: 17.54\n",
      "69: 17.89\n",
      "70: 16.35\n",
      "71: 16.19\n",
      "72: 16.87\n",
      "73: 15.58\n",
      "74: 16.61\n",
      "75: 17.03\n",
      "76: 18.01\n",
      "77: 18.32\n",
      "78: 18.50\n",
      "79: 18.16\n",
      "80: 17.73\n",
      "81: 18.03\n",
      "82: 17.24\n",
      "83: 17.73\n",
      "84: 17.16\n",
      "85: 16.56\n",
      "86: 15.96\n",
      "87: 17.33\n",
      "88: 17.87\n",
      "89: 21.01\n",
      "90: 21.15\n",
      "91: 20.93\n",
      "92: 19.98\n",
      "93: 20.69\n",
      "94: 20.95\n",
      "95: 20.47\n",
      "96: 20.66\n",
      "97: 21.83\n",
      "98: 21.55\n",
      "99: 22.01\n",
      "100: 21.88\n",
      "101: 21.53\n",
      "ground truth:\n",
      "0: 8.50\n",
      "1: 5.00\n",
      "2: 11.90\n",
      "3: 27.90\n",
      "4: 17.20\n",
      "5: 27.50\n",
      "6: 15.00\n",
      "7: 17.20\n",
      "8: 17.90\n",
      "9: 16.30\n",
      "10: 7.00\n",
      "11: 7.20\n",
      "12: 7.50\n",
      "13: 10.40\n",
      "14: 8.80\n",
      "15: 8.40\n",
      "16: 16.70\n",
      "17: 14.20\n",
      "18: 20.80\n",
      "19: 13.40\n",
      "20: 11.70\n",
      "21: 8.30\n",
      "22: 10.20\n",
      "23: 10.90\n",
      "24: 11.00\n",
      "25: 9.50\n",
      "26: 14.50\n",
      "27: 14.10\n",
      "28: 16.10\n",
      "29: 14.30\n",
      "30: 11.70\n",
      "31: 13.40\n",
      "32: 9.60\n",
      "33: 8.70\n",
      "34: 8.40\n",
      "35: 12.80\n",
      "36: 10.50\n",
      "37: 17.10\n",
      "38: 18.40\n",
      "39: 15.40\n",
      "40: 10.80\n",
      "41: 11.80\n",
      "42: 14.90\n",
      "43: 12.60\n",
      "44: 14.10\n",
      "45: 13.00\n",
      "46: 13.40\n",
      "47: 15.20\n",
      "48: 16.10\n",
      "49: 17.80\n",
      "50: 14.90\n",
      "51: 14.10\n",
      "52: 12.70\n",
      "53: 13.50\n",
      "54: 14.90\n",
      "55: 20.00\n",
      "56: 16.40\n",
      "57: 17.70\n",
      "58: 19.50\n",
      "59: 20.20\n",
      "60: 21.40\n",
      "61: 19.90\n",
      "62: 19.00\n",
      "63: 19.10\n",
      "64: 19.10\n",
      "65: 20.10\n",
      "66: 19.90\n",
      "67: 19.60\n",
      "68: 23.20\n",
      "69: 29.80\n",
      "70: 13.80\n",
      "71: 13.30\n",
      "72: 16.70\n",
      "73: 12.00\n",
      "74: 14.60\n",
      "75: 21.40\n",
      "76: 23.00\n",
      "77: 23.70\n",
      "78: 25.00\n",
      "79: 21.80\n",
      "80: 20.60\n",
      "81: 21.20\n",
      "82: 19.10\n",
      "83: 20.60\n",
      "84: 15.20\n",
      "85: 7.00\n",
      "86: 8.10\n",
      "87: 13.60\n",
      "88: 20.10\n",
      "89: 21.80\n",
      "90: 24.50\n",
      "91: 23.10\n",
      "92: 19.70\n",
      "93: 18.30\n",
      "94: 21.20\n",
      "95: 17.50\n",
      "96: 16.80\n",
      "97: 22.40\n",
      "98: 20.60\n",
      "99: 23.90\n",
      "100: 22.00\n",
      "101: 11.90\n"
     ]
    },
    {
     "name": "stderr",
     "output_type": "stream",
     "text": [
      "\n"
     ]
    },
    {
     "data": {
      "image/png": "[encoded data removed]",
      "text/plain": [
       "<Figure size 432x288 with 1 Axes>"
      ]
     },
     "metadata": {},
     "output_type": "display_data"
    }
   ],
   "source": [
    "with fluid.scope_guard(inference_scope):#修改全局/默认作用域（scope）, 运行时中的所有变量都将分配给新的scope。\r\n",
    "    #从指定目录中加载 推理model(inference model)\r\n",
    "    [inference_program,                             #推理的program\r\n",
    "     feed_target_names,                             #需要在推理program中提供数据的变量名称\r\n",
    "     fetch_targets] = fluid.io.load_inference_model(#fetch_targets: 推断结果\r\n",
    "                                    model_save_dir, #model_save_dir:模型训练路径 \r\n",
    "                                    infer_exe)      #infer_exe: 预测用executor\r\n",
    "    #获取预测数据\r\n",
    "    infer_reader = paddle.batch(paddle.dataset.uci_housing.test(),  #获取uci_housing的测试数据\r\n",
    "                          batch_size=200)                           #从测试数据中读取一个大小为200的batch数据\r\n",
    "    #从test_reader中分割x\r\n",
    "    test_data = next(infer_reader())\r\n",
    "    test_x = np.array([data[0] for data in test_data]).astype(\"float32\")\r\n",
    "    test_y= np.array([data[1] for data in test_data]).astype(\"float32\")\r\n",
    "    results = infer_exe.run(inference_program,                              #预测模型\r\n",
    "                            feed={feed_target_names[0]: np.array(test_x)},  #喂入要预测的x值\r\n",
    "                            fetch_list=fetch_targets)                       #得到推测结果 \r\n",
    "                            \r\n",
    "    print(\"infer results: (House Price)\")\r\n",
    "    for idx, val in enumerate(results[0]):\r\n",
    "        print(\"%d: %.2f\" % (idx, val))\r\n",
    "        infer_results.append(val)\r\n",
    "    print(\"ground truth:\")\r\n",
    "    for idx, val in enumerate(test_y):\r\n",
    "        print(\"%d: %.2f\" % (idx, val))\r\n",
    "        groud_truths.append(val)\r\n",
    "    draw_infer_result(groud_truths,infer_results)"
   ]
  },
  {
   "cell_type": "code",
   "execution_count": null,
   "metadata": {
    "collapsed": false
   },
   "outputs": [],
   "source": []
  }
 ],
 "metadata": {
  "kernelspec": {
   "display_name": "PaddlePaddle 1.5.1 (Python 3.5)",
   "language": "python",
   "name": "py35-paddle1.2.0"
  },
  "language_info": {
   "codemirror_mode": {
    "name": "ipython",
    "version": 3
   },
   "file_extension": ".py",
   "mimetype": "text/x-python",
   "name": "python",
   "nbconvert_exporter": "python",
   "pygments_lexer": "ipython3",
   "version": "3.7.4"
  }
 },
 "nbformat": 4,
 "nbformat_minor": 1
}
