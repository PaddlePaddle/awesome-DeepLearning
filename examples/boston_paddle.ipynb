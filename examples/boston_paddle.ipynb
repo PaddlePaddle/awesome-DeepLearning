{
 "cells": [
  {
   "cell_type": "code",
   "execution_count": 1,
   "metadata": {
    "collapsed": false
   },
   "outputs": [],
   "source": [
    "#加载相关库\n",
    "import paddle\n",
    "from paddle.nn import Linear\n",
    "import paddle.nn.functional as F\n",
    "import numpy as np\n",
    "import os\n",
    "import random"
   ]
  },
  {
   "cell_type": "code",
   "execution_count": 2,
   "metadata": {
    "collapsed": false
   },
   "outputs": [],
   "source": [
    "def load_data():\n",
    "    # 从文件导入数据\n",
    "    datafile = './work/housing.data'\n",
    "    data = np.fromfile(datafile, sep=' ', dtype=np.float32)\n",
    "\n",
    "    # 每条数据包括14项，其中前面13项是影响因素，第14项是相应的房屋价格中位数\n",
    "    feature_names = [ 'CRIM', 'ZN', 'INDUS', 'CHAS', 'NOX', 'RM', 'AGE', \\\n",
    "                      'DIS', 'RAD', 'TAX', 'PTRATIO', 'B', 'LSTAT', 'MEDV' ]\n",
    "    feature_num = len(feature_names)\n",
    "\n",
    "    # 将原始数据进行Reshape，变成[N, 14]这样的形状\n",
    "    data = data.reshape([data.shape[0] // feature_num, feature_num])\n",
    "\n",
    "    # 将原数据集拆分成训练集和测试集\n",
    "    # 这里使用80%的数据做训练，20%的数据做测试\n",
    "    # 测试集和训练集必须是没有交集的\n",
    "    ratio = 0.8\n",
    "    offset = int(data.shape[0] * ratio)\n",
    "    training_data = data[:offset]\n",
    "\n",
    "    # 计算train数据集的最大值，最小值，平均值\n",
    "    maximums, minimums, avgs = training_data.max(axis=0), training_data.min(axis=0), \\\n",
    "                                 training_data.sum(axis=0) / training_data.shape[0]\n",
    "    \n",
    "    # 记录数据的归一化参数，在预测时对数据做归一化\n",
    "    global max_values\n",
    "    global min_values\n",
    "    global avg_values\n",
    "    max_values = maximums\n",
    "    min_values = minimums\n",
    "    avg_values = avgs\n",
    "\n",
    "    # 对数据进行归一化处理\n",
    "    for i in range(feature_num):\n",
    "        data[:, i] = (data[:, i] - avgs[i]) / (maximums[i] - minimums[i])\n",
    "\n",
    "    # 训练集和测试集的划分比例\n",
    "    training_data = data[:offset]\n",
    "    test_data = data[offset:]\n",
    "    return training_data, test_data\n"
   ]
  },
  {
   "cell_type": "code",
   "execution_count": 3,
   "metadata": {
    "collapsed": false
   },
   "outputs": [],
   "source": [
    "class Regressor(paddle.nn.Layer):\n",
    "\n",
    "    # self代表类的实例自身\n",
    "    def __init__(self):\n",
    "        # 初始化父类中的一些参数\n",
    "        super(Regressor, self).__init__()\n",
    "        \n",
    "        # 定义第一层全连接层，输入维度是13，输出维度是128\n",
    "        self.fc1 = Linear(in_features=13, out_features=128)\n",
    "        self.relu = paddle.nn.Sigmoid()\n",
    "        # 定义第二层全连接层，输入维度是128，输出维度是1\n",
    "        self.fc2 = Linear(in_features=128, out_features=1)\n",
    "    \n",
    "    # 网络的前向计算\n",
    "    def forward(self, inputs):\n",
    "        x = self.fc1(inputs)\n",
    "        x = self.relu(x)\n",
    "        x = self.fc2(x)\n",
    "        return x"
   ]
  },
  {
   "cell_type": "code",
   "execution_count": 19,
   "metadata": {
    "collapsed": false
   },
   "outputs": [
    {
     "name": "stdout",
     "output_type": "stream",
     "text": [
      "[ 0.30055004 -0.14232674  0.34131303 -0.08663366  0.13429588 -0.22573476\n",
      "  0.36634916 -0.2350493   0.7482781   0.65363073  0.23124878 -0.5182523\n",
      "  0.24075747 -0.1750164 ]\n"
     ]
    }
   ],
   "source": [
    "# 声明定义好的线性回归模型\n",
    "model = Regressor()\n",
    "# 开启模型训练模式\n",
    "model.train()\n",
    "# 加载数据\n",
    "training_data, test_data = load_data()\n",
    "print(test_data[:10][-1])\n",
    "# 定义优化算法，使用随机梯度下降SGD\n",
    "# 学习率设置为0.01\n",
    "opt = paddle.optimizer.SGD(learning_rate=0.01, parameters=model.parameters())"
   ]
  },
  {
   "cell_type": "code",
   "execution_count": 11,
   "metadata": {
    "collapsed": false
   },
   "outputs": [
    {
     "name": "stdout",
     "output_type": "stream",
     "text": [
      "epoch: 0, iter: 0, loss is: [0.00460192]\n",
      "epoch: 0, iter: 20, loss is: [0.04628577]\n",
      "epoch: 0, iter: 40, loss is: [0.00869952]\n",
      "epoch: 1, iter: 0, loss is: [0.01896569]\n",
      "epoch: 1, iter: 20, loss is: [0.01776217]\n",
      "epoch: 1, iter: 40, loss is: [0.16084704]\n",
      "epoch: 2, iter: 0, loss is: [0.05355738]\n",
      "epoch: 2, iter: 20, loss is: [0.02582181]\n",
      "epoch: 2, iter: 40, loss is: [0.02284075]\n",
      "epoch: 3, iter: 0, loss is: [0.01055791]\n",
      "epoch: 3, iter: 20, loss is: [0.02916935]\n",
      "epoch: 3, iter: 40, loss is: [0.13470072]\n",
      "epoch: 4, iter: 0, loss is: [0.0367308]\n",
      "epoch: 4, iter: 20, loss is: [0.05031545]\n",
      "epoch: 4, iter: 40, loss is: [0.00304966]\n",
      "epoch: 5, iter: 0, loss is: [0.0070259]\n",
      "epoch: 5, iter: 20, loss is: [0.05251897]\n",
      "epoch: 5, iter: 40, loss is: [0.01314158]\n",
      "epoch: 6, iter: 0, loss is: [0.02655237]\n",
      "epoch: 6, iter: 20, loss is: [0.09362027]\n",
      "epoch: 6, iter: 40, loss is: [0.02321343]\n",
      "epoch: 7, iter: 0, loss is: [0.04062208]\n",
      "epoch: 7, iter: 20, loss is: [0.00546938]\n",
      "epoch: 7, iter: 40, loss is: [0.01724918]\n",
      "epoch: 8, iter: 0, loss is: [0.00801708]\n",
      "epoch: 8, iter: 20, loss is: [0.0289972]\n",
      "epoch: 8, iter: 40, loss is: [0.01535227]\n",
      "epoch: 9, iter: 0, loss is: [0.0207094]\n",
      "epoch: 9, iter: 20, loss is: [0.05048554]\n",
      "epoch: 9, iter: 40, loss is: [0.00325523]\n",
      "epoch: 10, iter: 0, loss is: [0.06671553]\n",
      "epoch: 10, iter: 20, loss is: [0.02239777]\n",
      "epoch: 10, iter: 40, loss is: [0.01275756]\n",
      "epoch: 11, iter: 0, loss is: [0.00533173]\n",
      "epoch: 11, iter: 20, loss is: [0.038357]\n",
      "epoch: 11, iter: 40, loss is: [0.02022651]\n",
      "epoch: 12, iter: 0, loss is: [0.01939837]\n",
      "epoch: 12, iter: 20, loss is: [0.00570549]\n",
      "epoch: 12, iter: 40, loss is: [0.00519346]\n",
      "epoch: 13, iter: 0, loss is: [0.02078592]\n",
      "epoch: 13, iter: 20, loss is: [0.01534019]\n",
      "epoch: 13, iter: 40, loss is: [0.03402734]\n",
      "epoch: 14, iter: 0, loss is: [0.06443395]\n",
      "epoch: 14, iter: 20, loss is: [0.00985853]\n",
      "epoch: 14, iter: 40, loss is: [0.00324452]\n",
      "epoch: 15, iter: 0, loss is: [0.02207974]\n",
      "epoch: 15, iter: 20, loss is: [0.00939526]\n",
      "epoch: 15, iter: 40, loss is: [0.00800762]\n",
      "epoch: 16, iter: 0, loss is: [0.01209886]\n",
      "epoch: 16, iter: 20, loss is: [0.01382922]\n",
      "epoch: 16, iter: 40, loss is: [0.01057129]\n",
      "epoch: 17, iter: 0, loss is: [0.00348275]\n",
      "epoch: 17, iter: 20, loss is: [0.05075194]\n",
      "epoch: 17, iter: 40, loss is: [0.03360715]\n",
      "epoch: 18, iter: 0, loss is: [0.06024458]\n",
      "epoch: 18, iter: 20, loss is: [0.00927875]\n",
      "epoch: 18, iter: 40, loss is: [0.02606003]\n",
      "epoch: 19, iter: 0, loss is: [0.00750081]\n",
      "epoch: 19, iter: 20, loss is: [0.01725212]\n",
      "epoch: 19, iter: 40, loss is: [0.01786004]\n",
      "epoch: 20, iter: 0, loss is: [0.00513609]\n",
      "epoch: 20, iter: 20, loss is: [0.00646576]\n",
      "epoch: 20, iter: 40, loss is: [0.02490401]\n",
      "epoch: 21, iter: 0, loss is: [0.0069603]\n",
      "epoch: 21, iter: 20, loss is: [0.00683859]\n",
      "epoch: 21, iter: 40, loss is: [0.04891599]\n",
      "epoch: 22, iter: 0, loss is: [0.02399613]\n",
      "epoch: 22, iter: 20, loss is: [0.04285192]\n",
      "epoch: 22, iter: 40, loss is: [0.0058824]\n",
      "epoch: 23, iter: 0, loss is: [0.03781991]\n",
      "epoch: 23, iter: 20, loss is: [0.004923]\n",
      "epoch: 23, iter: 40, loss is: [0.00517283]\n",
      "epoch: 24, iter: 0, loss is: [0.01058645]\n",
      "epoch: 24, iter: 20, loss is: [0.01821387]\n",
      "epoch: 24, iter: 40, loss is: [0.03286193]\n",
      "epoch: 25, iter: 0, loss is: [0.0166626]\n",
      "epoch: 25, iter: 20, loss is: [0.01525228]\n",
      "epoch: 25, iter: 40, loss is: [0.00455141]\n",
      "epoch: 26, iter: 0, loss is: [0.00907763]\n",
      "epoch: 26, iter: 20, loss is: [0.02143788]\n",
      "epoch: 26, iter: 40, loss is: [0.00627867]\n",
      "epoch: 27, iter: 0, loss is: [0.03947895]\n",
      "epoch: 27, iter: 20, loss is: [0.03119268]\n",
      "epoch: 27, iter: 40, loss is: [0.02174793]\n",
      "epoch: 28, iter: 0, loss is: [0.02989175]\n",
      "epoch: 28, iter: 20, loss is: [0.03544499]\n",
      "epoch: 28, iter: 40, loss is: [0.00541371]\n",
      "epoch: 29, iter: 0, loss is: [0.00653317]\n",
      "epoch: 29, iter: 20, loss is: [0.00482133]\n",
      "epoch: 29, iter: 40, loss is: [0.04134932]\n",
      "epoch: 30, iter: 0, loss is: [0.03362859]\n",
      "epoch: 30, iter: 20, loss is: [0.0160479]\n",
      "epoch: 30, iter: 40, loss is: [0.02007814]\n",
      "epoch: 31, iter: 0, loss is: [0.06062179]\n",
      "epoch: 31, iter: 20, loss is: [0.03834774]\n",
      "epoch: 31, iter: 40, loss is: [0.02393551]\n",
      "epoch: 32, iter: 0, loss is: [0.01870538]\n",
      "epoch: 32, iter: 20, loss is: [0.01154882]\n",
      "epoch: 32, iter: 40, loss is: [0.00157865]\n",
      "epoch: 33, iter: 0, loss is: [0.00606549]\n",
      "epoch: 33, iter: 20, loss is: [0.01588081]\n",
      "epoch: 33, iter: 40, loss is: [0.08387174]\n",
      "epoch: 34, iter: 0, loss is: [0.02378161]\n",
      "epoch: 34, iter: 20, loss is: [0.00742577]\n",
      "epoch: 34, iter: 40, loss is: [0.00441988]\n",
      "epoch: 35, iter: 0, loss is: [0.03413976]\n",
      "epoch: 35, iter: 20, loss is: [0.01357026]\n",
      "epoch: 35, iter: 40, loss is: [0.01169427]\n",
      "epoch: 36, iter: 0, loss is: [0.06898047]\n",
      "epoch: 36, iter: 20, loss is: [0.06578504]\n",
      "epoch: 36, iter: 40, loss is: [0.14062199]\n",
      "epoch: 37, iter: 0, loss is: [0.02103825]\n",
      "epoch: 37, iter: 20, loss is: [0.02201593]\n",
      "epoch: 37, iter: 40, loss is: [0.01026344]\n",
      "epoch: 38, iter: 0, loss is: [0.01557303]\n",
      "epoch: 38, iter: 20, loss is: [0.01780224]\n",
      "epoch: 38, iter: 40, loss is: [0.01088711]\n",
      "epoch: 39, iter: 0, loss is: [0.0147047]\n",
      "epoch: 39, iter: 20, loss is: [0.01437354]\n",
      "epoch: 39, iter: 40, loss is: [0.0017811]\n",
      "epoch: 40, iter: 0, loss is: [0.01269882]\n",
      "epoch: 40, iter: 20, loss is: [0.00571315]\n",
      "epoch: 40, iter: 40, loss is: [0.00297134]\n",
      "epoch: 41, iter: 0, loss is: [0.02607644]\n",
      "epoch: 41, iter: 20, loss is: [0.01269955]\n",
      "epoch: 41, iter: 40, loss is: [0.00574116]\n",
      "epoch: 42, iter: 0, loss is: [0.0105444]\n",
      "epoch: 42, iter: 20, loss is: [0.00302982]\n",
      "epoch: 42, iter: 40, loss is: [0.01128207]\n",
      "epoch: 43, iter: 0, loss is: [0.01425701]\n",
      "epoch: 43, iter: 20, loss is: [0.02099181]\n",
      "epoch: 43, iter: 40, loss is: [0.01819369]\n",
      "epoch: 44, iter: 0, loss is: [0.0252051]\n",
      "epoch: 44, iter: 20, loss is: [0.04127299]\n",
      "epoch: 44, iter: 40, loss is: [0.00320819]\n",
      "epoch: 45, iter: 0, loss is: [0.00420496]\n",
      "epoch: 45, iter: 20, loss is: [0.02224582]\n",
      "epoch: 45, iter: 40, loss is: [0.00591204]\n",
      "epoch: 46, iter: 0, loss is: [0.01338779]\n",
      "epoch: 46, iter: 20, loss is: [0.02196413]\n",
      "epoch: 46, iter: 40, loss is: [0.00614359]\n",
      "epoch: 47, iter: 0, loss is: [0.02325791]\n",
      "epoch: 47, iter: 20, loss is: [0.03153244]\n",
      "epoch: 47, iter: 40, loss is: [0.00619796]\n",
      "epoch: 48, iter: 0, loss is: [0.00520082]\n",
      "epoch: 48, iter: 20, loss is: [0.01074308]\n",
      "epoch: 48, iter: 40, loss is: [0.0118602]\n",
      "epoch: 49, iter: 0, loss is: [0.00603711]\n",
      "epoch: 49, iter: 20, loss is: [0.01372285]\n",
      "epoch: 49, iter: 40, loss is: [0.00922442]\n"
     ]
    }
   ],
   "source": [
    "EPOCH_NUM = 50   # 设置外层循环次数\n",
    "BATCH_SIZE = 10  # 设置batch大小\n",
    "\n",
    "# 定义外层循环\n",
    "for epoch_id in range(EPOCH_NUM):\n",
    "    # 在每轮迭代开始之前，将训练数据的顺序随机的打乱\n",
    "    np.random.shuffle(training_data)\n",
    "    # 将训练数据进行拆分，每个batch包含10条数据\n",
    "    mini_batches = [training_data[k:k+BATCH_SIZE] for k in range(0, len(training_data), BATCH_SIZE)]\n",
    "    # 定义内层循环\n",
    "    for iter_id, mini_batch in enumerate(mini_batches):\n",
    "        x = np.array(mini_batch[:, :-1]) # 获得当前批次训练数据\n",
    "        y = np.array(mini_batch[:, -1:]) # 获得当前批次训练标签（真实房价）\n",
    "        # 将numpy数据转为飞桨动态图tensor形式\n",
    "        house_features = paddle.to_tensor(x)\n",
    "        prices = paddle.to_tensor(y)\n",
    "        \n",
    "        # 前向计算\n",
    "        predicts = model(house_features)\n",
    "        \n",
    "        # 计算损失\n",
    "        loss = F.square_error_cost(predicts, label=prices)\n",
    "        avg_loss = paddle.mean(loss)\n",
    "        if iter_id%20==0:\n",
    "            print(\"epoch: {}, iter: {}, loss is: {}\".format(epoch_id, iter_id, avg_loss.numpy()))\n",
    "        \n",
    "        # 反向传播\n",
    "        avg_loss.backward()\n",
    "        # 最小化loss,更新参数\n",
    "        opt.step()\n",
    "        # 清除梯度\n",
    "        opt.clear_grad()\n"
   ]
  },
  {
   "cell_type": "code",
   "execution_count": 12,
   "metadata": {
    "collapsed": false
   },
   "outputs": [
    {
     "name": "stdout",
     "output_type": "stream",
     "text": [
      "模型保存成功，模型参数保存在LR_model.pdparams中\n"
     ]
    }
   ],
   "source": [
    "# 保存模型参数，文件名为LR_model.pdparams\n",
    "paddle.save(model.state_dict(), 'LR_model.pdparams')\n",
    "print(\"模型保存成功，模型参数保存在LR_model.pdparams中\")"
   ]
  },
  {
   "cell_type": "code",
   "execution_count": 20,
   "metadata": {
    "collapsed": false
   },
   "outputs": [],
   "source": [
    "def load_one_example():\n",
    "    # 从上边已加载的测试集中，随机选择一条作为测试数据\n",
    "    # idx = np.random.randint(0, test_data.shape[0])\n",
    "    idx = -5\n",
    "    one_data, label = test_data[idx, :-1], test_data[idx, -1]\n",
    "    # 修改该条数据shape为[1,13]\n",
    "    one_data =  one_data.reshape([1,-1])\n",
    "\n",
    "    return one_data, label\n"
   ]
  },
  {
   "cell_type": "code",
   "execution_count": 21,
   "metadata": {
    "collapsed": false
   },
   "outputs": [
    {
     "name": "stdout",
     "output_type": "stream",
     "text": [
      "Inference result is [[21.330412]], the corresponding label is 22.399999618530273\n"
     ]
    }
   ],
   "source": [
    "# 参数为保存模型参数的文件地址\n",
    "model_dict = paddle.load('LR_model.pdparams')\n",
    "model.load_dict(model_dict)\n",
    "model.eval()\n",
    "\n",
    "# 参数为数据集的文件地址\n",
    "one_data, label = load_one_example()\n",
    "# 将数据转为动态图的variable格式 \n",
    "one_data = paddle.to_tensor(one_data)\n",
    "predict = model(one_data)\n",
    "\n",
    "# 对结果做反归一化处理\n",
    "predict = predict * (max_values[-1] - min_values[-1]) + avg_values[-1]\n",
    "# 对label数据做反归一化处理\n",
    "label = label * (max_values[-1] - min_values[-1]) + avg_values[-1]\n",
    "\n",
    "print(\"Inference result is {}, the corresponding label is {}\".format(predict.numpy(), label))"
   ]
  }
 ],
 "metadata": {
  "kernelspec": {
   "display_name": "PaddlePaddle 2.0.0b0 (Python 3.5)",
   "language": "python",
   "name": "py35-paddle1.2.0"
  },
  "language_info": {
   "codemirror_mode": {
    "name": "ipython",
    "version": 3
   },
   "file_extension": ".py",
   "mimetype": "text/x-python",
   "name": "python",
   "nbconvert_exporter": "python",
   "pygments_lexer": "ipython3",
   "version": "3.7.4"
  }
 },
 "nbformat": 4,
 "nbformat_minor": 1
}
