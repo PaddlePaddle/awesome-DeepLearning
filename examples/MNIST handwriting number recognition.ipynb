{
 "cells": [
  {
   "cell_type": "markdown",
   "metadata": {
    "collapsed": false
   },
   "source": [
    "请点击[此处](https://ai.baidu.com/docs#/AIStudio_Project_Notebook/a38e5576)查看本环境基本用法.  <br>\n",
    "Please click [here ](https://ai.baidu.com/docs#/AIStudio_Project_Notebook/a38e5576) for more detailed instructions. "
   ]
  },
  {
   "cell_type": "markdown",
   "metadata": {
    "collapsed": false
   },
   "source": [
    "**MNIST手写数字识别**\n",
    "**一、数据预处理**\n",
    "（1）MNIST数据集介绍\n",
    "MNIST数据集包含60000个训练集和10000测试数据集。分为图片和标签，图片是28*28的像素矩阵，标签为0~9共10个数字。\n",
    "其中：\n",
    "transform函数是定义了一个归一化标准化的标准；\n",
    "train_dataset和test_dataset；\n",
    "paddle.vision.datasets.MNIST()中的mode='train'和mode='test'分别用于获取mnist训练集和测试集；\n",
    "transform=transform参数则为归一化标准"
   ]
  },
  {
   "cell_type": "code",
   "execution_count": 11,
   "metadata": {
    "collapsed": false
   },
   "outputs": [],
   "source": [
    "import paddle"
   ]
  },
  {
   "cell_type": "code",
   "execution_count": 12,
   "metadata": {
    "collapsed": false
   },
   "outputs": [
    {
     "name": "stdout",
     "output_type": "stream",
     "text": [
      "下载并加载训练数据\n",
      "加载完成\n"
     ]
    }
   ],
   "source": [
    "#导入数据集Compose的作用是将用于数据集预处理的接口以列表的方式进行组合。\r\n",
    "#导入数据集Normalize的作用是图像归一化处理，支持两种方式： 1. 用统一的均值和标准差值对图像的每个通道进行归一化处理； 2. 对每个通道指定不同的均值和标准差值进行归一化处理。\r\n",
    "from paddle.vision.transforms import Compose, Normalize, Resize, RandomRotation, RandomCrop\r\n",
    "img_size = 32\r\n",
    "#对训练集做数据增强\r\n",
    "transform1 = Compose([Resize((img_size+2, img_size+2)), RandomCrop(img_size), Normalize(mean=[127.5],std=[127.5],data_format='CHW')])\r\n",
    "transform2 = Compose([Resize((img_size, img_size)), Normalize(mean=[127.5],std=[127.5],data_format='CHW')])\r\n",
    "# 使用transform对数据集做归一化\r\n",
    "print('下载并加载训练数据')\r\n",
    "train_dataset = paddle.vision.datasets.MNIST(mode='train', transform=transform1)\r\n",
    "test_dataset = paddle.vision.datasets.MNIST(mode='test', transform=transform2)\r\n",
    "print('加载完成')"
   ]
  },
  {
   "cell_type": "markdown",
   "metadata": {
    "collapsed": false
   },
   "source": [
    "**二、搭建网络模型**\n",
    "本次所使用的网络共有7层：5个卷积层、2个全连接层；\n",
    "   其中第一个卷积层的输入通道数为数据集图片的实际通道数。MNIST数据集为灰度图像，通道数为1；\n",
    "   第1个卷积层输出与第3个卷积层输出做残差作为第4个卷积层的输入，第4个卷积层的输入与第5个卷积层的输出做残差作为第1个全连接层的输入；\n",
    "代码如下："
   ]
  },
  {
   "cell_type": "code",
   "execution_count": 13,
   "metadata": {
    "collapsed": false
   },
   "outputs": [],
   "source": [
    "import paddle\r\n",
    "import paddle.nn.functional as F\r\n",
    "# 定义多层卷积神经网络\r\n",
    "#动态图定义多层卷积神经网络\r\n",
    "class MyNet(paddle.nn.Layer):\r\n",
    "    def __init__(self):\r\n",
    "        super(MyNet, self).__init__()\r\n",
    "        self.conv1 = paddle.nn.Conv2D(in_channels=1, out_channels=6, kernel_size=5, padding=2)\r\n",
    "        self.conv2 = paddle.nn.Conv2D(6, 16, 3, padding=1)\r\n",
    "        self.conv3 = paddle.nn.Conv2D(16, 32, 3, padding=1)\r\n",
    "        self.conv4 = paddle.nn.Conv2D(6, 32, 1)\r\n",
    "        self.conv5 = paddle.nn.Conv2D(32, 64, 3, padding=1)\r\n",
    "        self.conv6 = paddle.nn.Conv2D(64, 128, 3, padding=1)\r\n",
    "        self.conv7 = paddle.nn.Conv2D(32, 128, 1)\r\n",
    "        self.maxpool1 = paddle.nn.MaxPool2D(kernel_size=2, stride=2)\r\n",
    "        self.maxpool2 = paddle.nn.MaxPool2D(2, 2)\r\n",
    "        self.maxpool3 = paddle.nn.MaxPool2D(2, 2)\r\n",
    "        self.maxpool4 = paddle.nn.MaxPool2D(2, 2)\r\n",
    "        self.maxpool5 = paddle.nn.MaxPool2D(2, 2)\r\n",
    "        self.maxpool6 = paddle.nn.MaxPool2D(2, 2)\r\n",
    "        self.flatten=paddle.nn.Flatten()\r\n",
    "        self.linear1=paddle.nn.Linear(128, 128)\r\n",
    "        self.linear2=paddle.nn.Linear(128, 10)\r\n",
    "        self.dropout=paddle.nn.Dropout(0.2)\r\n",
    "        self.avgpool=paddle.nn.AdaptiveAvgPool2D(output_size=1)\r\n",
    "        \r\n",
    "    def forward(self, x):\r\n",
    "        y = self.conv1(x)#(bs 6, 32, 32)\r\n",
    "        y = F.relu(y)\r\n",
    "        y = self.maxpool1(y)#(bs, 6, 16, 16)\r\n",
    "        z = y\r\n",
    "        y = self.conv2(y)#(bs, 16, 16, 16)\r\n",
    "        y = F.relu(y)\r\n",
    "        y = self.maxpool2(y)#(bs, 16, 8, 8)\r\n",
    "        y = self.conv3(y)#(bs, 32, 8, 8)\r\n",
    "        z = self.maxpool4(self.conv4(z))\r\n",
    "        y = y+z\r\n",
    "        y = F.relu(y)\r\n",
    "        z = y\r\n",
    "        y = self.conv5(y)#(bs, 64, 8, 8)\r\n",
    "        y = F.relu(y)\r\n",
    "        y = self.maxpool5(y)#(bs, 64, 4, 4)\r\n",
    "        y = self.conv6(y)#(bs, 128, 4, 4)\r\n",
    "        z = self.maxpool6(self.conv7(z))\r\n",
    "        y = y + z\r\n",
    "        y = F.relu(y)\r\n",
    "        y = self.avgpool(y)\r\n",
    "        y = self.flatten(y)\r\n",
    "        y = self.linear1(y)\r\n",
    "        y = self.dropout(y)\r\n",
    "        y = self.linear2(y)\r\n",
    "        return y"
   ]
  },
  {
   "cell_type": "code",
   "execution_count": 14,
   "metadata": {
    "collapsed": false
   },
   "outputs": [
    {
     "name": "stdout",
     "output_type": "stream",
     "text": [
      "-------------------------------------------------------------------------------\n",
      "   Layer (type)         Input Shape          Output Shape         Param #    \n",
      "===============================================================================\n",
      "     Conv2D-8         [[1, 1, 32, 32]]      [1, 6, 32, 32]          156      \n",
      "    MaxPool2D-7       [[1, 6, 32, 32]]      [1, 6, 16, 16]           0       \n",
      "     Conv2D-9         [[1, 6, 16, 16]]     [1, 16, 16, 16]          880      \n",
      "    MaxPool2D-8      [[1, 16, 16, 16]]      [1, 16, 8, 8]            0       \n",
      "     Conv2D-10        [[1, 16, 8, 8]]       [1, 32, 8, 8]          4,640     \n",
      "     Conv2D-11        [[1, 6, 16, 16]]     [1, 32, 16, 16]          224      \n",
      "   MaxPool2D-10      [[1, 32, 16, 16]]      [1, 32, 8, 8]            0       \n",
      "     Conv2D-12        [[1, 32, 8, 8]]       [1, 64, 8, 8]         18,496     \n",
      "   MaxPool2D-11       [[1, 64, 8, 8]]       [1, 64, 4, 4]            0       \n",
      "     Conv2D-13        [[1, 64, 4, 4]]       [1, 128, 4, 4]        73,856     \n",
      "     Conv2D-14        [[1, 32, 8, 8]]       [1, 128, 8, 8]         4,224     \n",
      "   MaxPool2D-12       [[1, 128, 8, 8]]      [1, 128, 4, 4]           0       \n",
      "AdaptiveAvgPool2D-2   [[1, 128, 4, 4]]      [1, 128, 1, 1]           0       \n",
      "     Flatten-3        [[1, 128, 1, 1]]         [1, 128]              0       \n",
      "     Linear-3            [[1, 128]]            [1, 128]           16,512     \n",
      "     Dropout-2           [[1, 128]]            [1, 128]              0       \n",
      "     Linear-4            [[1, 128]]            [1, 10]             1,290     \n",
      "===============================================================================\n",
      "Total params: 120,278\n",
      "Trainable params: 120,278\n",
      "Non-trainable params: 0\n",
      "-------------------------------------------------------------------------------\n",
      "Input size (MB): 0.00\n",
      "Forward/backward pass size (MB): 0.33\n",
      "Params size (MB): 0.46\n",
      "Estimated Total Size (MB): 0.79\n",
      "-------------------------------------------------------------------------------\n",
      "\n"
     ]
    },
    {
     "data": {
      "text/plain": [
       "{'total_params': 120278, 'trainable_params': 120278}"
      ]
     },
     "execution_count": 14,
     "metadata": {},
     "output_type": "execute_result"
    }
   ],
   "source": [
    "#定义卷积网络的代码\r\n",
    "net_cls = MyNet()\r\n",
    "paddle.summary(net_cls, (-1, 1, img_size, img_size))"
   ]
  },
  {
   "cell_type": "markdown",
   "metadata": {
    "collapsed": false
   },
   "source": [
    "**三、训练模型**"
   ]
  },
  {
   "cell_type": "code",
   "execution_count": 15,
   "metadata": {
    "collapsed": false
   },
   "outputs": [
    {
     "name": "stdout",
     "output_type": "stream",
     "text": [
      "The loss value printed in the log is the current step, and the metric is the average value of previous steps.\n",
      "Epoch 1/50\n"
     ]
    },
    {
     "name": "stderr",
     "output_type": "stream",
     "text": [
      "/opt/conda/envs/python35-paddle120-env/lib/python3.7/site-packages/paddle/fluid/layers/utils.py:77: DeprecationWarning: Using or importing the ABCs from 'collections' instead of from 'collections.abc' is deprecated, and in 3.8 it will stop working\n",
      "  return (isinstance(seq, collections.Sequence) and\n"
     ]
    },
    {
     "name": "stdout",
     "output_type": "stream",
     "text": [
      "step 938/938 [==============================] - loss: 0.0414 - acc: 0.8254 - 73ms/step        \n",
      "save checkpoint at /home/aistudio/output/model/v5_7/0\n",
      "Eval begin...\n",
      "step 157/157 [==============================] - loss: 0.0091 - acc: 0.9678 - 22ms/step        \n",
      "Eval samples: 10000\n",
      "Epoch 2/50\n",
      "step 938/938 [==============================] - loss: 0.0296 - acc: 0.9690 - 72ms/step        \n",
      "save checkpoint at /home/aistudio/output/model/v5_7/1\n",
      "Eval begin...\n",
      "step 157/157 [==============================] - loss: 4.6571e-04 - acc: 0.9817 - 22ms/step      \n",
      "Eval samples: 10000\n",
      "Epoch 3/50\n",
      "step 938/938 [==============================] - loss: 0.0021 - acc: 0.9771 - 72ms/step        \n",
      "save checkpoint at /home/aistudio/output/model/v5_7/2\n",
      "Eval begin...\n",
      "step 157/157 [==============================] - loss: 0.0018 - acc: 0.9870 - 22ms/step          \n",
      "Eval samples: 10000\n",
      "Epoch 4/50\n",
      "step 938/938 [==============================] - loss: 0.0021 - acc: 0.9821 - 73ms/step         \n",
      "save checkpoint at /home/aistudio/output/model/v5_7/3\n",
      "Eval begin...\n",
      "step 157/157 [==============================] - loss: 0.0014 - acc: 0.9881 - 22ms/step          \n",
      "Eval samples: 10000\n",
      "Epoch 5/50\n",
      "step 938/938 [==============================] - loss: 0.0668 - acc: 0.9847 - 73ms/step        \n",
      "save checkpoint at /home/aistudio/output/model/v5_7/4\n",
      "Eval begin...\n",
      "step 157/157 [==============================] - loss: 0.0016 - acc: 0.9882 - 23ms/step          \n",
      "Eval samples: 10000\n",
      "Epoch 6/50\n",
      "step 938/938 [==============================] - loss: 0.1677 - acc: 0.9863 - 73ms/step         \n",
      "save checkpoint at /home/aistudio/output/model/v5_7/5\n",
      "Eval begin...\n",
      "step 157/157 [==============================] - loss: 4.5771e-04 - acc: 0.9900 - 22ms/step      \n",
      "Eval samples: 10000\n",
      "Epoch 7/50\n",
      "step 938/938 [==============================] - loss: 0.0050 - acc: 0.9875 - 73ms/step         \n",
      "save checkpoint at /home/aistudio/output/model/v5_7/6\n",
      "Eval begin...\n",
      "step 157/157 [==============================] - loss: 0.0011 - acc: 0.9891 - 22ms/step          \n",
      "Eval samples: 10000\n",
      "Epoch 8/50\n",
      "step 938/938 [==============================] - loss: 0.0024 - acc: 0.9894 - 72ms/step         \n",
      "save checkpoint at /home/aistudio/output/model/v5_7/7\n",
      "Eval begin...\n",
      "step 157/157 [==============================] - loss: 1.3000e-04 - acc: 0.9895 - 22ms/step      \n",
      "Eval samples: 10000\n",
      "Epoch 9/50\n",
      "step 938/938 [==============================] - loss: 0.0027 - acc: 0.9898 - 72ms/step        \n",
      "save checkpoint at /home/aistudio/output/model/v5_7/8\n",
      "Eval begin...\n",
      "step 157/157 [==============================] - loss: 2.0271e-04 - acc: 0.9906 - 22ms/step      \n",
      "Eval samples: 10000\n",
      "Epoch 10/50\n",
      "step 938/938 [==============================] - loss: 7.5624e-04 - acc: 0.9905 - 72ms/step     \n",
      "save checkpoint at /home/aistudio/output/model/v5_7/9\n",
      "Eval begin...\n",
      "step 157/157 [==============================] - loss: 1.3494e-04 - acc: 0.9916 - 23ms/step      \n",
      "Eval samples: 10000\n",
      "Epoch 11/50\n",
      "step 938/938 [==============================] - loss: 0.0073 - acc: 0.9914 - 72ms/step        \n",
      "save checkpoint at /home/aistudio/output/model/v5_7/10\n",
      "Eval begin...\n",
      "step 157/157 [==============================] - loss: 1.3835e-04 - acc: 0.9917 - 22ms/step      \n",
      "Eval samples: 10000\n",
      "Epoch 12/50\n",
      "step 938/938 [==============================] - loss: 0.0342 - acc: 0.9919 - 73ms/step         \n",
      "save checkpoint at /home/aistudio/output/model/v5_7/11\n",
      "Eval begin...\n",
      "step 157/157 [==============================] - loss: 7.8269e-05 - acc: 0.9908 - 23ms/step      \n",
      "Eval samples: 10000\n",
      "Epoch 13/50\n",
      "step 938/938 [==============================] - loss: 0.0790 - acc: 0.9928 - 72ms/step            \n",
      "save checkpoint at /home/aistudio/output/model/v5_7/12\n",
      "Eval begin...\n",
      "step 157/157 [==============================] - loss: 3.1672e-04 - acc: 0.9925 - 24ms/step      \n",
      "Eval samples: 10000\n",
      "Epoch 14/50\n",
      "step 938/938 [==============================] - loss: 7.6854e-04 - acc: 0.9924 - 73ms/step    \n",
      "save checkpoint at /home/aistudio/output/model/v5_7/13\n",
      "Eval begin...\n",
      "step 157/157 [==============================] - loss: 5.0433e-05 - acc: 0.9886 - 23ms/step      \n",
      "Eval samples: 10000\n",
      "Epoch 15/50\n",
      "step 938/938 [==============================] - loss: 0.0163 - acc: 0.9938 - 73ms/step        \n",
      "save checkpoint at /home/aistudio/output/model/v5_7/14\n",
      "Eval begin...\n",
      "step 157/157 [==============================] - loss: 1.3793e-04 - acc: 0.9921 - 22ms/step      \n",
      "Eval samples: 10000\n",
      "Epoch 16/50\n",
      "step 938/938 [==============================] - loss: 0.0013 - acc: 0.9934 - 72ms/step        \n",
      "save checkpoint at /home/aistudio/output/model/v5_7/15\n",
      "Eval begin...\n",
      "step 157/157 [==============================] - loss: 0.0049 - acc: 0.9919 - 22ms/step          \n",
      "Eval samples: 10000\n",
      "Epoch 17/50\n",
      "step 938/938 [==============================] - loss: 0.0019 - acc: 0.9936 - 73ms/step        \n",
      "save checkpoint at /home/aistudio/output/model/v5_7/16\n",
      "Eval begin...\n",
      "step 157/157 [==============================] - loss: 9.6976e-04 - acc: 0.9933 - 22ms/step      \n",
      "Eval samples: 10000\n",
      "Epoch 18/50\n",
      "step 938/938 [==============================] - loss: 3.0772e-04 - acc: 0.9937 - 75ms/step     \n",
      "save checkpoint at /home/aistudio/output/model/v5_7/17\n",
      "Eval begin...\n",
      "step 157/157 [==============================] - loss: 2.5058e-04 - acc: 0.9922 - 23ms/step      \n",
      "Eval samples: 10000\n",
      "Epoch 19/50\n",
      "step 938/938 [==============================] - loss: 9.3464e-04 - acc: 0.9940 - 75ms/step     \n",
      "save checkpoint at /home/aistudio/output/model/v5_7/18\n",
      "Eval begin...\n",
      "step 157/157 [==============================] - loss: 0.0037 - acc: 0.9916 - 23ms/step          \n",
      "Eval samples: 10000\n",
      "Epoch 20/50\n",
      "step 938/938 [==============================] - loss: 1.4514e-04 - acc: 0.9949 - 74ms/step    \n",
      "save checkpoint at /home/aistudio/output/model/v5_7/19\n",
      "Eval begin...\n",
      "step 157/157 [==============================] - loss: 6.3832e-05 - acc: 0.9923 - 23ms/step      \n",
      "Eval samples: 10000\n",
      "Epoch 21/50\n",
      "step 938/938 [==============================] - loss: 0.0118 - acc: 0.9946 - 75ms/step        \n",
      "save checkpoint at /home/aistudio/output/model/v5_7/20\n",
      "Eval begin...\n",
      "step 157/157 [==============================] - loss: 0.0011 - acc: 0.9915 - 22ms/step          \n",
      "Eval samples: 10000\n",
      "Epoch 22/50\n",
      "step 938/938 [==============================] - loss: 8.2808e-04 - acc: 0.9948 - 74ms/step     \n",
      "save checkpoint at /home/aistudio/output/model/v5_7/21\n",
      "Eval begin...\n",
      "step 157/157 [==============================] - loss: 7.8354e-05 - acc: 0.9920 - 23ms/step        \n",
      "Eval samples: 10000\n",
      "Epoch 22: Early stopping.\n",
      "Best checkpoint has been saved at /home/aistudio/output/model/v5_7/best_model\n",
      "save checkpoint at /home/aistudio/output/model/v5_7/final\n"
     ]
    }
   ],
   "source": [
    "from paddle.metric import Accuracy\r\n",
    "save_dir = \"output/model/v5_7\"\r\n",
    "patience = 5\r\n",
    "epoch = 50\r\n",
    "lr = 0.01\r\n",
    "weight_decay = 5e-4\r\n",
    "batch_size = 64\r\n",
    "momentum = 0.9\r\n",
    "# 用Model封装模型\r\n",
    "model = paddle.Model(net_cls)\r\n",
    "\r\n",
    "# 定义损失函数\r\n",
    "#optim = paddle.optimizer.AdamW(learning_rate=lr, parameters=model.parameters(), weight_decay=weight_decay)\r\n",
    "#lr = paddle.optimizer.lr.CosineAnnealingDecay(learning_rate=lr, T_max=10000, eta_min=1e-5)\r\n",
    "optim = paddle.optimizer.Momentum(learning_rate=lr, parameters=model.parameters(), momentum=momentum)\r\n",
    "\r\n",
    "visual_dl = paddle.callbacks.VisualDL(log_dir=save_dir)\r\n",
    "early_stop = paddle.callbacks.EarlyStopping(monitor='acc', mode='max', patience=patience, \r\n",
    "                                            verbose=1, min_delta=0, baseline=None,\r\n",
    "                                            save_best_model=True)\r\n",
    "# 配置模型\r\n",
    "model.prepare(optim,paddle.nn.CrossEntropyLoss(),Accuracy())\r\n",
    "\r\n",
    "# 训练保存并验证模型\r\n",
    "model.fit(train_dataset,test_dataset,epochs=epoch,batch_size=batch_size,\r\n",
    "        save_dir=save_dir,verbose=1, callbacks=[visual_dl, early_stop])"
   ]
  },
  {
   "cell_type": "markdown",
   "metadata": {
    "collapsed": false
   },
   "source": [
    "四、测试模型"
   ]
  },
  {
   "cell_type": "code",
   "execution_count": 18,
   "metadata": {
    "collapsed": false
   },
   "outputs": [],
   "source": [
    "best_model_path = \"output/model/v5_7/final.pdparams\"\r\n",
    "net_cls = MyNet()\r\n",
    "model = paddle.Model(net_cls)\r\n",
    "model.load(best_model_path)\r\n",
    "model.prepare(optim,paddle.nn.CrossEntropyLoss(),Accuracy())\r\n"
   ]
  },
  {
   "cell_type": "code",
   "execution_count": 19,
   "metadata": {
    "collapsed": false
   },
   "outputs": [
    {
     "name": "stdout",
     "output_type": "stream",
     "text": [
      "Eval begin...\n",
      "step 157/157 [==============================] - loss: 7.8354e-05 - acc: 0.9920 - 22ms/step        \n",
      "Eval samples: 10000\n",
      "{'loss': [7.835366e-05], 'acc': 0.992}\n"
     ]
    }
   ],
   "source": [
    "#用最好的模型在测试集10000张图片上验证\r\n",
    "results = model.evaluate(test_dataset, batch_size=batch_size, verbose=1)\r\n",
    "print(results)"
   ]
  },
  {
   "cell_type": "code",
   "execution_count": 20,
   "metadata": {
    "collapsed": false
   },
   "outputs": [
    {
     "name": "stdout",
     "output_type": "stream",
     "text": [
      "AxesImage(25,22;155x154)\n",
      "test_data0 的标签为: [7]\n",
      "Predict begin...\n",
      "step    52/10000 [..............................] - ETA: 38s - 4ms/ste"
     ]
    },
    {
     "name": "stderr",
     "output_type": "stream",
     "text": [
      "/opt/conda/envs/python35-paddle120-env/lib/python3.7/site-packages/matplotlib/cbook/__init__.py:2349: DeprecationWarning: Using or importing the ABCs from 'collections' instead of from 'collections.abc' is deprecated, and in 3.8 it will stop working\n",
      "  if isinstance(obj, collections.Iterator):\n",
      "/opt/conda/envs/python35-paddle120-env/lib/python3.7/site-packages/matplotlib/cbook/__init__.py:2366: DeprecationWarning: Using or importing the ABCs from 'collections' instead of from 'collections.abc' is deprecated, and in 3.8 it will stop working\n",
      "  return list(data) if isinstance(data, collections.MappingView) else data\n"
     ]
    },
    {
     "name": "stdout",
     "output_type": "stream",
     "text": [
      "step   104/10000 [..............................] - ETA: 37s - 4ms/stepstep   188/10000 [..............................] - ETA: 37s - 4ms/st\n",
      "step  4642/10000 [============>.................] - ETA: 20s - 4ms/ste"
     ]
    }
   ],
   "source": [
    "from matplotlib import pyplot as plt \r\n",
    "########测试\r\n",
    "#获取测试集的第一个图片\r\n",
    "test_data0, test_label_0 = test_dataset[0][0],test_dataset[0][1]\r\n",
    "test_data0 = test_data0.reshape([img_size,img_size])\r\n",
    "plt.figure(figsize=(2,2))\r\n",
    "#展示测试集中的第一个图片\r\n",
    "print(plt.imshow(test_data0, cmap=plt.cm.binary))\r\n",
    "print('test_data0 的标签为: ' + str(test_label_0))\r\n",
    "#模型预测\r\n",
    "result = model.predict(test_dataset, batch_size=1)\r\n",
    "#打印模型预测的结果\r\n",
    "print('test_data0 预测的数值为：%d' % np.argsort(result[0][0])[0][-1])"
   ]
  }
 ],
 "metadata": {
  "kernelspec": {
   "display_name": "PaddlePaddle 2.1.0 (Python 3.5)",
   "language": "python",
   "name": "py35-paddle1.2.0"
  },
  "language_info": {
   "codemirror_mode": {
    "name": "ipython",
    "version": 3
   },
   "file_extension": ".py",
   "mimetype": "text/x-python",
   "name": "python",
   "nbconvert_exporter": "python",
   "pygments_lexer": "ipython3",
   "version": "3.7.4"
  }
 },
 "nbformat": 4,
 "nbformat_minor": 1
}
