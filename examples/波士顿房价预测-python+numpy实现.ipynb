{
 "cells": [
  {
   "cell_type": "markdown",
   "metadata": {},
   "source": [
    "# Python+numpy构建波士顿房价预测模型"
   ]
  },
  {
   "cell_type": "markdown",
   "metadata": {},
   "source": [
    "# 一、任务描述"
   ]
  },
  {
   "cell_type": "markdown",
   "metadata": {},
   "source": [
    "本次任务主要是“波士顿房价预测”，众所周知，房价的影响因素有很多，并且每个影响因素对于房价的影响程度不尽相同，而本次任务所使用的数据集是波士顿地区的房价及其13个影响因素，目的是使用回归算法来拟合出一个房价预测模型。"
   ]
  },
  {
   "cell_type": "markdown",
   "metadata": {},
   "source": [
    "# 二、数据说明"
   ]
  },
  {
   "cell_type": "markdown",
   "metadata": {},
   "source": [
    "本任务所使用的数据集包含13个特征变量，分别是：\n",
    "- CRIM: 城镇人均犯罪率\n",
    "- ZN: 住宅用地所占比例\n",
    "- INDUS: 城镇中非住宅用地所占比例\n",
    "- CHAS: 虚拟变量,用于回归分析\n",
    "- NOX: 环保指数\n",
    "- RM: 每栋住宅的房间数\n",
    "- AGE: 1940 年以前建成的自住单位的比例\n",
    "- DIS: 距离 5 个波士顿的就业中心的加权距离\n",
    "- RAD: 距离高速公路的便利指数\n",
    "- TAX: 每一万美元的不动产税率\n",
    "- PTRATIO: 城镇中的教师学生比例\n",
    "- B: 城镇中的黑人比例\n",
    "- LSTAT: 地区中有多少房东属于低收入人群\n",
    "- MEDV: 自住房屋房价中位数（也就是均价）"
   ]
  },
  {
   "cell_type": "markdown",
   "metadata": {},
   "source": [
    "## 2.1 读取数据"
   ]
  },
  {
   "cell_type": "code",
   "execution_count": 1,
   "metadata": {},
   "outputs": [],
   "source": [
    "import numpy as np\n",
    "import json\n",
    "import matplotlib.pyplot as plt"
   ]
  },
  {
   "cell_type": "code",
   "execution_count": 2,
   "metadata": {},
   "outputs": [
    {
     "name": "stdout",
     "output_type": "stream",
     "text": [
      "(7084,)\n"
     ]
    }
   ],
   "source": [
    "data_path = './housing.data'\n",
    "data = np.fromfile(data_path,sep=' ')\n",
    "print(data.shape)"
   ]
  },
  {
   "cell_type": "markdown",
   "metadata": {},
   "source": [
    "- 可以看到，我们得到了一个大小为[7084*1]的矩阵，其中的内容是第0-13项数据为第一条数据，一条数据中包含0-12项一共13个特征值，第14项为真实的目标，我们的任务就是利用前面13项的数据来构建回归模型，是得得到的输出尽可能的与真实数据接近。"
   ]
  },
  {
   "cell_type": "markdown",
   "metadata": {},
   "source": [
    "## 2.2 数据预处理"
   ]
  },
  {
   "cell_type": "markdown",
   "metadata": {},
   "source": [
    "### 2.2.1 数据格式转化"
   ]
  },
  {
   "cell_type": "markdown",
   "metadata": {},
   "source": [
    "- 由于读入的数据是一维数据，我们需要将其转化为我们可以使用的[x*14]维的矩阵形式。每行为一个数据样本（14个值），每个数据样本包含13个影响房价的特征和一个该类型房屋的均价。"
   ]
  },
  {
   "cell_type": "code",
   "execution_count": 3,
   "metadata": {},
   "outputs": [
    {
     "name": "stdout",
     "output_type": "stream",
     "text": [
      "(506, 14)\n"
     ]
    }
   ],
   "source": [
    "feature_names = [ 'CRIM', 'ZN', 'INDUS', 'CHAS', 'NOX', 'RM', 'AGE','DIS', 'RAD', 'TAX', 'PTRATIO', 'B', 'LSTAT', 'MEDV' ]\n",
    "feature_num = len(feature_names)\n",
    "data = data.reshape([data.shape[0] // feature_num, feature_num])\n",
    "print(data.shape)"
   ]
  },
  {
   "cell_type": "code",
   "execution_count": 4,
   "metadata": {},
   "outputs": [
    {
     "name": "stdout",
     "output_type": "stream",
     "text": [
      "[6.320e-03 1.800e+01 2.310e+00 0.000e+00 5.380e-01 6.575e+00 6.520e+01\n",
      " 4.090e+00 1.000e+00 2.960e+02 1.530e+01 3.969e+02 4.980e+00 2.400e+01]\n"
     ]
    }
   ],
   "source": [
    "# 查看部分数据\n",
    "x = data[0]\n",
    "print(x)"
   ]
  },
  {
   "cell_type": "markdown",
   "metadata": {},
   "source": [
    "### 2.2.2 数据归一化"
   ]
  },
  {
   "cell_type": "markdown",
   "metadata": {},
   "source": [
    "- 可以看到，最终我们得到了一个[506*14]维的矩阵，输出其中一行数据，我们发现，数据之间的大小差距很大，可以看到第一个数据和第三个数据差了3个数量级，而这会导致得到的模型主要有数值比较大的特征所影响，因此，对数据进行归一化是十分必要的。"
   ]
  },
  {
   "cell_type": "code",
   "execution_count": 7,
   "metadata": {},
   "outputs": [],
   "source": [
    "# 计算训练集的最大值，最小值，平均值\n",
    "maximums, minimums, avgs = data.max(axis=0),data.min(axis=0),data.sum(axis=0) / data.shape[0]\n",
    "for i in range(feature_num):\n",
    "    data[:, i] = (data[:, i] - minimums[i]) / (maximums[i] - minimums[i])"
   ]
  },
  {
   "cell_type": "markdown",
   "metadata": {},
   "source": [
    "### 2.2.3 数据集划分"
   ]
  },
  {
   "cell_type": "markdown",
   "metadata": {},
   "source": [
    "- 数据仅是我们得到的数据，为了评估模型的好坏，我们不能使用已经参与训练模型的数据。因此，我们首先需要将数据集进行划分，分为训练集和测试集两部分，且这两部分数据集最好没有重复数据，且随即划分，两者之间没有明显的差异。"
   ]
  },
  {
   "cell_type": "code",
   "execution_count": 8,
   "metadata": {},
   "outputs": [
    {
     "name": "stdout",
     "output_type": "stream",
     "text": [
      "(404, 14)\n"
     ]
    }
   ],
   "source": [
    "# 数据集划分\n",
    "ratio = 0.8\n",
    "offset = int(data.shape[0] * ratio)\n",
    "training_data = data[:offset]\n",
    "print(training_data.shape)"
   ]
  },
  {
   "cell_type": "markdown",
   "metadata": {},
   "source": [
    "## 2.3 函数封装"
   ]
  },
  {
   "cell_type": "code",
   "execution_count": null,
   "metadata": {},
   "outputs": [],
   "source": [
    "def load_data():\n",
    "    datafile = './housing.data'\n",
    "    data = np.fromfile(datafile, sep=' ')\n",
    "    # 每条数据包括14项，其中前面13项是影响因素，第14项是相应的房屋价格中位数\n",
    "    feature_names = [ 'CRIM', 'ZN', 'INDUS', 'CHAS', 'NOX', 'RM', 'AGE', 'DIS', 'RAD', 'TAX', 'PTRATIO', 'B', 'LSTAT', 'MEDV' ]\n",
    "    feature_num = len(feature_names)\n",
    "    # 将原始数据进行Reshape，变成[N, 14]这样的形状\n",
    "    data = data.reshape([data.shape[0] // feature_num, feature_num])\n",
    "    # 将原数据集拆分成训练集和测试集\n",
    "    # 这里使用80%的数据做训练，20%的数据做测试\n",
    "    # 测试集和训练集必须是没有交集的\n",
    "    ratio = 0.8\n",
    "    offset = int(data.shape[0] * ratio)\n",
    "    training_data = data[:offset]\n",
    "    # 计算训练集的最大值，最小值，平均值\n",
    "    maximums, minimums, avgs = training_data.max(axis=0), training_data.min(axis=0), training_data.sum(axis=0) / training_data.shape[0]\n",
    "    # 对数据进行归一化处理\n",
    "    for i in range(feature_num):\n",
    "        data[:, i] = (data[:, i] - minimums[i]) / (maximums[i] - minimums[i])\n",
    "    # 训练集和测试集的划分比例\n",
    "    training_data = data[:offset]\n",
    "    test_data = data[offset:]\n",
    "    return training_data, test_data"
   ]
  },
  {
   "cell_type": "markdown",
   "metadata": {},
   "source": [
    "# 三、模型设计"
   ]
  },
  {
   "cell_type": "markdown",
   "metadata": {},
   "source": [
    "# 3.1 定义激活函数"
   ]
  },
  {
   "cell_type": "markdown",
   "metadata": {},
   "source": [
    "- 一个神经网络若是没有激活函数，则无论网络的结构多么复杂，其最终得到的始终是一个线性模型，而线性模型针对“异或”问题这类线性不可分的问题时是无法找到一个合适的解的，为了可以求解非线性问题，引入了激活函数，这样可以增加非线性因素，提高模型的拟合能力。"
   ]
  },
  {
   "attachments": {
    "d788d43f8794a4c25b5e4dd902f41bd5ac6e39c6.png": {
     "image/png": "[encoded data removed]"
    }
   },
   "cell_type": "markdown",
   "metadata": {},
   "source": [
    "![d788d43f8794a4c25b5e4dd902f41bd5ac6e39c6.png](attachment:d788d43f8794a4c25b5e4dd902f41bd5ac6e39c6.png)"
   ]
  },
  {
   "cell_type": "markdown",
   "metadata": {},
   "source": [
    "# 3.2 定义损失函数"
   ]
  },
  {
   "cell_type": "markdown",
   "metadata": {},
   "source": [
    "- 模型设计完成后，需要通过训练来调整其中的参数，而调整的依据就是通过损失函数来反映的，所谓损失函数定义为模型的输出和真实值之间的差距，对损失函数进行求导，可以对后续的参数修正起到作用。"
   ]
  },
  {
   "cell_type": "markdown",
   "metadata": {},
   "source": [
    "- 本任务使用的损失函数为均方误差\n",
    "$$Loss= \\frac{1}{N}\\sum_{i=1}^N{(y_i - z_i)^2}$$"
   ]
  },
  {
   "cell_type": "markdown",
   "metadata": {},
   "source": [
    "## 3.3 Python+numpy定义网络"
   ]
  },
  {
   "cell_type": "markdown",
   "metadata": {},
   "source": [
    "### 3.3.1 单层网络"
   ]
  },
  {
   "cell_type": "code",
   "execution_count": 11,
   "metadata": {},
   "outputs": [
    {
     "data": {
      "text/plain": [
       "(404, 14)"
      ]
     },
     "execution_count": 11,
     "metadata": {},
     "output_type": "execute_result"
    }
   ],
   "source": [
    "class Network(object):\n",
    "    def __init__(self, num_of_weights):\n",
    "        np.random.seed(0)\n",
    "        self.w = np.random.randn(num_of_weights, 1)\n",
    "        self.b = 0.\n",
    "        \n",
    "    def forward(self, x):\n",
    "        z = np.dot(x, self.w) + self.b\n",
    "        return z\n",
    "    \n",
    "    def loss(self, z, y):\n",
    "        error = z - y\n",
    "        cost = error * error\n",
    "        cost = np.mean(cost)\n",
    "        return cost\n",
    "    \n",
    "    def gradient(self, x, y):\n",
    "        z = self.forward(x)\n",
    "        gradient_w = (z-y)*x\n",
    "        gradient_w = np.mean(gradient_w, axis=0)\n",
    "        gradient_w = gradient_w[:, np.newaxis]\n",
    "        gradient_b = (z - y)\n",
    "        gradient_b = np.mean(gradient_b)\n",
    "        return gradient_w, gradient_b\n",
    "    \n",
    "    def update(self, gradient_w, gradient_b, eta = 0.01):\n",
    "        self.w = self.w - eta * gradient_w\n",
    "        self.b = self.b - eta * gradient_b\n",
    "        \n",
    "    def train(self, x, y, iterations=100, eta=0.01):\n",
    "        losses = []\n",
    "        for i in range(iterations):\n",
    "            z = self.forward(x)\n",
    "            L = self.loss(z, y)\n",
    "            gradient_w, gradient_b = self.gradient(x, y)\n",
    "            self.update(gradient_w, gradient_b, eta)\n",
    "            losses.append(L)\n",
    "        return losses"
   ]
  },
  {
   "cell_type": "code",
   "execution_count": 32,
   "metadata": {},
   "outputs": [
    {
     "data": {
      "image/png": "[encoded data removed]",
      "text/plain": [
       "<Figure size 432x288 with 1 Axes>"
      ]
     },
     "metadata": {
      "needs_background": "light"
     },
     "output_type": "display_data"
    }
   ],
   "source": [
    "# 获取数据\n",
    "train_data, test_data = load_data()\n",
    "x = train_data[:, :-1]\n",
    "y = train_data[:, -1:]\n",
    "# 创建网络\n",
    "net = Network(13)\n",
    "num_iterations=1000\n",
    "# 启动训练\n",
    "losses = net.train(x,y, iterations=num_iterations, eta=0.01)\n",
    "\n",
    "# 画出损失函数的变化趋势\n",
    "plot_x = np.arange(num_iterations)\n",
    "plot_y = np.array(losses)\n",
    "plt.plot(plot_x, plot_y)\n",
    "plt.show()"
   ]
  },
  {
   "cell_type": "markdown",
   "metadata": {},
   "source": [
    "### 3.3.2 双层网络"
   ]
  },
  {
   "cell_type": "markdown",
   "metadata": {},
   "source": [
    "- 双层神经网络中含有一个隐含层，这里我假定其中的隐含层包含10个节点，下面给出损失函数对各权重和偏置的求导规则。"
   ]
  },
  {
   "attachments": {
    "%E5%BE%AE%E4%BF%A1%E6%88%AA%E5%9B%BE_20210709210122.png": {
     "image/png": "[encoded data removed]"
    }
   },
   "cell_type": "markdown",
   "metadata": {},
   "source": [
    "![%E5%BE%AE%E4%BF%A1%E6%88%AA%E5%9B%BE_20210709210122.png](attachment:%E5%BE%AE%E4%BF%A1%E6%88%AA%E5%9B%BE_20210709210122.png)"
   ]
  },
  {
   "attachments": {
    "%E5%BE%AE%E4%BF%A1%E6%88%AA%E5%9B%BE_20210709210114.png": {
     "image/png": "[encoded data removed]"
    }
   },
   "cell_type": "markdown",
   "metadata": {},
   "source": [
    "![%E5%BE%AE%E4%BF%A1%E6%88%AA%E5%9B%BE_20210709210114.png](attachment:%E5%BE%AE%E4%BF%A1%E6%88%AA%E5%9B%BE_20210709210114.png)"
   ]
  },
  {
   "attachments": {
    "%E5%BE%AE%E4%BF%A1%E6%88%AA%E5%9B%BE_20210709210139.png": {
     "image/png": "[encoded data removed]"
    }
   },
   "cell_type": "markdown",
   "metadata": {},
   "source": [
    "![%E5%BE%AE%E4%BF%A1%E6%88%AA%E5%9B%BE_20210709210139.png](attachment:%E5%BE%AE%E4%BF%A1%E6%88%AA%E5%9B%BE_20210709210139.png)"
   ]
  },
  {
   "attachments": {
    "%E5%BE%AE%E4%BF%A1%E6%88%AA%E5%9B%BE_20210709210132.png": {
     "image/png": "[encoded data removed]"
    }
   },
   "cell_type": "markdown",
   "metadata": {},
   "source": [
    "![%E5%BE%AE%E4%BF%A1%E6%88%AA%E5%9B%BE_20210709210132.png](attachment:%E5%BE%AE%E4%BF%A1%E6%88%AA%E5%9B%BE_20210709210132.png)"
   ]
  },
  {
   "cell_type": "code",
   "execution_count": 28,
   "metadata": {},
   "outputs": [],
   "source": [
    "# 两层神经网络\n",
    "class Network2(object):\n",
    "    def __init__(self, num_of_weights):\n",
    "        # 随机产生w的初始值\n",
    "        # 为了保持程序每次运行结果的一致性，\n",
    "        # 此处设置固定的随机数种子\n",
    "        np.random.seed(0)\n",
    "        self.w1 = np.random.randn(num_of_weights, 10)\n",
    "        self.w2 = np.random.randn(10,1)\n",
    "        self.b1 = 0.\n",
    "        self.b2 = 0.\n",
    "        \n",
    "    def forward(self, x):\n",
    "        z1 = np.dot(x, self.w1) + self.b1\n",
    "        z2 = np.maximum(z1,0)  # Relu\n",
    "        z = np.dot(z2, self.w2) + self.b2\n",
    "        return z\n",
    "    \n",
    "    def loss(self, z, y):\n",
    "        error = z - y\n",
    "        cost = error * error\n",
    "        cost = np.mean(cost)\n",
    "        return cost\n",
    "    \n",
    "    def gradient(self, x, y):\n",
    "        z1 = np.dot(x, self.w1) + self.b1\n",
    "        z2 = np.maximum(z1,0)\n",
    "        z = np.dot(z2, self.w2) + self.b2\n",
    "        y_grad = 2*(z-y)\n",
    "        gradient_w2 = z2.T.dot(y_grad)\n",
    "        relu_grad=y_grad.dot(self.w2.T)\n",
    "        h_grad=relu_grad.copy()\n",
    "        h_grad[z1<0]=0\n",
    "        gradient_w1=x.T.dot(h_grad)\n",
    "        gradient_b2 = np.mean(2*(z-y)/len(y))\n",
    "        gradient_b1 = np.mean(np.dot(2*(z-y)/len(y),self.w2.T),axis=0)\n",
    "        return gradient_w1,gradient_w2,gradient_b1,gradient_b2\n",
    "    \n",
    "    def update(self, gradient_w1,gradient_w2,gradient_b1,gradient_b2, eta = 0.01):\n",
    "        self.w1 = self.w1 - eta * gradient_w1\n",
    "        self.w2 = self.w2 - eta * gradient_w2\n",
    "        self.b1 = self.b1 - eta * gradient_b1\n",
    "        self.b2 = self.b2 - eta * gradient_b2\n",
    "        \n",
    "    def train(self, x, y, iterations=100, eta=0.01):\n",
    "        losses = []\n",
    "        for i in range(iterations):\n",
    "            z = self.forward(x)\n",
    "            L = self.loss(z, y)\n",
    "            gradient_w1,gradient_w2,gradient_b1,gradient_b2 = self.gradient(x, y)\n",
    "            self.update(gradient_w1,gradient_w2,gradient_b1,gradient_b2, eta)\n",
    "            losses.append(L)\n",
    "        return losses"
   ]
  },
  {
   "cell_type": "code",
   "execution_count": 29,
   "metadata": {},
   "outputs": [
    {
     "data": {
      "image/png": "[encoded data removed]",
      "text/plain": [
       "<Figure size 432x288 with 1 Axes>"
      ]
     },
     "metadata": {
      "needs_background": "light"
     },
     "output_type": "display_data"
    }
   ],
   "source": [
    "# 获取数据\n",
    "train_data, test_data = load_data()\n",
    "x = train_data[:, :-1]\n",
    "y = train_data[:, -1:]\n",
    "# 创建网络\n",
    "net = Network2(13)\n",
    "num_iterations=1000\n",
    "# 启动训练\n",
    "losses = net.train(x,y, iterations=num_iterations, eta=0.01)\n",
    "\n",
    "# 画出损失函数的变化趋势\n",
    "plot_x = np.arange(num_iterations)\n",
    "plot_y = np.array(losses)\n",
    "plt.plot(plot_x, plot_y)\n",
    "plt.show()"
   ]
  },
  {
   "cell_type": "markdown",
   "metadata": {},
   "source": [
    "- 由上述损失函数的变化曲线可以得到，单层神经网络的表达能力不如双层神经网络，且单层神经网络中由于没有激活函数的存在，所以最终得到的模型损失较大，而双层神经网络中加入了激活函数，可以看到，其可以得到比较完美的模型。"
   ]
  }
 ],
 "metadata": {
  "kernelspec": {
   "display_name": "Python 3",
   "language": "python",
   "name": "python3"
  },
  "language_info": {
   "codemirror_mode": {
    "name": "ipython",
    "version": 3
   },
   "file_extension": ".py",
   "mimetype": "text/x-python",
   "name": "python",
   "nbconvert_exporter": "python",
   "pygments_lexer": "ipython3",
   "version": "3.8.5"
  }
 },
 "nbformat": 4,
 "nbformat_minor": 4
}
