{
 "cells": [
  {
   "cell_type": "code",
   "execution_count": 1,
   "metadata": {
    "collapsed": false
   },
   "outputs": [],
   "source": [
    "# 查看当前挂载的数据集目录, 该目录下的变更重启环境后会自动还原\n",
    "# View dataset directory. \n",
    "# This directory will be recovered automatically after resetting environment. \n",
    "!ls /home/aistudio/data"
   ]
  },
  {
   "cell_type": "code",
   "execution_count": 2,
   "metadata": {
    "collapsed": false
   },
   "outputs": [
    {
     "name": "stdout",
     "output_type": "stream",
     "text": [
      "housing.data\r\n"
     ]
    }
   ],
   "source": [
    "# 查看工作区文件, 该目录下的变更将会持久保存. 请及时清理不必要的文件, 避免加载过慢.\n",
    "# View personal work directory. \n",
    "# All changes under this directory will be kept even after reset. \n",
    "# Please clean unnecessary files in time to speed up environment loading. \n",
    "!ls /home/aistudio/work"
   ]
  },
  {
   "cell_type": "code",
   "execution_count": 3,
   "metadata": {
    "collapsed": false
   },
   "outputs": [
    {
     "name": "stdout",
     "output_type": "stream",
     "text": [
      "Looking in indexes: https://mirror.baidu.com/pypi/simple/\n",
      "Collecting beautifulsoup4\n",
      "\u001b[?25l  Downloading https://mirror.baidu.com/pypi/packages/d1/41/e6495bd7d3781cee623ce23ea6ac73282a373088fcd0ddc809a047b18eae/beautifulsoup4-4.9.3-py3-none-any.whl (115kB)\n",
      "\u001b[K     |████████████████████████████████| 122kB 14.1MB/s eta 0:00:01\n",
      "\u001b[?25hCollecting soupsieve>1.2; python_version >= \"3.0\" (from beautifulsoup4)\n",
      "  Downloading https://mirror.baidu.com/pypi/packages/36/69/d82d04022f02733bf9a72bc3b96332d360c0c5307096d76f6bb7489f7e57/soupsieve-2.2.1-py3-none-any.whl\n",
      "Installing collected packages: soupsieve, beautifulsoup4\n",
      "Successfully installed beautifulsoup4-4.9.3 soupsieve-2.2.1\n"
     ]
    }
   ],
   "source": [
    "# 如果需要进行持久化安装, 需要使用持久化路径, 如下方代码示例:\n",
    "# If a persistence installation is required, \n",
    "# you need to use the persistence path as the following: \n",
    "!mkdir /home/aistudio/external-libraries\n",
    "!pip install beautifulsoup4 -t /home/aistudio/external-libraries"
   ]
  },
  {
   "cell_type": "code",
   "execution_count": 4,
   "metadata": {
    "collapsed": false
   },
   "outputs": [],
   "source": [
    "# 同时添加如下代码, 这样每次环境(kernel)启动的时候只要运行下方代码即可: \n",
    "# Also add the following code, \n",
    "# so that every time the environment (kernel) starts, \n",
    "# just run the following code: \n",
    "import sys \n",
    "sys.path.append('/home/aistudio/external-libraries')"
   ]
  },
  {
   "cell_type": "code",
   "execution_count": 5,
   "metadata": {
    "collapsed": false
   },
   "outputs": [
    {
     "data": {
      "text/plain": [
       "array([6.320e-03, 1.800e+01, 2.310e+00, ..., 3.969e+02, 7.880e+00,\n",
       "       1.190e+01])"
      ]
     },
     "execution_count": 5,
     "metadata": {},
     "output_type": "execute_result"
    }
   ],
   "source": [
    "\r\n",
    "# 导入需要用到的package\r\n",
    "import numpy as np\r\n",
    "import json\r\n",
    "import matplotlib.pyplot as plt\r\n",
    "# 读入训练数据\r\n",
    "datafile = './work/housing.data'\r\n",
    "data = np.fromfile(datafile, sep=' ')\r\n",
    "data"
   ]
  },
  {
   "cell_type": "code",
   "execution_count": 6,
   "metadata": {
    "collapsed": false
   },
   "outputs": [],
   "source": [
    "feature_names = [ 'CRIM', 'ZN', 'INDUS', 'CHAS', 'NOX', 'RM', 'AGE','DIS', \r\n",
    "                 'RAD', 'TAX', 'PTRATIO', 'B', 'LSTAT', 'MEDV' ]\r\n",
    "feature_num = len(feature_names)\r\n",
    "data = data.reshape([data.shape[0] // feature_num, feature_num])\r\n"
   ]
  },
  {
   "cell_type": "code",
   "execution_count": 7,
   "metadata": {
    "collapsed": false
   },
   "outputs": [
    {
     "name": "stdout",
     "output_type": "stream",
     "text": [
      "(14,)\n",
      "[6.320e-03 1.800e+01 2.310e+00 0.000e+00 5.380e-01 6.575e+00 6.520e+01\n",
      " 4.090e+00 1.000e+00 2.960e+02 1.530e+01 3.969e+02 4.980e+00 2.400e+01]\n"
     ]
    }
   ],
   "source": [
    "# 查看数据\r\n",
    "x = data[0]\r\n",
    "print(x.shape)\r\n",
    "print(x)"
   ]
  },
  {
   "cell_type": "code",
   "execution_count": 8,
   "metadata": {
    "collapsed": false
   },
   "outputs": [
    {
     "data": {
      "text/plain": [
       "(404, 14)"
      ]
     },
     "execution_count": 8,
     "metadata": {},
     "output_type": "execute_result"
    }
   ],
   "source": [
    "ratio = 0.8\r\n",
    "offset = int(data.shape[0] * ratio)\r\n",
    "training_data = data[:offset]\r\n",
    "training_data.shape\r\n"
   ]
  },
  {
   "cell_type": "code",
   "execution_count": 9,
   "metadata": {
    "collapsed": false
   },
   "outputs": [],
   "source": [
    "# 计算train数据集的最大值，最小值，平均值\r\n",
    "maximums, minimums, avgs =                      training_data.max(axis=0),                      training_data.min(axis=0),      training_data.sum(axis=0) / training_data.shape[0]\r\n",
    "# 对数据进行归一化处理\r\n",
    "for i in range(feature_num):\r\n",
    "    #print(maximums[i], minimums[i], avgs[i])\r\n",
    "    data[:, i] = (data[:, i] - minimums[i]) / (maximums[i] - minimums[i])"
   ]
  },
  {
   "cell_type": "code",
   "execution_count": 10,
   "metadata": {
    "collapsed": false
   },
   "outputs": [],
   "source": [
    "def load_data():\r\n",
    "    # 从文件导入数据\r\n",
    "    datafile = './work/housing.data'\r\n",
    "    data = np.fromfile(datafile, sep=' ')\r\n",
    "\r\n",
    "    # 每条数据包括14项，其中前面13项是影响因素，第14项是相应的房屋价格中位数\r\n",
    "    feature_names = [ 'CRIM', 'ZN', 'INDUS', 'CHAS', 'NOX', 'RM', 'AGE',                       'DIS', 'RAD', 'TAX', 'PTRATIO', 'B', 'LSTAT', 'MEDV' ]\r\n",
    "    feature_num = len(feature_names)\r\n",
    "\r\n",
    "    # 将原始数据进行Reshape，变成[N, 14]这样的形状\r\n",
    "    data = data.reshape([data.shape[0] // feature_num, feature_num])\r\n",
    "\r\n",
    "    # 将原数据集拆分成训练集和测试集\r\n",
    "    # 这里使用80%的数据做训练，20%的数据做测试\r\n",
    "    # 测试集和训练集必须是没有交集的\r\n",
    "    ratio = 0.8\r\n",
    "    offset = int(data.shape[0] * ratio)\r\n",
    "    training_data = data[:offset]\r\n",
    "\r\n",
    "    # 计算训练集的最大值，最小值，平均值\r\n",
    "    maximums, minimums, avgs = training_data.max(axis=0), training_data.min(axis=0),                                  training_data.sum(axis=0) / training_data.shape[0]\r\n",
    "\r\n",
    "    # 对数据进行归一化处理\r\n",
    "    for i in range(feature_num):\r\n",
    "        #print(maximums[i], minimums[i], avgs[i])\r\n",
    "        data[:, i] = (data[:, i] - minimums[i]) / (maximums[i] - minimums[i])\r\n",
    "\r\n",
    "    # 训练集和测试集的划分比例\r\n",
    "    training_data = data[:offset]\r\n",
    "    test_data = data[offset:]\r\n",
    "    return training_data,test_data,minimums[13],maximums[13]\r\n"
   ]
  },
  {
   "cell_type": "code",
   "execution_count": 11,
   "metadata": {
    "collapsed": false
   },
   "outputs": [],
   "source": [
    "import numpy as np\r\n",
    "class Network(object):\r\n",
    "    def __init__(self, num_of_weights):\r\n",
    "        # 随机产生w的初始值\r\n",
    "        # 为了保持程序每次运行结果的一致性，此处设置固定的随机数种子\r\n",
    "        # np.random.seed(0)\r\n",
    "        self.w1 = np.random.randn(num_of_weights, num_of_weights)\r\n",
    "        self.b1= 0.\r\n",
    "        self.w2 = np.random.randn(num_of_weights, 1)\r\n",
    "        self.b2 = 0.\r\n",
    "\r\n",
    "    def forward(self, x):\r\n",
    "        z1 = np.dot(x, self.w1) + self.b1\r\n",
    "        z1relu=np.maximum(z1,0)\r\n",
    "        z =np.dot(z1relu,self.w2) + self.b2\r\n",
    "        return z,z1relu,z1\r\n",
    "\r\n",
    "    def loss(self, z, y):\r\n",
    "\r\n",
    "        error = z - y\r\n",
    "\r\n",
    "        num_samples = error.shape[0]\r\n",
    "        cost = error * error\r\n",
    "        cost = np.sum(cost) / num_samples\r\n",
    "        return cost\r\n",
    "\r\n",
    "    def gradient(self, x, y):\r\n",
    "        z,z1relu,z1= self.forward(x)\r\n",
    "        N = x.shape[0]\r\n",
    "        gradient_w2 = 1. / N * np.sum((z - y) * z1relu, axis=0)\r\n",
    "        gradient_w2 = gradient_w2[:, np.newaxis]\r\n",
    "        gradient_b2 = 1. / N * np.sum(z - y)\r\n",
    "        gradient_w1 = 1. / N * np.sum((z - y) * z1relu * x, axis=0)\r\n",
    "        gradient_w1 = gradient_w1[:, np.newaxis]\r\n",
    "        gradient_b1 = 1. / N * np.sum((z - y)*(y-z1relu))\r\n",
    "        \r\n",
    "        return gradient_w1, gradient_b1,gradient_w2,gradient_b2\r\n",
    "\r\n",
    "    def update(self, gradient_w1, gradient_b1,gradient_w2 ,gradient_b2,eta=0.01):\r\n",
    "        self.w1 = self.w1 - eta * gradient_w1\r\n",
    "        self.b1 = self.b1 - eta * gradient_b1\r\n",
    "        self.w2 = self.w2 - eta * gradient_w2\r\n",
    "        self.b2 = self.b2 - eta * gradient_b2\r\n",
    "    def train(self, training_data, num_epochs, batch_size=10, eta=0.01):\r\n",
    "        n = len(training_data)\r\n",
    "        losses = []\r\n",
    "        for epoch_id in range(num_epochs):\r\n",
    "            # 在每轮迭代开始之前，将训练数据的顺序随机打乱\r\n",
    "            # 然后再按每次取batch_size条数据的方式取出\r\n",
    "            np.random.shuffle(training_data)\r\n",
    "            # 将训练数据进行拆分，每个mini_batch包含batch_size条的数据\r\n",
    "            mini_batches = [training_data[k:k + batch_size] for k in range(0, n, batch_size)]\r\n",
    "            for iter_id, mini_batch in enumerate(mini_batches):\r\n",
    "                # print(self.w.shape)\r\n",
    "                # print(self.b)\r\n",
    "                x = mini_batch[:, :-1]\r\n",
    "                y = mini_batch[:, -1:]\r\n",
    "                a ,a1,a2= self.forward(x)\r\n",
    "                loss = self.loss(a, y)\r\n",
    "                gradient_w1, gradient_b1,gradient_w2,gradient_b2 = self.gradient(x, y)\r\n",
    "                self.update(gradient_w1, gradient_b1,gradient_w2,gradient_b2, eta)\r\n",
    "                losses.append(loss)\r\n",
    "                print('Epoch {:3d} / iter {:3d}, loss = {:.4f}'.\r\n",
    "                      format(epoch_id, iter_id, loss))\r\n",
    "\r\n",
    "        return losses"
   ]
  },
  {
   "cell_type": "code",
   "execution_count": 12,
   "metadata": {
    "collapsed": false
   },
   "outputs": [
    {
     "name": "stdout",
     "output_type": "stream",
     "text": [
      "Epoch   0 / iter   0, loss = 10.2623\n",
      "Epoch   0 / iter   1, loss = 2.8221\n",
      "Epoch   0 / iter   2, loss = 3.4285\n",
      "Epoch   0 / iter   3, loss = 3.0646\n",
      "Epoch   0 / iter   4, loss = 1.3147\n",
      "Epoch   1 / iter   0, loss = 3.8731\n",
      "Epoch   1 / iter   1, loss = 4.2165\n",
      "Epoch   1 / iter   2, loss = 4.9348\n",
      "Epoch   1 / iter   3, loss = 4.9147\n",
      "Epoch   1 / iter   4, loss = 5.9381\n",
      "Epoch   2 / iter   0, loss = 7.0893\n",
      "Epoch   2 / iter   1, loss = 3.7472\n",
      "Epoch   2 / iter   2, loss = 2.2562\n",
      "Epoch   2 / iter   3, loss = 2.0245\n",
      "Epoch   2 / iter   4, loss = 1.3007\n",
      "Epoch   3 / iter   0, loss = 1.1686\n",
      "Epoch   3 / iter   1, loss = 0.9219\n",
      "Epoch   3 / iter   2, loss = 0.5712\n",
      "Epoch   3 / iter   3, loss = 0.8158\n",
      "Epoch   3 / iter   4, loss = 0.5042\n",
      "Epoch   4 / iter   0, loss = 1.6199\n",
      "Epoch   4 / iter   1, loss = 0.9252\n",
      "Epoch   4 / iter   2, loss = 1.0494\n",
      "Epoch   4 / iter   3, loss = 0.7857\n",
      "Epoch   4 / iter   4, loss = 1.1170\n",
      "Epoch   5 / iter   0, loss = 0.6059\n",
      "Epoch   5 / iter   1, loss = 0.9689\n",
      "Epoch   5 / iter   2, loss = 0.9852\n",
      "Epoch   5 / iter   3, loss = 1.0622\n",
      "Epoch   5 / iter   4, loss = 0.3736\n",
      "Epoch   6 / iter   0, loss = 1.7224\n",
      "Epoch   6 / iter   1, loss = 1.9134\n",
      "Epoch   6 / iter   2, loss = 1.4103\n",
      "Epoch   6 / iter   3, loss = 1.2287\n",
      "Epoch   6 / iter   4, loss = 0.3121\n",
      "Epoch   7 / iter   0, loss = 0.6767\n",
      "Epoch   7 / iter   1, loss = 0.5092\n",
      "Epoch   7 / iter   2, loss = 0.3747\n",
      "Epoch   7 / iter   3, loss = 0.8903\n",
      "Epoch   7 / iter   4, loss = 0.7733\n",
      "Epoch   8 / iter   0, loss = 2.0049\n",
      "Epoch   8 / iter   1, loss = 0.9082\n",
      "Epoch   8 / iter   2, loss = 0.6034\n",
      "Epoch   8 / iter   3, loss = 0.3910\n",
      "Epoch   8 / iter   4, loss = 0.1592\n",
      "Epoch   9 / iter   0, loss = 0.4969\n",
      "Epoch   9 / iter   1, loss = 0.4689\n",
      "Epoch   9 / iter   2, loss = 0.3395\n",
      "Epoch   9 / iter   3, loss = 0.3709\n",
      "Epoch   9 / iter   4, loss = 0.4739\n",
      "Epoch  10 / iter   0, loss = 1.1587\n",
      "Epoch  10 / iter   1, loss = 0.7850\n",
      "Epoch  10 / iter   2, loss = 0.6462\n",
      "Epoch  10 / iter   3, loss = 0.6288\n",
      "Epoch  10 / iter   4, loss = 0.2658\n",
      "Epoch  11 / iter   0, loss = 0.8751\n",
      "Epoch  11 / iter   1, loss = 0.6152\n",
      "Epoch  11 / iter   2, loss = 0.5895\n",
      "Epoch  11 / iter   3, loss = 0.5885\n",
      "Epoch  11 / iter   4, loss = 0.4005\n",
      "Epoch  12 / iter   0, loss = 1.8339\n",
      "Epoch  12 / iter   1, loss = 1.4098\n",
      "Epoch  12 / iter   2, loss = 0.5721\n",
      "Epoch  12 / iter   3, loss = 0.3188\n",
      "Epoch  12 / iter   4, loss = 0.0988\n",
      "Epoch  13 / iter   0, loss = 0.2921\n",
      "Epoch  13 / iter   1, loss = 0.3448\n",
      "Epoch  13 / iter   2, loss = 0.3379\n",
      "Epoch  13 / iter   3, loss = 0.2559\n",
      "Epoch  13 / iter   4, loss = 0.0395\n",
      "Epoch  14 / iter   0, loss = 0.4103\n",
      "Epoch  14 / iter   1, loss = 0.3180\n",
      "Epoch  14 / iter   2, loss = 0.3167\n",
      "Epoch  14 / iter   3, loss = 0.3466\n",
      "Epoch  14 / iter   4, loss = 0.0842\n",
      "Epoch  15 / iter   0, loss = 0.2839\n",
      "Epoch  15 / iter   1, loss = 0.2854\n",
      "Epoch  15 / iter   2, loss = 0.3419\n",
      "Epoch  15 / iter   3, loss = 0.2657\n",
      "Epoch  15 / iter   4, loss = 0.1494\n",
      "Epoch  16 / iter   0, loss = 0.2863\n",
      "Epoch  16 / iter   1, loss = 0.3617\n",
      "Epoch  16 / iter   2, loss = 0.2726\n",
      "Epoch  16 / iter   3, loss = 0.2695\n",
      "Epoch  16 / iter   4, loss = 0.4110\n",
      "Epoch  17 / iter   0, loss = 2.0385\n",
      "Epoch  17 / iter   1, loss = 2.0147\n",
      "Epoch  17 / iter   2, loss = 1.6190\n",
      "Epoch  17 / iter   3, loss = 0.4210\n",
      "Epoch  17 / iter   4, loss = 0.0972\n",
      "Epoch  18 / iter   0, loss = 0.1439\n",
      "Epoch  18 / iter   1, loss = 0.2508\n",
      "Epoch  18 / iter   2, loss = 0.1882\n",
      "Epoch  18 / iter   3, loss = 0.2599\n",
      "Epoch  18 / iter   4, loss = 0.1791\n",
      "Epoch  19 / iter   0, loss = 0.1925\n",
      "Epoch  19 / iter   1, loss = 0.2268\n",
      "Epoch  19 / iter   2, loss = 0.2901\n",
      "Epoch  19 / iter   3, loss = 0.2290\n",
      "Epoch  19 / iter   4, loss = 0.5030\n",
      "Epoch  20 / iter   0, loss = 0.5933\n",
      "Epoch  20 / iter   1, loss = 0.7785\n",
      "Epoch  20 / iter   2, loss = 0.9544\n",
      "Epoch  20 / iter   3, loss = 1.0757\n",
      "Epoch  20 / iter   4, loss = 0.8294\n",
      "Epoch  21 / iter   0, loss = 0.2433\n",
      "Epoch  21 / iter   1, loss = 0.2491\n",
      "Epoch  21 / iter   2, loss = 0.1888\n",
      "Epoch  21 / iter   3, loss = 0.1713\n",
      "Epoch  21 / iter   4, loss = 0.1357\n",
      "Epoch  22 / iter   0, loss = 0.3686\n",
      "Epoch  22 / iter   1, loss = 0.3638\n",
      "Epoch  22 / iter   2, loss = 0.3853\n",
      "Epoch  22 / iter   3, loss = 0.4508\n",
      "Epoch  22 / iter   4, loss = 0.2969\n",
      "Epoch  23 / iter   0, loss = 0.2682\n",
      "Epoch  23 / iter   1, loss = 0.2499\n",
      "Epoch  23 / iter   2, loss = 0.2876\n",
      "Epoch  23 / iter   3, loss = 0.3146\n",
      "Epoch  23 / iter   4, loss = 0.3471\n",
      "Epoch  24 / iter   0, loss = 1.1378\n",
      "Epoch  24 / iter   1, loss = 1.5528\n",
      "Epoch  24 / iter   2, loss = 0.7732\n",
      "Epoch  24 / iter   3, loss = 0.5583\n",
      "Epoch  24 / iter   4, loss = 0.0839\n",
      "Epoch  25 / iter   0, loss = 0.1784\n",
      "Epoch  25 / iter   1, loss = 0.2162\n",
      "Epoch  25 / iter   2, loss = 0.1755\n",
      "Epoch  25 / iter   3, loss = 0.1936\n",
      "Epoch  25 / iter   4, loss = 0.1043\n",
      "Epoch  26 / iter   0, loss = 0.2671\n",
      "Epoch  26 / iter   1, loss = 0.2288\n",
      "Epoch  26 / iter   2, loss = 0.3024\n",
      "Epoch  26 / iter   3, loss = 0.3528\n",
      "Epoch  26 / iter   4, loss = 0.3491\n",
      "Epoch  27 / iter   0, loss = 0.3352\n",
      "Epoch  27 / iter   1, loss = 0.3515\n",
      "Epoch  27 / iter   2, loss = 0.3194\n",
      "Epoch  27 / iter   3, loss = 0.4400\n",
      "Epoch  27 / iter   4, loss = 0.3993\n",
      "Epoch  28 / iter   0, loss = 0.3022\n",
      "Epoch  28 / iter   1, loss = 0.3884\n",
      "Epoch  28 / iter   2, loss = 0.4573\n",
      "Epoch  28 / iter   3, loss = 0.5372\n",
      "Epoch  28 / iter   4, loss = 0.7947\n",
      "Epoch  29 / iter   0, loss = 1.1726\n",
      "Epoch  29 / iter   1, loss = 1.3882\n",
      "Epoch  29 / iter   2, loss = 1.0156\n",
      "Epoch  29 / iter   3, loss = 0.9457\n",
      "Epoch  29 / iter   4, loss = 0.4023\n",
      "Epoch  30 / iter   0, loss = 0.3627\n",
      "Epoch  30 / iter   1, loss = 0.3609\n",
      "Epoch  30 / iter   2, loss = 0.2451\n",
      "Epoch  30 / iter   3, loss = 0.1388\n",
      "Epoch  30 / iter   4, loss = 0.2071\n",
      "Epoch  31 / iter   0, loss = 0.3054\n",
      "Epoch  31 / iter   1, loss = 0.3508\n",
      "Epoch  31 / iter   2, loss = 0.3935\n",
      "Epoch  31 / iter   3, loss = 0.3707\n",
      "Epoch  31 / iter   4, loss = 0.2955\n",
      "Epoch  32 / iter   0, loss = 0.3425\n",
      "Epoch  32 / iter   1, loss = 0.4502\n",
      "Epoch  32 / iter   2, loss = 0.6151\n",
      "Epoch  32 / iter   3, loss = 0.7705\n",
      "Epoch  32 / iter   4, loss = 0.4431\n",
      "Epoch  33 / iter   0, loss = 0.1261\n",
      "Epoch  33 / iter   1, loss = 0.1359\n",
      "Epoch  33 / iter   2, loss = 0.1684\n",
      "Epoch  33 / iter   3, loss = 0.1242\n",
      "Epoch  33 / iter   4, loss = 0.0954\n",
      "Epoch  34 / iter   0, loss = 0.1317\n",
      "Epoch  34 / iter   1, loss = 0.1422\n",
      "Epoch  34 / iter   2, loss = 0.1584\n",
      "Epoch  34 / iter   3, loss = 0.1384\n",
      "Epoch  34 / iter   4, loss = 0.0362\n",
      "Epoch  35 / iter   0, loss = 0.1908\n",
      "Epoch  35 / iter   1, loss = 0.2617\n",
      "Epoch  35 / iter   2, loss = 0.5181\n",
      "Epoch  35 / iter   3, loss = 0.9276\n",
      "Epoch  35 / iter   4, loss = 1.5423\n",
      "Epoch  36 / iter   0, loss = 2.2794\n",
      "Epoch  36 / iter   1, loss = 2.7946\n",
      "Epoch  36 / iter   2, loss = 2.7424\n",
      "Epoch  36 / iter   3, loss = 0.4125\n",
      "Epoch  36 / iter   4, loss = 0.1327\n",
      "Epoch  37 / iter   0, loss = 0.1290\n",
      "Epoch  37 / iter   1, loss = 0.1304\n",
      "Epoch  37 / iter   2, loss = 0.1370\n",
      "Epoch  37 / iter   3, loss = 0.0987\n",
      "Epoch  37 / iter   4, loss = 0.0854\n",
      "Epoch  38 / iter   0, loss = 0.1082\n",
      "Epoch  38 / iter   1, loss = 0.1577\n",
      "Epoch  38 / iter   2, loss = 0.1229\n",
      "Epoch  38 / iter   3, loss = 0.1085\n",
      "Epoch  38 / iter   4, loss = 0.1078\n",
      "Epoch  39 / iter   0, loss = 0.2684\n",
      "Epoch  39 / iter   1, loss = 0.2812\n",
      "Epoch  39 / iter   2, loss = 0.2368\n",
      "Epoch  39 / iter   3, loss = 0.2160\n",
      "Epoch  39 / iter   4, loss = 0.1651\n",
      "Epoch  40 / iter   0, loss = 0.2548\n",
      "Epoch  40 / iter   1, loss = 0.3754\n",
      "Epoch  40 / iter   2, loss = 0.4744\n",
      "Epoch  40 / iter   3, loss = 0.4594\n",
      "Epoch  40 / iter   4, loss = 0.6359\n",
      "Epoch  41 / iter   0, loss = 0.7080\n",
      "Epoch  41 / iter   1, loss = 0.6766\n",
      "Epoch  41 / iter   2, loss = 0.4309\n",
      "Epoch  41 / iter   3, loss = 0.4628\n",
      "Epoch  41 / iter   4, loss = 0.1031\n",
      "Epoch  42 / iter   0, loss = 0.1292\n",
      "Epoch  42 / iter   1, loss = 0.1489\n",
      "Epoch  42 / iter   2, loss = 0.1407\n",
      "Epoch  42 / iter   3, loss = 0.1519\n",
      "Epoch  42 / iter   4, loss = 0.0242\n",
      "Epoch  43 / iter   0, loss = 0.3980\n",
      "Epoch  43 / iter   1, loss = 0.4763\n",
      "Epoch  43 / iter   2, loss = 0.5099\n",
      "Epoch  43 / iter   3, loss = 0.5629\n",
      "Epoch  43 / iter   4, loss = 0.5784\n",
      "Epoch  44 / iter   0, loss = 1.1535\n",
      "Epoch  44 / iter   1, loss = 1.5187\n",
      "Epoch  44 / iter   2, loss = 1.8262\n",
      "Epoch  44 / iter   3, loss = 0.8422\n",
      "Epoch  44 / iter   4, loss = 1.2297\n",
      "Epoch  45 / iter   0, loss = 1.7455\n",
      "Epoch  45 / iter   1, loss = 1.2627\n",
      "Epoch  45 / iter   2, loss = 0.3673\n",
      "Epoch  45 / iter   3, loss = 0.2013\n",
      "Epoch  45 / iter   4, loss = 0.2110\n",
      "Epoch  46 / iter   0, loss = 0.2354\n",
      "Epoch  46 / iter   1, loss = 0.1595\n",
      "Epoch  46 / iter   2, loss = 0.1510\n",
      "Epoch  46 / iter   3, loss = 0.1916\n",
      "Epoch  46 / iter   4, loss = 0.1445\n",
      "Epoch  47 / iter   0, loss = 0.2919\n",
      "Epoch  47 / iter   1, loss = 0.2252\n",
      "Epoch  47 / iter   2, loss = 0.2536\n",
      "Epoch  47 / iter   3, loss = 0.2495\n",
      "Epoch  47 / iter   4, loss = 0.2670\n",
      "Epoch  48 / iter   0, loss = 0.1556\n",
      "Epoch  48 / iter   1, loss = 0.1069\n",
      "Epoch  48 / iter   2, loss = 0.0647\n",
      "Epoch  48 / iter   3, loss = 0.1232\n",
      "Epoch  48 / iter   4, loss = 0.0336\n",
      "Epoch  49 / iter   0, loss = 0.0997\n",
      "Epoch  49 / iter   1, loss = 0.0979\n",
      "Epoch  49 / iter   2, loss = 0.0733\n",
      "Epoch  49 / iter   3, loss = 0.1226\n",
      "Epoch  49 / iter   4, loss = 0.0047\n"
     ]
    }
   ],
   "source": [
    "# 获取数据\r\n",
    "train_data, test_data,min,max= load_data()\r\n",
    "\r\n",
    "# 创建网络\r\n",
    "net = Network(13)\r\n",
    "# 启动训练\r\n",
    "losses = net.train(train_data, num_epochs=50, batch_size=100, eta=0.1)"
   ]
  },
  {
   "cell_type": "code",
   "execution_count": 13,
   "metadata": {
    "collapsed": false
   },
   "outputs": [
    {
     "data": {
      "image/png": "[encoded data removed]",
      "text/plain": [
       "<Figure size 432x288 with 1 Axes>"
      ]
     },
     "metadata": {},
     "output_type": "display_data"
    },
    {
     "name": "stdout",
     "output_type": "stream",
     "text": [
      "取倒数第十二行数据测试实际值为 19.7 预测值为 [24.23449908]\n"
     ]
    }
   ],
   "source": [
    "# 画出损失函数的变化趋势\r\n",
    "plot_x = np.arange(len(losses))\r\n",
    "plot_y = np.array(losses)\r\n",
    "plt.plot(plot_x, plot_y)\r\n",
    "plt.show()\r\n",
    "\r\n",
    "\r\n",
    "# In[28]:\r\n",
    "\r\n",
    "\r\n",
    "\r\n",
    "x=test_data[-10,-1]\r\n",
    "pred,pred1,pred2=net.forward(test_data[-12,:-1])\r\n",
    "repred=(pred*max)-(min*(pred-1))\r\n",
    "retest=(x*max)-(min*(x-1))\r\n",
    "print(\"取倒数第十二行数据测试实际值为\",retest,\"预测值为\",repred)\r\n"
   ]
  },
  {
   "cell_type": "markdown",
   "metadata": {
    "collapsed": false
   },
   "source": [
    "请点击[此处](https://ai.baidu.com/docs#/AIStudio_Project_Notebook/a38e5576)查看本环境基本用法.  <br>\n",
    "Please click [here ](https://ai.baidu.com/docs#/AIStudio_Project_Notebook/a38e5576) for more detailed instructions. "
   ]
  }
 ],
 "metadata": {
  "kernelspec": {
   "display_name": "PaddlePaddle 2.1.0 (Python 3.5)",
   "language": "python",
   "name": "py35-paddle1.2.0"
  },
  "language_info": {
   "codemirror_mode": {
    "name": "ipython",
    "version": 3
   },
   "file_extension": ".py",
   "mimetype": "text/x-python",
   "name": "python",
   "nbconvert_exporter": "python",
   "pygments_lexer": "ipython3",
   "version": "3.7.4"
  }
 },
 "nbformat": 4,
 "nbformat_minor": 1
}
