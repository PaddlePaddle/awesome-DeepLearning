{
 "cells": [
  {
   "cell_type": "code",
   "execution_count": 4,
   "metadata": {
    "collapsed": false
   },
   "outputs": [],
   "source": [
    "import paddle.fluid as fluid\r\n",
    "import paddle.fluid.dygraph as dygraph\r\n",
    "from paddle.fluid.dygraph import Linear\r\n",
    "import numpy as np"
   ]
  },
  {
   "cell_type": "code",
   "execution_count": 5,
   "metadata": {
    "collapsed": false
   },
   "outputs": [],
   "source": [
    "def load_data():\r\n",
    "    # 从文件导入数据\r\n",
    "    datafile = '/home/aistudio/data/data99224/housing.data'\r\n",
    "    data = np.fromfile(datafile, sep=' ')\r\n",
    "    feature_names = [\r\n",
    "        'CRIM', 'ZN', 'INDUS', 'CHAS', 'NOX', 'RM', 'AGE', 'DIS', 'RAD', 'TAX',\r\n",
    "        'PTRATIO', 'B', 'LSTAT', 'MEDV'\r\n",
    "    ]\r\n",
    "    feature_num = len(feature_names)\r\n",
    "    data = data.reshape([data.shape[0] // feature_num, feature_num])\r\n",
    "    ratio = 0.8\r\n",
    "    offset = int(data.shape[0] * ratio)\r\n",
    "    training_data = data[:offset]\r\n",
    "    maximums, minimums, avgs = training_data.max(axis=0), training_data.min(\r\n",
    "        axis=0), training_data.sum(axis=0) / training_data.shape[0]\r\n",
    "\r\n",
    "    global max_values\r\n",
    "    global min_values\r\n",
    "    global avg_values\r\n",
    "    max_values = maximums\r\n",
    "    min_values = minimums\r\n",
    "    avg_values = avgs\r\n",
    "\r\n",
    "    for i in range(feature_num):\r\n",
    "        data[:, i] = (data[:, i] - avgs[i]) / (maximums[i] - minimums[i])\r\n",
    "    training_data = data[:offset]\r\n",
    "    test_data = data[offset:]\r\n",
    "    return training_data, test_data\r\n"
   ]
  },
  {
   "cell_type": "code",
   "execution_count": 6,
   "metadata": {
    "collapsed": false
   },
   "outputs": [
    {
     "name": "stdout",
     "output_type": "stream",
     "text": [
      "epoch: 0, iter: 0, loss is: [0.1444435]\n",
      "epoch: 0, iter: 20, loss is: [0.04019573]\n",
      "epoch: 0, iter: 40, loss is: [0.06541823]\n",
      "epoch: 1, iter: 0, loss is: [0.02744977]\n",
      "epoch: 1, iter: 20, loss is: [0.23244587]\n",
      "epoch: 1, iter: 40, loss is: [0.14416817]\n",
      "epoch: 2, iter: 0, loss is: [0.03445353]\n",
      "epoch: 2, iter: 20, loss is: [0.05653752]\n",
      "epoch: 2, iter: 40, loss is: [0.10170836]\n",
      "epoch: 3, iter: 0, loss is: [0.12061919]\n",
      "epoch: 3, iter: 20, loss is: [0.04433534]\n",
      "epoch: 3, iter: 40, loss is: [0.04845322]\n",
      "epoch: 4, iter: 0, loss is: [0.18079497]\n",
      "epoch: 4, iter: 20, loss is: [0.03695429]\n",
      "epoch: 4, iter: 40, loss is: [0.14322533]\n",
      "epoch: 5, iter: 0, loss is: [0.08425957]\n",
      "epoch: 5, iter: 20, loss is: [0.17056862]\n",
      "epoch: 5, iter: 40, loss is: [0.05881011]\n",
      "epoch: 6, iter: 0, loss is: [0.13421455]\n",
      "epoch: 6, iter: 20, loss is: [0.028471]\n",
      "epoch: 6, iter: 40, loss is: [0.09866482]\n",
      "epoch: 7, iter: 0, loss is: [0.04469199]\n",
      "epoch: 7, iter: 20, loss is: [0.05146396]\n",
      "epoch: 7, iter: 40, loss is: [0.07198792]\n",
      "epoch: 8, iter: 0, loss is: [0.16905761]\n",
      "epoch: 8, iter: 20, loss is: [0.04406096]\n",
      "epoch: 8, iter: 40, loss is: [0.01438366]\n",
      "epoch: 9, iter: 0, loss is: [0.11817749]\n",
      "epoch: 9, iter: 20, loss is: [0.0402072]\n",
      "epoch: 9, iter: 40, loss is: [0.04570921]\n",
      "Inference result is [[24.46717]], the corresponding label is 19.7\n"
     ]
    }
   ],
   "source": [
    "class Regressor(fluid.dygraph.Layer):\r\n",
    "    def __init__(self, name_scope):\r\n",
    "        super(Regressor, self).__init__(name_scope)\r\n",
    "        name_scope = self.full_name()\r\n",
    "        self.fc = Linear(input_dim=13, output_dim=1, act=None)\r\n",
    "\r\n",
    "    def forward(self, inputs):\r\n",
    "        x = self.fc(inputs)\r\n",
    "        return x\r\n",
    "\r\n",
    "\r\n",
    "with fluid.dygraph.guard():\r\n",
    "    model = Regressor(\"Regressor\")\r\n",
    "    model.train()\r\n",
    "    training_data, test_data = load_data()\r\n",
    "    opt = fluid.optimizer.SGD(learning_rate=0.01,\r\n",
    "                              parameter_list=model.parameters())\r\n",
    "\r\n",
    "with dygraph.guard(fluid.CPUPlace()):\r\n",
    "    EPOCH_NUM = 10\r\n",
    "    BATCH_SIZE = 10\r\n",
    "\r\n",
    "    for epoch_id in range(EPOCH_NUM):\r\n",
    "        np.random.shuffle(training_data)\r\n",
    "        mini_batches = [\r\n",
    "            training_data[k:k + BATCH_SIZE]\r\n",
    "            for k in range(0, len(training_data), BATCH_SIZE)\r\n",
    "        ]\r\n",
    "\r\n",
    "        for iter_id, mini_batch in enumerate(mini_batches):\r\n",
    "            x = np.array(mini_batch[:, :-1]).astype('float32')\r\n",
    "            y = np.array(mini_batch[:, -1:]).astype('float32')\r\n",
    "            house_features = dygraph.to_variable(x)\r\n",
    "            prices = dygraph.to_variable(y)\r\n",
    "\r\n",
    "            predicts = model(house_features)\r\n",
    "\r\n",
    "            loss = fluid.layers.square_error_cost(predicts, label=prices)\r\n",
    "            avg_loss = fluid.layers.mean(loss)\r\n",
    "            if iter_id % 20 == 0:\r\n",
    "                print(\"epoch: {}, iter: {}, loss is: {}\".format(\r\n",
    "                    epoch_id, iter_id, avg_loss.numpy()))\r\n",
    "\r\n",
    "            avg_loss.backward()\r\n",
    "            opt.minimize(avg_loss)\r\n",
    "            model.clear_gradients()\r\n",
    "\r\n",
    "    fluid.save_dygraph(model.state_dict(), './result/LR_model')\r\n",
    "\r\n",
    "\r\n",
    "def load_one_example(data_dir):\r\n",
    "    f = open(data_dir, 'r')\r\n",
    "    datas = f.readlines()\r\n",
    "    tmp = datas[-10]\r\n",
    "    tmp = tmp.strip().split()\r\n",
    "    one_data = [float(v) for v in tmp]\r\n",
    "\r\n",
    "    for i in range(len(one_data) - 1):\r\n",
    "        one_data[i] = (one_data[i] - avg_values[i]) / (max_values[i] -\r\n",
    "                                                       min_values[i])\r\n",
    "\r\n",
    "    data = np.reshape(np.array(one_data[:-1]), [1, -1]).astype(np.float32)\r\n",
    "    label = one_data[-1]\r\n",
    "    return data, label\r\n",
    "\r\n",
    "\r\n",
    "with dygraph.guard():\r\n",
    "    model_dict, _ = fluid.load_dygraph('./result/LR_model')\r\n",
    "    model.load_dict(model_dict)\r\n",
    "    model.eval()\r\n",
    "\r\n",
    "    test_data, label = load_one_example(\"/home/aistudio/data/data99224/housing.data\")\r\n",
    "    test_data = dygraph.to_variable(test_data)\r\n",
    "    results = model(test_data)\r\n",
    "\r\n",
    "    results = results * (max_values[-1] - min_values[-1]) + avg_values[-1]\r\n",
    "    print(\"Inference result is {}, the corresponding label is {}\".format(\r\n",
    "        results.numpy(), label))\r\n"
   ]
  },
  {
   "cell_type": "markdown",
   "metadata": {
    "collapsed": false
   },
   "source": [
    "请点击[此处](https://ai.baidu.com/docs#/AIStudio_Project_Notebook/a38e5576)查看本环境基本用法.  <br>\n",
    "Please click [here ](https://ai.baidu.com/docs#/AIStudio_Project_Notebook/a38e5576) for more detailed instructions. "
   ]
  }
 ],
 "metadata": {
  "kernelspec": {
   "display_name": "PaddlePaddle 2.1.0 (Python 3.5)",
   "language": "python",
   "name": "py35-paddle1.2.0"
  },
  "language_info": {
   "codemirror_mode": {
    "name": "ipython",
    "version": 3
   },
   "file_extension": ".py",
   "mimetype": "text/x-python",
   "name": "python",
   "nbconvert_exporter": "python",
   "pygments_lexer": "ipython3",
   "version": "3.7.4"
  }
 },
 "nbformat": 4,
 "nbformat_minor": 1
}
