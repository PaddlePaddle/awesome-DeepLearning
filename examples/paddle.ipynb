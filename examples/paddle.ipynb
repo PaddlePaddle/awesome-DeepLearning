{
 "cells": [
  {
   "cell_type": "code",
   "execution_count": 2,
   "metadata": {
    "collapsed": false
   },
   "outputs": [],
   "source": [
    "import paddle.fluid as fluid\r\n",
    "import paddle\r\n",
    "from paddle.dataset import uci_housing\r\n",
    "import numpy as np"
   ]
  },
  {
   "cell_type": "code",
   "execution_count": 4,
   "metadata": {
    "collapsed": false
   },
   "outputs": [
    {
     "name": "stderr",
     "output_type": "stream",
     "text": [
      "/opt/conda/envs/python35-paddle120-env/lib/python3.7/site-packages/ipykernel_launcher.py:17: DeprecationWarning: \u001b[93m\n",
      "Warning:\n",
      "API \"paddle.dataset.uci_housing.train\" is deprecated since 2.0.0, and will be removed in future versions. Please use \"paddle.text.datasets.UCIHousing\" instead.\n",
      "reason: Please use new dataset API which supports paddle.io.DataLoader \u001b[0m\n",
      "Cache file /home/aistudio/.cache/paddle/dataset/uci_housing/housing.data not found, downloading http://paddlemodels.bj.bcebos.com/uci_housing/housing.data \n",
      "Begin to download\n",
      "............\n",
      "Download finished\n"
     ]
    }
   ],
   "source": [
    "paddle.enable_static()\r\n",
    "x = fluid.layers.data(name='x', shape=[13], dtype='float32')\r\n",
    "y = fluid.layers.data(name='y', shape=[1], dtype='float32')\r\n",
    "hidden = fluid.layers.fc(input=x, size=100, act='relu')\r\n",
    "y_predict = fluid.layers.fc(input=hidden, size=1, act=None)\r\n",
    "\r\n",
    "cost = fluid.layers.square_error_cost(input=y_predict, label=y)\r\n",
    "avg_cost = fluid.layers.mean(cost)\r\n",
    "\r\n",
    "optimizer = fluid.optimizer.SGDOptimizer(learning_rate=0.001)\r\n",
    "opts = optimizer.minimize(avg_cost)\r\n",
    "\r\n",
    "place = fluid.CPUPlace()\r\n",
    "exe = fluid.Executor(place)\r\n",
    "exe.run(fluid.default_startup_program())\r\n",
    "\r\n",
    "train_reader = fluid.io.batch(reader=uci_housing.train(),batch_size=128)\r\n",
    "\r\n",
    "feeder = fluid.DataFeeder(place=place, feed_list=[x, y])"
   ]
  },
  {
   "cell_type": "code",
   "execution_count": 5,
   "metadata": {
    "collapsed": false
   },
   "outputs": [
    {
     "name": "stdout",
     "output_type": "stream",
     "text": [
      "Pass:0, Cost:119.96336\n",
      "Pass:100, Cost:12.19085\n",
      "Pass:200, Cost:13.41303\n",
      "Pass:300, Cost:13.44936\n",
      "Pass:400, Cost:13.08464\n",
      "Pass:500, Cost:12.80711\n",
      "Pass:600, Cost:12.58008\n",
      "Pass:700, Cost:12.09806\n",
      "Pass:800, Cost:11.77380\n",
      "Pass:900, Cost:11.38116\n"
     ]
    },
    {
     "data": {
      "text/plain": [
       "['save_infer_model/scale_0.tmp_0']"
      ]
     },
     "execution_count": 5,
     "metadata": {},
     "output_type": "execute_result"
    }
   ],
   "source": [
    "for pass_id in range(1000):\r\n",
    "    train_cost = 0\r\n",
    "    for data in train_reader():\r\n",
    "        train_cost = exe.run(program = fluid.default_main_program(),\r\n",
    "                            feed = feeder.feed(data),\r\n",
    "                            fetch_list = [avg_cost])\r\n",
    "    if pass_id % 100 == 0:\r\n",
    "        print(\"Pass:%d, Cost:%0.5f\" % (pass_id, train_cost[0][0],))\r\n",
    "\r\n",
    "params_dirname = \"result\"\r\n",
    "fluid.io.save_inference_model(params_dirname, ['x'], [y_predict], exe)"
   ]
  },
  {
   "cell_type": "code",
   "execution_count": 7,
   "metadata": {
    "collapsed": false
   },
   "outputs": [
    {
     "name": "stdout",
     "output_type": "stream",
     "text": [
      "infer results: (House Price)\n",
      "0: 7.53\n",
      "1: 7.11\n",
      "2: 8.88\n",
      "3: 18.86\n",
      "4: 10.58\n",
      "5: 17.97\n",
      "6: 19.26\n",
      "7: 16.54\n",
      "8: 7.76\n",
      "9: 10.99\n",
      "\n",
      "ground truth:\n",
      "0: 8.50\n",
      "1: 5.00\n",
      "2: 11.90\n",
      "3: 27.90\n",
      "4: 17.20\n",
      "5: 27.50\n",
      "6: 15.00\n",
      "7: 17.20\n",
      "8: 17.90\n",
      "9: 16.30\n"
     ]
    },
    {
     "name": "stderr",
     "output_type": "stream",
     "text": [
      "/opt/conda/envs/python35-paddle120-env/lib/python3.7/site-packages/ipykernel_launcher.py:10: DeprecationWarning: \u001b[93m\n",
      "Warning:\n",
      "API \"paddle.dataset.uci_housing.test\" is deprecated since 2.0.0, and will be removed in future versions. Please use \"paddle.text.datasets.UCIHousing\" instead.\n",
      "reason: Please use new dataset API which supports paddle.io.DataLoader \u001b[0m\n",
      "  # Remove the CWD from sys.path while we load stuff.\n"
     ]
    }
   ],
   "source": [
    "\r\n",
    "infer_exe = fluid.Executor(place)\r\n",
    "inference_scope = fluid.core.Scope()\r\n",
    "\r\n",
    "with fluid.scope_guard(inference_scope):\r\n",
    "    [inference_program, feed_target_names, fetch_targets\r\n",
    "        ] = fluid.io.load_inference_model(params_dirname, infer_exe)\r\n",
    "    batch_size = 10\r\n",
    "\r\n",
    "    infer_reader = paddle.batch(\r\n",
    "            paddle.dataset.uci_housing.test(), batch_size=batch_size)\r\n",
    "\r\n",
    "    infer_data = next(infer_reader())\r\n",
    "    infer_feat = np.array(\r\n",
    "            [data[0] for data in infer_data]).astype(\"float32\")\r\n",
    "    \r\n",
    "    infer_label = np.array(\r\n",
    "            [data[1] for data in infer_data]).astype(\"float32\")\r\n",
    "\r\n",
    "    \r\n",
    "    assert feed_target_names[0] == 'x'\r\n",
    "    \r\n",
    "    results = infer_exe.run(\r\n",
    "            inference_program,\r\n",
    "            feed={feed_target_names[0]: np.array(infer_feat)},\r\n",
    "            fetch_list=fetch_targets)\r\n",
    "\r\n",
    "    \r\n",
    "    print(\"infer results: (House Price)\")\r\n",
    "    \r\n",
    "    for idx, val in enumerate(results[0]):\r\n",
    "        print(\"%d: %.2f\" % (idx, val))\r\n",
    "\r\n",
    "    print(\"\\nground truth:\")\r\n",
    "    \r\n",
    "    for idx, val in enumerate(infer_label):\r\n",
    "        print(\"%d: %.2f\" % (idx, val))"
   ]
  }
 ],
 "metadata": {
  "kernelspec": {
   "display_name": "PaddlePaddle 2.1.0 (Python 3.5)",
   "language": "python",
   "name": "py35-paddle1.2.0"
  },
  "language_info": {
   "codemirror_mode": {
    "name": "ipython",
    "version": 3
   },
   "file_extension": ".py",
   "mimetype": "text/x-python",
   "name": "python",
   "nbconvert_exporter": "python",
   "pygments_lexer": "ipython3",
   "version": "3.7.4"
  }
 },
 "nbformat": 4,
 "nbformat_minor": 1
}
