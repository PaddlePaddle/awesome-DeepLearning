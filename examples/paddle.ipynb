{
 "cells": [
  {
   "cell_type": "code",
   "execution_count": null,
   "id": "eb55469c",
   "metadata": {},
   "outputs": [],
   "source": [
    "import paddle.fluid as fluid\n",
    "import paddle\n",
    "from paddle.dataset import uci_housing\n",
    "import numpy as np"
   ]
  },
  {
   "cell_type": "code",
   "execution_count": null,
   "id": "2a8a2c1b",
   "metadata": {},
   "outputs": [],
   "source": [
    "# 定义线性网络\n",
    "x = fluid.layers.data(name='x', shape=[13], dtype='float32')\n",
    "y = fluid.layers.data(name='y', shape=[1], dtype='float32')\n",
    "hidden = fluid.layers.fc(input=x, size=100, act='relu')\n",
    "y_predict = fluid.layers.fc(input=hidden, size=1, act=None)\n",
    "\n",
    "# 定义损失函数\n",
    "cost = fluid.layers.square_error_cost(input=y_predict, label=y)\n",
    "avg_cost = fluid.layers.mean(cost)\n",
    "\n",
    "# 定义优化方法\n",
    "optimizer = fluid.optimizer.SGDOptimizer(learning_rate=0.001)\n",
    "opts = optimizer.minimize(avg_cost)\n",
    "\n",
    "# 定义解析器\n",
    "place = fluid.CPUPlace()\n",
    "exe = fluid.Executor(place)\n",
    "exe.run(fluid.default_startup_program())\n",
    "\n",
    "train_reader = fluid.io.batch(reader=uci_housing.train(),batch_size=128)\n",
    "\n",
    "# 定义数据纬度（把数据与x，y进行绑定）\n",
    "feeder = fluid.DataFeeder(place=place, feed_list=[x, y])"
   ]
  },
  {
   "cell_type": "code",
   "execution_count": null,
   "id": "39e58719",
   "metadata": {},
   "outputs": [],
   "source": [
    "#开始训练\n",
    "for pass_id in range(1000):\n",
    "    # 开始训练并输出最后一个batch的损失值\n",
    "    train_cost = 0\n",
    "    for data in train_reader():\n",
    "        train_cost = exe.run(program = fluid.default_main_program(),\n",
    "                            feed = feeder.feed(data),\n",
    "                            fetch_list = [avg_cost])\n",
    "    if pass_id % 100 == 0:\n",
    "        print(\"Pass:%d, Cost:%0.5f\" % (pass_id, train_cost[0][0],))\n",
    "\n",
    "# 存储训练的模型\n",
    "params_dirname = \"result\"\n",
    "fluid.io.save_inference_model(params_dirname, ['x'], [y_predict], exe)"
   ]
  },
  {
   "cell_type": "code",
   "execution_count": null,
   "id": "f851d6bc",
   "metadata": {},
   "outputs": [],
   "source": [
    "# 进行预测\n",
    "infer_exe = fluid.Executor(place)\n",
    "inference_scope = fluid.core.Scope()\n",
    "\n",
    "# infer\n",
    "with fluid.scope_guard(inference_scope):\n",
    "    [inference_program, feed_target_names, fetch_targets\n",
    "        ] = fluid.io.load_inference_model(params_dirname, infer_exe)\n",
    "    batch_size = 10\n",
    "\n",
    "    infer_reader = paddle.batch(\n",
    "            paddle.dataset.uci_housing.test(), batch_size=batch_size)\n",
    "\n",
    "    infer_data = next(infer_reader())\n",
    "    # 用来预测\n",
    "    infer_feat = np.array(\n",
    "            [data[0] for data in infer_data]).astype(\"float32\")\n",
    "    \n",
    "    # 作为实际数据保留\n",
    "    infer_label = np.array(\n",
    "            [data[1] for data in infer_data]).astype(\"float32\")\n",
    "\n",
    "    \n",
    "    assert feed_target_names[0] == 'x'\n",
    "    \n",
    "    results = infer_exe.run(\n",
    "            inference_program,\n",
    "            feed={feed_target_names[0]: np.array(infer_feat)},\n",
    "            fetch_list=fetch_targets)\n",
    "\n",
    "    \n",
    "    print(\"infer results: (House Price)\")\n",
    "    \n",
    "    for idx, val in enumerate(results[0]):\n",
    "        print(\"%d: %.2f\" % (idx, val))\n",
    "\n",
    "    print(\"\\nground truth:\")\n",
    "    \n",
    "    for idx, val in enumerate(infer_label):\n",
    "        print(\"%d: %.2f\" % (idx, val))"
   ]
  }
 ],
 "metadata": {
  "kernelspec": {
   "display_name": "Python 3",
   "language": "python",
   "name": "python3"
  },
  "language_info": {
   "codemirror_mode": {
    "name": "ipython",
    "version": 3
   },
   "file_extension": ".py",
   "mimetype": "text/x-python",
   "name": "python",
   "nbconvert_exporter": "python",
   "pygments_lexer": "ipython3",
   "version": "3.9.4"
  }
 },
 "nbformat": 4,
 "nbformat_minor": 5
}
