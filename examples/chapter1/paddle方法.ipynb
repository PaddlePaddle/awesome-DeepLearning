{
 "cells": [
  {
   "cell_type": "code",
   "execution_count": 72,
   "metadata": {
    "collapsed": false
   },
   "outputs": [
    {
     "name": "stdout",
     "output_type": "stream",
     "text": [
      "data49224\r\n"
     ]
    }
   ],
   "source": [
    "# 查看当前挂载的数据集目录, 该目录下的变更重启环境后会自动还原\n",
    "# View dataset directory. \n",
    "# This directory will be recovered automatically after resetting environment. \n",
    "!ls /home/aistudio/data"
   ]
  },
  {
   "cell_type": "code",
   "execution_count": 73,
   "metadata": {
    "collapsed": false
   },
   "outputs": [],
   "source": [
    "# 查看工作区文件, 该目录下的变更将会持久保存. 请及时清理不必要的文件, 避免加载过慢.\n",
    "# View personal work directory. \n",
    "# All changes under this directory will be kept even after reset. \n",
    "# Please clean unnecessary files in time to speed up environment loading. \n",
    "!ls /home/aistudio/work"
   ]
  },
  {
   "cell_type": "code",
   "execution_count": 74,
   "metadata": {
    "collapsed": false
   },
   "outputs": [
    {
     "name": "stdout",
     "output_type": "stream",
     "text": [
      "mkdir: cannot create directory ‘/home/aistudio/external-libraries’: File exists\n",
      "Looking in indexes: https://mirror.baidu.com/pypi/simple/\n",
      "Collecting beautifulsoup4\n",
      "\u001b[?25l  Downloading https://mirror.baidu.com/pypi/packages/d1/41/e6495bd7d3781cee623ce23ea6ac73282a373088fcd0ddc809a047b18eae/beautifulsoup4-4.9.3-py3-none-any.whl (115kB)\n",
      "\u001b[K     |████████████████████████████████| 122kB 16.2MB/s eta 0:00:01\n",
      "\u001b[?25hCollecting soupsieve>1.2; python_version >= \"3.0\" (from beautifulsoup4)\n",
      "  Downloading https://mirror.baidu.com/pypi/packages/36/69/d82d04022f02733bf9a72bc3b96332d360c0c5307096d76f6bb7489f7e57/soupsieve-2.2.1-py3-none-any.whl\n",
      "Installing collected packages: soupsieve, beautifulsoup4\n",
      "Successfully installed beautifulsoup4-4.9.3 soupsieve-2.2.1\n",
      "\u001b[33mWARNING: Target directory /home/aistudio/external-libraries/soupsieve-2.2.1.dist-info already exists. Specify --upgrade to force replacement.\u001b[0m\n",
      "\u001b[33mWARNING: Target directory /home/aistudio/external-libraries/soupsieve already exists. Specify --upgrade to force replacement.\u001b[0m\n",
      "\u001b[33mWARNING: Target directory /home/aistudio/external-libraries/bs4 already exists. Specify --upgrade to force replacement.\u001b[0m\n",
      "\u001b[33mWARNING: Target directory /home/aistudio/external-libraries/beautifulsoup4-4.9.3.dist-info already exists. Specify --upgrade to force replacement.\u001b[0m\n"
     ]
    }
   ],
   "source": [
    "# 如果需要进行持久化安装, 需要使用持久化路径, 如下方代码示例:\n",
    "# If a persistence installation is required, \n",
    "# you need to use the persistence path as the following: \n",
    "!mkdir /home/aistudio/external-libraries\n",
    "!pip install beautifulsoup4 -t /home/aistudio/external-libraries"
   ]
  },
  {
   "cell_type": "code",
   "execution_count": 75,
   "metadata": {
    "collapsed": false
   },
   "outputs": [],
   "source": [
    "# 同时添加如下代码, 这样每次环境(kernel)启动的时候只要运行下方代码即可: \n",
    "# Also add the following code, \n",
    "# so that every time the environment (kernel) starts, \n",
    "# just run the following code: \n",
    "import sys \n",
    "sys.path.append('/home/aistudio/external-libraries')"
   ]
  },
  {
   "cell_type": "markdown",
   "metadata": {
    "collapsed": false
   },
   "source": [
    "请点击[此处](https://ai.baidu.com/docs#/AIStudio_Project_Notebook/a38e5576)查看本环境基本用法.  <br>\n",
    "Please click [here ](https://ai.baidu.com/docs#/AIStudio_Project_Notebook/a38e5576) for more detailed instructions. "
   ]
  },
  {
   "cell_type": "code",
   "execution_count": 76,
   "metadata": {
    "collapsed": false
   },
   "outputs": [],
   "source": [
    "#导入相关的库\r\n",
    "import paddle\r\n",
    "from paddle.nn import Linear\r\n",
    "import paddle.nn.functional as F\r\n",
    "import numpy as np\r\n",
    "import os\r\n",
    "import random\r\n",
    "import matplotlib.pyplot as plt"
   ]
  },
  {
   "cell_type": "code",
   "execution_count": 77,
   "metadata": {
    "collapsed": false
   },
   "outputs": [],
   "source": [
    "# 编写加载数据的函数\r\n",
    "def load_data():\r\n",
    "    datafile='./data/data49224/housing.data'\r\n",
    "    data=np.fromfile(datafile,sep=' ',dtype=np.float32)\r\n",
    "    #读取数据文件\r\n",
    "    feature_names = [ 'CRIM', 'ZN', 'INDUS', 'CHAS', 'NOX', 'RM', 'AGE', \\\r\n",
    "                      'DIS', 'RAD', 'TAX', 'PTRATIO', 'B', 'LSTAT', 'MEDV' ]\r\n",
    "    feature_num = len(feature_names)\r\n",
    "    data = data.reshape([data.shape[0] // feature_num, feature_num])\r\n",
    "    #将一维的数据转成二维\r\n",
    "    ratio=0.8\r\n",
    "    #设置训练集的比例为0.8\r\n",
    "    offset=int(data.shape[0]*ratio)\r\n",
    "    training_data=data[:offset]\r\n",
    "    #对数据进行标准化\r\n",
    "    maximums,minimums,avgs=training_data.max(axis=0),training_data.min(axis=0),training_data.sum(axis=0)/training_data.shape[0]\r\n",
    "    global max_values\r\n",
    "    global min_values\r\n",
    "    global avg_values\r\n",
    "    max_values=maximums\r\n",
    "    min_values=minimums\r\n",
    "    avg_values=avgs\r\n",
    "    for i in range(feature_num):\r\n",
    "        data[:,i]=(data[:,i]-avgs[i])/(maximums[i]-minimums[i])\r\n",
    "    training_data=data[:offset]\r\n",
    "    test_data=data[offset:]\r\n",
    "    return training_data,test_data"
   ]
  },
  {
   "cell_type": "code",
   "execution_count": 78,
   "metadata": {
    "collapsed": false
   },
   "outputs": [],
   "source": [
    "# 定义网络结构为两层，全连接层+激活函数+全连接层\r\n",
    "class Net(paddle.nn.Layer):\r\n",
    "    def __init__(self):\r\n",
    "        super(Net,self).__init__()\r\n",
    "\r\n",
    "        self.fc1=Linear(in_features=13,out_features=128)\r\n",
    "        self.fc2=Linear(in_features=128,out_features=1)\r\n",
    "    def forward(self,inputs):\r\n",
    "        x=self.fc1(inputs)\r\n",
    "        x=F.relu(x)\r\n",
    "        x=self.fc2(x)\r\n",
    "        return x"
   ]
  },
  {
   "cell_type": "code",
   "execution_count": 79,
   "metadata": {
    "collapsed": false
   },
   "outputs": [],
   "source": [
    "#创建网络的一个对象\r\n",
    "model=Net()\r\n",
    "model.train()\r\n",
    "#进入模型的训练模式\r\n",
    "training_data, test_data = load_data()\r\n",
    "opt = paddle.optimizer.Adadelta(learning_rate=0.01, parameters=model.parameters())\r\n",
    "#设置优化器为Adadelta"
   ]
  },
  {
   "cell_type": "code",
   "execution_count": 80,
   "metadata": {
    "collapsed": false
   },
   "outputs": [
    {
     "name": "stdout",
     "output_type": "stream",
     "text": [
      "epoch: 1, iter: 0, loss is: [0.01215904]\n",
      "epoch: 1, iter: 20, loss is: [0.0170533]\n",
      "epoch: 1, iter: 40, loss is: [0.01883502]\n",
      "epoch: 2, iter: 0, loss is: [0.01097176]\n",
      "epoch: 2, iter: 20, loss is: [0.00680754]\n",
      "epoch: 2, iter: 40, loss is: [0.00115884]\n",
      "epoch: 3, iter: 0, loss is: [0.00879092]\n",
      "epoch: 3, iter: 20, loss is: [0.00268582]\n",
      "epoch: 3, iter: 40, loss is: [0.01226431]\n",
      "epoch: 4, iter: 0, loss is: [0.0027732]\n",
      "epoch: 4, iter: 20, loss is: [0.00291393]\n",
      "epoch: 4, iter: 40, loss is: [0.00500711]\n",
      "epoch: 5, iter: 0, loss is: [0.00821105]\n",
      "epoch: 5, iter: 20, loss is: [0.00186815]\n",
      "epoch: 5, iter: 40, loss is: [0.01304195]\n",
      "epoch: 6, iter: 0, loss is: [0.00417061]\n",
      "epoch: 6, iter: 20, loss is: [0.0016132]\n",
      "epoch: 6, iter: 40, loss is: [0.00371065]\n",
      "epoch: 7, iter: 0, loss is: [0.00281807]\n",
      "epoch: 7, iter: 20, loss is: [0.01094932]\n",
      "epoch: 7, iter: 40, loss is: [0.00320056]\n",
      "epoch: 8, iter: 0, loss is: [0.00751644]\n",
      "epoch: 8, iter: 20, loss is: [0.00185309]\n",
      "epoch: 8, iter: 40, loss is: [0.00564426]\n",
      "epoch: 9, iter: 0, loss is: [0.00740411]\n",
      "epoch: 9, iter: 20, loss is: [0.00264304]\n",
      "epoch: 9, iter: 40, loss is: [0.00244676]\n",
      "epoch: 10, iter: 0, loss is: [0.00216213]\n",
      "epoch: 10, iter: 20, loss is: [0.0009695]\n",
      "epoch: 10, iter: 40, loss is: [0.00740173]\n",
      "epoch: 11, iter: 0, loss is: [0.00812173]\n",
      "epoch: 11, iter: 20, loss is: [0.00206998]\n",
      "epoch: 11, iter: 40, loss is: [0.00101396]\n",
      "epoch: 12, iter: 0, loss is: [0.00187578]\n",
      "epoch: 12, iter: 20, loss is: [0.00554693]\n",
      "epoch: 12, iter: 40, loss is: [0.00707359]\n",
      "epoch: 13, iter: 0, loss is: [0.01319007]\n",
      "epoch: 13, iter: 20, loss is: [0.0039009]\n",
      "epoch: 13, iter: 40, loss is: [0.00163773]\n",
      "epoch: 14, iter: 0, loss is: [0.00406718]\n",
      "epoch: 14, iter: 20, loss is: [0.0050349]\n",
      "epoch: 14, iter: 40, loss is: [0.00087754]\n",
      "epoch: 15, iter: 0, loss is: [0.00367503]\n",
      "epoch: 15, iter: 20, loss is: [0.00328005]\n",
      "epoch: 15, iter: 40, loss is: [0.00074295]\n",
      "epoch: 16, iter: 0, loss is: [0.00421924]\n",
      "epoch: 16, iter: 20, loss is: [0.0014107]\n",
      "epoch: 16, iter: 40, loss is: [0.00136363]\n",
      "epoch: 17, iter: 0, loss is: [0.00065157]\n",
      "epoch: 17, iter: 20, loss is: [0.00137098]\n",
      "epoch: 17, iter: 40, loss is: [0.00398331]\n",
      "epoch: 18, iter: 0, loss is: [0.00193905]\n",
      "epoch: 18, iter: 20, loss is: [0.00757715]\n",
      "epoch: 18, iter: 40, loss is: [0.00113725]\n",
      "epoch: 19, iter: 0, loss is: [0.00261432]\n",
      "epoch: 19, iter: 20, loss is: [0.00178269]\n",
      "epoch: 19, iter: 40, loss is: [0.00449499]\n",
      "epoch: 20, iter: 0, loss is: [0.00450853]\n",
      "epoch: 20, iter: 20, loss is: [0.00093524]\n",
      "epoch: 20, iter: 40, loss is: [0.00042371]\n",
      "epoch: 21, iter: 0, loss is: [0.00275077]\n",
      "epoch: 21, iter: 20, loss is: [0.00127951]\n",
      "epoch: 21, iter: 40, loss is: [0.00405107]\n",
      "epoch: 22, iter: 0, loss is: [0.00429837]\n",
      "epoch: 22, iter: 20, loss is: [0.00243539]\n",
      "epoch: 22, iter: 40, loss is: [0.02309658]\n",
      "epoch: 23, iter: 0, loss is: [0.00697872]\n",
      "epoch: 23, iter: 20, loss is: [0.00239571]\n",
      "epoch: 23, iter: 40, loss is: [0.00372958]\n",
      "epoch: 24, iter: 0, loss is: [0.00176028]\n",
      "epoch: 24, iter: 20, loss is: [0.00217263]\n",
      "epoch: 24, iter: 40, loss is: [0.00038534]\n",
      "epoch: 25, iter: 0, loss is: [0.00161675]\n",
      "epoch: 25, iter: 20, loss is: [0.00185872]\n",
      "epoch: 25, iter: 40, loss is: [0.00497687]\n",
      "epoch: 26, iter: 0, loss is: [0.00296602]\n",
      "epoch: 26, iter: 20, loss is: [0.00217967]\n",
      "epoch: 26, iter: 40, loss is: [0.00104319]\n",
      "epoch: 27, iter: 0, loss is: [0.00122944]\n",
      "epoch: 27, iter: 20, loss is: [0.00108855]\n",
      "epoch: 27, iter: 40, loss is: [0.0001867]\n",
      "epoch: 28, iter: 0, loss is: [0.0018588]\n",
      "epoch: 28, iter: 20, loss is: [0.00174209]\n",
      "epoch: 28, iter: 40, loss is: [0.00198468]\n",
      "epoch: 29, iter: 0, loss is: [0.00147956]\n",
      "epoch: 29, iter: 20, loss is: [0.00193373]\n",
      "epoch: 29, iter: 40, loss is: [0.00107608]\n",
      "epoch: 30, iter: 0, loss is: [0.00269079]\n",
      "epoch: 30, iter: 20, loss is: [0.00141365]\n",
      "epoch: 30, iter: 40, loss is: [0.00106495]\n",
      "epoch: 31, iter: 0, loss is: [0.00462446]\n",
      "epoch: 31, iter: 20, loss is: [0.0087596]\n",
      "epoch: 31, iter: 40, loss is: [0.0022079]\n",
      "epoch: 32, iter: 0, loss is: [0.00423162]\n",
      "epoch: 32, iter: 20, loss is: [0.00311046]\n",
      "epoch: 32, iter: 40, loss is: [0.00116217]\n",
      "epoch: 33, iter: 0, loss is: [0.00172344]\n",
      "epoch: 33, iter: 20, loss is: [0.00585142]\n",
      "epoch: 33, iter: 40, loss is: [0.00327346]\n",
      "epoch: 34, iter: 0, loss is: [0.00136271]\n",
      "epoch: 34, iter: 20, loss is: [0.00836824]\n",
      "epoch: 34, iter: 40, loss is: [0.0004]\n",
      "epoch: 35, iter: 0, loss is: [0.00185759]\n",
      "epoch: 35, iter: 20, loss is: [0.00148]\n",
      "epoch: 35, iter: 40, loss is: [0.00189004]\n",
      "epoch: 36, iter: 0, loss is: [0.00237405]\n",
      "epoch: 36, iter: 20, loss is: [0.00113127]\n",
      "epoch: 36, iter: 40, loss is: [0.00363146]\n",
      "epoch: 37, iter: 0, loss is: [0.00324763]\n",
      "epoch: 37, iter: 20, loss is: [0.00771369]\n",
      "epoch: 37, iter: 40, loss is: [0.00060913]\n",
      "epoch: 38, iter: 0, loss is: [0.01154139]\n",
      "epoch: 38, iter: 20, loss is: [0.00105085]\n",
      "epoch: 38, iter: 40, loss is: [0.00578456]\n",
      "epoch: 39, iter: 0, loss is: [0.00628113]\n",
      "epoch: 39, iter: 20, loss is: [0.00285767]\n",
      "epoch: 39, iter: 40, loss is: [0.00033994]\n",
      "epoch: 40, iter: 0, loss is: [0.00189182]\n",
      "epoch: 40, iter: 20, loss is: [0.00139673]\n",
      "epoch: 40, iter: 40, loss is: [0.00109243]\n",
      "epoch: 41, iter: 0, loss is: [0.00192191]\n",
      "epoch: 41, iter: 20, loss is: [0.0008706]\n",
      "epoch: 41, iter: 40, loss is: [0.00077089]\n",
      "epoch: 42, iter: 0, loss is: [0.00177157]\n",
      "epoch: 42, iter: 20, loss is: [0.00527244]\n",
      "epoch: 42, iter: 40, loss is: [0.00413334]\n",
      "epoch: 43, iter: 0, loss is: [0.00372317]\n",
      "epoch: 43, iter: 20, loss is: [0.00125649]\n",
      "epoch: 43, iter: 40, loss is: [0.00625218]\n",
      "epoch: 44, iter: 0, loss is: [0.00272826]\n",
      "epoch: 44, iter: 20, loss is: [0.00503969]\n",
      "epoch: 44, iter: 40, loss is: [0.0004316]\n",
      "epoch: 45, iter: 0, loss is: [0.00167154]\n",
      "epoch: 45, iter: 20, loss is: [0.00467251]\n",
      "epoch: 45, iter: 40, loss is: [0.00072803]\n",
      "epoch: 46, iter: 0, loss is: [0.00175014]\n",
      "epoch: 46, iter: 20, loss is: [0.00187904]\n",
      "epoch: 46, iter: 40, loss is: [0.00290458]\n",
      "epoch: 47, iter: 0, loss is: [0.00946251]\n",
      "epoch: 47, iter: 20, loss is: [0.00262478]\n",
      "epoch: 47, iter: 40, loss is: [0.0032203]\n",
      "epoch: 48, iter: 0, loss is: [0.00147875]\n",
      "epoch: 48, iter: 20, loss is: [0.00250202]\n",
      "epoch: 48, iter: 40, loss is: [0.00810527]\n",
      "epoch: 49, iter: 0, loss is: [0.01003556]\n",
      "epoch: 49, iter: 20, loss is: [0.0014091]\n",
      "epoch: 49, iter: 40, loss is: [0.00284738]\n",
      "epoch: 50, iter: 0, loss is: [0.00923937]\n",
      "epoch: 50, iter: 20, loss is: [0.0064572]\n",
      "epoch: 50, iter: 40, loss is: [0.00077003]\n",
      "epoch: 51, iter: 0, loss is: [0.00301307]\n",
      "epoch: 51, iter: 20, loss is: [0.00076321]\n",
      "epoch: 51, iter: 40, loss is: [0.00109981]\n",
      "epoch: 52, iter: 0, loss is: [0.00096253]\n",
      "epoch: 52, iter: 20, loss is: [0.0006821]\n",
      "epoch: 52, iter: 40, loss is: [0.00266339]\n",
      "epoch: 53, iter: 0, loss is: [0.00086008]\n",
      "epoch: 53, iter: 20, loss is: [0.00173342]\n",
      "epoch: 53, iter: 40, loss is: [0.00150908]\n",
      "epoch: 54, iter: 0, loss is: [0.0010589]\n",
      "epoch: 54, iter: 20, loss is: [0.0013529]\n",
      "epoch: 54, iter: 40, loss is: [0.00269182]\n",
      "epoch: 55, iter: 0, loss is: [0.00189089]\n",
      "epoch: 55, iter: 20, loss is: [0.00355606]\n",
      "epoch: 55, iter: 40, loss is: [0.00191452]\n",
      "epoch: 56, iter: 0, loss is: [0.00187461]\n",
      "epoch: 56, iter: 20, loss is: [0.00082484]\n",
      "epoch: 56, iter: 40, loss is: [0.00022459]\n",
      "epoch: 57, iter: 0, loss is: [0.00274653]\n",
      "epoch: 57, iter: 20, loss is: [0.00102555]\n",
      "epoch: 57, iter: 40, loss is: [0.00112828]\n",
      "epoch: 58, iter: 0, loss is: [0.00259125]\n",
      "epoch: 58, iter: 20, loss is: [0.0020407]\n",
      "epoch: 58, iter: 40, loss is: [0.0034362]\n",
      "epoch: 59, iter: 0, loss is: [0.00204423]\n",
      "epoch: 59, iter: 20, loss is: [0.001109]\n",
      "epoch: 59, iter: 40, loss is: [0.00303032]\n",
      "epoch: 60, iter: 0, loss is: [0.00099789]\n",
      "epoch: 60, iter: 20, loss is: [0.00090813]\n",
      "epoch: 60, iter: 40, loss is: [0.0021734]\n",
      "epoch: 61, iter: 0, loss is: [0.00310495]\n",
      "epoch: 61, iter: 20, loss is: [0.01509611]\n",
      "epoch: 61, iter: 40, loss is: [0.00169537]\n",
      "epoch: 62, iter: 0, loss is: [0.00320996]\n",
      "epoch: 62, iter: 20, loss is: [0.00458313]\n",
      "epoch: 62, iter: 40, loss is: [0.00163929]\n",
      "epoch: 63, iter: 0, loss is: [0.00383042]\n",
      "epoch: 63, iter: 20, loss is: [0.00248487]\n",
      "epoch: 63, iter: 40, loss is: [0.00062049]\n",
      "epoch: 64, iter: 0, loss is: [0.00220701]\n",
      "epoch: 64, iter: 20, loss is: [0.00088857]\n",
      "epoch: 64, iter: 40, loss is: [0.00296155]\n",
      "epoch: 65, iter: 0, loss is: [0.0032645]\n",
      "epoch: 65, iter: 20, loss is: [0.00120452]\n",
      "epoch: 65, iter: 40, loss is: [0.0010005]\n",
      "epoch: 66, iter: 0, loss is: [0.00076183]\n",
      "epoch: 66, iter: 20, loss is: [0.00411378]\n",
      "epoch: 66, iter: 40, loss is: [0.00057626]\n",
      "epoch: 67, iter: 0, loss is: [0.00092983]\n",
      "epoch: 67, iter: 20, loss is: [0.00075669]\n",
      "epoch: 67, iter: 40, loss is: [0.00507213]\n",
      "epoch: 68, iter: 0, loss is: [0.0050194]\n",
      "epoch: 68, iter: 20, loss is: [0.00148608]\n",
      "epoch: 68, iter: 40, loss is: [0.00076134]\n",
      "epoch: 69, iter: 0, loss is: [0.00051886]\n",
      "epoch: 69, iter: 20, loss is: [0.00259813]\n",
      "epoch: 69, iter: 40, loss is: [0.0028029]\n",
      "epoch: 70, iter: 0, loss is: [0.00223714]\n",
      "epoch: 70, iter: 20, loss is: [0.00267853]\n",
      "epoch: 70, iter: 40, loss is: [0.00015745]\n",
      "epoch: 71, iter: 0, loss is: [0.00031056]\n",
      "epoch: 71, iter: 20, loss is: [0.00241501]\n",
      "epoch: 71, iter: 40, loss is: [0.00368074]\n",
      "epoch: 72, iter: 0, loss is: [0.00120893]\n",
      "epoch: 72, iter: 20, loss is: [0.00138086]\n",
      "epoch: 72, iter: 40, loss is: [0.00096921]\n",
      "epoch: 73, iter: 0, loss is: [0.00124865]\n",
      "epoch: 73, iter: 20, loss is: [0.00078494]\n",
      "epoch: 73, iter: 40, loss is: [0.00360386]\n",
      "epoch: 74, iter: 0, loss is: [0.00258843]\n",
      "epoch: 74, iter: 20, loss is: [0.00141788]\n",
      "epoch: 74, iter: 40, loss is: [0.0002927]\n",
      "epoch: 75, iter: 0, loss is: [0.00028292]\n",
      "epoch: 75, iter: 20, loss is: [0.00128369]\n",
      "epoch: 75, iter: 40, loss is: [0.00069066]\n",
      "epoch: 76, iter: 0, loss is: [0.00253504]\n",
      "epoch: 76, iter: 20, loss is: [0.00168879]\n",
      "epoch: 76, iter: 40, loss is: [0.00281197]\n",
      "epoch: 77, iter: 0, loss is: [0.00166649]\n",
      "epoch: 77, iter: 20, loss is: [0.00104942]\n",
      "epoch: 77, iter: 40, loss is: [0.00145495]\n",
      "epoch: 78, iter: 0, loss is: [0.00057655]\n",
      "epoch: 78, iter: 20, loss is: [0.00117681]\n",
      "epoch: 78, iter: 40, loss is: [0.00524893]\n",
      "epoch: 79, iter: 0, loss is: [0.00262363]\n",
      "epoch: 79, iter: 20, loss is: [0.00086369]\n",
      "epoch: 79, iter: 40, loss is: [0.00107381]\n",
      "epoch: 80, iter: 0, loss is: [0.00111335]\n",
      "epoch: 80, iter: 20, loss is: [0.00281591]\n",
      "epoch: 80, iter: 40, loss is: [0.00142117]\n",
      "epoch: 81, iter: 0, loss is: [0.00382921]\n",
      "epoch: 81, iter: 20, loss is: [0.00081083]\n",
      "epoch: 81, iter: 40, loss is: [0.00168161]\n",
      "epoch: 82, iter: 0, loss is: [0.00294249]\n",
      "epoch: 82, iter: 20, loss is: [0.00352646]\n",
      "epoch: 82, iter: 40, loss is: [0.00713482]\n",
      "epoch: 83, iter: 0, loss is: [0.00397445]\n",
      "epoch: 83, iter: 20, loss is: [0.00092066]\n",
      "epoch: 83, iter: 40, loss is: [0.00107738]\n",
      "epoch: 84, iter: 0, loss is: [0.00210577]\n",
      "epoch: 84, iter: 20, loss is: [0.00156009]\n",
      "epoch: 84, iter: 40, loss is: [0.00097747]\n",
      "epoch: 85, iter: 0, loss is: [0.00534465]\n",
      "epoch: 85, iter: 20, loss is: [0.00179166]\n",
      "epoch: 85, iter: 40, loss is: [0.00149674]\n",
      "epoch: 86, iter: 0, loss is: [0.00446392]\n",
      "epoch: 86, iter: 20, loss is: [0.00321971]\n",
      "epoch: 86, iter: 40, loss is: [0.00240371]\n",
      "epoch: 87, iter: 0, loss is: [0.00308653]\n",
      "epoch: 87, iter: 20, loss is: [0.00029926]\n",
      "epoch: 87, iter: 40, loss is: [0.00072324]\n",
      "epoch: 88, iter: 0, loss is: [0.00070771]\n",
      "epoch: 88, iter: 20, loss is: [0.00391891]\n",
      "epoch: 88, iter: 40, loss is: [0.00228269]\n",
      "epoch: 89, iter: 0, loss is: [0.00407591]\n",
      "epoch: 89, iter: 20, loss is: [0.00222056]\n",
      "epoch: 89, iter: 40, loss is: [0.0015779]\n",
      "epoch: 90, iter: 0, loss is: [0.00109495]\n",
      "epoch: 90, iter: 20, loss is: [0.00035362]\n",
      "epoch: 90, iter: 40, loss is: [0.00068768]\n",
      "epoch: 91, iter: 0, loss is: [0.00085428]\n",
      "epoch: 91, iter: 20, loss is: [0.00149182]\n",
      "epoch: 91, iter: 40, loss is: [0.00018119]\n",
      "epoch: 92, iter: 0, loss is: [0.00066566]\n",
      "epoch: 92, iter: 20, loss is: [0.00281242]\n",
      "epoch: 92, iter: 40, loss is: [0.00293756]\n",
      "epoch: 93, iter: 0, loss is: [0.00042149]\n",
      "epoch: 93, iter: 20, loss is: [0.00082181]\n",
      "epoch: 93, iter: 40, loss is: [0.00398141]\n",
      "epoch: 94, iter: 0, loss is: [0.0054126]\n",
      "epoch: 94, iter: 20, loss is: [0.00056137]\n",
      "epoch: 94, iter: 40, loss is: [0.00102373]\n",
      "epoch: 95, iter: 0, loss is: [0.00096675]\n",
      "epoch: 95, iter: 20, loss is: [0.00157824]\n",
      "epoch: 95, iter: 40, loss is: [0.01234961]\n",
      "epoch: 96, iter: 0, loss is: [0.00823781]\n",
      "epoch: 96, iter: 20, loss is: [0.00369526]\n",
      "epoch: 96, iter: 40, loss is: [0.00024094]\n",
      "epoch: 97, iter: 0, loss is: [0.00085998]\n",
      "epoch: 97, iter: 20, loss is: [0.00261616]\n",
      "epoch: 97, iter: 40, loss is: [0.00189564]\n",
      "epoch: 98, iter: 0, loss is: [0.00172361]\n",
      "epoch: 98, iter: 20, loss is: [0.00291765]\n",
      "epoch: 98, iter: 40, loss is: [0.00126213]\n",
      "epoch: 99, iter: 0, loss is: [0.00072289]\n",
      "epoch: 99, iter: 20, loss is: [0.00060834]\n",
      "epoch: 99, iter: 40, loss is: [0.0015567]\n",
      "epoch: 100, iter: 0, loss is: [0.00560896]\n",
      "epoch: 100, iter: 20, loss is: [0.00052694]\n",
      "epoch: 100, iter: 40, loss is: [0.00055959]\n"
     ]
    }
   ],
   "source": [
    "EPOCH_NUM = 100   #设置迭代次数\r\n",
    "BATCH_SIZE = 10  #设置批次大小\r\n",
    "\r\n",
    "# 定义外层循环\r\n",
    "losses=[]\r\n",
    "for epoch_id in range(1,EPOCH_NUM+1):\r\n",
    "    # 在每轮迭代开始之前，将训练数据的顺序随机的打乱\r\n",
    "    np.random.shuffle(training_data)\r\n",
    "    # 将训练数据进行拆分，每个batch包含10条数据\r\n",
    "    mini_batches = [training_data[k:k+BATCH_SIZE] for k in range(0, len(training_data), BATCH_SIZE)]\r\n",
    "    # 定义内层循环\r\n",
    "    for iter_id, mini_batch in enumerate(mini_batches):\r\n",
    "        x = np.array(mini_batch[:, :-1]) # 获得当前批次训练数据\r\n",
    "        y = np.array(mini_batch[:, -1:]) # 获得当前批次训练标签（真实房价）\r\n",
    "        # 将numpy数据转为飞桨动态图tensor形式\r\n",
    "        house_features = paddle.to_tensor(x)\r\n",
    "        prices = paddle.to_tensor(y)\r\n",
    "        \r\n",
    "        # 前向计算\r\n",
    "        predicts = model(house_features)\r\n",
    "        \r\n",
    "        # 计算损失\r\n",
    "        loss = F.square_error_cost(predicts, label=prices)\r\n",
    "        avg_loss = paddle.mean(loss)\r\n",
    "        losses.append(avg_loss.numpy())\r\n",
    "        if iter_id%20==0:\r\n",
    "            print(\"epoch: {}, iter: {}, loss is: {}\".format(epoch_id, iter_id, avg_loss.numpy()))\r\n",
    "        \r\n",
    "        # 反向传播\r\n",
    "        avg_loss.backward()\r\n",
    "        # 最小化loss,更新参数\r\n",
    "        opt.step()\r\n",
    "        # 清除梯度\r\n",
    "        opt.clear_grad()\r\n",
    "        "
   ]
  },
  {
   "cell_type": "code",
   "execution_count": 81,
   "metadata": {
    "collapsed": false
   },
   "outputs": [
    {
     "data": {
      "image/png": "[encoded data removed]",
      "text/plain": [
       "<Figure size 432x288 with 1 Axes>"
      ]
     },
     "metadata": {},
     "output_type": "display_data"
    }
   ],
   "source": [
    "plot_x = np.arange(len(losses))\r\n",
    "plot_y = np.array(losses)\r\n",
    "plt.plot(plot_x, plot_y)\r\n",
    "plt.show()"
   ]
  },
  {
   "cell_type": "code",
   "execution_count": 82,
   "metadata": {
    "collapsed": false
   },
   "outputs": [],
   "source": [
    "def load_one_example():\r\n",
    "    # 从上边已加载的测试集中，随机选择一条作为测试数据\r\n",
    "    idx = np.random.randint(0, test_data.shape[0])\r\n",
    "    one_data, label = test_data[idx, :-1], test_data[idx, -1]\r\n",
    "    # 修改该条数据shape为[1,13]\r\n",
    "    one_data =  one_data.reshape([1,-1])\r\n",
    "\r\n",
    "    return one_data, label"
   ]
  },
  {
   "cell_type": "code",
   "execution_count": 83,
   "metadata": {
    "collapsed": false
   },
   "outputs": [
    {
     "name": "stdout",
     "output_type": "stream",
     "text": [
      "模型保存成功，模型参数保存在LR_model.pdparams中\n"
     ]
    }
   ],
   "source": [
    "# 保存模型参数，文件名为LR_model.pdparams\r\n",
    "paddle.save(model.state_dict(), 'LR_model.pdparams')\r\n",
    "print(\"模型保存成功，模型参数保存在LR_model.pdparams中\")"
   ]
  },
  {
   "cell_type": "code",
   "execution_count": 84,
   "metadata": {
    "collapsed": false
   },
   "outputs": [
    {
     "name": "stdout",
     "output_type": "stream",
     "text": [
      "Inference result is [[20.416555]], the corresponding label is 16.799999237060547\n"
     ]
    }
   ],
   "source": [
    "# 参数为保存模型参数的文件地址\r\n",
    "model_dict = paddle.load('LR_model.pdparams')\r\n",
    "model.load_dict(model_dict)\r\n",
    "model.eval()\r\n",
    "\r\n",
    "# 参数为数据集的文件地址\r\n",
    "one_data, label = load_one_example()\r\n",
    "# 将数据转为动态图的variable格式 \r\n",
    "one_data = paddle.to_tensor(one_data)\r\n",
    "predict = model(one_data)\r\n",
    "\r\n",
    "# 对结果做反归一化处理\r\n",
    "predict = predict * (max_values[-1] - min_values[-1]) + avg_values[-1]\r\n",
    "# 对label数据做反归一化处理\r\n",
    "label = label * (max_values[-1] - min_values[-1]) + avg_values[-1]\r\n",
    "\r\n",
    "print(\"Inference result is {}, the corresponding label is {}\".format(predict.numpy(), label))"
   ]
  }
 ],
 "metadata": {
  "kernelspec": {
   "display_name": "PaddlePaddle 2.1.0 (Python 3.5)",
   "language": "python",
   "name": "py35-paddle1.2.0"
  },
  "language_info": {
   "codemirror_mode": {
    "name": "ipython",
    "version": 3
   },
   "file_extension": ".py",
   "mimetype": "text/x-python",
   "name": "python",
   "nbconvert_exporter": "python",
   "pygments_lexer": "ipython3",
   "version": "3.7.4"
  }
 },
 "nbformat": 4,
 "nbformat_minor": 1
}
