{
 "cells": [
  {
   "cell_type": "code",
   "execution_count": null,
   "metadata": {
    "collapsed": false
   },
   "outputs": [],
   "source": [
    "# 查看当前挂载的数据集目录, 该目录下的变更重启环境后会自动还原\n",
    "# View dataset directory. \n",
    "# This directory will be recovered automatically after resetting environment. \n",
    "!ls /home/aistudio/data"
   ]
  },
  {
   "cell_type": "markdown",
   "metadata": {
    "collapsed": false
   },
   "source": [
    "### **1.深度学习发展历史**\n",
    "\n",
    "&emsp;&emsp;1943年由神经科学家麦卡洛克(W.S.McCilloch) 和数学家皮兹（W.Pitts）在《数学生物物理学公告》上发表论文《神经活动中内在思想的逻辑演算》（A Logical Calculus of the Ideas Immanent in Nervous Activity）。建立了神经网络和数学模型，称为MCP模型。所谓MCP模型，其实是按照生物神经元的结构和工作原理构造出来的一个抽象和简化了的模型，也就诞生了所谓的“模拟大脑”，人工神经网络的大门由此开启。   \n",
    "\n",
    "&emsp;&emsp;1958年计算机科学家罗森布拉特（ Rosenblatt）提出了两层神经元组成的神经网络，称之为“感知器”(Perceptrons)。第一次将MCP用于机器学习（machine learning）分类(classification)。“感知器”算法算法使用MCP模型对输入的多维数据进行二分类，且能够使用梯度下降法从训练样本中自动学习更新权值。1962年,该方法被证明为能够收敛，理论与实践效果引起第一次神经网络的浪潮。   \n",
    "\n",
    "&emsp;&emsp;1969年纵观科学发展史，无疑都是充满曲折的，深度学习也毫不例外。 1969年，美国数学家及人工智能先驱 Marvin Minsky 在其著作中证明了感知器本质上是一种线性模型（linear model），只能处理线性分类问题，就连最简单的XOR（亦或）问题都无法正确分类。这等于直接宣判了感知器的死刑，神经网络的研究也陷入了将近20年的停滞。   \n",
    "\n",
    "&emsp;&emsp;1986年由神经网络之父 Geoffrey Hinton 在1986年发明了适用于多层感知器（MLP）的BP（Backpropagation）算法，并采用Sigmoid进行非线性映射，有效解决了非线性分类和学习的问题。该方法引起了神经网络的第二次热潮。   \n",
    "\n",
    "&emsp;&emsp;1991年BP算法被指出存在梯度消失问题，也就是说在误差梯度后项传递的过程中，后层梯度以乘性方式叠加到前层，由于Sigmoid函数的饱和特性，后层梯度本来就小，误差梯度传到前层时几乎为0，因此无法对前层进行有效的学习，该问题直接阻碍了深度学习的进一步发展。此外90年代中期，支持向量机算法诞生（SVM算法）等各种浅层机器学习模型被提出，SVM也是一种有监督的学习模型，应用于模式识别，分类以及回归分析等。支持向量机以统计学为基础，和神经网络有明显的差异，支持向量机等算法的提出再次阻碍了深度学习的发展。   \n",
    "\n",
    "&emsp;&emsp;2006年，加拿大多伦多大学教授、机器学习领域泰斗、神经网络之父—— Geoffrey Hinton 和他的学生 Ruslan Salakhutdinov 在顶尖学术刊物《科学》上发表了一篇文章，该文章提出了深层网络训练中梯度消失问题的解决方案：无监督预训练对权值进行初始化+有监督训练微调。斯坦福大学、纽约大学、加拿大蒙特利尔大学等成为研究深度学习的重镇，至此开启了深度学习在学术界和工业界的浪潮。\n",
    "\n",
    "&emsp;&emsp;2012年，Hinton课题组为了证明深度学习的潜力，首次参加ImageNet图像识别比赛，其通过构建的CNN网络AlexNet一举夺得冠军，且碾压第二名（SVM方法）的分类性能。也正是由于该比赛，CNN吸引到了众多研究者的注意。\n",
    "\n",
    "&emsp;&emsp;2016年3月，由谷歌（Google）旗下DeepMind公司开发的AlphaGo(基于深度学习)与围棋世界冠军、职业九段棋手李世石进行围棋人机大战，以4比1的总比分获胜；2016年末2017年初，该程序在中国棋类网站上以“大师”（Master）为注册帐号与中日韩数十位围棋高手进行快棋对决，连续60局无一败绩；2017年5月，在中国乌镇围棋峰会上，它与排名世界第一的世界围棋冠军柯洁对战，以3比0的总比分获胜。围棋界公认阿尔法围棋的棋力已经超过人类职业围棋顶尖水平。"
   ]
  },
  {
   "cell_type": "markdown",
   "metadata": {
    "collapsed": false
   },
   "source": [
    "### **2.人工智能，机器学习，深度学习区别及联系**\n",
    "\n",
    "&emsp;人工智能（Artificial Intelligence）——为机器赋予人的智能\n",
    "\n",
    "&emsp;机器学习—— 一种实现人工智能的方法\n",
    "\n",
    "&emsp;深度学习—— 一种实现机器学习的技术"
   ]
  },
  {
   "cell_type": "markdown",
   "metadata": {
    "collapsed": false
   },
   "source": [
    "###  **3.神经元，单层感知机，多层感知机**\n",
    "\n",
    "#### **神经元**\n",
    "\n",
    "&emsp;&emsp;一个神经元通常具有多个树突，主要用来接受传入信息；而轴突只有一条，轴突尾端有许多轴突末梢可以给其他多个神经元传递信息。轴突末梢跟其他神经元的树突产生连接，从而传递信号。这个连接的位置在生物学上叫做“突触”。突触之间的交流通过神经递质实现。\n",
    "\n",
    "![](https://ai-studio-static-online.cdn.bcebos.com/76af7bd26a7b4c88831f001aa78a6e44e31c4408a0b84b41a8c41654e7a36fcd)\n",
    "![](https://ai-studio-static-online.cdn.bcebos.com/8d7238ac07d74fcf991d446e107fb17debccdea3c420482aad6113bb0d249b53)\n",
    "\n",
    "#### **单层感知机**\n",
    "\n",
    "&emsp;&emsp;上面我们介绍的神经元的基本模型实际就是一个感知机的模型，该词最早出现于1958年，计算科学家Rosenblatt提出的由两层神经元组成的神经网络。对前面的模型进一步符号化，如下图所示：\n",
    "\n",
    "![](https://ai-studio-static-online.cdn.bcebos.com/69830a30b686408ca1bc62d8909759c8bf4bba9d6a2a46f3ab9f15af3033c424)\n",
    "\n",
    "可以看到，感知机的基本模型包括：\n",
    "\n",
    "**输入**：x 1 , x 2 , . . . , x n \n",
    "\n",
    "**权值**：对应于每个输入都有一个加权的权值w 1 , w 2 , . . . , w n \n",
    "\n",
    "**激活函数**：激活函数f对应于一个非线性函数，其选择有很多，本文后面会详细介绍\n",
    "\n",
    "**输出**：由激活激活函数进行处理后的结果，往往是区分度较大的非连续值用于分类\n",
    "\n",
    "#### **多层感知机**\n",
    "\n",
    "&emsp;&emsp;多层感知机（MLP，Multilayer Perceptron）也叫人工神经网络（ANN，Artificial Neural Network），除了输入输出层，它中间可以有多个隐层，最简单的MLP只含一个隐层，即三层的结构，如下图：\n",
    "\n",
    "![](https://ai-studio-static-online.cdn.bcebos.com/67c62ede50284115b4f3e425c1bc8f6202fb89d5184545a18cf66c4ed126b16a)\n",
    "\n",
    "&emsp;&emsp;从上图可以看到，多层感知机层与层之间是全连接的。多层感知机最底层是输入层，中间是隐藏层，最后是输出层。 "
   ]
  },
  {
   "cell_type": "markdown",
   "metadata": {
    "collapsed": false
   },
   "source": [
    "### **4.什么是前向传播**\n",
    "![](https://ai-studio-static-online.cdn.bcebos.com/233105db3f434165946d80e801130b049e24f952adfa4405b7d276ecc12bf13f)\n",
    "\n",
    "对于第2层第1个节点的输出$a_1^2$有：$a_1^2=\\sigma(z_1^2) = \\sigma(w_{11}^2x_1 + w_{12}^2x_2 + w_{13}^2x_3 + b_1^{2})$\n",
    "\n",
    "对于第3层第1个节点的输出$a_1^3$有：$a_1^3=\\sigma(z_1^3) = \\sigma(w_{11}^3a_1^2 + w_{12}^3a_2^2 + w_{13}^3a_3^2 + b_1^{3})$\n",
    "\n",
    "一般化的，假设l-1层有m个神经元，对于$a_j^l$有：\n",
    "\n",
    "![](https://ai-studio-static-online.cdn.bcebos.com/115edb9e33da423a9b0f1c79300cb9a47f91ffd0c267475493569a7107d6b27b)\n",
    "\n",
    "也就是第l层第j个神经元的输入为与它相连的上一层每个神经元的输出加权求和后加上该神经元对应的偏置，该神经元所做的工作只是把这个结果做一个非线性激活。"
   ]
  },
  {
   "cell_type": "markdown",
   "metadata": {
    "collapsed": false
   },
   "source": [
    "### **5.什么是反向传播**\n",
    "\n",
    "&emsp;&emsp;当通过前向传播得到由任意一组随机参数W和b计算出的网络预测结果后，我们可以利用损失函数相对于每个参数的梯度来对他们进行修正。事实上神经网络的训练就是这样一个不停的前向-反向传播的过程，直到网络的预测能力达到我们的预期。\n",
    "\n",
    "![](https://ai-studio-static-online.cdn.bcebos.com/57c925b449f6447bbe4b4e3ce80a3e6a49eb3f7d312a4c2f81ca9b656b0b0cef)\n"
   ]
  },
  {
   "cell_type": "markdown",
   "metadata": {
    "collapsed": false
   },
   "source": [
    "## **代码部分**"
   ]
  },
  {
   "cell_type": "markdown",
   "metadata": {
    "collapsed": false
   },
   "source": [
    "先画出数据图像"
   ]
  },
  {
   "cell_type": "code",
   "execution_count": 2,
   "metadata": {
    "collapsed": false
   },
   "outputs": [
    {
     "name": "stdout",
     "output_type": "stream",
     "text": [
      "Plotting Data ...\n",
      "\n"
     ]
    },
    {
     "data": {
      "image/png": "[encoded data removed]",
      "text/plain": [
       "<Figure size 432x288 with 1 Axes>"
      ]
     },
     "metadata": {},
     "output_type": "display_data"
    }
   ],
   "source": [
    "import numpy as np\r\n",
    "import matplotlib.pyplot as plt\r\n",
    "\r\n",
    "def plot_data(x, y):\r\n",
    "    \"\"\"绘制给定数据x与y的图像\"\"\"\r\n",
    "    plt.figure()\r\n",
    "    # 绘制x与y的图像\r\n",
    "    # 使用 matplotlib.pyplt 的命令 plot, xlabel, ylabel 等。\r\n",
    "    # 使用 \"markersize=8, markeredgewidth=2\" 使标记更大\r\n",
    "    # 给制数据\r\n",
    "    plt.plot(x,y,'rx',markersize=8, markeredgewidth=2)\r\n",
    "    # 设置y轴标题为 'Profit in $10,000s'\r\n",
    "    plt.ylabel('Profit in $10,000s')\r\n",
    "    # 设置x轴标题为 'Population of City in 10,000s'\r\n",
    "    plt.xlabel('Population of City in 10,000s')\r\n",
    "    plt.show()\r\n",
    "    \r\n",
    "# 从txt中加载数据\r\n",
    "print('Plotting Data ...\\n')\r\n",
    "data = np.loadtxt('./data/data5984/PRML_LR_data.txt', delimiter=',')\r\n",
    "x, y = data[:, 0], data[:, 1]\r\n",
    "\r\n",
    "# 绘图\r\n",
    "plot_data(x, y)\r\n",
    "plt.show()"
   ]
  },
  {
   "cell_type": "markdown",
   "metadata": {
    "collapsed": false
   },
   "source": [
    "### **python+numpy实现**"
   ]
  },
  {
   "cell_type": "markdown",
   "metadata": {
    "collapsed": false
   },
   "source": [
    "首先我们对要学习的参数和数据做一个准备:"
   ]
  },
  {
   "cell_type": "code",
   "execution_count": null,
   "metadata": {
    "collapsed": false
   },
   "outputs": [],
   "source": [
    "# Add a column of ones to x\r\n",
    "m = len(y)\r\n",
    "X = np.ones((m, 2))\r\n",
    "X[:, 1] = data[:, 0]\r\n",
    "\r\n",
    "# initialize fitting parameters\r\n",
    "theta = np.zeros((2, 1))\r\n",
    "\r\n",
    "# Some gradient descent settings\r\n",
    "iterations = 1500\r\n",
    "alpha = 0.01"
   ]
  },
  {
   "cell_type": "markdown",
   "metadata": {
    "collapsed": false
   },
   "source": [
    "计算初始误差函数的值"
   ]
  },
  {
   "cell_type": "code",
   "execution_count": null,
   "metadata": {
    "collapsed": false
   },
   "outputs": [
    {
     "name": "stdout",
     "output_type": "stream",
     "text": [
      "32.072733877455654\n"
     ]
    }
   ],
   "source": [
    "def compute_cost(X, y, theta):\r\n",
    "    \"\"\"计算线性回归的代价。\"\"\"\r\n",
    "    m = len(y)\r\n",
    "    J = 0.0\r\n",
    "    total=0\r\n",
    "    y=y.reshape(97,-1)\r\n",
    "    p=np.dot(X,theta)-y\r\n",
    "    b=p[:,0]\r\n",
    "    for i in range(m):\r\n",
    "        total+=pow(b[i],2)\r\n",
    "    J=total/(2*m)\r\n",
    "    return J\r\n",
    "\r\n",
    "# compute and display initial cost\r\n",
    "J0 = compute_cost(X, y, theta)\r\n",
    "print(J0)"
   ]
  },
  {
   "cell_type": "markdown",
   "metadata": {
    "collapsed": false
   },
   "source": [
    "接下来就需要实现最核心的部分：梯度下降"
   ]
  },
  {
   "cell_type": "code",
   "execution_count": null,
   "metadata": {
    "collapsed": false
   },
   "outputs": [
    {
     "name": "stdout",
     "output_type": "stream",
     "text": [
      "[[-3.63029144]\n",
      " [ 1.16636235]]\n",
      "4.483388256587726\n"
     ]
    }
   ],
   "source": [
    "def gradient_descent(X, y, theta, alpha, num_iters):\r\n",
    "    \"\"\"执行梯度下降算法来学习参数 theta。\"\"\"\r\n",
    "    m = len(y)\r\n",
    "    J_history = np.zeros((num_iters,))\r\n",
    "\r\n",
    "    for iter in range(num_iters):\r\n",
    "        # 计算给定 theta 参数下线性回归的梯度，实现梯度下降算法\r\n",
    "        y=y.reshape(97,-1)\r\n",
    "        c=np.dot(X,theta)-y\r\n",
    "        gradient0=sum(c)[0]/m\r\n",
    "        gradient1=np.dot(np.transpose(c),X[:,1])[0]/m\r\n",
    "        theta[0][0]-=alpha*gradient0\r\n",
    "        theta[1][0]-=alpha*gradient1\r\n",
    "        # 将各次迭代后的代价进行记录\r\n",
    "        J_history[iter] = compute_cost(X, y, theta)\r\n",
    "\r\n",
    "    return theta, J_history\r\n",
    "\r\n",
    "# run gradient descent\r\n",
    "theta, J_history = gradient_descent(X, y, theta,\r\n",
    "                                    alpha, iterations)\r\n",
    "print(theta)\r\n",
    "print(min(J_history))"
   ]
  },
  {
   "cell_type": "markdown",
   "metadata": {
    "collapsed": false
   },
   "source": [
    "画出拟合后的图像"
   ]
  },
  {
   "cell_type": "code",
   "execution_count": null,
   "metadata": {
    "collapsed": false
   },
   "outputs": [
    {
     "name": "stdout",
     "output_type": "stream",
     "text": [
      "Plotting Data ...\n",
      "\n"
     ]
    },
    {
     "data": {
      "image/png": "[encoded data removed]",
      "text/plain": [
       "<Figure size 432x288 with 1 Axes>"
      ]
     },
     "metadata": {},
     "output_type": "display_data"
    }
   ],
   "source": [
    "def plot_data(x, y):\r\n",
    "    \"\"\"绘制给定数据x与y的图像\"\"\"\r\n",
    "    plt.figure()\r\n",
    "    # 绘制x与y的图像\r\n",
    "    # 使用 matplotlib.pyplt 的命令 plot, xlabel, ylabel 等。\r\n",
    "    # 使用 \"markersize=8, markeredgewidth=2\" 使标记更大\r\n",
    "    # 给制数据\r\n",
    "    plt.plot(x,y,'rx',markersize=8, markeredgewidth=2)\r\n",
    "    # 设置y轴标题为 'Profit in $10,000s'\r\n",
    "    plt.ylabel('Profit in $10,000s')\r\n",
    "    # 设置x轴标题为 'Population of City in 10,000s'\r\n",
    "    plt.xlabel('Population of City in 10,000s')\r\n",
    "    \r\n",
    "# 从txt中加载数据\r\n",
    "print('Plotting Data ...\\n')\r\n",
    "data = np.loadtxt('./data/data5984/PRML_LR_data.txt', delimiter=',')\r\n",
    "x, y = data[:, 0], data[:, 1]\r\n",
    "\r\n",
    "# 绘图\r\n",
    "plot_data(x, y)\r\n",
    "m=1.16636235*x-3.63029144 # 拟合曲线\r\n",
    "plt.plot(x,m,color=\"blue\")\r\n",
    "plt.show()"
   ]
  },
  {
   "cell_type": "markdown",
   "metadata": {
    "collapsed": false
   },
   "source": [
    "###  **paddle实现**"
   ]
  },
  {
   "cell_type": "code",
   "execution_count": 3,
   "metadata": {
    "collapsed": false
   },
   "outputs": [],
   "source": [
    "X=x.reshape(97,1)\r\n",
    "Y=y.reshape(97,1)"
   ]
  },
  {
   "cell_type": "code",
   "execution_count": 4,
   "metadata": {
    "collapsed": false
   },
   "outputs": [],
   "source": [
    "import paddle.fluid as fluid\r\n",
    "import paddle\r\n",
    "\r\n",
    "paddle.enable_static()\r\n",
    "# 定义一个简单的线性网络\r\n",
    "g = fluid.layers.data(name='x', shape=[1], dtype='float64')\r\n",
    "hidden = fluid.layers.fc(input=g, size=100, act='relu')\r\n",
    "net = fluid.layers.fc(input=hidden, size=1, act=None)"
   ]
  },
  {
   "cell_type": "code",
   "execution_count": 5,
   "metadata": {
    "collapsed": false
   },
   "outputs": [],
   "source": [
    "test_program = fluid.default_main_program().clone(for_test=True)"
   ]
  },
  {
   "cell_type": "code",
   "execution_count": 6,
   "metadata": {
    "collapsed": false
   },
   "outputs": [],
   "source": [
    "# 定义损失函数\r\n",
    "z = fluid.layers.data(name='y', shape=[1], dtype='float64')\r\n",
    "cost = fluid.layers.square_error_cost(input=net, label=z)\r\n",
    "avg_cost = fluid.layers.mean(cost)\r\n"
   ]
  },
  {
   "cell_type": "code",
   "execution_count": 7,
   "metadata": {
    "collapsed": false
   },
   "outputs": [],
   "source": [
    "# 定义优化方法\r\n",
    "optimizer = fluid.optimizer.AdamOptimizer(learning_rate=0.001)\r\n",
    "opts = optimizer.minimize(avg_cost)"
   ]
  },
  {
   "cell_type": "code",
   "execution_count": 8,
   "metadata": {
    "collapsed": false
   },
   "outputs": [
    {
     "data": {
      "text/plain": [
       "[]"
      ]
     },
     "execution_count": 8,
     "metadata": {},
     "output_type": "execute_result"
    }
   ],
   "source": [
    "# 创建一个使用CPU的执行器\r\n",
    "place = fluid.CPUPlace()\r\n",
    "exe = fluid.Executor(place)\r\n",
    "# 进行参数初始化\r\n",
    "exe.run(fluid.default_startup_program())"
   ]
  },
  {
   "cell_type": "code",
   "execution_count": 9,
   "metadata": {
    "collapsed": false
   },
   "outputs": [
    {
     "name": "stdout",
     "output_type": "stream",
     "text": [
      "Pass:0, Cost:47.66275\n",
      "Pass:1, Cost:46.53078\n",
      "Pass:2, Cost:45.41631\n",
      "Pass:3, Cost:44.31970\n",
      "Pass:4, Cost:43.24130\n",
      "Pass:5, Cost:42.18141\n",
      "Pass:6, Cost:41.14034\n",
      "Pass:7, Cost:40.11835\n",
      "Pass:8, Cost:39.11570\n",
      "Pass:9, Cost:38.13260\n",
      "Pass:10, Cost:37.16954\n",
      "Pass:11, Cost:36.23023\n",
      "Pass:12, Cost:35.31502\n",
      "Pass:13, Cost:34.41953\n",
      "Pass:14, Cost:33.54398\n",
      "Pass:15, Cost:32.69130\n",
      "Pass:16, Cost:31.86554\n",
      "Pass:17, Cost:31.06329\n",
      "Pass:18, Cost:30.28038\n",
      "Pass:19, Cost:29.51684\n",
      "Pass:20, Cost:28.77269\n",
      "Pass:21, Cost:28.04794\n",
      "Pass:22, Cost:27.34257\n",
      "Pass:23, Cost:26.65655\n",
      "Pass:24, Cost:25.98983\n",
      "Pass:25, Cost:25.34233\n",
      "Pass:26, Cost:24.71476\n",
      "Pass:27, Cost:24.10828\n",
      "Pass:28, Cost:23.52292\n",
      "Pass:29, Cost:22.96114\n",
      "Pass:30, Cost:22.41877\n",
      "Pass:31, Cost:21.89416\n",
      "Pass:32, Cost:21.38716\n",
      "Pass:33, Cost:20.89760\n",
      "Pass:34, Cost:20.42532\n",
      "Pass:35, Cost:19.97013\n",
      "Pass:36, Cost:19.53184\n",
      "Pass:37, Cost:19.11024\n",
      "Pass:38, Cost:18.70511\n",
      "Pass:39, Cost:18.31622\n",
      "Pass:40, Cost:17.94334\n",
      "Pass:41, Cost:17.58619\n",
      "Pass:42, Cost:17.24453\n",
      "Pass:43, Cost:16.91807\n",
      "Pass:44, Cost:16.60652\n",
      "Pass:45, Cost:16.30957\n",
      "Pass:46, Cost:16.02686\n",
      "Pass:47, Cost:15.75812\n",
      "Pass:48, Cost:15.50301\n",
      "Pass:49, Cost:15.26118\n",
      "Pass:50, Cost:15.03232\n",
      "Pass:51, Cost:14.81608\n",
      "Pass:52, Cost:14.61204\n",
      "Pass:53, Cost:14.41984\n",
      "Pass:54, Cost:14.23916\n",
      "Pass:55, Cost:14.06955\n",
      "Pass:56, Cost:13.91079\n",
      "Pass:57, Cost:13.76222\n",
      "Pass:58, Cost:13.62322\n",
      "Pass:59, Cost:13.49344\n",
      "Pass:60, Cost:13.37262\n",
      "Pass:61, Cost:13.26028\n",
      "Pass:62, Cost:13.15617\n",
      "Pass:63, Cost:13.05973\n",
      "Pass:64, Cost:12.97072\n",
      "Pass:65, Cost:12.88876\n",
      "Pass:66, Cost:12.81337\n",
      "Pass:67, Cost:12.74411\n",
      "Pass:68, Cost:12.68066\n",
      "Pass:69, Cost:12.62285\n",
      "Pass:70, Cost:12.57020\n",
      "Pass:71, Cost:12.52242\n",
      "Pass:72, Cost:12.47975\n",
      "Pass:73, Cost:12.44127\n",
      "Pass:74, Cost:12.40650\n",
      "Pass:75, Cost:12.37514\n",
      "Pass:76, Cost:12.34692\n",
      "Pass:77, Cost:12.32157\n",
      "Pass:78, Cost:12.29884\n",
      "Pass:79, Cost:12.27848\n",
      "Pass:80, Cost:12.26028\n",
      "Pass:81, Cost:12.24402\n",
      "Pass:82, Cost:12.22950\n",
      "Pass:83, Cost:12.21654\n",
      "Pass:84, Cost:12.20496\n",
      "Pass:85, Cost:12.19461\n",
      "Pass:86, Cost:12.18534\n",
      "Pass:87, Cost:12.17701\n",
      "Pass:88, Cost:12.16950\n",
      "Pass:89, Cost:12.16270\n",
      "Pass:90, Cost:12.15651\n",
      "Pass:91, Cost:12.15083\n",
      "Pass:92, Cost:12.14559\n",
      "Pass:93, Cost:12.14071\n",
      "Pass:94, Cost:12.13612\n",
      "Pass:95, Cost:12.13178\n",
      "Pass:96, Cost:12.12762\n",
      "Pass:97, Cost:12.12361\n",
      "Pass:98, Cost:12.11971\n",
      "Pass:99, Cost:12.11589\n",
      "Pass:100, Cost:12.11212\n",
      "Pass:101, Cost:12.10839\n",
      "Pass:102, Cost:12.10466\n",
      "Pass:103, Cost:12.10093\n",
      "Pass:104, Cost:12.09719\n",
      "Pass:105, Cost:12.09342\n",
      "Pass:106, Cost:12.08962\n",
      "Pass:107, Cost:12.08579\n",
      "Pass:108, Cost:12.08192\n",
      "Pass:109, Cost:12.07802\n",
      "Pass:110, Cost:12.07407\n",
      "Pass:111, Cost:12.07009\n",
      "Pass:112, Cost:12.06607\n",
      "Pass:113, Cost:12.06201\n",
      "Pass:114, Cost:12.05792\n",
      "Pass:115, Cost:12.05380\n",
      "Pass:116, Cost:12.04965\n",
      "Pass:117, Cost:12.04547\n",
      "Pass:118, Cost:12.04128\n",
      "Pass:119, Cost:12.03706\n",
      "Pass:120, Cost:12.03282\n",
      "Pass:121, Cost:12.02857\n",
      "Pass:122, Cost:12.02431\n",
      "Pass:123, Cost:12.02003\n",
      "Pass:124, Cost:12.01575\n",
      "Pass:125, Cost:12.01146\n",
      "Pass:126, Cost:12.00716\n",
      "Pass:127, Cost:12.00285\n",
      "Pass:128, Cost:11.99854\n",
      "Pass:129, Cost:11.99423\n",
      "Pass:130, Cost:11.98991\n",
      "Pass:131, Cost:11.98559\n",
      "Pass:132, Cost:11.98127\n",
      "Pass:133, Cost:11.97694\n",
      "Pass:134, Cost:11.97261\n",
      "Pass:135, Cost:11.96828\n",
      "Pass:136, Cost:11.96395\n",
      "Pass:137, Cost:11.95961\n",
      "Pass:138, Cost:11.95527\n",
      "Pass:139, Cost:11.95092\n",
      "Pass:140, Cost:11.94658\n",
      "Pass:141, Cost:11.94223\n",
      "Pass:142, Cost:11.93787\n",
      "Pass:143, Cost:11.93351\n",
      "Pass:144, Cost:11.92915\n",
      "Pass:145, Cost:11.92478\n",
      "Pass:146, Cost:11.92040\n",
      "Pass:147, Cost:11.91602\n",
      "Pass:148, Cost:11.91163\n",
      "Pass:149, Cost:11.90724\n"
     ]
    }
   ],
   "source": [
    "# 开始训练10个pass\r\n",
    "for pass_id in range(150):\r\n",
    "    train_cost = exe.run(program=fluid.default_main_program(),\r\n",
    "                         feed={'x': X, 'y': Y},\r\n",
    "                         fetch_list=[avg_cost])\r\n",
    "    print(\"Pass:%d, Cost:%0.5f\" % (pass_id, train_cost[0]))\r\n"
   ]
  },
  {
   "cell_type": "code",
   "execution_count": 13,
   "metadata": {
    "collapsed": false
   },
   "outputs": [
    {
     "name": "stdout",
     "output_type": "stream",
     "text": [
      "[[ 4.91799579]\n",
      " [ 4.46131678]\n",
      " [ 6.80657992]\n",
      " [ 5.6183049 ]\n",
      " [ 4.72172732]\n",
      " [ 6.70017309]\n",
      " [ 5.9893566 ]\n",
      " [ 6.85323583]\n",
      " [ 5.21290818]\n",
      " [ 4.09034349]\n",
      " [ 4.6048131 ]\n",
      " [11.23332391]\n",
      " [ 4.6230834 ]\n",
      " [ 6.72016848]\n",
      " [ 4.5499238 ]\n",
      " [ 4.34502987]\n",
      " [ 5.11818492]\n",
      " [ 4.14954553]\n",
      " [ 5.16852626]\n",
      " [ 5.67131228]\n",
      " [ 4.97994229]\n",
      " [16.02123951]\n",
      " [ 4.43183338]\n",
      " [ 5.0873685 ]\n",
      " [ 4.49048652]\n",
      " [14.98226339]\n",
      " [10.18572233]\n",
      " [ 8.71860963]\n",
      " [10.45860058]\n",
      " [17.53696844]\n",
      " [ 4.24544498]\n",
      " [ 5.2938307 ]\n",
      " [ 7.3786833 ]\n",
      " [ 4.74681957]\n",
      " [ 6.56545905]\n",
      " [ 6.34770534]\n",
      " [ 6.47512694]\n",
      " [ 4.52294962]\n",
      " [10.19199539]\n",
      " [ 5.10877533]\n",
      " [ 4.36659352]\n",
      " [ 5.52366006]\n",
      " [ 9.30749346]\n",
      " [ 4.65421348]\n",
      " [ 6.26247009]\n",
      " [ 5.68879845]\n",
      " [ 4.10257597]\n",
      " [ 4.67593396]\n",
      " [ 9.30122039]\n",
      " [ 4.47221622]\n",
      " [ 6.03938428]\n",
      " [ 4.28880754]\n",
      " [ 5.94818962]\n",
      " [ 6.08870624]\n",
      " [ 5.09262219]\n",
      " [ 5.11308806]\n",
      " [ 5.046672  ]\n",
      " [ 4.54913966]\n",
      " [ 7.42729954]\n",
      " [ 7.5397442 ]\n",
      " [ 7.0471519 ]\n",
      " [ 4.18812487]\n",
      " [16.81242962]\n",
      " [11.8167188 ]\n",
      " [14.99324125]\n",
      " [ 5.78689348]\n",
      " [ 6.63132622]\n",
      " [ 8.1532498 ]\n",
      " [ 4.43912582]\n",
      " [16.07691295]\n",
      " [ 8.07483651]\n",
      " [ 5.87808814]\n",
      " [ 4.83652438]\n",
      " [ 5.7929313 ]\n",
      " [ 4.06862301]\n",
      " [ 5.26128918]\n",
      " [ 6.03812966]\n",
      " [ 4.07615069]\n",
      " [ 8.18304685]\n",
      " [ 4.13198095]\n",
      " [ 4.61931956]\n",
      " [ 4.19526048]\n",
      " [ 5.11057883]\n",
      " [ 7.78682449]\n",
      " [ 5.23619693]\n",
      " [ 6.80548214]\n",
      " [ 7.32536226]\n",
      " [ 4.83323102]\n",
      " [ 4.45559261]\n",
      " [ 4.09410733]\n",
      " [ 4.6024607 ]\n",
      " [ 6.11497469]\n",
      " [ 4.73027437]\n",
      " [ 4.28700403]\n",
      " [ 6.62999319]\n",
      " [10.62954156]\n",
      " [ 4.39011751]]\n"
     ]
    }
   ],
   "source": [
    "result = exe.run(program=test_program,\r\n",
    "                 feed={'x': X},\r\n",
    "                 fetch_list=[net])\r\n",
    "print(result[0])"
   ]
  },
  {
   "cell_type": "markdown",
   "metadata": {
    "collapsed": false
   },
   "source": [
    "请点击[此处](https://ai.baidu.com/docs#/AIStudio_Project_Notebook/a38e5576)查看本环境基本用法.  <br>\n",
    "Please click [here ](https://ai.baidu.com/docs#/AIStudio_Project_Notebook/a38e5576) for more detailed instructions. "
   ]
  }
 ],
 "metadata": {
  "kernelspec": {
   "display_name": "PaddlePaddle 2.1.0 (Python 3.5)",
   "language": "python",
   "name": "py35-paddle1.2.0"
  },
  "language_info": {
   "codemirror_mode": {
    "name": "ipython",
    "version": 3
   },
   "file_extension": ".py",
   "mimetype": "text/x-python",
   "name": "python",
   "nbconvert_exporter": "python",
   "pygments_lexer": "ipython3",
   "version": "3.7.4"
  }
 },
 "nbformat": 4,
 "nbformat_minor": 1
}
