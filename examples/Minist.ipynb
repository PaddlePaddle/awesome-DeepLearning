{
 "cells": [
  {
   "cell_type": "code",
   "execution_count": 34,
   "metadata": {
    "collapsed": false
   },
   "outputs": [],
   "source": [
    "# 查看当前挂载的数据集目录, 该目录下的变更重启环境后会自动还原\n",
    "# View dataset directory. \n",
    "# This directory will be recovered automatically after resetting environment. \n",
    "!ls /home/aistudio/data"
   ]
  },
  {
   "cell_type": "code",
   "execution_count": 35,
   "metadata": {
    "collapsed": false
   },
   "outputs": [
    {
     "name": "stdout",
     "output_type": "stream",
     "text": [
      "housing.data\r\n"
     ]
    }
   ],
   "source": [
    "# 查看工作区文件, 该目录下的变更将会持久保存. 请及时清理不必要的文件, 避免加载过慢.\n",
    "# View personal work directory. \n",
    "# All changes under this directory will be kept even after reset. \n",
    "# Please clean unnecessary files in time to speed up environment loading. \n",
    "!ls /home/aistudio/work"
   ]
  },
  {
   "cell_type": "markdown",
   "metadata": {
    "collapsed": false
   },
   "source": []
  },
  {
   "cell_type": "code",
   "execution_count": 1,
   "metadata": {
    "collapsed": false
   },
   "outputs": [],
   "source": [
    "import sys \r\n",
    "sys.path.append('/home/aistudio/external-libraries')"
   ]
  },
  {
   "cell_type": "code",
   "execution_count": 3,
   "metadata": {
    "collapsed": false
   },
   "outputs": [
    {
     "name": "stderr",
     "output_type": "stream",
     "text": [
      "2021-07-10 19:47:30,814-INFO: font search path ['/opt/conda/envs/python35-paddle120-env/lib/python3.7/site-packages/matplotlib/mpl-data/fonts/ttf', '/opt/conda/envs/python35-paddle120-env/lib/python3.7/site-packages/matplotlib/mpl-data/fonts/afm', '/opt/conda/envs/python35-paddle120-env/lib/python3.7/site-packages/matplotlib/mpl-data/fonts/pdfcorefonts']\n",
      "2021-07-10 19:47:31,157-INFO: generated new fontManager\n"
     ]
    }
   ],
   "source": [
    "import numpy as np\r\n",
    "import paddle\r\n",
    "import paddle.fluid as fluid\r\n",
    "from PIL import Image\r\n",
    "import matplotlib.pyplot as plt\r\n",
    "import os"
   ]
  },
  {
   "cell_type": "code",
   "execution_count": 4,
   "metadata": {
    "collapsed": false
   },
   "outputs": [
    {
     "name": "stderr",
     "output_type": "stream",
     "text": [
      "Cache file /home/aistudio/.cache/paddle/dataset/mnist/train-images-idx3-ubyte.gz not found, downloading https://dataset.bj.bcebos.com/mnist/train-images-idx3-ubyte.gz \n",
      "Begin to download\n",
      "\n",
      "Download finished\n",
      "Cache file /home/aistudio/.cache/paddle/dataset/mnist/train-labels-idx1-ubyte.gz not found, downloading https://dataset.bj.bcebos.com/mnist/train-labels-idx1-ubyte.gz \n",
      "Begin to download\n",
      "........\n",
      "Download finished\n",
      "Cache file /home/aistudio/.cache/paddle/dataset/mnist/t10k-images-idx3-ubyte.gz not found, downloading https://dataset.bj.bcebos.com/mnist/t10k-images-idx3-ubyte.gz \n",
      "Begin to download\n",
      "\n",
      "Download finished\n",
      "Cache file /home/aistudio/.cache/paddle/dataset/mnist/t10k-labels-idx1-ubyte.gz not found, downloading https://dataset.bj.bcebos.com/mnist/t10k-labels-idx1-ubyte.gz \n",
      "Begin to download\n",
      "..\n",
      "Download finished\n"
     ]
    }
   ],
   "source": [
    "BUF_SIZE = 512\r\n",
    "BATCH_SIZE = 128\r\n",
    "\r\n",
    "# 训练集\r\n",
    "trainData = paddle.dataset.mnist.train()\r\n",
    "# 测试集\r\n",
    "testData = paddle.dataset.mnist.test()\r\n",
    "\r\n",
    "\r\n",
    "trainReader = paddle.batch(\r\n",
    "    paddle.reader.shuffle(\r\n",
    "        trainData,\r\n",
    "        buf_size = BUF_SIZE\r\n",
    "    ), \r\n",
    "    batch_size = BATCH_SIZE\r\n",
    ")\r\n",
    "\r\n",
    "\r\n",
    "testReader = paddle.batch(\r\n",
    "    paddle.reader.shuffle(\r\n",
    "        testData,\r\n",
    "        buf_size = BUF_SIZE\r\n",
    "    ),\r\n",
    "    batch_size = BATCH_SIZE\r\n",
    ")"
   ]
  },
  {
   "cell_type": "markdown",
   "metadata": {
    "collapsed": false
   },
   "source": [
    "##网络结构"
   ]
  },
  {
   "cell_type": "code",
   "execution_count": 7,
   "metadata": {
    "collapsed": false
   },
   "outputs": [],
   "source": [
    "# 卷积\r\n",
    "def cnn(img):\r\n",
    "    convPool1 = fluid.nets.simple_img_conv_pool(\r\n",
    "        # 输入图像\r\n",
    "        input=img,\r\n",
    "        # 卷积核大小\r\n",
    "        filter_size=5,\r\n",
    "        # 卷积核数目\r\n",
    "        num_filters=20,\r\n",
    "        # 池化层大小\r\n",
    "        pool_size=2,\r\n",
    "        # 池化层步长\r\n",
    "        pool_stride=2,\r\n",
    "        # 激活类型\r\n",
    "        act='relu'\r\n",
    "    )\r\n",
    "    convPool2 = fluid.nets.simple_img_conv_pool(\r\n",
    "        # 以第一个卷积层为输入\r\n",
    "        input=convPool1,\r\n",
    "        filter_size=5,\r\n",
    "        num_filters=50,\r\n",
    "        pool_size=2,\r\n",
    "        pool_stride=2,\r\n",
    "        act='relu'\r\n",
    "    )\r\n",
    "    convPool3 = fluid.nets.simple_img_conv_pool(\r\n",
    "        # 以第二个卷积层为输入\r\n",
    "        input=convPool2,\r\n",
    "        filter_size=4,\r\n",
    "        num_filters=20,\r\n",
    "        pool_size=2,\r\n",
    "        pool_stride=2,\r\n",
    "        act='relu'\r\n",
    "    )\r\n",
    "\r\n",
    "    # softmax激活\r\n",
    "    prediction = fluid.layers.fc(input=convPool3, size=10, act='softmax')\r\n",
    "\r\n",
    "    return prediction"
   ]
  },
  {
   "cell_type": "code",
   "execution_count": 8,
   "metadata": {
    "collapsed": false
   },
   "outputs": [],
   "source": [
    "#VGG net\r\n",
    "def conv_block(inp, numFilter, groups, dropouts):\r\n",
    "    return fluid.nets.img_conv_group(\r\n",
    "        input=inp,\r\n",
    "        pool_size=2,\r\n",
    "        pool_stride=2,\r\n",
    "        conv_num_filter=[numFilter] * groups,\r\n",
    "        conv_filter_size=3,\r\n",
    "        conv_act='relu',\r\n",
    "        conv_with_batchnorm=True,\r\n",
    "        conv_batchnorm_drop_rate=dropouts,\r\n",
    "        pool_type='max'\r\n",
    "    )\r\n",
    "\r\n",
    "def vgg(input):\r\n",
    "    conv1 = conv_block(input, 64, 2, [0,0])\r\n",
    "    conv2 = conv_block(conv1, 128, 2, [0,0])\r\n",
    "    conv3 = conv_block(conv2, 128, 3, [0,0,0])\r\n",
    "    drop = fluid.layers.dropout(x=conv3, dropout_prob=0.5)\r\n",
    "    fc1 = fluid.layers.fc(input=drop, size=512, act=None)\r\n",
    "    bn = fluid.layers.batch_norm(input=fc1, act='relu')\r\n",
    "    drop2 = fluid.layers.dropout(x=bn, dropout_prob=0.0)\r\n",
    "    fc2 = fluid.layers.fc(input=drop2, size=512, act=None)\r\n",
    "\r\n",
    "    # 全连接输出层，以softmax为激活函数，大小为10\r\n",
    "    prediction = fluid.layers.fc(input=fc2, size=10, act='softmax')\r\n",
    "\r\n",
    "    return prediction"
   ]
  },
  {
   "cell_type": "code",
   "execution_count": 9,
   "metadata": {
    "collapsed": false
   },
   "outputs": [],
   "source": [
    "image = fluid.layers.data(name='image', shape=[1, 28, 28], dtype='float32')\r\n",
    "label = fluid.layers.data(name='label', shape=[1], dtype='int64')"
   ]
  },
  {
   "cell_type": "code",
   "execution_count": 10,
   "metadata": {
    "collapsed": false
   },
   "outputs": [],
   "source": [
    "\r\n",
    "model = vgg(image)\r\n"
   ]
  },
  {
   "cell_type": "code",
   "execution_count": 12,
   "metadata": {
    "collapsed": false
   },
   "outputs": [],
   "source": [
    "cost = fluid.layers.cross_entropy(input=model, label=label)\r\n",
    "avgCost = fluid.layers.mean(cost)\r\n",
    "# 获取准确率函数\r\n",
    "acc = fluid.layers.accuracy(input=model, label=label)\r\n",
    "\r\n",
    "learnRate = 0.001\r\n",
    "\r\n",
    "myOptimizer = fluid.optimizer.SGDOptimizer(learning_rate=learnRate)\r\n",
    "\r\n",
    "opts = myOptimizer.minimize(avgCost)"
   ]
  },
  {
   "cell_type": "code",
   "execution_count": 13,
   "metadata": {
    "collapsed": false
   },
   "outputs": [
    {
     "data": {
      "text/plain": [
       "[]"
      ]
     },
     "execution_count": 13,
     "metadata": {},
     "output_type": "execute_result"
    }
   ],
   "source": [
    "place = fluid.CUDAPlace(0)\r\n",
    "\r\n",
    "exe = fluid.Executor(place)\r\n",
    "# 参数初始化\r\n",
    "exe.run(fluid.default_startup_program())"
   ]
  },
  {
   "cell_type": "code",
   "execution_count": 14,
   "metadata": {
    "collapsed": false
   },
   "outputs": [],
   "source": [
    "feeder = fluid.DataFeeder(place=place, feed_list=[image, label])"
   ]
  },
  {
   "cell_type": "code",
   "execution_count": 15,
   "metadata": {
    "collapsed": false
   },
   "outputs": [],
   "source": [
    "allTrainIter = 0\r\n",
    "allTrainIters = []\r\n",
    "allTrainCosts = []\r\n",
    "allTrainAccs = []\r\n"
   ]
  },
  {
   "cell_type": "code",
   "execution_count": 17,
   "metadata": {
    "collapsed": false
   },
   "outputs": [],
   "source": [
    "modelSavePath = 'home/aistudio/data/model'"
   ]
  },
  {
   "cell_type": "code",
   "execution_count": 18,
   "metadata": {
    "collapsed": false
   },
   "outputs": [
    {
     "name": "stdout",
     "output_type": "stream",
     "text": [
      "TimeId:0, Batch:0, Cost:0.74064, Acc:0.84375\n",
      "TimeId:0, Batch:100, Cost:0.75307, Acc:0.82812\n",
      "TimeId:0, Batch:200, Cost:0.65445, Acc:0.82031\n",
      "TimeId:0, Batch:300, Cost:0.51393, Acc:0.89844\n",
      "TimeId:0, Batch:400, Cost:0.50208, Acc:0.87500\n",
      "TimeId(Test):0, Cost:0.45582, Acc:0.88845\n",
      "Save Model to home/aistudio/data/model\n",
      "TimeId:1, Batch:0, Cost:0.38884, Acc:0.90625\n",
      "TimeId:1, Batch:100, Cost:0.54393, Acc:0.85156\n",
      "TimeId:1, Batch:200, Cost:0.37394, Acc:0.91406\n",
      "TimeId:1, Batch:300, Cost:0.40113, Acc:0.88281\n",
      "TimeId:1, Batch:400, Cost:0.30606, Acc:0.91406\n",
      "TimeId(Test):1, Cost:0.30615, Acc:0.92405\n",
      "Save Model to home/aistudio/data/model\n",
      "TimeId:2, Batch:0, Cost:0.24715, Acc:0.93750\n",
      "TimeId:2, Batch:100, Cost:0.40177, Acc:0.91406\n",
      "TimeId:2, Batch:200, Cost:0.22606, Acc:0.96094\n",
      "TimeId:2, Batch:300, Cost:0.31221, Acc:0.91406\n",
      "TimeId:2, Batch:400, Cost:0.15337, Acc:0.96875\n",
      "TimeId(Test):2, Cost:0.23841, Acc:0.93997\n",
      "Save Model to home/aistudio/data/model\n",
      "TimeId:3, Batch:0, Cost:0.34502, Acc:0.90625\n",
      "TimeId:3, Batch:100, Cost:0.38211, Acc:0.88281\n",
      "TimeId:3, Batch:200, Cost:0.15972, Acc:0.96875\n",
      "TimeId:3, Batch:300, Cost:0.21462, Acc:0.92188\n",
      "TimeId:3, Batch:400, Cost:0.15642, Acc:0.97656\n",
      "TimeId(Test):3, Cost:0.20162, Acc:0.94858\n",
      "Save Model to home/aistudio/data/model\n",
      "TimeId:4, Batch:0, Cost:0.20952, Acc:0.94531\n",
      "TimeId:4, Batch:100, Cost:0.31723, Acc:0.91406\n",
      "TimeId:4, Batch:200, Cost:0.15737, Acc:0.95312\n",
      "TimeId:4, Batch:300, Cost:0.13376, Acc:0.95312\n",
      "TimeId:4, Batch:400, Cost:0.18234, Acc:0.96094\n",
      "TimeId(Test):4, Cost:0.17073, Acc:0.95382\n",
      "Save Model to home/aistudio/data/model\n"
     ]
    }
   ],
   "source": [
    "# 开始训练和测试\r\n",
    "trainTimes = 5\r\n",
    "for timeId in range(trainTimes):\r\n",
    "    # 训练\r\n",
    "    for batchId, data in enumerate(trainReader()):\r\n",
    "        trainCost, trainAcc = exe.run(\r\n",
    "            program=fluid.default_main_program(),\r\n",
    "            feed=feeder.feed(data),\r\n",
    "            fetch_list=[avgCost, acc]\r\n",
    "        )\r\n",
    "\r\n",
    "        allTrainIter += 128\r\n",
    "        allTrainIters.append(allTrainIter)\r\n",
    "        allTrainCosts.append(trainCost[0])\r\n",
    "        allTrainAccs.append(trainAcc[0])\r\n",
    "\r\n",
    "        # 每100次batch打印一次信息\r\n",
    "        if batchId % 100 == 0:\r\n",
    "            print(\"TimeId:%d, Batch:%d, Cost:%0.5f, Acc:%0.5f\" %(timeId, batchId, trainCost[0], trainAcc[0]))\r\n",
    "    # 测试\r\n",
    "    testAccs = []\r\n",
    "    testCosts = []\r\n",
    "\r\n",
    "    #每训练一轮，就测试一轮\r\n",
    "    for batchId, data in enumerate(testReader()):\r\n",
    "        testCost, testAcc = exe.run(\r\n",
    "            program=fluid.default_main_program(),\r\n",
    "            feed=feeder.feed(data),\r\n",
    "            fetch_list=[avgCost, acc]\r\n",
    "        )\r\n",
    "        testAccs.append(testAcc[0])\r\n",
    "        testCosts.append(testCost[0])\r\n",
    "\r\n",
    "    # 求测试结果的平均值\r\n",
    "    testCost = sum(testCosts) / len(testCosts)\r\n",
    "    testAcc = sum(testAccs) / len(testAccs)\r\n",
    "    print(\"TimeId(Test):%d, Cost:%0.5f, Acc:%0.5f\" %(timeId, testCost, testAcc))\r\n",
    "\r\n",
    "\r\n",
    "    if not os.path.exists(modelSavePath):\r\n",
    "        os.makedirs(modelSavePath)\r\n",
    "    print('Save Model to %s' %(modelSavePath))\r\n",
    "\r\n",
    "    fluid.io.save_inference_model(\r\n",
    "        modelSavePath,\r\n",
    "        ['image'],\r\n",
    "        [model],\r\n",
    "        exe\r\n",
    "    )"
   ]
  },
  {
   "cell_type": "code",
   "execution_count": 19,
   "metadata": {
    "collapsed": false
   },
   "outputs": [
    {
     "data": {
      "image/png": "[encoded data removed]",
      "text/plain": [
       "<Figure size 432x288 with 1 Axes>"
      ]
     },
     "metadata": {},
     "output_type": "display_data"
    }
   ],
   "source": [
    "plt.title('Training', fontsize=24)\r\n",
    "plt.xlabel('iter', fontsize=20)\r\n",
    "plt.ylabel('cost/acc', fontsize=20)\r\n",
    "plt.plot(allTrainIters, allTrainCosts, color='red', label='Train Cost')\r\n",
    "plt.plot(allTrainIters, allTrainAccs, color='blue', label='Train Acc')\r\n",
    "plt.legend()\r\n",
    "plt.grid()\r\n",
    "plt.show()\r\n"
   ]
  },
  {
   "cell_type": "markdown",
   "metadata": {
    "collapsed": false
   },
   "source": [
    "#模型测试"
   ]
  },
  {
   "cell_type": "code",
   "execution_count": null,
   "metadata": {
    "collapsed": false
   },
   "outputs": [],
   "source": [
    "def ImagePreprocess(path):\r\n",
    "    img = Image.open(path).convert('L').resize((28, 28), Image.ANTIALIAS)\r\n",
    "    img = np.array(img).reshape(1, 1, 28, 28).astype(np.float32)\r\n",
    "    img = img / 255.0 * 2.0 - 1.0\r\n",
    "    # print(img)\r\n",
    "\r\n",
    "    return img"
   ]
  }
 ],
 "metadata": {
  "kernelspec": {
   "display_name": "PaddlePaddle 1.8.4 (Python 3.5)",
   "language": "python",
   "name": "py35-paddle1.2.0"
  },
  "language_info": {
   "codemirror_mode": {
    "name": "ipython",
    "version": 3
   },
   "file_extension": ".py",
   "mimetype": "text/x-python",
   "name": "python",
   "nbconvert_exporter": "python",
   "pygments_lexer": "ipython3",
   "version": "3.7.4"
  }
 },
 "nbformat": 4,
 "nbformat_minor": 1
}
