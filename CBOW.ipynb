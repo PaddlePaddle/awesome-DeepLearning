{
 "cells": [
  {
   "cell_type": "code",
   "execution_count": 8,
   "metadata": {
    "collapsed": false
   },
   "outputs": [],
   "source": [
    "# encoding=utf8\n",
    "import io\n",
    "import os\n",
    "import sys\n",
    "import requests\n",
    "from collections import OrderedDict \n",
    "import math\n",
    "import random\n",
    "import numpy as np\n",
    "import paddle\n",
    "from paddle.nn import Embedding\n",
    "import paddle.nn.functional as F"
   ]
  },
  {
   "cell_type": "markdown",
   "metadata": {
    "collapsed": false
   },
   "source": [
    "# 数据处理过程：\n",
    "\n",
    "\t下载》》》》》分词》》》》》构造词典、统计词频、词转化为id》》》》》二次采样法优化语料包"
   ]
  },
  {
   "cell_type": "code",
   "execution_count": 9,
   "metadata": {
    "collapsed": false
   },
   "outputs": [],
   "source": [
    "# 下载语料用来训练word2vec\n",
    "def download():\n",
    "    # 可以从百度云服务器下载一些开源数据集（dataset.bj.bcebos.com）\n",
    "    corpus_url = \"https://dataset.bj.bcebos.com/word2vec/text8.txt\"\n",
    "    # 使用python的requests包下载数据集到本地\n",
    "    web_request = requests.get(corpus_url)\n",
    "    corpus = web_request.content\n",
    "    # 把下载后的文件存储在当前目录的text8.txt文件内\n",
    "    with open(\"./text8.txt\", \"wb\") as f:\n",
    "        f.write(corpus)\n",
    "    f.close()\n",
    "download()#该预料包大小约为84M"
   ]
  },
  {
   "cell_type": "code",
   "execution_count": 10,
   "metadata": {
    "collapsed": false
   },
   "outputs": [
    {
     "name": "stdout",
     "output_type": "stream",
     "text": [
      " anarchism originated as a term of abuse first used against early working class radicals including the diggers of the english revolution and the sans culottes of the french revolution whilst the term is still used in a pejorative way to describe any act that used violent means to destroy the organization of society it has also been taken up as a positive label by self defined anarchists the word anarchism is derived from the greek without archons ruler chief king anarchism as a political philoso\n"
     ]
    }
   ],
   "source": [
    "# 读取text8数据\n",
    "def load_text8():\n",
    "    with open(\"./text8.txt\", \"r\") as f:\n",
    "        corpus = f.read().strip(\"\\n\")\n",
    "    f.close()\n",
    "\n",
    "    return corpus\n",
    "\n",
    "corpus = load_text8()\n",
    "\n",
    "# 打印前500个字符，简要看一下这个语料的样子\n",
    "print(corpus[:500])"
   ]
  },
  {
   "cell_type": "code",
   "execution_count": 11,
   "metadata": {
    "collapsed": false
   },
   "outputs": [
    {
     "name": "stdout",
     "output_type": "stream",
     "text": [
      "['anarchism', 'originated', 'as', 'a', 'term', 'of', 'abuse', 'first', 'used', 'against', 'early', 'working', 'class', 'radicals', 'including', 'the', 'diggers', 'of', 'the', 'english', 'revolution', 'and', 'the', 'sans', 'culottes', 'of', 'the', 'french', 'revolution', 'whilst', 'the', 'term', 'is', 'still', 'used', 'in', 'a', 'pejorative', 'way', 'to', 'describe', 'any', 'act', 'that', 'used', 'violent', 'means', 'to', 'destroy', 'the']\n"
     ]
    }
   ],
   "source": [
    "# 对语料进行预处理（分词）\n",
    "def data_preprocess(corpus):\n",
    "    # 由于英文单词出现在句首的时候经常要大写，所以我们把所有英文字符都转换为小写，\n",
    "    # 以便对语料进行归一化处理（Apple vs apple等）\n",
    "    corpus = corpus.strip().lower()\n",
    "    corpus = corpus.split(\" \")\n",
    "    return corpus\n",
    "\n",
    "corpus = data_preprocess(corpus)\n",
    "print(corpus[:50])"
   ]
  },
  {
   "cell_type": "markdown",
   "metadata": {
    "collapsed": false
   },
   "source": [
    "**key=lambda x: x[1]** 为对前面的对象中的第二维数据（即value）的值进行排序。 key=lambda 变量：变量[维数] 。维数可以按照自己的需要进行设置。"
   ]
  },
  {
   "cell_type": "code",
   "execution_count": 12,
   "metadata": {
    "collapsed": false
   },
   "outputs": [
    {
     "name": "stdout",
     "output_type": "stream",
     "text": [
      "there are totoally 253854 different words in the corpus\n",
      "word the, its id 0, its word freq 1061396\n",
      "word of, its id 1, its word freq 593677\n",
      "word and, its id 2, its word freq 416629\n",
      "word one, its id 3, its word freq 411764\n",
      "word in, its id 4, its word freq 372201\n",
      "word a, its id 5, its word freq 325873\n",
      "word to, its id 6, its word freq 316376\n",
      "word zero, its id 7, its word freq 264975\n",
      "word nine, its id 8, its word freq 250430\n",
      "word two, its id 9, its word freq 192644\n",
      "word is, its id 10, its word freq 183153\n",
      "word as, its id 11, its word freq 131815\n",
      "word eight, its id 12, its word freq 125285\n",
      "word for, its id 13, its word freq 118445\n",
      "word s, its id 14, its word freq 116710\n",
      "word five, its id 15, its word freq 115789\n",
      "word three, its id 16, its word freq 114775\n",
      "word was, its id 17, its word freq 112807\n",
      "word by, its id 18, its word freq 111831\n",
      "word that, its id 19, its word freq 109510\n",
      "word four, its id 20, its word freq 108182\n",
      "word six, its id 21, its word freq 102145\n",
      "word seven, its id 22, its word freq 99683\n",
      "word with, its id 23, its word freq 95603\n",
      "word on, its id 24, its word freq 91250\n",
      "word are, its id 25, its word freq 76527\n",
      "word it, its id 26, its word freq 73334\n",
      "word from, its id 27, its word freq 72871\n",
      "word or, its id 28, its word freq 68945\n",
      "word his, its id 29, its word freq 62603\n",
      "word an, its id 30, its word freq 61925\n",
      "word be, its id 31, its word freq 61281\n",
      "word this, its id 32, its word freq 58832\n",
      "word which, its id 33, its word freq 54788\n",
      "word at, its id 34, its word freq 54576\n",
      "word he, its id 35, its word freq 53573\n",
      "word also, its id 36, its word freq 44358\n",
      "word not, its id 37, its word freq 44033\n",
      "word have, its id 38, its word freq 39712\n",
      "word were, its id 39, its word freq 39086\n",
      "word has, its id 40, its word freq 37866\n",
      "word but, its id 41, its word freq 35358\n",
      "word other, its id 42, its word freq 32433\n",
      "word their, its id 43, its word freq 31523\n",
      "word its, its id 44, its word freq 29567\n",
      "word first, its id 45, its word freq 28810\n",
      "word they, its id 46, its word freq 28553\n",
      "word some, its id 47, its word freq 28161\n",
      "word had, its id 48, its word freq 28100\n",
      "word all, its id 49, its word freq 26229\n"
     ]
    }
   ],
   "source": [
    "# 构造词典，统计每个词的频率，并根据频率将每个词转换为一个整数id\r\n",
    "def build_dict(corpus):\r\n",
    "    # 首先统计每个不同词的频率（出现的次数），使用一个词典记录\r\n",
    "    word_freq_dict = dict()\r\n",
    "    for word in corpus:\r\n",
    "        if word not in word_freq_dict:\r\n",
    "            word_freq_dict[word] = 0\r\n",
    "        word_freq_dict[word] += 1\r\n",
    "\r\n",
    "    # 将这个词典中的词，按照出现次数排序，出现次数越高，排序越靠前\r\n",
    "    # 一般来说，出现频率高的高频词往往是：I，the，you这种代词，而出现频率低的词，往往是一些名词，如：nlp\r\n",
    "    word_freq_dict = sorted(word_freq_dict.items(), key = lambda x:x[1], reverse = True)\r\n",
    "    \r\n",
    "    # 构造3个不同的词典，分别存储，\r\n",
    "    # 每个词到id的映射关系：word2id_dict\r\n",
    "    # 每个id出现的频率：word2id_freq\r\n",
    "    # 每个id到词的映射关系：id2word_dict\r\n",
    "    word2id_dict = dict()\r\n",
    "    word2id_freq = dict()\r\n",
    "    id2word_dict = dict()\r\n",
    "\r\n",
    "    # 按照频率，从高到低，开始遍历每个单词，并为这个单词构造一个独一无二的id\r\n",
    "    for word, freq in word_freq_dict:\r\n",
    "        curr_id = len(word2id_dict)\r\n",
    "        word2id_dict[word] = curr_id\r\n",
    "        word2id_freq[word2id_dict[word]] = freq\r\n",
    "        id2word_dict[curr_id] = word\r\n",
    "\r\n",
    "    return word2id_freq, word2id_dict, id2word_dict\r\n",
    "\r\n",
    "word2id_freq, word2id_dict, id2word_dict = build_dict(corpus)\r\n",
    "vocab_size = len(word2id_freq)\r\n",
    "print(\"there are totoally %d different words in the corpus\" % vocab_size)\r\n",
    "\r\n",
    "for _, (word, word_id) in zip(range(50), word2id_dict.items()):\r\n",
    "    print(\"word %s, its id %d, its word freq %d\" % (word, word_id, word2id_freq[word_id]))"
   ]
  },
  {
   "cell_type": "markdown",
   "metadata": {
    "collapsed": false
   },
   "source": [
    "从以上词频序列可知，高频词汇主要是冠词、介词、连词、序数词、系动词、代词等，在语言学上，频次越高的词语所携带的信息就越小，其在语言处理中更冗余。比如：高频词“的”，于“美丽的景色”和“美丽景色”两个词组中所带来的差异不大。\n",
    "\n",
    "为了减少计算量，提高训练效果，使用二次采样法做优化：\n",
    "\n",
    "**二次采样法**的主要思想是降低高频词在语料中出现的频次。方法是随机将高频的词抛弃，频率越高，被抛弃的概率就越大；频率越低，被抛弃的概率就越小。标点符号或冠词这样的高频词就会被抛弃，从而优化整个词表的词向量训练效果"
   ]
  },
  {
   "cell_type": "code",
   "execution_count": 13,
   "metadata": {
    "collapsed": false
   },
   "outputs": [
    {
     "name": "stdout",
     "output_type": "stream",
     "text": [
      "17005207 tokens in the corpus\n",
      "[5233, 3080, 11, 5, 194, 1, 3133, 45, 58, 155, 127, 741, 476, 10571, 133, 0, 27349, 1, 0, 102, 854, 2, 0, 15067, 58112, 1, 0, 150, 854, 3580, 0, 194, 10, 190, 58, 4, 5, 10712, 214, 6, 1324, 104, 454, 19, 58, 2731, 362, 6, 3672, 0]\n"
     ]
    }
   ],
   "source": [
    "# 把语料转换为id序列\r\n",
    "def convert_corpus_to_id(corpus, word2id_dict):\r\n",
    "    # 使用一个循环，将语料中的每个词替换成对应的id，以便于神经网络进行处理\r\n",
    "    corpus = [word2id_dict[word] for word in corpus]\r\n",
    "    return corpus\r\n",
    "\r\n",
    "corpus = convert_corpus_to_id(corpus, word2id_dict)\r\n",
    "print(\"%d tokens in the corpus\" % len(corpus))\r\n",
    "print(corpus[:50])"
   ]
  },
  {
   "cell_type": "code",
   "execution_count": 14,
   "metadata": {
    "collapsed": false
   },
   "outputs": [
    {
     "name": "stdout",
     "output_type": "stream",
     "text": [
      "8743613 tokens in the corpus\n",
      "[5233, 3080, 3133, 741, 476, 10571, 27349, 102, 854, 15067, 58112, 854, 3580, 5, 10712, 214, 1324, 2731, 3672, 708, 371, 53, 97, 1423, 2757, 18, 567, 686, 7088, 5233, 1052, 248, 44611, 2877, 792, 5233, 200, 1134, 19, 2621, 8983, 4147, 6437, 4186, 5233, 1137, 344, 1818, 4860, 6753]\n"
     ]
    }
   ],
   "source": [
    "# 使用二次采样算法（subsampling）处理语料，强化训练效果\r\n",
    "def subsampling(corpus, word2id_freq):\r\n",
    "    \r\n",
    "    # 这个discard函数决定了一个词会不会被替换，这个函数是具有随机性的，每次调用结果不同\r\n",
    "    # 如果一个词的频率很大，那么它被遗弃的概率就很大\r\n",
    "    def discard(word_id):\r\n",
    "        return random.uniform(0, 1) < 1 - math.sqrt(\r\n",
    "            1e-4 / word2id_freq[word_id] * len(corpus))\r\n",
    "\r\n",
    "    corpus = [word for word in corpus if not discard(word)]\r\n",
    "    return corpus\r\n",
    "\r\n",
    "corpus = subsampling(corpus, word2id_freq)\r\n",
    "print(\"%d tokens in the corpus\" % len(corpus))\r\n",
    "print(corpus[:50])"
   ]
  },
  {
   "cell_type": "markdown",
   "metadata": {
    "collapsed": false
   },
   "source": [
    "注意：在上下文的获取中，窗口大小设置为固定值，这和skip_word_model不一样"
   ]
  },
  {
   "cell_type": "markdown",
   "metadata": {
    "collapsed": false
   },
   "source": [
    "# 构造数据生成器\n",
    "\n",
    "\t构造上下文数据》》》构造打包生成器"
   ]
  },
  {
   "cell_type": "code",
   "execution_count": 16,
   "metadata": {
    "collapsed": false
   },
   "outputs": [
    {
     "name": "stdout",
     "output_type": "stream",
     "text": [
      "100000\n",
      "200000\n",
      "300000\n",
      "[[[5233, 3080, 741, 476], 3133, 1], [[5233, 3080, 741, 476], 29982, 0], [[5233, 3080, 741, 476], 133467, 0], [[5233, 3080, 741, 476], 99004, 0], [[5233, 3080, 741, 476], 186059, 0]]\n"
     ]
    }
   ],
   "source": [
    "# 构造数据，准备模型训练\r\n",
    "#中心词前两个词是上文，后两个是下文，合起来得到context \r\n",
    "def build_data(corpus, word2id_dict, word2id_freq, max_window_size = 2, negative_sample_num = 4):\r\n",
    "    \r\n",
    "    # 使用一个list存储处理好的数据\r\n",
    "    dataset = []\r\n",
    "\r\n",
    "    # 从左到右，开始枚举每个中心点的位置\r\n",
    "    for center_word_idx in range(2,len(corpus)-2):#\r\n",
    "        window_size = max_window_size\r\n",
    "        # 当前的中心词就是center_word_idx所指向的词\r\n",
    "        center_word = corpus[center_word_idx]\r\n",
    "        context_word=[corpus[center_word_idx-2],corpus[center_word_idx-1],corpus[center_word_idx+1],corpus[center_word_idx+2]]\r\n",
    "        \r\n",
    "        dataset.append([context_word,center_word,1])\r\n",
    "        \r\n",
    "        i=0\r\n",
    "        while i < negative_sample_num:\r\n",
    "            negative_word_candidate = random.randint(0, vocab_size-1)\r\n",
    "            if negative_word_candidate == center_word:\r\n",
    "                continue\r\n",
    "            else:\r\n",
    "                # 把（context，正样本，label=0）的三元组数据放入dataset中，\r\n",
    "                # 这里label=0表示这个样本是个负样本\r\n",
    "                dataset.append([context_word, negative_word_candidate, 0])\r\n",
    "                i += 1\r\n",
    "\r\n",
    "        if center_word_idx % 100000 == 0:\r\n",
    "            print(center_word_idx)\r\n",
    "    return dataset\r\n",
    "\r\n",
    "corpus_light = corpus[:int(len(corpus)*0.04)]#取小部分预料进行数据构造\r\n",
    "dataset = build_data(corpus_light, word2id_dict, word2id_freq)\r\n",
    "print(dataset[:5])"
   ]
  },
  {
   "cell_type": "markdown",
   "metadata": {
    "collapsed": false
   },
   "source": [
    "结果一览"
   ]
  },
  {
   "cell_type": "code",
   "execution_count": 17,
   "metadata": {
    "collapsed": false
   },
   "outputs": [
    {
     "name": "stdout",
     "output_type": "stream",
     "text": [
      "data 1 :\n",
      "context word is anarchism\n",
      "context word is originated\n",
      "context word is working\n",
      "context word is class\n",
      "target is abuse\n",
      "label is 1\n",
      "data 2 :\n",
      "context word is anarchism\n",
      "context word is originated\n",
      "context word is working\n",
      "context word is class\n",
      "target is kennings\n",
      "label is 0\n",
      "data 3 :\n",
      "context word is anarchism\n",
      "context word is originated\n",
      "context word is working\n",
      "context word is class\n",
      "target is chapleau\n",
      "label is 0\n",
      "data 4 :\n",
      "context word is anarchism\n",
      "context word is originated\n",
      "context word is working\n",
      "context word is class\n",
      "target is karnac\n",
      "label is 0\n",
      "data 5 :\n",
      "context word is anarchism\n",
      "context word is originated\n",
      "context word is working\n",
      "context word is class\n",
      "target is givelet\n",
      "label is 0\n"
     ]
    }
   ],
   "source": [
    "count=0\r\n",
    "for data_co in dataset[:5]:\r\n",
    "    count+=1\r\n",
    "    print(\"data %s :\" %count)\r\n",
    "    for i in data_co[0]:\r\n",
    "        print(\"context word is %s\" %id2word_dict[i])\r\n",
    "    print(\"target is %s\" %id2word_dict[data_co[1]])\r\n",
    "    print(\"label is %d\" %data_co[2])"
   ]
  },
  {
   "cell_type": "markdown",
   "metadata": {
    "collapsed": false
   },
   "source": [
    "\n",
    "\t描述的真实短句是：anarchism originated ---abuse--- used working\n",
    "    负样本有anarchism originated ---acknowledging--- used working等"
   ]
  },
  {
   "cell_type": "code",
   "execution_count": 18,
   "metadata": {
    "collapsed": false
   },
   "outputs": [
    {
     "name": "stdout",
     "output_type": "stream",
     "text": [
      "       0., 0., 0., 0., 0., 0., 0., 0., 0.], dtype=float32))\r"
     ]
    }
   ],
   "source": [
    "# 构造mini-batch，准备对模型进行训练\r\n",
    "# 我们将不同类型的数据放到不同的tensor里，便于神经网络进行处理\r\n",
    "# 并通过numpy的array函数，构造出不同的tensor来，并把这些tensor送入神经网络中进行训练\r\n",
    "def build_batch(dataset, batch_size, epoch_num):\r\n",
    "    \r\n",
    "    # context_word_batch缓存batch_size*context_num个词\r\n",
    "    context_word1_batch = []\r\n",
    "    context_word2_batch = []\r\n",
    "    context_word3_batch = []\r\n",
    "    context_word4_batch = []\r\n",
    "    # target_word_batch缓存batch_size个目标词（可以是正样本或者负样本）\r\n",
    "    target_word_batch = []\r\n",
    "    # label_batch缓存了batch_size个0或1的标签，用于模型训练\r\n",
    "    label_batch = []\r\n",
    "    \r\n",
    "    for epoch in range(epoch_num):\r\n",
    "        # 每次开启一个新epoch之前，都对数据进行一次随机打乱，提高训练效果\r\n",
    "        random.shuffle(dataset)\r\n",
    "        \r\n",
    "        for data_co in dataset:\r\n",
    "            context_words=data_co[0]\r\n",
    "            target_word=data_co[1]\r\n",
    "            label=data_co[2]\r\n",
    "\r\n",
    "            # 遍历dataset中的每个样本，并将这些数据送到不同的tensor里\r\n",
    "            context_word1_batch.append([context_words[0]])\r\n",
    "            context_word2_batch.append([context_words[0]])\r\n",
    "            context_word3_batch.append([context_words[0]])\r\n",
    "            context_word4_batch.append([context_words[0]])\r\n",
    "\r\n",
    "            target_word_batch.append([target_word])\r\n",
    "            label_batch.append(label)\r\n",
    "\r\n",
    "            # 当样本积攒到一个batch_size后，我们把数据都返回回来\r\n",
    "            # 在这里我们使用numpy的array函数把list封装成tensor\r\n",
    "            # 并使用python的迭代器机制，将数据yield出来\r\n",
    "            # 使用迭代器的好处是可以节省内存\r\n",
    "            if len(context_word4_batch) == batch_size:\r\n",
    "                yield np.array(context_word1_batch).astype(\"int64\"), \\\r\n",
    "                    np.array(context_word2_batch).astype(\"int64\"), \\\r\n",
    "                    np.array(context_word3_batch).astype(\"int64\"), \\\r\n",
    "                    np.array(context_word4_batch).astype(\"int64\"), \\\r\n",
    "                    np.array(target_word_batch).astype(\"int64\"), \\\r\n",
    "                    np.array(label_batch).astype(\"float32\")\r\n",
    "                \r\n",
    "                context_word1_batch = []\r\n",
    "                context_word2_batch = []\r\n",
    "                context_word3_batch = []\r\n",
    "                context_word4_batch = []\r\n",
    "                target_word_batch = []\r\n",
    "                label_batch = []\r\n",
    "\r\n",
    "    \"\"\"if len(center_word_batch) > 0:\r\n",
    "        yield np.array(context_word_batch).astype(\"int64\"), \\\r\n",
    "            np.array(target_word_batch).astype(\"int64\"), \\\r\n",
    "            np.array(label_batch).astype(\"float32\")\"\"\"\r\n",
    "\r\n",
    "for _, batch in zip(range(10), build_batch(dataset, 128, 3)):\r\n",
    "    print(batch)"
   ]
  },
  {
   "cell_type": "markdown",
   "metadata": {
    "collapsed": false
   },
   "source": [
    "# 模型构建\n",
    "![](https://ai-studio-static-online.cdn.bcebos.com/39709d4192014093a1c6c3d45a99ce2829087d1daa854dc3bdfb43cc7a97857f)\n",
    "\n",
    "\n",
    "如上所示：\n",
    "在本实验中，四个context_word经过四个embedding，经相加得到隐含层，再从隐含层到输出层\n",
    "\n",
    "这里和skip_word是不一样的"
   ]
  },
  {
   "cell_type": "code",
   "execution_count": 19,
   "metadata": {
    "collapsed": false
   },
   "outputs": [],
   "source": [
    "#定义CBOW训练网络结构\r\n",
    "#使用paddlepaddle的2.0.0版本\r\n",
    "#一般来说，在使用paddle训练的时候，我们需要通过一个类来定义网络结构，这个类继承了paddle.nn.layer\r\n",
    "class CBOW(paddle.nn.Layer):\r\n",
    "    def __init__(self, vocab_size, embedding_size, init_scale=0.1):\r\n",
    "        # vocab_size定义了CBOW这个模型的词表大小\r\n",
    "        # embedding_size定义了词向量的维度是多少\r\n",
    "        # init_scale定义了词向量初始化的范围，一般来说，比较小的初始化范围有助于模型训练\r\n",
    "        super(CBOW, self).__init__()\r\n",
    "        self.vocab_size = vocab_size\r\n",
    "        self.embedding_size = embedding_size\r\n",
    "\r\n",
    "        # 使用Embedding函数构造一个词向量参数\r\n",
    "        # 这个参数的大小为：[self.vocab_size, self.embedding_size]\r\n",
    "        # 数据类型为：float32\r\n",
    "        # 这个参数的初始化方式为在[-init_scale, init_scale]区间进行均匀采样\r\n",
    "        self.embedding1 = Embedding( \r\n",
    "            num_embeddings = self.vocab_size,\r\n",
    "            embedding_dim = self.embedding_size,\r\n",
    "            weight_attr=paddle.ParamAttr(\r\n",
    "                initializer=paddle.nn.initializer.Uniform( \r\n",
    "                    low=-init_scale, high=init_scale)))\r\n",
    "        self.embedding2 = Embedding( \r\n",
    "            num_embeddings = self.vocab_size,\r\n",
    "            embedding_dim = self.embedding_size,\r\n",
    "            weight_attr=paddle.ParamAttr(\r\n",
    "                initializer=paddle.nn.initializer.Uniform( \r\n",
    "                    low=-init_scale, high=init_scale)))\r\n",
    "        self.embedding3 = Embedding( \r\n",
    "            num_embeddings = self.vocab_size,\r\n",
    "            embedding_dim = self.embedding_size,\r\n",
    "            weight_attr=paddle.ParamAttr(\r\n",
    "                initializer=paddle.nn.initializer.Uniform( \r\n",
    "                    low=-init_scale, high=init_scale)))\r\n",
    "        self.embedding4 = Embedding( \r\n",
    "            num_embeddings = self.vocab_size,\r\n",
    "            embedding_dim = self.embedding_size,\r\n",
    "            weight_attr=paddle.ParamAttr(\r\n",
    "                initializer=paddle.nn.initializer.Uniform( \r\n",
    "                    low=-init_scale, high=init_scale)))\r\n",
    "        \r\n",
    "        # 使用Embedding函数构造另外一个词向量参数\r\n",
    "        # 这个参数的大小为：[self.vocab_size, self.embedding_size]\r\n",
    "        # 这个参数的初始化方式为在[-init_scale, init_scale]区间进行均匀采样\r\n",
    "        self.embedding_out = Embedding(\r\n",
    "            num_embeddings = self.vocab_size,\r\n",
    "            embedding_dim = self.embedding_size,\r\n",
    "            weight_attr=paddle.ParamAttr(\r\n",
    "                initializer=paddle.nn.initializer.Uniform(\r\n",
    "                    low=-init_scale, high=init_scale)))\r\n",
    "\r\n",
    "    # 定义网络的前向计算逻辑\r\n",
    "    # centext_word是四个tensor（mini-batch），表示上下文共四个词\r\n",
    "    # target_words是一个tensor（mini-batch），表示目标词\r\n",
    "    # label是一个tensor（mini-batch），表示这个词是正样本还是负样本（用0或1表示）\r\n",
    "    # 用于在训练中计算这个tensor中对应词的同义词，用于观察模型的训练效果\r\n",
    "\r\n",
    "    def forward(self, centext_word1,centext_word2,centext_word3,centext_word4,target_words, label):\r\n",
    "        # 首先，通过self.embedding参数，将mini-batch中的词转换为词向量\r\n",
    "        # 这里center_words和eval_words_emb查询的是一个相同的参数\r\n",
    "        # 而target_words_emb查询的是另一个参数\r\n",
    "\r\n",
    "        centext_word1=self.embedding1(centext_word1)\r\n",
    "        centext_word2=self.embedding2(centext_word2)\r\n",
    "        centext_word3=self.embedding3(centext_word3)\r\n",
    "        centext_word4=self.embedding4(centext_word4)\r\n",
    "        \r\n",
    "        context_words_emb=centext_word1+centext_word2+centext_word3+centext_word4\r\n",
    "        target_words_emb = self.embedding_out(target_words)\r\n",
    "\r\n",
    "        # 我们通过点乘的方式计算中心词到目标词的输出概率，并通过sigmoid函数估计这个词是正样本还是负样本的概率。\r\n",
    "        word_sim = paddle.multiply(context_words_emb, target_words_emb)\r\n",
    "        word_sim = paddle.sum(word_sim, axis=-1)\r\n",
    "        word_sim = paddle.reshape(word_sim, shape=[-1])\r\n",
    "        pred = F.sigmoid(word_sim)\r\n",
    "\r\n",
    "        # 通过估计的输出概率定义损失函数，注意我们使用的是binary_cross_entropy_with_logits函数\r\n",
    "        # 将sigmoid计算和cross entropy合并成一步计算可以更好的优化，所以输入的是word_sim，而不是pred\r\n",
    "        loss = F.binary_cross_entropy_with_logits(word_sim, label)\r\n",
    "        loss = paddle.mean(loss)\r\n",
    "\r\n",
    "        # 返回前向计算的结果，飞桨会通过backward函数自动计算出反向结果。\r\n",
    "        return pred, loss\r\n",
    "\r\n",
    "        "
   ]
  },
  {
   "cell_type": "code",
   "execution_count": 21,
   "metadata": {
    "collapsed": false
   },
   "outputs": [
    {
     "name": "stdout",
     "output_type": "stream",
     "text": [
      "step 1000, loss 0.694\n",
      "step 2000, loss 0.618\n",
      "step 3000, loss 0.476\n",
      "step 4000, loss 0.154\n",
      "step 5000, loss 0.147\n",
      "step 6000, loss 0.105\n",
      "step 7000, loss 0.022\n",
      "step 8000, loss 0.018\n",
      "step 9000, loss 0.018\n",
      "step 10000, loss 0.013\n",
      "for word movie, the similar word is movie\n",
      "for word movie, the similar word is shadowy\n",
      "for word movie, the similar word is comparison\n",
      "for word movie, the similar word is kibbutz\n",
      "for word movie, the similar word is ethereal\n",
      "for word one, the similar word is one\n",
      "for word one, the similar word is meets\n",
      "for word one, the similar word is technological\n",
      "for word one, the similar word is medecine\n",
      "for word one, the similar word is harlot\n",
      "for word chip, the similar word is chip\n",
      "for word chip, the similar word is permanent\n",
      "for word chip, the similar word is philosophically\n",
      "for word chip, the similar word is trail\n",
      "for word chip, the similar word is parlance\n"
     ]
    }
   ],
   "source": [
    "# 开始训练，定义一些训练过程中需要使用的超参数\r\n",
    "batch_size = 512\r\n",
    "epoch_num = 3\r\n",
    "embedding_size = 200\r\n",
    "step = 0\r\n",
    "learning_rate = 0.001\r\n",
    "\r\n",
    "#定义一个使用word-embedding查询同义词的函数\r\n",
    "#这个函数query_token是要查询的词，k表示要返回多少个最相似的词，embed是我们学习到的word-embedding参数\r\n",
    "#我们通过计算不同词之间的cosine距离，来衡量词和词的相似度\r\n",
    "#具体实现如下，x代表要查询词的Embedding，Embedding参数矩阵W代表所有词的Embedding\r\n",
    "#两者计算Cos得出所有词对查询词的相似度得分向量，排序取top_k放入indices列表\r\n",
    "\r\n",
    "def get_similar_tokens(query_token, k, embed1,embed2,embed3,embed4):\r\n",
    "    embed=embed1+embed2+embed3+embed4\r\n",
    "    W = embed.numpy()\r\n",
    "    x = W[word2id_dict[query_token]]\r\n",
    "    cos = np.dot(W, x) / np.sqrt(np.sum(W * W, axis=1) * np.sum(x * x) + 1e-9)\r\n",
    "    flat = cos.flatten()\r\n",
    "    indices = np.argpartition(flat, -k)[-k:]\r\n",
    "    indices = indices[np.argsort(-flat[indices])]\r\n",
    "    for i in indices:\r\n",
    "        print('for word %s, the similar word is %s' % (query_token, str(id2word_dict[i])))\r\n",
    "\r\n",
    "# 将模型放到GPU上训练\r\n",
    "paddle.set_device('gpu:0')\r\n",
    "\r\n",
    "\r\n",
    "CBOW_model = CBOW(vocab_size, embedding_size)\r\n",
    "\r\n",
    "# 构造训练这个网络的优化器\r\n",
    "adam = paddle.optimizer.Adam(learning_rate=learning_rate, parameters = CBOW_model.parameters())\r\n",
    "\r\n",
    "# 使用build_batch函数，以mini-batch为单位，遍历训练数据，并训练网络\r\n",
    "for context_word1,context_word2,context_word3,context_word4, target_words, label in build_batch(\r\n",
    "    dataset, batch_size, epoch_num):\r\n",
    "    # 使用paddle.to_tensor，将一个numpy的tensor，转换为飞桨可计算的tensor\r\n",
    "    context_word1 = paddle.to_tensor(context_word1)\r\n",
    "    context_word2 = paddle.to_tensor(context_word2)\r\n",
    "    context_word3 = paddle.to_tensor(context_word3)\r\n",
    "    context_word4 = paddle.to_tensor(context_word4)\r\n",
    "\r\n",
    "    target_words_var = paddle.to_tensor(target_words)\r\n",
    "    label_var = paddle.to_tensor(label)\r\n",
    "    \r\n",
    "    # 将转换后的tensor送入飞桨中，进行一次前向计算，并得到计算结果\r\n",
    "    pred, loss = CBOW_model(\r\n",
    "        context_word1,context_word2,context_word3,context_word4, target_words_var, label_var)\r\n",
    "\r\n",
    "    # 程序自动完成反向计算\r\n",
    "    loss.backward()\r\n",
    "    # 程序根据loss，完成一步对参数的优化更新\r\n",
    "    adam.step()\r\n",
    "    # 清空模型中的梯度，以便于下一个mini-batch进行更新\r\n",
    "    adam.clear_grad()\r\n",
    "\r\n",
    "    # 每经过100个mini-batch，打印一次当前的loss，看看loss是否在稳定下降\r\n",
    "    step += 1\r\n",
    "    if step % 1000 == 0:\r\n",
    "        print(\"step %d, loss %.3f\" % (step, loss.numpy()[0]))\r\n",
    "\r\n",
    "    # 每隔10000步，打印一次模型对以下查询词的相似词，这里我们使用词和词之间的向量点积作为衡量相似度的方法，只打印了5个最相似的词\r\n",
    "    if step % 10000 ==0:\r\n",
    "        get_similar_tokens('movie', 5, CBOW_model.embedding1.weight,CBOW_model.embedding2.weight,CBOW_model.embedding3.weight,CBOW_model.embedding4.weight)\r\n",
    "        get_similar_tokens('one', 5, CBOW_model.embedding1.weight,CBOW_model.embedding2.weight,CBOW_model.embedding3.weight,CBOW_model.embedding4.weight)\r\n",
    "        get_similar_tokens('chip', 5, CBOW_model.embedding1.weight,CBOW_model.embedding2.weight,CBOW_model.embedding3.weight,CBOW_model.embedding4.weight)"
   ]
  },
  {
   "cell_type": "markdown",
   "metadata": {
    "collapsed": false
   },
   "source": [
    "完成任务"
   ]
  }
 ],
 "metadata": {
  "kernelspec": {
   "display_name": "PaddlePaddle 2.1.0 (Python 3.5)",
   "language": "python",
   "name": "py35-paddle1.2.0"
  },
  "language_info": {
   "codemirror_mode": {
    "name": "ipython",
    "version": 3
   },
   "file_extension": ".py",
   "mimetype": "text/x-python",
   "name": "python",
   "nbconvert_exporter": "python",
   "pygments_lexer": "ipython3",
   "version": "3.7.4"
  }
 },
 "nbformat": 4,
 "nbformat_minor": 1
}
