{
 "cells": [
  {
   "cell_type": "code",
   "execution_count": 57,
   "metadata": {
    "collapsed": false
   },
   "outputs": [
    {
     "name": "stdout",
     "output_type": "stream",
     "text": [
      "data.txt\r\n"
     ]
    }
   ],
   "source": [
    "# 查看当前挂载的数据集目录, 该目录下的变更重启环境后会自动还原\n",
    "# View dataset directory. \n",
    "# This directory will be recovered automatically after resetting environment. \n",
    "!ls /home/aistudio/data"
   ]
  },
  {
   "cell_type": "code",
   "execution_count": 58,
   "metadata": {
    "collapsed": false
   },
   "outputs": [],
   "source": [
    "# 查看工作区文件, 该目录下的变更将会持久保存. 请及时清理不必要的文件, 避免加载过慢.\n",
    "# View personal work directory. \n",
    "# All changes under this directory will be kept even after reset. \n",
    "# Please clean unnecessary files in time to speed up environment loading. \n",
    "!ls /home/aistudio/work"
   ]
  },
  {
   "cell_type": "code",
   "execution_count": 59,
   "metadata": {
    "collapsed": false
   },
   "outputs": [
    {
     "name": "stdout",
     "output_type": "stream",
     "text": [
      "mkdir: cannot create directory ‘/home/aistudio/external-libraries’: File exists\n",
      "Looking in indexes: https://mirror.baidu.com/pypi/simple/\n",
      "Collecting beautifulsoup4\n",
      "\u001b[?25l  Downloading https://mirror.baidu.com/pypi/packages/d1/41/e6495bd7d3781cee623ce23ea6ac73282a373088fcd0ddc809a047b18eae/beautifulsoup4-4.9.3-py3-none-any.whl (115kB)\n",
      "\u001b[K     |████████████████████████████████| 122kB 12.7MB/s eta 0:00:01\n",
      "\u001b[?25hCollecting soupsieve>1.2; python_version >= \"3.0\" (from beautifulsoup4)\n",
      "  Downloading https://mirror.baidu.com/pypi/packages/36/69/d82d04022f02733bf9a72bc3b96332d360c0c5307096d76f6bb7489f7e57/soupsieve-2.2.1-py3-none-any.whl\n",
      "Installing collected packages: soupsieve, beautifulsoup4\n",
      "Successfully installed beautifulsoup4-4.9.3 soupsieve-2.2.1\n",
      "\u001b[33mWARNING: Target directory /home/aistudio/external-libraries/soupsieve-2.2.1.dist-info already exists. Specify --upgrade to force replacement.\u001b[0m\n",
      "\u001b[33mWARNING: Target directory /home/aistudio/external-libraries/beautifulsoup4-4.9.3.dist-info already exists. Specify --upgrade to force replacement.\u001b[0m\n",
      "\u001b[33mWARNING: Target directory /home/aistudio/external-libraries/bs4 already exists. Specify --upgrade to force replacement.\u001b[0m\n",
      "\u001b[33mWARNING: Target directory /home/aistudio/external-libraries/soupsieve already exists. Specify --upgrade to force replacement.\u001b[0m\n"
     ]
    }
   ],
   "source": [
    "# 如果需要进行持久化安装, 需要使用持久化路径, 如下方代码示例:\n",
    "# If a persistence installation is required, \n",
    "# you need to use the persistence path as the following: \n",
    "!mkdir /home/aistudio/external-libraries\n",
    "!pip install beautifulsoup4 -t /home/aistudio/external-libraries"
   ]
  },
  {
   "cell_type": "code",
   "execution_count": 60,
   "metadata": {
    "collapsed": false
   },
   "outputs": [],
   "source": [
    "# 同时添加如下代码, 这样每次环境(kernel)启动的时候只要运行下方代码即可: \n",
    "# Also add the following code, \n",
    "# so that every time the environment (kernel) starts, \n",
    "# just run the following code: \n",
    "import sys \n",
    "sys.path.append('/home/aistudio/external-libraries')"
   ]
  },
  {
   "cell_type": "code",
   "execution_count": 61,
   "metadata": {
    "collapsed": false
   },
   "outputs": [],
   "source": [
    "import numpy as np\r\n",
    "import matplotlib.pyplot as plt"
   ]
  },
  {
   "cell_type": "code",
   "execution_count": 62,
   "metadata": {
    "collapsed": false
   },
   "outputs": [],
   "source": [
    "#读取数据集\r\n",
    "data = np.loadtxt('./data/data.txt', delimiter=',')\r\n",
    "x, y = data[:, 0]/100, data[:, 1]/100"
   ]
  },
  {
   "cell_type": "code",
   "execution_count": 63,
   "metadata": {
    "collapsed": false
   },
   "outputs": [],
   "source": [
    "#获取数据个数\r\n",
    "m = len(y)\r\n",
    "#设输入层输入X第一列设为1，便于和网络参数的偏置项相乘\r\n",
    "X = np.ones((m, 2))\r\n",
    "X[:, 1] = data[:, 0]/100\r\n",
    "\r\n",
    "#初始网络参数\r\n",
    "theta = np.zeros((2, 1))\r\n",
    "\r\n",
    "\r\n",
    "#迭代次数和学习率\r\n",
    "iterations = 5000\r\n",
    "alpha = 0.01"
   ]
  },
  {
   "cell_type": "code",
   "execution_count": 64,
   "metadata": {
    "collapsed": false
   },
   "outputs": [],
   "source": [
    "def compute_cost(X, y, theta):\r\n",
    "    #计算线性回归的代价，均方误差代价函数\r\n",
    "    m = len(y)\r\n",
    "    J = 0.0\r\n",
    "\r\n",
    "    for i in range(m):\r\n",
    "        J = J + (theta[0] + theta[1] * X[i,1] - y[i])**2\r\n",
    "        \r\n",
    "    J=J/(2*m)\r\n",
    "    return J"
   ]
  },
  {
   "cell_type": "code",
   "execution_count": 54,
   "metadata": {
    "collapsed": false
   },
   "outputs": [],
   "source": [
    "def gradient_descent(X, y, theta, alpha, num_iters):\r\n",
    "    \"\"\"执行梯度下降算法来学习参数 theta。\"\"\"\r\n",
    "    m = len(y)\r\n",
    "    J_history = np.zeros((num_iters,))\r\n",
    "\r\n",
    "    for iter in range(num_iters):\r\n",
    "        # 计算给定 theta 参数下线性回归的梯度，实现梯度下降算法\r\n",
    "        j0=0\r\n",
    "        j1=0\r\n",
    "        for i in range(m):\r\n",
    "            j0=j0 + theta[0] + theta[1]*X[i,1] - y[i]\r\n",
    "        j0=j0/m\r\n",
    "        theta[0]=theta[0] - alpha * j0\r\n",
    "        for i in range(m):\r\n",
    "            j1=j1 + (theta[0] + theta[1]*X[i,1] - y[i]) * X[i,1]\r\n",
    "        j1=j1/m\r\n",
    "        theta[1]=theta[1] - alpha * j1\r\n",
    "        # 将各次迭代后的代价进行记录\r\n",
    "\r\n",
    "        J_history[iter] = compute_cost(X, y, theta)\r\n",
    "\r\n",
    "    return theta, J_history\r\n",
    "\r\n",
    "theta, J_history = gradient_descent(X, y, theta, alpha, iterations)\r\n",
    "print(theta)\r\n",
    "print(J_history)"
   ]
  },
  {
   "cell_type": "code",
   "execution_count": 55,
   "metadata": {
    "collapsed": false
   },
   "outputs": [],
   "source": [
    "def plot_data(x, y, theta):\r\n",
    "    plt.figure()\r\n",
    "    #绘制x与y的离散点图\r\n",
    "    \r\n",
    "    plt.xlabel(\"Influencing factors of housing price\")\r\n",
    "    plt.ylabel(\"housing price\")\r\n",
    "    plt.plot(x,y,\"rx\",markersize=2,markeredgewidth=1)\r\n",
    "\r\n",
    "    #绘制回归曲线\r\n",
    "    plot_regression(theta)\r\n",
    "    plt.show()\r\n",
    "\r\n",
    "def plot_regression(theta):\r\n",
    "    x = np.linspace(0, 200, 100)\r\n",
    "    y = lambda x: theta[1] * x + theta[0]\r\n",
    "    plt.plot(x, y(x), 'g')"
   ]
  },
  {
   "cell_type": "code",
   "execution_count": 56,
   "metadata": {
    "collapsed": false
   },
   "outputs": [],
   "source": [
    "#读取数据\r\n",
    "data = np.loadtxt('./data/data.txt', delimiter=',')\r\n",
    "x1, y1 = data[:, 0], data[:, 1]\r\n",
    "#绘制数据散点图和回归曲线于同一幅图像中\r\n",
    "plot_data(x1, y1, theta)\r\n",
    "plt.show()"
   ]
  },
  {
   "cell_type": "markdown",
   "metadata": {
    "collapsed": false
   },
   "source": [
    "请点击[此处](https://ai.baidu.com/docs#/AIStudio_Project_Notebook/a38e5576)查看本环境基本用法.  <br>\n",
    "Please click [here ](https://ai.baidu.com/docs#/AIStudio_Project_Notebook/a38e5576) for more detailed instructions. "
   ]
  }
 ],
 "metadata": {
  "kernelspec": {
   "display_name": "PaddlePaddle 2.1.0 (Python 3.5)",
   "language": "python",
   "name": "py35-paddle1.2.0"
  },
  "language_info": {
   "codemirror_mode": {
    "name": "ipython",
    "version": 3
   },
   "file_extension": ".py",
   "mimetype": "text/x-python",
   "name": "python",
   "nbconvert_exporter": "python",
   "pygments_lexer": "ipython3",
   "version": "3.7.4"
  }
 },
 "nbformat": 4,
 "nbformat_minor": 1
}
