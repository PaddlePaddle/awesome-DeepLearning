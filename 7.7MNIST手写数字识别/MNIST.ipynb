{
 "cells": [
  {
   "cell_type": "code",
   "execution_count": null,
   "metadata": {
    "collapsed": false
   },
   "outputs": [
    {
     "name": "stdout",
     "output_type": "stream",
     "text": [
      "data65\r\n"
     ]
    }
   ],
   "source": [
    "# 查看当前挂载的数据集目录, 该目录下的变更重启环境后会自动还原\n",
    "# View dataset directory. \n",
    "# This directory will be recovered automatically after resetting environment. \n",
    "!ls /home/aistudio/data"
   ]
  },
  {
   "cell_type": "code",
   "execution_count": null,
   "metadata": {
    "collapsed": false
   },
   "outputs": [],
   "source": [
    "# 查看工作区文件, 该目录下的变更将会持久保存. 请及时清理不必要的文件, 避免加载过慢.\n",
    "# View personal work directory. \n",
    "# All changes under this directory will be kept even after reset. \n",
    "# Please clean unnecessary files in time to speed up environment loading. \n",
    "!ls /home/aistudio/work"
   ]
  },
  {
   "cell_type": "code",
   "execution_count": null,
   "metadata": {
    "collapsed": false
   },
   "outputs": [],
   "source": [
    "# 同时添加如下代码, 这样每次环境(kernel)启动的时候只要运行下方代码即可: \n",
    "# Also add the following code, \n",
    "# so that every time the environment (kernel) starts, \n",
    "# just run the following code: \n",
    "import sys \n",
    "sys.path.append('/home/aistudio/data')"
   ]
  },
  {
   "cell_type": "code",
   "execution_count": null,
   "metadata": {
    "collapsed": false
   },
   "outputs": [
    {
     "name": "stderr",
     "output_type": "stream",
     "text": [
      "/opt/conda/envs/python35-paddle120-env/lib/python3.7/site-packages/matplotlib/__init__.py:107: DeprecationWarning: Using or importing the ABCs from 'collections' instead of from 'collections.abc' is deprecated, and in 3.8 it will stop working\n",
      "  from collections import MutableMapping\n",
      "/opt/conda/envs/python35-paddle120-env/lib/python3.7/site-packages/matplotlib/rcsetup.py:20: DeprecationWarning: Using or importing the ABCs from 'collections' instead of from 'collections.abc' is deprecated, and in 3.8 it will stop working\n",
      "  from collections import Iterable, Mapping\n",
      "/opt/conda/envs/python35-paddle120-env/lib/python3.7/site-packages/matplotlib/colors.py:53: DeprecationWarning: Using or importing the ABCs from 'collections' instead of from 'collections.abc' is deprecated, and in 3.8 it will stop working\n",
      "  from collections import Sized\n"
     ]
    }
   ],
   "source": [
    "#加载飞桨和相关类库\r\n",
    "import paddle\r\n",
    "import paddle.nn as nn\r\n",
    "from paddle.nn import Linear\r\n",
    "import paddle.nn.functional as F\r\n",
    "import os\r\n",
    "import numpy as np\r\n",
    "import matplotlib.pyplot as plt"
   ]
  },
  {
   "cell_type": "code",
   "execution_count": null,
   "metadata": {
    "collapsed": false
   },
   "outputs": [],
   "source": [
    "# 设置数据读取器，API自动读取MNIST数据训练集\r\n",
    "train_dataset = paddle.vision.datasets.MNIST(mode='train')"
   ]
  },
  {
   "cell_type": "code",
   "execution_count": null,
   "metadata": {
    "collapsed": false
   },
   "outputs": [
    {
     "name": "stderr",
     "output_type": "stream",
     "text": [
      "/opt/conda/envs/python35-paddle120-env/lib/python3.7/site-packages/matplotlib/cbook/__init__.py:2349: DeprecationWarning: Using or importing the ABCs from 'collections' instead of from 'collections.abc' is deprecated, and in 3.8 it will stop working\n",
      "  if isinstance(obj, collections.Iterator):\n",
      "/opt/conda/envs/python35-paddle120-env/lib/python3.7/site-packages/matplotlib/cbook/__init__.py:2366: DeprecationWarning: Using or importing the ABCs from 'collections' instead of from 'collections.abc' is deprecated, and in 3.8 it will stop working\n",
      "  return list(data) if isinstance(data, collections.MappingView) else data\n",
      "/opt/conda/envs/python35-paddle120-env/lib/python3.7/site-packages/numpy/lib/type_check.py:546: DeprecationWarning: np.asscalar(a) is deprecated since NumPy v1.16, use a.item() instead\n",
      "  'a.item() instead', DeprecationWarning, stacklevel=1)\n"
     ]
    },
    {
     "data": {
      "text/plain": [
       "<Figure size 432x288 with 0 Axes>"
      ]
     },
     "metadata": {},
     "output_type": "display_data"
    },
    {
     "data": {
      "image/png": "[encoded data removed]",
      "text/plain": [
       "<Figure size 144x144 with 1 Axes>"
      ]
     },
     "metadata": {},
     "output_type": "display_data"
    },
    {
     "name": "stdout",
     "output_type": "stream",
     "text": [
      "图像数据形状和对应数据为: (28, 28)\n",
      "图像标签形状和对应数据为: (1,) [5]\n",
      "\n",
      "打印第一个batch的第一个图像，对应标签数字为[5]\n"
     ]
    }
   ],
   "source": [
    "train_data0 = np.array(train_dataset[0][0])\r\n",
    "train_label_0 = np.array(train_dataset[0][1])\r\n",
    "\r\n",
    "# 显示第一batch的第一个图像\r\n",
    "plt.figure(\"Image\") # 图像窗口名称\r\n",
    "plt.figure(figsize=(2,2))\r\n",
    "plt.imshow(train_data0, cmap=plt.cm.binary)\r\n",
    "plt.axis('on') # 关掉坐标轴为 off\r\n",
    "plt.title('image') # 图像题目\r\n",
    "plt.show()\r\n",
    "\r\n",
    "print(\"图像数据形状和对应数据为:\", train_data0.shape)\r\n",
    "print(\"图像标签形状和对应数据为:\", train_label_0.shape, train_label_0)\r\n",
    "print(\"\\n打印第一个batch的第一个图像，对应标签数字为{}\".format(train_label_0))"
   ]
  },
  {
   "cell_type": "code",
   "execution_count": 27,
   "metadata": {
    "collapsed": false
   },
   "outputs": [],
   "source": [
    "#搭建网络\r\n",
    "class InceptionA(paddle.nn.Layer):\r\n",
    "    def __init__(self,in_channels):\r\n",
    "        super(InceptionA,self).__init__()\r\n",
    "        self.conv11_1=nn.Conv2D(in_channels,16,1)\r\n",
    "        self.conv33_1=nn.Conv2D(16,24,3,padding=1)\r\n",
    "        self.conv333_1=nn.Conv2D(24,24,3,padding=1)\r\n",
    "        \r\n",
    "        self.conv11_2=nn.Conv2D(in_channels,16,1)\r\n",
    "        self.conv55_2=nn.Conv2D(16,24,5,padding=2)\r\n",
    "        \r\n",
    "        self.conv11_3=nn.Conv2D(in_channels,16,1)\r\n",
    "        \r\n",
    "        self.conv11_4=nn.Conv2D(in_channels,24,1)\r\n",
    "        self.pool_4=nn.AvgPool2D(kernel_size=3,stride=1,padding=1)\r\n",
    "    def forward(self,x):\r\n",
    "        x1=self.conv11_1(x)\r\n",
    "        x1=self.conv33_1(x1)\r\n",
    "        x1=self.conv333_1(x1)\r\n",
    "        \r\n",
    "        x2=self.conv11_2(x)\r\n",
    "        x2=self.conv55_2(x2)\r\n",
    "        \r\n",
    "        x3=self.conv11_3(x)\r\n",
    "        \r\n",
    "        x4=self.pool_4(x)\r\n",
    "        x4=self.conv11_4(x4)\r\n",
    "        \r\n",
    "        x=[x1,x2,x3,x4]\r\n",
    "        return (paddle.concat(x,axis=1))\r\n",
    "        \r\n",
    "class MNIST(nn.Layer):\r\n",
    "    def __init__(self):\r\n",
    "        super(MNIST,self).__init__()\r\n",
    "        self.conv1=nn.Conv2D(1,10,5)\r\n",
    "        self.conv2=nn.Conv2D(88,20,5)\r\n",
    "        self.pool=nn.MaxPool2D(2,2)\r\n",
    "        \r\n",
    "        self.incep1=InceptionA(in_channels=10)\r\n",
    "        self.incep2=InceptionA(in_channels=20)\r\n",
    "        \r\n",
    "        self.fc1=nn.Linear(1408,512)\r\n",
    "        self.fc2=nn.Linear(512,10)\r\n",
    "        \r\n",
    "    def forward(self,x):\r\n",
    "        x=self.pool(self.conv1(x))\r\n",
    "        x=F.relu(x)\r\n",
    "        x=self.incep1(x)\r\n",
    "        x=F.relu(self.pool(self.conv2(x)))\r\n",
    "        x=self.incep2(x)\r\n",
    "        x=paddle.fluid.layers.reshape(x,shape=[-1,1408])\r\n",
    "        \r\n",
    "        x=self.fc1(x)\r\n",
    "        x=self.fc2(x)\r\n",
    "        return x\r\n"
   ]
  },
  {
   "cell_type": "code",
   "execution_count": 28,
   "metadata": {
    "collapsed": false
   },
   "outputs": [],
   "source": [
    "# 声明网络结构\r\n",
    "model = MNIST()\r\n",
    "\r\n",
    "def train(model):\r\n",
    "    # 启动训练模式\r\n",
    "    model.train()\r\n",
    "    # 加载训练集 batch_size 设为 16\r\n",
    "    train_loader = paddle.io.DataLoader(paddle.vision.datasets.MNIST(mode='train'), \r\n",
    "                                        batch_size=16, \r\n",
    "                                        shuffle=True)\r\n",
    "    # 定义优化器，使用随机梯度下降SGD优化器，学习率设置为0.001\r\n",
    "    opt = paddle.optimizer.SGD(learning_rate=0.001, parameters=model.parameters())"
   ]
  },
  {
   "cell_type": "code",
   "execution_count": 29,
   "metadata": {
    "collapsed": false
   },
   "outputs": [],
   "source": [
    "# 图像归一化函数，将数据范围为[0, 255]的图像归一化到[-1, 1]\r\n",
    "def norm_img(img):\r\n",
    "    # 验证传入数据格式是否正确，img的shape为[batch_size, 28, 28]\r\n",
    "    assert len(img.shape) == 3\r\n",
    "    batch_size, img_h, img_w = img.shape[0], img.shape[1], img.shape[2]\r\n",
    "    # 归一化图像数据\r\n",
    "    img = img/127.5 - 1\r\n",
    "    # 将图像形式reshape为[batch_size, 784]\r\n",
    "    img = paddle.reshape(img, [batch_size,1, img_h, img_w])\r\n",
    "    \r\n",
    "    return img"
   ]
  },
  {
   "cell_type": "code",
   "execution_count": 34,
   "metadata": {
    "collapsed": false
   },
   "outputs": [
    {
     "ename": "AssertionError",
     "evalue": "only one element variable can be converted to int.",
     "output_type": "error",
     "traceback": [
      "\u001b[0;31m---------------------------------------------------------------------------\u001b[0m",
      "\u001b[0;31mAssertionError\u001b[0m                            Traceback (most recent call last)",
      "\u001b[0;32m<ipython-input-34-7c9aaacda0b8>\u001b[0m in \u001b[0;36m<module>\u001b[0;34m\u001b[0m\n\u001b[1;32m     37\u001b[0m             \u001b[0mopt\u001b[0m\u001b[0;34m.\u001b[0m\u001b[0mclear_grad\u001b[0m\u001b[0;34m(\u001b[0m\u001b[0;34m)\u001b[0m\u001b[0;34m\u001b[0m\u001b[0;34m\u001b[0m\u001b[0m\n\u001b[1;32m     38\u001b[0m \u001b[0;34m\u001b[0m\u001b[0m\n\u001b[0;32m---> 39\u001b[0;31m \u001b[0mtrain\u001b[0m\u001b[0;34m(\u001b[0m\u001b[0mmodel\u001b[0m\u001b[0;34m)\u001b[0m\u001b[0;34m\u001b[0m\u001b[0;34m\u001b[0m\u001b[0m\n\u001b[0m\u001b[1;32m     40\u001b[0m \u001b[0mpaddle\u001b[0m\u001b[0;34m.\u001b[0m\u001b[0msave\u001b[0m\u001b[0;34m(\u001b[0m\u001b[0mmodel\u001b[0m\u001b[0;34m.\u001b[0m\u001b[0mstate_dict\u001b[0m\u001b[0;34m(\u001b[0m\u001b[0;34m)\u001b[0m\u001b[0;34m,\u001b[0m \u001b[0;34m'./mnist.pdparams'\u001b[0m\u001b[0;34m)\u001b[0m\u001b[0;34m\u001b[0m\u001b[0;34m\u001b[0m\u001b[0m\n",
      "\u001b[0;32m<ipython-input-34-7c9aaacda0b8>\u001b[0m in \u001b[0;36mtrain\u001b[0;34m(model)\u001b[0m\n\u001b[1;32m     23\u001b[0m \u001b[0;34m\u001b[0m\u001b[0m\n\u001b[1;32m     24\u001b[0m             \u001b[0;31m# 计算损失\u001b[0m\u001b[0;34m\u001b[0m\u001b[0;34m\u001b[0m\u001b[0;34m\u001b[0m\u001b[0m\n\u001b[0;32m---> 25\u001b[0;31m             \u001b[0mpredicts\u001b[0m\u001b[0;34m=\u001b[0m\u001b[0mint\u001b[0m\u001b[0;34m(\u001b[0m\u001b[0mpredicts\u001b[0m\u001b[0;34m)\u001b[0m\u001b[0;34m\u001b[0m\u001b[0;34m\u001b[0m\u001b[0m\n\u001b[0m\u001b[1;32m     26\u001b[0m             \u001b[0mloss\u001b[0m \u001b[0;34m=\u001b[0m \u001b[0mF\u001b[0m\u001b[0;34m.\u001b[0m\u001b[0mcross_entropy\u001b[0m\u001b[0;34m(\u001b[0m\u001b[0mpredicts\u001b[0m\u001b[0;34m,\u001b[0m \u001b[0mlabels\u001b[0m\u001b[0;34m)\u001b[0m\u001b[0;34m\u001b[0m\u001b[0;34m\u001b[0m\u001b[0m\n\u001b[1;32m     27\u001b[0m             \u001b[0mavg_loss\u001b[0m \u001b[0;34m=\u001b[0m \u001b[0mpaddle\u001b[0m\u001b[0;34m.\u001b[0m\u001b[0mmean\u001b[0m\u001b[0;34m(\u001b[0m\u001b[0mloss\u001b[0m\u001b[0;34m)\u001b[0m\u001b[0;34m\u001b[0m\u001b[0;34m\u001b[0m\u001b[0m\n",
      "\u001b[0;32m/opt/conda/envs/python35-paddle120-env/lib/python3.7/site-packages/paddle/fluid/dygraph/math_op_patch.py\u001b[0m in \u001b[0;36m_int_\u001b[0;34m(var)\u001b[0m\n\u001b[1;32m    131\u001b[0m     \u001b[0;32mdef\u001b[0m \u001b[0m_int_\u001b[0m\u001b[0;34m(\u001b[0m\u001b[0mvar\u001b[0m\u001b[0;34m)\u001b[0m\u001b[0;34m:\u001b[0m\u001b[0;34m\u001b[0m\u001b[0;34m\u001b[0m\u001b[0m\n\u001b[1;32m    132\u001b[0m         \u001b[0mnumel\u001b[0m \u001b[0;34m=\u001b[0m \u001b[0mnp\u001b[0m\u001b[0;34m.\u001b[0m\u001b[0mprod\u001b[0m\u001b[0;34m(\u001b[0m\u001b[0mvar\u001b[0m\u001b[0;34m.\u001b[0m\u001b[0mshape\u001b[0m\u001b[0;34m)\u001b[0m\u001b[0;34m\u001b[0m\u001b[0;34m\u001b[0m\u001b[0m\n\u001b[0;32m--> 133\u001b[0;31m         \u001b[0;32massert\u001b[0m \u001b[0mnumel\u001b[0m \u001b[0;34m==\u001b[0m \u001b[0;36m1\u001b[0m\u001b[0;34m,\u001b[0m \u001b[0;34m\"only one element variable can be converted to int.\"\u001b[0m\u001b[0;34m\u001b[0m\u001b[0;34m\u001b[0m\u001b[0m\n\u001b[0m\u001b[1;32m    134\u001b[0m         \u001b[0mtensor\u001b[0m \u001b[0;34m=\u001b[0m \u001b[0mvar\u001b[0m\u001b[0;34m.\u001b[0m\u001b[0mvalue\u001b[0m\u001b[0;34m(\u001b[0m\u001b[0;34m)\u001b[0m\u001b[0;34m.\u001b[0m\u001b[0mget_tensor\u001b[0m\u001b[0;34m(\u001b[0m\u001b[0;34m)\u001b[0m\u001b[0;34m\u001b[0m\u001b[0;34m\u001b[0m\u001b[0m\n\u001b[1;32m    135\u001b[0m         \u001b[0;32massert\u001b[0m \u001b[0mtensor\u001b[0m\u001b[0;34m.\u001b[0m\u001b[0m_is_initialized\u001b[0m\u001b[0;34m(\u001b[0m\u001b[0;34m)\u001b[0m\u001b[0;34m,\u001b[0m \u001b[0;34m\"variable's tensor is not initialized\"\u001b[0m\u001b[0;34m\u001b[0m\u001b[0;34m\u001b[0m\u001b[0m\n",
      "\u001b[0;31mAssertionError\u001b[0m: only one element variable can be converted to int."
     ]
    }
   ],
   "source": [
    "# 确保从paddle.vision.datasets.MNIST中加载的图像数据是np.ndarray类型\r\n",
    "paddle.vision.set_image_backend('cv2')\r\n",
    "\r\n",
    "def train(model):\r\n",
    "    model.train()\r\n",
    "    # 加载训练集 batch_size 设为 16\r\n",
    "    opt = paddle.optimizer.SGD(learning_rate=0.001, parameters=model.parameters())\r\n",
    "    EPOCH_NUM = 3\r\n",
    "    Loss=[]\r\n",
    "    for epoch in range(EPOCH_NUM):\r\n",
    "        train_loader = paddle.io.DataLoader(paddle.vision.datasets.MNIST(mode='train'), batch_size=16,  shuffle=True)\r\n",
    "        for batch_id, data in enumerate(train_loader):\r\n",
    "            images = norm_img(data[0]).astype('float32')\r\n",
    "            labels = data[1].astype('float32')\r\n",
    "            images=paddle.to_tensor(images)\r\n",
    "            labels=paddle.to_tensor(labels)\r\n",
    "            #前向计算的过程\r\n",
    "            predicts = model(images)\r\n",
    "            #print()\r\n",
    "            #y_pre=paddle.max(predicts,axis=1)\r\n",
    "            #print(labels)\r\n",
    "            #print(y_pre)\r\n",
    "            \r\n",
    "            # 计算损失\r\n",
    "            loss = F.cross_entropy(predicts, labels)\r\n",
    "            avg_loss = paddle.mean(loss)\r\n",
    "            Loss.append(avg_loss)\r\n",
    "            \r\n",
    "            #每训练了1000批次的数据，打印下当前Loss的情况\r\n",
    "            if batch_id % 1000 == 0:\r\n",
    "                print(\"epoch_id: {}, batch_id: {}, loss is: {}\".format(epoch, batch_id, avg_loss.numpy()))\r\n",
    "            \r\n",
    "            #后向传播，更新参数的过程\r\n",
    "            avg_loss.backward()\r\n",
    "            opt.step()\r\n",
    "            opt.clear_grad()\r\n",
    "            \r\n",
    "train(model)\r\n",
    "paddle.save(model.state_dict(), './mnist.pdparams')"
   ]
  },
  {
   "cell_type": "markdown",
   "metadata": {
    "collapsed": false
   },
   "source": [
    "请点击[此处](https://ai.baidu.com/docs#/AIStudio_Project_Notebook/a38e5576)查看本环境基本用法.  <br>\n",
    "Please click [here ](https://ai.baidu.com/docs#/AIStudio_Project_Notebook/a38e5576) for more detailed instructions. "
   ]
  }
 ],
 "metadata": {
  "kernelspec": {
   "display_name": "PaddlePaddle 2.1.0 (Python 3.5)",
   "language": "python",
   "name": "py35-paddle1.2.0"
  }
 },
 "nbformat": 4,
 "nbformat_minor": 1
}
