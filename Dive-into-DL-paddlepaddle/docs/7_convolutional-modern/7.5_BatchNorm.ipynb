{
 "cells": [
  {
   "cell_type": "markdown",
   "metadata": {
    "collapsed": false
   },
   "source": [
    "# 批量归一化\n",
    ":label:`sec_batch_norm`\n",
    "\n",
    "训练深层神经网络是十分困难的，特别是在较短的时间内使他们收敛更加棘手。\n",
    "在本节中，我们将介绍 *批量归一化*（batch normalization） :cite:`Ioffe.Szegedy.2015` ，这是一种流行且有效的技术，可持续加速深层网络的收敛速度。\n",
    "再结合在 :numref:`sec_resnet` 中将介绍的残差块，批量归一化使得研究人员能够训练 100 层以上的网络。\n",
    "\n",
    "## 训练深层网络\n",
    "\n",
    "为什么需要批量归一化层呢？让我们来回顾一下训练神经网络时出现的一些实际挑战。\n",
    "\n",
    "首先，数据预处理的方式通常会对最终结果产生巨大影响。\n",
    "回想一下我们应用多层感知机来预测房价的例子（ :numref:`sec_kaggle_house` ）。\n",
    "使用真实数据时，我们的第一步是标准化输入特征，使其平均值为0，方差为1。\n",
    "直观地说，这种标准化可以很好地与我们的优化器配合使用，因为它可以将参数的量级进行统一。\n",
    "\n",
    "第二，对于典型的多层感知机或卷积神经网络。当我们训练时，中间层中的变量（例如，多层感知机中的仿射变换输出）可能具有更广的变化范围：不论是沿着从输入到输出的层，跨同一层中的单元，或是随着时间的推移，模型参数的随着训练更新变幻莫测。\n",
    "批量归一化的发明者非正式地假设，这些变量分布中的这种偏移可能会阻碍网络的收敛。\n",
    "直观地说，我们可能会猜想，如果一个层的可变值是另一层的 100 倍，这可能需要对学习率进行补偿调整。\n",
    "\n",
    "第三，更深层的网络很复杂，容易过拟合。\n",
    "这意味着正则化变得更加重要。\n",
    "\n",
    "批量归一化应用于单个可选层（也可以应用到所有层），其原理如下：在每次训练迭代中，我们首先归一化输入，即通过减去其均值并除以其标准差，其中两者均基于当前小批量处理。\n",
    "接下来，我们应用比例系数和比例偏移。\n",
    "正是由于这个基于*批量*统计的*标准化*，才有了*批量归一化*的名称。\n",
    "\n",
    "请注意，如果我们尝试使用大小为 1 的小批量应用批量归一化，我们将无法学到任何东西。\n",
    "这是因为在减去均值之后，每个隐藏单元将为 0。\n",
    "所以，只有使用足够大的小批量，批量归一化这种方法才是有效且稳定的。\n",
    "请注意，在应用批量归一化时，批量大小的选择可能比没有批量归一化时更重要。\n",
    "\n",
    "从形式上来说，用 $\\mathbf{x} \\in \\mathcal{B}$ 表示一个来自小批量 $\\mathcal{B}$ 的输入，批量归一化 $\\mathrm{BN}$ 根据以下表达式转换 $\\mathbf{x}$：\n",
    "\n",
    "$$\\mathrm{BN}(\\mathbf{x}) = \\boldsymbol{\\gamma} \\odot \\frac{\\mathbf{x} - \\hat{\\boldsymbol{\\mu}}_\\mathcal{B}}{\\hat{\\boldsymbol{\\sigma}}_\\mathcal{B}} + \\boldsymbol{\\beta}.$$\n",
    ":eqlabel:`eq_batchnorm`\n",
    "\n",
    "在 :eqref:`eq_batchnorm` 中，$\\hat{\\boldsymbol{\\mu}}_\\mathcal{B}$ 是样本均值，$\\hat{\\boldsymbol{\\sigma}}_\\mathcal{B}$ 是小批量 $\\mathcal{B}$ 的样本标准差。\n",
    "应用标准化后，生成的小批量的平均值为 0 和单位方差为 1。\n",
    "由于单位方差（与其他一些魔法数）是一个任意的选择，因此我们通常包含\n",
    "*拉伸参数*（scale） $\\boldsymbol{\\gamma}$ 和 *偏移参数*（shift） $\\boldsymbol{\\beta}$，它们的形状与 $\\mathbf{x}$ 相同。\n",
    "请注意，$\\boldsymbol{\\gamma}$ 和 $\\boldsymbol{\\beta}$ 是需要与其他模型参数一起学习的参数。\n",
    "\n",
    "由于在训练过程中，中间层的变化幅度不能过于剧烈，而批量归一化将每一层主动居中，并将它们重新调整为给定的平均值和大小（通过 $\\hat{\\boldsymbol{\\mu}}_\\mathcal{B}$ 和 ${\\hat{\\boldsymbol{\\sigma}}_\\mathcal{B}}$）。\n",
    "\n",
    "从形式上来看，我们计算出 :eqref:`eq_batchnorm` 中的 $\\hat{\\boldsymbol{\\mu}}_\\mathcal{B}$ 和 ${\\hat{\\boldsymbol{\\sigma}}_\\mathcal{B}}$，如下所示：\n",
    "\n",
    "$$\\begin{aligned} \\hat{\\boldsymbol{\\mu}}_\\mathcal{B} &= \\frac{1}{|\\mathcal{B}|} \\sum_{\\mathbf{x} \\in \\mathcal{B}} \\mathbf{x},\\\\\n",
    "\\hat{\\boldsymbol{\\sigma}}_\\mathcal{B}^2 &= \\frac{1}{|\\mathcal{B}|} \\sum_{\\mathbf{x} \\in \\mathcal{B}} (\\mathbf{x} - \\hat{\\boldsymbol{\\mu}}_{\\mathcal{B}})^2 + \\epsilon.\\end{aligned}$$\n",
    "\n",
    "请注意，我们在方差估计值中添加一个小常量 $\\epsilon > 0$，以确保我们永远不会尝试除以零，即使在经验方差估计值可能消失的情况下也是如此。估计值 $\\hat{\\boldsymbol{\\mu}}_\\mathcal{B}$ 和 ${\\hat{\\boldsymbol{\\sigma}}_\\mathcal{B}}$ 通过使用平均值和方差的噪声（noise）估计来抵消缩放问题。\n",
    "你可能会认为这种噪声是一个问题，而事实上它是有益的。\n",
    "\n",
    "事实证明，这是深度学习中一个反复出现的主题。\n",
    "由于理论上尚未明确表述的原因，优化中的各种噪声源通常会导致更快的训练和较少的过拟合：这种变化似乎是正则化的一种形式。\n",
    "在一些初步研究中， :cite:`Teye.Azizpour.Smith.2018` 和 :cite:`Luo.Wang.Shao.ea.2018` 分别将批量归一化的性质与贝叶斯先验相关联。\n",
    "这些理论揭示了为什么批量归一化最适应 $50 \\sim 100$ 范围中的中等小批量尺寸的难题。\n",
    "\n",
    "另外，批量归一化图层在”训练模式“（通过小批量统计数据归一化）和“预测模式”（通过数据集统计归一化）中的功能不同。\n",
    "在训练过程中，我们无法得知使用整个数据集来估计平均值和方差，所以只能根据每个小批次的平均值和方差不断训练模型。\n",
    "而在预测模式下，可以根据整个数据集精确计算批量归一化所需的平均值和方差。\n",
    "\n",
    "现在，我们了解一下批量归一化在实践中是如何工作的。\n",
    "\n",
    "\n",
    "## 批量归一化层\n",
    "\n",
    "回想一下，批量归一化和其他图层之间的一个关键区别是，由于批量归一化在完整的小批次上运行，因此我们不能像以前在引入其他图层时那样忽略批处理的尺寸大小。\n",
    "我们在下面讨论这两种情况：全连接层和卷积层，他们的批量归一化实现略有不同。\n",
    "\n",
    "\n",
    "### 全连接层\n",
    "\n",
    "通常，我们将批量归一化层置于全连接层中的仿射变换和激活函数之间。\n",
    "设全连接层的输入为 u ，权重参数和偏置参数分别为 $\\mathbf{W}$ 和 $\\mathbf{b}$ ，激活函数为 $\\phi$ ，批量归一化的运算符为 $\\mathrm{BN}$ 。\n",
    "那么，使用批量归一化的全连接层的输出的计算详情如下：\n",
    "\n",
    "$$\\mathbf{h} = \\phi(\\mathrm{BN}(\\mathbf{W}\\mathbf{x} + \\mathbf{b}) ).$$\n",
    "\n",
    "回想一下，均值和方差是在应用变换的\"相同\"小批量上计算的。\n",
    "\n",
    "\n",
    "### 卷积层\n",
    "\n",
    "同样，对于卷积层，我们可以在卷积层之后和非线性激活函数之前应用批量归一化。\n",
    "当卷积有多个输出通道时，我们需要对这些通道的“每个”输出执行批量归一化，每个通道都有自己的拉伸（scale）和偏移（shift）参数，这两个参数都是标量。\n",
    "假设我们的微批次包含 $m$ 个示例，并且对于每个通道，卷积的输出具有高度 $p$ 和宽度 $q$。\n",
    "那么对于卷积层，我们在每个输出通道的 $m \\cdot p \\cdot q$ 个元素上同时执行每个批量归一化。\n",
    "因此，在计算平均值和方差时，我们会收集所有空间位置的值，然后在给定通道内应用相同的均值和方差，以便在每个空间位置对值进行归一化。\n",
    "\n",
    "\n",
    "### 预测过程中的批量归一化\n",
    "\n",
    "正如我们前面提到的，批量归一化在训练模式和预测模式下的行为通常不同。\n",
    "首先，将训练好的模型用于预测时，我们不再需要样本均值中的噪声以及在微批次上估计每个小批次产生的样本方差了。\n",
    "其次，例如，我们可能需要使用我们的模型对逐个样本进行预测。\n",
    "一种常用的方法是通过移动平均估算整个训练数据集的样本均值和方差，并在预测时使用它们得到确定的输出。\n",
    "可见，和 dropout 一样，批量归一化层在训练模式和预测模式下的计算结果也是不一样的。\n",
    "\n",
    "\n",
    "\n",
    "## (**从零实现**)\n",
    "\n",
    "下面，我们从头开始实现一个具有张量的批量归一化层。\n"
   ]
  },
  {
   "cell_type": "code",
   "execution_count": 1,
   "metadata": {
    "collapsed": false
   },
   "outputs": [],
   "source": [
    "import numpy as np\r\n",
    "import paddle\r\n",
    "import paddle.nn as nn\r\n",
    "import warnings\r\n",
    "warnings.filterwarnings(\"ignore\", category=Warning) # 过滤报警信息\r\n",
    "\r\n",
    "def batch_norm(X, gamma, beta, moving_mean, moving_var, eps, momentum, is_training=True):\r\n",
    "    # 训练模式还与预测模式的BN处理不同\r\n",
    "    if not is_training:\r\n",
    "        # 如果是在预测模式下，直接使用传入的移动平均所得的均值和方差\r\n",
    "        X_hat = (X - moving_mean) / (moving_var + eps) ** 0.5\r\n",
    "    else:\r\n",
    "        assert len(X.shape) in (2, 4)\r\n",
    "        if len(X.shape) == 2:\r\n",
    "            # 使用全连接层的情况，计算特征维上的均值和方差\r\n",
    "            mean = paddle.mean(X)\r\n",
    "            var = paddle.mean(((X - mean) ** 2))\r\n",
    "        else:\r\n",
    "            # 使用二维卷积层的情况，计算通道维上（axis=1）的均值和方差。这里我们需要保持\r\n",
    "            # X的形状以便后面可以做广播运算\r\n",
    "            mean = paddle.mean(X, axis=(0, 2, 3), keepdim=True)\r\n",
    "            var = paddle.mean(((X - mean) ** 2), axis=(0, 2, 3), keepdim=True)\r\n",
    "        # 训练模式下用当前的均值和方差做标准化\r\n",
    "        X_hat = (X - mean) / (var + eps) ** 0.5\r\n",
    "        # 更新移动平均的均值和方差\r\n",
    "        moving_mean = momentum * moving_mean + (1.0 - momentum) * mean\r\n",
    "        moving_var = momentum * moving_var + (1.0 - momentum) * var\r\n",
    "    Y = gamma * X_hat + beta  # 拉伸和偏移\r\n",
    "    return Y, moving_mean, moving_var"
   ]
  },
  {
   "cell_type": "markdown",
   "metadata": {
    "collapsed": false
   },
   "source": [
    "我们现在可以[**创建一个正确的 `BatchNorm` 图层**]。\n",
    "这个层将保持适当的参数：拉伸 `gamma` 和偏移 `beta`, 这两个参数将在训练过程中更新。\n",
    "此外，我们的图层将保存均值和方差的移动平均值，以便在模型预测期间随后使用。\n",
    "\n",
    "撇开算法细节，注意我们实现图层的基础设计模式。\n",
    "通常情况下，我们用一个单独的函数定义其数学原理，比如说 `batch_norm`。\n",
    "然后，我们将此功能集成到一个自定义层中，其代码主要处理簿记问题，例如将数据移动到训练设备（如 GPU）、分配和初始化任何必需的变量、跟踪移动平均线（此处为均值和方差）等。\n",
    "为了方便起见，我们并不担心在这里自动推断输入形状，因此我们需要指定整个特征的数量。\n",
    "不用担心，深度学习框架中的批量归一化 API 将为我们解决上述问题，我们稍后将展示这一点。\n"
   ]
  },
  {
   "cell_type": "code",
   "execution_count": 2,
   "metadata": {
    "collapsed": false
   },
   "outputs": [],
   "source": [
    "class BatchNorm(nn.Layer):\n",
    "    def __init__(self, num_features, num_dims=4):\n",
    "        super(BatchNorm, self).__init__()\n",
    "        if num_dims == 2:\n",
    "            shape = (1, num_features)\n",
    "        else:\n",
    "            shape = (1, num_features, 1, 1)\n",
    "        # 参与求梯度和迭代的拉伸和偏移参数，分别初始化成1和0\n",
    "        self.gamma = self.create_parameter(\n",
    "            attr=None,\n",
    "            shape=shape,\n",
    "            dtype='float32',\n",
    "            is_bias=False,\n",
    "            default_initializer=nn.initializer.Assign(paddle.ones(shape=shape, dtype='float32')))\n",
    "        self.beta = self.create_parameter(\n",
    "            attr=None,\n",
    "            shape=shape,\n",
    "            dtype='float32',\n",
    "            is_bias=False,\n",
    "            default_initializer=nn.initializer.Assign(paddle.zeros(shape=shape, dtype='float32')))\n",
    "        self.moving_mean = paddle.zeros(shape=shape, dtype='float32')\n",
    "        self.moving_var = paddle.zeros(shape=shape, dtype='float32')\n",
    "\n",
    "    def forward(self, X):\n",
    "        # 保存更新过的moving_mean和moving_var\n",
    "        Y, self.moving_mean, self.moving_var = batch_norm(\n",
    "            X, self.gamma, self.beta, self.moving_mean,\n",
    "            self.moving_var, eps=1e-5, momentum=0.9, is_training=self.training)\n",
    "        return Y"
   ]
  },
  {
   "cell_type": "markdown",
   "metadata": {
    "collapsed": false
   },
   "source": [
    "##  使用批量归一化层的 LeNet\n",
    "\n",
    "为了更好理解如何[**应用`BatchNorm`**]，下面我们将其应用(**于LeNet模型**)（ :numref:`sec_lenet` ）。\n",
    "回想一下，批量归一化是在卷积层或全连接层之后、相应的激活函数之前应用的。\n"
   ]
  },
  {
   "cell_type": "code",
   "execution_count": 3,
   "metadata": {
    "collapsed": false
   },
   "outputs": [],
   "source": [
    "net = nn.Sequential(nn.Conv2D(1, 6, kernel_size=5), BatchNorm(6, num_dims=4),\n",
    "                    nn.Sigmoid(), nn.MaxPool2D(kernel_size=2, stride=2),\n",
    "                    nn.Conv2D(6, 16,\n",
    "                              kernel_size=5), BatchNorm(16, num_dims=4),\n",
    "                    nn.Sigmoid(), nn.MaxPool2D(kernel_size=2, stride=2),\n",
    "                    nn.Flatten(), nn.Linear(16 * 4 * 4, 120),\n",
    "                    BatchNorm(120, num_dims=2), nn.Sigmoid(),\n",
    "                    nn.Linear(120, 84), BatchNorm(84, num_dims=2),\n",
    "                    nn.Sigmoid(), nn.Linear(84, 10))"
   ]
  },
  {
   "cell_type": "markdown",
   "metadata": {
    "collapsed": false
   },
   "source": [
    "和以前一样，我们将[**在Fashion-MNIST数据集上训练网络**]。\n",
    "这个代码与我们第一次训练 LeNet（ :numref:`sec_lenet` ）时几乎完全相同，主要区别在于学习率大得多。\n"
   ]
  },
  {
   "cell_type": "code",
   "execution_count": 6,
   "metadata": {
    "collapsed": false
   },
   "outputs": [
    {
     "name": "stdout",
     "output_type": "stream",
     "text": [
      "The loss value printed in the log is the current step, and the metric is the average value of previous steps.\n",
      "Epoch 1/1\n",
      "step  50/235 - loss: 2.2436 - acc_top1: 0.1215 - acc_top5: 0.5621 - 353ms/step\n",
      "step 100/235 - loss: 1.0719 - acc_top1: 0.2729 - acc_top5: 0.7303 - 355ms/step\n",
      "step 150/235 - loss: 0.4733 - acc_top1: 0.4221 - acc_top5: 0.8178 - 357ms/step\n",
      "step 200/235 - loss: 0.4677 - acc_top1: 0.5150 - acc_top5: 0.8622 - 358ms/step\n",
      "step 235/235 - loss: 0.5876 - acc_top1: 0.5559 - acc_top5: 0.8815 - 357ms/step\n",
      "Eval begin...\n",
      "step 40/40 - loss: 0.2989 - acc_top1: 0.8103 - acc_top5: 0.9934 - 70ms/step\n",
      "Eval samples: 10000\n"
     ]
    }
   ],
   "source": [
    "import paddle.vision.transforms as T\n",
    "from paddle.vision.datasets import FashionMNIST\n",
    "\n",
    "lr, num_epochs, batch_size = 0.01, 10, 256\n",
    "\n",
    "# 数据集处理\n",
    "transform = T.Compose([\n",
    "    T.Resize(28),\n",
    "    T.Transpose(),\n",
    "    T.Normalize([127.5], [127.5]),\n",
    "])\n",
    "# 数据集定义\n",
    "train_dataset = FashionMNIST(mode='train', transform=transform)\n",
    "val_dataset = FashionMNIST(mode='test', transform=transform)\n",
    "\n",
    "model = paddle.Model(net)\n",
    "model.prepare(\n",
    "    paddle.optimizer.Adam(learning_rate=lr, parameters=model.parameters()),\n",
    "    paddle.nn.CrossEntropyLoss(),\n",
    "    paddle.metric.Accuracy(topk=(1, 5)))\n",
    "# 模型训练\n",
    "callback = paddle.callbacks.VisualDL(log_dir='visualdl_log_dir')\n",
    "# model.fit(train_dataset, val_dataset, epochs=num_epochs, batch_size=batch_size, log_freq=200, callbacks=callback)\n",
    "model.fit(train_dataset, val_dataset, epochs=1, batch_size=batch_size, log_freq=50)"
   ]
  },
  {
   "cell_type": "markdown",
   "metadata": {
    "collapsed": false
   },
   "source": [
    "让我们来看看从第一个批量归一化层中学到的[**拉伸参数 `gamma` 和偏移参数 `beta`**]。\n"
   ]
  },
  {
   "cell_type": "code",
   "execution_count": 7,
   "metadata": {
    "collapsed": false
   },
   "outputs": [
    {
     "name": "stdout",
     "output_type": "stream",
     "text": [
      "gamma: [1.6432397 1.1249553 0.8953399 1.324267  0.8571305 1.1089735]\n",
      "beta: [ 1.2687474   0.5498763  -0.06228167 -0.03667813 -1.1376053  -0.95298374]\n"
     ]
    }
   ],
   "source": [
    "param = net.parameters()\r\n",
    "print('gamma:', param[2].numpy().reshape(-1))\r\n",
    "print('beta:', param[3].numpy().reshape(-1))"
   ]
  },
  {
   "cell_type": "markdown",
   "metadata": {
    "collapsed": false
   },
   "source": [
    "## [**简明实现**]\n",
    "\n",
    "除了使用我们刚刚定义的 `BatchNorm` ，我们也可以直接使用深度学习框架中定义的 `BatchNorm` 。\n",
    "该代码看起来几乎与我们上面的代码相同。\n"
   ]
  },
  {
   "cell_type": "code",
   "execution_count": 8,
   "metadata": {
    "collapsed": false
   },
   "outputs": [],
   "source": [
    "net = nn.Sequential(nn.Conv2D(1, 6, kernel_size=5), nn.BatchNorm2D(6),\n",
    "                    nn.Sigmoid(), nn.MaxPool2D(kernel_size=2, stride=2),\n",
    "                    nn.Conv2D(6, 16, kernel_size=5), nn.BatchNorm2D(16),\n",
    "                    nn.Sigmoid(), nn.MaxPool2D(kernel_size=2, stride=2),\n",
    "                    nn.Flatten(), nn.Linear(256, 120), nn.BatchNorm1D(120),\n",
    "                    nn.Sigmoid(), nn.Linear(120, 84), nn.BatchNorm1D(84),\n",
    "                    nn.Sigmoid(), nn.Linear(84, 10))"
   ]
  },
  {
   "cell_type": "markdown",
   "metadata": {
    "collapsed": false
   },
   "source": [
    "下面，我们[**使用相同超参数来训练模型**]。\n",
    "请注意，通常高级 API 变体运行速度快得多，因为它的代码已编译为 C++ 或 CUDA，而我们的自定义代码由 Python 实现。\n"
   ]
  },
  {
   "cell_type": "code",
   "execution_count": 9,
   "metadata": {
    "collapsed": false
   },
   "outputs": [
    {
     "name": "stdout",
     "output_type": "stream",
     "text": [
      "The loss value printed in the log is the current step, and the metric is the average value of previous steps.\n",
      "Epoch 1/1\n",
      "step  50/235 - loss: 0.5074 - acc_top1: 0.7552 - acc_top5: 0.9752 - 65ms/step\n",
      "step 100/235 - loss: 0.4718 - acc_top1: 0.7970 - acc_top5: 0.9856 - 63ms/step\n",
      "step 150/235 - loss: 0.3542 - acc_top1: 0.8168 - acc_top5: 0.9892 - 63ms/step\n",
      "step 200/235 - loss: 0.3185 - acc_top1: 0.8286 - acc_top5: 0.9911 - 63ms/step\n",
      "step 235/235 - loss: 0.3396 - acc_top1: 0.8325 - acc_top5: 0.9918 - 63ms/step\n",
      "Eval begin...\n",
      "step 40/40 - loss: 0.5915 - acc_top1: 0.8254 - acc_top5: 0.9938 - 24ms/step\n",
      "Eval samples: 10000\n"
     ]
    }
   ],
   "source": [
    "import paddle.vision.transforms as T\r\n",
    "from paddle.vision.datasets import FashionMNIST\r\n",
    "\r\n",
    "lr, num_epochs, batch_size = 0.01, 10, 256\r\n",
    "\r\n",
    "# 数据集处理\r\n",
    "transform = T.Compose([\r\n",
    "    T.Resize(28),\r\n",
    "    T.Transpose(),\r\n",
    "    T.Normalize([127.5], [127.5]),\r\n",
    "])\r\n",
    "# 数据集定义\r\n",
    "train_dataset = FashionMNIST(mode='train', transform=transform)\r\n",
    "val_dataset = FashionMNIST(mode='test', transform=transform)\r\n",
    "\r\n",
    "model = paddle.Model(net)\r\n",
    "model.prepare(\r\n",
    "    paddle.optimizer.Adam(learning_rate=lr, parameters=model.parameters()),\r\n",
    "    paddle.nn.CrossEntropyLoss(),\r\n",
    "    paddle.metric.Accuracy(topk=(1, 5)))\r\n",
    "# 模型训练\r\n",
    "callback = paddle.callbacks.VisualDL(log_dir='visualdl_log_dir')\r\n",
    "# model.fit(train_dataset, val_dataset, epochs=num_epochs, batch_size=batch_size, log_freq=200, callbacks=callback)\r\n",
    "model.fit(train_dataset, val_dataset, epochs=1, batch_size=batch_size, log_freq=50)"
   ]
  },
  {
   "cell_type": "markdown",
   "metadata": {
    "collapsed": false
   },
   "source": [
    "## 争议\n",
    "\n",
    "直观地说，批量归一化被认为可以使优化更加平滑。\n",
    "然而，我们必须小心区分投机直觉和对我们观察到的现象的真实解释。\n",
    "回想一下，我们甚至不知道为什么简单的神经网络（多层感知机和传统的卷积神经网络）为什么如此有效。\n",
    "即使在 dropout 和权重衰减的情况下，它们仍然非常灵活，因此无法通过传统的学习理论泛化保证来解释它们是否能够概括到看不见的数据。\n",
    "\n",
    "在提出批量归一化的论文中，作者除了介绍了其应用，还解释了其原理：通过减少 *内部协变量偏移*（internal covariate shift）。\n",
    "据推测，作者所说的“内部协变量转移”类似于上述的投机直觉，即变量值的分布在训练过程中会发生变化。\n",
    "然而，这种解释有两个问题：\n",
    "i）这种偏移与严格定义的 *协变量偏移*（covariate shift）非常不同，所以这个名字用词不当。\n",
    "ii）这种解释只提供了一种不明确的直觉，但留下了一个有待后续挖掘的问题：为什么这项技术如此有效？。\n",
    "本书旨在传达实践者用来发展深层神经网络的直觉。\n",
    "然而，重要的是将这些指导性直觉与既定的科学事实区分开来。\n",
    "最终，当你掌握了这些方法，并开始撰写自己的研究论文时，你会希望清楚地区分技术和直觉。\n",
    "\n",
    "随着批量归一化的普及，“内部协变量偏移”的解释反复出现在技术文献的辩论，特别是关于“如何展示机器学习研究”的更广泛的讨论中。\n",
    "Ali Rahimi 在接受 2017 年 NeurIPS 大会的“接受时间考验奖”（Test of Time Award）时发表了一篇令人难忘的演讲。他将“内部协变量转移”作为焦点，将现代深度学习的实践比作炼金术。\n",
    "他对该示例进行了详细回顾 :cite:`Lipton.Steinhardt.2018` ，概述了机器学习中令人不安的趋势。\n",
    "此外，一些作者对批量归一化的成功提出了另一种解释：在某些方面，批量归一化的表现出与原始论文 :cite:`Santurkar.Tsipras.Ilyas.ea.2018` 中声称的行为是相反的。\n",
    "\n",
    "然而，与技术机器学习文献中成千上万类似模糊的声明相比，内部协变量偏移没有什么更值得批评。\n",
    "很可能，它作为这些辩论的焦点而产生共鸣，要归功于它对目标受众的广泛认可。\n",
    "批量归一化已经证明是一种不可或缺的方法，适用于几乎所有图像分类器，在学术界获得了数万引用。\n",
    "\n",
    "\n",
    "\n",
    "## 小结\n",
    "\n",
    "* 在模型训练过程中，批量归一化利用小批量的均值和标准差，不断调整神经网络的中间输出，使整个神经网络各层的中间输出值更加稳定。\n",
    "* 批量归一化在全连接层和卷积层的使用略有不同。\n",
    "* 批量归一化层和 dropout 层一样，在训练模式和预测模式下计算不同。\n",
    "* 批量归一化有许多有益的副作用，主要是正则化。另一方面，”减少内部协变量偏移“的原始动机似乎不是一个有效的解释。\n",
    "\n",
    "\n",
    "## 练习\n",
    "\n",
    "1. 在使用批量归一化之前，我们是否可以从全连接层或卷积层中删除偏置参数？为什么？\n",
    "1. 比较LeNet在使用和不使用批量归一化情况下的学习率。\n",
    "    1. 绘制训练和测试准确度的提高。\n",
    "    1. 你的学习率有多高？\n",
    "1. 我们是否需要在每个层中进行批量归一化？尝试一下？\n",
    "1. 你可以通过批量归一化来替换 dropout 吗？行为如何改变？\n",
    "1. 确定参数 `beta` 和 `gamma`，并观察和分析结果。\n",
    "1. 查看高级 API 中有关 `BatchNorm` 的在线文档，以查看其他批量归一化的应用。\n",
    "1. 研究思路：想想你可以应用的其他“归一化”转换？你可以应用概率积分变换吗？全秩协方差估计如何？\n"
   ]
  },
  {
   "cell_type": "markdown",
   "metadata": {
    "collapsed": false
   },
   "source": [
    "[Discussions](https://discuss.d2l.ai/t/1874)\n"
   ]
  }
 ],
 "metadata": {
  "kernelspec": {
   "display_name": "PaddlePaddle 2.1.0 (Python 3.5)",
   "language": "python",
   "name": "py35-paddle1.2.0"
  },
  "language_info": {
   "codemirror_mode": {
    "name": "ipython",
    "version": 3
   },
   "file_extension": ".py",
   "mimetype": "text/x-python",
   "name": "python",
   "nbconvert_exporter": "python",
   "pygments_lexer": "ipython3",
   "version": "3.7.4"
  }
 },
 "nbformat": 4,
 "nbformat_minor": 1
}
